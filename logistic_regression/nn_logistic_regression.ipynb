{
 "cells": [
  {
   "cell_type": "code",
   "execution_count": 1,
   "outputs": [],
   "source": [
    "import matplotlib.pyplot as plt\n",
    "from lr_nn_steps import *\n",
    "import matplotlib.pyplot as plt\n",
    "import pickle\n",
    "import time\n",
    "from lr_utils import plot_and_save"
   ],
   "metadata": {
    "collapsed": false,
    "pycharm": {
     "name": "#%%\n"
    }
   }
  },
  {
   "cell_type": "code",
   "execution_count": 5,
   "outputs": [],
   "source": [
    "#device = torch.device('cuda' if torch.cuda.is_available() else 'cpu')\n",
    "device = torch.device('cpu')\n",
    "\n",
    "\n",
    "def run_lr_algo(d, r, b, sigma,\n",
    "                lr_r, lr_f, beta_r, beta_f,\n",
    "                m, avg_frac, stop_frac, T_r, T_f,\n",
    "                times):\n",
    "    x = torch.randn(b, 1, d).to(device) * sigma\n",
    "    regrets = torch.zeros([times, m+1])\n",
    "    for t in range(times):\n",
    "        start_time = time.time()\n",
    "        print(f\"### Exp={t} ###\")\n",
    "        R, f, p, o, regrets_t = algorithm(x=x, r=r,\n",
    "                                       lr_r=lr_r, lr_f=lr_f, beta_f=beta_f, beta_r=beta_r,\n",
    "                                       m=m, T_r=T_r, T_f=T_f, avg_frac=avg_frac, stop_frac=stop_frac)\n",
    "        regrets[t, :] = regrets_t\n",
    "        print(regrets_t)\n",
    "        run_time_seconds = time.time() - start_time\n",
    "        print(f\"Running Time: {run_time_seconds // 60}:{run_time_seconds % 60}\")\n",
    "\n",
    "    return regrets"
   ],
   "metadata": {
    "collapsed": false,
    "pycharm": {
     "name": "#%%\n"
    }
   }
  },
  {
   "cell_type": "code",
   "execution_count": null,
   "outputs": [],
   "source": [
    "b = 100\n",
    "d = 15\n",
    "r = 3\n",
    "sigma=1\n",
    "\n",
    "lr_r = 1e-3\n",
    "lr_f = 1e-1\n",
    "beta_r = 0.9\n",
    "beta_f = 0.9\n",
    "\n",
    "m = 10\n",
    "avg_frac=4\n",
    "stop_frac=4\n",
    "T_r=100\n",
    "T_f=1000\n",
    "\n",
    "times = 10"
   ],
   "metadata": {
    "collapsed": false,
    "pycharm": {
     "name": "#%%\n"
    }
   }
  },
  {
   "cell_type": "code",
   "execution_count": 16,
   "outputs": [
    {
     "data": {
      "text/plain": "<Figure size 432x288 with 1 Axes>",
      "image/png": "[encoded data removed]"
     },
     "metadata": {
      "needs_background": "light"
     },
     "output_type": "display_data"
    }
   ],
   "source": [
    "plt.grid()\n",
    "plt.boxplot(regrets.detach().numpy())\n",
    "plt.ylabel('Regret')\n",
    "plt.xlabel('#Iteration')\n",
    "plt.savefig('NN-log-loss_regret-vs-iteration.png')\n",
    "\n",
    "f = open('NN-log-loss_regret-vs-iter.p', 'wb')\n",
    "pickle.dump(regrets, f)\n",
    "f.close()\n"
   ],
   "metadata": {
    "collapsed": false,
    "pycharm": {
     "name": "#%%\n"
    }
   }
  },
  {
   "cell_type": "code",
   "execution_count": null,
   "outputs": [],
   "source": [
    "regrets = run_lr_algo(d=d, r=r, b=b, sigma=sigma,\n",
    "                      lr_r=lr_r, lr_f=lr_f, beta_r=beta_r, beta_f=beta_f,\n",
    "                      m=m, avg_frac=avg_frac, stop_frac=stop_frac, T_r=T_r, T_f=T_f,\n",
    "                      times=times)\n",
    "\n",
    "plt.grid()\n",
    "plt.title(\"logistic regression regret vs iteration\")\n",
    "plt.xlabel(\"#Iteration\")\n",
    "plt.ylabel(\"Regret\")\n",
    "plt.plot(range(m+1), regrets.T.mean(axis=1), label=r\"$d$=\"+f\"{d}\")\n",
    "plt.fill_between(range(m+1),\n",
    "                 regrets.T.mean(axis=1)+regrets.T.std(axis=1), regrets.T.mean(axis=1)-regrets.T.std(axis=1),\n",
    "                 color='r', alpha=0.5)\n",
    "plt.legend()\n",
    "name = f\"nn-log-reg_reg-vs-iter_d={d}_r={r}_b={b}\"\n",
    "plt.savefig(f\"{name}.png\")\n",
    "pickle.dump(regrets, open(f'{name}.p', 'wb'))\n",
    "plt.clf()"
   ],
   "metadata": {
    "collapsed": false,
    "pycharm": {
     "name": "#%%\n"
    }
   }
  },
  {
   "cell_type": "code",
   "execution_count": null,
   "outputs": [],
   "source": [
    "max_m = 10\n",
    "m_step = 3\n",
    "\n",
    "d_start = 5\n",
    "d_max = 20\n",
    "d_step = 3\n",
    "\n",
    "m_list = list(range(1, max_m+1, m_step))\n",
    "d_list = list(range(d_start, d_max+1, d_step))\n",
    "\n",
    "mean_regrets = np.zeros([len(m_list), len(d_list)])\n",
    "std_regrets = np.zeros([len(m_list), len(d_list)])\n",
    "for m_idx, m in enumerate(m_list):\n",
    "    for d_idx, d in enumerate(d_list):\n",
    "        print(f\"*** m={m}, d={d} ***\")\n",
    "        regrets = run_lr_algo(d=d, r=r, b=b, sigma=sigma,\n",
    "                              lr_r=lr_r, lr_f=lr_f, beta_r=beta_r, beta_f=beta_f,\n",
    "                              m=m, avg_frac=avg_frac, stop_frac=stop_frac, T_r=T_r, T_f=T_f,\n",
    "                              times=times)\n",
    "        mean_regrets[m_idx, d_idx] = regrets.min(axis=1).mean()\n",
    "        std_regrets[m_idx, d_idx] = regrets.min(axis=1).std()\n",
    "\n",
    "\n",
    "plot_and_save(x_axis=d_list, mean_regrets=mean_regrets, std_regrets=std_regrets,\n",
    "              label_char=r\"$m$\", labels_val=m_list, x_label=r'$d$', y_label=f'Regret',\n",
    "              title=r\"logistic regression regret vs $d$\"+f\"_r={r}\",\n",
    "              name=f\"nn-reg-vs-d_r={r}_b={b}\")"
   ],
   "metadata": {
    "collapsed": false,
    "pycharm": {
     "name": "#%%\n"
    }
   }
  },
  {
   "cell_type": "code",
   "execution_count": null,
   "outputs": [],
   "source": [
    "max_m = 10\n",
    "m_step = 3\n",
    "\n",
    "s_start = 0.5\n",
    "s_max = 3\n",
    "s_step = 0.5\n",
    "\n",
    "m_list = list(range(1, max_m+1, m_step))\n",
    "s_list = np.linspace(s_start, s_max, int((s_max-s_start)/s_step)+1)\n",
    "\n",
    "mean_regrets = np.zeros([len(m_list), len(d_list)])\n",
    "std_regrets = np.zeros([len(m_list), len(d_list)])\n",
    "for m_idx, m in enumerate(m_list):\n",
    "    for s_idx, sigma in enumerate(s_list):\n",
    "        print(f\"*** m={m}, sigma={sigma} ***\")\n",
    "        regrets = run_lr_algo(d=d, r=r, b=b, sigma=sigma,\n",
    "                              lr_r=lr_r, lr_f=lr_f, beta_r=beta_r, beta_f=beta_f,\n",
    "                              m=m, avg_frac=avg_frac, stop_frac=stop_frac, T_r=T_r, T_f=T_f,\n",
    "                              times=times)\n",
    "        mean_regrets[m_idx, s_idx] = regrets.min(axis=1).mean()\n",
    "        std_regrets[m_idx, s_idx] = regrets.min(axis=1).std()\n",
    "\n",
    "\n",
    "plot_and_save(x_axis=s_list, mean_regrets=mean_regrets, std_regrets=std_regrets,\n",
    "              label_char=r\"$m$\", labels_val=m_list, x_label=r'$\\sigma_0^2$', y_label=f'Regret',\n",
    "              title=r\"logistic regression regret vs $\\sigma_0^2$\"+f\"_r={r}\",\n",
    "              name=f\"nn-reg-vs-sigma_r={r}_b={b}\")"
   ],
   "metadata": {
    "collapsed": false,
    "pycharm": {
     "name": "#%%\n"
    }
   }
  }
 ],
 "metadata": {
  "kernelspec": {
   "display_name": "Python 3",
   "language": "python",
   "name": "python3"
  },
  "language_info": {
   "codemirror_mode": {
    "name": "ipython",
    "version": 2
   },
   "file_extension": ".py",
   "mimetype": "text/x-python",
   "name": "python",
   "nbconvert_exporter": "python",
   "pygments_lexer": "ipython2",
   "version": "2.7.6"
  }
 },
 "nbformat": 4,
 "nbformat_minor": 0
}