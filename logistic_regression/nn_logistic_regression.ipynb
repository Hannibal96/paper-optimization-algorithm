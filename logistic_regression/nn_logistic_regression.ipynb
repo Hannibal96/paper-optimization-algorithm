{
 "cells": [
  {
   "cell_type": "code",
   "execution_count": 1,
   "outputs": [],
   "source": [
    "import matplotlib.pyplot as plt\n",
    "import numpy as np\n",
    "\n",
    "from lr_nn_steps import *\n",
    "import matplotlib.pyplot as plt\n",
    "import pickle\n",
    "import time\n",
    "from lr_utils import plot_and_save"
   ],
   "metadata": {
    "collapsed": false,
    "pycharm": {
     "name": "#%%\n"
    }
   }
  },
  {
   "cell_type": "code",
   "execution_count": 2,
   "outputs": [],
   "source": [
    "#device = torch.device('cuda' if torch.cuda.is_available() else 'cpu')\n",
    "device = torch.device('cpu')\n",
    "\n",
    "\n",
    "def run_lr_algo(d, r, b, sigma,\n",
    "                lr_r, lr_f, beta_r, beta_f,\n",
    "                m, avg_frac, stop_frac, T_r, T_f,\n",
    "                times):\n",
    "    x = torch.randn(b, 1, d).to(device) * sigma\n",
    "    regrets = torch.zeros([times, m+1])\n",
    "    for t in range(times):\n",
    "        start_time = time.time()\n",
    "        print(f\"### Exp={t} ###\")\n",
    "        R, f, p, o, regrets_t = algorithm(x=x, r=r,\n",
    "                                       lr_r=lr_r, lr_f=lr_f, beta_f=beta_f, beta_r=beta_r,\n",
    "                                       m=m, T_r=T_r, T_f=T_f, avg_frac=avg_frac, stop_frac=stop_frac)\n",
    "        regrets[t, :] = regrets_t\n",
    "        print(regrets_t)\n",
    "        run_time_seconds = time.time() - start_time\n",
    "        print(f\"Running Time: {run_time_seconds // 60}:{run_time_seconds % 60}\")\n",
    "\n",
    "    return regrets"
   ],
   "metadata": {
    "collapsed": false,
    "pycharm": {
     "name": "#%%\n"
    }
   }
  },
  {
   "cell_type": "code",
   "execution_count": 3,
   "outputs": [],
   "source": [
    "b = 100\n",
    "d = 10\n",
    "r = 2\n",
    "sigma=1\n",
    "\n",
    "lr_r = 1e-3\n",
    "lr_f = 1e-1\n",
    "beta_r = 0.9\n",
    "beta_f = 0.9\n",
    "\n",
    "m = 10\n",
    "avg_frac=4\n",
    "stop_frac=4\n",
    "T_r=100\n",
    "T_f=1000\n",
    "\n",
    "times = 10"
   ],
   "metadata": {
    "collapsed": false,
    "pycharm": {
     "name": "#%%\n"
    }
   }
  },
  {
   "cell_type": "code",
   "execution_count": 4,
   "outputs": [
    {
     "ename": "NameError",
     "evalue": "name 'regrets' is not defined",
     "output_type": "error",
     "traceback": [
      "\u001B[1;31m---------------------------------------------------------------------------\u001B[0m",
      "\u001B[1;31mNameError\u001B[0m                                 Traceback (most recent call last)",
      "\u001B[1;32m<ipython-input-4-2438cb6c834d>\u001B[0m in \u001B[0;36m<module>\u001B[1;34m\u001B[0m\n\u001B[0;32m      2\u001B[0m \u001B[0mplt\u001B[0m\u001B[1;33m.\u001B[0m\u001B[0mxlabel\u001B[0m\u001B[1;33m(\u001B[0m\u001B[1;34m'#Iteration'\u001B[0m\u001B[1;33m)\u001B[0m\u001B[1;33m\u001B[0m\u001B[1;33m\u001B[0m\u001B[0m\n\u001B[0;32m      3\u001B[0m \u001B[0mplt\u001B[0m\u001B[1;33m.\u001B[0m\u001B[0mylabel\u001B[0m\u001B[1;33m(\u001B[0m\u001B[1;34m'Regret'\u001B[0m\u001B[1;33m)\u001B[0m\u001B[1;33m\u001B[0m\u001B[1;33m\u001B[0m\u001B[0m\n\u001B[1;32m----> 4\u001B[1;33m \u001B[0mplt\u001B[0m\u001B[1;33m.\u001B[0m\u001B[0mboxplot\u001B[0m\u001B[1;33m(\u001B[0m\u001B[0mnp\u001B[0m\u001B[1;33m.\u001B[0m\u001B[0marray\u001B[0m\u001B[1;33m(\u001B[0m\u001B[0mregrets\u001B[0m\u001B[1;33m.\u001B[0m\u001B[0mdetach\u001B[0m\u001B[1;33m(\u001B[0m\u001B[1;33m)\u001B[0m\u001B[1;33m.\u001B[0m\u001B[0mnumpy\u001B[0m\u001B[1;33m(\u001B[0m\u001B[1;33m)\u001B[0m\u001B[1;33m)\u001B[0m\u001B[1;33m)\u001B[0m\u001B[1;33m\u001B[0m\u001B[1;33m\u001B[0m\u001B[0m\n\u001B[0m\u001B[0;32m      5\u001B[0m \u001B[0mplt\u001B[0m\u001B[1;33m.\u001B[0m\u001B[0msavefig\u001B[0m\u001B[1;33m(\u001B[0m\u001B[1;34m'log-loss-NN_reg-vs-m.png'\u001B[0m\u001B[1;33m)\u001B[0m\u001B[1;33m\u001B[0m\u001B[1;33m\u001B[0m\u001B[0m\n\u001B[0;32m      6\u001B[0m \u001B[1;33m\u001B[0m\u001B[0m\n",
      "\u001B[1;31mNameError\u001B[0m: name 'regrets' is not defined"
     ]
    },
    {
     "data": {
      "text/plain": "<Figure size 432x288 with 1 Axes>",
      "image/png": "[encoded data removed]"
     },
     "metadata": {
      "needs_background": "light"
     },
     "output_type": "display_data"
    }
   ],
   "source": [
    "plt.grid()\n",
    "plt.xlabel('#Iteration')\n",
    "plt.ylabel('Regret')\n",
    "plt.boxplot(np.array(regrets.detach().numpy()))\n",
    "plt.savefig('log-loss-NN_reg-vs-m.png')\n"
   ],
   "metadata": {
    "collapsed": false,
    "pycharm": {
     "name": "#%%\n"
    }
   }
  },
  {
   "cell_type": "code",
   "execution_count": 5,
   "outputs": [
    {
     "name": "stdout",
     "output_type": "stream",
     "text": [
      "### Exp=0 ###\n",
      "m=0\n",
      "m=1\n",
      "m=2\n",
      "m=3\n",
      "m=4\n",
      "m=5\n",
      "m=6\n",
      "m=7\n",
      "m=8\n",
      "m=9\n",
      "tensor([0.6888, 0.6538, 0.5792, 0.6000, 0.6830, 0.6654, 0.6668, 0.5702, 0.5925,\n",
      "        0.6381, 0.6491], grad_fn=<CopySlices>)\n",
      "Running Time: 32.0:6.165142297744751\n",
      "### Exp=1 ###\n",
      "m=0\n",
      "m=1\n",
      "m=2\n",
      "m=3\n",
      "m=4\n"
     ]
    },
    {
     "ename": "KeyboardInterrupt",
     "evalue": "",
     "output_type": "error",
     "traceback": [
      "\u001B[1;31m---------------------------------------------------------------------------\u001B[0m",
      "\u001B[1;31mKeyboardInterrupt\u001B[0m                         Traceback (most recent call last)",
      "\u001B[1;32m<ipython-input-5-5d3a88ba3612>\u001B[0m in \u001B[0;36m<module>\u001B[1;34m\u001B[0m\n\u001B[0;32m      2\u001B[0m                       \u001B[0mlr_r\u001B[0m\u001B[1;33m=\u001B[0m\u001B[0mlr_r\u001B[0m\u001B[1;33m,\u001B[0m \u001B[0mlr_f\u001B[0m\u001B[1;33m=\u001B[0m\u001B[0mlr_f\u001B[0m\u001B[1;33m,\u001B[0m \u001B[0mbeta_r\u001B[0m\u001B[1;33m=\u001B[0m\u001B[0mbeta_r\u001B[0m\u001B[1;33m,\u001B[0m \u001B[0mbeta_f\u001B[0m\u001B[1;33m=\u001B[0m\u001B[0mbeta_f\u001B[0m\u001B[1;33m,\u001B[0m\u001B[1;33m\u001B[0m\u001B[1;33m\u001B[0m\u001B[0m\n\u001B[0;32m      3\u001B[0m                       \u001B[0mm\u001B[0m\u001B[1;33m=\u001B[0m\u001B[0mm\u001B[0m\u001B[1;33m,\u001B[0m \u001B[0mavg_frac\u001B[0m\u001B[1;33m=\u001B[0m\u001B[0mavg_frac\u001B[0m\u001B[1;33m,\u001B[0m \u001B[0mstop_frac\u001B[0m\u001B[1;33m=\u001B[0m\u001B[0mstop_frac\u001B[0m\u001B[1;33m,\u001B[0m \u001B[0mT_r\u001B[0m\u001B[1;33m=\u001B[0m\u001B[0mT_r\u001B[0m\u001B[1;33m,\u001B[0m \u001B[0mT_f\u001B[0m\u001B[1;33m=\u001B[0m\u001B[0mT_f\u001B[0m\u001B[1;33m,\u001B[0m\u001B[1;33m\u001B[0m\u001B[1;33m\u001B[0m\u001B[0m\n\u001B[1;32m----> 4\u001B[1;33m                       times=times)\n\u001B[0m\u001B[0;32m      5\u001B[0m \u001B[1;33m\u001B[0m\u001B[0m\n\u001B[0;32m      6\u001B[0m \u001B[0mplt\u001B[0m\u001B[1;33m.\u001B[0m\u001B[0mgrid\u001B[0m\u001B[1;33m(\u001B[0m\u001B[1;33m)\u001B[0m\u001B[1;33m\u001B[0m\u001B[1;33m\u001B[0m\u001B[0m\n",
      "\u001B[1;32m<ipython-input-2-1dcb09878db9>\u001B[0m in \u001B[0;36mrun_lr_algo\u001B[1;34m(d, r, b, sigma, lr_r, lr_f, beta_r, beta_f, m, avg_frac, stop_frac, T_r, T_f, times)\u001B[0m\n\u001B[0;32m     14\u001B[0m         R, f, p, o, regrets_t = algorithm(x=x, r=r,\n\u001B[0;32m     15\u001B[0m                                        \u001B[0mlr_r\u001B[0m\u001B[1;33m=\u001B[0m\u001B[0mlr_r\u001B[0m\u001B[1;33m,\u001B[0m \u001B[0mlr_f\u001B[0m\u001B[1;33m=\u001B[0m\u001B[0mlr_f\u001B[0m\u001B[1;33m,\u001B[0m \u001B[0mbeta_f\u001B[0m\u001B[1;33m=\u001B[0m\u001B[0mbeta_f\u001B[0m\u001B[1;33m,\u001B[0m \u001B[0mbeta_r\u001B[0m\u001B[1;33m=\u001B[0m\u001B[0mbeta_r\u001B[0m\u001B[1;33m,\u001B[0m\u001B[1;33m\u001B[0m\u001B[1;33m\u001B[0m\u001B[0m\n\u001B[1;32m---> 16\u001B[1;33m                                        m=m, T_r=T_r, T_f=T_f, avg_frac=avg_frac, stop_frac=stop_frac)\n\u001B[0m\u001B[0;32m     17\u001B[0m         \u001B[0mregrets\u001B[0m\u001B[1;33m[\u001B[0m\u001B[0mt\u001B[0m\u001B[1;33m,\u001B[0m \u001B[1;33m:\u001B[0m\u001B[1;33m]\u001B[0m \u001B[1;33m=\u001B[0m \u001B[0mregrets_t\u001B[0m\u001B[1;33m\u001B[0m\u001B[1;33m\u001B[0m\u001B[0m\n\u001B[0;32m     18\u001B[0m         \u001B[0mprint\u001B[0m\u001B[1;33m(\u001B[0m\u001B[0mregrets_t\u001B[0m\u001B[1;33m)\u001B[0m\u001B[1;33m\u001B[0m\u001B[1;33m\u001B[0m\u001B[0m\n",
      "\u001B[1;32m~\\Desktop\\masters\\thesis material\\paper-optimization-algorithm\\logistic_regression\\lr_nn_steps.py\u001B[0m in \u001B[0;36malgorithm\u001B[1;34m(x, r, lr_r, lr_f, beta_f, beta_r, m, T_r, T_f, avg_frac, stop_frac)\u001B[0m\n\u001B[0;32m    112\u001B[0m                              avg_frac=avg_frac, stop_frac=stop_frac, tol=1e-3)\n\u001B[0;32m    113\u001B[0m         \u001B[0mR\u001B[0m\u001B[1;33m.\u001B[0m\u001B[0mappend\u001B[0m\u001B[1;33m(\u001B[0m\u001B[0mnew_R\u001B[0m\u001B[1;33m)\u001B[0m\u001B[1;33m\u001B[0m\u001B[1;33m\u001B[0m\u001B[0m\n\u001B[1;32m--> 114\u001B[1;33m         \u001B[0mnew_f\u001B[0m\u001B[1;33m,\u001B[0m \u001B[0mreg\u001B[0m \u001B[1;33m=\u001B[0m \u001B[0mfind_f\u001B[0m\u001B[1;33m(\u001B[0m\u001B[0mx\u001B[0m\u001B[1;33m=\u001B[0m\u001B[0mx\u001B[0m\u001B[1;33m,\u001B[0m \u001B[0mR\u001B[0m\u001B[1;33m=\u001B[0m\u001B[0mR\u001B[0m\u001B[1;33m,\u001B[0m \u001B[0mp\u001B[0m\u001B[1;33m=\u001B[0m\u001B[0mp\u001B[0m\u001B[1;33m,\u001B[0m \u001B[0mlr\u001B[0m\u001B[1;33m=\u001B[0m\u001B[0mlr_f\u001B[0m\u001B[1;33m,\u001B[0m \u001B[0mtol\u001B[0m\u001B[1;33m=\u001B[0m\u001B[1;36m1e-3\u001B[0m\u001B[1;33m,\u001B[0m \u001B[0mT\u001B[0m\u001B[1;33m=\u001B[0m\u001B[0mT_f\u001B[0m\u001B[1;33m)\u001B[0m\u001B[1;33m\u001B[0m\u001B[1;33m\u001B[0m\u001B[0m\n\u001B[0m\u001B[0;32m    115\u001B[0m         \u001B[0mf\u001B[0m\u001B[1;33m.\u001B[0m\u001B[0mappend\u001B[0m\u001B[1;33m(\u001B[0m\u001B[0mnew_f\u001B[0m\u001B[1;33m)\u001B[0m\u001B[1;33m\u001B[0m\u001B[1;33m\u001B[0m\u001B[0m\n\u001B[0;32m    116\u001B[0m         \u001B[0mregrets\u001B[0m\u001B[1;33m[\u001B[0m\u001B[0mi\u001B[0m\u001B[1;33m+\u001B[0m\u001B[1;36m1\u001B[0m\u001B[1;33m]\u001B[0m \u001B[1;33m=\u001B[0m \u001B[0mreg\u001B[0m\u001B[1;33m\u001B[0m\u001B[1;33m\u001B[0m\u001B[0m\n",
      "\u001B[1;32m~\\Desktop\\masters\\thesis material\\paper-optimization-algorithm\\logistic_regression\\lr_nn_steps.py\u001B[0m in \u001B[0;36mfind_f\u001B[1;34m(lr, R, p, x, tol, T)\u001B[0m\n\u001B[0;32m     25\u001B[0m \u001B[1;33m\u001B[0m\u001B[0m\n\u001B[0;32m     26\u001B[0m     \u001B[1;32mfor\u001B[0m \u001B[0mt\u001B[0m \u001B[1;32min\u001B[0m \u001B[0mrange\u001B[0m\u001B[1;33m(\u001B[0m\u001B[0mT\u001B[0m\u001B[1;33m)\u001B[0m\u001B[1;33m:\u001B[0m\u001B[1;33m\u001B[0m\u001B[1;33m\u001B[0m\u001B[0m\n\u001B[1;32m---> 27\u001B[1;33m         \u001B[0mQ\u001B[0m \u001B[1;33m=\u001B[0m \u001B[0mfind_Q\u001B[0m\u001B[1;33m(\u001B[0m\u001B[0mr\u001B[0m\u001B[1;33m=\u001B[0m\u001B[0mr\u001B[0m\u001B[1;33m,\u001B[0m \u001B[0mx\u001B[0m\u001B[1;33m=\u001B[0m\u001B[0mx\u001B[0m\u001B[1;33m,\u001B[0m \u001B[0mR\u001B[0m\u001B[1;33m=\u001B[0m\u001B[0mR\u001B[0m\u001B[1;33m,\u001B[0m \u001B[0mf\u001B[0m\u001B[1;33m=\u001B[0m\u001B[1;33m[\u001B[0m\u001B[0mf_nn\u001B[0m\u001B[1;33m]\u001B[0m\u001B[1;33m,\u001B[0m \u001B[0mlr\u001B[0m\u001B[1;33m=\u001B[0m\u001B[0mlr\u001B[0m\u001B[1;33m,\u001B[0m \u001B[0mtol\u001B[0m\u001B[1;33m=\u001B[0m\u001B[1;36m1e-4\u001B[0m\u001B[1;33m,\u001B[0m \u001B[0mT\u001B[0m\u001B[1;33m=\u001B[0m\u001B[1;36m100\u001B[0m\u001B[1;33m)\u001B[0m\u001B[1;33m\u001B[0m\u001B[1;33m\u001B[0m\u001B[0m\n\u001B[0m\u001B[0;32m     28\u001B[0m         \u001B[0mf_loss\u001B[0m \u001B[1;33m=\u001B[0m \u001B[1;33m-\u001B[0m\u001B[0mregret\u001B[0m\u001B[1;33m(\u001B[0m\u001B[0mx\u001B[0m\u001B[1;33m=\u001B[0m\u001B[0mx\u001B[0m\u001B[1;33m,\u001B[0m \u001B[0mR\u001B[0m\u001B[1;33m=\u001B[0m\u001B[0mR\u001B[0m\u001B[1;33m,\u001B[0m \u001B[0mp\u001B[0m\u001B[1;33m=\u001B[0m\u001B[0mp\u001B[0m\u001B[1;33m,\u001B[0m \u001B[0mf\u001B[0m\u001B[1;33m=\u001B[0m\u001B[1;33m[\u001B[0m\u001B[0mf_nn\u001B[0m\u001B[1;33m]\u001B[0m\u001B[1;33m,\u001B[0m \u001B[0mo\u001B[0m\u001B[1;33m=\u001B[0m\u001B[0mtorch\u001B[0m\u001B[1;33m.\u001B[0m\u001B[0mones\u001B[0m\u001B[1;33m(\u001B[0m\u001B[1;36m1\u001B[0m\u001B[1;33m)\u001B[0m\u001B[1;33m,\u001B[0m \u001B[0mQ\u001B[0m\u001B[1;33m=\u001B[0m\u001B[0mQ\u001B[0m\u001B[1;33m)\u001B[0m\u001B[1;33m\u001B[0m\u001B[1;33m\u001B[0m\u001B[0m\n\u001B[0;32m     29\u001B[0m         \u001B[0moptimizer\u001B[0m\u001B[1;33m.\u001B[0m\u001B[0mzero_grad\u001B[0m\u001B[1;33m(\u001B[0m\u001B[1;33m)\u001B[0m\u001B[1;33m\u001B[0m\u001B[1;33m\u001B[0m\u001B[0m\n",
      "\u001B[1;32m~\\Desktop\\masters\\thesis material\\paper-optimization-algorithm\\logistic_regression\\lr_nn_steps.py\u001B[0m in \u001B[0;36mfind_Q\u001B[1;34m(r, x, R, f, lr, tol, T)\u001B[0m\n\u001B[0;32m     12\u001B[0m     \u001B[1;32mfor\u001B[0m \u001B[0mj\u001B[0m\u001B[1;33m,\u001B[0m \u001B[0mr_nn\u001B[0m \u001B[1;32min\u001B[0m \u001B[0menumerate\u001B[0m\u001B[1;33m(\u001B[0m\u001B[0mR\u001B[0m\u001B[1;33m)\u001B[0m\u001B[1;33m:\u001B[0m\u001B[1;33m\u001B[0m\u001B[1;33m\u001B[0m\u001B[0m\n\u001B[0;32m     13\u001B[0m         \u001B[1;32mfor\u001B[0m \u001B[0mi\u001B[0m\u001B[1;33m,\u001B[0m \u001B[0mf_nn\u001B[0m \u001B[1;32min\u001B[0m \u001B[0menumerate\u001B[0m\u001B[1;33m(\u001B[0m\u001B[0mf\u001B[0m\u001B[1;33m)\u001B[0m\u001B[1;33m:\u001B[0m\u001B[1;33m\u001B[0m\u001B[1;33m\u001B[0m\u001B[0m\n\u001B[1;32m---> 14\u001B[1;33m             \u001B[0mQ\u001B[0m\u001B[1;33m[\u001B[0m\u001B[1;33m(\u001B[0m\u001B[0mj\u001B[0m\u001B[1;33m,\u001B[0m \u001B[0mi\u001B[0m\u001B[1;33m)\u001B[0m\u001B[1;33m]\u001B[0m \u001B[1;33m=\u001B[0m \u001B[0mfind_q\u001B[0m\u001B[1;33m(\u001B[0m\u001B[0mr\u001B[0m\u001B[1;33m=\u001B[0m\u001B[0mr\u001B[0m\u001B[1;33m,\u001B[0m \u001B[0mx\u001B[0m\u001B[1;33m=\u001B[0m\u001B[0mx\u001B[0m\u001B[1;33m,\u001B[0m \u001B[0mr_nn\u001B[0m\u001B[1;33m=\u001B[0m\u001B[0mr_nn\u001B[0m\u001B[1;33m,\u001B[0m \u001B[0mf_nn\u001B[0m\u001B[1;33m=\u001B[0m\u001B[0mf_nn\u001B[0m\u001B[1;33m,\u001B[0m \u001B[0mlr\u001B[0m\u001B[1;33m=\u001B[0m\u001B[0mlr\u001B[0m\u001B[1;33m,\u001B[0m \u001B[0mtol\u001B[0m\u001B[1;33m=\u001B[0m\u001B[0mtol\u001B[0m\u001B[1;33m,\u001B[0m \u001B[0mT\u001B[0m\u001B[1;33m=\u001B[0m\u001B[0mT\u001B[0m\u001B[1;33m)\u001B[0m\u001B[1;33m\u001B[0m\u001B[1;33m\u001B[0m\u001B[0m\n\u001B[0m\u001B[0;32m     15\u001B[0m     \u001B[1;32mreturn\u001B[0m \u001B[0mQ\u001B[0m\u001B[1;33m\u001B[0m\u001B[1;33m\u001B[0m\u001B[0m\n\u001B[0;32m     16\u001B[0m \u001B[1;33m\u001B[0m\u001B[0m\n",
      "\u001B[1;32m~\\Desktop\\masters\\thesis material\\paper-optimization-algorithm\\logistic_regression\\lr_nn_utils.py\u001B[0m in \u001B[0;36mfind_q\u001B[1;34m(r, x, r_nn, f_nn, lr, tol, T)\u001B[0m\n\u001B[0;32m     75\u001B[0m         \u001B[0mq_loss\u001B[0m\u001B[1;33m.\u001B[0m\u001B[0mbackward\u001B[0m\u001B[1;33m(\u001B[0m\u001B[1;33m)\u001B[0m\u001B[1;33m\u001B[0m\u001B[1;33m\u001B[0m\u001B[0m\n\u001B[0;32m     76\u001B[0m         \u001B[0moptimizer\u001B[0m\u001B[1;33m.\u001B[0m\u001B[0mstep\u001B[0m\u001B[1;33m(\u001B[0m\u001B[1;33m)\u001B[0m\u001B[1;33m\u001B[0m\u001B[1;33m\u001B[0m\u001B[0m\n\u001B[1;32m---> 77\u001B[1;33m         \u001B[1;32mif\u001B[0m \u001B[0mtorch\u001B[0m\u001B[1;33m.\u001B[0m\u001B[0mlinalg\u001B[0m\u001B[1;33m.\u001B[0m\u001B[0mnorm\u001B[0m\u001B[1;33m(\u001B[0m\u001B[0mq_nn\u001B[0m\u001B[1;33m.\u001B[0m\u001B[0mlinear_layer_1\u001B[0m\u001B[1;33m.\u001B[0m\u001B[0mweight\u001B[0m\u001B[1;33m.\u001B[0m\u001B[0mgrad\u001B[0m\u001B[1;33m)\u001B[0m \u001B[1;33m+\u001B[0m\u001B[0;31m \u001B[0m\u001B[0;31m\\\u001B[0m\u001B[1;33m\u001B[0m\u001B[1;33m\u001B[0m\u001B[0m\n\u001B[0m\u001B[0;32m     78\u001B[0m                 \u001B[0mtorch\u001B[0m\u001B[1;33m.\u001B[0m\u001B[0mlinalg\u001B[0m\u001B[1;33m.\u001B[0m\u001B[0mnorm\u001B[0m\u001B[1;33m(\u001B[0m\u001B[0mq_nn\u001B[0m\u001B[1;33m.\u001B[0m\u001B[0mlinear_layer_1\u001B[0m\u001B[1;33m.\u001B[0m\u001B[0mweight\u001B[0m\u001B[1;33m.\u001B[0m\u001B[0mgrad\u001B[0m\u001B[1;33m)\u001B[0m \u001B[1;33m<\u001B[0m \u001B[0mtol\u001B[0m\u001B[1;33m:\u001B[0m\u001B[1;33m\u001B[0m\u001B[1;33m\u001B[0m\u001B[0m\n\u001B[0;32m     79\u001B[0m             \u001B[1;32mbreak\u001B[0m\u001B[1;33m\u001B[0m\u001B[1;33m\u001B[0m\u001B[0m\n",
      "\u001B[1;31mKeyboardInterrupt\u001B[0m: "
     ]
    }
   ],
   "source": [
    "regrets = run_lr_algo(d=d, r=r, b=b, sigma=sigma,\n",
    "                      lr_r=lr_r, lr_f=lr_f, beta_r=beta_r, beta_f=beta_f,\n",
    "                      m=m, avg_frac=avg_frac, stop_frac=stop_frac, T_r=T_r, T_f=T_f,\n",
    "                      times=times)\n",
    "\n",
    "plt.grid()\n",
    "plt.title(\"logistic regression regret vs iteration\")\n",
    "plt.xlabel(\"#Iteration\")\n",
    "plt.ylabel(\"Regret\")\n",
    "plt.plot(range(m+1), regrets.T.mean(axis=1), label=r\"$d$=\"+f\"{d}\")\n",
    "plt.fill_between(range(m+1),\n",
    "                 regrets.T.mean(axis=1)+regrets.T.std(axis=1), regrets.T.mean(axis=1)-regrets.T.std(axis=1),\n",
    "                 color='r', alpha=0.5)\n",
    "plt.legend()\n",
    "name = f\"real-nn-log-reg_reg-vs-iter_d={d}_r={r}_b={b}\"\n",
    "plt.savefig(f\"{name}.png\")\n",
    "pickle.dump(regrets, open(f'{name}.p', 'wb'))\n",
    "plt.clf()"
   ],
   "metadata": {
    "collapsed": false,
    "pycharm": {
     "name": "#%%\n"
    }
   }
  },
  {
   "cell_type": "code",
   "execution_count": null,
   "outputs": [],
   "source": [
    "max_m = 10\n",
    "m_step = 3\n",
    "\n",
    "d_start = 5\n",
    "d_max = 20\n",
    "d_step = 3\n",
    "\n",
    "m_list = list(range(1, max_m+1, m_step))\n",
    "d_list = list(range(d_start, d_max+1, d_step))\n",
    "\n",
    "mean_regrets = np.zeros([len(m_list), len(d_list)])\n",
    "std_regrets = np.zeros([len(m_list), len(d_list)])\n",
    "for m_idx, m in enumerate(m_list):\n",
    "    for d_idx, d in enumerate(d_list):\n",
    "        print(f\"*** m={m}, d={d} ***\")\n",
    "        regrets = run_lr_algo(d=d, r=r, b=b, sigma=sigma,\n",
    "                              lr_r=lr_r, lr_f=lr_f, beta_r=beta_r, beta_f=beta_f,\n",
    "                              m=m, avg_frac=avg_frac, stop_frac=stop_frac, T_r=T_r, T_f=T_f,\n",
    "                              times=times)\n",
    "        mean_regrets[m_idx, d_idx] = regrets.min(axis=1).mean()\n",
    "        std_regrets[m_idx, d_idx] = regrets.min(axis=1).std()\n",
    "\n",
    "\n",
    "plot_and_save(x_axis=d_list, mean_regrets=mean_regrets, std_regrets=std_regrets,\n",
    "              label_char=r\"$m$\", labels_val=m_list, x_label=r'$d$', y_label=f'Regret',\n",
    "              title=r\"logistic regression regret vs $d$\"+f\"_r={r}\",\n",
    "              name=f\"nn-reg-vs-d_r={r}_b={b}\")"
   ],
   "metadata": {
    "collapsed": false,
    "pycharm": {
     "name": "#%%\n"
    }
   }
  },
  {
   "cell_type": "code",
   "execution_count": null,
   "outputs": [],
   "source": [
    "max_m = 10\n",
    "m_step = 3\n",
    "\n",
    "s_start = 0.5\n",
    "s_max = 3\n",
    "s_step = 0.5\n",
    "\n",
    "m_list = list(range(1, max_m+1, m_step))\n",
    "s_list = np.linspace(s_start, s_max, int((s_max-s_start)/s_step)+1)\n",
    "\n",
    "mean_regrets = np.zeros([len(m_list), len(d_list)])\n",
    "std_regrets = np.zeros([len(m_list), len(d_list)])\n",
    "for m_idx, m in enumerate(m_list):\n",
    "    for s_idx, sigma in enumerate(s_list):\n",
    "        print(f\"*** m={m}, sigma={sigma} ***\")\n",
    "        regrets = run_lr_algo(d=d, r=r, b=b, sigma=sigma,\n",
    "                              lr_r=lr_r, lr_f=lr_f, beta_r=beta_r, beta_f=beta_f,\n",
    "                              m=m, avg_frac=avg_frac, stop_frac=stop_frac, T_r=T_r, T_f=T_f,\n",
    "                              times=times)\n",
    "        mean_regrets[m_idx, s_idx] = regrets.min(axis=1).mean()\n",
    "        std_regrets[m_idx, s_idx] = regrets.min(axis=1).std()\n",
    "\n",
    "\n",
    "plot_and_save(x_axis=s_list, mean_regrets=mean_regrets, std_regrets=std_regrets,\n",
    "              label_char=r\"$m$\", labels_val=m_list, x_label=r'$\\sigma_0^2$', y_label=f'Regret',\n",
    "              title=r\"logistic regression regret vs $\\sigma_0^2$\"+f\"_r={r}\",\n",
    "              name=f\"nn-reg-vs-sigma_r={r}_b={b}\")"
   ],
   "metadata": {
    "collapsed": false,
    "pycharm": {
     "name": "#%%\n"
    }
   }
  }
 ],
 "metadata": {
  "kernelspec": {
   "display_name": "Python 3",
   "language": "python",
   "name": "python3"
  },
  "language_info": {
   "codemirror_mode": {
    "name": "ipython",
    "version": 2
   },
   "file_extension": ".py",
   "mimetype": "text/x-python",
   "name": "python",
   "nbconvert_exporter": "python",
   "pygments_lexer": "ipython2",
   "version": "2.7.6"
  }
 },
 "nbformat": 4,
 "nbformat_minor": 0
}