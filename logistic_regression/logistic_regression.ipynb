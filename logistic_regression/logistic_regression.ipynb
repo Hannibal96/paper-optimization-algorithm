{
 "cells": [
  {
   "cell_type": "code",
   "execution_count": 1,
   "metadata": {
    "collapsed": true,
    "pycharm": {
     "name": "#%%\n"
    }
   },
   "outputs": [],
   "source": [
    "import matplotlib.pyplot as plt\n",
    "from lr_steps import *\n",
    "import matplotlib.pyplot as plt\n",
    "import pickle\n",
    "import time"
   ]
  },
  {
   "cell_type": "code",
   "execution_count": 2,
   "outputs": [],
   "source": [
    "def run_lr_algo(d, r, b, sigma,\n",
    "                lr_r, lr_f, beta_r, beta_f,\n",
    "                m, avg_frac, stop_frac, T_r, T_f,\n",
    "                times):\n",
    "    x = np.random.randn(b, d, 1) * sigma\n",
    "    regrets = np.zeros([times, m+1])\n",
    "    for t in range(times):\n",
    "        start_time = time.time()\n",
    "        print(f\"#Exp={t}\")\n",
    "        R, f, p, o, regrets_t = algorithm(x=x, r=r,\n",
    "                                       lr_r=lr_r, lr_f=lr_f, beta1=beta_r, beta2=beta_f,\n",
    "                                       m=m, T_r=T_r, T_f=T_f, avg_frac=avg_frac, stop_frac=stop_frac)\n",
    "        regrets[t, :] = regrets_t\n",
    "        print(regrets_t[-1])\n",
    "        run_time_seconds = time.time() - start_time\n",
    "        print(f\"Running Time: {run_time_seconds // 60}:{run_time_seconds % 60}\")\n",
    "\n",
    "    return regrets\n",
    "\n",
    "def plot_and_save(x_label, y_label, title, label_letter, x_axis, name):\n",
    "    plt.grid()\n",
    "    plt.xlabel(x_label)\n",
    "    plt.ylabel(y_label)\n",
    "    plt.title(title)\n",
    "    for x_idx, x in enumerate(x_axis):\n",
    "        mean = mean_regrets[x_idx]\n",
    "        std = std_regrets[x_idx]\n",
    "        plt.plot(x_axis, mean, label=label_letter+f\"{x}\")\n",
    "        plt.fill_between(x_axis, mean-std, mean+std, alpha=0.5, color='r')\n",
    "\n",
    "    plt.legend()\n",
    "    plt.savefig(f\"{name}.png\")\n",
    "    pickle.dump(mean_regrets, open(f'{name}_mean.p', 'wb'))\n",
    "    pickle.dump(std_regrets, open(f'{name}_std.p', 'wb'))\n",
    "    plt.clf()"
   ],
   "metadata": {
    "collapsed": false,
    "pycharm": {
     "name": "#%%\n"
    }
   }
  },
  {
   "cell_type": "code",
   "execution_count": 3,
   "outputs": [],
   "source": [
    "b = 1000\n",
    "d = 15\n",
    "r = 3\n",
    "sigma=1\n",
    "\n",
    "lr_r = 1e-3\n",
    "lr_f = 1e-1\n",
    "beta_r = 0.9\n",
    "beta_f = 0.9\n",
    "\n",
    "m = 10\n",
    "avg_frac=4\n",
    "stop_frac=4\n",
    "T_r=100\n",
    "T_f=1_000\n",
    "\n",
    "times = 10"
   ],
   "metadata": {
    "collapsed": false,
    "pycharm": {
     "name": "#%%\n"
    }
   }
  },
  {
   "cell_type": "code",
   "execution_count": 5,
   "outputs": [
    {
     "name": "stdout",
     "output_type": "stream",
     "text": [
      "#Exp=0\n"
     ]
    },
    {
     "name": "stderr",
     "output_type": "stream",
     "text": [
      "100%|██████████| 1000/1000 [00:00<00:00, 5168.66it/s]\n",
      "100%|██████████| 100/100 [00:00<00:00, 179.20it/s]\n",
      " 78%|███████▊  | 779/1000 [00:04<00:01, 191.96it/s]\n"
     ]
    },
    {
     "ename": "KeyboardInterrupt",
     "evalue": "",
     "output_type": "error",
     "traceback": [
      "\u001B[1;31m---------------------------------------------------------------------------\u001B[0m",
      "\u001B[1;31mKeyboardInterrupt\u001B[0m                         Traceback (most recent call last)",
      "\u001B[1;32m<ipython-input-5-084978ec1c77>\u001B[0m in \u001B[0;36m<module>\u001B[1;34m\u001B[0m\n\u001B[0;32m      2\u001B[0m                       \u001B[0mlr_r\u001B[0m\u001B[1;33m=\u001B[0m\u001B[0mlr_r\u001B[0m\u001B[1;33m,\u001B[0m \u001B[0mlr_f\u001B[0m\u001B[1;33m=\u001B[0m\u001B[0mlr_f\u001B[0m\u001B[1;33m,\u001B[0m \u001B[0mbeta_r\u001B[0m\u001B[1;33m=\u001B[0m\u001B[0mbeta_r\u001B[0m\u001B[1;33m,\u001B[0m \u001B[0mbeta_f\u001B[0m\u001B[1;33m=\u001B[0m\u001B[0mbeta_f\u001B[0m\u001B[1;33m,\u001B[0m\u001B[1;33m\u001B[0m\u001B[1;33m\u001B[0m\u001B[0m\n\u001B[0;32m      3\u001B[0m                       \u001B[0mm\u001B[0m\u001B[1;33m=\u001B[0m\u001B[0mm\u001B[0m\u001B[1;33m,\u001B[0m \u001B[0mavg_frac\u001B[0m\u001B[1;33m=\u001B[0m\u001B[0mavg_frac\u001B[0m\u001B[1;33m,\u001B[0m \u001B[0mstop_frac\u001B[0m\u001B[1;33m=\u001B[0m\u001B[0mstop_frac\u001B[0m\u001B[1;33m,\u001B[0m \u001B[0mT_r\u001B[0m\u001B[1;33m=\u001B[0m\u001B[0mT_r\u001B[0m\u001B[1;33m,\u001B[0m \u001B[0mT_f\u001B[0m\u001B[1;33m=\u001B[0m\u001B[0mT_f\u001B[0m\u001B[1;33m,\u001B[0m\u001B[1;33m\u001B[0m\u001B[1;33m\u001B[0m\u001B[0m\n\u001B[1;32m----> 4\u001B[1;33m                       times=times)\n\u001B[0m\u001B[0;32m      5\u001B[0m \u001B[1;33m\u001B[0m\u001B[0m\n\u001B[0;32m      6\u001B[0m \u001B[0mplt\u001B[0m\u001B[1;33m.\u001B[0m\u001B[0mgrid\u001B[0m\u001B[1;33m(\u001B[0m\u001B[1;33m)\u001B[0m\u001B[1;33m\u001B[0m\u001B[1;33m\u001B[0m\u001B[0m\n",
      "\u001B[1;32m<ipython-input-2-2d7f5e2dbeb1>\u001B[0m in \u001B[0;36mrun_lr_algo\u001B[1;34m(d, r, b, sigma, lr_r, lr_f, beta_r, beta_f, m, avg_frac, stop_frac, T_r, T_f, times)\u001B[0m\n\u001B[0;32m     10\u001B[0m         R, f, p, o, regrets_t = algorithm(x=x, r=r,\n\u001B[0;32m     11\u001B[0m                                        \u001B[0mlr_r\u001B[0m\u001B[1;33m=\u001B[0m\u001B[0mlr_r\u001B[0m\u001B[1;33m,\u001B[0m \u001B[0mlr_f\u001B[0m\u001B[1;33m=\u001B[0m\u001B[0mlr_f\u001B[0m\u001B[1;33m,\u001B[0m \u001B[0mbeta1\u001B[0m\u001B[1;33m=\u001B[0m\u001B[0mbeta_r\u001B[0m\u001B[1;33m,\u001B[0m \u001B[0mbeta2\u001B[0m\u001B[1;33m=\u001B[0m\u001B[0mbeta_f\u001B[0m\u001B[1;33m,\u001B[0m\u001B[1;33m\u001B[0m\u001B[1;33m\u001B[0m\u001B[0m\n\u001B[1;32m---> 12\u001B[1;33m                                        m=m, T_r=T_r, T_f=T_f, avg_frac=avg_frac, stop_frac=stop_frac)\n\u001B[0m\u001B[0;32m     13\u001B[0m         \u001B[0mregrets\u001B[0m\u001B[1;33m[\u001B[0m\u001B[0mt\u001B[0m\u001B[1;33m,\u001B[0m \u001B[1;33m:\u001B[0m\u001B[1;33m]\u001B[0m \u001B[1;33m=\u001B[0m \u001B[0mregrets_t\u001B[0m\u001B[1;33m\u001B[0m\u001B[1;33m\u001B[0m\u001B[0m\n\u001B[0;32m     14\u001B[0m         \u001B[0mprint\u001B[0m\u001B[1;33m(\u001B[0m\u001B[0mregrets_t\u001B[0m\u001B[1;33m[\u001B[0m\u001B[1;33m-\u001B[0m\u001B[1;36m1\u001B[0m\u001B[1;33m]\u001B[0m\u001B[1;33m)\u001B[0m\u001B[1;33m\u001B[0m\u001B[1;33m\u001B[0m\u001B[0m\n",
      "\u001B[1;32m~\\Desktop\\masters\\thesis material\\paper-optimization-algorithm\\logistic_regression\\lr_steps.py\u001B[0m in \u001B[0;36malgorithm\u001B[1;34m(x, r, lr_r, lr_f, beta1, beta2, m, T_r, T_f, avg_frac, stop_frac)\u001B[0m\n\u001B[0;32m     88\u001B[0m                              avg_frac=avg_frac, stop_frac=stop_frac, tol=1e-3)\n\u001B[0;32m     89\u001B[0m         \u001B[0mR\u001B[0m\u001B[1;33m.\u001B[0m\u001B[0mappend\u001B[0m\u001B[1;33m(\u001B[0m\u001B[0mnew_R\u001B[0m\u001B[1;33m)\u001B[0m\u001B[1;33m\u001B[0m\u001B[1;33m\u001B[0m\u001B[0m\n\u001B[1;32m---> 90\u001B[1;33m         \u001B[0mnew_f\u001B[0m\u001B[1;33m,\u001B[0m \u001B[0mreg\u001B[0m \u001B[1;33m=\u001B[0m \u001B[0mfind_f\u001B[0m\u001B[1;33m(\u001B[0m\u001B[0mx\u001B[0m\u001B[1;33m=\u001B[0m\u001B[0mx\u001B[0m\u001B[1;33m,\u001B[0m \u001B[0mR\u001B[0m\u001B[1;33m=\u001B[0m\u001B[0mR\u001B[0m\u001B[1;33m,\u001B[0m \u001B[0mp\u001B[0m\u001B[1;33m=\u001B[0m\u001B[0mp\u001B[0m\u001B[1;33m,\u001B[0m \u001B[0mlr\u001B[0m\u001B[1;33m=\u001B[0m\u001B[0mlr_f\u001B[0m\u001B[1;33m,\u001B[0m \u001B[0mtol\u001B[0m\u001B[1;33m=\u001B[0m\u001B[1;36m1e-3\u001B[0m\u001B[1;33m,\u001B[0m \u001B[0mT\u001B[0m\u001B[1;33m=\u001B[0m\u001B[0mT_f\u001B[0m\u001B[1;33m)\u001B[0m\u001B[1;33m\u001B[0m\u001B[1;33m\u001B[0m\u001B[0m\n\u001B[0m\u001B[0;32m     91\u001B[0m         \u001B[0mf\u001B[0m\u001B[1;33m.\u001B[0m\u001B[0mappend\u001B[0m\u001B[1;33m(\u001B[0m\u001B[0mnew_f\u001B[0m\u001B[1;33m)\u001B[0m\u001B[1;33m\u001B[0m\u001B[1;33m\u001B[0m\u001B[0m\n\u001B[0;32m     92\u001B[0m         \u001B[0mregrets\u001B[0m\u001B[1;33m[\u001B[0m\u001B[0mi\u001B[0m\u001B[1;33m+\u001B[0m\u001B[1;36m1\u001B[0m\u001B[1;33m]\u001B[0m \u001B[1;33m=\u001B[0m \u001B[0mreg\u001B[0m\u001B[1;33m\u001B[0m\u001B[1;33m\u001B[0m\u001B[0m\n",
      "\u001B[1;32m~\\Desktop\\masters\\thesis material\\paper-optimization-algorithm\\logistic_regression\\lr_steps.py\u001B[0m in \u001B[0;36mfind_f\u001B[1;34m(x, R, p, lr, T, tol)\u001B[0m\n\u001B[0;32m     19\u001B[0m     \u001B[0mf_prev\u001B[0m \u001B[1;33m=\u001B[0m \u001B[0mf\u001B[0m\u001B[1;33m.\u001B[0m\u001B[0mcopy\u001B[0m\u001B[1;33m(\u001B[0m\u001B[1;33m)\u001B[0m\u001B[1;33m\u001B[0m\u001B[1;33m\u001B[0m\u001B[0m\n\u001B[0;32m     20\u001B[0m     \u001B[1;32mfor\u001B[0m \u001B[0mt\u001B[0m \u001B[1;32min\u001B[0m \u001B[0mtqdm\u001B[0m\u001B[1;33m(\u001B[0m\u001B[0mrange\u001B[0m\u001B[1;33m(\u001B[0m\u001B[0mT\u001B[0m\u001B[1;33m)\u001B[0m\u001B[1;33m)\u001B[0m\u001B[1;33m:\u001B[0m\u001B[1;33m\u001B[0m\u001B[1;33m\u001B[0m\u001B[0m\n\u001B[1;32m---> 21\u001B[1;33m         \u001B[0mQ\u001B[0m \u001B[1;33m=\u001B[0m \u001B[0mfind_Q\u001B[0m\u001B[1;33m(\u001B[0m\u001B[0mx\u001B[0m\u001B[1;33m=\u001B[0m\u001B[0mx\u001B[0m\u001B[1;33m,\u001B[0m \u001B[0mR\u001B[0m\u001B[1;33m=\u001B[0m\u001B[0mR\u001B[0m\u001B[1;33m,\u001B[0m \u001B[0mf\u001B[0m\u001B[1;33m=\u001B[0m\u001B[1;33m[\u001B[0m\u001B[0mf\u001B[0m\u001B[1;33m]\u001B[0m\u001B[1;33m,\u001B[0m \u001B[0mlr\u001B[0m\u001B[1;33m=\u001B[0m\u001B[0mlr\u001B[0m\u001B[1;33m,\u001B[0m \u001B[0mtol\u001B[0m\u001B[1;33m=\u001B[0m\u001B[0mtol\u001B[0m\u001B[1;33m)\u001B[0m\u001B[1;33m\u001B[0m\u001B[1;33m\u001B[0m\u001B[0m\n\u001B[0m\u001B[0;32m     22\u001B[0m         \u001B[0mf_g\u001B[0m \u001B[1;33m=\u001B[0m \u001B[0mf_grad\u001B[0m\u001B[1;33m(\u001B[0m\u001B[0mx\u001B[0m\u001B[1;33m=\u001B[0m\u001B[0mx\u001B[0m\u001B[1;33m,\u001B[0m \u001B[0mR\u001B[0m\u001B[1;33m=\u001B[0m\u001B[0mR\u001B[0m\u001B[1;33m,\u001B[0m \u001B[0mf\u001B[0m\u001B[1;33m=\u001B[0m\u001B[0mf\u001B[0m\u001B[1;33m,\u001B[0m \u001B[0mp\u001B[0m\u001B[1;33m=\u001B[0m\u001B[0mp\u001B[0m\u001B[1;33m,\u001B[0m \u001B[0mQ\u001B[0m\u001B[1;33m=\u001B[0m\u001B[0mQ\u001B[0m\u001B[1;33m[\u001B[0m\u001B[1;33m:\u001B[0m\u001B[1;33m,\u001B[0m \u001B[1;36m0\u001B[0m\u001B[1;33m]\u001B[0m\u001B[1;33m)\u001B[0m\u001B[1;33m\u001B[0m\u001B[1;33m\u001B[0m\u001B[0m\n\u001B[0;32m     23\u001B[0m         \u001B[0mf\u001B[0m \u001B[1;33m=\u001B[0m \u001B[0mf\u001B[0m \u001B[1;33m+\u001B[0m \u001B[0mlr\u001B[0m \u001B[1;33m*\u001B[0m \u001B[0mf_g\u001B[0m\u001B[1;33m\u001B[0m\u001B[1;33m\u001B[0m\u001B[0m\n",
      "\u001B[1;32m~\\Desktop\\masters\\thesis material\\paper-optimization-algorithm\\logistic_regression\\lr_steps.py\u001B[0m in \u001B[0;36mfind_Q\u001B[1;34m(x, R, f, lr, tol)\u001B[0m\n\u001B[0;32m      9\u001B[0m     \u001B[1;32mfor\u001B[0m \u001B[0mj\u001B[0m\u001B[1;33m,\u001B[0m \u001B[0mR_j\u001B[0m \u001B[1;32min\u001B[0m \u001B[0menumerate\u001B[0m\u001B[1;33m(\u001B[0m\u001B[0mR\u001B[0m\u001B[1;33m)\u001B[0m\u001B[1;33m:\u001B[0m\u001B[1;33m\u001B[0m\u001B[1;33m\u001B[0m\u001B[0m\n\u001B[0;32m     10\u001B[0m         \u001B[1;32mfor\u001B[0m \u001B[0mi\u001B[0m\u001B[1;33m,\u001B[0m \u001B[0mf_i\u001B[0m \u001B[1;32min\u001B[0m \u001B[0menumerate\u001B[0m\u001B[1;33m(\u001B[0m\u001B[0mf\u001B[0m\u001B[1;33m)\u001B[0m\u001B[1;33m:\u001B[0m\u001B[1;33m\u001B[0m\u001B[1;33m\u001B[0m\u001B[0m\n\u001B[1;32m---> 11\u001B[1;33m             \u001B[0mq_ji\u001B[0m \u001B[1;33m=\u001B[0m \u001B[0mfind_q\u001B[0m\u001B[1;33m(\u001B[0m\u001B[0mx\u001B[0m\u001B[1;33m=\u001B[0m\u001B[0mx\u001B[0m\u001B[1;33m,\u001B[0m \u001B[0mR\u001B[0m\u001B[1;33m=\u001B[0m\u001B[0mR_j\u001B[0m\u001B[1;33m,\u001B[0m \u001B[0mf\u001B[0m\u001B[1;33m=\u001B[0m\u001B[0mf_i\u001B[0m\u001B[1;33m,\u001B[0m \u001B[0mlr\u001B[0m\u001B[1;33m=\u001B[0m\u001B[0mlr\u001B[0m\u001B[1;33m,\u001B[0m \u001B[0mtol\u001B[0m\u001B[1;33m=\u001B[0m\u001B[0mtol\u001B[0m\u001B[1;33m)\u001B[0m\u001B[1;33m\u001B[0m\u001B[1;33m\u001B[0m\u001B[0m\n\u001B[0m\u001B[0;32m     12\u001B[0m             \u001B[0mQ\u001B[0m\u001B[1;33m[\u001B[0m\u001B[0mj\u001B[0m\u001B[1;33m,\u001B[0m \u001B[0mi\u001B[0m\u001B[1;33m]\u001B[0m \u001B[1;33m=\u001B[0m \u001B[0mq_ji\u001B[0m\u001B[1;33m.\u001B[0m\u001B[0mcopy\u001B[0m\u001B[1;33m(\u001B[0m\u001B[1;33m)\u001B[0m\u001B[1;33m\u001B[0m\u001B[1;33m\u001B[0m\u001B[0m\n\u001B[0;32m     13\u001B[0m     \u001B[1;32mreturn\u001B[0m \u001B[0mQ\u001B[0m\u001B[1;33m\u001B[0m\u001B[1;33m\u001B[0m\u001B[0m\n",
      "\u001B[1;32m~\\Desktop\\masters\\thesis material\\paper-optimization-algorithm\\logistic_regression\\lr_utils.py\u001B[0m in \u001B[0;36mfind_q\u001B[1;34m(x, R, f, lr, tol)\u001B[0m\n\u001B[0;32m     21\u001B[0m     \u001B[0mq\u001B[0m \u001B[1;33m=\u001B[0m \u001B[0mnp\u001B[0m\u001B[1;33m.\u001B[0m\u001B[0mrandom\u001B[0m\u001B[1;33m.\u001B[0m\u001B[0mrandn\u001B[0m\u001B[1;33m(\u001B[0m\u001B[0mr\u001B[0m\u001B[1;33m,\u001B[0m \u001B[1;36m1\u001B[0m\u001B[1;33m)\u001B[0m\u001B[1;33m\u001B[0m\u001B[1;33m\u001B[0m\u001B[0m\n\u001B[0;32m     22\u001B[0m     \u001B[1;32mwhile\u001B[0m \u001B[1;32mTrue\u001B[0m\u001B[1;33m:\u001B[0m\u001B[1;33m\u001B[0m\u001B[1;33m\u001B[0m\u001B[0m\n\u001B[1;32m---> 23\u001B[1;33m         \u001B[0mq_g\u001B[0m \u001B[1;33m=\u001B[0m \u001B[0mq_grad\u001B[0m\u001B[1;33m(\u001B[0m\u001B[0mx\u001B[0m\u001B[1;33m=\u001B[0m\u001B[0mx\u001B[0m\u001B[1;33m,\u001B[0m \u001B[0mq\u001B[0m\u001B[1;33m=\u001B[0m\u001B[0mq\u001B[0m\u001B[1;33m,\u001B[0m \u001B[0mR\u001B[0m\u001B[1;33m=\u001B[0m\u001B[0mR\u001B[0m\u001B[1;33m,\u001B[0m \u001B[0mf\u001B[0m\u001B[1;33m=\u001B[0m\u001B[0mf\u001B[0m\u001B[1;33m)\u001B[0m\u001B[1;33m\u001B[0m\u001B[1;33m\u001B[0m\u001B[0m\n\u001B[0m\u001B[0;32m     24\u001B[0m         \u001B[0mq\u001B[0m \u001B[1;33m=\u001B[0m \u001B[0mq\u001B[0m \u001B[1;33m-\u001B[0m \u001B[0mlr\u001B[0m \u001B[1;33m*\u001B[0m \u001B[0mq_g\u001B[0m\u001B[1;33m\u001B[0m\u001B[1;33m\u001B[0m\u001B[0m\n\u001B[0;32m     25\u001B[0m         \u001B[1;32mif\u001B[0m \u001B[0mnp\u001B[0m\u001B[1;33m.\u001B[0m\u001B[0mlinalg\u001B[0m\u001B[1;33m.\u001B[0m\u001B[0mnorm\u001B[0m\u001B[1;33m(\u001B[0m\u001B[0mq_g\u001B[0m\u001B[1;33m)\u001B[0m \u001B[1;33m<\u001B[0m \u001B[0mtol\u001B[0m\u001B[1;33m:\u001B[0m\u001B[1;33m\u001B[0m\u001B[1;33m\u001B[0m\u001B[0m\n",
      "\u001B[1;32m~\\Desktop\\masters\\thesis material\\paper-optimization-algorithm\\logistic_regression\\lr_utils.py\u001B[0m in \u001B[0;36mq_grad\u001B[1;34m(x, q, R, f)\u001B[0m\n\u001B[0;32m     31\u001B[0m     \u001B[0mp1\u001B[0m \u001B[1;33m=\u001B[0m \u001B[0mcalc_p1\u001B[0m\u001B[1;33m(\u001B[0m\u001B[0mf\u001B[0m\u001B[1;33m=\u001B[0m\u001B[0mf\u001B[0m\u001B[1;33m,\u001B[0m \u001B[0mx\u001B[0m\u001B[1;33m=\u001B[0m\u001B[0mx\u001B[0m\u001B[1;33m)\u001B[0m\u001B[1;33m\u001B[0m\u001B[1;33m\u001B[0m\u001B[0m\n\u001B[0;32m     32\u001B[0m     \u001B[0mp2\u001B[0m \u001B[1;33m=\u001B[0m \u001B[0mcalc_p2\u001B[0m\u001B[1;33m(\u001B[0m\u001B[0mx\u001B[0m\u001B[1;33m=\u001B[0m\u001B[0mx\u001B[0m\u001B[1;33m,\u001B[0m \u001B[0mR\u001B[0m\u001B[1;33m=\u001B[0m\u001B[0mR\u001B[0m\u001B[1;33m,\u001B[0m \u001B[0mq\u001B[0m\u001B[1;33m=\u001B[0m\u001B[0mq\u001B[0m\u001B[1;33m)\u001B[0m\u001B[1;33m\u001B[0m\u001B[1;33m\u001B[0m\u001B[0m\n\u001B[1;32m---> 33\u001B[1;33m     \u001B[1;32mreturn\u001B[0m \u001B[1;33m(\u001B[0m\u001B[1;33m(\u001B[0m\u001B[0mp2\u001B[0m \u001B[1;33m-\u001B[0m \u001B[0mp1\u001B[0m\u001B[1;33m)\u001B[0m \u001B[1;33m*\u001B[0m \u001B[0mR\u001B[0m\u001B[1;33m.\u001B[0m\u001B[0mT\u001B[0m \u001B[1;33m@\u001B[0m \u001B[0mx\u001B[0m\u001B[1;33m)\u001B[0m\u001B[1;33m.\u001B[0m\u001B[0mmean\u001B[0m\u001B[1;33m(\u001B[0m\u001B[0maxis\u001B[0m\u001B[1;33m=\u001B[0m\u001B[1;36m0\u001B[0m\u001B[1;33m)\u001B[0m\u001B[1;33m\u001B[0m\u001B[1;33m\u001B[0m\u001B[0m\n\u001B[0m\u001B[0;32m     34\u001B[0m \u001B[1;33m\u001B[0m\u001B[0m\n\u001B[0;32m     35\u001B[0m \u001B[1;33m\u001B[0m\u001B[0m\n",
      "\u001B[1;31mKeyboardInterrupt\u001B[0m: "
     ]
    }
   ],
   "source": [
    "regrets = run_lr_algo(d=d, r=r, b=b, sigma=sigma,\n",
    "                      lr_r=lr_r, lr_f=lr_f, beta_r=beta_r, beta_f=beta_f,\n",
    "                      m=m, avg_frac=avg_frac, stop_frac=stop_frac, T_r=T_r, T_f=T_f,\n",
    "                      times=times)\n",
    "\n",
    "plt.grid()\n",
    "plt.title(\"logistic regression regret vs iteration\")\n",
    "plt.xlabel(\"#Iteration\")\n",
    "plt.ylabel(\"Regret\")\n",
    "plt.plot(range(m+1), regrets.T.mean(axis=1), label=r\"$d$=\"+f\"{d}\")\n",
    "plt.fill_between(range(m+1),\n",
    "                 regrets.T.mean(axis=1)+regrets.T.std(axis=1), regrets.T.mean(axis=1)-regrets.T.std(axis=1),\n",
    "                 color='r', alpha=0.5)\n",
    "plt.legend()\n",
    "name = f\"log-reg_reg-vs-iter_d={d}_r={r}_b={b}\"\n",
    "plt.savefig(f\"{name}.png\")\n",
    "pickle.dump(regrets, open(f'{name}.p', 'wb'))\n",
    "plt.clf()"
   ],
   "metadata": {
    "collapsed": false,
    "pycharm": {
     "name": "#%%\n"
    }
   }
  },
  {
   "cell_type": "code",
   "execution_count": 5,
   "outputs": [
    {
     "name": "stdout",
     "output_type": "stream",
     "text": [
      "*** m=1, d=5 ***\n"
     ]
    },
    {
     "ename": "TypeError",
     "evalue": "run_lr_algo() missing 1 required positional argument: 'sigma'",
     "output_type": "error",
     "traceback": [
      "\u001B[1;31m---------------------------------------------------------------------------\u001B[0m",
      "\u001B[1;31mTypeError\u001B[0m                                 Traceback (most recent call last)",
      "\u001B[1;32m<ipython-input-5-4cb63d9640be>\u001B[0m in \u001B[0;36m<module>\u001B[1;34m\u001B[0m\n\u001B[0;32m     17\u001B[0m                               \u001B[0mlr_r\u001B[0m\u001B[1;33m=\u001B[0m\u001B[0mlr_r\u001B[0m\u001B[1;33m,\u001B[0m \u001B[0mlr_f\u001B[0m\u001B[1;33m=\u001B[0m\u001B[0mlr_f\u001B[0m\u001B[1;33m,\u001B[0m \u001B[0mbeta_r\u001B[0m\u001B[1;33m=\u001B[0m\u001B[0mbeta_r\u001B[0m\u001B[1;33m,\u001B[0m \u001B[0mbeta_f\u001B[0m\u001B[1;33m=\u001B[0m\u001B[0mbeta_f\u001B[0m\u001B[1;33m,\u001B[0m\u001B[1;33m\u001B[0m\u001B[1;33m\u001B[0m\u001B[0m\n\u001B[0;32m     18\u001B[0m                               \u001B[0mm\u001B[0m\u001B[1;33m=\u001B[0m\u001B[0mm\u001B[0m\u001B[1;33m,\u001B[0m \u001B[0mavg_frac\u001B[0m\u001B[1;33m=\u001B[0m\u001B[0mavg_frac\u001B[0m\u001B[1;33m,\u001B[0m \u001B[0mstop_frac\u001B[0m\u001B[1;33m=\u001B[0m\u001B[0mstop_frac\u001B[0m\u001B[1;33m,\u001B[0m \u001B[0mT_r\u001B[0m\u001B[1;33m=\u001B[0m\u001B[0mT_r\u001B[0m\u001B[1;33m,\u001B[0m \u001B[0mT_f\u001B[0m\u001B[1;33m=\u001B[0m\u001B[0mT_f\u001B[0m\u001B[1;33m,\u001B[0m\u001B[1;33m\u001B[0m\u001B[1;33m\u001B[0m\u001B[0m\n\u001B[1;32m---> 19\u001B[1;33m                               times=times)\n\u001B[0m\u001B[0;32m     20\u001B[0m         \u001B[0mmean_regrets\u001B[0m\u001B[1;33m[\u001B[0m\u001B[0mm_idx\u001B[0m\u001B[1;33m,\u001B[0m \u001B[0md_idx\u001B[0m\u001B[1;33m]\u001B[0m \u001B[1;33m=\u001B[0m \u001B[0mregrets\u001B[0m\u001B[1;33m.\u001B[0m\u001B[0mmin\u001B[0m\u001B[1;33m(\u001B[0m\u001B[0maxis\u001B[0m\u001B[1;33m=\u001B[0m\u001B[1;36m1\u001B[0m\u001B[1;33m)\u001B[0m\u001B[1;33m.\u001B[0m\u001B[0mmean\u001B[0m\u001B[1;33m(\u001B[0m\u001B[1;33m)\u001B[0m\u001B[1;33m\u001B[0m\u001B[1;33m\u001B[0m\u001B[0m\n\u001B[0;32m     21\u001B[0m         \u001B[0mstd_regrets\u001B[0m\u001B[1;33m[\u001B[0m\u001B[0mm_idx\u001B[0m\u001B[1;33m,\u001B[0m \u001B[0md_idx\u001B[0m\u001B[1;33m]\u001B[0m \u001B[1;33m=\u001B[0m \u001B[0mregrets\u001B[0m\u001B[1;33m.\u001B[0m\u001B[0mmin\u001B[0m\u001B[1;33m(\u001B[0m\u001B[0maxis\u001B[0m\u001B[1;33m=\u001B[0m\u001B[1;36m1\u001B[0m\u001B[1;33m)\u001B[0m\u001B[1;33m.\u001B[0m\u001B[0mstd\u001B[0m\u001B[1;33m(\u001B[0m\u001B[1;33m)\u001B[0m\u001B[1;33m\u001B[0m\u001B[1;33m\u001B[0m\u001B[0m\n",
      "\u001B[1;31mTypeError\u001B[0m: run_lr_algo() missing 1 required positional argument: 'sigma'"
     ]
    }
   ],
   "source": [
    "max_m = 10\n",
    "m_step = 3\n",
    "\n",
    "d_start = 5\n",
    "d_max = 20\n",
    "d_step = 3\n",
    "\n",
    "m_list = list(range(1, max_m+1, m_step))\n",
    "d_list = list(range(5, d_max+1, d_step))\n",
    "\n",
    "mean_regrets = np.zeros([len(m_list), len(d_list)])\n",
    "std_regrets = np.zeros([len(m_list), len(d_list)])\n",
    "for m_idx, m in enumerate(m_list):\n",
    "    for d_idx, d in enumerate(d_list):\n",
    "        print(f\"*** m={m}, d={d} ***\")\n",
    "        regrets = run_lr_algo(d=d, r=r, b=b, sigma=sigma,\n",
    "                              lr_r=lr_r, lr_f=lr_f, beta_r=beta_r, beta_f=beta_f,\n",
    "                              m=m, avg_frac=avg_frac, stop_frac=stop_frac, T_r=T_r, T_f=T_f,\n",
    "                              times=times)\n",
    "        mean_regrets[m_idx, d_idx] = regrets.min(axis=1).mean()\n",
    "        std_regrets[m_idx, d_idx] = regrets.min(axis=1).std()\n",
    "\n",
    "plot_and_save(x_label=r'$d$', y_label=f'Regret', title=r\"logistic regression regret vs $d$\"+f\"r={r}\",\n",
    "              label_letter=r\"$m$=\", x_axis=d_list, name=f\"reg-vs-d_r={r}_b={b}\")"
   ],
   "metadata": {
    "collapsed": false,
    "pycharm": {
     "name": "#%%\n"
    }
   }
  },
  {
   "cell_type": "code",
   "execution_count": null,
   "outputs": [],
   "source": [
    "max_m = 10\n",
    "m_step = 3\n",
    "\n",
    "s_start = 0.5\n",
    "s_max = 3\n",
    "s_step = 0.5\n",
    "\n",
    "m_list = list(range(1, max_m+1, m_step))\n",
    "s_list = np.linspace(s_start, s_max, int((s_max-s_start)/s_step)+1)\n",
    "\n",
    "mean_regrets = np.zeros([len(m_list), len(d_list)])\n",
    "std_regrets = np.zeros([len(m_list), len(d_list)])\n",
    "for m_idx, m in enumerate(m_list):\n",
    "    for s_idx, sigma in enumerate(s_list):\n",
    "        print(f\"*** m={m}, d={d} ***\")\n",
    "        regrets = run_lr_algo(d=d, r=r, b=b, sigma=sigma,\n",
    "                              lr_r=lr_r, lr_f=lr_f, beta_r=beta_r, beta_f=beta_f,\n",
    "                              m=m, avg_frac=avg_frac, stop_frac=stop_frac, T_r=T_r, T_f=T_f,\n",
    "                              times=times)\n",
    "        mean_regrets[m_idx, s_idx] = regrets.min(axis=1).mean()\n",
    "        std_regrets[m_idx, s_idx] = regrets.min(axis=1).std()\n",
    "\n",
    "plot_and_save(x_label=r'$\\sigma_0$', y_label=f'Regret',\n",
    "              title=r\"logistic regression regret vs $\\sigma_0$\"+f\"r={r}\",\n",
    "              label_letter=r\"$m$=\", x_axis=s_list, name=f\"reg-vs-sigma_d={d}_b={b}\")"
   ],
   "metadata": {
    "collapsed": false,
    "pycharm": {
     "name": "#%%\n"
    }
   }
  }
 ],
 "metadata": {
  "kernelspec": {
   "name": "pycharm-4f6c12d3",
   "language": "python",
   "display_name": "PyCharm (paper-optimization-algorithm)"
  },
  "language_info": {
   "codemirror_mode": {
    "name": "ipython",
    "version": 2
   },
   "file_extension": ".py",
   "mimetype": "text/x-python",
   "name": "python",
   "nbconvert_exporter": "python",
   "pygments_lexer": "ipython2",
   "version": "2.7.6"
  }
 },
 "nbformat": 4,
 "nbformat_minor": 0
}