{
 "cells": [
  {
   "cell_type": "code",
   "execution_count": 1,
   "metadata": {
    "collapsed": true
   },
   "outputs": [],
   "source": [
    "from lr_steps import *"
   ]
  },
  {
   "cell_type": "code",
   "execution_count": 4,
   "outputs": [
    {
     "data": {
      "text/plain": "<Figure size 432x288 with 1 Axes>",
      "image/png": "[encoded data removed]"
     },
     "metadata": {
      "needs_background": "light"
     },
     "output_type": "display_data"
    }
   ],
   "source": [
    "import pickle\n",
    "f = open('regrets_tensor_b=100_d=20_r=3.p', 'rb')\n",
    "d = pickle.load(f)\n",
    "f.close()\n",
    "\n",
    "\n",
    "import matplotlib.pyplot as plt\n",
    "plt.grid()\n",
    "plt.boxplot(d[0].T)\n",
    "plt.boxplot(d[3].T)\n",
    "plt.show()"
   ],
   "metadata": {
    "collapsed": false,
    "pycharm": {
     "name": "#%%\n"
    }
   }
  },
  {
   "cell_type": "code",
   "execution_count": null,
   "outputs": [],
   "source": [
    "\n",
    "b = 6\n",
    "d = 4\n",
    "r = 2"
   ],
   "metadata": {
    "collapsed": false,
    "pycharm": {
     "name": "#%%\n"
    }
   }
  },
  {
   "cell_type": "code",
   "execution_count": 3,
   "outputs": [],
   "source": [
    "x = np.random.randn(b, d, 1)\n",
    "f = np.random.randn(d, 1)\n",
    "R = np.random.randn(d, r) * 0\n",
    "q = np.random.randn(r, 1)"
   ],
   "metadata": {
    "collapsed": false,
    "pycharm": {
     "name": "#%%\n"
    }
   }
  },
  {
   "cell_type": "code",
   "execution_count": 4,
   "outputs": [
    {
     "name": "stdout",
     "output_type": "stream",
     "text": [
      "[[ 0.00000000e+00]\n",
      " [ 0.00000000e+00]\n",
      " [-2.77555756e-17]\n",
      " [-1.38777878e-17]]\n"
     ]
    }
   ],
   "source": [
    "t = f * 0\n",
    "for x_i in x:\n",
    "    e = np.exp(-f.T @ x_i)\n",
    "    v = (e / ((1+e)**2)) * x_i.T @ (f - R @ q) *x_i\n",
    "    t += v\n",
    "\n",
    "print(t / b - f_grad_aux(x, q, R, f) )"
   ],
   "metadata": {
    "collapsed": false,
    "pycharm": {
     "name": "#%%\n"
    }
   }
  },
  {
   "cell_type": "code",
   "execution_count": 5,
   "outputs": [
    {
     "name": "stdout",
     "output_type": "stream",
     "text": [
      "[[0.]\n",
      " [0.]]\n"
     ]
    }
   ],
   "source": [
    "t = q * 0\n",
    "for x_i in x:\n",
    "    t += ( (1/(1+(np.exp(-q.T @ R.T @ x_i))) ) - (1/(1+np.exp(-f.T @ x_i))) ) * R.T @ x_i\n",
    "\n",
    "print(t / b - q_grad(x, q, R, f))"
   ],
   "metadata": {
    "collapsed": false,
    "pycharm": {
     "name": "#%%\n"
    }
   }
  },
  {
   "cell_type": "code",
   "execution_count": 6,
   "outputs": [
    {
     "name": "stdout",
     "output_type": "stream",
     "text": [
      "[[0. 0.]\n",
      " [0. 0.]\n",
      " [0. 0.]\n",
      " [0. 0.]]\n"
     ]
    }
   ],
   "source": [
    "t = R * 0\n",
    "for x_i in x:\n",
    "    t += ( -1/(1+np.exp(-f.T @ x_i)) + 1/(1+np.exp(-q.T @ R.T @ x_i))) * x_i @ q.T\n",
    "\n",
    "print(t / b - R_grad(x, q, R, f))"
   ],
   "metadata": {
    "collapsed": false,
    "pycharm": {
     "name": "#%%\n"
    }
   }
  },
  {
   "cell_type": "code",
   "execution_count": 7,
   "outputs": [
    {
     "name": "stdout",
     "output_type": "stream",
     "text": [
      "[[0.21737698]]\n",
      "[[0.21737698]]\n",
      "[0.21737698]\n"
     ]
    }
   ],
   "source": [
    "t1 = 0\n",
    "t2 = 0\n",
    "\n",
    "for x_i in x:\n",
    "    p1 = 1 / (1 + np.exp(-f.T @ x_i))\n",
    "    p2 = 1 / (1 + np.exp(-q.T @ R.T @ x_i))\n",
    "    t1 += p1 * np.log(p1 / p2) + (1-p1) * np.log( (1-p1)/ (1-p2))\n",
    "\n",
    "    a1 = 1 + np.exp(-f.T @ x_i)\n",
    "    a2 = 1 + np.exp(-q.T @ R.T @ x_i)\n",
    "    b1 = 1 + np.exp(f.T @ x_i)\n",
    "    b2 = 1 + np.exp(q.T @ R.T @ x_i)\n",
    "    t2 += (1/a1) * np.log(a2 / a1) + (1/b1) * np.log(b2 / b1)\n",
    "\n",
    "print(t1 / b)\n",
    "print(t2 / b)\n",
    "print(loss(x, R, f, q).mean(axis=0))"
   ],
   "metadata": {
    "collapsed": false,
    "pycharm": {
     "name": "#%%\n"
    }
   }
  },
  {
   "cell_type": "code",
   "execution_count": 8,
   "outputs": [
    {
     "name": "stdout",
     "output_type": "stream",
     "text": [
      "[[0.21737698]]\n"
     ]
    }
   ],
   "source": [
    "min = 100\n",
    "for i in range(1000):\n",
    "    q = np.random.randn(r, 1)\n",
    "    Q = np.zeros([1,1,r,1])\n",
    "    Q[0,0]=q\n",
    "    if regret(x=x, R=[R], p=np.ones(1), f=[f], o=np.ones(1), Q=Q) < min:\n",
    "        min = regret(x=x, R=[R], p=np.ones(1), f=[f], o=np.ones(1), Q=Q)\n",
    "print(min)"
   ],
   "metadata": {
    "collapsed": false,
    "pycharm": {
     "name": "#%%\n"
    }
   }
  },
  {
   "cell_type": "code",
   "execution_count": 9,
   "outputs": [
    {
     "name": "stdout",
     "output_type": "stream",
     "text": [
      "[[0.21737698]]\n"
     ]
    }
   ],
   "source": [
    "Q = find_Q(x=x, R=[R], f=[f], lr=1e-3, tol=1e-3)\n",
    "print(regret(x=x, R=[R], p=np.ones(1), f=[f], o=np.ones(1), Q=Q))"
   ],
   "metadata": {
    "collapsed": false,
    "pycharm": {
     "name": "#%%\n"
    }
   }
  },
  {
   "cell_type": "code",
   "execution_count": 23,
   "outputs": [
    {
     "name": "stdout",
     "output_type": "stream",
     "text": [
      "[[0.14205246]]\n",
      "[[0.08168862]]\n",
      "[[0.04785205]]\n",
      "[[0.04397419]]\n",
      "[[0.06988889]]\n",
      "[[0.12586373]]\n",
      "[[0.15191263]]\n",
      "[[0.041614]]\n",
      "[[0.09913806]]\n",
      "[[0.07158554]]\n"
     ]
    }
   ],
   "source": [
    "for i in range(10):\n",
    "    f = np.random.randn(d, 1)\n",
    "    f = f / np.linalg.norm(f)\n",
    "    Q = find_Q(x=x, R=[R], f=[f], lr=1e-3, tol=1e-3)\n",
    "    print(regret(x=x, R=[R], p=np.ones(1), f=[f], o=np.ones(1), Q=Q))"
   ],
   "metadata": {
    "collapsed": false,
    "pycharm": {
     "name": "#%%\n"
    }
   }
  },
  {
   "cell_type": "code",
   "execution_count": 25,
   "outputs": [
    {
     "name": "stderr",
     "output_type": "stream",
     "text": [
      "100%|██████████| 1000/1000 [00:00<00:00, 26619.35it/s]\n"
     ]
    },
    {
     "name": "stdout",
     "output_type": "stream",
     "text": [
      "[[-0.55191521]\n",
      " [-0.09210097]\n",
      " [ 0.32635767]\n",
      " [ 0.76183836]]\n"
     ]
    },
    {
     "name": "stderr",
     "output_type": "stream",
     "text": [
      "100%|██████████| 1000/1000 [00:00<00:00, 26623.23it/s]"
     ]
    },
    {
     "name": "stdout",
     "output_type": "stream",
     "text": [
      "[[-0.55187787]\n",
      " [-0.09219228]\n",
      " [ 0.32653857]\n",
      " [ 0.76177684]]\n",
      "[[0.17640355]]\n"
     ]
    },
    {
     "name": "stderr",
     "output_type": "stream",
     "text": [
      "\n"
     ]
    }
   ],
   "source": [
    "f = find_f(x=x, R=[R], p=np.ones(1), lr=1e-1, tol=1e-3)\n",
    "print(f)\n",
    "f = find_f(x=x, R=[R], p=np.ones(1), lr=1e-1, tol=1e-3)\n",
    "print(f)\n",
    "Q = find_Q(x=x, R=[R], f=[f], lr=1e-3, tol=1e-3)\n",
    "print(regret(x=x, R=[R], p=np.ones(1), f=[f], o=np.ones(1), Q=Q))"
   ],
   "metadata": {
    "collapsed": false,
    "pycharm": {
     "name": "#%%\n"
    }
   }
  },
  {
   "cell_type": "code",
   "execution_count": 14,
   "outputs": [],
   "source": [],
   "metadata": {
    "collapsed": false,
    "pycharm": {
     "name": "#%%\n"
    }
   }
  }
 ],
 "metadata": {
  "kernelspec": {
   "display_name": "Python 3",
   "language": "python",
   "name": "python3"
  },
  "language_info": {
   "codemirror_mode": {
    "name": "ipython",
    "version": 2
   },
   "file_extension": ".py",
   "mimetype": "text/x-python",
   "name": "python",
   "nbconvert_exporter": "python",
   "pygments_lexer": "ipython2",
   "version": "2.7.6"
  }
 },
 "nbformat": 4,
 "nbformat_minor": 0
}