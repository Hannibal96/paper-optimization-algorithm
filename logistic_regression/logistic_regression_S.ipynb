{
 "cells": [
  {
   "cell_type": "code",
   "execution_count": 1,
   "metadata": {
    "collapsed": true
   },
   "outputs": [],
   "source": [
    "import matplotlib.pyplot as plt\n",
    "import numpy as np\n",
    "\n",
    "from lr_steps import *\n",
    "import matplotlib.pyplot as plt\n",
    "import pickle\n",
    "import time\n",
    "from lr_utils import plot_and_save"
   ]
  },
  {
   "cell_type": "code",
   "execution_count": 2,
   "outputs": [],
   "source": [
    "b = 1000\n",
    "d = 5\n",
    "r = 2\n",
    "sigma=1\n",
    "\n",
    "lr_r = 1e-3\n",
    "lr_f = 1e-1\n",
    "beta_r = 0.9\n",
    "beta_f = 0.9\n",
    "\n",
    "m = 5\n",
    "avg_frac=4\n",
    "stop_frac=4\n",
    "T_r=100\n",
    "T_f=1000\n",
    "\n",
    "times = 10"
   ],
   "metadata": {
    "collapsed": false,
    "pycharm": {
     "name": "#%%\n"
    }
   }
  },
  {
   "cell_type": "code",
   "execution_count": 3,
   "outputs": [
    {
     "name": "stdout",
     "output_type": "stream",
     "text": [
      "s_std = 0.0\n"
     ]
    },
    {
     "ename": "KeyboardInterrupt",
     "evalue": "",
     "output_type": "error",
     "traceback": [
      "\u001B[1;31m---------------------------------------------------------------------------\u001B[0m",
      "\u001B[1;31mKeyboardInterrupt\u001B[0m                         Traceback (most recent call last)",
      "Cell \u001B[1;32mIn[3], line 6\u001B[0m\n\u001B[0;32m      4\u001B[0m \u001B[38;5;28;01mfor\u001B[39;00m idx, s_skew \u001B[38;5;129;01min\u001B[39;00m \u001B[38;5;28menumerate\u001B[39m(skew_s):\n\u001B[0;32m      5\u001B[0m     \u001B[38;5;28mprint\u001B[39m(\u001B[38;5;124mf\u001B[39m\u001B[38;5;124m\"\u001B[39m\u001B[38;5;124ms_std = \u001B[39m\u001B[38;5;132;01m{\u001B[39;00ms_skew\u001B[38;5;132;01m}\u001B[39;00m\u001B[38;5;124m\"\u001B[39m)\n\u001B[1;32m----> 6\u001B[0m     basic_reg, s_reg \u001B[38;5;241m=\u001B[39m \u001B[43mrun_algorithm_S\u001B[49m\u001B[43m(\u001B[49m\u001B[43mb\u001B[49m\u001B[43m,\u001B[49m\u001B[43m \u001B[49m\u001B[43md\u001B[49m\u001B[43m,\u001B[49m\u001B[43m \u001B[49m\u001B[43mr\u001B[49m\u001B[43m,\u001B[49m\u001B[43m \u001B[49m\u001B[43mm\u001B[49m\u001B[43m,\u001B[49m\u001B[43m \u001B[49m\u001B[43msigma\u001B[49m\u001B[43m,\u001B[49m\u001B[43m \u001B[49m\u001B[43ms_skew\u001B[49m\u001B[43m,\u001B[49m\u001B[43m \u001B[49m\u001B[43mtimes\u001B[49m\u001B[43m,\u001B[49m\u001B[43m \u001B[49m\u001B[43mT_r\u001B[49m\u001B[43m,\u001B[49m\u001B[43m \u001B[49m\u001B[43mT_f\u001B[49m\u001B[43m,\u001B[49m\n\u001B[0;32m      7\u001B[0m \u001B[43m                                       \u001B[49m\u001B[43mbeta_f\u001B[49m\u001B[43m,\u001B[49m\u001B[43m \u001B[49m\u001B[43mbeta_r\u001B[49m\u001B[43m,\u001B[49m\u001B[43m \u001B[49m\u001B[43mlr_f\u001B[49m\u001B[43m,\u001B[49m\u001B[43m \u001B[49m\u001B[43mlr_r\u001B[49m\u001B[43m,\u001B[49m\u001B[43m \u001B[49m\u001B[43mavg_frac_r\u001B[49m\u001B[38;5;241;43m=\u001B[39;49m\u001B[38;5;241;43m4\u001B[39;49m\u001B[43m,\u001B[49m\u001B[43m \u001B[49m\u001B[43mstop_frac_r\u001B[49m\u001B[38;5;241;43m=\u001B[39;49m\u001B[38;5;241;43m4\u001B[39;49m\u001B[43m)\u001B[49m\n\u001B[0;32m      8\u001B[0m     res[idx] \u001B[38;5;241m=\u001B[39m basic_reg \u001B[38;5;241m/\u001B[39m s_reg\n",
      "File \u001B[1;32m~\\Desktop\\masters\\thesis material\\paper-optimization-algorithm\\logistic_regression\\lr_steps.py:117\u001B[0m, in \u001B[0;36mrun_algorithm_S\u001B[1;34m(b, d, r, m, sigma, s_skew, times, T_r, T_f, beta_f, beta_r, lr_f, lr_r, avg_frac_r, stop_frac_r)\u001B[0m\n\u001B[0;32m    112\u001B[0m R, f, regrets, p, o \u001B[38;5;241m=\u001B[39m algorithm(x\u001B[38;5;241m=\u001B[39mx, r\u001B[38;5;241m=\u001B[39mr, S\u001B[38;5;241m=\u001B[39mnp\u001B[38;5;241m.\u001B[39meye(d), lr_r\u001B[38;5;241m=\u001B[39mlr_r, lr_f\u001B[38;5;241m=\u001B[39mlr_f,\n\u001B[0;32m    113\u001B[0m                                 beta1\u001B[38;5;241m=\u001B[39mbeta_f, beta2\u001B[38;5;241m=\u001B[39mbeta_r,\n\u001B[0;32m    114\u001B[0m                                 m\u001B[38;5;241m=\u001B[39mm, T_r\u001B[38;5;241m=\u001B[39mT_r, T_f\u001B[38;5;241m=\u001B[39mT_f,  avg_frac\u001B[38;5;241m=\u001B[39mavg_frac_r, stop_frac\u001B[38;5;241m=\u001B[39mstop_frac_r)\n\u001B[0;32m    115\u001B[0m f_new, basic_regret \u001B[38;5;241m=\u001B[39m find_f(x\u001B[38;5;241m=\u001B[39mx, R\u001B[38;5;241m=\u001B[39mR, S\u001B[38;5;241m=\u001B[39mS, p\u001B[38;5;241m=\u001B[39mp, lr\u001B[38;5;241m=\u001B[39mlr_f, T\u001B[38;5;241m=\u001B[39mT_f)\n\u001B[1;32m--> 117\u001B[0m R, f, regrets, p, o \u001B[38;5;241m=\u001B[39m \u001B[43malgorithm\u001B[49m\u001B[43m(\u001B[49m\u001B[43mx\u001B[49m\u001B[38;5;241;43m=\u001B[39;49m\u001B[43mx\u001B[49m\u001B[43m,\u001B[49m\u001B[43m \u001B[49m\u001B[43mr\u001B[49m\u001B[38;5;241;43m=\u001B[39;49m\u001B[43mr\u001B[49m\u001B[43m,\u001B[49m\u001B[43m \u001B[49m\u001B[43mS\u001B[49m\u001B[38;5;241;43m=\u001B[39;49m\u001B[43mS\u001B[49m\u001B[43m,\u001B[49m\u001B[43m \u001B[49m\u001B[43mlr_r\u001B[49m\u001B[38;5;241;43m=\u001B[39;49m\u001B[43mlr_r\u001B[49m\u001B[43m,\u001B[49m\u001B[43m \u001B[49m\u001B[43mlr_f\u001B[49m\u001B[38;5;241;43m=\u001B[39;49m\u001B[43mlr_f\u001B[49m\u001B[43m,\u001B[49m\n\u001B[0;32m    118\u001B[0m \u001B[43m                                \u001B[49m\u001B[43mbeta1\u001B[49m\u001B[38;5;241;43m=\u001B[39;49m\u001B[43mbeta_f\u001B[49m\u001B[43m,\u001B[49m\u001B[43m \u001B[49m\u001B[43mbeta2\u001B[49m\u001B[38;5;241;43m=\u001B[39;49m\u001B[43mbeta_r\u001B[49m\u001B[43m,\u001B[49m\n\u001B[0;32m    119\u001B[0m \u001B[43m                                \u001B[49m\u001B[43mm\u001B[49m\u001B[38;5;241;43m=\u001B[39;49m\u001B[43mm\u001B[49m\u001B[43m,\u001B[49m\u001B[43m \u001B[49m\u001B[43mT_r\u001B[49m\u001B[38;5;241;43m=\u001B[39;49m\u001B[43mT_r\u001B[49m\u001B[43m,\u001B[49m\u001B[43m \u001B[49m\u001B[43mT_f\u001B[49m\u001B[38;5;241;43m=\u001B[39;49m\u001B[43mT_f\u001B[49m\u001B[43m,\u001B[49m\u001B[43m  \u001B[49m\u001B[43mavg_frac\u001B[49m\u001B[38;5;241;43m=\u001B[39;49m\u001B[43mavg_frac_r\u001B[49m\u001B[43m,\u001B[49m\u001B[43m \u001B[49m\u001B[43mstop_frac\u001B[49m\u001B[38;5;241;43m=\u001B[39;49m\u001B[43mstop_frac_r\u001B[49m\u001B[43m)\u001B[49m\n\u001B[0;32m    120\u001B[0m f_new, s_regret \u001B[38;5;241m=\u001B[39m find_f(x\u001B[38;5;241m=\u001B[39mx, R\u001B[38;5;241m=\u001B[39mR, S\u001B[38;5;241m=\u001B[39mS, p\u001B[38;5;241m=\u001B[39mp, lr\u001B[38;5;241m=\u001B[39mlr_f, T\u001B[38;5;241m=\u001B[39mT_f)\n\u001B[0;32m    121\u001B[0m \u001B[38;5;66;03m#s_regret = min(regrets)\u001B[39;00m\n",
      "File \u001B[1;32m~\\Desktop\\masters\\thesis material\\paper-optimization-algorithm\\logistic_regression\\lr_steps.py:93\u001B[0m, in \u001B[0;36malgorithm\u001B[1;34m(x, r, S, lr_r, lr_f, beta1, beta2, m, T_r, T_f, avg_frac, stop_frac)\u001B[0m\n\u001B[0;32m     89\u001B[0m new_R, p, o \u001B[38;5;241m=\u001B[39m find_R(x\u001B[38;5;241m=\u001B[39mx, R\u001B[38;5;241m=\u001B[39mR, f\u001B[38;5;241m=\u001B[39mf, T\u001B[38;5;241m=\u001B[39mT_r,\n\u001B[0;32m     90\u001B[0m                      lr_r\u001B[38;5;241m=\u001B[39mlr_r, lr_f\u001B[38;5;241m=\u001B[39mlr_f, beta1\u001B[38;5;241m=\u001B[39mbeta1, beta2\u001B[38;5;241m=\u001B[39mbeta2,\n\u001B[0;32m     91\u001B[0m                      avg_frac\u001B[38;5;241m=\u001B[39mavg_frac, stop_frac\u001B[38;5;241m=\u001B[39mstop_frac, tol\u001B[38;5;241m=\u001B[39m\u001B[38;5;241m1e-3\u001B[39m)\n\u001B[0;32m     92\u001B[0m R\u001B[38;5;241m.\u001B[39mappend(new_R)\n\u001B[1;32m---> 93\u001B[0m new_f, reg \u001B[38;5;241m=\u001B[39m \u001B[43mfind_f\u001B[49m\u001B[43m(\u001B[49m\u001B[43mx\u001B[49m\u001B[38;5;241;43m=\u001B[39;49m\u001B[43mx\u001B[49m\u001B[43m,\u001B[49m\u001B[43m \u001B[49m\u001B[43mS\u001B[49m\u001B[38;5;241;43m=\u001B[39;49m\u001B[43mS\u001B[49m\u001B[43m,\u001B[49m\u001B[43m \u001B[49m\u001B[43mR\u001B[49m\u001B[38;5;241;43m=\u001B[39;49m\u001B[43mR\u001B[49m\u001B[43m,\u001B[49m\u001B[43m \u001B[49m\u001B[43mp\u001B[49m\u001B[38;5;241;43m=\u001B[39;49m\u001B[43mp\u001B[49m\u001B[43m,\u001B[49m\u001B[43m \u001B[49m\u001B[43mlr\u001B[49m\u001B[38;5;241;43m=\u001B[39;49m\u001B[43mlr_f\u001B[49m\u001B[43m,\u001B[49m\u001B[43m \u001B[49m\u001B[43mtol\u001B[49m\u001B[38;5;241;43m=\u001B[39;49m\u001B[38;5;241;43m1e-3\u001B[39;49m\u001B[43m,\u001B[49m\u001B[43m \u001B[49m\u001B[43mT\u001B[49m\u001B[38;5;241;43m=\u001B[39;49m\u001B[43mT_f\u001B[49m\u001B[43m)\u001B[49m\n\u001B[0;32m     94\u001B[0m f\u001B[38;5;241m.\u001B[39mappend(new_f)\n\u001B[0;32m     95\u001B[0m regrets[i\u001B[38;5;241m+\u001B[39m\u001B[38;5;241m1\u001B[39m] \u001B[38;5;241m=\u001B[39m reg\n",
      "File \u001B[1;32m~\\Desktop\\masters\\thesis material\\paper-optimization-algorithm\\logistic_regression\\lr_steps.py:22\u001B[0m, in \u001B[0;36mfind_f\u001B[1;34m(x, R, S, p, lr, T, tol)\u001B[0m\n\u001B[0;32m     20\u001B[0m \u001B[38;5;66;03m#for t in tqdm(range(T)):\u001B[39;00m\n\u001B[0;32m     21\u001B[0m \u001B[38;5;28;01mfor\u001B[39;00m t \u001B[38;5;129;01min\u001B[39;00m \u001B[38;5;28mrange\u001B[39m(T):\n\u001B[1;32m---> 22\u001B[0m     Q \u001B[38;5;241m=\u001B[39m \u001B[43mfind_Q\u001B[49m\u001B[43m(\u001B[49m\u001B[43mx\u001B[49m\u001B[38;5;241;43m=\u001B[39;49m\u001B[43mx\u001B[49m\u001B[43m,\u001B[49m\u001B[43m \u001B[49m\u001B[43mR\u001B[49m\u001B[38;5;241;43m=\u001B[39;49m\u001B[43mR\u001B[49m\u001B[43m,\u001B[49m\u001B[43m \u001B[49m\u001B[43mf\u001B[49m\u001B[38;5;241;43m=\u001B[39;49m\u001B[43m[\u001B[49m\u001B[43mf\u001B[49m\u001B[43m]\u001B[49m\u001B[43m,\u001B[49m\u001B[43m \u001B[49m\u001B[43mlr\u001B[49m\u001B[38;5;241;43m=\u001B[39;49m\u001B[43mlr\u001B[49m\u001B[43m,\u001B[49m\u001B[43m \u001B[49m\u001B[43mtol\u001B[49m\u001B[38;5;241;43m=\u001B[39;49m\u001B[43mtol\u001B[49m\u001B[43m)\u001B[49m\n\u001B[0;32m     23\u001B[0m     f_g \u001B[38;5;241m=\u001B[39m f_grad(x\u001B[38;5;241m=\u001B[39mx, R\u001B[38;5;241m=\u001B[39mR, f\u001B[38;5;241m=\u001B[39mf, p\u001B[38;5;241m=\u001B[39mp, Q\u001B[38;5;241m=\u001B[39mQ[:, \u001B[38;5;241m0\u001B[39m])\n\u001B[0;32m     24\u001B[0m     f \u001B[38;5;241m=\u001B[39m f \u001B[38;5;241m+\u001B[39m lr \u001B[38;5;241m*\u001B[39m f_g\n",
      "File \u001B[1;32m~\\Desktop\\masters\\thesis material\\paper-optimization-algorithm\\logistic_regression\\lr_steps.py:11\u001B[0m, in \u001B[0;36mfind_Q\u001B[1;34m(x, R, f, lr, tol)\u001B[0m\n\u001B[0;32m      9\u001B[0m \u001B[38;5;28;01mfor\u001B[39;00m j, R_j \u001B[38;5;129;01min\u001B[39;00m \u001B[38;5;28menumerate\u001B[39m(R):\n\u001B[0;32m     10\u001B[0m     \u001B[38;5;28;01mfor\u001B[39;00m i, f_i \u001B[38;5;129;01min\u001B[39;00m \u001B[38;5;28menumerate\u001B[39m(f):\n\u001B[1;32m---> 11\u001B[0m         q_ji \u001B[38;5;241m=\u001B[39m \u001B[43mfind_q\u001B[49m\u001B[43m(\u001B[49m\u001B[43mx\u001B[49m\u001B[38;5;241;43m=\u001B[39;49m\u001B[43mx\u001B[49m\u001B[43m,\u001B[49m\u001B[43m \u001B[49m\u001B[43mR\u001B[49m\u001B[38;5;241;43m=\u001B[39;49m\u001B[43mR_j\u001B[49m\u001B[43m,\u001B[49m\u001B[43m \u001B[49m\u001B[43mf\u001B[49m\u001B[38;5;241;43m=\u001B[39;49m\u001B[43mf_i\u001B[49m\u001B[43m,\u001B[49m\u001B[43m \u001B[49m\u001B[43mlr\u001B[49m\u001B[38;5;241;43m=\u001B[39;49m\u001B[43mlr\u001B[49m\u001B[43m,\u001B[49m\u001B[43m \u001B[49m\u001B[43mtol\u001B[49m\u001B[38;5;241;43m=\u001B[39;49m\u001B[43mtol\u001B[49m\u001B[43m)\u001B[49m\n\u001B[0;32m     12\u001B[0m         Q[j, i] \u001B[38;5;241m=\u001B[39m q_ji\u001B[38;5;241m.\u001B[39mcopy()\n\u001B[0;32m     13\u001B[0m \u001B[38;5;28;01mreturn\u001B[39;00m Q\n",
      "File \u001B[1;32m~\\Desktop\\masters\\thesis material\\paper-optimization-algorithm\\logistic_regression\\lr_utils.py:29\u001B[0m, in \u001B[0;36mfind_q\u001B[1;34m(x, R, f, lr, tol)\u001B[0m\n\u001B[0;32m     26\u001B[0m q \u001B[38;5;241m=\u001B[39m np\u001B[38;5;241m.\u001B[39mrandom\u001B[38;5;241m.\u001B[39mrandn(r, \u001B[38;5;241m1\u001B[39m)\n\u001B[0;32m     28\u001B[0m \u001B[38;5;28;01mfor\u001B[39;00m t \u001B[38;5;129;01min\u001B[39;00m \u001B[38;5;28mrange\u001B[39m(\u001B[38;5;241m1_000_000\u001B[39m):\n\u001B[1;32m---> 29\u001B[0m     q_g \u001B[38;5;241m=\u001B[39m \u001B[43mq_grad\u001B[49m\u001B[43m(\u001B[49m\u001B[43mx\u001B[49m\u001B[38;5;241;43m=\u001B[39;49m\u001B[43mx\u001B[49m\u001B[43m,\u001B[49m\u001B[43m \u001B[49m\u001B[43mq\u001B[49m\u001B[38;5;241;43m=\u001B[39;49m\u001B[43mq\u001B[49m\u001B[43m,\u001B[49m\u001B[43m \u001B[49m\u001B[43mR\u001B[49m\u001B[38;5;241;43m=\u001B[39;49m\u001B[43mR\u001B[49m\u001B[43m,\u001B[49m\u001B[43m \u001B[49m\u001B[43mf\u001B[49m\u001B[38;5;241;43m=\u001B[39;49m\u001B[43mf\u001B[49m\u001B[43m)\u001B[49m\n\u001B[0;32m     30\u001B[0m     q \u001B[38;5;241m=\u001B[39m q \u001B[38;5;241m-\u001B[39m lr \u001B[38;5;241m*\u001B[39m q_g\n\u001B[0;32m     31\u001B[0m     \u001B[38;5;28;01mif\u001B[39;00m np\u001B[38;5;241m.\u001B[39mlinalg\u001B[38;5;241m.\u001B[39mnorm(q_g) \u001B[38;5;241m<\u001B[39m tol:\n",
      "File \u001B[1;32m~\\Desktop\\masters\\thesis material\\paper-optimization-algorithm\\logistic_regression\\lr_utils.py:41\u001B[0m, in \u001B[0;36mq_grad\u001B[1;34m(x, q, R, f)\u001B[0m\n\u001B[0;32m     39\u001B[0m p1 \u001B[38;5;241m=\u001B[39m calc_p1(f\u001B[38;5;241m=\u001B[39mf, x\u001B[38;5;241m=\u001B[39mx)\n\u001B[0;32m     40\u001B[0m p2 \u001B[38;5;241m=\u001B[39m calc_p2(x\u001B[38;5;241m=\u001B[39mx, R\u001B[38;5;241m=\u001B[39mR, q\u001B[38;5;241m=\u001B[39mq)\n\u001B[1;32m---> 41\u001B[0m \u001B[38;5;28;01mreturn\u001B[39;00m \u001B[43m(\u001B[49m\u001B[43m(\u001B[49m\u001B[43mp2\u001B[49m\u001B[43m \u001B[49m\u001B[38;5;241;43m-\u001B[39;49m\u001B[43m \u001B[49m\u001B[43mp1\u001B[49m\u001B[43m)\u001B[49m\u001B[43m \u001B[49m\u001B[38;5;241;43m*\u001B[39;49m\u001B[43m \u001B[49m\u001B[43mR\u001B[49m\u001B[38;5;241;43m.\u001B[39;49m\u001B[43mT\u001B[49m\u001B[43m \u001B[49m\u001B[38;5;241;43m@\u001B[39;49m\u001B[43m \u001B[49m\u001B[43mx\u001B[49m\u001B[43m)\u001B[49m\u001B[38;5;241;43m.\u001B[39;49m\u001B[43mmean\u001B[49m\u001B[43m(\u001B[49m\u001B[43maxis\u001B[49m\u001B[38;5;241;43m=\u001B[39;49m\u001B[38;5;241;43m0\u001B[39;49m\u001B[43m)\u001B[49m\n",
      "File \u001B[1;32m~\\anaconda3\\envs\\deep_learn\\lib\\site-packages\\numpy\\core\\_methods.py:179\u001B[0m, in \u001B[0;36m_mean\u001B[1;34m(a, axis, dtype, out, keepdims, where)\u001B[0m\n\u001B[0;32m    176\u001B[0m         dtype \u001B[38;5;241m=\u001B[39m mu\u001B[38;5;241m.\u001B[39mdtype(\u001B[38;5;124m'\u001B[39m\u001B[38;5;124mf4\u001B[39m\u001B[38;5;124m'\u001B[39m)\n\u001B[0;32m    177\u001B[0m         is_float16_result \u001B[38;5;241m=\u001B[39m \u001B[38;5;28;01mTrue\u001B[39;00m\n\u001B[1;32m--> 179\u001B[0m ret \u001B[38;5;241m=\u001B[39m \u001B[43mumr_sum\u001B[49m\u001B[43m(\u001B[49m\u001B[43marr\u001B[49m\u001B[43m,\u001B[49m\u001B[43m \u001B[49m\u001B[43maxis\u001B[49m\u001B[43m,\u001B[49m\u001B[43m \u001B[49m\u001B[43mdtype\u001B[49m\u001B[43m,\u001B[49m\u001B[43m \u001B[49m\u001B[43mout\u001B[49m\u001B[43m,\u001B[49m\u001B[43m \u001B[49m\u001B[43mkeepdims\u001B[49m\u001B[43m,\u001B[49m\u001B[43m \u001B[49m\u001B[43mwhere\u001B[49m\u001B[38;5;241;43m=\u001B[39;49m\u001B[43mwhere\u001B[49m\u001B[43m)\u001B[49m\n\u001B[0;32m    180\u001B[0m \u001B[38;5;28;01mif\u001B[39;00m \u001B[38;5;28misinstance\u001B[39m(ret, mu\u001B[38;5;241m.\u001B[39mndarray):\n\u001B[0;32m    181\u001B[0m     ret \u001B[38;5;241m=\u001B[39m um\u001B[38;5;241m.\u001B[39mtrue_divide(\n\u001B[0;32m    182\u001B[0m             ret, rcount, out\u001B[38;5;241m=\u001B[39mret, casting\u001B[38;5;241m=\u001B[39m\u001B[38;5;124m'\u001B[39m\u001B[38;5;124munsafe\u001B[39m\u001B[38;5;124m'\u001B[39m, subok\u001B[38;5;241m=\u001B[39m\u001B[38;5;28;01mFalse\u001B[39;00m)\n",
      "\u001B[1;31mKeyboardInterrupt\u001B[0m: "
     ]
    }
   ],
   "source": [
    "skew_s = np.linspace(0, 2, 5)\n",
    "res = np.zeros([len(skew_s), times])\n",
    "\n",
    "for idx, s_skew in enumerate(skew_s):\n",
    "    print(f\"s_std = {s_skew}\")\n",
    "    basic_reg, s_reg = run_algorithm_S(b, d, r, m, sigma, s_skew, times, T_r, T_f,\n",
    "                                       beta_f, beta_r, lr_f, lr_r, avg_frac_r=4, stop_frac_r=4)\n",
    "    res[idx] = basic_reg / s_reg"
   ],
   "metadata": {
    "collapsed": false,
    "pycharm": {
     "name": "#%%\n"
    }
   }
  },
  {
   "cell_type": "code",
   "execution_count": null,
   "outputs": [],
   "source": [],
   "metadata": {
    "collapsed": false,
    "pycharm": {
     "name": "#%%\n"
    }
   }
  },
  {
   "cell_type": "code",
   "execution_count": null,
   "outputs": [],
   "source": [],
   "metadata": {
    "collapsed": false,
    "pycharm": {
     "name": "#%%\n"
    }
   }
  }
 ],
 "metadata": {
  "kernelspec": {
   "name": "pycharm-4f6c12d3",
   "language": "python",
   "display_name": "PyCharm (paper-optimization-algorithm)"
  },
  "language_info": {
   "codemirror_mode": {
    "name": "ipython",
    "version": 2
   },
   "file_extension": ".py",
   "mimetype": "text/x-python",
   "name": "python",
   "nbconvert_exporter": "python",
   "pygments_lexer": "ipython2",
   "version": "2.7.6"
  }
 },
 "nbformat": 4,
 "nbformat_minor": 0
}