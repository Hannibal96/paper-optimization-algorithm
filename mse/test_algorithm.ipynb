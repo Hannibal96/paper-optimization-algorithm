{
 "cells": [
  {
   "cell_type": "code",
   "execution_count": 1,
   "outputs": [],
   "source": [
    "import numpy as np\n",
    "from steps import *\n",
    "from tqdm import tqdm\n",
    "from optimal import *\n",
    "import matplotlib.pyplot as plt\n",
    "import optuna\n",
    "import pickle\n",
    "import warnings\n",
    "warnings.filterwarnings(\"error\")\n"
   ],
   "metadata": {
    "collapsed": false,
    "pycharm": {
     "name": "#%%\n"
    }
   }
  },
  {
   "cell_type": "code",
   "execution_count": 2,
   "outputs": [],
   "source": [
    "def plot_res(x_axis, results, x_label, y_label, label, title, path):\n",
    "    plt.grid()\n",
    "    plt.plot(x_axis, results.mean(axis=1), label=label)\n",
    "    plt.fill_between(x_axis, results.mean(axis=1)+results.std(axis=1), results.mean(axis=1)-results.std(axis=1),\n",
    "                     color='r', alpha=0.5)\n",
    "    plt.xlabel(x_label)\n",
    "    plt.ylabel(y_label)\n",
    "    plt.legend()\n",
    "    plt.savefig(path+\".png\")\n",
    "    plt.clf()\n",
    "\n",
    "    plt.grid()\n",
    "    plt.boxplot(results.T, positions=x_axis)\n",
    "    plt.xlabel(x_label)\n",
    "    plt.ylabel(y_label)\n",
    "    plt.legend()\n",
    "    plt.savefig(\"BP-\"+path+\".png\")\n",
    "    plt.clf()"
   ],
   "metadata": {
    "collapsed": false,
    "pycharm": {
     "name": "#%%\n"
    }
   }
  },
  {
   "cell_type": "code",
   "execution_count": 3,
   "outputs": [
    {
     "name": "stderr",
     "output_type": "stream",
     "text": [
      "\u001B[32m[I 2023-05-12 20:11:39,136]\u001B[0m Using an existing study with name 'optuna_optimization_d=20_r=5_sigma=matrix_type.DIAG_s=matrix_type.IDENTITY_m=20_Tr=100_var=1' instead of creating a new one.\u001B[0m\n"
     ]
    }
   ],
   "source": [
    "d = 20\n",
    "opt_r = 5\n",
    "m = 20\n",
    "T_r = 100\n",
    "times = 10\n",
    "opt_sigma = 1\n",
    "sigma_type = matrix_type.DIAG\n",
    "s_type = matrix_type.IDENTITY\n",
    "\n",
    "name = f\"optuna_optimization_d={d}_r={opt_r}_sigma={sigma_type}_s={s_type}_m={m}_Tr={T_r}_var={opt_sigma}\"\n",
    "study = optuna.create_study(study_name=f'{name}',\n",
    "                            storage=f'sqlite:///./../optuna/{name}.db ',\n",
    "                            direction='minimize', load_if_exists=True)"
   ],
   "metadata": {
    "collapsed": false,
    "pycharm": {
     "name": "#%%\n"
    }
   }
  },
  {
   "cell_type": "code",
   "execution_count": null,
   "outputs": [
    {
     "name": "stdout",
     "output_type": "stream",
     "text": [
      " ***** Sigma=0.5 *****\n",
      "l_star=15 ; regret_mix=0.7304976777765652 ; last_regret=0.8643475856377519\n",
      "l_star=14 ; regret_mix=0.7035713161429785 ; last_regret=0.8116785243431476\n",
      "l_star=15 ; regret_mix=0.6933758819668112 ; last_regret=0.816793297072002\n",
      "l_star=12 ; regret_mix=0.6888220298237453 ; last_regret=0.8236106617471113\n",
      "l_star=18 ; regret_mix=0.6742239569665369 ; last_regret=0.7711118555797836\n",
      "l_star=14 ; regret_mix=0.709879395657479 ; last_regret=0.8471496950399728\n",
      "l_star=13 ; regret_mix=0.6877988959735862 ; last_regret=0.8232323293091035\n",
      "l_star=15 ; regret_mix=0.6774051896194873 ; last_regret=0.800398843127305\n",
      "l_star=12 ; regret_mix=0.6971422803241883 ; last_regret=0.8381399944410003\n",
      "l_star=14 ; regret_mix=0.6881012829791996 ; last_regret=0.8088472849504943\n",
      " ***** Sigma=1.0 *****\n",
      "l_star=12 ; regret_mix=0.5648746863196206 ; last_regret=0.6546822312270139\n",
      "l_star=9 ; regret_mix=0.3376828865304244 ; last_regret=0.4160944934706894\n",
      "l_star=11 ; regret_mix=0.6079226857694537 ; last_regret=0.727510583423498\n",
      "l_star=9 ; regret_mix=0.6171779407152439 ; last_regret=0.7404740762741293\n",
      "l_star=9 ; regret_mix=0.697112931013975 ; last_regret=0.8764035814364266\n",
      "l_star=13 ; regret_mix=0.5932464028383937 ; last_regret=0.7209853235488374\n",
      "l_star=10 ; regret_mix=0.6272459606440195 ; last_regret=0.7568532983382658\n",
      "l_star=12 ; regret_mix=0.684236278951339 ; last_regret=0.8052165737573563\n",
      "l_star=9 ; regret_mix=0.4497885970181598 ; last_regret=0.5485024152120049\n",
      "l_star=9 ; regret_mix=0.5889246670293582 ; last_regret=0.7327710368442499\n",
      " ***** Sigma=1.5 *****\n",
      "l_star=11 ; regret_mix=0.6001025030821159 ; last_regret=0.7000047439515003\n",
      "l_star=8 ; regret_mix=0.4899204302203545 ; last_regret=0.5963404201286406\n",
      "l_star=9 ; regret_mix=0.32777294402935625 ; last_regret=0.40044805583465015\n",
      "l_star=9 ; regret_mix=0.620027086784474 ; last_regret=0.7570498011117219\n",
      "l_star=8 ; regret_mix=0.4994742881335308 ; last_regret=0.5961550727205541\n",
      "l_star=11 ; regret_mix=0.5208040023249245 ; last_regret=0.6146162174295963\n",
      "l_star=8 ; regret_mix=0.3568277526507448 ; last_regret=0.43708751757952263\n",
      "l_star=9 ; regret_mix=0.2368429319304056 ; last_regret=0.2844259528673054\n",
      "l_star=9 ; regret_mix=0.5240674586722499 ; last_regret=0.6242629519154752\n",
      "l_star=9 ; regret_mix=0.30420314900711765 ; last_regret=0.36988851968819053\n",
      " ***** Sigma=2.0 *****\n",
      "l_star=8 ; regret_mix=0.40288958938968 ; last_regret=0.5091232620673027\n",
      "l_star=7 ; regret_mix=0.33228160876616347 ; last_regret=0.39067921530912914\n",
      "l_star=9 ; regret_mix=0.20856880701486682 ; last_regret=0.26292808708875964\n",
      "l_star=10 ; regret_mix=0.5359424112179503 ; last_regret=0.6186299317532316\n",
      "l_star=10 ; regret_mix=0.33828918308258177 ; last_regret=0.4019693406973325\n",
      "l_star=7 ; regret_mix=0.09969294130870698 ; last_regret=0.14477157979958946\n",
      "l_star=9 ; regret_mix=0.6294386873568475 ; last_regret=0.7394291785216165\n",
      "l_star=9 ; regret_mix=0.22359319365231028 ; last_regret=0.26453293164963654\n",
      "l_star=9 ; regret_mix=0.37582833102748925 ; last_regret=0.4438465165969248\n",
      "l_star=8 ; regret_mix=0.2377762160538083 ; last_regret=0.2900822912938559\n",
      " ***** Sigma=2.5 *****\n",
      "l_star=8 ; regret_mix=0.5257583134430672 ; last_regret=0.6224325704575353\n",
      "l_star=8 ; regret_mix=0.2933732809555541 ; last_regret=0.3518382834974797\n",
      "l_star=8 ; regret_mix=0.21450563279175272 ; last_regret=0.25531625373260264\n",
      "l_star=8 ; regret_mix=0.2151930946247854 ; last_regret=0.28587216651001\n",
      "l_star=10 ; regret_mix=0.4353308050099921 ; last_regret=0.5152602961686772\n",
      "l_star=9 ; regret_mix=0.5064160355697622 ; last_regret=0.5809199198023587\n",
      "l_star=10 ; regret_mix=0.5037866477366904 ; last_regret=0.572192571372218\n",
      "l_star=10 ; regret_mix=0.5214768042211172 ; last_regret=0.618845801112312\n",
      "l_star=9 ; regret_mix=0.1054341158864479 ; last_regret=0.13274823958874557\n",
      "l_star=8 ; regret_mix=0.32008863799964876 ; last_regret=0.3948210275571594\n",
      " ***** Sigma=3.0 *****\n",
      "l_star=8 ; regret_mix=0.14905733506481755 ; last_regret=0.18231605537536955\n",
      "l_star=10 ; regret_mix=0.023797261750079263 ; last_regret=0.032778091922049404\n",
      "l_star=8 ; regret_mix=0.22703002011250445 ; last_regret=0.2660461648246071\n",
      "l_star=7 ; regret_mix=0.12153108375988236 ; last_regret=0.17414993039801957\n",
      "l_star=9 ; regret_mix=0.4602151800543001 ; last_regret=0.5361686849296201\n",
      "l_star=6 ; regret_mix=0.15790823277324287 ; last_regret=0.20078791086005476\n",
      "l_star=6 ; regret_mix=0.07755457031748084 ; last_regret=0.09718049691447535\n",
      "l_star=8 ; regret_mix=0.04875489968641609 ; last_regret=0.0645548199416908\n",
      "l_star=7 ; regret_mix=0.6912900984961683 ; last_regret=1.061080560145144\n",
      "l_star=8 ; regret_mix=0.22401250231632147 ; last_regret=0.2544997815573633\n",
      " ***** Sigma=3.5 *****\n",
      "l_star=7 ; regret_mix=0.012491504014665353 ; last_regret=0.0214868628616709\n",
      "l_star=9 ; regret_mix=0.3979852917942699 ; last_regret=0.4756044149090215\n",
      "l_star=6 ; regret_mix=0.18144667010514964 ; last_regret=0.23235060091145707\n",
      "l_star=8 ; regret_mix=0.24458188514241375 ; last_regret=0.2988042391655478\n",
      "l_star=7 ; regret_mix=0.053806940308719076 ; last_regret=0.07317036067714319\n",
      "l_star=8 ; regret_mix=0.5052229577170294 ; "
     ]
    }
   ],
   "source": [
    "# Sigma\n",
    "sigma_max = 10.0\n",
    "sigma_min = 0.5\n",
    "spaces = 0.5\n",
    "load = False\n",
    "\n",
    "suffix = f'{sigma_min}-{sigma_max}-{spaces}_opt-r={opt_r}_opt-sigma={opt_sigma}'\n",
    "\n",
    "if not load:\n",
    "    d_sigmas = np.linspace(sigma_min, sigma_max, int((sigma_max-sigma_min)/spaces)+1)\n",
    "    results = np.zeros([len(d_sigmas), times])\n",
    "    for idx, d_sigma in enumerate(d_sigmas):\n",
    "        print(f\" ***** Sigma={d_sigma} *****\")\n",
    "        regret_list, regret_mix_list = run_algorithm(d=d, r=opt_r, m=m, sigma_type=sigma_type, s_type=s_type,\n",
    "                                                     times=times, d_sigma=d_sigma, T_r=T_r,\n",
    "                                                     **study.best_params)\n",
    "        ratio = regret_list.min(axis=1) / regret_mix_list\n",
    "        results[idx, :] = ratio\n",
    "\n",
    "    pickle.dump(results, open(f'acc-ratio_vs_sigma0_{suffix}.p', 'wb'))\n",
    "    pickle.dump(d_sigmas, open(f'sigma0-acc_{suffix}.p', 'wb'))\n",
    "\n",
    "else:\n",
    "    results = pickle.load(open(f'acc-ratio_vs_sigma0_{suffix}.p', 'rb'))\n",
    "    d_sigmas = pickle.load(open(f'sigma0-acc_{suffix}.p', 'rb'))\n",
    "\n",
    "plot_res(x_axis=d_sigmas, results=results,\n",
    "         x_label=r'$\\sigma_0$', y_label='Accuracy Ratio', label=f'd={d}, r={opt_r}',\n",
    "         title=r'results accuracy ratio vs $\\sigma_0$',\n",
    "         path=f\"results_accuracy_ratio_sigma0_{suffix}\")"
   ],
   "metadata": {
    "collapsed": false,
    "pycharm": {
     "name": "#%%\n",
     "is_executing": true
    }
   }
  },
  {
   "cell_type": "code",
   "execution_count": null,
   "outputs": [],
   "source": [
    "# r\n",
    "r_max = 10\n",
    "r_min = 1\n",
    "spaces = 1\n",
    "load = False\n",
    "\n",
    "suffix = f'{r_min}-{r_max}-{spaces}_opt-r={opt_r}_opt-sigma={opt_sigma}'\n",
    "\n",
    "if not load:\n",
    "    r_list = range(r_min, r_max, spaces)\n",
    "    results = np.zeros([len(r_list), times])\n",
    "    for idx, r in enumerate(r_list):\n",
    "        regret_list, regret_mix_list = run_algorithm(d=d, r=r, m=m, sigma_type=sigma_type, s_type=s_type,\n",
    "                                                     times=times, d_sigma=opt_sigma, T_r=T_r,\n",
    "                                                     **study.best_params)\n",
    "        ratio = regret_list.min(axis=1) / regret_mix_list\n",
    "        results[idx, :] = ratio\n",
    "\n",
    "    pickle.dump(results, open(f'acc-ratio_vs_r_.p', 'wb'))\n",
    "    pickle.dump(r_list, open(f'r-acc_{suffix}.p', 'wb'))\n",
    "\n",
    "else:\n",
    "    results = pickle.load(open(f'acc-ratio_vs_r_{suffix}.p', 'rb'))\n",
    "    r_list = pickle.load(open(f'r-acc_{suffix}.p', 'rb'))\n",
    "\n",
    "plot_res(x_axis=r_list, results=results,\n",
    "         x_label='r', y_label='Accuracy Ratio', label=f\"d={d}\"+r\" $\\sigma_0$=\"+f\"{opt_sigma}\",\n",
    "         title='results accuracy ratio vs r',\n",
    "         path=f\"results_accuracy_ratio_r_{suffix}\")\n"
   ],
   "metadata": {
    "collapsed": false,
    "pycharm": {
     "name": "#%%\n",
     "is_executing": true
    }
   }
  },
  {
   "cell_type": "code",
   "execution_count": null,
   "outputs": [],
   "source": [
    "# d\n",
    "load = False\n",
    "d_max = 20\n",
    "d_min = opt_r+2\n",
    "spaces = 1\n",
    "\n",
    "if not load:\n",
    "    d_list = range(d_min, d_max, spaces)\n",
    "    results = np.zeros([len(d_list), times])\n",
    "\n",
    "    for idx, d in enumerate(d_list):\n",
    "        regret_list, regret_mix_list = run_algorithm(d=d, r=opt_r, m=m, sigma_type=sigma_type, s_type=s_type,\n",
    "                                                     times=times, d_sigma=opt_sigma, T_r=T_r,\n",
    "                                                     **study.best_params)\n",
    "        ratio = regret_list.min(axis=1) / regret_mix_list\n",
    "        results[idx, :] = ratio\n",
    "\n",
    "    pickle.dump(results, open(f'acc-ratio_vs_d_{d_min}-{d_max}-{spaces}.p', 'wb'))\n",
    "    pickle.dump(r_list, open(f'd-acc_{d_min}-{d_max}-{spaces}.p', 'wb'))\n",
    "\n",
    "else:\n",
    "    results = pickle.load(open(f'acc-ratio_vs_d_{d_min}-{d_max}-{spaces}.p', 'rb'))\n",
    "    d_list = pickle.load(open(f'd-acc_{d_min}-{d_max}-{spaces}.p', 'rb'))\n",
    "\n",
    "plot_res(x_axis=d_list, results=results,\n",
    "         x_label='d', y_label='Accuracy Ratio', label=f\"r={opt_r}\"+r\" $\\sigma_0$=\"+f\"{opt_sigma}\",\n",
    "         title='results accuracy ratio vs d',\n",
    "         path=f\"results_accuracy_ratio_d_{d_min}-{d_max}-{spaces}\")"
   ],
   "metadata": {
    "collapsed": false,
    "pycharm": {
     "name": "#%%\n",
     "is_executing": true
    }
   }
  },
  {
   "cell_type": "code",
   "execution_count": null,
   "outputs": [],
   "source": [
    "# Regrets\n",
    "load = False\n",
    "\n",
    "if not load:\n",
    "    d=20\n",
    "    regret_list, regret_mix_list = run_algorithm(d=d, r=opt_r, m=m, sigma_type=sigma_type, s_type=s_type,\n",
    "                                                     times=times, d_sigma=opt_sigma, T_r=T_r,\n",
    "                                                     **study.best_params)\n",
    "    pickle.dump(regret_list, open(f'regrets.p', 'wb'))\n",
    "\n",
    "else:\n",
    "    regret_list = pickle.load(open(f'regrets.p', 'rb'))\n",
    "\n",
    "\n",
    "plot_res(x_axis=range(m+2), results=regret_list.T,\n",
    "         x_label='#Iteration', y_label='Regret', label=f'd={d} r={opt_r} '+r'$\\sigma_0$='+f'{opt_sigma}',\n",
    "         title='Regret vs #Iteration',\n",
    "         path=\"Regret_vs_Iteration\")\n"
   ],
   "metadata": {
    "collapsed": false,
    "pycharm": {
     "name": "#%%\n",
     "is_executing": true
    }
   }
  },
  {
   "cell_type": "code",
   "execution_count": null,
   "outputs": [],
   "source": [],
   "metadata": {
    "collapsed": false,
    "pycharm": {
     "name": "#%%\n"
    }
   }
  }
 ],
 "metadata": {
  "kernelspec": {
   "name": "pycharm-4f6c12d3",
   "language": "python",
   "display_name": "PyCharm (paper-optimization-algorithm)"
  },
  "language_info": {
   "codemirror_mode": {
    "name": "ipython",
    "version": 2
   },
   "file_extension": ".py",
   "mimetype": "text/x-python",
   "name": "python",
   "nbconvert_exporter": "python",
   "pygments_lexer": "ipython2",
   "version": "2.7.6"
  }
 },
 "nbformat": 4,
 "nbformat_minor": 0
}