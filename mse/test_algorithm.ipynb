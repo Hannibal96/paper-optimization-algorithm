{
 "cells": [
  {
   "cell_type": "code",
   "execution_count": 1,
   "outputs": [],
   "source": [
    "import numpy as np\n",
    "from steps import *\n",
    "from tqdm import tqdm\n",
    "from optimal import *\n",
    "import matplotlib.pyplot as plt\n",
    "import optuna\n",
    "import pickle\n",
    "import warnings\n",
    "warnings.filterwarnings(\"error\")\n"
   ],
   "metadata": {
    "collapsed": false,
    "pycharm": {
     "name": "#%%\n"
    }
   }
  },
  {
   "cell_type": "code",
   "execution_count": 2,
   "outputs": [],
   "source": [
    "def plot_res(x_axis, results, x_label, y_label, label, title, path):\n",
    "    plt.grid()\n",
    "    plt.plot(x_axis, results.mean(axis=1), label=label)\n",
    "    plt.fill_between(x_axis, results.mean(axis=1)+results.std(axis=1), results.mean(axis=1)-results.std(axis=1),\n",
    "                     color='r', alpha=0.5)\n",
    "    plt.xlabel(x_label)\n",
    "    plt.ylabel(y_label)\n",
    "    plt.title(title)\n",
    "    plt.legend()\n",
    "    plt.savefig(path+\".png\")\n",
    "    plt.clf()"
   ],
   "metadata": {
    "collapsed": false,
    "pycharm": {
     "name": "#%%\n"
    }
   }
  },
  {
   "cell_type": "code",
   "execution_count": 3,
   "outputs": [
    {
     "name": "stderr",
     "output_type": "stream",
     "text": [
      "\u001B[32m[I 2023-05-09 11:48:01,420]\u001B[0m Using an existing study with name 'optuna_optimization_d=20_r=3_sigma=matrix_type.DIAG_s=matrix_type.IDENTITY_m=20_Tr=100_var=3' instead of creating a new one.\u001B[0m\n"
     ]
    }
   ],
   "source": [
    "d = 20\n",
    "r = 3\n",
    "m = 20\n",
    "T_r = 100\n",
    "times = 10\n",
    "d_sigma = 3\n",
    "sigma_type = matrix_type.DIAG\n",
    "s_type = matrix_type.IDENTITY\n",
    "\n",
    "name = f\"optuna_optimization_d={d}_r={r}_sigma={sigma_type}_s={s_type}_m={m}_Tr={T_r}_var={d_sigma}\"\n",
    "study = optuna.create_study(study_name=f'{name}',\n",
    "                            storage=f'sqlite:///./../optuna/{name}.db ',\n",
    "                            direction='minimize', load_if_exists=True)"
   ],
   "metadata": {
    "collapsed": false,
    "pycharm": {
     "name": "#%%\n"
    }
   }
  },
  {
   "cell_type": "code",
   "execution_count": 4,
   "outputs": [
    {
     "name": "stderr",
     "output_type": "stream",
     "text": [
      "Exception ignored in: <_io.FileIO name='acc-ratio_vs_sigma0_0.5-7.0-0.5.p' mode='rb' closefd=True>\n",
      "ResourceWarning: unclosed file <_io.BufferedReader name='acc-ratio_vs_sigma0_0.5-7.0-0.5.p'>\n",
      "Exception ignored in: <_io.FileIO name='sigma0-acc_0.5-7.0-0.5.p' mode='rb' closefd=True>\n",
      "ResourceWarning: unclosed file <_io.BufferedReader name='sigma0-acc_0.5-7.0-0.5.p'>\n"
     ]
    },
    {
     "data": {
      "text/plain": "<Figure size 432x288 with 0 Axes>"
     },
     "metadata": {},
     "output_type": "display_data"
    }
   ],
   "source": [
    "# Sigma\n",
    "sigma_max = 7.0\n",
    "sigma_min = 0.5\n",
    "spaces = 0.5\n",
    "load = True\n",
    "\n",
    "if not load:\n",
    "    d_sigmas = np.linspace(sigma_min, sigma_max, int((sigma_max-sigma_min)/spaces)+1)\n",
    "    results = np.zeros([len(d_sigmas), times])\n",
    "    for idx, d_sigma in enumerate(d_sigmas):\n",
    "        print(f\" ***** Sigma={d_sigma} *****\")\n",
    "        regret_list, regret_mix_list = run_algorithm(d=d, r=r, m=m, sigma_type=sigma_type, s_type=s_type,\n",
    "                                                     times=times, d_sigma=d_sigma, T_r=T_r,\n",
    "                                                     **study.best_params)\n",
    "        ratio = regret_list.min(axis=1) / regret_mix_list\n",
    "        results[idx, :] = ratio\n",
    "\n",
    "    pickle.dump(results, open(f'acc-ratio_vs_sigma0_{sigma_min}-{sigma_max}-{spaces}.p', 'wb'))\n",
    "    pickle.dump(d_sigmas, open(f'sigma0-acc_{sigma_min}-{sigma_max}-{spaces}.p', 'wb'))\n",
    "\n",
    "else:\n",
    "    results = pickle.load(open(f'acc-ratio_vs_sigma0_{sigma_min}-{sigma_max}-{spaces}.p', 'rb'))\n",
    "    d_sigmas = pickle.load(open(f'sigma0-acc_{sigma_min}-{sigma_max}-{spaces}.p', 'rb'))\n",
    "\n",
    "plot_res(x_axis=d_sigmas, results=results,\n",
    "         x_label=r'$\\sigma_0$', y_label='Accuracy Ratio', label=f'd={d}, r={r}',\n",
    "         title=r'results accuracy ratio vs $\\sigma_0$',\n",
    "         path=f\"results_accuracy_ratio_sigma0_{sigma_min}-{sigma_max}-{spaces}\")"
   ],
   "metadata": {
    "collapsed": false,
    "pycharm": {
     "name": "#%%\n"
    }
   }
  },
  {
   "cell_type": "code",
   "execution_count": 5,
   "outputs": [
    {
     "name": "stdout",
     "output_type": "stream",
     "text": [
      "l_star=3 ; regret_mix=96.82689328684744 ; last_regret=98.23538468645073\n",
      "l_star=2 ; regret_mix=32.524438142677724 ; last_regret=32.62119784711538\n",
      "l_star=2 ; regret_mix=32.58299629301108 ; last_regret=32.61735970216703\n",
      "l_star=2 ; regret_mix=272.06197788249256 ; last_regret=282.0381884251679\n",
      "l_star=2 ; regret_mix=74.8412981994217 ; last_regret=82.88588379275443\n",
      "l_star=2 ; regret_mix=74.5634186208246 ; last_regret=75.51303576238593\n",
      "l_star=2 ; regret_mix=11.9681998878107 ; last_regret=12.005308138613342\n",
      "l_star=2 ; regret_mix=31.321773032061728 ; last_regret=31.339689469845524\n",
      "l_star=2 ; regret_mix=23.17175731420101 ; last_regret=23.188450002393445\n",
      "l_star=4 ; regret_mix=18.386216339284207 ; last_regret=18.727315712464847\n",
      "l_star=3 ; regret_mix=23.07454781757989 ; last_regret=23.27481819074219\n",
      "l_star=3 ; regret_mix=5.441306652433337 ; last_regret=5.638095187213958\n",
      "l_star=4 ; regret_mix=13.962714609639367 ; last_regret=14.255146530272066\n",
      "l_star=3 ; regret_mix=8.237220070698768 ; last_regret=8.471910327038053\n",
      "l_star=4 ; regret_mix=4.004193622138049 ; last_regret=4.199851682955183\n",
      "l_star=4 ; regret_mix=15.793598190796727 ; last_regret=16.470289341366087\n",
      "l_star=4 ; regret_mix=5.039721965919642 ; last_regret=5.383381988368223\n",
      "l_star=4 ; regret_mix=4.001277918044118 ; last_regret=4.314628740997818\n",
      "l_star=4 ; regret_mix=58.162643969630295 ; last_regret=58.88668038262177\n",
      "l_star=3 ; regret_mix=4.712953980816232 ; last_regret=4.788404444891565\n",
      "l_star=5 ; regret_mix=7.371645411831861 ; last_regret=8.19522049610906\n",
      "l_star=4 ; regret_mix=11.033606711555406 ; last_regret=11.99450931718168\n",
      "l_star=6 ; regret_mix=2.509826518463802 ; last_regret=2.7610529192718407\n",
      "l_star=4 ; regret_mix=67.67950859086726 ; last_regret=69.32644468252433\n",
      "l_star=4 ; regret_mix=9.282689903808643 ; last_regret=9.630456510957597\n",
      "l_star=6 ; regret_mix=22.29314539503815 ; last_regret=23.875743117206337\n",
      "l_star=5 ; regret_mix=2.0202756243263833 ; last_regret=2.1337841847800374\n",
      "l_star=4 ; regret_mix=28.969778704340634 ; last_regret=30.51119237078172\n",
      "l_star=5 ; regret_mix=2.5527794969455404 ; last_regret=2.6826867238125134\n",
      "l_star=6 ; regret_mix=2.8619209621491364 ; last_regret=3.065443303514627\n",
      "l_star=7 ; regret_mix=3.8953666738835815 ; last_regret=4.106118219504388\n",
      "l_star=6 ; regret_mix=0.5724762830601536 ; last_regret=0.6894843094448663\n",
      "l_star=7 ; regret_mix=7.658123435574591 ; last_regret=8.781386847991822\n",
      "l_star=6 ; regret_mix=4.387624979566666 ; last_regret=4.747352629120561\n",
      "l_star=6 ; regret_mix=5.71329950894239 ; last_regret=6.255387110913951\n",
      "l_star=6 ; regret_mix=2.90175999352061 ; last_regret=3.232995063616325\n",
      "l_star=6 ; regret_mix=2.9833250097893336 ; last_regret=3.2724713973586073\n",
      "l_star=6 ; regret_mix=8.267165485845188 ; last_regret=9.126664942846565\n",
      "l_star=6 ; regret_mix=5.8657054008179 ; last_regret=6.381421141745125\n",
      "l_star=5 ; regret_mix=2.6746874563630025 ; last_regret=3.036999092416024\n",
      "l_star=6 ; regret_mix=2.364314709287288 ; last_regret=2.930165696331609\n",
      "l_star=6 ; regret_mix=2.023716410158537 ; last_regret=2.4832981557517515\n",
      "l_star=6 ; regret_mix=2.9024845978425935 ; last_regret=3.280647830709808\n",
      "l_star=7 ; regret_mix=1.9708810459182928 ; last_regret=2.1985550472752218\n",
      "l_star=7 ; regret_mix=5.424010181644585 ; last_regret=6.515038901715881\n",
      "l_star=7 ; regret_mix=7.281390470223471 ; last_regret=9.199588859595858\n",
      "l_star=7 ; regret_mix=1.3913132246680413 ; last_regret=1.6277416258248139\n",
      "l_star=7 ; regret_mix=3.243840140572088 ; last_regret=3.6780672714374636\n",
      "l_star=7 ; regret_mix=4.8301516292544004 ; last_regret=5.359118993498795\n",
      "l_star=6 ; regret_mix=7.907552130821982 ; last_regret=9.16629954014209\n",
      "l_star=8 ; regret_mix=2.0924795336280164 ; last_regret=2.2146851967975683\n",
      "l_star=8 ; regret_mix=2.2662875900897665 ; last_regret=2.700185944258689\n",
      "l_star=9 ; regret_mix=1.0533827034747714 ; last_regret=1.186405941026204\n",
      "l_star=8 ; regret_mix=1.7508699743874214 ; last_regret=2.097083115368355\n",
      "l_star=9 ; regret_mix=1.7380341960974615 ; last_regret=1.9461688384371896\n",
      "l_star=9 ; regret_mix=2.5470063455309377 ; last_regret=2.9553696974859083\n",
      "l_star=8 ; regret_mix=2.4343497141852057 ; last_regret=2.8600373072827834\n",
      "l_star=9 ; regret_mix=1.6364326994904121 ; last_regret=1.9096405997417123\n",
      "l_star=8 ; regret_mix=2.4060331169108506 ; last_regret=2.8017796295332626\n",
      "l_star=9 ; regret_mix=0.8411742243656769 ; last_regret=0.9724572789717555\n",
      "l_star=9 ; regret_mix=2.1211248642170872 ; last_regret=2.5128801834072227\n",
      "l_star=10 ; regret_mix=0.7384415265399649 ; last_regret=0.8820675353924317\n",
      "l_star=11 ; regret_mix=1.1756962849957204 ; last_regret=1.3621362241892674\n",
      "l_star=9 ; regret_mix=6.198313931548171 ; last_regret=7.379449092135917\n",
      "l_star=10 ; regret_mix=1.0785293203076567 ; last_regret=1.2845659188724174\n",
      "l_star=11 ; regret_mix=0.45593542393899866 ; last_regret=0.603169269352644\n",
      "l_star=10 ; regret_mix=0.7233595707738678 ; last_regret=0.8581136851755753\n",
      "l_star=9 ; regret_mix=1.6989421997160958 ; last_regret=1.969542027611379\n",
      "l_star=11 ; regret_mix=0.36004259014399703 ; last_regret=0.4483275523448847\n",
      "l_star=11 ; regret_mix=2.857643724413003 ; last_regret=3.2678892464489393\n",
      "l_star=10 ; regret_mix=4.126534870083159 ; last_regret=5.174107425331798\n",
      "l_star=12 ; regret_mix=0.8772734019337335 ; last_regret=1.0792685323655178\n",
      "l_star=14 ; regret_mix=0.31328986246075796 ; last_regret=0.44431085027711703\n",
      "l_star=11 ; regret_mix=0.8953001725046871 ; last_regret=1.0878635398512222\n",
      "l_star=9 ; regret_mix=2.6514216730696156 ; last_regret=3.1108390675009185\n",
      "l_star=11 ; regret_mix=0.7416713116506927 ; last_regret=0.8827246537134559\n",
      "l_star=12 ; regret_mix=0.4027092825314017 ; last_regret=0.5040744576276511\n",
      "l_star=11 ; regret_mix=1.2741222120873255 ; last_regret=1.4856028078802674\n",
      "l_star=12 ; regret_mix=1.1936323119251455 ; last_regret=1.4748047706774547\n",
      "l_star=11 ; regret_mix=1.5639152944746906 ; last_regret=2.037948825506296\n",
      "l_star=11 ; regret_mix=0.9071808840928665 ; last_regret=1.1143928005393844\n",
      "l_star=11 ; regret_mix=0.4349000296315949 ; last_regret=0.632020790335046\n",
      "l_star=12 ; regret_mix=0.14007378434737966 ; last_regret=0.1968539270133298\n",
      "l_star=12 ; regret_mix=0.17167490625923484 ; last_regret=0.2562889798740018\n",
      "l_star=11 ; regret_mix=0.7437564672816814 ; last_regret=0.9623471560162483\n",
      "l_star=16 ; regret_mix=0.09921467830152537 ; last_regret=0.13947153907383406\n",
      "l_star=14 ; regret_mix=1.0952404506999984 ; last_regret=1.2666596375995942\n",
      "l_star=12 ; regret_mix=2.2769651495630234 ; last_regret=2.706312456148997\n",
      "l_star=12 ; regret_mix=0.4681601803863131 ; last_regret=0.6484272538453503\n",
      "l_star=11 ; regret_mix=0.2841606633388905 ; last_regret=0.399618708778583\n"
     ]
    },
    {
     "name": "stderr",
     "output_type": "stream",
     "text": [
      "Exception ignored in: <_io.FileIO name='acc-ratio_vs_r_1-10-1.p' mode='wb' closefd=True>\n",
      "ResourceWarning: unclosed file <_io.BufferedWriter name='acc-ratio_vs_r_1-10-1.p'>\n",
      "Exception ignored in: <_io.FileIO name='r-acc_1-10-1.p' mode='wb' closefd=True>\n",
      "ResourceWarning: unclosed file <_io.BufferedWriter name='r-acc_1-10-1.p'>\n"
     ]
    },
    {
     "data": {
      "text/plain": "<Figure size 432x288 with 0 Axes>"
     },
     "metadata": {},
     "output_type": "display_data"
    }
   ],
   "source": [
    "# r\n",
    "r_max = 10\n",
    "r_min = 1\n",
    "spaces = 1\n",
    "load = False\n",
    "\n",
    "if not load:\n",
    "    d_sigma = 3\n",
    "    r_list = range(r_min, r_max, spaces)\n",
    "    results = np.zeros([len(r_list), times])\n",
    "    for idx, r in enumerate(r_list):\n",
    "        regret_list, regret_mix_list = run_algorithm(d=d, r=r, m=m, sigma_type=sigma_type, s_type=s_type,\n",
    "                                                     times=times, d_sigma=d_sigma, T_r=T_r,\n",
    "                                                     **study.best_params)\n",
    "        ratio = regret_list.min(axis=1) / regret_mix_list\n",
    "        results[idx, :] = ratio\n",
    "\n",
    "    pickle.dump(results, open(f'acc-ratio_vs_r_{r_min}-{r_max}-{spaces}.p', 'wb'))\n",
    "    pickle.dump(r_list, open(f'r-acc_{r_min}-{r_max}-{spaces}.p', 'wb'))\n",
    "\n",
    "else:\n",
    "    results = pickle.load(open(f'acc-ratio_vs_r_{r_min}-{r_max}-{spaces}.p', 'rb'))\n",
    "    r_list = pickle.load(open(f'r-acc_{r_min}-{r_max}-{spaces}.p', 'rb'))\n",
    "\n",
    "plot_res(x_axis=r_list, results=results,\n",
    "         x_label='r', y_label='Accuracy Ratio', label=f\"d={d}\"+r\" $\\sigma_0$=\"+f\"{d_sigma}\",\n",
    "         title='results accuracy ratio vs r',\n",
    "         path=f\"results_accuracy_ratio_r_{r_min}-{r_max}-{spaces}\")\n"
   ],
   "metadata": {
    "collapsed": false,
    "pycharm": {
     "name": "#%%\n"
    }
   }
  },
  {
   "cell_type": "code",
   "execution_count": 6,
   "outputs": [
    {
     "name": "stdout",
     "output_type": "stream",
     "text": [
      "l_star=4 ; regret_mix=0.39044804941545674 ; last_regret=0.42875717849431966\n",
      "l_star=4 ; regret_mix=0.7857597123687875 ; last_regret=0.8852357583538806\n",
      "l_star=4 ; regret_mix=0.022791028218224936 ; last_regret=0.024663039314516896\n",
      "l_star=4 ; regret_mix=0.01001295808634206 ; last_regret=0.028819097803623163\n",
      "l_star=4 ; regret_mix=1.4246359971024394 ; last_regret=1.5332598832955309\n",
      "l_star=4 ; regret_mix=0.3055001278559912 ; last_regret=0.3406735783076274\n",
      "l_star=4 ; regret_mix=0.5850844106131691 ; last_regret=0.6055418585321162\n",
      "l_star=4 ; regret_mix=0.020574111558284303 ; last_regret=0.026071621841097004\n",
      "l_star=4 ; regret_mix=0.18546217845873628 ; last_regret=0.1969612179185177\n",
      "l_star=4 ; regret_mix=0.16168991637393987 ; last_regret=0.17869074992617848\n",
      "l_star=4 ; regret_mix=0.2730823285325291 ; last_regret=0.2726424073939106\n",
      "l_star=4 ; regret_mix=1.5684432218215376 ; last_regret=1.6327007320112004\n",
      "l_star=4 ; regret_mix=0.8161102630254774 ; last_regret=0.8537706762878785\n",
      "l_star=4 ; regret_mix=0.05210681623595209 ; last_regret=0.056278529033174866\n",
      "l_star=5 ; regret_mix=0.0064688836250882025 ; last_regret=0.016047403053561022\n",
      "l_star=4 ; regret_mix=0.9484180291991924 ; last_regret=1.061474081724458\n",
      "l_star=4 ; regret_mix=0.5064128792415816 ; last_regret=0.5847788144179333\n",
      "l_star=5 ; regret_mix=1.886859284454122 ; last_regret=1.9999221129677645\n",
      "l_star=4 ; regret_mix=0.6103027138439772 ; last_regret=0.697750222580711\n",
      "l_star=4 ; regret_mix=0.555525964064327 ; last_regret=0.6278395491415959\n",
      "l_star=5 ; regret_mix=1.1396074498129714 ; last_regret=1.1958501428020072\n",
      "l_star=4 ; regret_mix=0.20511640768433473 ; last_regret=0.22563299383381652\n",
      "l_star=5 ; regret_mix=0.10662041300271692 ; last_regret=0.12724130706657055\n",
      "l_star=4 ; regret_mix=0.2548691807666666 ; last_regret=0.29208345221015625\n",
      "l_star=4 ; regret_mix=3.015688946309163 ; last_regret=3.3852207912268866\n",
      "l_star=4 ; regret_mix=0.46599943221094114 ; last_regret=0.5283598694369822\n",
      "l_star=4 ; regret_mix=0.1179714496437747 ; last_regret=0.12799463077778836\n",
      "l_star=6 ; regret_mix=0.8720103142987236 ; last_regret=0.9348159325205627\n",
      "l_star=4 ; regret_mix=0.7756117639709506 ; last_regret=0.8336611897457151\n",
      "l_star=4 ; regret_mix=0.9940118458185162 ; last_regret=1.0639977904836628\n",
      "l_star=4 ; regret_mix=0.857401122645153 ; last_regret=0.9410757133415183\n",
      "l_star=5 ; regret_mix=0.7175756632164492 ; last_regret=0.7783171015430627\n",
      "l_star=5 ; regret_mix=0.49303336792528113 ; last_regret=0.5266140282451256\n",
      "l_star=4 ; regret_mix=0.9378633009390351 ; last_regret=0.9755696475038979\n",
      "l_star=4 ; regret_mix=0.8450188700465159 ; last_regret=0.9334590592781229\n",
      "l_star=4 ; regret_mix=3.1168973912844633 ; last_regret=3.4783089975549997\n",
      "l_star=4 ; regret_mix=3.0901609645116235 ; last_regret=3.2697896940985856\n",
      "l_star=6 ; regret_mix=0.1411471200860931 ; last_regret=0.16826932215287776\n",
      "l_star=5 ; regret_mix=10.552008174796281 ; last_regret=11.5753270611832\n",
      "l_star=4 ; regret_mix=2.123534492964379 ; last_regret=2.3525099247455885\n",
      "l_star=5 ; regret_mix=3.705112372925629 ; last_regret=4.105115913480851\n",
      "l_star=5 ; regret_mix=3.9481456903207346 ; last_regret=4.17961085662459\n",
      "l_star=5 ; regret_mix=1.7147141571382585 ; last_regret=1.7681020928044084\n",
      "l_star=5 ; regret_mix=1.086813512600365 ; last_regret=1.1728938079243612\n",
      "l_star=5 ; regret_mix=0.8320121763403998 ; last_regret=0.9252113401097357\n",
      "l_star=4 ; regret_mix=0.662881737806273 ; last_regret=0.686789883300067\n",
      "l_star=4 ; regret_mix=1.3452870898649343 ; last_regret=1.5072727152262007\n",
      "l_star=5 ; regret_mix=0.6603077297507973 ; last_regret=0.7024080742714143\n",
      "l_star=4 ; regret_mix=0.792707744316463 ; last_regret=0.8539580603508878\n",
      "l_star=4 ; regret_mix=1.126856159679976 ; last_regret=1.2806024674735128\n",
      "l_star=6 ; regret_mix=0.49655692294853876 ; last_regret=0.5578308003846278\n",
      "l_star=4 ; regret_mix=4.033676422296845 ; last_regret=4.110664757702146\n",
      "l_star=5 ; regret_mix=0.262135324404281 ; last_regret=0.2810608779914442\n",
      "l_star=4 ; regret_mix=21.031739784813258 ; last_regret=21.91163161717446\n",
      "l_star=4 ; regret_mix=0.5337853895233131 ; last_regret=0.6092698308931008\n",
      "l_star=4 ; regret_mix=6.390497755280068 ; last_regret=6.6261271886662225\n",
      "l_star=6 ; regret_mix=1.9948611074585199 ; last_regret=2.0559402499300083\n",
      "l_star=5 ; regret_mix=1.8012893916787411 ; last_regret=1.9763011270706774\n",
      "l_star=5 ; regret_mix=2.0379438598884896 ; last_regret=2.2003826135355005\n",
      "l_star=5 ; regret_mix=1.4647100241343107 ; last_regret=1.5676946101926352\n",
      "l_star=4 ; regret_mix=6.008858783875123 ; last_regret=6.345369686741023\n",
      "l_star=5 ; regret_mix=0.7947332795654608 ; last_regret=0.8830238164690905\n",
      "l_star=4 ; regret_mix=13.40221001081539 ; last_regret=13.944951720734016\n",
      "l_star=5 ; regret_mix=2.723723670974979 ; last_regret=2.964467598420396\n",
      "l_star=4 ; regret_mix=2.379206004765056 ; last_regret=2.625960165486892\n",
      "l_star=4 ; regret_mix=6.074792939603891 ; last_regret=6.238263885155007\n",
      "l_star=4 ; regret_mix=1.5181125622267162 ; last_regret=1.6517151019942626\n",
      "l_star=4 ; regret_mix=5.387205468208836 ; last_regret=5.626706353030969\n",
      "l_star=5 ; regret_mix=0.8632055313251599 ; last_regret=0.9333661364297872\n",
      "l_star=5 ; regret_mix=3.0538672550658665 ; last_regret=3.3529624046019975\n",
      "l_star=6 ; regret_mix=1.3436224185371208 ; last_regret=1.4642531539295924\n",
      "l_star=4 ; regret_mix=2.0620859208859343 ; last_regret=2.145669523436519\n",
      "l_star=4 ; regret_mix=1.0160309702748322 ; last_regret=1.0429033595651895\n",
      "l_star=4 ; regret_mix=1.1272502951961418 ; last_regret=1.2812120199592143\n",
      "l_star=4 ; regret_mix=1.2646161462623227 ; last_regret=1.4090814129306628\n",
      "l_star=6 ; regret_mix=2.9988716727561853 ; last_regret=3.235673529212349\n",
      "l_star=5 ; regret_mix=1.9855612997027738 ; last_regret=2.030485589912771\n",
      "l_star=4 ; regret_mix=1.3034689851333625 ; last_regret=1.4916160452328513\n",
      "l_star=5 ; regret_mix=3.2918454728303734 ; last_regret=3.5703713656280343\n",
      "l_star=4 ; regret_mix=4.2902491014882 ; last_regret=4.685757029807494\n",
      "l_star=4 ; regret_mix=16.17011188467338 ; last_regret=16.879624813138154\n",
      "l_star=6 ; regret_mix=2.547381055973398 ; last_regret=2.7307785985984316\n",
      "l_star=5 ; regret_mix=5.916983298948732 ; last_regret=6.139406070331773\n",
      "l_star=5 ; regret_mix=0.8162819940642391 ; last_regret=0.86183242849305\n",
      "l_star=5 ; regret_mix=14.148181040811563 ; last_regret=15.178521444906735\n",
      "l_star=4 ; regret_mix=2.447193769316396 ; last_regret=2.7712703723740537\n",
      "l_star=4 ; regret_mix=6.924925781008393 ; last_regret=7.178461585574345\n",
      "l_star=4 ; regret_mix=1.3229562033708673 ; last_regret=1.499936896035365\n",
      "l_star=4 ; regret_mix=1.3491311488293902 ; last_regret=1.4827642533605592\n",
      "l_star=6 ; regret_mix=1.770553123983713 ; last_regret=1.8933201003645865\n",
      "l_star=4 ; regret_mix=8.386287942801568 ; last_regret=9.205311119445323\n",
      "l_star=5 ; regret_mix=3.99665249948605 ; last_regret=4.21425863809584\n",
      "l_star=4 ; regret_mix=3.4927862226609316 ; last_regret=3.8131256756366905\n",
      "l_star=4 ; regret_mix=3.203904641462459 ; last_regret=3.4562881983594944\n",
      "l_star=5 ; regret_mix=14.54508705981268 ; last_regret=15.454002739944045\n",
      "l_star=4 ; regret_mix=11.017870742293711 ; last_regret=11.50437527902796\n",
      "l_star=6 ; regret_mix=3.8482274631694473 ; last_regret=4.105922456060165\n",
      "l_star=4 ; regret_mix=2.8068074731850907 ; last_regret=2.9353142953710565\n",
      "l_star=5 ; regret_mix=0.5667441783614127 ; last_regret=0.6354946487537206\n",
      "l_star=4 ; regret_mix=5.30416494126541 ; last_regret=5.427585374346022\n",
      "l_star=6 ; regret_mix=0.9562749970567659 ; last_regret=1.055372114526612\n",
      "l_star=4 ; regret_mix=6.913704380087416 ; last_regret=7.505560630722933\n",
      "l_star=4 ; regret_mix=16.74104563104184 ; last_regret=17.222323913022517\n",
      "l_star=4 ; regret_mix=2.9008093716701837 ; last_regret=3.1345311772320223\n",
      "l_star=6 ; regret_mix=0.7476520882365288 ; last_regret=0.8322335227928237\n",
      "l_star=5 ; regret_mix=1.245732450400912 ; last_regret=1.3718731907534478\n",
      "l_star=5 ; regret_mix=13.828134871894358 ; last_regret=14.393059094770452\n",
      "l_star=5 ; regret_mix=2.375432837731291 ; last_regret=2.592841604393942\n",
      "l_star=4 ; regret_mix=7.919340137320754 ; last_regret=8.324980533511043\n",
      "l_star=4 ; regret_mix=9.482091530991006 ; last_regret=10.094921809363086\n",
      "l_star=5 ; regret_mix=1.3863664298993463 ; last_regret=1.495218502517428\n",
      "l_star=5 ; regret_mix=1.9306151782051393 ; last_regret=2.0736894286993843\n",
      "l_star=6 ; regret_mix=18.211894337552987 ; last_regret=20.113434865324663\n",
      "l_star=6 ; regret_mix=2.6287364124603454 ; last_regret=2.733401342891295\n",
      "l_star=6 ; regret_mix=15.600413929176687 ; last_regret=16.84004430173892\n",
      "l_star=4 ; regret_mix=6.886595571193986 ; last_regret=7.49081295460309\n",
      "l_star=6 ; regret_mix=9.33175943685054 ; last_regret=9.882486317823627\n",
      "l_star=4 ; regret_mix=7.0058458814784625 ; last_regret=7.1726963454054\n",
      "l_star=6 ; regret_mix=7.983382050065316 ; last_regret=8.465263552871129\n",
      "l_star=5 ; regret_mix=2.956050965147353 ; last_regret=3.071000139710533\n",
      "l_star=5 ; regret_mix=1.5891193594475328 ; last_regret=1.7517312406358079\n",
      "l_star=5 ; regret_mix=8.89277613001063 ; last_regret=9.645289699873864\n",
      "l_star=4 ; regret_mix=7.558352449129641 ; last_regret=7.721959364981584\n",
      "l_star=6 ; regret_mix=0.5630072868942748 ; last_regret=0.6369280370397659\n",
      "l_star=4 ; regret_mix=3.65401660944672 ; last_regret=3.9875331711941486\n",
      "l_star=4 ; regret_mix=6.109882469612718 ; last_regret=6.3810674417046345\n",
      "l_star=5 ; regret_mix=3.307273178940724 ; last_regret=3.5496229106423063\n",
      "l_star=4 ; regret_mix=18.371314348093392 ; last_regret=20.07004428517368\n",
      "l_star=6 ; regret_mix=4.649364255641618 ; last_regret=5.017210938463576\n",
      "l_star=5 ; regret_mix=12.93564516101482 ; last_regret=13.54036169722579\n",
      "l_star=5 ; regret_mix=7.20933408704142 ; last_regret=7.766799236793987\n",
      "l_star=4 ; regret_mix=2.5841080282180044 ; last_regret=2.777649573816865\n",
      "l_star=4 ; regret_mix=15.513901428241796 ; last_regret=16.02724242732323\n",
      "l_star=5 ; regret_mix=8.319583408554521 ; last_regret=9.21341447298168\n",
      "l_star=5 ; regret_mix=1.8521936065518978 ; last_regret=2.03080047395817\n",
      "l_star=5 ; regret_mix=2.680569024936464 ; last_regret=2.944901798436156\n",
      "l_star=5 ; regret_mix=2.227426100343098 ; last_regret=2.3971193333683463\n",
      "l_star=4 ; regret_mix=8.302728101458843 ; last_regret=8.51321870395656\n",
      "l_star=5 ; regret_mix=6.772350568784046 ; last_regret=7.42364222045211\n",
      "l_star=5 ; regret_mix=10.416508223080054 ; last_regret=10.901787122219016\n",
      "l_star=6 ; regret_mix=5.735902890194913 ; last_regret=6.055775991593757\n",
      "l_star=7 ; regret_mix=0.600503310290167 ; last_regret=0.6843241450534453\n",
      "l_star=5 ; regret_mix=8.905319185695419 ; last_regret=9.451361691477008\n",
      "l_star=5 ; regret_mix=39.45918761018453 ; last_regret=40.2838897233227\n",
      "l_star=5 ; regret_mix=8.045887628670128 ; last_regret=8.77058204538986\n",
      "l_star=6 ; regret_mix=7.813692525206783 ; last_regret=8.708618292328657\n",
      "l_star=5 ; regret_mix=4.655745121019365 ; last_regret=5.068744347152736\n",
      "l_star=5 ; regret_mix=2.10634849795849 ; last_regret=2.2738453598600317\n",
      "l_star=6 ; regret_mix=1.785554575053022 ; last_regret=1.8900620819824725\n",
      "l_star=5 ; regret_mix=6.591782859266536 ; last_regret=6.787834255928704\n"
     ]
    },
    {
     "name": "stderr",
     "output_type": "stream",
     "text": [
      "Exception ignored in: <_io.FileIO name='acc-ratio_vs_d_5-20-1.p' mode='wb' closefd=True>\n",
      "ResourceWarning: unclosed file <_io.BufferedWriter name='acc-ratio_vs_d_5-20-1.p'>\n",
      "Exception ignored in: <_io.FileIO name='d-acc_5-20-1.p' mode='wb' closefd=True>\n",
      "ResourceWarning: unclosed file <_io.BufferedWriter name='d-acc_5-20-1.p'>\n"
     ]
    },
    {
     "data": {
      "text/plain": "<Figure size 432x288 with 0 Axes>"
     },
     "metadata": {},
     "output_type": "display_data"
    }
   ],
   "source": [
    "# d\n",
    "load = False\n",
    "d_max = 20\n",
    "d_min = 5\n",
    "spaces = 1\n",
    "\n",
    "if not load:\n",
    "    d_list = range(d_min, d_max, spaces)\n",
    "    r = 3\n",
    "    results = np.zeros([len(d_list), times])\n",
    "\n",
    "    for idx, d in enumerate(d_list):\n",
    "        regret_list, regret_mix_list = run_algorithm(d=d, r=r, m=m, sigma_type=sigma_type, s_type=s_type,\n",
    "                                                     times=times, d_sigma=d_sigma, T_r=T_r,\n",
    "                                                     **study.best_params)\n",
    "        ratio = regret_list.min(axis=1) / regret_mix_list\n",
    "        results[idx, :] = ratio\n",
    "\n",
    "    pickle.dump(results, open(f'acc-ratio_vs_d_{d_min}-{d_max}-{spaces}.p', 'wb'))\n",
    "    pickle.dump(r_list, open(f'd-acc_{d_min}-{d_max}-{spaces}.p', 'wb'))\n",
    "\n",
    "else:\n",
    "    results = pickle.load(open(f'acc-ratio_vs_d_{d_min}-{d_max}-{spaces}.p', 'rb'))\n",
    "    d_list = pickle.load(open(f'd-acc_{d_min}-{d_max}-{spaces}.p', 'rb'))\n",
    "\n",
    "plot_res(x_axis=d_list, results=results,\n",
    "         x_label='d', y_label='Accuracy Ratio', label=f\"r={r}\"+r\" $\\sigma_0$=\"+f\"{d_sigma}\",\n",
    "         title='results accuracy ratio vs d',\n",
    "         path=f\"results_accuracy_ratio_d_{d_min}-{d_max}-{spaces}\")"
   ],
   "metadata": {
    "collapsed": false,
    "pycharm": {
     "name": "#%%\n"
    }
   }
  },
  {
   "cell_type": "code",
   "execution_count": 7,
   "outputs": [
    {
     "name": "stdout",
     "output_type": "stream",
     "text": [
      "l_star=5 ; regret_mix=23.4927049187163 ; last_regret=24.582149186489385\n",
      "l_star=4 ; regret_mix=5.343919359564034 ; last_regret=5.924347512558396\n",
      "l_star=5 ; regret_mix=4.588132819524883 ; last_regret=4.98839064916278\n",
      "l_star=5 ; regret_mix=3.7525093060829935 ; last_regret=4.078394908815535\n",
      "l_star=5 ; regret_mix=7.633666573148433 ; last_regret=8.126146980732745\n",
      "l_star=5 ; regret_mix=36.97135746254428 ; last_regret=38.988636691770175\n",
      "l_star=5 ; regret_mix=23.027321062121313 ; last_regret=23.94147033306227\n",
      "l_star=4 ; regret_mix=7.421952321869519 ; last_regret=7.825119355978911\n",
      "l_star=5 ; regret_mix=8.55917052613135 ; last_regret=9.239349709729952\n",
      "l_star=4 ; regret_mix=2.6233740365602194 ; last_regret=2.8711952368897933\n"
     ]
    },
    {
     "name": "stderr",
     "output_type": "stream",
     "text": [
      "Exception ignored in: <_io.FileIO name='regrets.p' mode='wb' closefd=True>\n",
      "ResourceWarning: unclosed file <_io.BufferedWriter name='regrets.p'>\n"
     ]
    },
    {
     "data": {
      "text/plain": "<Figure size 432x288 with 0 Axes>"
     },
     "metadata": {},
     "output_type": "display_data"
    }
   ],
   "source": [
    "# Regrets\n",
    "load = False\n",
    "\n",
    "if not load:\n",
    "    d=20\n",
    "    regret_list, regret_mix_list = run_algorithm(d=d, r=r, m=m, sigma_type=sigma_type, s_type=s_type,\n",
    "                                                     times=times, d_sigma=d_sigma, T_r=T_r,\n",
    "                                                     **study.best_params)\n",
    "    pickle.dump(regret_list, open(f'regrets.p', 'wb'))\n",
    "\n",
    "else:\n",
    "    regret_list = pickle.load(open(f'regrets.p', 'rb'))\n",
    "\n",
    "\n",
    "plot_res(x_axis=range(m+2), results=regret_list.T,\n",
    "         x_label='#Iteration', y_label='Regret', label=f'd={d} r={r} '+r'$\\sigma_0$='+f'{d_sigma}',\n",
    "         title='Regret vs #Iteration',\n",
    "         path=\"Regret_vs_Iteration\")\n"
   ],
   "metadata": {
    "collapsed": false,
    "pycharm": {
     "name": "#%%\n"
    }
   }
  },
  {
   "cell_type": "code",
   "execution_count": 7,
   "outputs": [],
   "source": [],
   "metadata": {
    "collapsed": false,
    "pycharm": {
     "name": "#%%\n"
    }
   }
  }
 ],
 "metadata": {
  "kernelspec": {
   "name": "pycharm-4f6c12d3",
   "language": "python",
   "display_name": "PyCharm (paper-optimization-algorithm)"
  },
  "language_info": {
   "codemirror_mode": {
    "name": "ipython",
    "version": 2
   },
   "file_extension": ".py",
   "mimetype": "text/x-python",
   "name": "python",
   "nbconvert_exporter": "python",
   "pygments_lexer": "ipython2",
   "version": "2.7.6"
  }
 },
 "nbformat": 4,
 "nbformat_minor": 0
}