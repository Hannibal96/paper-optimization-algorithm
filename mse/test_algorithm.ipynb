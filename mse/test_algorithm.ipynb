{
 "cells": [
  {
   "cell_type": "code",
   "execution_count": 1,
   "outputs": [],
   "source": [
    "import numpy as np\n",
    "from steps import *\n",
    "from tqdm import tqdm\n",
    "from optimal import *\n",
    "import matplotlib.pyplot as plt\n",
    "import optuna\n",
    "import pickle\n",
    "import warnings\n",
    "warnings.filterwarnings(\"error\")\n"
   ],
   "metadata": {
    "collapsed": false,
    "pycharm": {
     "name": "#%%\n"
    }
   }
  },
  {
   "cell_type": "code",
   "execution_count": 8,
   "outputs": [],
   "source": [
    "def plot_res(x_axis, results, x_label, y_label, title, path):\n",
    "    plt.grid()\n",
    "    plt.plot(x_axis, results.mean(axis=1))\n",
    "    plt.fill_between(x_axis, results.mean(axis=1)+results.std(axis=1), results.mean(axis=1)-results.std(axis=1),\n",
    "                     color='r', alpha=0.5)\n",
    "    plt.xlabel(x_label)\n",
    "    plt.ylabel(y_label)\n",
    "    plt.title(title)\n",
    "    plt.savefig(path+\".png\")\n",
    "    plt.clf()"
   ],
   "metadata": {
    "collapsed": false,
    "pycharm": {
     "name": "#%%\n"
    }
   }
  },
  {
   "cell_type": "code",
   "execution_count": 9,
   "outputs": [
    {
     "name": "stderr",
     "output_type": "stream",
     "text": [
      "\u001B[32m[I 2023-05-06 16:45:24,213]\u001B[0m Using an existing study with name 'optuna_optimization_d=20_r=3_sigma=matrix_type.DIAG_s=matrix_type.IDENTITY_m=10_Tr=100_var=5' instead of creating a new one.\u001B[0m\n"
     ]
    }
   ],
   "source": [
    "d = 20\n",
    "r = 3\n",
    "m = 10\n",
    "T_r = 100\n",
    "times = 10\n",
    "d_sigma = 5\n",
    "sigma_type = matrix_type.DIAG\n",
    "s_type = matrix_type.IDENTITY\n",
    "\n",
    "name = f\"optuna_optimization_d={d}_r={r}_sigma={sigma_type}_s={s_type}_m={m}_Tr={T_r}_var={d_sigma}\"\n",
    "study = optuna.create_study(study_name=f'{name}',\n",
    "                            storage=f'sqlite:///./../optuna/{name}.db ',\n",
    "                            direction='minimize', load_if_exists=True)"
   ],
   "metadata": {
    "collapsed": false,
    "pycharm": {
     "name": "#%%\n"
    }
   }
  },
  {
   "cell_type": "code",
   "execution_count": 9,
   "outputs": [
    {
     "name": "stdout",
     "output_type": "stream",
     "text": [
      "l_star=6 ; regret_mix=2.30326671793824 ; last_regret=3.1075351432946627\n",
      "l_star=10 ; regret_mix=0.961732908100023 ; last_regret=1.2179073492896277\n",
      "l_star=7 ; regret_mix=1.1580352415470174 ; last_regret=1.5436364806315457\n",
      "l_star=10 ; regret_mix=1.2034353974109717 ; last_regret=1.5474432764505341\n",
      "l_star=6 ; regret_mix=1.6459046514202456 ; last_regret=2.3495517192131623\n",
      "l_star=8 ; regret_mix=2.28910557375703 ; last_regret=3.1890841734703286\n",
      "l_star=7 ; regret_mix=3.259126284499907 ; last_regret=3.9580271894178916\n",
      "l_star=9 ; regret_mix=3.089848452155753 ; last_regret=3.7361469114711348\n",
      "l_star=6 ; regret_mix=3.405953069374457 ; last_regret=4.537606088059222\n",
      "l_star=8 ; regret_mix=2.543333535282482 ; last_regret=3.4632582392990203\n",
      "l_star=6 ; regret_mix=5.46906494357864 ; last_regret=6.587108346590821\n",
      "l_star=7 ; regret_mix=5.603822980056652 ; last_regret=6.936993352306392\n",
      "l_star=8 ; regret_mix=4.402297783722722 ; last_regret=5.598603335412095\n",
      "l_star=8 ; regret_mix=4.152095704609059 ; last_regret=5.277666597638612\n",
      "l_star=7 ; regret_mix=5.780192766189302 ; last_regret=7.7734969012834725\n"
     ]
    }
   ],
   "source": [
    "# Sigma\n",
    "sigma_max = 3\n",
    "spaces = 1\n",
    "samples = int((sigma_max-1) / spaces) + 1\n",
    "d_sigmas = np.linspace(1, sigma_max, samples)\n",
    "\n",
    "results = np.zeros([len(d_sigmas), times])\n",
    "\n",
    "for idx, d_sigma in enumerate(d_sigmas):\n",
    "    regret_list, regret_mix_list = run_algorithm(d=d, r=r, m=m, sigma_type=sigma_type, s_type=s_type,\n",
    "                                                 times=times, d_sigma=d_sigma, T_r=T_r,\n",
    "                                                 **study.best_params)\n",
    "    ratio = regret_list.min(axis=1) / regret_mix_list\n",
    "    results[idx, :] = ratio\n",
    "\n",
    "plot_res(x_axis=d_sigmas, results=results,\n",
    "         x_label=r'$\\sigma_0$', y_label='Accuracy Ratio',\n",
    "         title=r'results accuracy ratio vs $\\sigma_0$',\n",
    "         path=\"results_accuracy_ratio_sigma0\")\n",
    "pickle.dump(results, open(f'acc-ratio_vs_sigma0.p', 'wb'))\n",
    "pickle.dump(d_sigmas, open(f'sigma0-acc.p', 'wb'))"
   ],
   "metadata": {
    "collapsed": false,
    "pycharm": {
     "name": "#%%\n"
    }
   }
  },
  {
   "cell_type": "code",
   "execution_count": 28,
   "outputs": [
    {
     "name": "stdout",
     "output_type": "stream",
     "text": [
      "l_star=2 ; regret_mix=10.440890768486565 ; last_regret=10.539386004815011\n",
      "l_star=4 ; regret_mix=11.740001319372638 ; last_regret=12.082175005709738\n",
      "l_star=3 ; regret_mix=6.491073673971406 ; last_regret=6.8395020680290175\n",
      "l_star=3 ; regret_mix=4.202814974829063 ; last_regret=4.5980269371964795\n",
      "l_star=6 ; regret_mix=4.431079235552793 ; last_regret=4.685845393039574\n",
      "l_star=9 ; regret_mix=2.5743381160543484 ; last_regret=3.994021926664039\n",
      "l_star=10 ; regret_mix=4.325792418741918 ; last_regret=5.888859452079774\n",
      "l_star=11 ; regret_mix=2.6518408261490847 ; last_regret=3.5881729477066377\n",
      "l_star=12 ; regret_mix=2.160991921486688 ; last_regret=3.0599508852852306\n",
      "l_star=13 ; regret_mix=1.93622189261607 ; last_regret=2.54506310116334\n",
      "l_star=16 ; regret_mix=1.2864618715132117 ; last_regret=2.1405686672878934\n",
      "l_star=13 ; regret_mix=1.8488884775843237 ; last_regret=3.9165198140499884\n",
      "l_star=15 ; regret_mix=0.7867438078805885 ; last_regret=1.2690876339985473\n",
      "l_star=14 ; regret_mix=1.1908788755889446 ; last_regret=2.0660086698621654\n",
      "l_star=16 ; regret_mix=2.0021010810387847 ; last_regret=3.7617932023065817\n"
     ]
    }
   ],
   "source": [
    "# r\n",
    "r_max = 10\n",
    "r_min = 1\n",
    "spaces = 4\n",
    "r_list = range(r_min, r_max, spaces)\n",
    "m = 20\n",
    "\n",
    "results = np.zeros([len(r_list), times])\n",
    "times=5\n",
    "for idx, r in enumerate(r_list):\n",
    "    regret_list, regret_mix_list = run_algorithm(d=d, r=r, m=m, sigma_type=sigma_type, s_type=s_type,\n",
    "                                                 times=times, d_sigma=d_sigma, T_r=T_r,\n",
    "                                                 **study.best_params)\n",
    "    ratio = regret_list.min(axis=1) / regret_mix_list\n",
    "    results[idx, :] = ratio\n",
    "\n",
    "plot_res(x_axis=r_list, results=results,\n",
    "         x_label='r', y_label='Accuracy Ratio',\n",
    "         title='results accuracy ratio vs r',\n",
    "         path=\"results_accuracy_ratio_r\")\n",
    "pickle.dump(results, open(f'acc-ratio_vs_r.p', 'wb'))\n",
    "pickle.dump(r_list, open(f'r-acc.p', 'wb'))"
   ],
   "metadata": {
    "collapsed": false,
    "pycharm": {
     "name": "#%%\n"
    }
   }
  },
  {
   "cell_type": "code",
   "execution_count": null,
   "outputs": [],
   "source": [
    "# d\n",
    "d_max = 20\n",
    "d_min = 5\n",
    "spaces = 1\n",
    "d_list = range(d_min, d_max, spaces)\n",
    "\n",
    "results = np.zeros([len(d_list), times])\n",
    "times=5\n",
    "for idx, d in enumerate(d_list):\n",
    "    regret_list, regret_mix_list = run_algorithm(d=d, r=r, m=m, sigma_type=sigma_type, s_type=s_type,\n",
    "                                                 times=times, d_sigma=d_sigma, T_r=T_r,\n",
    "                                                 **study.best_params)\n",
    "    ratio = regret_list.min(axis=1) / regret_mix_list\n",
    "    results[idx, :] = ratio\n",
    "\n",
    "plot_res(x_axis=d_list, results=results,\n",
    "         x_label='d', y_label='Accuracy Ratio',\n",
    "         title='results accuracy ratio vs d',\n",
    "         path=\"results_accuracy_ratio_d\")\n",
    "pickle.dump(results, open(f'acc-ratio_vs_d.p', 'wb'))\n",
    "pickle.dump(r_list, open(f'd-acc.p', 'wb'))"
   ],
   "metadata": {
    "collapsed": false,
    "pycharm": {
     "name": "#%%\n"
    }
   }
  },
  {
   "cell_type": "code",
   "execution_count": 10,
   "outputs": [
    {
     "name": "stdout",
     "output_type": "stream",
     "text": [
      "l_star=7 ; regret_mix=7.566881593609462 ; last_regret=9.082926827910175\n",
      "l_star=7 ; regret_mix=7.568180103786526 ; last_regret=8.070292900695208\n",
      "l_star=7 ; regret_mix=6.381224333426599 ; last_regret=6.852635935873047\n",
      "l_star=7 ; regret_mix=8.99067348969484 ; last_regret=9.756318919967685\n",
      "l_star=5 ; regret_mix=7.958422879842154 ; last_regret=8.181594194431858\n",
      "l_star=7 ; regret_mix=10.140460202290345 ; last_regret=11.087857762367465\n",
      "l_star=7 ; regret_mix=10.497193920589144 ; last_regret=10.896601999361323\n",
      "l_star=7 ; regret_mix=6.304138394419756 ; last_regret=6.746970842836093\n",
      "l_star=8 ; regret_mix=6.866200414356532 ; last_regret=7.825228371518902\n",
      "l_star=8 ; regret_mix=3.4390694572894733 ; last_regret=4.164546732070919\n"
     ]
    }
   ],
   "source": [
    "# Regrets\n",
    "regret_list, regret_mix_list = run_algorithm(d=d, r=r, m=m, sigma_type=sigma_type, s_type=s_type,\n",
    "                                                 times=times, d_sigma=d_sigma, T_r=T_r,\n",
    "                                                 **study.best_params)\n",
    "\n",
    "plot_res(x_axis=range(m+2), results=regret_list.T,\n",
    "         x_label='#Iteration', y_label='Regret',\n",
    "         title='Regret vs #Iteration',\n",
    "         path=\"Regret_vs_Iteration\")"
   ],
   "metadata": {
    "collapsed": false,
    "pycharm": {
     "name": "#%%\n"
    }
   }
  },
  {
   "cell_type": "code",
   "execution_count": 6,
   "outputs": [
    {
     "data": {
      "text/plain": "array([[2.4806076 , 0.        , 0.        , 0.        , 0.        ],\n       [0.        , 1.73220407, 0.        , 0.        , 0.        ],\n       [0.        , 0.        , 1.72424764, 0.        , 0.        ],\n       [0.        , 0.        , 0.        , 1.10078782, 0.        ],\n       [0.        , 0.        , 0.        , 0.        , 0.26833035]])"
     },
     "execution_count": 6,
     "metadata": {},
     "output_type": "execute_result"
    }
   ],
   "source": [],
   "metadata": {
    "collapsed": false,
    "pycharm": {
     "name": "#%%\n"
    }
   }
  }
 ],
 "metadata": {
  "kernelspec": {
   "display_name": "Python 3",
   "language": "python",
   "name": "python3"
  },
  "language_info": {
   "codemirror_mode": {
    "name": "ipython",
    "version": 2
   },
   "file_extension": ".py",
   "mimetype": "text/x-python",
   "name": "python",
   "nbconvert_exporter": "python",
   "pygments_lexer": "ipython2",
   "version": "2.7.6"
  }
 },
 "nbformat": 4,
 "nbformat_minor": 0
}