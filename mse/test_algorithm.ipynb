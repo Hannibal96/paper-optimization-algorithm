{
 "cells": [
  {
   "cell_type": "code",
   "execution_count": 1,
   "outputs": [],
   "source": [
    "import numpy as np\n",
    "from steps import *\n",
    "from tqdm import tqdm\n",
    "from optimal import *\n",
    "import matplotlib.pyplot as plt\n",
    "import optuna\n",
    "import pickle\n",
    "import warnings\n",
    "warnings.filterwarnings(\"error\")\n"
   ],
   "metadata": {
    "collapsed": false,
    "pycharm": {
     "name": "#%%\n"
    }
   }
  },
  {
   "cell_type": "code",
   "execution_count": 2,
   "outputs": [],
   "source": [
    "def plot_res(x_axis, results, x_label, y_label, label, title, path):\n",
    "    plt.grid()\n",
    "    plt.plot(x_axis, results.mean(axis=1), label=label)\n",
    "    plt.fill_between(x_axis, results.mean(axis=1)+results.std(axis=1), results.mean(axis=1)-results.std(axis=1),\n",
    "                     color='r', alpha=0.5)\n",
    "    plt.xlabel(x_label)\n",
    "    plt.ylabel(y_label)\n",
    "    plt.legend()\n",
    "    plt.savefig(path+\".png\")\n",
    "    plt.clf()\n",
    "\n",
    "    plt.grid()\n",
    "    plt.boxplot(results.T, positions=x_axis)\n",
    "    plt.xlabel(x_label)\n",
    "    plt.ylabel(y_label)\n",
    "    plt.legend()\n",
    "    plt.savefig(\"BP-\"+path+\".png\")\n",
    "    plt.clf()"
   ],
   "metadata": {
    "collapsed": false,
    "pycharm": {
     "name": "#%%\n"
    }
   }
  },
  {
   "cell_type": "code",
   "execution_count": 3,
   "outputs": [
    {
     "name": "stderr",
     "output_type": "stream",
     "text": [
      "\u001B[32m[I 2023-05-19 13:23:54,600]\u001B[0m Using an existing study with name 'optuna_optimization_d=20_r=5_sigma=matrix_type.DIAG_s=matrix_type.IDENTITY_m=20_Tr=100_var=3' instead of creating a new one.\u001B[0m\n"
     ]
    }
   ],
   "source": [
    "d = 20\n",
    "opt_r = 5\n",
    "m = 20\n",
    "T_r = 100\n",
    "times = 10\n",
    "opt_sigma = 3\n",
    "sigma_type = matrix_type.DIAG\n",
    "s_type = matrix_type.IDENTITY\n",
    "\n",
    "name = f\"optuna_optimization_d={d}_r={opt_r}_sigma={sigma_type}_s={s_type}_m={m}_Tr={T_r}_var={opt_sigma}\"\n",
    "study = optuna.create_study(study_name=f'{name}',\n",
    "                            storage=f'sqlite:///./../optuna/{name}.db ',\n",
    "                            direction='minimize', load_if_exists=True)"
   ],
   "metadata": {
    "collapsed": false,
    "pycharm": {
     "name": "#%%\n"
    }
   }
  },
  {
   "cell_type": "code",
   "execution_count": 9,
   "outputs": [
    {
     "name": "stdout",
     "output_type": "stream",
     "text": [
      " ***** Sigma=0.5 *****\n",
      "l_star=13 ; regret_mix=0.7146600483686888 ; last_regret=0.9871793891352602\n",
      "l_star=14 ; regret_mix=0.7232103601409025 ; last_regret=0.9479001520327295\n",
      "l_star=15 ; regret_mix=0.6922131642090811 ; last_regret=0.8892558575810114\n",
      "l_star=13 ; regret_mix=0.7097215038741017 ; last_regret=0.9773314262571832\n",
      "l_star=14 ; regret_mix=0.6927592262526151 ; last_regret=0.904878112138482\n",
      "l_star=14 ; regret_mix=0.7066911790463005 ; last_regret=0.9195923660171511\n",
      "l_star=16 ; regret_mix=0.7107677240426603 ; last_regret=0.9298097897453939\n",
      "l_star=17 ; regret_mix=0.7101730093070882 ; last_regret=0.9183815002638523\n",
      "l_star=14 ; regret_mix=0.6750315788296939 ; last_regret=1.0096366348433887\n",
      "l_star=16 ; regret_mix=0.7177373484520194 ; last_regret=0.9659546626877928\n",
      " ***** Sigma=1.0 *****\n",
      "l_star=8 ; regret_mix=0.6418736265661956 ; last_regret=0.9092611909709609\n",
      "l_star=10 ; regret_mix=0.47742265927387995 ; last_regret=0.7034375462502582\n",
      "l_star=11 ; regret_mix=0.48763540190535165 ; last_regret=0.7112328293161045\n",
      "l_star=9 ; regret_mix=0.5884984305563076 ; last_regret=0.9153925627451148\n",
      "l_star=12 ; regret_mix=0.5889943248741775 ; last_regret=0.7995703093425487\n",
      "l_star=10 ; regret_mix=0.6534117353350474 ; last_regret=1.083564750787476\n",
      "l_star=10 ; regret_mix=0.56021134156487 ; last_regret=0.7985474173829991\n",
      "l_star=8 ; regret_mix=0.5304078540499917 ; last_regret=0.7491525920052096\n",
      "l_star=11 ; regret_mix=0.6453650524675034 ; last_regret=1.1435833871844001\n",
      "l_star=10 ; regret_mix=0.7723425548982799 ; last_regret=1.0577076552842348\n",
      " ***** Sigma=1.5 *****\n",
      "l_star=8 ; regret_mix=0.10781574410610165 ; last_regret=0.13036812751466817\n",
      "l_star=9 ; regret_mix=0.7222956094189685 ; last_regret=1.1740683522345208\n",
      "l_star=8 ; regret_mix=0.46371158119910477 ; last_regret=0.7239478713554814\n",
      "l_star=10 ; regret_mix=0.4351023345078923 ; last_regret=0.7037842031815851\n",
      "l_star=8 ; regret_mix=0.4606816077446984 ; last_regret=0.6554329291802363\n",
      "l_star=8 ; regret_mix=0.44414016376777404 ; last_regret=0.7056206302704395\n",
      "l_star=11 ; regret_mix=0.44468738166647204 ; last_regret=0.6467445092347466\n",
      "l_star=8 ; regret_mix=0.5940757554329057 ; last_regret=0.9656019709618104\n",
      "l_star=10 ; regret_mix=0.6689134626752214 ; last_regret=0.8124699562215483\n",
      "l_star=8 ; regret_mix=0.5838988854105461 ; last_regret=0.9377418208493309\n",
      " ***** Sigma=2.0 *****\n",
      "l_star=7 ; regret_mix=0.47874127313667325 ; last_regret=0.7249298924828508\n",
      "l_star=8 ; regret_mix=0.2750120445364064 ; last_regret=0.4075006637525015\n",
      "l_star=8 ; regret_mix=0.02647784639849505 ; last_regret=0.032592297681882335\n",
      "l_star=7 ; regret_mix=0.19084990389678103 ; last_regret=0.22586509017234183\n",
      "l_star=8 ; regret_mix=0.2715861442724253 ; last_regret=0.3914373655261132\n",
      "l_star=8 ; regret_mix=0.028345748933081765 ; last_regret=0.03285132377102802\n",
      "l_star=9 ; regret_mix=0.5740162939384053 ; last_regret=0.7791204146840945\n",
      "l_star=7 ; regret_mix=0.4436189364959177 ; last_regret=0.6050486639298949\n",
      "l_star=7 ; regret_mix=0.4542263194354843 ; last_regret=0.569349790253551\n",
      "l_star=9 ; regret_mix=0.28300610101045987 ; last_regret=0.3836001589578702\n",
      " ***** Sigma=2.5 *****\n",
      "l_star=8 ; regret_mix=0.03669247161499535 ; last_regret=0.04504134199532469\n",
      "l_star=7 ; regret_mix=0.1973271148860471 ; last_regret=0.33738535150295657\n",
      "l_star=9 ; regret_mix=0.22306957917027617 ; last_regret=0.33527658634194746\n",
      "l_star=7 ; regret_mix=0.5109908261638647 ; last_regret=0.7727937598485227\n",
      "l_star=7 ; regret_mix=0.006979716246788657 ; last_regret=0.008960912926982242\n",
      "l_star=8 ; regret_mix=0.10455598919662437 ; last_regret=0.1352481531457952\n",
      "l_star=7 ; regret_mix=0.41340849914222 ; last_regret=0.7141954105300289\n",
      "l_star=8 ; regret_mix=0.18780518702384205 ; last_regret=0.2799588620596568\n",
      "l_star=7 ; regret_mix=0.04753505391249352 ; last_regret=0.05425059196252859\n",
      "l_star=8 ; regret_mix=0.38995098796964656 ; last_regret=0.5732694998787558\n",
      " ***** Sigma=3.0 *****\n",
      "l_star=8 ; regret_mix=0.5794015395369181 ; last_regret=0.7729936988186301\n",
      "l_star=7 ; regret_mix=0.08697277873189592 ; last_regret=0.10586736388829572\n",
      "l_star=8 ; regret_mix=0.3304999639410191 ; last_regret=0.5454796005531702\n",
      "l_star=8 ; regret_mix=0.004371526639488759 ; last_regret=0.005459352413822289\n",
      "l_star=9 ; regret_mix=0.17564963461466182 ; last_regret=0.23517841686829855\n",
      "l_star=8 ; regret_mix=0.3028977593539241 ; last_regret=0.38857852993100517\n",
      "l_star=7 ; regret_mix=0.13011712692490449 ; last_regret=0.17061432707759272\n",
      "l_star=7 ; regret_mix=0.08415131408711737 ; last_regret=0.11074954316630783\n",
      "l_star=7 ; regret_mix=0.11474103230905801 ; last_regret=0.14266959465905757\n",
      "l_star=7 ; regret_mix=0.5107393450597664 ; "
     ]
    },
    {
     "name": "stderr",
     "output_type": "stream",
     "text": [
      "Exception ignored in: <_io.FileIO name='acc-ratio_vs_sigma0_0.5-3.0-0.5_opt-r=5_opt-sigma=3_Tr=1000.p' mode='wb' closefd=True>\n",
      "Traceback (most recent call last):\n",
      "  File \"C:\\Users\\neria\\AppData\\Local\\Temp\\ipykernel_19980\\425125808.py\", line 22, in <module>\n",
      "ResourceWarning: unclosed file <_io.BufferedWriter name='acc-ratio_vs_sigma0_0.5-3.0-0.5_opt-r=5_opt-sigma=3_Tr=1000.p'>\n",
      "Exception ignored in: <_io.FileIO name='sigma0-acc_0.5-3.0-0.5_opt-r=5_opt-sigma=3_Tr=1000.p' mode='wb' closefd=True>\n",
      "Traceback (most recent call last):\n",
      "  File \"C:\\Users\\neria\\AppData\\Local\\Temp\\ipykernel_19980\\425125808.py\", line 23, in <module>\n",
      "ResourceWarning: unclosed file <_io.BufferedWriter name='sigma0-acc_0.5-3.0-0.5_opt-r=5_opt-sigma=3_Tr=1000.p'>\n",
      "No artists with labels found to put in legend.  Note that artists whose label start with an underscore are ignored when legend() is called with no argument.\n"
     ]
    },
    {
     "name": "stdout",
     "output_type": "stream",
     "text": [
      "last_regret=0.8471097764155282\n"
     ]
    },
    {
     "data": {
      "text/plain": "<Figure size 640x480 with 0 Axes>"
     },
     "metadata": {},
     "output_type": "display_data"
    }
   ],
   "source": [
    "# Sigma\n",
    "sigma_max = 3.0\n",
    "sigma_min = 0.5\n",
    "spaces = 0.5\n",
    "load = False\n",
    "\n",
    "suffix = f'{sigma_min}-{sigma_max}-{spaces}_opt-r={opt_r}_opt-sigma={opt_sigma}_Tr={1000}'\n",
    "\n",
    "params = study.best_params\n",
    "\n",
    "if not load:\n",
    "    d_sigmas = np.linspace(sigma_min, sigma_max, int((sigma_max-sigma_min)/spaces)+1)\n",
    "    results = np.zeros([len(d_sigmas), times])\n",
    "    for idx, d_sigma in enumerate(d_sigmas):\n",
    "        print(f\" ***** Sigma={d_sigma} *****\")\n",
    "        regret_list, regret_mix_list = run_algorithm(d=d, r=opt_r, m=m, sigma_type=sigma_type, s_type=s_type,\n",
    "                                                     times=times, d_sigma=d_sigma, T_r=T_r*10,\n",
    "                                                     **params)\n",
    "        ratio = regret_list.min(axis=1) / regret_mix_list\n",
    "        results[idx, :] = ratio\n",
    "\n",
    "    pickle.dump(results, open(f'acc-ratio_vs_sigma0_{suffix}.p', 'wb'))\n",
    "    pickle.dump(d_sigmas, open(f'sigma0-acc_{suffix}.p', 'wb'))\n",
    "\n",
    "else:\n",
    "    results = pickle.load(open(f'acc-ratio_vs_sigma0_{suffix}.p', 'rb'))\n",
    "    d_sigmas = pickle.load(open(f'sigma0-acc_{suffix}.p', 'rb'))\n",
    "\n",
    "plot_res(x_axis=d_sigmas, results=results,\n",
    "         x_label=r'$\\sigma_0$', y_label='Accuracy Ratio', label=f'd={d}, r={opt_r}',\n",
    "         title=r'results accuracy ratio vs $\\sigma_0$',\n",
    "         path=f\"results_accuracy_ratio_sigma0_{suffix}\")"
   ],
   "metadata": {
    "collapsed": false,
    "pycharm": {
     "name": "#%%\n"
    }
   }
  },
  {
   "cell_type": "code",
   "execution_count": 6,
   "outputs": [
    {
     "data": {
      "text/plain": "{'avg_frac_r': 9,\n 'beta_f': 0.776848551044915,\n 'beta_r': 0.934083253446272,\n 'lr_f': 0.6221613189836414,\n 'lr_r': 0.8334222520229866,\n 'stop_frac_r': 9}"
     },
     "execution_count": 6,
     "metadata": {},
     "output_type": "execute_result"
    }
   ],
   "source": [
    "study.best_params\n",
    "\n"
   ],
   "metadata": {
    "collapsed": false,
    "pycharm": {
     "name": "#%%\n"
    }
   }
  },
  {
   "cell_type": "code",
   "execution_count": null,
   "outputs": [],
   "source": [
    "# r\n",
    "r_max = 10\n",
    "r_min = 1\n",
    "spaces = 1\n",
    "load = False\n",
    "\n",
    "suffix = f'{r_min}-{r_max}-{spaces}_opt-r={opt_r}_opt-sigma={opt_sigma}'\n",
    "\n",
    "if not load:\n",
    "    r_list = range(r_min, r_max, spaces)\n",
    "    results = np.zeros([len(r_list), times])\n",
    "    for idx, r in enumerate(r_list):\n",
    "        regret_list, regret_mix_list = run_algorithm(d=d, r=r, m=m, sigma_type=sigma_type, s_type=s_type,\n",
    "                                                     times=times, d_sigma=opt_sigma, T_r=T_r,\n",
    "                                                     **study.best_params)\n",
    "        ratio = regret_list.min(axis=1) / regret_mix_list\n",
    "        results[idx, :] = ratio\n",
    "\n",
    "    pickle.dump(results, open(f'acc-ratio_vs_r_.p', 'wb'))\n",
    "    pickle.dump(r_list, open(f'r-acc_{suffix}.p', 'wb'))\n",
    "\n",
    "else:\n",
    "    results = pickle.load(open(f'acc-ratio_vs_r_{suffix}.p', 'rb'))\n",
    "    r_list = pickle.load(open(f'r-acc_{suffix}.p', 'rb'))\n",
    "\n",
    "plot_res(x_axis=r_list, results=results,\n",
    "         x_label='r', y_label='Accuracy Ratio', label=f\"d={d}\"+r\" $\\sigma_0$=\"+f\"{opt_sigma}\",\n",
    "         title='results accuracy ratio vs r',\n",
    "         path=f\"results_accuracy_ratio_r_{suffix}\")\n"
   ],
   "metadata": {
    "collapsed": false,
    "pycharm": {
     "name": "#%%\n"
    }
   }
  },
  {
   "cell_type": "code",
   "execution_count": null,
   "outputs": [],
   "source": [
    "# d\n",
    "load = False\n",
    "d_max = 20\n",
    "d_min = opt_r+2\n",
    "spaces = 1\n",
    "suffix = f'{d_min}-{d_max}-{spaces}_opt-r={opt_r}_opt-sigma={opt_sigma}'\n",
    "\n",
    "if not load:\n",
    "    d_list = range(d_min, d_max, spaces)\n",
    "    results = np.zeros([len(d_list), times])\n",
    "\n",
    "    for idx, d in enumerate(d_list):\n",
    "        regret_list, regret_mix_list = run_algorithm(d=d, r=opt_r, m=m, sigma_type=sigma_type, s_type=s_type,\n",
    "                                                     times=times, d_sigma=opt_sigma, T_r=T_r,\n",
    "                                                     **study.best_params)\n",
    "        ratio = regret_list.min(axis=1) / regret_mix_list\n",
    "        results[idx, :] = ratio\n",
    "\n",
    "    pickle.dump(results, open(f'acc-ratio_vs_d_{suffix}.p', 'wb'))\n",
    "    pickle.dump(d_list, open(f'd-acc_{suffix}.p', 'wb'))\n",
    "\n",
    "else:\n",
    "    results = pickle.load(open(f'acc-ratio_vs_d_{suffix}.p', 'rb'))\n",
    "    d_list = pickle.load(open(f'd-acc_{suffix}.p', 'rb'))\n",
    "\n",
    "plot_res(x_axis=d_list, results=results,\n",
    "         x_label='d', y_label='Accuracy Ratio', label=f\"r={opt_r}\"+r\" $\\sigma_0$=\"+f\"{opt_sigma}\",\n",
    "         title='results accuracy ratio vs d',\n",
    "         path=f\"results_accuracy_ratio_d_{suffix}\")"
   ],
   "metadata": {
    "collapsed": false,
    "pycharm": {
     "name": "#%%\n"
    }
   }
  },
  {
   "cell_type": "code",
   "execution_count": null,
   "outputs": [],
   "source": [
    "# Regrets\n",
    "load = False\n",
    "\n",
    "if not load:\n",
    "    d=20\n",
    "    regret_list, regret_mix_list = run_algorithm(d=d, r=opt_r, m=m, sigma_type=sigma_type, s_type=s_type,\n",
    "                                                     times=times, d_sigma=opt_sigma, T_r=T_r,\n",
    "                                                     **study.best_params)\n",
    "    pickle.dump(regret_list, open(f'regrets.p', 'wb'))\n",
    "\n",
    "else:\n",
    "    regret_list = pickle.load(open(f'regrets.p', 'rb'))\n",
    "\n",
    "\n",
    "plot_res(x_axis=range(m+2), results=regret_list.T,\n",
    "         x_label='#Iteration', y_label='Regret', label=f'd={d} r={opt_r} '+r'$\\sigma_0$='+f'{opt_sigma}',\n",
    "         title='Regret vs #Iteration',\n",
    "         path=f\"Regret_vs_Iteration_r={opt_r}_var={opt_sigma}\")\n"
   ],
   "metadata": {
    "collapsed": false,
    "pycharm": {
     "name": "#%%\n"
    }
   }
  },
  {
   "cell_type": "code",
   "execution_count": null,
   "outputs": [],
   "source": [],
   "metadata": {
    "collapsed": false,
    "pycharm": {
     "name": "#%%\n"
    }
   }
  }
 ],
 "metadata": {
  "kernelspec": {
   "name": "pycharm-4f6c12d3",
   "language": "python",
   "display_name": "PyCharm (paper-optimization-algorithm)"
  },
  "language_info": {
   "codemirror_mode": {
    "name": "ipython",
    "version": 2
   },
   "file_extension": ".py",
   "mimetype": "text/x-python",
   "name": "python",
   "nbconvert_exporter": "python",
   "pygments_lexer": "ipython2",
   "version": "2.7.6"
  }
 },
 "nbformat": 4,
 "nbformat_minor": 0
}