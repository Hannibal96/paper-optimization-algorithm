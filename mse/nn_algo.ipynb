{
 "cells": [
  {
   "cell_type": "code",
   "execution_count": 1,
   "metadata": {
    "collapsed": true
   },
   "outputs": [],
   "source": [
    "import matplotlib.pyplot as plt\n",
    "import numpy as np\n",
    "import torch\n",
    "from tqdm import tqdm\n",
    "from nn_utils import *\n",
    "import optuna\n",
    "\n",
    "#device = 'cuda' if torch.cuda.is_available() else 'cpu'\n",
    "device = 'cpu'"
   ]
  },
  {
   "cell_type": "code",
   "execution_count": 2,
   "outputs": [],
   "source": [
    "def optuna_optimization(trial):\n",
    "\n",
    "    beta_f = trial.suggest_float('beta_f', 0.5, 0.99)\n",
    "    beta_r = trial.suggest_float('beta1', 0.5, 0.99)\n",
    "    lr_r = trial.suggest_float('lr_r', 0, 1.0)\n",
    "    lr_f = trial.suggest_float('lr_f', 0, 1.0)\n",
    "    stop_frac = trial.suggest_int('stop_frac', 2, 5)\n",
    "    avg_frac = trial.suggest_int('avg_frac', 2, 5)\n",
    "\n",
    "    regrets, regrets_mix = run_algorithm(d=d, r=r, m=m, times=times, d_sigma=d_sigma,\n",
    "                                         beta_f=beta_f, beta_r=beta_r, T_r=T, lr_r=lr_r, lr_f=lr_f,\n",
    "                                         avg_frac_r=avg_frac, stop_frac_r=stop_frac)\n",
    "\n",
    "    return sum(abs(np.log(regrets.min(axis=1) / regrets_mix)))\n",
    "\n",
    "\n",
    "def plot_regrets(res, label, title=None, path=None):\n",
    "    if title is None:\n",
    "        plt.title(f\"Regret vs Iteration\")\n",
    "    else:\n",
    "        plt.title(title)\n",
    "    plt.grid()\n",
    "    plt.xlabel(f'#Iteration')\n",
    "    plt.ylabel(f'Regret')\n",
    "    plt.plot(res.T, label=label)\n",
    "    plt.legend()\n",
    "    if path is None:\n",
    "        plt.show()\n",
    "    else:\n",
    "        plt.savefig(f\"{path}_regrets.png\")\n",
    "        plt.clf()\n",
    "\n",
    "    plt.plot(range(res.shape[1]), res.mean(axis=0), label=label)\n",
    "    plt.fill_between(range(res.shape[1]),\n",
    "                     res.mean(axis=0)+res.std(axis=0),\n",
    "                     res.mean(axis=0)-res.std(axis=0),\n",
    "                     color='r', alpha=0.5)\n",
    "    plt.legend()\n",
    "    plt.grid()\n",
    "    plt.xlabel(f'#Iteration')\n",
    "    plt.ylabel(f'Regret')\n",
    "    if path is None:\n",
    "        plt.show()\n",
    "    else:\n",
    "        plt.savefig(f\"{path}_avg.png\")\n",
    "        plt.clf()"
   ],
   "metadata": {
    "collapsed": false,
    "pycharm": {
     "name": "#%%\n"
    }
   }
  },
  {
   "cell_type": "code",
   "execution_count": 3,
   "outputs": [
    {
     "data": {
      "text/plain": "'\\nsigma = torch.diag(torch.tensor([9.0, 8.0, 7.0, 6.0, 5.0, 4.0, 3.0, 2.0, 1.0]))\\n\\nR, f, curr_regrets = algorithm(sigma=sigma, m=m, r=r,\\n                                       beta_f=0.95, beta_r=0.95, lr_r=1e-1,\\n                                       T_r=T, avg_frac_r=4, stop_frac_r=4)\\n'"
     },
     "execution_count": 3,
     "metadata": {},
     "output_type": "execute_result"
    }
   ],
   "source": [
    "d=20\n",
    "r=3\n",
    "T=100\n",
    "m=20\n",
    "times=10\n",
    "d_sigma=1\n",
    "\n",
    "\"\"\"\n",
    "sigma = torch.diag(torch.tensor([9.0, 8.0, 7.0, 6.0, 5.0, 4.0, 3.0, 2.0, 1.0]))\n",
    "\n",
    "R, f, curr_regrets = algorithm(sigma=sigma, m=m, r=r,\n",
    "                                       beta_f=0.95, beta_r=0.95, lr_r=1e-1,\n",
    "                                       T_r=T, avg_frac_r=4, stop_frac_r=4)\n",
    "\"\"\""
   ],
   "metadata": {
    "collapsed": false,
    "pycharm": {
     "name": "#%%\n"
    }
   }
  },
  {
   "cell_type": "code",
   "execution_count": 4,
   "outputs": [
    {
     "name": "stderr",
     "output_type": "stream",
     "text": [
      "\u001B[32m[I 2023-05-15 13:05:13,849]\u001B[0m Using an existing study with name 'optuna-nn_d=20_r=3_m=20_Tr=100_var=1' instead of creating a new one.\u001B[0m\n"
     ]
    },
    {
     "name": "stdout",
     "output_type": "stream",
     "text": [
      "l_star=6 ; regret_mix=1.8152978177538177 ; "
     ]
    },
    {
     "name": "stderr",
     "output_type": "stream",
     "text": [
      "100%|██████████| 100/100 [00:01<00:00, 58.70it/s]\n",
      "100%|██████████| 100/100 [00:03<00:00, 29.50it/s]\n",
      "100%|██████████| 100/100 [00:05<00:00, 17.78it/s]\n",
      "\u001B[33m[W 2023-05-15 13:11:26,202]\u001B[0m Trial 5 failed because of the following error: KeyboardInterrupt()\u001B[0m\n",
      "Traceback (most recent call last):\n",
      "  File \"c:\\users\\neria\\pycharmprojects\\aofbot\\lib\\site-packages\\optuna\\study\\_optimize.py\", line 196, in _run_trial\n",
      "    value_or_values = func(trial)\n",
      "  File \"<ipython-input-2-78eb67eb14b3>\", line 12, in optuna_optimization\n",
      "    avg_frac_r=avg_frac, stop_frac_r=stop_frac)\n",
      "  File \"C:\\Users\\neria\\Desktop\\masters\\thesis material\\paper-optimization-algorithm\\mse\\nn_utils.py\", line 261, in run_algorithm\n",
      "    T_r=T_r, avg_frac_r=avg_frac_r, stop_frac_r=stop_frac_r)\n",
      "  File \"C:\\Users\\neria\\Desktop\\masters\\thesis material\\paper-optimization-algorithm\\mse\\nn_utils.py\", line 224, in algorithm\n",
      "    beta_r=beta_r, beta_f=beta_f, lr_r=lr_r, lr_f=lr_f, avg_frac_r=avg_frac_r, stop_frac_r=stop_frac_r)\n",
      "  File \"C:\\Users\\neria\\Desktop\\masters\\thesis material\\paper-optimization-algorithm\\mse\\nn_utils.py\", line 207, in init_R0_f0\n",
      "    new_f, reg = find_worst_f(sigma=sigma, R=R, p=p, lr=lr_f)\n",
      "  File \"C:\\Users\\neria\\Desktop\\masters\\thesis material\\paper-optimization-algorithm\\mse\\nn_utils.py\", line 118, in find_worst_f\n",
      "    Q = optimal_Q(sigma=sigma, R=R, f=[f])\n",
      "  File \"C:\\Users\\neria\\Desktop\\masters\\thesis material\\paper-optimization-algorithm\\mse\\nn_utils.py\", line 107, in optimal_Q\n",
      "    Q[(j, i)] = optimal_q(sigma=sigma, R_j=R[j], f_i=f[i])\n",
      "  File \"C:\\Users\\neria\\Desktop\\masters\\thesis material\\paper-optimization-algorithm\\mse\\nn_utils.py\", line 89, in optimal_q\n",
      "    if torch.linalg.norm(q.linear_layer.weight.grad) < tol \\\n",
      "KeyboardInterrupt\n"
     ]
    },
    {
     "ename": "KeyboardInterrupt",
     "evalue": "",
     "output_type": "error",
     "traceback": [
      "\u001B[1;31m---------------------------------------------------------------------------\u001B[0m",
      "\u001B[1;31mKeyboardInterrupt\u001B[0m                         Traceback (most recent call last)",
      "\u001B[1;32m<ipython-input-4-530fe0dd121c>\u001B[0m in \u001B[0;36m<module>\u001B[1;34m\u001B[0m\n\u001B[0;32m      3\u001B[0m                             \u001B[0mstorage\u001B[0m\u001B[1;33m=\u001B[0m\u001B[1;34mf'sqlite:///./../optuna/{name}.db '\u001B[0m\u001B[1;33m,\u001B[0m\u001B[1;33m\u001B[0m\u001B[1;33m\u001B[0m\u001B[0m\n\u001B[0;32m      4\u001B[0m                             direction='minimize', load_if_exists=True)\n\u001B[1;32m----> 5\u001B[1;33m \u001B[0mstudy\u001B[0m\u001B[1;33m.\u001B[0m\u001B[0moptimize\u001B[0m\u001B[1;33m(\u001B[0m\u001B[0moptuna_optimization\u001B[0m\u001B[1;33m,\u001B[0m \u001B[0mn_trials\u001B[0m\u001B[1;33m=\u001B[0m\u001B[1;36m100\u001B[0m\u001B[1;33m)\u001B[0m\u001B[1;33m\u001B[0m\u001B[1;33m\u001B[0m\u001B[0m\n\u001B[0m\u001B[0;32m      6\u001B[0m \u001B[1;33m\u001B[0m\u001B[0m\n\u001B[0;32m      7\u001B[0m \u001B[1;33m\u001B[0m\u001B[0m\n",
      "\u001B[1;32mc:\\users\\neria\\pycharmprojects\\aofbot\\lib\\site-packages\\optuna\\study\\study.py\u001B[0m in \u001B[0;36moptimize\u001B[1;34m(self, func, n_trials, timeout, n_jobs, catch, callbacks, gc_after_trial, show_progress_bar)\u001B[0m\n\u001B[0;32m    426\u001B[0m             \u001B[0mcallbacks\u001B[0m\u001B[1;33m=\u001B[0m\u001B[0mcallbacks\u001B[0m\u001B[1;33m,\u001B[0m\u001B[1;33m\u001B[0m\u001B[1;33m\u001B[0m\u001B[0m\n\u001B[0;32m    427\u001B[0m             \u001B[0mgc_after_trial\u001B[0m\u001B[1;33m=\u001B[0m\u001B[0mgc_after_trial\u001B[0m\u001B[1;33m,\u001B[0m\u001B[1;33m\u001B[0m\u001B[1;33m\u001B[0m\u001B[0m\n\u001B[1;32m--> 428\u001B[1;33m             \u001B[0mshow_progress_bar\u001B[0m\u001B[1;33m=\u001B[0m\u001B[0mshow_progress_bar\u001B[0m\u001B[1;33m,\u001B[0m\u001B[1;33m\u001B[0m\u001B[1;33m\u001B[0m\u001B[0m\n\u001B[0m\u001B[0;32m    429\u001B[0m         )\n\u001B[0;32m    430\u001B[0m \u001B[1;33m\u001B[0m\u001B[0m\n",
      "\u001B[1;32mc:\\users\\neria\\pycharmprojects\\aofbot\\lib\\site-packages\\optuna\\study\\_optimize.py\u001B[0m in \u001B[0;36m_optimize\u001B[1;34m(study, func, n_trials, timeout, n_jobs, catch, callbacks, gc_after_trial, show_progress_bar)\u001B[0m\n\u001B[0;32m     74\u001B[0m                 \u001B[0mreseed_sampler_rng\u001B[0m\u001B[1;33m=\u001B[0m\u001B[1;32mFalse\u001B[0m\u001B[1;33m,\u001B[0m\u001B[1;33m\u001B[0m\u001B[1;33m\u001B[0m\u001B[0m\n\u001B[0;32m     75\u001B[0m                 \u001B[0mtime_start\u001B[0m\u001B[1;33m=\u001B[0m\u001B[1;32mNone\u001B[0m\u001B[1;33m,\u001B[0m\u001B[1;33m\u001B[0m\u001B[1;33m\u001B[0m\u001B[0m\n\u001B[1;32m---> 76\u001B[1;33m                 \u001B[0mprogress_bar\u001B[0m\u001B[1;33m=\u001B[0m\u001B[0mprogress_bar\u001B[0m\u001B[1;33m,\u001B[0m\u001B[1;33m\u001B[0m\u001B[1;33m\u001B[0m\u001B[0m\n\u001B[0m\u001B[0;32m     77\u001B[0m             )\n\u001B[0;32m     78\u001B[0m         \u001B[1;32melse\u001B[0m\u001B[1;33m:\u001B[0m\u001B[1;33m\u001B[0m\u001B[1;33m\u001B[0m\u001B[0m\n",
      "\u001B[1;32mc:\\users\\neria\\pycharmprojects\\aofbot\\lib\\site-packages\\optuna\\study\\_optimize.py\u001B[0m in \u001B[0;36m_optimize_sequential\u001B[1;34m(study, func, n_trials, timeout, catch, callbacks, gc_after_trial, reseed_sampler_rng, time_start, progress_bar)\u001B[0m\n\u001B[0;32m    158\u001B[0m \u001B[1;33m\u001B[0m\u001B[0m\n\u001B[0;32m    159\u001B[0m         \u001B[1;32mtry\u001B[0m\u001B[1;33m:\u001B[0m\u001B[1;33m\u001B[0m\u001B[1;33m\u001B[0m\u001B[0m\n\u001B[1;32m--> 160\u001B[1;33m             \u001B[0mfrozen_trial\u001B[0m \u001B[1;33m=\u001B[0m \u001B[0m_run_trial\u001B[0m\u001B[1;33m(\u001B[0m\u001B[0mstudy\u001B[0m\u001B[1;33m,\u001B[0m \u001B[0mfunc\u001B[0m\u001B[1;33m,\u001B[0m \u001B[0mcatch\u001B[0m\u001B[1;33m)\u001B[0m\u001B[1;33m\u001B[0m\u001B[1;33m\u001B[0m\u001B[0m\n\u001B[0m\u001B[0;32m    161\u001B[0m         \u001B[1;32mfinally\u001B[0m\u001B[1;33m:\u001B[0m\u001B[1;33m\u001B[0m\u001B[1;33m\u001B[0m\u001B[0m\n\u001B[0;32m    162\u001B[0m             \u001B[1;31m# The following line mitigates memory problems that can be occurred in some\u001B[0m\u001B[1;33m\u001B[0m\u001B[1;33m\u001B[0m\u001B[1;33m\u001B[0m\u001B[0m\n",
      "\u001B[1;32mc:\\users\\neria\\pycharmprojects\\aofbot\\lib\\site-packages\\optuna\\study\\_optimize.py\u001B[0m in \u001B[0;36m_run_trial\u001B[1;34m(study, func, catch)\u001B[0m\n\u001B[0;32m    232\u001B[0m         \u001B[1;32mand\u001B[0m \u001B[1;32mnot\u001B[0m \u001B[0misinstance\u001B[0m\u001B[1;33m(\u001B[0m\u001B[0mfunc_err\u001B[0m\u001B[1;33m,\u001B[0m \u001B[0mcatch\u001B[0m\u001B[1;33m)\u001B[0m\u001B[1;33m\u001B[0m\u001B[1;33m\u001B[0m\u001B[0m\n\u001B[0;32m    233\u001B[0m     ):\n\u001B[1;32m--> 234\u001B[1;33m         \u001B[1;32mraise\u001B[0m \u001B[0mfunc_err\u001B[0m\u001B[1;33m\u001B[0m\u001B[1;33m\u001B[0m\u001B[0m\n\u001B[0m\u001B[0;32m    235\u001B[0m     \u001B[1;32mreturn\u001B[0m \u001B[0mfrozen_trial\u001B[0m\u001B[1;33m\u001B[0m\u001B[1;33m\u001B[0m\u001B[0m\n\u001B[0;32m    236\u001B[0m \u001B[1;33m\u001B[0m\u001B[0m\n",
      "\u001B[1;32mc:\\users\\neria\\pycharmprojects\\aofbot\\lib\\site-packages\\optuna\\study\\_optimize.py\u001B[0m in \u001B[0;36m_run_trial\u001B[1;34m(study, func, catch)\u001B[0m\n\u001B[0;32m    194\u001B[0m     \u001B[1;32mwith\u001B[0m \u001B[0mget_heartbeat_thread\u001B[0m\u001B[1;33m(\u001B[0m\u001B[0mtrial\u001B[0m\u001B[1;33m.\u001B[0m\u001B[0m_trial_id\u001B[0m\u001B[1;33m,\u001B[0m \u001B[0mstudy\u001B[0m\u001B[1;33m.\u001B[0m\u001B[0m_storage\u001B[0m\u001B[1;33m)\u001B[0m\u001B[1;33m:\u001B[0m\u001B[1;33m\u001B[0m\u001B[1;33m\u001B[0m\u001B[0m\n\u001B[0;32m    195\u001B[0m         \u001B[1;32mtry\u001B[0m\u001B[1;33m:\u001B[0m\u001B[1;33m\u001B[0m\u001B[1;33m\u001B[0m\u001B[0m\n\u001B[1;32m--> 196\u001B[1;33m             \u001B[0mvalue_or_values\u001B[0m \u001B[1;33m=\u001B[0m \u001B[0mfunc\u001B[0m\u001B[1;33m(\u001B[0m\u001B[0mtrial\u001B[0m\u001B[1;33m)\u001B[0m\u001B[1;33m\u001B[0m\u001B[1;33m\u001B[0m\u001B[0m\n\u001B[0m\u001B[0;32m    197\u001B[0m         \u001B[1;32mexcept\u001B[0m \u001B[0mexceptions\u001B[0m\u001B[1;33m.\u001B[0m\u001B[0mTrialPruned\u001B[0m \u001B[1;32mas\u001B[0m \u001B[0me\u001B[0m\u001B[1;33m:\u001B[0m\u001B[1;33m\u001B[0m\u001B[1;33m\u001B[0m\u001B[0m\n\u001B[0;32m    198\u001B[0m             \u001B[1;31m# TODO(mamu): Handle multi-objective cases.\u001B[0m\u001B[1;33m\u001B[0m\u001B[1;33m\u001B[0m\u001B[1;33m\u001B[0m\u001B[0m\n",
      "\u001B[1;32m<ipython-input-2-78eb67eb14b3>\u001B[0m in \u001B[0;36moptuna_optimization\u001B[1;34m(trial)\u001B[0m\n\u001B[0;32m     10\u001B[0m     regrets, regrets_mix = run_algorithm(d=d, r=r, m=m, times=times, d_sigma=d_sigma,\n\u001B[0;32m     11\u001B[0m                                          \u001B[0mbeta_f\u001B[0m\u001B[1;33m=\u001B[0m\u001B[0mbeta_f\u001B[0m\u001B[1;33m,\u001B[0m \u001B[0mbeta_r\u001B[0m\u001B[1;33m=\u001B[0m\u001B[0mbeta_r\u001B[0m\u001B[1;33m,\u001B[0m \u001B[0mT_r\u001B[0m\u001B[1;33m=\u001B[0m\u001B[0mT\u001B[0m\u001B[1;33m,\u001B[0m \u001B[0mlr_r\u001B[0m\u001B[1;33m=\u001B[0m\u001B[0mlr_r\u001B[0m\u001B[1;33m,\u001B[0m \u001B[0mlr_f\u001B[0m\u001B[1;33m=\u001B[0m\u001B[0mlr_f\u001B[0m\u001B[1;33m,\u001B[0m\u001B[1;33m\u001B[0m\u001B[1;33m\u001B[0m\u001B[0m\n\u001B[1;32m---> 12\u001B[1;33m                                          avg_frac_r=avg_frac, stop_frac_r=stop_frac)\n\u001B[0m\u001B[0;32m     13\u001B[0m \u001B[1;33m\u001B[0m\u001B[0m\n\u001B[0;32m     14\u001B[0m     \u001B[1;32mreturn\u001B[0m \u001B[0msum\u001B[0m\u001B[1;33m(\u001B[0m\u001B[0mabs\u001B[0m\u001B[1;33m(\u001B[0m\u001B[0mnp\u001B[0m\u001B[1;33m.\u001B[0m\u001B[0mlog\u001B[0m\u001B[1;33m(\u001B[0m\u001B[0mregrets\u001B[0m\u001B[1;33m.\u001B[0m\u001B[0mmin\u001B[0m\u001B[1;33m(\u001B[0m\u001B[0maxis\u001B[0m\u001B[1;33m=\u001B[0m\u001B[1;36m1\u001B[0m\u001B[1;33m)\u001B[0m \u001B[1;33m/\u001B[0m \u001B[0mregrets_mix\u001B[0m\u001B[1;33m)\u001B[0m\u001B[1;33m)\u001B[0m\u001B[1;33m)\u001B[0m\u001B[1;33m\u001B[0m\u001B[1;33m\u001B[0m\u001B[0m\n",
      "\u001B[1;32m~\\Desktop\\masters\\thesis material\\paper-optimization-algorithm\\mse\\nn_utils.py\u001B[0m in \u001B[0;36mrun_algorithm\u001B[1;34m(d, r, m, times, beta_f, beta_r, T_r, lr_r, lr_f, avg_frac_r, stop_frac_r, d_sigma)\u001B[0m\n\u001B[0;32m    259\u001B[0m         R, f, curr_regrets = algorithm(sigma=sigma, m=m, r=r,\n\u001B[0;32m    260\u001B[0m                                        \u001B[0mbeta_f\u001B[0m\u001B[1;33m=\u001B[0m\u001B[0mbeta_f\u001B[0m\u001B[1;33m,\u001B[0m \u001B[0mbeta_r\u001B[0m\u001B[1;33m=\u001B[0m\u001B[0mbeta_r\u001B[0m\u001B[1;33m,\u001B[0m \u001B[0mlr_r\u001B[0m\u001B[1;33m=\u001B[0m\u001B[0mlr_r\u001B[0m\u001B[1;33m,\u001B[0m \u001B[0mlr_f\u001B[0m\u001B[1;33m=\u001B[0m\u001B[0mlr_f\u001B[0m\u001B[1;33m,\u001B[0m\u001B[1;33m\u001B[0m\u001B[1;33m\u001B[0m\u001B[0m\n\u001B[1;32m--> 261\u001B[1;33m                                        T_r=T_r, avg_frac_r=avg_frac_r, stop_frac_r=stop_frac_r)\n\u001B[0m\u001B[0;32m    262\u001B[0m         \u001B[0mregrets\u001B[0m\u001B[1;33m[\u001B[0m\u001B[0mt\u001B[0m\u001B[1;33m,\u001B[0m \u001B[1;33m:\u001B[0m\u001B[1;33m]\u001B[0m \u001B[1;33m=\u001B[0m \u001B[0mcurr_regrets\u001B[0m\u001B[1;33m\u001B[0m\u001B[1;33m\u001B[0m\u001B[0m\n\u001B[0;32m    263\u001B[0m         \u001B[0mprint\u001B[0m\u001B[1;33m(\u001B[0m\u001B[1;34mf\"algo_regret={curr_regrets.min()}\"\u001B[0m\u001B[1;33m)\u001B[0m\u001B[1;33m\u001B[0m\u001B[1;33m\u001B[0m\u001B[0m\n",
      "\u001B[1;32m~\\Desktop\\masters\\thesis material\\paper-optimization-algorithm\\mse\\nn_utils.py\u001B[0m in \u001B[0;36malgorithm\u001B[1;34m(sigma, m, r, beta_f, beta_r, T_r, lr_r, lr_f, avg_frac_r, stop_frac_r)\u001B[0m\n\u001B[0;32m    222\u001B[0m \u001B[1;33m\u001B[0m\u001B[0m\n\u001B[0;32m    223\u001B[0m     R0, f0, regret = init_R0_f0(sigma=sigma, d=d, r=r, T=T_r,\n\u001B[1;32m--> 224\u001B[1;33m                         beta_r=beta_r, beta_f=beta_f, lr_r=lr_r, lr_f=lr_f, avg_frac_r=avg_frac_r, stop_frac_r=stop_frac_r)\n\u001B[0m\u001B[0;32m    225\u001B[0m \u001B[1;33m\u001B[0m\u001B[0m\n\u001B[0;32m    226\u001B[0m     \u001B[0mf\u001B[0m \u001B[1;33m=\u001B[0m \u001B[0mf0\u001B[0m\u001B[1;33m[\u001B[0m\u001B[1;33m:\u001B[0m\u001B[1;33m]\u001B[0m\u001B[1;33m\u001B[0m\u001B[1;33m\u001B[0m\u001B[0m\n",
      "\u001B[1;32m~\\Desktop\\masters\\thesis material\\paper-optimization-algorithm\\mse\\nn_utils.py\u001B[0m in \u001B[0;36minit_R0_f0\u001B[1;34m(sigma, d, r, T, beta_r, beta_f, lr_r, lr_f, avg_frac_r, stop_frac_r)\u001B[0m\n\u001B[0;32m    205\u001B[0m                                  avg_frac=avg_frac_r, stop_frac=stop_frac_r)\n\u001B[0;32m    206\u001B[0m         \u001B[0mR\u001B[0m\u001B[1;33m.\u001B[0m\u001B[0mappend\u001B[0m\u001B[1;33m(\u001B[0m\u001B[0mnew_R\u001B[0m\u001B[1;33m)\u001B[0m\u001B[1;33m\u001B[0m\u001B[1;33m\u001B[0m\u001B[0m\n\u001B[1;32m--> 207\u001B[1;33m         \u001B[0mnew_f\u001B[0m\u001B[1;33m,\u001B[0m \u001B[0mreg\u001B[0m \u001B[1;33m=\u001B[0m \u001B[0mfind_worst_f\u001B[0m\u001B[1;33m(\u001B[0m\u001B[0msigma\u001B[0m\u001B[1;33m=\u001B[0m\u001B[0msigma\u001B[0m\u001B[1;33m,\u001B[0m \u001B[0mR\u001B[0m\u001B[1;33m=\u001B[0m\u001B[0mR\u001B[0m\u001B[1;33m,\u001B[0m \u001B[0mp\u001B[0m\u001B[1;33m=\u001B[0m\u001B[0mp\u001B[0m\u001B[1;33m,\u001B[0m \u001B[0mlr\u001B[0m\u001B[1;33m=\u001B[0m\u001B[0mlr_f\u001B[0m\u001B[1;33m)\u001B[0m\u001B[1;33m\u001B[0m\u001B[1;33m\u001B[0m\u001B[0m\n\u001B[0m\u001B[0;32m    208\u001B[0m         \u001B[0mf\u001B[0m\u001B[1;33m.\u001B[0m\u001B[0mappend\u001B[0m\u001B[1;33m(\u001B[0m\u001B[0mnew_f\u001B[0m\u001B[1;33m)\u001B[0m\u001B[1;33m\u001B[0m\u001B[1;33m\u001B[0m\u001B[0m\n\u001B[0;32m    209\u001B[0m \u001B[1;33m\u001B[0m\u001B[0m\n",
      "\u001B[1;32m~\\Desktop\\masters\\thesis material\\paper-optimization-algorithm\\mse\\nn_utils.py\u001B[0m in \u001B[0;36mfind_worst_f\u001B[1;34m(sigma, R, p, lr, tol)\u001B[0m\n\u001B[0;32m    116\u001B[0m \u001B[1;33m\u001B[0m\u001B[0m\n\u001B[0;32m    117\u001B[0m     \u001B[1;32mwhile\u001B[0m \u001B[1;32mTrue\u001B[0m\u001B[1;33m:\u001B[0m\u001B[1;33m\u001B[0m\u001B[1;33m\u001B[0m\u001B[0m\n\u001B[1;32m--> 118\u001B[1;33m         \u001B[0mQ\u001B[0m \u001B[1;33m=\u001B[0m \u001B[0moptimal_Q\u001B[0m\u001B[1;33m(\u001B[0m\u001B[0msigma\u001B[0m\u001B[1;33m=\u001B[0m\u001B[0msigma\u001B[0m\u001B[1;33m,\u001B[0m \u001B[0mR\u001B[0m\u001B[1;33m=\u001B[0m\u001B[0mR\u001B[0m\u001B[1;33m,\u001B[0m \u001B[0mf\u001B[0m\u001B[1;33m=\u001B[0m\u001B[1;33m[\u001B[0m\u001B[0mf\u001B[0m\u001B[1;33m]\u001B[0m\u001B[1;33m)\u001B[0m\u001B[1;33m\u001B[0m\u001B[1;33m\u001B[0m\u001B[0m\n\u001B[0m\u001B[0;32m    119\u001B[0m \u001B[1;33m\u001B[0m\u001B[0m\n\u001B[0;32m    120\u001B[0m         \u001B[0moptimizer\u001B[0m\u001B[1;33m.\u001B[0m\u001B[0mzero_grad\u001B[0m\u001B[1;33m(\u001B[0m\u001B[1;33m)\u001B[0m\u001B[1;33m\u001B[0m\u001B[1;33m\u001B[0m\u001B[0m\n",
      "\u001B[1;32m~\\Desktop\\masters\\thesis material\\paper-optimization-algorithm\\mse\\nn_utils.py\u001B[0m in \u001B[0;36moptimal_Q\u001B[1;34m(sigma, R, f)\u001B[0m\n\u001B[0;32m    105\u001B[0m     \u001B[1;32mfor\u001B[0m \u001B[0mj\u001B[0m \u001B[1;32min\u001B[0m \u001B[0mrange\u001B[0m\u001B[1;33m(\u001B[0m\u001B[0mlen\u001B[0m\u001B[1;33m(\u001B[0m\u001B[0mR\u001B[0m\u001B[1;33m)\u001B[0m\u001B[1;33m)\u001B[0m\u001B[1;33m:\u001B[0m\u001B[1;33m\u001B[0m\u001B[1;33m\u001B[0m\u001B[0m\n\u001B[0;32m    106\u001B[0m         \u001B[1;32mfor\u001B[0m \u001B[0mi\u001B[0m \u001B[1;32min\u001B[0m \u001B[0mrange\u001B[0m\u001B[1;33m(\u001B[0m\u001B[0mlen\u001B[0m\u001B[1;33m(\u001B[0m\u001B[0mf\u001B[0m\u001B[1;33m)\u001B[0m\u001B[1;33m)\u001B[0m\u001B[1;33m:\u001B[0m\u001B[1;33m\u001B[0m\u001B[1;33m\u001B[0m\u001B[0m\n\u001B[1;32m--> 107\u001B[1;33m             \u001B[0mQ\u001B[0m\u001B[1;33m[\u001B[0m\u001B[1;33m(\u001B[0m\u001B[0mj\u001B[0m\u001B[1;33m,\u001B[0m \u001B[0mi\u001B[0m\u001B[1;33m)\u001B[0m\u001B[1;33m]\u001B[0m \u001B[1;33m=\u001B[0m \u001B[0moptimal_q\u001B[0m\u001B[1;33m(\u001B[0m\u001B[0msigma\u001B[0m\u001B[1;33m=\u001B[0m\u001B[0msigma\u001B[0m\u001B[1;33m,\u001B[0m \u001B[0mR_j\u001B[0m\u001B[1;33m=\u001B[0m\u001B[0mR\u001B[0m\u001B[1;33m[\u001B[0m\u001B[0mj\u001B[0m\u001B[1;33m]\u001B[0m\u001B[1;33m,\u001B[0m \u001B[0mf_i\u001B[0m\u001B[1;33m=\u001B[0m\u001B[0mf\u001B[0m\u001B[1;33m[\u001B[0m\u001B[0mi\u001B[0m\u001B[1;33m]\u001B[0m\u001B[1;33m)\u001B[0m\u001B[1;33m\u001B[0m\u001B[1;33m\u001B[0m\u001B[0m\n\u001B[0m\u001B[0;32m    108\u001B[0m     \u001B[1;32mreturn\u001B[0m \u001B[0mQ\u001B[0m\u001B[1;33m\u001B[0m\u001B[1;33m\u001B[0m\u001B[0m\n\u001B[0;32m    109\u001B[0m \u001B[1;33m\u001B[0m\u001B[0m\n",
      "\u001B[1;32m~\\Desktop\\masters\\thesis material\\paper-optimization-algorithm\\mse\\nn_utils.py\u001B[0m in \u001B[0;36moptimal_q\u001B[1;34m(sigma, R_j, f_i, tol, lr, use_formula)\u001B[0m\n\u001B[0;32m     87\u001B[0m         \u001B[0mloss\u001B[0m\u001B[1;33m.\u001B[0m\u001B[0mbackward\u001B[0m\u001B[1;33m(\u001B[0m\u001B[1;33m)\u001B[0m\u001B[1;33m\u001B[0m\u001B[1;33m\u001B[0m\u001B[0m\n\u001B[0;32m     88\u001B[0m         \u001B[0moptimizer\u001B[0m\u001B[1;33m.\u001B[0m\u001B[0mstep\u001B[0m\u001B[1;33m(\u001B[0m\u001B[1;33m)\u001B[0m\u001B[1;33m\u001B[0m\u001B[1;33m\u001B[0m\u001B[0m\n\u001B[1;32m---> 89\u001B[1;33m         \u001B[1;32mif\u001B[0m \u001B[0mtorch\u001B[0m\u001B[1;33m.\u001B[0m\u001B[0mlinalg\u001B[0m\u001B[1;33m.\u001B[0m\u001B[0mnorm\u001B[0m\u001B[1;33m(\u001B[0m\u001B[0mq\u001B[0m\u001B[1;33m.\u001B[0m\u001B[0mlinear_layer\u001B[0m\u001B[1;33m.\u001B[0m\u001B[0mweight\u001B[0m\u001B[1;33m.\u001B[0m\u001B[0mgrad\u001B[0m\u001B[1;33m)\u001B[0m \u001B[1;33m<\u001B[0m \u001B[0mtol\u001B[0m\u001B[0;31m \u001B[0m\u001B[0;31m\\\u001B[0m\u001B[1;33m\u001B[0m\u001B[1;33m\u001B[0m\u001B[0m\n\u001B[0m\u001B[0;32m     90\u001B[0m                 \u001B[1;32mor\u001B[0m \u001B[0mtorch\u001B[0m\u001B[1;33m.\u001B[0m\u001B[0mlinalg\u001B[0m\u001B[1;33m.\u001B[0m\u001B[0mnorm\u001B[0m\u001B[1;33m(\u001B[0m\u001B[0mq\u001B[0m\u001B[1;33m.\u001B[0m\u001B[0mlinear_layer\u001B[0m\u001B[1;33m.\u001B[0m\u001B[0mweight\u001B[0m \u001B[1;33m-\u001B[0m \u001B[0mprev_weights\u001B[0m\u001B[1;33m)\u001B[0m \u001B[1;33m<\u001B[0m \u001B[0mtol\u001B[0m\u001B[1;33m:\u001B[0m\u001B[1;33m\u001B[0m\u001B[1;33m\u001B[0m\u001B[0m\n\u001B[0;32m     91\u001B[0m             \u001B[1;32mbreak\u001B[0m\u001B[1;33m\u001B[0m\u001B[1;33m\u001B[0m\u001B[0m\n",
      "\u001B[1;31mKeyboardInterrupt\u001B[0m: "
     ]
    }
   ],
   "source": [
    "name = f\"optuna-nn_d={d}_r={r}_m={m}_Tr={T}_var={d_sigma}\"\n",
    "study = optuna.create_study(study_name=f'{name}',\n",
    "                            storage=f'sqlite:///./../optuna/{name}.db ',\n",
    "                            direction='minimize', load_if_exists=True)\n",
    "study.optimize(optuna_optimization, n_trials=100)\n"
   ],
   "metadata": {
    "collapsed": false,
    "pycharm": {
     "name": "#%%\n"
    }
   }
  },
  {
   "cell_type": "code",
   "execution_count": null,
   "outputs": [],
   "source": [],
   "metadata": {
    "collapsed": false,
    "pycharm": {
     "name": "#%%\n"
    }
   }
  }
 ],
 "metadata": {
  "kernelspec": {
   "display_name": "Python 3",
   "language": "python",
   "name": "python3"
  },
  "language_info": {
   "codemirror_mode": {
    "name": "ipython",
    "version": 2
   },
   "file_extension": ".py",
   "mimetype": "text/x-python",
   "name": "python",
   "nbconvert_exporter": "python",
   "pygments_lexer": "ipython2",
   "version": "2.7.6"
  }
 },
 "nbformat": 4,
 "nbformat_minor": 0
}