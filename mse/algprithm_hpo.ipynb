{
 "cells": [
  {
   "cell_type": "code",
   "execution_count": 1,
   "metadata": {
    "collapsed": true
   },
   "outputs": [],
   "source": [
    "import numpy as np\n",
    "\n",
    "from steps import *\n",
    "from tqdm import tqdm\n",
    "from optimal import *\n",
    "import matplotlib.pyplot as plt\n",
    "import optuna\n",
    "import warnings\n",
    "warnings.filterwarnings(\"error\")"
   ]
  },
  {
   "cell_type": "code",
   "execution_count": 2,
   "outputs": [],
   "source": [
    "def optuna_optimize_algorithm(trial):\n",
    "\n",
    "    beta_f = trial.suggest_float('beta_f', 0.5, 0.99)\n",
    "    beta_r = trial.suggest_float('beta_r', 0.5, 0.99)\n",
    "    lr_f = trial.suggest_float('lr_f', 0, 1.0)\n",
    "    lr_r = trial.suggest_float('lr_r', 0, 1.0)\n",
    "    stop_frac = trial.suggest_int('stop_frac_r', 1, 10)\n",
    "    avg_frac = trial.suggest_int('avg_frac_r', stop_frac, 10)\n",
    "\n",
    "    regret_list, regret_mix_list = run_algorithm(d=d, r=r, m=m, sigma_type=sigma_type, s_type=s_type, times=times,\n",
    "                                                 d_sigma=d_sigma, T_r=T_r, beta_f=beta_f, beta_r=beta_r, lr_f=lr_f, lr_r=lr_r,\n",
    "                                                 avg_frac_r=avg_frac, stop_frac_r=stop_frac)\n",
    "\n",
    "    return sum(abs(np.log(regret_list.min(axis=1) / regret_mix_list)))"
   ],
   "metadata": {
    "collapsed": false,
    "pycharm": {
     "name": "#%%\n"
    }
   }
  },
  {
   "cell_type": "code",
   "execution_count": null,
   "outputs": [
    {
     "name": "stderr",
     "output_type": "stream",
     "text": [
      "\u001B[32m[I 2023-05-06 20:14:13,908]\u001B[0m Using an existing study with name 'optuna_optimization_d=20_r=3_sigma=matrix_type.DIAG_s=matrix_type.IDENTITY_m=20_Tr=100_var=1' instead of creating a new one.\u001B[0m\n"
     ]
    },
    {
     "name": "stdout",
     "output_type": "stream",
     "text": [
      "l_star=7 ; regret_mix=1.058876506105751 ; last_regret=1.2204452306215536\n",
      "l_star=7 ; regret_mix=2.266421514275527 ; last_regret=2.60061861312069\n",
      "l_star=8 ; regret_mix=1.4974408373644315 ; last_regret=1.6818546329917132\n",
      "l_star=9 ; regret_mix=1.3963787021597562 ; last_regret=1.5424132459741708\n",
      "l_star=7 ; regret_mix=2.198071749867096 ; last_regret=2.5817329057489062\n",
      "l_star=7 ; regret_mix=1.7442187882848164 ; last_regret=1.9612636227360936\n",
      "l_star=8 ; regret_mix=1.181993028559673 ; last_regret=1.3432464834358688\n",
      "l_star=7 ; regret_mix=1.681164928129241 ; last_regret=1.9394671427920451\n",
      "l_star=8 ; regret_mix=1.8962738086112214 ; last_regret=2.1108654279964902\n",
      "l_star=6 ; regret_mix=0.8752603592691958 ; "
     ]
    },
    {
     "name": "stderr",
     "output_type": "stream",
     "text": [
      "\u001B[32m[I 2023-05-06 20:17:51,726]\u001B[0m Trial 51 finished with value: 1.327863181094395 and parameters: {'beta_f': 0.7452919955097143, 'beta_r': 0.9581775626677773, 'lr_f': 0.1589410125680239, 'lr_r': 0.5267470871978044, 'stop_frac_r': 10, 'avg_frac_r': 10}. Best is trial 35 with value: 0.920560753587074.\u001B[0m\n"
     ]
    },
    {
     "name": "stdout",
     "output_type": "stream",
     "text": [
      "last_regret=1.0442362686854683\n",
      "l_star=8 ; regret_mix=1.2250710509073497 ; last_regret=1.3443847456923426\n",
      "l_star=7 ; regret_mix=1.2899429547398185 ; last_regret=1.4599451275165582\n",
      "l_star=9 ; regret_mix=1.159638657192336 ; last_regret=1.294931776077846\n",
      "l_star=6 ; regret_mix=1.5311354085339957 ; last_regret=1.707936875887953\n",
      "l_star=6 ; regret_mix=1.5082280398451253 ; last_regret=1.716903149275321\n",
      "l_star=8 ; regret_mix=1.3421300338592745 ; last_regret=1.4825779828910017\n",
      "l_star=7 ; regret_mix=1.0388455021492795 ; last_regret=1.1866771149979851\n",
      "l_star=7 ; regret_mix=1.3191720445208177 ; last_regret=1.4681402175157419\n",
      "l_star=6 ; regret_mix=1.4568671925523708 ; last_regret=1.6328100010999698\n",
      "l_star=7 ; regret_mix=0.9779231910385964 ; "
     ]
    },
    {
     "name": "stderr",
     "output_type": "stream",
     "text": [
      "\u001B[32m[I 2023-05-06 20:21:38,754]\u001B[0m Trial 52 finished with value: 1.1266264546822033 and parameters: {'beta_f': 0.7372457317332902, 'beta_r': 0.9783995685607979, 'lr_f': 0.08710901735842413, 'lr_r': 0.670444799345763, 'stop_frac_r': 10, 'avg_frac_r': 10}. Best is trial 35 with value: 0.920560753587074.\u001B[0m\n"
     ]
    },
    {
     "name": "stdout",
     "output_type": "stream",
     "text": [
      "last_regret=1.0884701557906262\n",
      "l_star=7 ; regret_mix=1.3760489839552519 ; last_regret=1.5538388348957355\n",
      "l_star=5 ; regret_mix=1.6484398298688105 ; last_regret=1.8428703915055675\n",
      "l_star=8 ; regret_mix=1.4870960156767057 ; last_regret=1.6585663523684553\n",
      "l_star=10 ; regret_mix=1.3091988133970802 ; last_regret=1.4428346166825732\n",
      "l_star=9 ; regret_mix=0.831012865057605 ; last_regret=0.9395277456504907\n",
      "l_star=7 ; regret_mix=1.6921401912071379 ; last_regret=1.896062379476313\n",
      "l_star=9 ; regret_mix=1.4779926911294081 ; last_regret=1.640791620902222\n",
      "l_star=9 ; regret_mix=2.1723241753829257 ; "
     ]
    }
   ],
   "source": [
    "d = 20\n",
    "r = 3\n",
    "m = 20\n",
    "T_r = 100\n",
    "times = 10\n",
    "d_sigma = 1\n",
    "sigma_type = matrix_type.DIAG\n",
    "s_type = matrix_type.IDENTITY\n",
    "\n",
    "name = f\"optuna_optimization_d={d}_r={r}_sigma={sigma_type}_s={s_type}_m={m}_Tr={T_r}_var={d_sigma}\"\n",
    "study = optuna.create_study(study_name=f'{name}',\n",
    "                            storage=f'sqlite:///./../optuna/{name}.db ',\n",
    "                            direction='minimize', load_if_exists=True)\n",
    "study.optimize(optuna_optimize_algorithm, n_trials=100)"
   ],
   "metadata": {
    "collapsed": false,
    "pycharm": {
     "name": "#%%\n",
     "is_executing": true
    }
   }
  },
  {
   "cell_type": "code",
   "execution_count": null,
   "outputs": [],
   "source": [],
   "metadata": {
    "collapsed": false,
    "pycharm": {
     "name": "#%%\n",
     "is_executing": true
    }
   }
  }
 ],
 "metadata": {
  "kernelspec": {
   "name": "pycharm-4f6c12d3",
   "language": "python",
   "display_name": "PyCharm (paper-optimization-algorithm)"
  },
  "language_info": {
   "codemirror_mode": {
    "name": "ipython",
    "version": 2
   },
   "file_extension": ".py",
   "mimetype": "text/x-python",
   "name": "python",
   "nbconvert_exporter": "python",
   "pygments_lexer": "ipython2",
   "version": "2.7.6"
  }
 },
 "nbformat": 4,
 "nbformat_minor": 0
}