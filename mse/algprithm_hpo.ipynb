{
 "cells": [
  {
   "cell_type": "code",
   "execution_count": 1,
   "metadata": {
    "collapsed": true
   },
   "outputs": [],
   "source": [
    "import numpy as np\n",
    "\n",
    "from steps import *\n",
    "from tqdm import tqdm\n",
    "from optimal import *\n",
    "import matplotlib.pyplot as plt\n",
    "import optuna\n",
    "import warnings\n",
    "warnings.filterwarnings(\"error\")"
   ]
  },
  {
   "cell_type": "code",
   "execution_count": 2,
   "outputs": [],
   "source": [
    "def optuna_optimize_algorithm(trial):\n",
    "\n",
    "    beta_f = trial.suggest_float('beta_f', 0.5, 0.99)\n",
    "    beta_r = trial.suggest_float('beta_r', 0.5, 0.99)\n",
    "    lr_f = trial.suggest_float('lr_f', 0, 1.0)\n",
    "    lr_r = trial.suggest_float('lr_r', 0, 1.0)\n",
    "    stop_frac = trial.suggest_int('stop_frac_r', 1, 10)\n",
    "    avg_frac = trial.suggest_int('avg_frac_r', stop_frac, 10)\n",
    "\n",
    "    regret_list, regret_mix_list = run_algorithm(d=d, r=r, m=m, sigma_type=sigma_type, s_type=s_type, times=times,\n",
    "                                                 d_sigma=d_sigma, T_r=T_r, beta_f=beta_f, beta_r=beta_r, lr_f=lr_f, lr_r=lr_r,\n",
    "                                                 avg_frac_r=avg_frac, stop_frac_r=stop_frac)\n",
    "\n",
    "    return sum(abs(np.log(regret_list.min(axis=1) / regret_mix_list)))"
   ],
   "metadata": {
    "collapsed": false,
    "pycharm": {
     "name": "#%%\n"
    }
   }
  },
  {
   "cell_type": "code",
   "execution_count": 3,
   "outputs": [
    {
     "name": "stderr",
     "output_type": "stream",
     "text": [
      "\u001B[32m[I 2023-05-07 15:07:53,305]\u001B[0m A new study created in RDB with name: optuna_optimization_d=20_r=3_sigma=matrix_type.DIAG_s=matrix_type.IDENTITY_m=20_Tr=100_var=3\u001B[0m\n"
     ]
    },
    {
     "name": "stdout",
     "output_type": "stream",
     "text": [
      "l_star=4 ; regret_mix=20.754814701969362 ; last_regret=24.210194682115993\n",
      "l_star=4 ; regret_mix=17.546048811299787 ; last_regret=21.10903938208078\n",
      "l_star=4 ; regret_mix=6.681463475209085 ; last_regret=7.5974399533848915\n",
      "l_star=5 ; regret_mix=9.344227391703612 ; last_regret=10.421081023273969\n",
      "l_star=5 ; regret_mix=7.150417038808887 ; last_regret=8.207104942892665\n",
      "l_star=4 ; regret_mix=10.69025464330876 ; last_regret=12.813654649905875\n",
      "l_star=5 ; regret_mix=15.024797758223533 ; last_regret=18.159788853031916\n",
      "l_star=6 ; regret_mix=6.886152088824051 ; last_regret=7.6699210651124545\n",
      "l_star=4 ; regret_mix=5.911064433399975 ; last_regret=6.8290350454054884\n",
      "l_star=4 ; regret_mix=13.244403246012615 ; "
     ]
    },
    {
     "name": "stderr",
     "output_type": "stream",
     "text": [
      "\u001B[32m[I 2023-05-07 15:10:51,949]\u001B[0m Trial 0 finished with value: 1.4710054119456257 and parameters: {'beta_f': 0.7045523083830201, 'beta_r': 0.8677670014374236, 'lr_f': 0.8635397356516306, 'lr_r': 0.4454399198260116, 'stop_frac_r': 3, 'avg_frac_r': 7}. Best is trial 0 with value: 1.4710054119456257.\u001B[0m\n"
     ]
    },
    {
     "name": "stdout",
     "output_type": "stream",
     "text": [
      "last_regret=15.142397666202035\n",
      "l_star=5 ; regret_mix=2.7624986180128484 ; last_regret=3.8262402194308303\n",
      "l_star=4 ; regret_mix=6.492007598293681 ; last_regret=8.765913389994017\n",
      "l_star=4 ; regret_mix=13.079740266740282 ; last_regret=16.04181074157593\n",
      "l_star=5 ; regret_mix=2.5595873551173343 ; last_regret=3.1596048712075175\n",
      "l_star=6 ; regret_mix=4.315918039898751 ; last_regret=5.444621177880239\n",
      "l_star=5 ; regret_mix=27.019885460929704 ; last_regret=31.722400913936013\n",
      "l_star=5 ; regret_mix=2.3651118258838033 ; last_regret=2.657144359715354\n",
      "l_star=5 ; regret_mix=3.6355319141782125 ; last_regret=4.503788387544472\n",
      "l_star=4 ; regret_mix=4.354680359844496 ; last_regret=4.790112230223462\n",
      "l_star=5 ; regret_mix=3.9468848474341174 ; "
     ]
    },
    {
     "name": "stderr",
     "output_type": "stream",
     "text": [
      "\u001B[32m[I 2023-05-07 15:13:52,085]\u001B[0m Trial 1 finished with value: 2.210334788517818 and parameters: {'beta_f': 0.8869973617839759, 'beta_r': 0.6293481033228483, 'lr_f': 0.6947966005390541, 'lr_r': 0.2991217403568912, 'stop_frac_r': 4, 'avg_frac_r': 7}. Best is trial 0 with value: 1.4710054119456257.\u001B[0m\n"
     ]
    },
    {
     "name": "stdout",
     "output_type": "stream",
     "text": [
      "last_regret=5.605899848535244\n",
      "l_star=5 ; regret_mix=17.981509649102737 ; last_regret=24.398752067422222\n",
      "l_star=5 ; regret_mix=18.8097022750036 ; last_regret=23.75912129440285\n",
      "l_star=5 ; regret_mix=2.8351799109172973 ; last_regret=3.4426190021029264\n",
      "l_star=4 ; regret_mix=26.728523027952377 ; last_regret=39.34836308148298\n",
      "l_star=4 ; regret_mix=6.623426009690479 ; last_regret=7.798414945579352\n",
      "l_star=6 ; regret_mix=5.865117483573859 ; last_regret=6.665617257865336\n",
      "l_star=6 ; regret_mix=4.849462072215871 ; last_regret=5.287822810934362\n",
      "l_star=4 ; regret_mix=3.3810295260195757 ; last_regret=3.549508695982213\n",
      "l_star=5 ; regret_mix=11.715809780981317 ; last_regret=13.963316196566947\n",
      "l_star=6 ; regret_mix=3.9654371543182863 ; "
     ]
    },
    {
     "name": "stderr",
     "output_type": "stream",
     "text": [
      "\u001B[32m[I 2023-05-07 15:16:58,344]\u001B[0m Trial 2 finished with value: 1.8139144501985247 and parameters: {'beta_f': 0.5633847386612629, 'beta_r': 0.7387145938689852, 'lr_f': 0.25172231112500176, 'lr_r': 0.5552209527312433, 'stop_frac_r': 10, 'avg_frac_r': 10}. Best is trial 0 with value: 1.4710054119456257.\u001B[0m\n"
     ]
    },
    {
     "name": "stdout",
     "output_type": "stream",
     "text": [
      "last_regret=4.349185856420639\n",
      "l_star=4 ; regret_mix=17.315025711572005 ; last_regret=22.73324308321639\n",
      "l_star=5 ; regret_mix=9.850308366021345 ; last_regret=10.15728221728516\n",
      "l_star=4 ; regret_mix=10.435441439094097 ; last_regret=11.423297244372055\n",
      "l_star=6 ; regret_mix=10.842544001918593 ; last_regret=13.585561323112545\n",
      "l_star=4 ; regret_mix=12.32564690062954 ; last_regret=16.88999084586107\n",
      "l_star=8 ; regret_mix=5.33367946187278 ; last_regret=6.239086106149366\n",
      "l_star=6 ; regret_mix=13.035910570692252 ; last_regret=15.958829227938601\n",
      "l_star=4 ; regret_mix=9.763341909762078 ; last_regret=10.877466631631624\n",
      "l_star=4 ; regret_mix=25.086053983338406 ; last_regret=33.95506426705072\n",
      "l_star=4 ; regret_mix=24.92756442381416 ; "
     ]
    },
    {
     "name": "stderr",
     "output_type": "stream",
     "text": [
      "\u001B[32m[I 2023-05-07 15:20:08,358]\u001B[0m Trial 3 finished with value: 1.9741718841399165 and parameters: {'beta_f': 0.7810302484511196, 'beta_r': 0.6692296864411542, 'lr_f': 0.39454383654285474, 'lr_r': 0.5389129619321483, 'stop_frac_r': 2, 'avg_frac_r': 8}. Best is trial 0 with value: 1.4710054119456257.\u001B[0m\n"
     ]
    },
    {
     "name": "stdout",
     "output_type": "stream",
     "text": [
      "last_regret=32.66509525838274\n",
      "l_star=4 ; regret_mix=43.56333587295011 ; last_regret=54.76699782963234\n",
      "l_star=4 ; regret_mix=15.146852511519105 ; last_regret=16.535279690834486\n",
      "l_star=5 ; regret_mix=4.766688908744199 ; last_regret=5.5114053573516655\n",
      "l_star=5 ; regret_mix=8.558732000979646 ; last_regret=10.274479975702715\n",
      "l_star=4 ; regret_mix=11.699412157599065 ; last_regret=15.870725268915693\n",
      "l_star=5 ; regret_mix=2.138698397539329 ; last_regret=2.8129769503977933\n",
      "l_star=5 ; regret_mix=7.015783113771755 ; last_regret=8.193814201222855\n",
      "l_star=5 ; regret_mix=17.09062066671367 ; last_regret=19.653119444866988\n",
      "l_star=4 ; regret_mix=5.486890001155349 ; last_regret=7.636248410162479\n",
      "l_star=5 ; regret_mix=3.510708837162411 ; "
     ]
    },
    {
     "name": "stderr",
     "output_type": "stream",
     "text": [
      "\u001B[32m[I 2023-05-07 15:23:10,638]\u001B[0m Trial 4 finished with value: 2.0407546819543643 and parameters: {'beta_f': 0.9005273345004549, 'beta_r': 0.7421204457612725, 'lr_f': 0.6940650445536362, 'lr_r': 0.6022874017400686, 'stop_frac_r': 8, 'avg_frac_r': 8}. Best is trial 0 with value: 1.4710054119456257.\u001B[0m\n"
     ]
    },
    {
     "name": "stdout",
     "output_type": "stream",
     "text": [
      "last_regret=4.253178553303352\n",
      "l_star=6 ; regret_mix=4.671964040435151 ; last_regret=5.110386378095679\n",
      "l_star=6 ; regret_mix=12.420172584799538 ; last_regret=13.538096140172886\n",
      "l_star=5 ; regret_mix=60.715186809365285 ; last_regret=75.6775453287864\n",
      "l_star=8 ; regret_mix=17.360682340446065 ; last_regret=19.74514628127145\n",
      "l_star=4 ; regret_mix=7.091893987528954 ; last_regret=9.152593369381734\n",
      "l_star=5 ; regret_mix=10.618291609936389 ; last_regret=11.517599494248797\n",
      "l_star=4 ; regret_mix=9.510261875278447 ; last_regret=12.352691602121135\n",
      "l_star=6 ; regret_mix=12.604455139303552 ; last_regret=14.42676944975353\n",
      "l_star=6 ; regret_mix=8.888724504684902 ; last_regret=10.961705248354988\n",
      "l_star=5 ; regret_mix=4.580720297557431 ; "
     ]
    },
    {
     "name": "stderr",
     "output_type": "stream",
     "text": [
      "\u001B[32m[I 2023-05-07 15:26:15,947]\u001B[0m Trial 5 finished with value: 1.630310004833442 and parameters: {'beta_f': 0.7056325418725604, 'beta_r': 0.8321060583852524, 'lr_f': 0.5923628634136969, 'lr_r': 0.20843485854139143, 'stop_frac_r': 9, 'avg_frac_r': 10}. Best is trial 0 with value: 1.4710054119456257.\u001B[0m\n"
     ]
    },
    {
     "name": "stdout",
     "output_type": "stream",
     "text": [
      "last_regret=5.391118388627267\n",
      "l_star=4 ; regret_mix=21.608310506334927 ; last_regret=25.01819703167381\n",
      "l_star=6 ; regret_mix=6.293830893910281 ; last_regret=7.621881264296006\n",
      "l_star=5 ; regret_mix=14.71692376590611 ; last_regret=16.44260384371046\n",
      "l_star=6 ; regret_mix=5.546521307582047 ; last_regret=6.172860147671705\n",
      "l_star=6 ; regret_mix=1.9353933328214998 ; last_regret=2.744694390102854\n",
      "l_star=7 ; regret_mix=3.8927589126816424 ; last_regret=4.376383854086092\n",
      "l_star=5 ; regret_mix=24.64181972495679 ; last_regret=27.91591512305044\n",
      "l_star=5 ; regret_mix=11.219953958536033 ; last_regret=13.301101033119789\n",
      "l_star=6 ; regret_mix=35.5240825631413 ; last_regret=44.7533844950187\n",
      "l_star=4 ; regret_mix=13.74547125546415 ; "
     ]
    },
    {
     "name": "stderr",
     "output_type": "stream",
     "text": [
      "\u001B[32m[I 2023-05-07 15:29:23,803]\u001B[0m Trial 6 finished with value: 1.8586549016635527 and parameters: {'beta_f': 0.7247755335629404, 'beta_r': 0.5675477489135363, 'lr_f': 0.703954467249836, 'lr_r': 0.38959116898762813, 'stop_frac_r': 3, 'avg_frac_r': 10}. Best is trial 0 with value: 1.4710054119456257.\u001B[0m\n"
     ]
    },
    {
     "name": "stdout",
     "output_type": "stream",
     "text": [
      "last_regret=18.74995858615144\n",
      "l_star=5 ; regret_mix=11.053988855766564 ; last_regret=13.04935475007843\n",
      "l_star=5 ; regret_mix=5.049768759789338 ; last_regret=6.323983175197063\n",
      "l_star=6 ; regret_mix=9.62979928285264 ; last_regret=11.49687016030851\n",
      "l_star=5 ; regret_mix=6.803875837966821 ; last_regret=8.047681502742483\n",
      "l_star=6 ; regret_mix=23.065261667711155 ; last_regret=26.883424677857715\n",
      "l_star=5 ; regret_mix=17.46079482679043 ; last_regret=20.89208450273714\n",
      "l_star=6 ; regret_mix=5.244429117280941 ; last_regret=5.881873455582733\n",
      "l_star=5 ; regret_mix=10.225275622320323 ; last_regret=14.146947551261071\n",
      "l_star=4 ; regret_mix=22.87836165441854 ; last_regret=30.470462505539313\n",
      "l_star=5 ; regret_mix=12.62671332591078 ; "
     ]
    },
    {
     "name": "stderr",
     "output_type": "stream",
     "text": [
      "\u001B[32m[I 2023-05-07 15:32:31,211]\u001B[0m Trial 7 finished with value: 2.0342387954355425 and parameters: {'beta_f': 0.6212257332140314, 'beta_r': 0.6984908195771314, 'lr_f': 0.0701553115431337, 'lr_r': 0.8889454297863273, 'stop_frac_r': 5, 'avg_frac_r': 8}. Best is trial 0 with value: 1.4710054119456257.\u001B[0m\n"
     ]
    },
    {
     "name": "stdout",
     "output_type": "stream",
     "text": [
      "last_regret=16.046477384580538\n",
      "l_star=4 ; regret_mix=12.636232320781925 ; last_regret=13.644490118409102\n",
      "l_star=4 ; regret_mix=13.10551396553795 ; last_regret=14.105139890937082\n",
      "l_star=6 ; regret_mix=38.00421044302593 ; last_regret=40.687724992575\n",
      "l_star=5 ; regret_mix=13.002157580585518 ; last_regret=15.53246802229589\n",
      "l_star=5 ; regret_mix=15.995330893551806 ; last_regret=17.239101046125864\n",
      "l_star=4 ; regret_mix=18.55301101379447 ; last_regret=20.128226675264262\n",
      "l_star=6 ; regret_mix=7.666850688860454 ; last_regret=8.74405978867634\n",
      "l_star=5 ; regret_mix=4.490988804616893 ; last_regret=5.399466382008546\n",
      "l_star=4 ; regret_mix=7.723588064138884 ; last_regret=8.58451275283519\n",
      "l_star=4 ; regret_mix=5.690815967253727 ; "
     ]
    },
    {
     "name": "stderr",
     "output_type": "stream",
     "text": [
      "\u001B[32m[I 2023-05-07 15:35:36,836]\u001B[0m Trial 8 finished with value: 1.1565885159139255 and parameters: {'beta_f': 0.7348759147721362, 'beta_r': 0.9770700207145311, 'lr_f': 0.7362641798807645, 'lr_r': 0.6025350389556535, 'stop_frac_r': 3, 'avg_frac_r': 3}. Best is trial 8 with value: 1.1565885159139255.\u001B[0m\n"
     ]
    },
    {
     "name": "stdout",
     "output_type": "stream",
     "text": [
      "last_regret=6.830315077748171\n",
      "l_star=5 ; regret_mix=2.8086515323152237 ; last_regret=3.0959375558690754\n",
      "l_star=4 ; regret_mix=11.366238740353813 ; last_regret=13.211512320410156\n",
      "l_star=5 ; regret_mix=42.55861092554675 ; last_regret=51.82581799072695\n",
      "l_star=5 ; regret_mix=3.989346361146146 ; last_regret=4.595884712217258\n",
      "l_star=4 ; regret_mix=19.848775710670115 ; last_regret=23.860952949447046\n",
      "l_star=5 ; regret_mix=15.988142956089701 ; last_regret=21.625561761672692\n",
      "l_star=4 ; regret_mix=33.56123294468211 ; last_regret=52.84363553977413\n",
      "l_star=5 ; regret_mix=0.7261788588742155 ; last_regret=0.7953801210706568\n",
      "l_star=6 ; regret_mix=7.017270394401667 ; last_regret=8.286133178133705\n",
      "l_star=5 ; regret_mix=12.17503411962838 ; "
     ]
    },
    {
     "name": "stderr",
     "output_type": "stream",
     "text": [
      "\u001B[32m[I 2023-05-07 15:38:35,124]\u001B[0m Trial 9 finished with value: 2.0234956258212518 and parameters: {'beta_f': 0.554663320250998, 'beta_r': 0.8743372997490846, 'lr_f': 0.07508273487635697, 'lr_r': 0.656140974063008, 'stop_frac_r': 8, 'avg_frac_r': 10}. Best is trial 8 with value: 1.1565885159139255.\u001B[0m\n"
     ]
    },
    {
     "name": "stdout",
     "output_type": "stream",
     "text": [
      "last_regret=15.474403970596548\n",
      "l_star=6 ; regret_mix=5.875005558711132 ; last_regret=7.190529309686103\n",
      "l_star=4 ; regret_mix=9.006504537462563 ; last_regret=12.440903579824829\n",
      "l_star=4 ; regret_mix=5.521193674802015 ; last_regret=7.599923239234713\n",
      "l_star=5 ; regret_mix=9.786193824655992 ; last_regret=12.513677167008098\n",
      "l_star=5 ; regret_mix=10.680849860351087 ; last_regret=13.62336532842853\n",
      "l_star=6 ; regret_mix=2.002514029040219 ; last_regret=2.641791181238819\n",
      "l_star=5 ; regret_mix=10.792376849882782 ; last_regret=13.016450363179771\n",
      "l_star=6 ; regret_mix=5.196932038780334 ; last_regret=6.881503873218463\n",
      "l_star=5 ; regret_mix=18.771625148029788 ; last_regret=22.5291566055094\n",
      "l_star=5 ; regret_mix=43.87817939591031 ; "
     ]
    },
    {
     "name": "stderr",
     "output_type": "stream",
     "text": [
      "\u001B[32m[I 2023-05-07 15:42:17,771]\u001B[0m Trial 10 finished with value: 2.459332020254959 and parameters: {'beta_f': 0.9665688468106729, 'beta_r': 0.9708310689204371, 'lr_f': 0.9335693458078846, 'lr_r': 0.03148786539040671, 'stop_frac_r': 1, 'avg_frac_r': 2}. Best is trial 8 with value: 1.1565885159139255.\u001B[0m\n"
     ]
    },
    {
     "name": "stdout",
     "output_type": "stream",
     "text": [
      "last_regret=53.477485428598264\n",
      "l_star=5 ; regret_mix=8.103780266417095 ; last_regret=8.96137873934831\n",
      "l_star=4 ; regret_mix=6.151550776147814 ; last_regret=7.009151980729871\n",
      "l_star=6 ; regret_mix=47.24060892743925 ; last_regret=51.19529053935015\n",
      "l_star=4 ; regret_mix=35.39389698485466 ; last_regret=37.52030898388016\n",
      "l_star=4 ; regret_mix=12.700799759362322 ; last_regret=13.50185699714793\n",
      "l_star=6 ; regret_mix=2.2239411199237926 ; last_regret=2.409423581481612\n",
      "l_star=4 ; regret_mix=30.826864325720873 ; last_regret=32.76323689102566\n",
      "l_star=8 ; regret_mix=6.885716706629321 ; last_regret=8.001369653057145\n",
      "l_star=6 ; regret_mix=6.00981451326895 ; last_regret=7.194535794063558\n",
      "l_star=5 ; regret_mix=1.8938927343027097 ; "
     ]
    },
    {
     "name": "stderr",
     "output_type": "stream",
     "text": [
      "\u001B[32m[I 2023-05-07 15:45:28,989]\u001B[0m Trial 11 finished with value: 0.9388098404211644 and parameters: {'beta_f': 0.7884751852908193, 'beta_r': 0.987538472441199, 'lr_f': 0.9981738194484309, 'lr_r': 0.8347341684325165, 'stop_frac_r': 6, 'avg_frac_r': 6}. Best is trial 11 with value: 0.9388098404211644.\u001B[0m\n"
     ]
    },
    {
     "name": "stdout",
     "output_type": "stream",
     "text": [
      "last_regret=1.9646630257969622\n",
      "l_star=5 ; regret_mix=4.289824012523458 ; last_regret=5.285293996683534\n",
      "l_star=6 ; regret_mix=4.475553443092674 ; last_regret=5.124540085579491\n",
      "l_star=4 ; regret_mix=39.953026161562725 ; last_regret=44.00863653154863\n",
      "l_star=5 ; regret_mix=17.489761878052263 ; last_regret=18.321145212923646\n",
      "l_star=5 ; regret_mix=3.15043686305798 ; last_regret=3.752020445945794\n",
      "l_star=5 ; regret_mix=2.500137258505811 ; last_regret=2.988225147292609\n",
      "l_star=4 ; regret_mix=8.05388858384178 ; last_regret=11.213047864200671\n",
      "l_star=4 ; regret_mix=6.580800973236585 ; last_regret=7.44868422736971\n",
      "l_star=6 ; regret_mix=1.586303354885999 ; last_regret=1.7354952029912902\n",
      "l_star=4 ; regret_mix=11.869203139915614 ; "
     ]
    },
    {
     "name": "stderr",
     "output_type": "stream",
     "text": [
      "\u001B[32m[I 2023-05-07 15:48:46,671]\u001B[0m Trial 12 finished with value: 1.5425286793501327 and parameters: {'beta_f': 0.8051325312841328, 'beta_r': 0.9897028197629298, 'lr_f': 0.9532101306698086, 'lr_r': 0.8310062439347486, 'stop_frac_r': 6, 'avg_frac_r': 6}. Best is trial 11 with value: 0.9388098404211644.\u001B[0m\n"
     ]
    },
    {
     "name": "stdout",
     "output_type": "stream",
     "text": [
      "last_regret=13.894360420005468\n",
      "l_star=6 ; regret_mix=14.400024963146915 ; last_regret=15.80400065280313\n",
      "l_star=5 ; regret_mix=16.026304081481587 ; last_regret=19.236932549002734\n",
      "l_star=6 ; regret_mix=8.18132335960104 ; last_regret=9.434351095309037\n",
      "l_star=6 ; regret_mix=4.615904442077824 ; last_regret=5.346061792947933\n",
      "l_star=5 ; regret_mix=16.345800189444457 ; last_regret=18.14518039076441\n",
      "l_star=6 ; regret_mix=4.437544144784842 ; last_regret=5.157870764634336\n",
      "l_star=4 ; regret_mix=8.380146947098215 ; last_regret=9.311405251070504\n",
      "l_star=4 ; regret_mix=21.259608808061717 ; last_regret=23.943127607750956\n",
      "l_star=4 ; regret_mix=7.159029284617644 ; last_regret=8.41124662092952\n",
      "l_star=4 ; regret_mix=64.13719990514733 ; "
     ]
    },
    {
     "name": "stderr",
     "output_type": "stream",
     "text": [
      "\u001B[32m[I 2023-05-07 15:51:59,837]\u001B[0m Trial 13 finished with value: 1.5139754396347467 and parameters: {'beta_f': 0.8310947352372043, 'beta_r': 0.9296000171334464, 'lr_f': 0.8160044570797225, 'lr_r': 0.7570339216350292, 'stop_frac_r': 6, 'avg_frac_r': 6}. Best is trial 11 with value: 0.9388098404211644.\u001B[0m\n"
     ]
    },
    {
     "name": "stdout",
     "output_type": "stream",
     "text": [
      "last_regret=87.33151391819379\n",
      "l_star=5 ; regret_mix=16.61303001193442 ; last_regret=19.507809472807104\n",
      "l_star=5 ; regret_mix=5.007537904611438 ; last_regret=5.136996409067921\n",
      "l_star=5 ; regret_mix=13.714676477715114 ; last_regret=15.689395972526967\n",
      "l_star=7 ; regret_mix=1.6991447504525663 ; last_regret=1.9382042045092043\n",
      "l_star=5 ; regret_mix=10.289702425531967 ; last_regret=13.11586599268109\n",
      "l_star=5 ; regret_mix=9.79930719755294 ; last_regret=12.434682066886847\n",
      "l_star=4 ; regret_mix=5.403012022334444 ; last_regret=5.720698772101249\n",
      "l_star=4 ; regret_mix=8.521402872222028 ; last_regret=10.63536344965774\n",
      "l_star=5 ; regret_mix=3.7162661918311763 ; last_regret=4.503009858033778\n",
      "l_star=5 ; regret_mix=58.531397898915664 ; "
     ]
    },
    {
     "name": "stderr",
     "output_type": "stream",
     "text": [
      "\u001B[32m[I 2023-05-07 15:55:11,626]\u001B[0m Trial 14 finished with value: 1.8755821253813263 and parameters: {'beta_f': 0.6513953826654969, 'beta_r': 0.8116240423723131, 'lr_f': 0.5182258123864711, 'lr_r': 0.9438519087404934, 'stop_frac_r': 5, 'avg_frac_r': 5}. Best is trial 11 with value: 0.9388098404211644.\u001B[0m\n"
     ]
    },
    {
     "name": "stdout",
     "output_type": "stream",
     "text": [
      "last_regret=93.804882892769\n",
      "l_star=7 ; regret_mix=2.0324503011063784 ; last_regret=2.117768799988897\n",
      "l_star=5 ; regret_mix=5.730884160391346 ; last_regret=6.660185668623311\n",
      "l_star=5 ; regret_mix=10.937791854941267 ; last_regret=11.220365154845977\n",
      "l_star=5 ; regret_mix=8.725390581372924 ; last_regret=9.614950232735854\n",
      "l_star=5 ; regret_mix=5.946252108356755 ; last_regret=6.987951664846207\n",
      "l_star=7 ; regret_mix=11.452407430767453 ; last_regret=12.75961325119708\n",
      "l_star=4 ; regret_mix=6.499994568662103 ; last_regret=7.733927290706536\n",
      "l_star=5 ; regret_mix=15.276377004569369 ; last_regret=18.353005372827102\n",
      "l_star=6 ; regret_mix=24.888682803010852 ; last_regret=29.542173620600074\n",
      "l_star=5 ; regret_mix=9.593381061163198 ; "
     ]
    },
    {
     "name": "stderr",
     "output_type": "stream",
     "text": [
      "\u001B[32m[I 2023-05-07 15:58:21,945]\u001B[0m Trial 15 finished with value: 1.241744938865281 and parameters: {'beta_f': 0.8797515872397509, 'beta_r': 0.9273151718849155, 'lr_f': 0.9821422080625138, 'lr_r': 0.7326565194972361, 'stop_frac_r': 7, 'avg_frac_r': 9}. Best is trial 11 with value: 0.9388098404211644.\u001B[0m\n"
     ]
    },
    {
     "name": "stdout",
     "output_type": "stream",
     "text": [
      "last_regret=10.920187862120388\n",
      "l_star=4 ; regret_mix=1.2081169096764242 ; last_regret=1.264609363858174\n",
      "l_star=5 ; regret_mix=5.092285835606797 ; last_regret=5.776815891096989\n",
      "l_star=6 ; regret_mix=6.677987543283123 ; last_regret=7.852893214295401\n",
      "l_star=5 ; regret_mix=15.428488873631425 ; last_regret=17.752305379172913\n",
      "l_star=5 ; regret_mix=5.305794199075963 ; last_regret=5.7765069225453844\n",
      "l_star=5 ; regret_mix=3.8283724954000244 ; last_regret=4.433659812523235\n",
      "l_star=5 ; regret_mix=4.441152667052914 ; last_regret=4.902426672886797\n",
      "l_star=7 ; regret_mix=3.699271347824926 ; last_regret=4.233222334405855\n",
      "l_star=4 ; regret_mix=4.080480358165301 ; last_regret=4.611554015003312\n",
      "l_star=6 ; regret_mix=3.0375777864713247 ; "
     ]
    },
    {
     "name": "stderr",
     "output_type": "stream",
     "text": [
      "\u001B[32m[I 2023-05-07 16:01:31,676]\u001B[0m Trial 16 finished with value: 1.2222664063805655 and parameters: {'beta_f': 0.7644152405974491, 'beta_r': 0.9148384817183718, 'lr_f': 0.8005393650939109, 'lr_r': 0.7790412218914242, 'stop_frac_r': 4, 'avg_frac_r': 4}. Best is trial 11 with value: 0.9388098404211644.\u001B[0m\n"
     ]
    },
    {
     "name": "stdout",
     "output_type": "stream",
     "text": [
      "last_regret=3.565684759036503\n",
      "l_star=5 ; regret_mix=15.232073376178281 ; last_regret=16.152663414012913\n",
      "l_star=8 ; regret_mix=3.5057631959260247 ; last_regret=3.6982908227894984\n",
      "l_star=5 ; regret_mix=38.41961441841033 ; last_regret=39.36340563645448\n",
      "l_star=5 ; regret_mix=3.412184379938543 ; last_regret=3.723359325158951\n",
      "l_star=6 ; regret_mix=5.652840826393509 ; last_regret=5.96183733585529\n",
      "l_star=5 ; regret_mix=18.765698879170973 ; last_regret=19.704857248427416\n",
      "l_star=4 ; regret_mix=20.63567400608771 ; last_regret=21.130406191523758\n",
      "l_star=6 ; regret_mix=4.278724493674988 ; last_regret=4.5466597453981\n",
      "l_star=5 ; regret_mix=6.149330650027463 ; last_regret=6.807130314117524\n",
      "l_star=6 ; regret_mix=17.678729794153952 ; "
     ]
    },
    {
     "name": "stderr",
     "output_type": "stream",
     "text": [
      "\u001B[32m[I 2023-05-07 16:04:52,750]\u001B[0m Trial 17 finished with value: 0.5899661067062778 and parameters: {'beta_f': 0.6465386620295749, 'beta_r': 0.9885195042859258, 'lr_f': 0.37557865189159045, 'lr_r': 0.6803219629913104, 'stop_frac_r': 2, 'avg_frac_r': 2}. Best is trial 17 with value: 0.5899661067062778.\u001B[0m\n"
     ]
    },
    {
     "name": "stdout",
     "output_type": "stream",
     "text": [
      "last_regret=19.11608283801617\n",
      "l_star=4 ; regret_mix=33.85933680179089 ; last_regret=36.12160550908895\n",
      "l_star=4 ; regret_mix=17.19161472543783 ; last_regret=18.384957477179785\n",
      "l_star=5 ; regret_mix=30.842497639595276 ; last_regret=37.22163091078526\n",
      "l_star=5 ; regret_mix=5.257457152992772 ; last_regret=6.168455816519231\n",
      "l_star=4 ; regret_mix=7.122463425899504 ; last_regret=8.619214451722144\n",
      "l_star=5 ; regret_mix=6.107903909284004 ; last_regret=6.943663653216614\n",
      "l_star=4 ; regret_mix=6.549609024556614 ; last_regret=7.4992829983652936\n",
      "l_star=5 ; regret_mix=3.2452764718011804 ; last_regret=3.6549859068960107\n",
      "l_star=6 ; regret_mix=24.2636503898158 ; last_regret=26.925167204951226\n",
      "l_star=5 ; regret_mix=4.810608849493969 ; "
     ]
    },
    {
     "name": "stderr",
     "output_type": "stream",
     "text": [
      "\u001B[32m[I 2023-05-07 16:08:13,914]\u001B[0m Trial 18 finished with value: 1.2269316534648882 and parameters: {'beta_f': 0.5109516090250863, 'beta_r': 0.5161141335331044, 'lr_f': 0.3627130694838767, 'lr_r': 0.6765300473012589, 'stop_frac_r': 1, 'avg_frac_r': 2}. Best is trial 17 with value: 0.5899661067062778.\u001B[0m\n"
     ]
    },
    {
     "name": "stdout",
     "output_type": "stream",
     "text": [
      "last_regret=5.159337997462417\n",
      "l_star=5 ; regret_mix=3.75186184890431 ; last_regret=4.2770130222506255\n",
      "l_star=4 ; regret_mix=16.188833926800164 ; last_regret=19.69390854192144\n",
      "l_star=6 ; regret_mix=12.874167235006135 ; last_regret=16.29146993477025\n",
      "l_star=5 ; regret_mix=12.586191813678994 ; last_regret=15.667318282193307\n",
      "l_star=6 ; regret_mix=3.8898373917117612 ; last_regret=4.501181545763562\n",
      "l_star=5 ; regret_mix=4.320599758972074 ; last_regret=4.71779903788478\n",
      "l_star=8 ; regret_mix=13.287111608781387 ; last_regret=16.127342530977188\n",
      "l_star=5 ; regret_mix=7.651486798239158 ; last_regret=8.627781912983577\n",
      "l_star=7 ; regret_mix=3.6049530297715395 ; last_regret=4.036244976774596\n",
      "l_star=4 ; regret_mix=16.197603999486933 ; "
     ]
    },
    {
     "name": "stderr",
     "output_type": "stream",
     "text": [
      "\u001B[32m[I 2023-05-07 16:11:37,045]\u001B[0m Trial 19 finished with value: 1.6305507294620565 and parameters: {'beta_f': 0.6183324371247726, 'beta_r': 0.8160657576585504, 'lr_f': 0.19590723299871865, 'lr_r': 0.9615368065090384, 'stop_frac_r': 7, 'avg_frac_r': 9}. Best is trial 17 with value: 0.5899661067062778.\u001B[0m\n"
     ]
    },
    {
     "name": "stdout",
     "output_type": "stream",
     "text": [
      "last_regret=19.55620090897692\n",
      "l_star=4 ; regret_mix=9.740238711652264 ; last_regret=11.155828675826399\n",
      "l_star=5 ; regret_mix=1.2834387253267092 ; last_regret=1.5605733150102166\n",
      "l_star=5 ; regret_mix=9.45420060461164 ; last_regret=10.997317891872322\n",
      "l_star=5 ; regret_mix=5.908231247460184 ; last_regret=6.485972115357466\n",
      "l_star=5 ; regret_mix=3.695442127965091 ; last_regret=4.554879356590037\n",
      "l_star=4 ; regret_mix=3.1885531087211763 ; last_regret=3.4439510501158623\n",
      "l_star=5 ; regret_mix=2.9844726855084307 ; last_regret=3.4604372133211587\n",
      "l_star=5 ; regret_mix=6.1466824423605075 ; last_regret=7.073348928146453\n",
      "l_star=4 ; regret_mix=15.756637933268406 ; last_regret=17.035875317383272\n",
      "l_star=7 ; regret_mix=10.306570755142516 ; "
     ]
    },
    {
     "name": "stderr",
     "output_type": "stream",
     "text": [
      "\u001B[32m[I 2023-05-07 16:14:58,668]\u001B[0m Trial 20 finished with value: 1.353875296189598 and parameters: {'beta_f': 0.6594249072089334, 'beta_r': 0.8825184519212473, 'lr_f': 0.42696777310811546, 'lr_r': 0.8512607171909017, 'stop_frac_r': 4, 'avg_frac_r': 5}. Best is trial 17 with value: 0.5899661067062778.\u001B[0m\n"
     ]
    },
    {
     "name": "stdout",
     "output_type": "stream",
     "text": [
      "last_regret=11.685614965987895\n",
      "l_star=6 ; regret_mix=6.943671620560142 ; last_regret=7.880882043281743\n",
      "l_star=5 ; regret_mix=61.45732284672657 ; last_regret=67.09102634087782\n",
      "l_star=5 ; regret_mix=14.20422780196612 ; last_regret=15.542778630962495\n",
      "l_star=5 ; regret_mix=2.800697710192711 ; last_regret=3.1642442189765685\n",
      "l_star=5 ; regret_mix=5.304953963846859 ; last_regret=6.113743781664967\n",
      "l_star=4 ; regret_mix=8.789608166682722 ; last_regret=9.665515428384175\n",
      "l_star=6 ; regret_mix=5.169075287546399 ; last_regret=6.679312140954113\n",
      "l_star=5 ; regret_mix=6.393450128751606 ; last_regret=7.144976214094686\n",
      "l_star=5 ; regret_mix=75.59370307074332 ; last_regret=93.38355708714658\n",
      "l_star=4 ; regret_mix=6.063822473596879 ; "
     ]
    },
    {
     "name": "stderr",
     "output_type": "stream",
     "text": [
      "\u001B[32m[I 2023-05-07 16:18:18,924]\u001B[0m Trial 21 finished with value: 1.3536361942868196 and parameters: {'beta_f': 0.7322365927834795, 'beta_r': 0.966695294734811, 'lr_f': 0.5606656891015174, 'lr_r': 0.666761969091852, 'stop_frac_r': 2, 'avg_frac_r': 3}. Best is trial 17 with value: 0.5899661067062778.\u001B[0m\n"
     ]
    },
    {
     "name": "stdout",
     "output_type": "stream",
     "text": [
      "last_regret=6.779250276906659\n",
      "l_star=7 ; regret_mix=2.889829595918965 ; last_regret=3.3367690685736933\n",
      "l_star=5 ; regret_mix=5.9643950370804095 ; last_regret=6.543135345816933\n",
      "l_star=4 ; regret_mix=32.588721854218534 ; last_regret=36.681039447438955\n",
      "l_star=4 ; regret_mix=18.230086703789357 ; last_regret=19.76811572785903\n",
      "l_star=5 ; regret_mix=3.398705942823828 ; last_regret=3.8816914112927665\n",
      "l_star=4 ; regret_mix=6.080538162923595 ; last_regret=6.5073049689614955\n",
      "l_star=5 ; regret_mix=16.91680337411621 ; last_regret=18.548331208318146\n",
      "l_star=4 ; regret_mix=6.916628329143793 ; last_regret=7.928446767991721\n",
      "l_star=5 ; regret_mix=8.12789087862787 ; last_regret=9.123534069594278\n",
      "l_star=6 ; regret_mix=2.346183132208905 ; "
     ]
    },
    {
     "name": "stderr",
     "output_type": "stream",
     "text": [
      "\u001B[32m[I 2023-05-07 16:21:43,504]\u001B[0m Trial 22 finished with value: 1.1115194224160128 and parameters: {'beta_f': 0.8351375168974143, 'beta_r': 0.9369371697401023, 'lr_f': 0.28468248583348954, 'lr_r': 0.4647648933765408, 'stop_frac_r': 2, 'avg_frac_r': 3}. Best is trial 17 with value: 0.5899661067062778.\u001B[0m\n"
     ]
    },
    {
     "name": "stdout",
     "output_type": "stream",
     "text": [
      "last_regret=2.674437077478754\n",
      "l_star=4 ; regret_mix=16.92346226211156 ; last_regret=17.883652871557718\n",
      "l_star=4 ; regret_mix=3.260715562346059 ; last_regret=3.5783547337387915\n",
      "l_star=5 ; regret_mix=14.95885195986788 ; last_regret=16.643310805921658\n",
      "l_star=4 ; regret_mix=5.0714997071444206 ; last_regret=5.496745441233763\n",
      "l_star=5 ; regret_mix=17.09148815344663 ; last_regret=18.664292424019095\n",
      "l_star=4 ; regret_mix=22.838607608795936 ; last_regret=24.231331443668473\n",
      "l_star=5 ; regret_mix=8.701765484010773 ; last_regret=9.95528865173225\n",
      "l_star=4 ; regret_mix=9.221507393839333 ; last_regret=12.230063999105848\n",
      "l_star=5 ; regret_mix=5.240175845831799 ; last_regret=6.170470905729783\n",
      "l_star=5 ; regret_mix=1.757594529941816 ; "
     ]
    },
    {
     "name": "stderr",
     "output_type": "stream",
     "text": [
      "\u001B[32m[I 2023-05-07 16:25:04,485]\u001B[0m Trial 23 finished with value: 1.2214549157806556 and parameters: {'beta_f': 0.8472368618361787, 'beta_r': 0.9345957002326228, 'lr_f': 0.26030968171160074, 'lr_r': 0.4694955806682118, 'stop_frac_r': 2, 'avg_frac_r': 3}. Best is trial 17 with value: 0.5899661067062778.\u001B[0m\n"
     ]
    },
    {
     "name": "stdout",
     "output_type": "stream",
     "text": [
      "last_regret=2.0594753842054656\n",
      "l_star=4 ; regret_mix=18.776719040841407 ; last_regret=25.117189826148888\n",
      "l_star=6 ; regret_mix=4.246278333011312 ; last_regret=5.184032586854901\n",
      "l_star=6 ; regret_mix=12.520843530063637 ; last_regret=16.409281929554016\n",
      "l_star=5 ; regret_mix=12.735751607481848 ; last_regret=14.486994419136309\n",
      "l_star=4 ; regret_mix=29.916641643943084 ; last_regret=32.70658340274255\n",
      "l_star=4 ; regret_mix=6.8095185798374755 ; last_regret=8.29868807118704\n",
      "l_star=4 ; regret_mix=9.80281544983737 ; last_regret=11.56401756027583\n",
      "l_star=6 ; regret_mix=2.9590644569340476 ; last_regret=3.7097872022006397\n",
      "l_star=7 ; regret_mix=1.5257058261879322 ; last_regret=1.767388808573105\n",
      "l_star=5 ; regret_mix=5.409899239718007 ; "
     ]
    },
    {
     "name": "stderr",
     "output_type": "stream",
     "text": [
      "\u001B[32m[I 2023-05-07 16:28:38,298]\u001B[0m Trial 24 finished with value: 1.8963278823045802 and parameters: {'beta_f': 0.9707129216365153, 'beta_r': 0.8954196213674324, 'lr_f': 0.3219755669262425, 'lr_r': 0.34484433794947494, 'stop_frac_r': 1, 'avg_frac_r': 1}. Best is trial 17 with value: 0.5899661067062778.\u001B[0m\n"
     ]
    },
    {
     "name": "stdout",
     "output_type": "stream",
     "text": [
      "last_regret=6.484917401081939\n",
      "l_star=8 ; regret_mix=2.004099320889416 ; last_regret=2.5369507172447525\n",
      "l_star=5 ; regret_mix=5.71967991403852 ; last_regret=6.917785405042279\n",
      "l_star=5 ; regret_mix=8.840887384310989 ; last_regret=10.510697706700917\n",
      "l_star=5 ; regret_mix=5.434303328695257 ; last_regret=5.98274134658818\n",
      "l_star=5 ; regret_mix=25.735713404037842 ; last_regret=30.424909601138104\n",
      "l_star=5 ; regret_mix=4.4817670523956625 ; last_regret=5.169453780810091\n",
      "l_star=4 ; regret_mix=11.93016225454343 ; last_regret=12.590890149244034\n",
      "l_star=4 ; regret_mix=6.395581598498374 ; last_regret=7.848051821963164\n",
      "l_star=6 ; regret_mix=13.059649977380985 ; last_regret=15.632384629400065\n",
      "l_star=5 ; regret_mix=9.867447065901919 ; "
     ]
    },
    {
     "name": "stderr",
     "output_type": "stream",
     "text": [
      "\u001B[32m[I 2023-05-07 16:32:01,799]\u001B[0m Trial 25 finished with value: 1.5951683991349606 and parameters: {'beta_f': 0.9337690885608706, 'beta_r': 0.785449282380765, 'lr_f': 0.15607769067396407, 'lr_r': 0.17996403736631778, 'stop_frac_r': 5, 'avg_frac_r': 6}. Best is trial 17 with value: 0.5899661067062778.\u001B[0m\n"
     ]
    },
    {
     "name": "stdout",
     "output_type": "stream",
     "text": [
      "last_regret=11.482154612077734\n",
      "l_star=4 ; regret_mix=10.669377759508068 ; last_regret=11.34951619605052\n",
      "l_star=4 ; regret_mix=5.5888734957123924 ; last_regret=6.208509900866124\n",
      "l_star=6 ; regret_mix=3.1139030715375275 ; last_regret=3.656425268352116\n",
      "l_star=4 ; regret_mix=10.366363575907114 ; last_regret=11.84066977705693\n",
      "l_star=4 ; regret_mix=4.560614956693188 ; last_regret=5.469887736576531\n",
      "l_star=5 ; regret_mix=10.352808579574598 ; last_regret=11.855919616558452\n",
      "l_star=6 ; regret_mix=5.221679152807962 ; last_regret=6.542543984522556\n",
      "l_star=6 ; regret_mix=4.283431115102608 ; last_regret=5.131386008847862\n",
      "l_star=4 ; regret_mix=11.079450144135423 ; last_regret=11.78997227201674\n",
      "l_star=4 ; regret_mix=4.465826842937236 ; "
     ]
    },
    {
     "name": "stderr",
     "output_type": "stream",
     "text": [
      "\u001B[32m[I 2023-05-07 16:35:21,808]\u001B[0m Trial 26 finished with value: 1.3332386949341053 and parameters: {'beta_f': 0.8157186039284166, 'beta_r': 0.957535274446544, 'lr_f': 0.4589517046643467, 'lr_r': 0.9986037785763345, 'stop_frac_r': 3, 'avg_frac_r': 4}. Best is trial 17 with value: 0.5899661067062778.\u001B[0m\n"
     ]
    },
    {
     "name": "stdout",
     "output_type": "stream",
     "text": [
      "last_regret=4.872044850664251\n",
      "l_star=5 ; regret_mix=4.48448040332096 ; last_regret=5.0846856170115196\n",
      "l_star=4 ; regret_mix=13.170366788719733 ; last_regret=17.369494309704745\n",
      "l_star=6 ; regret_mix=1.5865410546175729 ; last_regret=1.8199644564775688\n",
      "l_star=5 ; regret_mix=14.544914137725033 ; last_regret=17.541135393060884\n",
      "l_star=5 ; regret_mix=10.988057321526282 ; last_regret=14.34424780081627\n",
      "l_star=5 ; regret_mix=4.013372118434715 ; last_regret=4.690344533798\n",
      "l_star=4 ; regret_mix=6.881023559769944 ; last_regret=8.321440797353446\n",
      "l_star=6 ; regret_mix=8.075417865347626 ; last_regret=8.768901352327697\n",
      "l_star=4 ; regret_mix=4.620149844261784 ; last_regret=5.304067481169112\n",
      "l_star=7 ; regret_mix=3.762329660944795 ; "
     ]
    },
    {
     "name": "stderr",
     "output_type": "stream",
     "text": [
      "\u001B[32m[I 2023-05-07 16:38:41,097]\u001B[0m Trial 27 finished with value: 1.699123810619858 and parameters: {'beta_f': 0.6720374517370362, 'beta_r': 0.850894690361753, 'lr_f': 0.007996862342705913, 'lr_r': 0.7862727920367016, 'stop_frac_r': 7, 'avg_frac_r': 9}. Best is trial 17 with value: 0.5899661067062778.\u001B[0m\n"
     ]
    },
    {
     "name": "stdout",
     "output_type": "stream",
     "text": [
      "last_regret=4.324607619786607\n",
      "l_star=6 ; regret_mix=4.340737982471636 ; last_regret=5.295178173080266\n",
      "l_star=4 ; regret_mix=25.24100764529934 ; last_regret=26.497954108755362\n",
      "l_star=4 ; regret_mix=6.436241950954849 ; last_regret=7.083725803068293\n",
      "l_star=5 ; regret_mix=10.246166487026152 ; last_regret=11.334021643682506\n",
      "l_star=4 ; regret_mix=13.146031513786804 ; last_regret=13.787791891615761\n",
      "l_star=5 ; regret_mix=0.945125066841566 ; last_regret=1.012184288050831\n",
      "l_star=4 ; regret_mix=4.923642463270845 ; last_regret=5.865621127454546\n",
      "l_star=4 ; regret_mix=20.96475089216359 ; last_regret=24.261239780764654\n",
      "l_star=5 ; regret_mix=5.254625830699086 ; last_regret=6.078181258549555\n",
      "l_star=4 ; regret_mix=28.04138187897656 ; "
     ]
    },
    {
     "name": "stderr",
     "output_type": "stream",
     "text": [
      "\u001B[32m[I 2023-05-07 16:42:05,000]\u001B[0m Trial 28 finished with value: 1.2019986542077727 and parameters: {'beta_f': 0.7888957134540646, 'beta_r': 0.946681948856025, 'lr_f': 0.31822696278935564, 'lr_r': 0.8922016873741978, 'stop_frac_r': 2, 'avg_frac_r': 4}. Best is trial 17 with value: 0.5899661067062778.\u001B[0m\n"
     ]
    },
    {
     "name": "stdout",
     "output_type": "stream",
     "text": [
      "last_regret=33.40358884013745\n",
      "l_star=7 ; regret_mix=2.6703929038730214 ; last_regret=2.9952580578399908\n",
      "l_star=4 ; regret_mix=11.893614115979933 ; last_regret=14.713344640718692\n",
      "l_star=6 ; regret_mix=1.5854616383675197 ; last_regret=2.0814604028417927\n",
      "l_star=4 ; regret_mix=7.9011297681961885 ; last_regret=8.845669189251257\n",
      "l_star=4 ; regret_mix=8.374299625142838 ; last_regret=8.899588649600293\n",
      "l_star=5 ; regret_mix=12.479862838769952 ; last_regret=14.97478842234807\n",
      "l_star=5 ; regret_mix=6.844805670942268 ; last_regret=7.589222534334942\n",
      "l_star=4 ; regret_mix=6.301595006408733 ; last_regret=6.556300183058101\n",
      "l_star=6 ; regret_mix=9.190523716102371 ; last_regret=10.53450574319322\n",
      "l_star=6 ; regret_mix=4.380650645366227 ; "
     ]
    },
    {
     "name": "stderr",
     "output_type": "stream",
     "text": [
      "\u001B[32m[I 2023-05-07 16:45:21,069]\u001B[0m Trial 29 finished with value: 1.3904354732599857 and parameters: {'beta_f': 0.8505453616740335, 'beta_r': 0.904949286745736, 'lr_f': 0.4836481878754164, 'lr_r': 0.44212480679257093, 'stop_frac_r': 4, 'avg_frac_r': 5}. Best is trial 17 with value: 0.5899661067062778.\u001B[0m\n"
     ]
    },
    {
     "name": "stdout",
     "output_type": "stream",
     "text": [
      "last_regret=5.116768686717939\n",
      "l_star=6 ; regret_mix=42.734368797130315 ; last_regret=57.86853828287973\n",
      "l_star=6 ; regret_mix=4.556868803140664 ; last_regret=5.134315477321172\n",
      "l_star=6 ; regret_mix=86.80863676212812 ; last_regret=111.53724817491508\n",
      "l_star=6 ; regret_mix=4.953484882214222 ; last_regret=5.659505720941602\n",
      "l_star=5 ; regret_mix=9.2032116787065 ; last_regret=11.576236404753704\n",
      "l_star=4 ; regret_mix=1.8493327164859623 ; last_regret=2.08118579147958\n",
      "l_star=4 ; regret_mix=3.123692776434311 ; last_regret=3.466244696504077\n",
      "l_star=5 ; regret_mix=30.686794583303765 ; last_regret=43.92097229070699\n",
      "l_star=6 ; regret_mix=33.789224245688004 ; last_regret=44.99686318604542\n",
      "l_star=5 ; regret_mix=5.139798407788404 ; "
     ]
    },
    {
     "name": "stderr",
     "output_type": "stream",
     "text": [
      "\u001B[32m[I 2023-05-07 16:48:34,320]\u001B[0m Trial 30 finished with value: 1.979288976952282 and parameters: {'beta_f': 0.7573700115758077, 'beta_r': 0.8508314069997863, 'lr_f': 0.1866173187109979, 'lr_r': 0.5008853143096016, 'stop_frac_r': 6, 'avg_frac_r': 7}. Best is trial 17 with value: 0.5899661067062778.\u001B[0m\n"
     ]
    },
    {
     "name": "stdout",
     "output_type": "stream",
     "text": [
      "last_regret=5.5474749949815045\n",
      "l_star=6 ; regret_mix=4.172286535961766 ; last_regret=4.655465931868333\n",
      "l_star=4 ; regret_mix=5.787597512880266 ; last_regret=7.193389504503574\n",
      "l_star=5 ; regret_mix=12.995547100911518 ; last_regret=14.905775647247756\n",
      "l_star=5 ; regret_mix=13.160417951824787 ; last_regret=13.993825661576649\n",
      "l_star=5 ; regret_mix=2.981695706596292 ; last_regret=3.3645996903513566\n",
      "l_star=6 ; regret_mix=19.99369302660585 ; last_regret=21.088449288969837\n",
      "l_star=6 ; regret_mix=3.5551942032106134 ; last_regret=4.447521095576574\n",
      "l_star=4 ; regret_mix=14.144589608397537 ; last_regret=14.957182870830323\n",
      "l_star=5 ; regret_mix=18.441015524396054 ; last_regret=20.446009716762394\n",
      "l_star=4 ; regret_mix=18.50084346074043 ; "
     ]
    },
    {
     "name": "stderr",
     "output_type": "stream",
     "text": [
      "\u001B[32m[I 2023-05-07 16:51:46,375]\u001B[0m Trial 31 finished with value: 1.1223418870801696 and parameters: {'beta_f': 0.715553223638072, 'beta_r': 0.9825650484081889, 'lr_f': 0.6117923145991389, 'lr_r': 0.6015676659047046, 'stop_frac_r': 3, 'avg_frac_r': 3}. Best is trial 17 with value: 0.5899661067062778.\u001B[0m\n"
     ]
    },
    {
     "name": "stdout",
     "output_type": "stream",
     "text": [
      "last_regret=19.248982139197025\n",
      "l_star=4 ; regret_mix=16.570852632096592 ; last_regret=17.15403097098237\n",
      "l_star=4 ; regret_mix=37.37324961435828 ; last_regret=38.57489726786715\n",
      "l_star=5 ; regret_mix=3.4698802939588838 ; last_regret=3.761032458773963\n",
      "l_star=6 ; regret_mix=1.8415674615861828 ; last_regret=1.98595317153102\n",
      "l_star=4 ; regret_mix=10.785645717828096 ; last_regret=11.30580427489919\n",
      "l_star=4 ; regret_mix=39.65880917952045 ; last_regret=40.16570087064354\n",
      "l_star=5 ; regret_mix=6.189816239226138 ; last_regret=6.461962111911678\n",
      "l_star=4 ; regret_mix=4.373112642559199 ; last_regret=4.675854337259724\n",
      "l_star=5 ; regret_mix=5.204686785865636 ; last_regret=5.530201350446653\n",
      "l_star=5 ; regret_mix=51.917042524866176 ; "
     ]
    },
    {
     "name": "stderr",
     "output_type": "stream",
     "text": [
      "\u001B[32m[I 2023-05-07 17:00:50,318]\u001B[0m Trial 32 finished with value: 0.4671214512550344 and parameters: {'beta_f': 0.704312598188623, 'beta_r': 0.9879514678229261, 'lr_f': 0.6238446658820288, 'lr_r': 0.7142490831476518, 'stop_frac_r': 2, 'avg_frac_r': 2}. Best is trial 32 with value: 0.4671214512550344.\u001B[0m\n"
     ]
    },
    {
     "name": "stdout",
     "output_type": "stream",
     "text": [
      "last_regret=52.67016812533453\n",
      "l_star=4 ; regret_mix=2.1994406611928126 ; last_regret=2.9644224268621544\n",
      "l_star=5 ; regret_mix=25.081534253432885 ; last_regret=27.83231189097639\n",
      "l_star=5 ; regret_mix=9.072706301775613 ; last_regret=10.176340025596303\n",
      "l_star=5 ; regret_mix=5.968612880531896 ; last_regret=6.333174441515027\n",
      "l_star=5 ; regret_mix=6.225972956240686 ; last_regret=7.04125859778999\n",
      "l_star=5 ; regret_mix=9.866530131868004 ; last_regret=11.269504696497624\n",
      "l_star=8 ; regret_mix=6.632618625203672 ; last_regret=7.655060224294654\n",
      "l_star=6 ; regret_mix=8.978930435450883 ; last_regret=10.135899996974974\n",
      "l_star=6 ; regret_mix=3.6864449528521472 ; last_regret=4.572971454530811\n",
      "l_star=5 ; regret_mix=16.77906314838204 ; "
     ]
    },
    {
     "name": "stderr",
     "output_type": "stream",
     "text": [
      "\u001B[32m[I 2023-05-07 17:05:51,304]\u001B[0m Trial 33 finished with value: 1.4346242826405335 and parameters: {'beta_f': 0.690833947720927, 'beta_r': 0.9484808569003855, 'lr_f': 0.8952942608653724, 'lr_r': 0.7126814984521033, 'stop_frac_r': 1, 'avg_frac_r': 1}. Best is trial 32 with value: 0.4671214512550344.\u001B[0m\n"
     ]
    },
    {
     "name": "stdout",
     "output_type": "stream",
     "text": [
      "last_regret=18.954652114246144\n",
      "l_star=6 ; regret_mix=5.753651113558513 ; last_regret=6.107351365655718\n",
      "l_star=5 ; regret_mix=18.049667708106817 ; last_regret=19.00820565823366\n",
      "l_star=5 ; regret_mix=6.058418751148538 ; last_regret=6.372028921763685\n",
      "l_star=4 ; regret_mix=2.5081797850519547 ; last_regret=2.656962383003835\n",
      "l_star=6 ; regret_mix=12.37646437711414 ; last_regret=13.31688485091071\n",
      "l_star=5 ; regret_mix=10.515475131749007 ; last_regret=10.919895115305119\n",
      "l_star=6 ; regret_mix=2.234963076579681 ; last_regret=2.412402207429834\n",
      "l_star=6 ; regret_mix=2.428801346571469 ; last_regret=2.603196368907769\n",
      "l_star=5 ; regret_mix=20.192354238594177 ; last_regret=21.88488988931794\n",
      "l_star=4 ; regret_mix=7.020915855937999 ; "
     ]
    },
    {
     "name": "stderr",
     "output_type": "stream",
     "text": [
      "\u001B[32m[I 2023-05-07 17:09:09,884]\u001B[0m Trial 34 finished with value: 0.633505065441721 and parameters: {'beta_f': 0.7733971228960035, 'beta_r': 0.9885798212849076, 'lr_f': 0.2961164731463651, 'lr_r': 0.5360438921920273, 'stop_frac_r': 2, 'avg_frac_r': 2}. Best is trial 32 with value: 0.4671214512550344.\u001B[0m\n"
     ]
    },
    {
     "name": "stdout",
     "output_type": "stream",
     "text": [
      "last_regret=7.581370350048282\n",
      "l_star=5 ; regret_mix=10.373158860927136 ; last_regret=11.652070502569948\n",
      "l_star=6 ; regret_mix=6.808933737560608 ; last_regret=7.18583007856871\n",
      "l_star=4 ; regret_mix=9.322540752241496 ; last_regret=9.971303230754414\n",
      "l_star=5 ; regret_mix=20.230393420558816 ; last_regret=20.890918450579477\n",
      "l_star=4 ; regret_mix=5.811403484508348 ; last_regret=6.244020942163011\n",
      "l_star=5 ; regret_mix=32.16456143889341 ; last_regret=32.78822912724816\n",
      "l_star=4 ; regret_mix=20.114023368508043 ; last_regret=21.062207874191166\n",
      "l_star=6 ; regret_mix=3.5202829069884856 ; last_regret=3.865018652578773\n",
      "l_star=5 ; regret_mix=33.885571888617505 ; last_regret=35.05726458060148\n",
      "l_star=5 ; regret_mix=11.771544589773955 ; "
     ]
    },
    {
     "name": "stderr",
     "output_type": "stream",
     "text": [
      "\u001B[32m[I 2023-05-07 17:12:19,291]\u001B[0m Trial 35 finished with value: 0.5786253309779993 and parameters: {'beta_f': 0.6242056251837137, 'beta_r': 0.9868482414422994, 'lr_f': 0.3745204111895239, 'lr_r': 0.5860490439403959, 'stop_frac_r': 2, 'avg_frac_r': 2}. Best is trial 32 with value: 0.4671214512550344.\u001B[0m\n"
     ]
    },
    {
     "name": "stdout",
     "output_type": "stream",
     "text": [
      "last_regret=12.308373454655005\n",
      "l_star=6 ; regret_mix=4.333336131213609 ; last_regret=4.533377643283761\n",
      "l_star=4 ; regret_mix=20.3733905816342 ; last_regret=23.329616267235735\n",
      "l_star=5 ; regret_mix=8.345133247180316 ; last_regret=8.68031382665373\n",
      "l_star=6 ; regret_mix=10.81325467594952 ; last_regret=11.318798992142785\n",
      "l_star=5 ; regret_mix=48.270277317120204 ; last_regret=80.92793944034557\n",
      "l_star=5 ; regret_mix=8.72079905600361 ; last_regret=9.348078608793971\n",
      "l_star=4 ; regret_mix=14.089114432283122 ; last_regret=14.70635564146376\n",
      "l_star=5 ; regret_mix=4.419563384085516 ; last_regret=4.652675329957507\n",
      "l_star=5 ; regret_mix=25.75679142620696 ; last_regret=32.884742871405216\n",
      "l_star=4 ; regret_mix=24.336320817681127 ; "
     ]
    },
    {
     "name": "stderr",
     "output_type": "stream",
     "text": [
      "\u001B[32m[I 2023-05-07 17:15:33,154]\u001B[0m Trial 36 finished with value: 1.2633394534739555 and parameters: {'beta_f': 0.5983421530815244, 'beta_r': 0.6374719454904342, 'lr_f': 0.39351573340628226, 'lr_r': 0.537732826777447, 'stop_frac_r': 2, 'avg_frac_r': 2}. Best is trial 32 with value: 0.4671214512550344.\u001B[0m\n"
     ]
    },
    {
     "name": "stdout",
     "output_type": "stream",
     "text": [
      "last_regret=26.17545263129469\n",
      "l_star=4 ; regret_mix=12.821293245863782 ; last_regret=14.249013047157057\n",
      "l_star=4 ; regret_mix=34.47438365542991 ; last_regret=38.33515717709149\n",
      "l_star=5 ; regret_mix=3.4342672783964576 ; last_regret=3.8392779154663157\n",
      "l_star=6 ; regret_mix=5.23203153510468 ; last_regret=5.989064712864146\n",
      "l_star=6 ; regret_mix=9.560489017782261 ; last_regret=10.425882536912482\n",
      "l_star=7 ; regret_mix=20.192166251637566 ; last_regret=21.68128119259107\n",
      "l_star=5 ; regret_mix=14.364383523119931 ; last_regret=16.250012982060504\n",
      "l_star=5 ; regret_mix=5.194892919957615 ; last_regret=6.6903830632845835\n",
      "l_star=5 ; regret_mix=18.332959210583525 ; last_regret=23.934189287929527\n",
      "l_star=5 ; regret_mix=10.37670807653869 ; "
     ]
    },
    {
     "name": "stderr",
     "output_type": "stream",
     "text": [
      "\u001B[32m[I 2023-05-07 17:18:46,093]\u001B[0m Trial 37 finished with value: 1.4017945089691404 and parameters: {'beta_f': 0.5865638115463971, 'beta_r': 0.9071605190983802, 'lr_f': 0.6298739362883845, 'lr_r': 0.6041793412255051, 'stop_frac_r': 1, 'avg_frac_r': 1}. Best is trial 32 with value: 0.4671214512550344.\u001B[0m\n"
     ]
    },
    {
     "name": "stdout",
     "output_type": "stream",
     "text": [
      "last_regret=11.968271040834166\n",
      "l_star=5 ; regret_mix=10.111848056499408 ; last_regret=11.30530773050439\n",
      "l_star=4 ; regret_mix=14.290531217813967 ; last_regret=15.544696345066992\n",
      "l_star=5 ; regret_mix=10.60204028091035 ; last_regret=12.350806821386298\n",
      "l_star=5 ; regret_mix=3.3284755842834293 ; last_regret=3.693072088804505\n",
      "l_star=5 ; regret_mix=3.6298928489441167 ; last_regret=4.0890351235874185\n",
      "l_star=5 ; regret_mix=19.66575638644942 ; last_regret=25.391388906399662\n",
      "l_star=5 ; regret_mix=2.42184798671926 ; last_regret=2.7505921496410988\n",
      "l_star=5 ; regret_mix=36.926117699077096 ; last_regret=55.64368052245485\n",
      "l_star=5 ; regret_mix=20.19372402125521 ; last_regret=25.170520212635875\n",
      "l_star=4 ; regret_mix=1.9674264647630022 ; "
     ]
    },
    {
     "name": "stderr",
     "output_type": "stream",
     "text": [
      "\u001B[32m[I 2023-05-07 17:21:48,362]\u001B[0m Trial 38 finished with value: 1.6598018730619355 and parameters: {'beta_f': 0.6389201136958976, 'beta_r': 0.7788628807613596, 'lr_f': 0.36090891360398236, 'lr_r': 0.534603740615664, 'stop_frac_r': 3, 'avg_frac_r': 4}. Best is trial 32 with value: 0.4671214512550344.\u001B[0m\n"
     ]
    },
    {
     "name": "stdout",
     "output_type": "stream",
     "text": [
      "last_regret=2.1211293874200656\n",
      "l_star=7 ; regret_mix=1.766853440430487 ; last_regret=2.0710211075707283\n",
      "l_star=6 ; regret_mix=3.1575912727991438 ; last_regret=3.7039335051691533\n",
      "l_star=7 ; regret_mix=70.61500705400265 ; last_regret=91.49988614840294\n",
      "l_star=5 ; regret_mix=7.897811672084177 ; last_regret=8.547106866622068\n",
      "l_star=6 ; regret_mix=3.8880081022673645 ; last_regret=4.199573817550984\n",
      "l_star=6 ; regret_mix=7.440215559744236 ; last_regret=8.820285594635758\n",
      "l_star=4 ; regret_mix=2.2146229011120036 ; last_regret=2.7616188804229447\n",
      "l_star=5 ; regret_mix=22.937008036223624 ; last_regret=27.822443785607952\n",
      "l_star=6 ; regret_mix=2.3441907057401203 ; last_regret=2.622571531940555\n",
      "l_star=6 ; regret_mix=5.666700900835519 ; "
     ]
    },
    {
     "name": "stderr",
     "output_type": "stream",
     "text": [
      "\u001B[32m[I 2023-05-07 17:24:56,598]\u001B[0m Trial 39 finished with value: 1.5598284233645148 and parameters: {'beta_f': 0.6869317340861651, 'beta_r': 0.8674630085382444, 'lr_f': 0.545863458468499, 'lr_r': 0.2802786696324805, 'stop_frac_r': 4, 'avg_frac_r': 4}. Best is trial 32 with value: 0.4671214512550344.\u001B[0m\n"
     ]
    },
    {
     "name": "stdout",
     "output_type": "stream",
     "text": [
      "last_regret=6.453509282488823\n",
      "l_star=5 ; regret_mix=5.120332812827674 ; last_regret=5.84816774969087\n",
      "l_star=5 ; regret_mix=18.41342477037018 ; last_regret=20.7299699465075\n",
      "l_star=4 ; regret_mix=1.217064961633561 ; last_regret=1.4011073799598357\n",
      "l_star=5 ; regret_mix=8.215116286879883 ; last_regret=9.539648531755008\n",
      "l_star=5 ; regret_mix=42.767159408997536 ; last_regret=51.464452035873094\n",
      "l_star=5 ; regret_mix=8.735392601905778 ; last_regret=9.622813188026594\n",
      "l_star=5 ; regret_mix=17.418825873318273 ; last_regret=19.35693374190524\n",
      "l_star=5 ; regret_mix=6.876721180419962 ; last_regret=7.362529480098815\n",
      "l_star=5 ; regret_mix=38.33200766205642 ; last_regret=42.900666650061595\n",
      "l_star=5 ; regret_mix=13.012082966214383 ; "
     ]
    },
    {
     "name": "stderr",
     "output_type": "stream",
     "text": [
      "\u001B[32m[I 2023-05-07 17:27:59,417]\u001B[0m Trial 40 finished with value: 1.1484931451833649 and parameters: {'beta_f': 0.5449167566548325, 'beta_r': 0.9531153812268334, 'lr_f': 0.4429478494433933, 'lr_r': 0.3912850439028218, 'stop_frac_r': 10, 'avg_frac_r': 10}. Best is trial 32 with value: 0.4671214512550344.\u001B[0m\n"
     ]
    },
    {
     "name": "stdout",
     "output_type": "stream",
     "text": [
      "last_regret=13.523423311009614\n",
      "l_star=5 ; regret_mix=5.64913208414454 ; last_regret=6.0308562435114705\n",
      "l_star=4 ; regret_mix=11.977786151179032 ; last_regret=13.112703630079933\n",
      "l_star=6 ; regret_mix=7.214042304928208 ; last_regret=8.89364211635556\n",
      "l_star=6 ; regret_mix=2.340978526133514 ; last_regret=2.585547895725423\n",
      "l_star=6 ; regret_mix=10.585400352136238 ; last_regret=12.66048815162256\n",
      "l_star=4 ; regret_mix=4.686265080689388 ; last_regret=6.009486459084659\n",
      "l_star=5 ; regret_mix=7.209291090257779 ; last_regret=7.829856500864666\n",
      "l_star=7 ; regret_mix=1.5286668777308152 ; last_regret=1.624261409026272\n",
      "l_star=5 ; regret_mix=22.117931845088123 ; last_regret=23.56995659449816\n",
      "l_star=4 ; regret_mix=5.039606171677199 ; "
     ]
    },
    {
     "name": "stderr",
     "output_type": "stream",
     "text": [
      "\u001B[32m[I 2023-05-07 17:31:09,960]\u001B[0m Trial 41 finished with value: 1.2420125518963465 and parameters: {'beta_f': 0.7645038977046669, 'beta_r': 0.9861059206966716, 'lr_f': 0.21963293279669366, 'lr_r': 0.645991226914294, 'stop_frac_r': 3, 'avg_frac_r': 3}. Best is trial 32 with value: 0.4671214512550344.\u001B[0m\n"
     ]
    },
    {
     "name": "stdout",
     "output_type": "stream",
     "text": [
      "last_regret=5.813725008440871\n",
      "l_star=6 ; regret_mix=24.876569271586643 ; last_regret=26.36677192814238\n",
      "l_star=7 ; regret_mix=3.9713932927009155 ; last_regret=4.319960143702376\n",
      "l_star=6 ; regret_mix=6.418687583811878 ; last_regret=6.520906614718115\n",
      "l_star=5 ; regret_mix=12.919520567347794 ; last_regret=13.954371023292834\n",
      "l_star=4 ; regret_mix=13.54541847845896 ; last_regret=14.645106931708414\n",
      "l_star=5 ; regret_mix=2.91105542528569 ; last_regret=3.0679692321444114\n",
      "l_star=4 ; regret_mix=5.118199238590822 ; last_regret=5.223486032734397\n",
      "l_star=5 ; regret_mix=5.5907925467730415 ; last_regret=5.780678960086311\n",
      "l_star=5 ; regret_mix=10.514643871516391 ; last_regret=11.267065506714177\n",
      "l_star=4 ; regret_mix=4.30651000651279 ; "
     ]
    },
    {
     "name": "stderr",
     "output_type": "stream",
     "text": [
      "\u001B[32m[I 2023-05-07 17:34:26,638]\u001B[0m Trial 42 finished with value: 0.516477534469161 and parameters: {'beta_f': 0.6277628606359535, 'beta_r': 0.7115376494315255, 'lr_f': 0.653004881114219, 'lr_r': 0.8184620280580394, 'stop_frac_r': 2, 'avg_frac_r': 2}. Best is trial 32 with value: 0.4671214512550344.\u001B[0m\n"
     ]
    },
    {
     "name": "stdout",
     "output_type": "stream",
     "text": [
      "last_regret=4.428271647196049\n",
      "l_star=7 ; regret_mix=4.843236591966184 ; last_regret=4.999461798378412\n",
      "l_star=6 ; regret_mix=17.126056418580998 ; last_regret=18.048230911251228\n",
      "l_star=5 ; regret_mix=12.651752700405607 ; last_regret=13.74517041634954\n",
      "l_star=4 ; regret_mix=12.704226145493992 ; last_regret=13.782691610447012\n",
      "l_star=4 ; regret_mix=3.19848292794348 ; last_regret=3.3007450721744376\n",
      "l_star=4 ; regret_mix=41.603619482153555 ; last_regret=43.4263916192237\n",
      "l_star=4 ; regret_mix=7.524016464313062 ; last_regret=8.229686384094714\n",
      "l_star=6 ; regret_mix=9.880261964859532 ; last_regret=10.304137816177454\n",
      "l_star=5 ; regret_mix=7.702605608797778 ; last_regret=7.945304760452634\n",
      "l_star=5 ; regret_mix=22.09858450048237 ; "
     ]
    },
    {
     "name": "stderr",
     "output_type": "stream",
     "text": [
      "\u001B[32m[I 2023-05-07 17:37:37,378]\u001B[0m Trial 43 finished with value: 0.5809894541727996 and parameters: {'beta_f': 0.5855807354048379, 'beta_r': 0.7138490858716334, 'lr_f': 0.6490313539545829, 'lr_r': 0.6035479325613275, 'stop_frac_r': 2, 'avg_frac_r': 2}. Best is trial 32 with value: 0.4671214512550344.\u001B[0m\n"
     ]
    },
    {
     "name": "stdout",
     "output_type": "stream",
     "text": [
      "last_regret=24.310542684014724\n",
      "l_star=6 ; regret_mix=8.139259657169214 ; last_regret=9.859615125513756\n",
      "l_star=5 ; regret_mix=16.74781579176777 ; last_regret=18.67563732134667\n",
      "l_star=5 ; regret_mix=8.792102108159987 ; last_regret=9.939044541529576\n",
      "l_star=6 ; regret_mix=9.376777630593535 ; last_regret=10.59664684943131\n",
      "l_star=4 ; regret_mix=23.076884803257403 ; last_regret=25.348780112157883\n",
      "l_star=4 ; regret_mix=12.427588008049117 ; last_regret=13.017471613963309\n",
      "l_star=4 ; regret_mix=6.388400030671584 ; last_regret=7.994050019924337\n",
      "l_star=5 ; regret_mix=15.175210917937676 ; last_regret=16.448716478204194\n",
      "l_star=5 ; regret_mix=14.06040576098977 ; last_regret=16.95334047960283\n",
      "l_star=4 ; regret_mix=15.265865550328694 ; "
     ]
    },
    {
     "name": "stderr",
     "output_type": "stream",
     "text": [
      "\u001B[32m[I 2023-05-07 17:40:57,769]\u001B[0m Trial 44 finished with value: 1.2469343193100337 and parameters: {'beta_f': 0.5777344994650222, 'beta_r': 0.7122010248440352, 'lr_f': 0.6680599504708348, 'lr_r': 0.6853084289535128, 'stop_frac_r': 1, 'avg_frac_r': 2}. Best is trial 32 with value: 0.4671214512550344.\u001B[0m\n"
     ]
    },
    {
     "name": "stdout",
     "output_type": "stream",
     "text": [
      "last_regret=16.358742384260243\n",
      "l_star=5 ; regret_mix=52.72758577389072 ; last_regret=96.39680540250082\n",
      "l_star=5 ; regret_mix=104.51276575271503 ; last_regret=142.90446444696917\n",
      "l_star=4 ; regret_mix=7.582285540266261 ; last_regret=8.019602324373844\n",
      "l_star=6 ; regret_mix=19.996038187096186 ; last_regret=21.920233454909088\n",
      "l_star=5 ; regret_mix=1.7825664986248158 ; last_regret=1.9285114900630347\n",
      "l_star=6 ; regret_mix=28.912833251841946 ; last_regret=32.7140466710235\n",
      "l_star=4 ; regret_mix=21.288952692348623 ; last_regret=23.51352932496506\n",
      "l_star=6 ; regret_mix=11.398991595203386 ; last_regret=12.32563611769815\n",
      "l_star=5 ; regret_mix=12.753921758026278 ; last_regret=14.139409769161546\n",
      "l_star=5 ; regret_mix=12.61619447599079 ; "
     ]
    },
    {
     "name": "stderr",
     "output_type": "stream",
     "text": [
      "\u001B[32m[I 2023-05-07 17:44:16,530]\u001B[0m Trial 45 finished with value: 1.6017859047624556 and parameters: {'beta_f': 0.6170598276345195, 'beta_r': 0.6716243196816593, 'lr_f': 0.731526422219904, 'lr_r': 0.6213837826106754, 'stop_frac_r': 2, 'avg_frac_r': 2}. Best is trial 32 with value: 0.4671214512550344.\u001B[0m\n"
     ]
    },
    {
     "name": "stdout",
     "output_type": "stream",
     "text": [
      "last_regret=13.326188612329249\n",
      "l_star=5 ; regret_mix=1.6907656690091164 ; last_regret=1.8927089010624671\n",
      "l_star=5 ; regret_mix=22.682313635354276 ; last_regret=25.198215946967785\n",
      "l_star=5 ; regret_mix=6.936980832268687 ; last_regret=7.493114220896339\n",
      "l_star=5 ; regret_mix=16.83207689479434 ; last_regret=19.70886355376326\n",
      "l_star=5 ; regret_mix=4.662121037238275 ; last_regret=5.462684422104245\n",
      "l_star=4 ; regret_mix=29.283864798257714 ; last_regret=50.2302896085598\n",
      "l_star=5 ; regret_mix=17.3189506990294 ; last_regret=19.893457889113275\n",
      "l_star=5 ; regret_mix=9.09149391839336 ; last_regret=10.443948813713327\n",
      "l_star=4 ; regret_mix=23.583145845574414 ; last_regret=28.29301424534859\n",
      "l_star=4 ; regret_mix=14.996175153327297 ; "
     ]
    },
    {
     "name": "stderr",
     "output_type": "stream",
     "text": [
      "\u001B[32m[I 2023-05-07 17:47:31,047]\u001B[0m Trial 46 finished with value: 1.8122673298976966 and parameters: {'beta_f': 0.6418643407427902, 'beta_r': 0.7322581104870113, 'lr_f': 0.7686359045573343, 'lr_r': 0.7351407976444037, 'stop_frac_r': 3, 'avg_frac_r': 3}. Best is trial 32 with value: 0.4671214512550344.\u001B[0m\n"
     ]
    },
    {
     "name": "stdout",
     "output_type": "stream",
     "text": [
      "last_regret=18.35202962127251\n",
      "l_star=6 ; regret_mix=8.146241383274704 ; last_regret=8.488046409879875\n",
      "l_star=6 ; regret_mix=31.597178234003923 ; last_regret=43.96726426551637\n",
      "l_star=7 ; regret_mix=18.337930856808626 ; last_regret=20.281887876415865\n",
      "l_star=6 ; regret_mix=2.252535744685163 ; last_regret=2.3633057320582136\n",
      "l_star=5 ; regret_mix=19.59692970152987 ; last_regret=21.41241512866166\n",
      "l_star=5 ; regret_mix=7.780556156055263 ; last_regret=8.420854422671127\n",
      "l_star=5 ; regret_mix=8.43976128108731 ; last_regret=8.647464874494876\n",
      "l_star=4 ; regret_mix=8.513422912353423 ; last_regret=9.1063698243567\n",
      "l_star=4 ; regret_mix=25.192685939730147 ; last_regret=29.39904049738016\n",
      "l_star=4 ; regret_mix=28.26770615393402 ; "
     ]
    },
    {
     "name": "stderr",
     "output_type": "stream",
     "text": [
      "\u001B[32m[I 2023-05-07 17:50:49,418]\u001B[0m Trial 47 finished with value: 1.1994063314908243 and parameters: {'beta_f': 0.5211273896614017, 'beta_r': 0.679543511340164, 'lr_f': 0.6430940106845516, 'lr_r': 0.806876869252644, 'stop_frac_r': 2, 'avg_frac_r': 2}. Best is trial 32 with value: 0.4671214512550344.\u001B[0m\n"
     ]
    },
    {
     "name": "stdout",
     "output_type": "stream",
     "text": [
      "last_regret=36.86096494597317\n",
      "l_star=5 ; regret_mix=5.7960964502335734 ; last_regret=6.939478297011982\n",
      "l_star=5 ; regret_mix=2.601081163867135 ; last_regret=3.005557768190758\n",
      "l_star=5 ; regret_mix=5.350867174071387 ; last_regret=5.786159060641674\n",
      "l_star=4 ; regret_mix=11.6233941480822 ; last_regret=13.91082730872496\n",
      "l_star=5 ; regret_mix=22.053707493880676 ; last_regret=23.652413144383353\n",
      "l_star=6 ; regret_mix=3.07363521013185 ; last_regret=3.432338486681157\n",
      "l_star=5 ; regret_mix=5.857931230303814 ; last_regret=7.139670280280524\n",
      "l_star=5 ; regret_mix=17.09063765180564 ; last_regret=19.49348059182402\n",
      "l_star=4 ; regret_mix=24.814111270987123 ; last_regret=29.360260992285678\n",
      "l_star=4 ; regret_mix=23.17206292967262 ; "
     ]
    },
    {
     "name": "stderr",
     "output_type": "stream",
     "text": [
      "\u001B[32m[I 2023-05-07 17:54:09,165]\u001B[0m Trial 48 finished with value: 1.4114267857345797 and parameters: {'beta_f': 0.6024369230331217, 'beta_r': 0.641920912781155, 'lr_f': 0.5750319642859941, 'lr_r': 0.5725221480129802, 'stop_frac_r': 1, 'avg_frac_r': 1}. Best is trial 32 with value: 0.4671214512550344.\u001B[0m\n"
     ]
    },
    {
     "name": "stdout",
     "output_type": "stream",
     "text": [
      "last_regret=26.948410083556183\n",
      "l_star=5 ; regret_mix=3.795310188877418 ; last_regret=3.9704781457354708\n",
      "l_star=5 ; regret_mix=11.938690627763815 ; last_regret=14.330916762022072\n",
      "l_star=4 ; regret_mix=8.944513018398741 ; last_regret=10.460264335478746\n",
      "l_star=4 ; regret_mix=14.631866767231651 ; last_regret=16.347493798656153\n",
      "l_star=5 ; regret_mix=3.169693842009905 ; last_regret=3.5484342363749777\n",
      "l_star=6 ; regret_mix=1.3305756683243963 ; last_regret=1.4455467361512973\n",
      "l_star=4 ; regret_mix=2.725306463160981 ; last_regret=2.850865851058774\n",
      "l_star=4 ; regret_mix=13.295519425079943 ; last_regret=15.862798936624747\n",
      "l_star=6 ; regret_mix=11.628628994411462 ; last_regret=13.012188225518345\n",
      "l_star=4 ; regret_mix=2.2808897258419005 ; "
     ]
    },
    {
     "name": "stderr",
     "output_type": "stream",
     "text": [
      "\u001B[32m[I 2023-05-07 17:57:20,590]\u001B[0m Trial 49 finished with value: 1.218156298860351 and parameters: {'beta_f': 0.5443918912677073, 'beta_r': 0.7727508401725524, 'lr_f': 0.6805860705422251, 'lr_r': 0.7180059800897536, 'stop_frac_r': 3, 'avg_frac_r': 3}. Best is trial 32 with value: 0.4671214512550344.\u001B[0m\n"
     ]
    },
    {
     "name": "stdout",
     "output_type": "stream",
     "text": [
      "last_regret=2.7670873148376014\n",
      "l_star=5 ; regret_mix=7.253694350519704 ; last_regret=9.479493312805308\n",
      "l_star=5 ; regret_mix=11.063876826606837 ; last_regret=12.591348528219061\n",
      "l_star=7 ; regret_mix=12.999529805129264 ; last_regret=14.52738353920535\n",
      "l_star=4 ; regret_mix=109.5857239762315 ; last_regret=216.13882932960482\n",
      "l_star=6 ; regret_mix=3.990090776843235 ; last_regret=4.366406462301454\n",
      "l_star=5 ; regret_mix=12.894171714780246 ; last_regret=15.371562378663626\n",
      "l_star=6 ; regret_mix=6.57746612553403 ; last_regret=7.311957416732908\n",
      "l_star=5 ; regret_mix=3.081399195729088 ; last_regret=3.4372170354651694\n",
      "l_star=4 ; regret_mix=5.585240617278932 ; last_regret=5.838405612876288\n",
      "l_star=4 ; regret_mix=12.806948800393855 ; "
     ]
    },
    {
     "name": "stderr",
     "output_type": "stream",
     "text": [
      "\u001B[32m[I 2023-05-07 18:00:30,080]\u001B[0m Trial 50 finished with value: 1.900625378743169 and parameters: {'beta_f': 0.6772730977993795, 'beta_r': 0.59388821468294, 'lr_f': 0.48569708819521806, 'lr_r': 0.8815073490434482, 'stop_frac_r': 4, 'avg_frac_r': 4}. Best is trial 32 with value: 0.4671214512550344.\u001B[0m\n"
     ]
    },
    {
     "name": "stdout",
     "output_type": "stream",
     "text": [
      "last_regret=15.455927865893141\n",
      "l_star=4 ; regret_mix=11.598469078771831 ; last_regret=12.59439136832693\n",
      "l_star=4 ; regret_mix=8.48646797528825 ; last_regret=9.195025740922434\n",
      "l_star=7 ; regret_mix=20.2698823292134 ; last_regret=22.184452411826783\n",
      "l_star=6 ; regret_mix=2.8087618570649604 ; last_regret=2.947103172855091\n",
      "l_star=5 ; regret_mix=8.89474582664376 ; last_regret=9.371586423269264\n",
      "l_star=4 ; regret_mix=13.284497546716153 ; last_regret=14.510958486416797\n",
      "l_star=4 ; regret_mix=49.23209256155058 ; last_regret=67.52039247361033\n",
      "l_star=6 ; regret_mix=26.8933936703709 ; last_regret=29.135437566818133\n",
      "l_star=4 ; regret_mix=16.37834687313701 ; last_regret=18.269056230898887\n",
      "l_star=4 ; regret_mix=18.11619216908573 ; "
     ]
    },
    {
     "name": "stderr",
     "output_type": "stream",
     "text": [
      "\u001B[32m[I 2023-05-07 18:03:43,113]\u001B[0m Trial 51 finished with value: 1.1674402747256882 and parameters: {'beta_f': 0.701316673804865, 'beta_r': 0.7128628622744955, 'lr_f': 0.5394553428561313, 'lr_r': 0.5591442549456253, 'stop_frac_r': 2, 'avg_frac_r': 2}. Best is trial 32 with value: 0.4671214512550344.\u001B[0m\n"
     ]
    },
    {
     "name": "stdout",
     "output_type": "stream",
     "text": [
      "last_regret=22.592287582868547\n",
      "l_star=5 ; regret_mix=5.646064918023571 ; last_regret=5.889999223536912\n",
      "l_star=6 ; regret_mix=4.317555430382362 ; last_regret=4.533682306682035\n",
      "l_star=5 ; regret_mix=3.226048951743933 ; last_regret=3.4111789569027913\n",
      "l_star=4 ; regret_mix=31.234240501820572 ; last_regret=41.230017004521414\n",
      "l_star=5 ; regret_mix=5.520022592511764 ; last_regret=5.748153880707316\n",
      "l_star=5 ; regret_mix=15.417794497199527 ; last_regret=16.30997387978946\n",
      "l_star=4 ; regret_mix=13.417199216379357 ; last_regret=14.726119470787172\n",
      "l_star=4 ; regret_mix=6.366972675954738 ; last_regret=6.953913907868838\n",
      "l_star=5 ; regret_mix=11.454128481091578 ; last_regret=12.197608081628447\n",
      "l_star=5 ; regret_mix=4.189657653327252 ; "
     ]
    },
    {
     "name": "stderr",
     "output_type": "stream",
     "text": [
      "\u001B[32m[I 2023-05-07 18:07:02,393]\u001B[0m Trial 52 finished with value: 0.8024230144310379 and parameters: {'beta_f': 0.5673997038864231, 'beta_r': 0.764966521292863, 'lr_f': 0.38577051188359146, 'lr_r': 0.6418033202198037, 'stop_frac_r': 2, 'avg_frac_r': 2}. Best is trial 32 with value: 0.4671214512550344.\u001B[0m\n"
     ]
    },
    {
     "name": "stdout",
     "output_type": "stream",
     "text": [
      "last_regret=4.347242172620645\n",
      "l_star=4 ; regret_mix=6.964527136995787 ; last_regret=7.224750415666739\n",
      "l_star=4 ; regret_mix=23.833294108364857 ; last_regret=25.481356655629593\n",
      "l_star=6 ; regret_mix=2.340146181381321 ; last_regret=2.4707870575890367\n",
      "l_star=5 ; regret_mix=7.158625070051389 ; last_regret=7.327275093678819\n",
      "l_star=5 ; regret_mix=11.691917819870843 ; last_regret=11.846741344194891\n",
      "l_star=6 ; regret_mix=4.027243339199344 ; last_regret=4.3505026058114895\n",
      "l_star=5 ; regret_mix=10.218422339929264 ; last_regret=10.850105214310993\n",
      "l_star=4 ; regret_mix=6.78228355056638 ; last_regret=7.238763179331632\n",
      "l_star=5 ; regret_mix=15.317597573983322 ; last_regret=16.434153333137665\n",
      "l_star=8 ; regret_mix=1.209239782347757 ; "
     ]
    },
    {
     "name": "stderr",
     "output_type": "stream",
     "text": [
      "\u001B[32m[I 2023-05-07 18:10:31,559]\u001B[0m Trial 53 finished with value: 0.5558593724809587 and parameters: {'beta_f': 0.6231195263466999, 'beta_r': 0.7459842018426577, 'lr_f': 0.32235483332544446, 'lr_r': 0.5134986240595323, 'stop_frac_r': 2, 'avg_frac_r': 2}. Best is trial 32 with value: 0.4671214512550344.\u001B[0m\n"
     ]
    },
    {
     "name": "stdout",
     "output_type": "stream",
     "text": [
      "last_regret=1.321612892279605\n",
      "l_star=6 ; regret_mix=16.662416473987715 ; last_regret=19.254390974208263\n",
      "l_star=5 ; regret_mix=16.379742925556823 ; last_regret=18.10407650388221\n",
      "l_star=5 ; regret_mix=1.6355641090276647 ; last_regret=1.917612362008556\n",
      "l_star=5 ; regret_mix=7.106503597975466 ; last_regret=7.626321926748371\n",
      "l_star=5 ; regret_mix=9.340430380988026 ; last_regret=10.286585274568605\n",
      "l_star=4 ; regret_mix=15.21874826476496 ; last_regret=17.369188069388453\n",
      "l_star=4 ; regret_mix=4.0912215111551955 ; last_regret=4.355763435965424\n",
      "l_star=4 ; regret_mix=15.822770769187624 ; last_regret=22.099273488302334\n",
      "l_star=4 ; regret_mix=7.70620798642506 ; last_regret=9.096984962969293\n",
      "l_star=6 ; regret_mix=17.323090152150552 ; "
     ]
    },
    {
     "name": "stderr",
     "output_type": "stream",
     "text": [
      "\u001B[32m[I 2023-05-07 18:13:41,982]\u001B[0m Trial 54 finished with value: 1.4696214639230936 and parameters: {'beta_f': 0.6363790888981105, 'beta_r': 0.6046043867249409, 'lr_f': 0.5921230906014978, 'lr_r': 0.7726194389185831, 'stop_frac_r': 3, 'avg_frac_r': 3}. Best is trial 32 with value: 0.4671214512550344.\u001B[0m\n"
     ]
    },
    {
     "name": "stdout",
     "output_type": "stream",
     "text": [
      "last_regret=21.241830089147328\n",
      "l_star=7 ; regret_mix=19.411593181983967 ; last_regret=20.94586994639545\n",
      "l_star=5 ; regret_mix=7.906571882073648 ; last_regret=8.642813697495214\n",
      "l_star=4 ; regret_mix=51.24235870310737 ; last_regret=60.34222124769008\n",
      "l_star=5 ; regret_mix=7.828153958709859 ; last_regret=9.04231005990692\n",
      "l_star=6 ; regret_mix=28.56991412564257 ; last_regret=31.155129593334653\n",
      "l_star=5 ; regret_mix=13.207531387112555 ; last_regret=16.07320167230266\n",
      "l_star=4 ; regret_mix=20.034056266112266 ; last_regret=20.94546465916839\n",
      "l_star=6 ; regret_mix=7.624376964494696 ; last_regret=8.289732719748654\n",
      "l_star=6 ; regret_mix=13.627669111442197 ; last_regret=14.749616932896622\n",
      "l_star=5 ; regret_mix=2.04730346560098 ; "
     ]
    },
    {
     "name": "stderr",
     "output_type": "stream",
     "text": [
      "\u001B[32m[I 2023-05-07 18:17:02,803]\u001B[0m Trial 55 finished with value: 1.1385826138557296 and parameters: {'beta_f': 0.659550985749795, 'beta_r': 0.5332244883309654, 'lr_f': 0.7109372766863696, 'lr_r': 0.6902885375967467, 'stop_frac_r': 1, 'avg_frac_r': 1}. Best is trial 32 with value: 0.4671214512550344.\u001B[0m\n"
     ]
    },
    {
     "name": "stdout",
     "output_type": "stream",
     "text": [
      "last_regret=2.440215565332029\n",
      "l_star=5 ; regret_mix=14.522300072518252 ; last_regret=15.97374746970314\n",
      "l_star=6 ; regret_mix=23.14242399682244 ; last_regret=27.886455778148257\n",
      "l_star=6 ; regret_mix=10.493197711926001 ; last_regret=11.386120274726911\n",
      "l_star=4 ; regret_mix=4.577164838646579 ; last_regret=5.192374919707637\n",
      "l_star=5 ; regret_mix=18.268672900044468 ; last_regret=20.613793355498164\n",
      "l_star=6 ; regret_mix=5.4937671339045915 ; last_regret=6.18379856611552\n",
      "l_star=5 ; regret_mix=2.3001504553676866 ; last_regret=2.4857430569532935\n",
      "l_star=5 ; regret_mix=3.7967313528248354 ; last_regret=4.099954172758844\n",
      "l_star=5 ; regret_mix=29.343919012331632 ; last_regret=33.570073906325696\n",
      "l_star=5 ; regret_mix=21.60939149815629 ; "
     ]
    },
    {
     "name": "stderr",
     "output_type": "stream",
     "text": [
      "\u001B[32m[I 2023-05-07 18:20:16,094]\u001B[0m Trial 56 finished with value: 1.1631653354874263 and parameters: {'beta_f': 0.6223033115002856, 'beta_r': 0.6917561220758911, 'lr_f': 0.8372807114309058, 'lr_r': 0.5854486149051238, 'stop_frac_r': 2, 'avg_frac_r': 3}. Best is trial 32 with value: 0.4671214512550344.\u001B[0m\n"
     ]
    },
    {
     "name": "stdout",
     "output_type": "stream",
     "text": [
      "last_regret=24.995753192426417\n",
      "l_star=4 ; regret_mix=16.369966234020122 ; last_regret=17.087984763697893\n",
      "l_star=6 ; regret_mix=15.00555645639863 ; last_regret=17.23077404428588\n",
      "l_star=6 ; regret_mix=8.385653035855682 ; last_regret=9.816313153374399\n",
      "l_star=5 ; regret_mix=10.466672002075047 ; last_regret=12.329088350534342\n",
      "l_star=4 ; regret_mix=86.46629540566133 ; last_regret=95.68864145516949\n",
      "l_star=4 ; regret_mix=15.449571093940516 ; last_regret=17.981935782332236\n",
      "l_star=4 ; regret_mix=6.313993410452373 ; last_regret=7.318137878219121\n",
      "l_star=8 ; regret_mix=4.8450729287957 ; last_regret=5.776148961084503\n",
      "l_star=6 ; regret_mix=5.057347361999543 ; last_regret=5.560976434657397\n",
      "l_star=6 ; regret_mix=6.666992049605631 ; "
     ]
    },
    {
     "name": "stderr",
     "output_type": "stream",
     "text": [
      "\u001B[32m[I 2023-05-07 18:23:37,953]\u001B[0m Trial 57 finished with value: 1.2862042332419141 and parameters: {'beta_f': 0.594800358111276, 'beta_r': 0.7501649787877388, 'lr_f': 0.43154379563974476, 'lr_r': 0.5032743432679171, 'stop_frac_r': 1, 'avg_frac_r': 1}. Best is trial 32 with value: 0.4671214512550344.\u001B[0m\n"
     ]
    },
    {
     "name": "stdout",
     "output_type": "stream",
     "text": [
      "last_regret=7.45925363151861\n",
      "l_star=4 ; regret_mix=17.839623245946655 ; last_regret=21.732854351887585\n",
      "l_star=7 ; regret_mix=3.951319659503575 ; last_regret=4.334156522440446\n",
      "l_star=6 ; regret_mix=10.961189376207123 ; last_regret=12.479838469316284\n",
      "l_star=4 ; regret_mix=12.065186324073382 ; last_regret=13.750905477501975\n",
      "l_star=6 ; regret_mix=9.389374471306484 ; last_regret=10.30226112352878\n",
      "l_star=6 ; regret_mix=4.156218056835436 ; last_regret=4.642539621409425\n",
      "l_star=6 ; regret_mix=5.243055792803915 ; last_regret=5.867343239114621\n",
      "l_star=5 ; regret_mix=11.723970828622512 ; last_regret=14.65627504176014\n",
      "l_star=4 ; regret_mix=6.545669438242577 ; last_regret=7.430546180389571\n",
      "l_star=5 ; regret_mix=15.610158765294937 ; "
     ]
    },
    {
     "name": "stderr",
     "output_type": "stream",
     "text": [
      "\u001B[32m[I 2023-05-07 18:26:46,747]\u001B[0m Trial 58 finished with value: 1.3994358660316455 and parameters: {'beta_f': 0.6158902245339514, 'beta_r': 0.7264583361343099, 'lr_f': 0.7720320996704698, 'lr_r': 0.825242064031599, 'stop_frac_r': 3, 'avg_frac_r': 3}. Best is trial 32 with value: 0.4671214512550344.\u001B[0m\n"
     ]
    },
    {
     "name": "stdout",
     "output_type": "stream",
     "text": [
      "last_regret=18.74592097065468\n",
      "l_star=4 ; regret_mix=7.643419300725675 ; last_regret=9.89638753645007\n",
      "l_star=4 ; regret_mix=18.955398343146197 ; last_regret=27.25900121520542\n",
      "l_star=5 ; regret_mix=81.46689295058998 ; last_regret=125.0862585076144\n",
      "l_star=4 ; regret_mix=27.058690923688214 ; last_regret=42.68010050787959\n",
      "l_star=4 ; regret_mix=5.570066801434452 ; last_regret=7.209837899640641\n",
      "l_star=5 ; regret_mix=12.459063784911747 ; last_regret=16.599727346957838\n",
      "l_star=6 ; regret_mix=4.135083256110779 ; last_regret=4.898512370000329\n",
      "l_star=4 ; regret_mix=5.078954675270244 ; last_regret=6.4926537385942495\n",
      "l_star=4 ; regret_mix=70.03031454796604 ; last_regret=124.90127060397627\n",
      "l_star=7 ; regret_mix=8.487616139399439 ; "
     ]
    },
    {
     "name": "stderr",
     "output_type": "stream",
     "text": [
      "\u001B[32m[I 2023-05-07 18:29:51,762]\u001B[0m Trial 59 finished with value: 3.186046290396998 and parameters: {'beta_f': 0.659436992991141, 'beta_r': 0.6504205594844483, 'lr_f': 0.5109499362207764, 'lr_r': 0.7470107294288756, 'stop_frac_r': 9, 'avg_frac_r': 10}. Best is trial 32 with value: 0.4671214512550344.\u001B[0m\n"
     ]
    },
    {
     "name": "stdout",
     "output_type": "stream",
     "text": [
      "last_regret=9.776100152550672\n",
      "l_star=5 ; regret_mix=2.217761441172277 ; last_regret=2.3834229553346744\n",
      "l_star=4 ; regret_mix=3.600636967849912 ; last_regret=3.6702801582291906\n",
      "l_star=5 ; regret_mix=9.668627061906237 ; last_regret=10.042868002475748\n",
      "l_star=4 ; regret_mix=4.648473737367671 ; last_regret=4.7317337494319185\n",
      "l_star=5 ; regret_mix=13.587948960500022 ; last_regret=14.230196658981749\n",
      "l_star=6 ; regret_mix=1.534954905042526 ; last_regret=1.6225163879554354\n",
      "l_star=6 ; regret_mix=28.077067762650426 ; last_regret=35.1226684148137\n",
      "l_star=6 ; regret_mix=14.707918997660602 ; last_regret=15.211170543954884\n",
      "l_star=5 ; regret_mix=16.00475224667417 ; last_regret=16.501573394118594\n",
      "l_star=6 ; regret_mix=8.732571216620988 ; "
     ]
    },
    {
     "name": "stderr",
     "output_type": "stream",
     "text": [
      "\u001B[32m[I 2023-05-07 18:33:18,528]\u001B[0m Trial 60 finished with value: 0.6066640868089281 and parameters: {'beta_f': 0.5670088985740757, 'beta_r': 0.8055180017397039, 'lr_f': 0.36530893746830395, 'lr_r': 0.6390716886789858, 'stop_frac_r': 2, 'avg_frac_r': 2}. Best is trial 32 with value: 0.4671214512550344.\u001B[0m\n"
     ]
    },
    {
     "name": "stdout",
     "output_type": "stream",
     "text": [
      "last_regret=9.365477899670298\n",
      "l_star=6 ; regret_mix=13.448087355212662 ; last_regret=14.550131434906797\n",
      "l_star=5 ; regret_mix=3.1488906690577907 ; last_regret=3.2572901804272174\n",
      "l_star=5 ; regret_mix=9.087438106693268 ; last_regret=9.54981947176437\n",
      "l_star=4 ; regret_mix=11.727864610948231 ; last_regret=12.578210654311553\n",
      "l_star=5 ; regret_mix=13.416313280543742 ; last_regret=14.147761785714746\n",
      "l_star=4 ; regret_mix=24.35881706830538 ; last_regret=28.10876972016346\n",
      "l_star=6 ; regret_mix=9.320627518907298 ; last_regret=9.791224389110827\n",
      "l_star=6 ; regret_mix=21.020238316668298 ; last_regret=22.207575832218076\n",
      "l_star=5 ; regret_mix=18.781696900680366 ; last_regret=20.458911945017796\n",
      "l_star=5 ; regret_mix=30.471141782822396 ; "
     ]
    },
    {
     "name": "stderr",
     "output_type": "stream",
     "text": [
      "\u001B[32m[I 2023-05-07 18:36:33,512]\u001B[0m Trial 61 finished with value: 0.7120118724755682 and parameters: {'beta_f': 0.5295897650795355, 'beta_r': 0.7480930201852805, 'lr_f': 0.34145837431783355, 'lr_r': 0.6332820405500497, 'stop_frac_r': 2, 'avg_frac_r': 2}. Best is trial 32 with value: 0.4671214512550344.\u001B[0m\n"
     ]
    },
    {
     "name": "stdout",
     "output_type": "stream",
     "text": [
      "last_regret=33.46643177677287\n",
      "l_star=5 ; regret_mix=17.166385038416244 ; last_regret=20.130419785922804\n",
      "l_star=5 ; regret_mix=8.740785165526397 ; last_regret=9.660421540505828\n",
      "l_star=5 ; regret_mix=9.535274811569852 ; last_regret=10.289267080696051\n",
      "l_star=5 ; regret_mix=19.399299055923493 ; last_regret=22.906024703282842\n",
      "l_star=5 ; regret_mix=27.861952962146194 ; last_regret=32.367968127989926\n",
      "l_star=7 ; regret_mix=98.98753954144206 ; last_regret=148.81737238745689\n",
      "l_star=6 ; regret_mix=4.95260209267428 ; last_regret=5.707645294811057\n",
      "l_star=5 ; regret_mix=22.9164531152612 ; last_regret=27.993132070482687\n",
      "l_star=6 ; regret_mix=4.654711686116529 ; last_regret=4.8673398694146615\n",
      "l_star=5 ; regret_mix=13.138521117754829 ; "
     ]
    },
    {
     "name": "stderr",
     "output_type": "stream",
     "text": [
      "\u001B[32m[I 2023-05-07 18:39:44,063]\u001B[0m Trial 62 finished with value: 1.5253132076525147 and parameters: {'beta_f': 0.5801770952804358, 'beta_r': 0.8001400752813917, 'lr_f': 0.2460359984039463, 'lr_r': 0.6649507023206086, 'stop_frac_r': 2, 'avg_frac_r': 3}. Best is trial 32 with value: 0.4671214512550344.\u001B[0m\n"
     ]
    },
    {
     "name": "stdout",
     "output_type": "stream",
     "text": [
      "last_regret=14.224714625901349\n",
      "l_star=6 ; regret_mix=13.721650121469413 ; last_regret=17.638528632955435\n",
      "l_star=5 ; regret_mix=12.731417294995948 ; last_regret=16.028117039141687\n",
      "l_star=5 ; regret_mix=24.414969434915452 ; last_regret=31.18184280075247\n",
      "l_star=5 ; regret_mix=7.262362616255715 ; last_regret=9.953627101311806\n",
      "l_star=6 ; regret_mix=26.9132379540009 ; last_regret=32.88040055327688\n",
      "l_star=5 ; regret_mix=12.170794345558878 ; last_regret=15.506728709223939\n",
      "l_star=6 ; regret_mix=7.034621070696107 ; last_regret=9.03021007824275\n",
      "l_star=4 ; regret_mix=5.947519340934662 ; last_regret=8.583997564893679\n",
      "l_star=4 ; regret_mix=3.0614183304579594 ; last_regret=4.717399661979751\n",
      "l_star=5 ; regret_mix=7.611948843046502 ; "
     ]
    },
    {
     "name": "stderr",
     "output_type": "stream",
     "text": [
      "\u001B[32m[I 2023-05-07 18:43:38,180]\u001B[0m Trial 63 finished with value: 2.876995114787477 and parameters: {'beta_f': 0.5546531064760712, 'beta_r': 0.6981864081277338, 'lr_f': 0.40678318533000946, 'lr_r': 0.009468018731639272, 'stop_frac_r': 1, 'avg_frac_r': 1}. Best is trial 32 with value: 0.4671214512550344.\u001B[0m\n"
     ]
    },
    {
     "name": "stdout",
     "output_type": "stream",
     "text": [
      "last_regret=10.739520582993508\n",
      "l_star=7 ; regret_mix=6.857848927184556 ; last_regret=7.6270484485966605\n",
      "l_star=7 ; regret_mix=9.192500499850116 ; last_regret=9.971713190137862\n",
      "l_star=4 ; regret_mix=16.48744597091727 ; last_regret=17.127876914366162\n",
      "l_star=5 ; regret_mix=12.113831944026858 ; last_regret=13.08799665497074\n",
      "l_star=4 ; regret_mix=6.7479314967923205 ; last_regret=6.99753462824456\n",
      "l_star=5 ; regret_mix=11.769657006596098 ; last_regret=12.876420047857021\n",
      "l_star=6 ; regret_mix=4.36772887326201 ; last_regret=4.85570161269666\n",
      "l_star=5 ; regret_mix=7.505317358689126 ; last_regret=8.324416564711576\n",
      "l_star=6 ; regret_mix=4.2636270135648555 ; last_regret=4.569910704501766\n",
      "l_star=6 ; regret_mix=4.734083792631528 ; "
     ]
    },
    {
     "name": "stderr",
     "output_type": "stream",
     "text": [
      "\u001B[32m[I 2023-05-07 18:47:00,579]\u001B[0m Trial 64 finished with value: 0.8298142196815669 and parameters: {'beta_f': 0.6293140984040434, 'beta_r': 0.9698975347956789, 'lr_f': 0.4696288232880007, 'lr_r': 0.43042950271406555, 'stop_frac_r': 3, 'avg_frac_r': 3}. Best is trial 32 with value: 0.4671214512550344.\u001B[0m\n"
     ]
    },
    {
     "name": "stdout",
     "output_type": "stream",
     "text": [
      "last_regret=5.346356298499835\n",
      "l_star=4 ; regret_mix=8.994291488301087 ; last_regret=9.366194253536463\n",
      "l_star=5 ; regret_mix=2.8388387552113152 ; last_regret=3.0170529618252924\n",
      "l_star=5 ; regret_mix=17.808217793398438 ; last_regret=19.405839981095\n",
      "l_star=6 ; regret_mix=33.57168261383522 ; last_regret=36.599065095368594\n",
      "l_star=6 ; regret_mix=36.95559506097689 ; last_regret=41.97440032654176\n",
      "l_star=7 ; regret_mix=9.002595796545009 ; last_regret=9.584740527623012\n",
      "l_star=4 ; regret_mix=25.850288050493347 ; last_regret=31.28796651268082\n",
      "l_star=4 ; regret_mix=14.730746970599508 ; last_regret=16.363623976956703\n",
      "l_star=6 ; regret_mix=6.612706563573489 ; last_regret=6.908476725524575\n",
      "l_star=5 ; regret_mix=13.290187618604104 ; "
     ]
    },
    {
     "name": "stderr",
     "output_type": "stream",
     "text": [
      "\u001B[32m[I 2023-05-07 18:50:14,967]\u001B[0m Trial 65 finished with value: 0.8959687169317402 and parameters: {'beta_f': 0.607589394822196, 'beta_r': 0.7590674670286389, 'lr_f': 0.2862973200878258, 'lr_r': 0.7019288322936015, 'stop_frac_r': 2, 'avg_frac_r': 2}. Best is trial 32 with value: 0.4671214512550344.\u001B[0m\n"
     ]
    },
    {
     "name": "stdout",
     "output_type": "stream",
     "text": [
      "last_regret=14.578453986228098\n",
      "l_star=4 ; regret_mix=9.624409582885878 ; last_regret=10.215044109079312\n",
      "l_star=4 ; regret_mix=6.080609351798407 ; last_regret=7.007092149378643\n",
      "l_star=6 ; regret_mix=10.248776556055335 ; last_regret=11.48720188435487\n",
      "l_star=4 ; regret_mix=35.936484310306284 ; last_regret=42.77791580942673\n",
      "l_star=4 ; regret_mix=8.833475739362786 ; last_regret=9.42362918329871\n",
      "l_star=4 ; regret_mix=34.891942127909836 ; last_regret=36.32090507712334\n",
      "l_star=6 ; regret_mix=5.807503995152027 ; last_regret=6.778692272356636\n",
      "l_star=5 ; regret_mix=12.925500505466863 ; last_regret=14.861184459578553\n",
      "l_star=5 ; regret_mix=9.521507189891635 ; last_regret=11.850064859873713\n",
      "l_star=5 ; regret_mix=9.141170399440908 ; "
     ]
    },
    {
     "name": "stderr",
     "output_type": "stream",
     "text": [
      "\u001B[32m[I 2023-05-07 18:53:31,584]\u001B[0m Trial 66 finished with value: 1.1687249828885449 and parameters: {'beta_f': 0.5017070724796449, 'beta_r': 0.820170185716657, 'lr_f': 0.14588762208460443, 'lr_r': 0.47501059702664084, 'stop_frac_r': 1, 'avg_frac_r': 2}. Best is trial 32 with value: 0.4671214512550344.\u001B[0m\n"
     ]
    },
    {
     "name": "stdout",
     "output_type": "stream",
     "text": [
      "last_regret=9.718380656030455\n",
      "l_star=5 ; regret_mix=10.257877250210694 ; last_regret=11.509732886240322\n",
      "l_star=5 ; regret_mix=5.020131630292802 ; last_regret=5.41920644491232\n",
      "l_star=6 ; regret_mix=2.9234063186338717 ; last_regret=3.1307922838484705\n",
      "l_star=4 ; regret_mix=3.985386533852437 ; last_regret=4.695508939203881\n",
      "l_star=5 ; regret_mix=6.16395902307642 ; last_regret=6.62642850886619\n",
      "l_star=5 ; regret_mix=6.896034173979287 ; last_regret=7.498554357595232\n",
      "l_star=6 ; regret_mix=2.337115444088195 ; last_regret=2.5830603093736424\n",
      "l_star=6 ; regret_mix=10.18575199968262 ; last_regret=11.190522915748286\n",
      "l_star=5 ; regret_mix=12.155127092101592 ; last_regret=13.328670911863751\n",
      "l_star=5 ; regret_mix=13.41642293939807 ; "
     ]
    },
    {
     "name": "stderr",
     "output_type": "stream",
     "text": [
      "\u001B[32m[I 2023-05-07 18:56:47,708]\u001B[0m Trial 67 finished with value: 0.9792404414988314 and parameters: {'beta_f': 0.5646775443546116, 'beta_r': 0.7188756283303127, 'lr_f': 0.3534361963081706, 'lr_r': 0.6135313231628673, 'stop_frac_r': 2, 'avg_frac_r': 3}. Best is trial 32 with value: 0.4671214512550344.\u001B[0m\n"
     ]
    },
    {
     "name": "stdout",
     "output_type": "stream",
     "text": [
      "last_regret=15.016644811988352\n",
      "l_star=5 ; regret_mix=22.43834027680674 ; last_regret=31.90121680197097\n",
      "l_star=8 ; regret_mix=3.5199461512154784 ; last_regret=4.05927754582248\n",
      "l_star=5 ; regret_mix=16.588618530247942 ; last_regret=19.692643437590174\n",
      "l_star=4 ; regret_mix=14.373307129627639 ; last_regret=15.772991337700093\n",
      "l_star=4 ; regret_mix=6.637156755372186 ; last_regret=7.339540966702519\n",
      "l_star=6 ; regret_mix=6.367359613187182 ; last_regret=7.000432390482627\n",
      "l_star=5 ; regret_mix=11.108371207515546 ; last_regret=13.639662455414237\n",
      "l_star=6 ; regret_mix=14.418302095164407 ; last_regret=17.137116149463694\n",
      "l_star=4 ; regret_mix=39.66044825383335 ; last_regret=94.37822199073808\n",
      "l_star=4 ; regret_mix=35.66744406317948 ; "
     ]
    },
    {
     "name": "stderr",
     "output_type": "stream",
     "text": [
      "\u001B[32m[I 2023-05-07 18:59:58,526]\u001B[0m Trial 68 finished with value: 2.3903636819091663 and parameters: {'beta_f': 0.6532368242880183, 'beta_r': 0.7961317783217257, 'lr_f': 0.5169779226195345, 'lr_r': 0.8688552122355814, 'stop_frac_r': 4, 'avg_frac_r': 4}. Best is trial 32 with value: 0.4671214512550344.\u001B[0m\n"
     ]
    },
    {
     "name": "stdout",
     "output_type": "stream",
     "text": [
      "last_regret=43.17874361341572\n",
      "l_star=4 ; regret_mix=5.894328251235627 ; last_regret=6.446651927038549\n",
      "l_star=5 ; regret_mix=5.011281702760324 ; last_regret=6.076701774631372\n",
      "l_star=5 ; regret_mix=24.433676181377866 ; last_regret=25.35328336602255\n",
      "l_star=8 ; regret_mix=5.538927837967342 ; last_regret=6.017951663814683\n",
      "l_star=6 ; regret_mix=6.000694778732972 ; last_regret=6.352672274709372\n",
      "l_star=4 ; regret_mix=13.413092863128261 ; last_regret=13.97293925197214\n",
      "l_star=5 ; regret_mix=22.526861766699138 ; last_regret=23.444196998001395\n",
      "l_star=4 ; regret_mix=14.714253891867575 ; last_regret=15.99849959871241\n",
      "l_star=4 ; regret_mix=25.12472695573484 ; last_regret=26.784269157816492\n",
      "l_star=4 ; regret_mix=1.1352622012443074 ; "
     ]
    },
    {
     "name": "stderr",
     "output_type": "stream",
     "text": [
      "\u001B[32m[I 2023-05-07 19:03:11,742]\u001B[0m Trial 69 finished with value: 0.875974932909218 and parameters: {'beta_f': 0.6715353542454, 'beta_r': 0.9652400319908321, 'lr_f': 0.6482971959794555, 'lr_r': 0.7948428144503127, 'stop_frac_r': 3, 'avg_frac_r': 3}. Best is trial 32 with value: 0.4671214512550344.\u001B[0m\n"
     ]
    },
    {
     "name": "stdout",
     "output_type": "stream",
     "text": [
      "last_regret=1.3704777272181434\n",
      "l_star=6 ; regret_mix=6.812478095921753 ; last_regret=7.99588222849276\n",
      "l_star=6 ; regret_mix=1.5769910157846596 ; last_regret=1.725281107030444\n",
      "l_star=6 ; regret_mix=5.428415336024454 ; last_regret=5.922481089139655\n",
      "l_star=4 ; regret_mix=6.0368867247764895 ; last_regret=7.16689442205511\n",
      "l_star=4 ; regret_mix=28.174499008400296 ; last_regret=40.4280372534683\n",
      "l_star=5 ; regret_mix=4.27608003477222 ; last_regret=5.987085653089266\n",
      "l_star=5 ; regret_mix=5.448358629378243 ; last_regret=6.58931701996145\n",
      "l_star=4 ; regret_mix=12.703520245330177 ; last_regret=15.78118573101739\n",
      "l_star=5 ; regret_mix=5.974450130124899 ; last_regret=6.6876015690157224\n",
      "l_star=5 ; regret_mix=5.641907970981603 ; "
     ]
    },
    {
     "name": "stderr",
     "output_type": "stream",
     "text": [
      "\u001B[32m[I 2023-05-07 19:06:21,894]\u001B[0m Trial 70 finished with value: 1.892246845115694 and parameters: {'beta_f': 0.7404368732581368, 'beta_r': 0.6612515025940765, 'lr_f': 0.31862702402123844, 'lr_r': 0.9325837921014359, 'stop_frac_r': 2, 'avg_frac_r': 7}. Best is trial 32 with value: 0.4671214512550344.\u001B[0m\n"
     ]
    },
    {
     "name": "stdout",
     "output_type": "stream",
     "text": [
      "last_regret=6.660687147263142\n",
      "l_star=4 ; regret_mix=19.38379181821076 ; last_regret=20.12063059966559\n",
      "l_star=6 ; regret_mix=22.281695604408622 ; last_regret=23.976795083143475\n",
      "l_star=4 ; regret_mix=2.413144464608792 ; last_regret=2.7124122600303338\n",
      "l_star=6 ; regret_mix=2.3159352423438415 ; last_regret=2.4974179849611504\n",
      "l_star=5 ; regret_mix=6.8012831216037695 ; last_regret=7.2601871658154495\n",
      "l_star=4 ; regret_mix=21.204262084646736 ; last_regret=21.71536922998551\n",
      "l_star=5 ; regret_mix=4.621479403842295 ; last_regret=5.133437582843001\n",
      "l_star=5 ; regret_mix=4.584747678916357 ; last_regret=4.950803965416702\n",
      "l_star=5 ; regret_mix=3.4752610701443327 ; last_regret=3.7068144766759215\n",
      "l_star=5 ; regret_mix=7.3113215371055205 ; "
     ]
    },
    {
     "name": "stderr",
     "output_type": "stream",
     "text": [
      "\u001B[32m[I 2023-05-07 19:09:42,248]\u001B[0m Trial 71 finished with value: 0.7272461619109929 and parameters: {'beta_f': 0.7230427725129671, 'beta_r': 0.989313764679674, 'lr_f': 0.30718062035283783, 'lr_r': 0.5237514143181768, 'stop_frac_r': 2, 'avg_frac_r': 2}. Best is trial 32 with value: 0.4671214512550344.\u001B[0m\n"
     ]
    },
    {
     "name": "stdout",
     "output_type": "stream",
     "text": [
      "last_regret=7.990058255077764\n",
      "l_star=6 ; regret_mix=5.827157082220047 ; last_regret=6.397891708845481\n",
      "l_star=5 ; regret_mix=4.540163932775448 ; last_regret=5.314426611358882\n",
      "l_star=5 ; regret_mix=8.722354198808599 ; last_regret=10.59414100196699\n",
      "l_star=5 ; regret_mix=2.3461815639560566 ; last_regret=2.7251709697970106\n",
      "l_star=4 ; regret_mix=1.8009885687930145 ; last_regret=2.2013905545036825\n",
      "l_star=6 ; regret_mix=3.22250792914101 ; last_regret=3.988988241292702\n",
      "l_star=6 ; regret_mix=9.148895949293102 ; last_regret=10.872405603442362\n",
      "l_star=4 ; regret_mix=18.495410809729833 ; last_regret=19.489932845974256\n",
      "l_star=5 ; regret_mix=2.1221458730837144 ; last_regret=2.427918989593808\n",
      "l_star=7 ; regret_mix=3.288770011618585 ; "
     ]
    },
    {
     "name": "stderr",
     "output_type": "stream",
     "text": [
      "\u001B[32m[I 2023-05-07 19:13:01,559]\u001B[0m Trial 72 finished with value: 1.519643308110793 and parameters: {'beta_f': 0.711390192485281, 'beta_r': 0.9208507933205158, 'lr_f': 0.2597510180280222, 'lr_r': 0.5829445144367853, 'stop_frac_r': 1, 'avg_frac_r': 1}. Best is trial 32 with value: 0.4671214512550344.\u001B[0m\n"
     ]
    },
    {
     "name": "stdout",
     "output_type": "stream",
     "text": [
      "last_regret=3.824369278860449\n",
      "l_star=5 ; regret_mix=1.9410358275654995 ; last_regret=2.1254223672479897\n",
      "l_star=6 ; regret_mix=4.301239447954056 ; last_regret=4.471047432373041\n",
      "l_star=4 ; regret_mix=1.7917502816156405 ; last_regret=1.9004233707858802\n",
      "l_star=4 ; regret_mix=9.461274093754465 ; last_regret=9.834188228432636\n",
      "l_star=5 ; regret_mix=10.524390534102011 ; last_regret=10.805887184179396\n",
      "l_star=4 ; regret_mix=47.65054242597527 ; last_regret=68.26712437821169\n",
      "l_star=5 ; regret_mix=11.265898099250004 ; last_regret=11.76577592654001\n",
      "l_star=6 ; regret_mix=2.588286754489659 ; last_regret=2.7498496647048025\n",
      "l_star=6 ; regret_mix=54.31789180000964 ; last_regret=94.6238369850843\n",
      "l_star=5 ; regret_mix=5.9845750949230965 ; "
     ]
    },
    {
     "name": "stderr",
     "output_type": "stream",
     "text": [
      "\u001B[32m[I 2023-05-07 19:16:26,361]\u001B[0m Trial 73 finished with value: 1.3066135864255723 and parameters: {'beta_f': 0.5846556929460606, 'beta_r': 0.9384780294013881, 'lr_f': 0.38115287662132996, 'lr_r': 0.56466248777129, 'stop_frac_r': 2, 'avg_frac_r': 2}. Best is trial 32 with value: 0.4671214512550344.\u001B[0m\n"
     ]
    },
    {
     "name": "stdout",
     "output_type": "stream",
     "text": [
      "last_regret=6.195595653151476\n",
      "l_star=6 ; regret_mix=3.0836184115149656 ; last_regret=3.5697793951586885\n",
      "l_star=4 ; regret_mix=3.9991762077075648 ; last_regret=4.564629422568953\n",
      "l_star=4 ; regret_mix=6.710610278979763 ; last_regret=7.923014180218821\n",
      "l_star=6 ; regret_mix=9.309844935808238 ; last_regret=10.322257938654028\n",
      "l_star=4 ; regret_mix=21.85470363789544 ; last_regret=23.603191854227823\n",
      "l_star=5 ; regret_mix=2.509380742447825 ; last_regret=2.8217237822194243\n",
      "l_star=5 ; regret_mix=11.16334984715372 ; last_regret=13.130930477667956\n",
      "l_star=5 ; regret_mix=8.777790020132544 ; last_regret=10.699118326530737\n",
      "l_star=5 ; regret_mix=16.640336707300015 ; last_regret=17.36584488706183\n",
      "l_star=6 ; regret_mix=7.227935738672931 ; "
     ]
    },
    {
     "name": "stderr",
     "output_type": "stream",
     "text": [
      "\u001B[32m[I 2023-05-07 19:19:37,083]\u001B[0m Trial 74 finished with value: 1.3031970396290768 and parameters: {'beta_f': 0.7770598695924198, 'beta_r': 0.9752433949456344, 'lr_f': 0.6137984198732461, 'lr_r': 0.6625679037640715, 'stop_frac_r': 3, 'avg_frac_r': 3}. Best is trial 32 with value: 0.4671214512550344.\u001B[0m\n"
     ]
    },
    {
     "name": "stdout",
     "output_type": "stream",
     "text": [
      "last_regret=8.465211762761285\n",
      "l_star=5 ; regret_mix=41.2001538460587 ; last_regret=44.47867738537156\n",
      "l_star=5 ; regret_mix=26.929966826722016 ; last_regret=30.195452747989002\n",
      "l_star=6 ; regret_mix=25.58024433178825 ; last_regret=29.8155710659838\n",
      "l_star=4 ; regret_mix=3.611301089261658 ; last_regret=4.026794743738236\n",
      "l_star=5 ; regret_mix=2.885305286097339 ; last_regret=3.111416196493277\n",
      "l_star=6 ; regret_mix=9.122692338976025 ; last_regret=10.658114281231631\n",
      "l_star=4 ; regret_mix=7.294172620805517 ; last_regret=8.645137217409745\n",
      "l_star=4 ; regret_mix=6.6234349736071305 ; last_regret=7.467979740303454\n",
      "l_star=5 ; regret_mix=7.704662696930599 ; last_regret=9.032832467173028\n",
      "l_star=4 ; regret_mix=5.8906223437689755 ; "
     ]
    },
    {
     "name": "stderr",
     "output_type": "stream",
     "text": [
      "\u001B[32m[I 2023-05-07 19:23:00,511]\u001B[0m Trial 75 finished with value: 1.2860647963152188 and parameters: {'beta_f': 0.6953970157083856, 'beta_r': 0.9584380514746178, 'lr_f': 0.2845339525547842, 'lr_r': 0.5157732792911344, 'stop_frac_r': 1, 'avg_frac_r': 1}. Best is trial 32 with value: 0.4671214512550344.\u001B[0m\n"
     ]
    },
    {
     "name": "stdout",
     "output_type": "stream",
     "text": [
      "last_regret=6.864190361248993\n",
      "l_star=6 ; regret_mix=6.172420745249072 ; last_regret=6.539117437343541\n",
      "l_star=5 ; regret_mix=27.33880079631779 ; last_regret=29.0468867362579\n",
      "l_star=5 ; regret_mix=1.924041298395712 ; last_regret=1.9782503242704133\n",
      "l_star=5 ; regret_mix=4.395896179503589 ; last_regret=4.544986614335252\n",
      "l_star=4 ; regret_mix=28.76542425337185 ; last_regret=47.97879743429962\n",
      "l_star=6 ; regret_mix=11.678075457078474 ; last_regret=12.45972170792568\n",
      "l_star=5 ; regret_mix=1.9027388239278014 ; last_regret=1.9780478961317827\n",
      "l_star=4 ; regret_mix=9.145661163199025 ; last_regret=9.550839600819915\n",
      "l_star=4 ; regret_mix=0.9240279138361079 ; last_regret=1.0178985473588156\n",
      "l_star=4 ; regret_mix=7.6853734773733295 ; "
     ]
    },
    {
     "name": "stderr",
     "output_type": "stream",
     "text": [
      "\u001B[32m[I 2023-05-07 19:26:50,657]\u001B[0m Trial 76 finished with value: 0.9797722095402437 and parameters: {'beta_f': 0.7996718370042424, 'beta_r': 0.6869830873034618, 'lr_f': 0.4112302144768911, 'lr_r': 0.4263268771465829, 'stop_frac_r': 2, 'avg_frac_r': 2}. Best is trial 32 with value: 0.4671214512550344.\u001B[0m\n"
     ]
    },
    {
     "name": "stdout",
     "output_type": "stream",
     "text": [
      "last_regret=8.039327980273754\n",
      "l_star=6 ; regret_mix=7.2169379644690235 ; last_regret=7.73208222277648\n",
      "l_star=6 ; regret_mix=6.289321035457717 ; last_regret=7.327401304422873\n",
      "l_star=4 ; regret_mix=11.402984555113637 ; last_regret=12.346402902753082\n",
      "l_star=5 ; regret_mix=3.110182150317125 ; last_regret=3.500978274275446\n",
      "l_star=6 ; regret_mix=2.8278322066113133 ; "
     ]
    },
    {
     "name": "stderr",
     "output_type": "stream",
     "text": [
      "\u001B[33m[W 2023-05-07 19:28:25,011]\u001B[0m Trial 77 failed because of the following error: KeyboardInterrupt()\u001B[0m\n",
      "Traceback (most recent call last):\n",
      "  File \"C:\\Users\\neria\\PycharmProjects\\AOFBot\\lib\\site-packages\\optuna\\study\\_optimize.py\", line 196, in _run_trial\n",
      "    value_or_values = func(trial)\n",
      "  File \"<ipython-input-2-f2b6b0ead7c7>\", line 12, in optuna_optimize_algorithm\n",
      "    avg_frac_r=avg_frac, stop_frac_r=stop_frac)\n",
      "  File \"C:\\Users\\neria\\Desktop\\masters\\thesis material\\paper-optimization-algorithm\\mse\\steps.py\", line 179, in run_algorithm\n",
      "    avg_frac_r=avg_frac_r, stop_frac_r=stop_frac_r)\n",
      "  File \"C:\\Users\\neria\\Desktop\\masters\\thesis material\\paper-optimization-algorithm\\mse\\steps.py\", line 149, in algorithm\n",
      "    stop_frac=stop_frac_r, avg_frac=avg_frac_r)\n",
      "  File \"C:\\Users\\neria\\Desktop\\masters\\thesis material\\paper-optimization-algorithm\\mse\\steps.py\", line 90, in find_new_R\n",
      "    L = calc_loss_matrix(sigma=sigma, R=R_pool, Q=Q, f=f)\n",
      "  File \"C:\\Users\\neria\\Desktop\\masters\\thesis material\\paper-optimization-algorithm\\mse\\utils.py\", line 55, in calc_loss_matrix\n",
      "    losses_matrix = np.zeros([len(R), len(f)])\n",
      "KeyboardInterrupt\n"
     ]
    },
    {
     "ename": "KeyboardInterrupt",
     "evalue": "",
     "output_type": "error",
     "traceback": [
      "\u001B[1;31m---------------------------------------------------------------------------\u001B[0m",
      "\u001B[1;31mKeyboardInterrupt\u001B[0m                         Traceback (most recent call last)",
      "\u001B[1;32m<ipython-input-3-2465e415ae86>\u001B[0m in \u001B[0;36m<module>\u001B[1;34m\u001B[0m\n\u001B[0;32m     12\u001B[0m                             \u001B[0mstorage\u001B[0m\u001B[1;33m=\u001B[0m\u001B[1;34mf'sqlite:///./../optuna/{name}.db '\u001B[0m\u001B[1;33m,\u001B[0m\u001B[1;33m\u001B[0m\u001B[1;33m\u001B[0m\u001B[0m\n\u001B[0;32m     13\u001B[0m                             direction='minimize', load_if_exists=True)\n\u001B[1;32m---> 14\u001B[1;33m \u001B[0mstudy\u001B[0m\u001B[1;33m.\u001B[0m\u001B[0moptimize\u001B[0m\u001B[1;33m(\u001B[0m\u001B[0moptuna_optimize_algorithm\u001B[0m\u001B[1;33m,\u001B[0m \u001B[0mn_trials\u001B[0m\u001B[1;33m=\u001B[0m\u001B[1;36m100\u001B[0m\u001B[1;33m)\u001B[0m\u001B[1;33m\u001B[0m\u001B[1;33m\u001B[0m\u001B[0m\n\u001B[0m\u001B[0;32m     15\u001B[0m \u001B[1;33m\u001B[0m\u001B[0m\n",
      "\u001B[1;32m~\\PycharmProjects\\AOFBot\\lib\\site-packages\\optuna\\study\\study.py\u001B[0m in \u001B[0;36moptimize\u001B[1;34m(self, func, n_trials, timeout, n_jobs, catch, callbacks, gc_after_trial, show_progress_bar)\u001B[0m\n\u001B[0;32m    426\u001B[0m             \u001B[0mcallbacks\u001B[0m\u001B[1;33m=\u001B[0m\u001B[0mcallbacks\u001B[0m\u001B[1;33m,\u001B[0m\u001B[1;33m\u001B[0m\u001B[1;33m\u001B[0m\u001B[0m\n\u001B[0;32m    427\u001B[0m             \u001B[0mgc_after_trial\u001B[0m\u001B[1;33m=\u001B[0m\u001B[0mgc_after_trial\u001B[0m\u001B[1;33m,\u001B[0m\u001B[1;33m\u001B[0m\u001B[1;33m\u001B[0m\u001B[0m\n\u001B[1;32m--> 428\u001B[1;33m             \u001B[0mshow_progress_bar\u001B[0m\u001B[1;33m=\u001B[0m\u001B[0mshow_progress_bar\u001B[0m\u001B[1;33m,\u001B[0m\u001B[1;33m\u001B[0m\u001B[1;33m\u001B[0m\u001B[0m\n\u001B[0m\u001B[0;32m    429\u001B[0m         )\n\u001B[0;32m    430\u001B[0m \u001B[1;33m\u001B[0m\u001B[0m\n",
      "\u001B[1;32m~\\PycharmProjects\\AOFBot\\lib\\site-packages\\optuna\\study\\_optimize.py\u001B[0m in \u001B[0;36m_optimize\u001B[1;34m(study, func, n_trials, timeout, n_jobs, catch, callbacks, gc_after_trial, show_progress_bar)\u001B[0m\n\u001B[0;32m     74\u001B[0m                 \u001B[0mreseed_sampler_rng\u001B[0m\u001B[1;33m=\u001B[0m\u001B[1;32mFalse\u001B[0m\u001B[1;33m,\u001B[0m\u001B[1;33m\u001B[0m\u001B[1;33m\u001B[0m\u001B[0m\n\u001B[0;32m     75\u001B[0m                 \u001B[0mtime_start\u001B[0m\u001B[1;33m=\u001B[0m\u001B[1;32mNone\u001B[0m\u001B[1;33m,\u001B[0m\u001B[1;33m\u001B[0m\u001B[1;33m\u001B[0m\u001B[0m\n\u001B[1;32m---> 76\u001B[1;33m                 \u001B[0mprogress_bar\u001B[0m\u001B[1;33m=\u001B[0m\u001B[0mprogress_bar\u001B[0m\u001B[1;33m,\u001B[0m\u001B[1;33m\u001B[0m\u001B[1;33m\u001B[0m\u001B[0m\n\u001B[0m\u001B[0;32m     77\u001B[0m             )\n\u001B[0;32m     78\u001B[0m         \u001B[1;32melse\u001B[0m\u001B[1;33m:\u001B[0m\u001B[1;33m\u001B[0m\u001B[1;33m\u001B[0m\u001B[0m\n",
      "\u001B[1;32m~\\PycharmProjects\\AOFBot\\lib\\site-packages\\optuna\\study\\_optimize.py\u001B[0m in \u001B[0;36m_optimize_sequential\u001B[1;34m(study, func, n_trials, timeout, catch, callbacks, gc_after_trial, reseed_sampler_rng, time_start, progress_bar)\u001B[0m\n\u001B[0;32m    158\u001B[0m \u001B[1;33m\u001B[0m\u001B[0m\n\u001B[0;32m    159\u001B[0m         \u001B[1;32mtry\u001B[0m\u001B[1;33m:\u001B[0m\u001B[1;33m\u001B[0m\u001B[1;33m\u001B[0m\u001B[0m\n\u001B[1;32m--> 160\u001B[1;33m             \u001B[0mfrozen_trial\u001B[0m \u001B[1;33m=\u001B[0m \u001B[0m_run_trial\u001B[0m\u001B[1;33m(\u001B[0m\u001B[0mstudy\u001B[0m\u001B[1;33m,\u001B[0m \u001B[0mfunc\u001B[0m\u001B[1;33m,\u001B[0m \u001B[0mcatch\u001B[0m\u001B[1;33m)\u001B[0m\u001B[1;33m\u001B[0m\u001B[1;33m\u001B[0m\u001B[0m\n\u001B[0m\u001B[0;32m    161\u001B[0m         \u001B[1;32mfinally\u001B[0m\u001B[1;33m:\u001B[0m\u001B[1;33m\u001B[0m\u001B[1;33m\u001B[0m\u001B[0m\n\u001B[0;32m    162\u001B[0m             \u001B[1;31m# The following line mitigates memory problems that can be occurred in some\u001B[0m\u001B[1;33m\u001B[0m\u001B[1;33m\u001B[0m\u001B[1;33m\u001B[0m\u001B[0m\n",
      "\u001B[1;32m~\\PycharmProjects\\AOFBot\\lib\\site-packages\\optuna\\study\\_optimize.py\u001B[0m in \u001B[0;36m_run_trial\u001B[1;34m(study, func, catch)\u001B[0m\n\u001B[0;32m    232\u001B[0m         \u001B[1;32mand\u001B[0m \u001B[1;32mnot\u001B[0m \u001B[0misinstance\u001B[0m\u001B[1;33m(\u001B[0m\u001B[0mfunc_err\u001B[0m\u001B[1;33m,\u001B[0m \u001B[0mcatch\u001B[0m\u001B[1;33m)\u001B[0m\u001B[1;33m\u001B[0m\u001B[1;33m\u001B[0m\u001B[0m\n\u001B[0;32m    233\u001B[0m     ):\n\u001B[1;32m--> 234\u001B[1;33m         \u001B[1;32mraise\u001B[0m \u001B[0mfunc_err\u001B[0m\u001B[1;33m\u001B[0m\u001B[1;33m\u001B[0m\u001B[0m\n\u001B[0m\u001B[0;32m    235\u001B[0m     \u001B[1;32mreturn\u001B[0m \u001B[0mfrozen_trial\u001B[0m\u001B[1;33m\u001B[0m\u001B[1;33m\u001B[0m\u001B[0m\n\u001B[0;32m    236\u001B[0m \u001B[1;33m\u001B[0m\u001B[0m\n",
      "\u001B[1;32m~\\PycharmProjects\\AOFBot\\lib\\site-packages\\optuna\\study\\_optimize.py\u001B[0m in \u001B[0;36m_run_trial\u001B[1;34m(study, func, catch)\u001B[0m\n\u001B[0;32m    194\u001B[0m     \u001B[1;32mwith\u001B[0m \u001B[0mget_heartbeat_thread\u001B[0m\u001B[1;33m(\u001B[0m\u001B[0mtrial\u001B[0m\u001B[1;33m.\u001B[0m\u001B[0m_trial_id\u001B[0m\u001B[1;33m,\u001B[0m \u001B[0mstudy\u001B[0m\u001B[1;33m.\u001B[0m\u001B[0m_storage\u001B[0m\u001B[1;33m)\u001B[0m\u001B[1;33m:\u001B[0m\u001B[1;33m\u001B[0m\u001B[1;33m\u001B[0m\u001B[0m\n\u001B[0;32m    195\u001B[0m         \u001B[1;32mtry\u001B[0m\u001B[1;33m:\u001B[0m\u001B[1;33m\u001B[0m\u001B[1;33m\u001B[0m\u001B[0m\n\u001B[1;32m--> 196\u001B[1;33m             \u001B[0mvalue_or_values\u001B[0m \u001B[1;33m=\u001B[0m \u001B[0mfunc\u001B[0m\u001B[1;33m(\u001B[0m\u001B[0mtrial\u001B[0m\u001B[1;33m)\u001B[0m\u001B[1;33m\u001B[0m\u001B[1;33m\u001B[0m\u001B[0m\n\u001B[0m\u001B[0;32m    197\u001B[0m         \u001B[1;32mexcept\u001B[0m \u001B[0mexceptions\u001B[0m\u001B[1;33m.\u001B[0m\u001B[0mTrialPruned\u001B[0m \u001B[1;32mas\u001B[0m \u001B[0me\u001B[0m\u001B[1;33m:\u001B[0m\u001B[1;33m\u001B[0m\u001B[1;33m\u001B[0m\u001B[0m\n\u001B[0;32m    198\u001B[0m             \u001B[1;31m# TODO(mamu): Handle multi-objective cases.\u001B[0m\u001B[1;33m\u001B[0m\u001B[1;33m\u001B[0m\u001B[1;33m\u001B[0m\u001B[0m\n",
      "\u001B[1;32m<ipython-input-2-f2b6b0ead7c7>\u001B[0m in \u001B[0;36moptuna_optimize_algorithm\u001B[1;34m(trial)\u001B[0m\n\u001B[0;32m     10\u001B[0m     regret_list, regret_mix_list = run_algorithm(d=d, r=r, m=m, sigma_type=sigma_type, s_type=s_type, times=times,\n\u001B[0;32m     11\u001B[0m                                                  \u001B[0md_sigma\u001B[0m\u001B[1;33m=\u001B[0m\u001B[0md_sigma\u001B[0m\u001B[1;33m,\u001B[0m \u001B[0mT_r\u001B[0m\u001B[1;33m=\u001B[0m\u001B[0mT_r\u001B[0m\u001B[1;33m,\u001B[0m \u001B[0mbeta_f\u001B[0m\u001B[1;33m=\u001B[0m\u001B[0mbeta_f\u001B[0m\u001B[1;33m,\u001B[0m \u001B[0mbeta_r\u001B[0m\u001B[1;33m=\u001B[0m\u001B[0mbeta_r\u001B[0m\u001B[1;33m,\u001B[0m \u001B[0mlr_f\u001B[0m\u001B[1;33m=\u001B[0m\u001B[0mlr_f\u001B[0m\u001B[1;33m,\u001B[0m \u001B[0mlr_r\u001B[0m\u001B[1;33m=\u001B[0m\u001B[0mlr_r\u001B[0m\u001B[1;33m,\u001B[0m\u001B[1;33m\u001B[0m\u001B[1;33m\u001B[0m\u001B[0m\n\u001B[1;32m---> 12\u001B[1;33m                                                  avg_frac_r=avg_frac, stop_frac_r=stop_frac)\n\u001B[0m\u001B[0;32m     13\u001B[0m \u001B[1;33m\u001B[0m\u001B[0m\n\u001B[0;32m     14\u001B[0m     \u001B[1;32mreturn\u001B[0m \u001B[0msum\u001B[0m\u001B[1;33m(\u001B[0m\u001B[0mabs\u001B[0m\u001B[1;33m(\u001B[0m\u001B[0mnp\u001B[0m\u001B[1;33m.\u001B[0m\u001B[0mlog\u001B[0m\u001B[1;33m(\u001B[0m\u001B[0mregret_list\u001B[0m\u001B[1;33m.\u001B[0m\u001B[0mmin\u001B[0m\u001B[1;33m(\u001B[0m\u001B[0maxis\u001B[0m\u001B[1;33m=\u001B[0m\u001B[1;36m1\u001B[0m\u001B[1;33m)\u001B[0m \u001B[1;33m/\u001B[0m \u001B[0mregret_mix_list\u001B[0m\u001B[1;33m)\u001B[0m\u001B[1;33m)\u001B[0m\u001B[1;33m)\u001B[0m\u001B[1;33m\u001B[0m\u001B[1;33m\u001B[0m\u001B[0m\n",
      "\u001B[1;32m~\\Desktop\\masters\\thesis material\\paper-optimization-algorithm\\mse\\steps.py\u001B[0m in \u001B[0;36mrun_algorithm\u001B[1;34m(d, r, m, sigma_type, s_type, times, d_sigma, T_r, beta_f, beta_r, lr_f, lr_r, avg_frac_r, stop_frac_r)\u001B[0m\n\u001B[0;32m    177\u001B[0m         R, f, regrets = algorithm(sigma=sigma, S=get_pdm(d=d, type=matrix_type.IDENTITY), m=m, r=r, T_r=T_r,\n\u001B[0;32m    178\u001B[0m                                   \u001B[0mbeta_f\u001B[0m\u001B[1;33m=\u001B[0m\u001B[0mbeta_f\u001B[0m\u001B[1;33m,\u001B[0m \u001B[0mbeta_r\u001B[0m\u001B[1;33m=\u001B[0m\u001B[0mbeta_r\u001B[0m\u001B[1;33m,\u001B[0m \u001B[0mlr_f\u001B[0m\u001B[1;33m=\u001B[0m\u001B[0mlr_f\u001B[0m\u001B[1;33m,\u001B[0m \u001B[0mlr_r\u001B[0m\u001B[1;33m=\u001B[0m\u001B[0mlr_r\u001B[0m\u001B[1;33m,\u001B[0m\u001B[1;33m\u001B[0m\u001B[1;33m\u001B[0m\u001B[0m\n\u001B[1;32m--> 179\u001B[1;33m                                   avg_frac_r=avg_frac_r, stop_frac_r=stop_frac_r)\n\u001B[0m\u001B[0;32m    180\u001B[0m \u001B[1;33m\u001B[0m\u001B[0m\n\u001B[0;32m    181\u001B[0m         \u001B[0mregret_list\u001B[0m\u001B[1;33m[\u001B[0m\u001B[0mi\u001B[0m\u001B[1;33m,\u001B[0m \u001B[1;33m:\u001B[0m\u001B[1;33m]\u001B[0m \u001B[1;33m=\u001B[0m \u001B[0mnp\u001B[0m\u001B[1;33m.\u001B[0m\u001B[0marray\u001B[0m\u001B[1;33m(\u001B[0m\u001B[0mregrets\u001B[0m\u001B[1;33m)\u001B[0m\u001B[1;33m\u001B[0m\u001B[1;33m\u001B[0m\u001B[0m\n",
      "\u001B[1;32m~\\Desktop\\masters\\thesis material\\paper-optimization-algorithm\\mse\\steps.py\u001B[0m in \u001B[0;36malgorithm\u001B[1;34m(sigma, S, m, r, beta_f, beta_r, T_r, lr_f, lr_r, avg_frac_r, stop_frac_r)\u001B[0m\n\u001B[0;32m    147\u001B[0m         new_R, p, o = find_new_R(sigma=sigma, R=R, f=f, T=T_r,\n\u001B[0;32m    148\u001B[0m                                  \u001B[0mlr\u001B[0m\u001B[1;33m=\u001B[0m\u001B[0mlr_r\u001B[0m\u001B[1;33m,\u001B[0m \u001B[0mbeta_r\u001B[0m\u001B[1;33m=\u001B[0m\u001B[0mbeta_r\u001B[0m\u001B[1;33m,\u001B[0m \u001B[0mbeta_f\u001B[0m\u001B[1;33m=\u001B[0m\u001B[0mbeta_f\u001B[0m\u001B[1;33m,\u001B[0m\u001B[1;33m\u001B[0m\u001B[1;33m\u001B[0m\u001B[0m\n\u001B[1;32m--> 149\u001B[1;33m                                  stop_frac=stop_frac_r, avg_frac=avg_frac_r)\n\u001B[0m\u001B[0;32m    150\u001B[0m         \u001B[0mnew_R\u001B[0m \u001B[1;33m=\u001B[0m \u001B[0mnp\u001B[0m\u001B[1;33m.\u001B[0m\u001B[0mreal\u001B[0m\u001B[1;33m(\u001B[0m\u001B[0mnew_R\u001B[0m\u001B[1;33m)\u001B[0m\u001B[1;33m\u001B[0m\u001B[1;33m\u001B[0m\u001B[0m\n\u001B[0;32m    151\u001B[0m         \u001B[0mR\u001B[0m\u001B[1;33m.\u001B[0m\u001B[0mappend\u001B[0m\u001B[1;33m(\u001B[0m\u001B[0mnew_R\u001B[0m\u001B[1;33m)\u001B[0m\u001B[1;33m\u001B[0m\u001B[1;33m\u001B[0m\u001B[0m\n",
      "\u001B[1;32m~\\Desktop\\masters\\thesis material\\paper-optimization-algorithm\\mse\\steps.py\u001B[0m in \u001B[0;36mfind_new_R\u001B[1;34m(sigma, R, f, T, beta_f, beta_r, avg_frac, stop_frac, lr)\u001B[0m\n\u001B[0;32m     88\u001B[0m \u001B[1;33m\u001B[0m\u001B[0m\n\u001B[0;32m     89\u001B[0m         \u001B[0mQ\u001B[0m \u001B[1;33m=\u001B[0m \u001B[0moptimal_Q\u001B[0m\u001B[1;33m(\u001B[0m\u001B[0msigma\u001B[0m\u001B[1;33m=\u001B[0m\u001B[0msigma\u001B[0m\u001B[1;33m,\u001B[0m \u001B[0mR\u001B[0m\u001B[1;33m=\u001B[0m\u001B[0mR_pool\u001B[0m\u001B[1;33m,\u001B[0m \u001B[0mf\u001B[0m\u001B[1;33m=\u001B[0m\u001B[0mf\u001B[0m\u001B[1;33m)\u001B[0m\u001B[1;33m\u001B[0m\u001B[1;33m\u001B[0m\u001B[0m\n\u001B[1;32m---> 90\u001B[1;33m         \u001B[0mL\u001B[0m \u001B[1;33m=\u001B[0m \u001B[0mcalc_loss_matrix\u001B[0m\u001B[1;33m(\u001B[0m\u001B[0msigma\u001B[0m\u001B[1;33m=\u001B[0m\u001B[0msigma\u001B[0m\u001B[1;33m,\u001B[0m \u001B[0mR\u001B[0m\u001B[1;33m=\u001B[0m\u001B[0mR_pool\u001B[0m\u001B[1;33m,\u001B[0m \u001B[0mQ\u001B[0m\u001B[1;33m=\u001B[0m\u001B[0mQ\u001B[0m\u001B[1;33m,\u001B[0m \u001B[0mf\u001B[0m\u001B[1;33m=\u001B[0m\u001B[0mf\u001B[0m\u001B[1;33m)\u001B[0m\u001B[1;33m\u001B[0m\u001B[1;33m\u001B[0m\u001B[0m\n\u001B[0m\u001B[0;32m     91\u001B[0m \u001B[1;33m\u001B[0m\u001B[0m\n\u001B[0;32m     92\u001B[0m         \u001B[1;32mif\u001B[0m \u001B[0mt\u001B[0m \u001B[1;33m<\u001B[0m \u001B[0mT_stop\u001B[0m\u001B[1;33m:\u001B[0m\u001B[1;33m\u001B[0m\u001B[1;33m\u001B[0m\u001B[0m\n",
      "\u001B[1;32m~\\Desktop\\masters\\thesis material\\paper-optimization-algorithm\\mse\\utils.py\u001B[0m in \u001B[0;36mcalc_loss_matrix\u001B[1;34m(sigma, R, Q, f)\u001B[0m\n\u001B[0;32m     53\u001B[0m \u001B[1;33m\u001B[0m\u001B[0m\n\u001B[0;32m     54\u001B[0m \u001B[1;32mdef\u001B[0m \u001B[0mcalc_loss_matrix\u001B[0m\u001B[1;33m(\u001B[0m\u001B[0msigma\u001B[0m\u001B[1;33m,\u001B[0m \u001B[0mR\u001B[0m\u001B[1;33m,\u001B[0m \u001B[0mQ\u001B[0m\u001B[1;33m,\u001B[0m \u001B[0mf\u001B[0m\u001B[1;33m)\u001B[0m\u001B[1;33m:\u001B[0m\u001B[1;33m\u001B[0m\u001B[1;33m\u001B[0m\u001B[0m\n\u001B[1;32m---> 55\u001B[1;33m     \u001B[0mlosses_matrix\u001B[0m \u001B[1;33m=\u001B[0m \u001B[0mnp\u001B[0m\u001B[1;33m.\u001B[0m\u001B[0mzeros\u001B[0m\u001B[1;33m(\u001B[0m\u001B[1;33m[\u001B[0m\u001B[0mlen\u001B[0m\u001B[1;33m(\u001B[0m\u001B[0mR\u001B[0m\u001B[1;33m)\u001B[0m\u001B[1;33m,\u001B[0m \u001B[0mlen\u001B[0m\u001B[1;33m(\u001B[0m\u001B[0mf\u001B[0m\u001B[1;33m)\u001B[0m\u001B[1;33m]\u001B[0m\u001B[1;33m)\u001B[0m\u001B[1;33m\u001B[0m\u001B[1;33m\u001B[0m\u001B[0m\n\u001B[0m\u001B[0;32m     56\u001B[0m     \u001B[1;32mfor\u001B[0m \u001B[0mj\u001B[0m \u001B[1;32min\u001B[0m \u001B[0mrange\u001B[0m\u001B[1;33m(\u001B[0m\u001B[0mlen\u001B[0m\u001B[1;33m(\u001B[0m\u001B[0mR\u001B[0m\u001B[1;33m)\u001B[0m\u001B[1;33m)\u001B[0m\u001B[1;33m:\u001B[0m\u001B[1;33m\u001B[0m\u001B[1;33m\u001B[0m\u001B[0m\n\u001B[0;32m     57\u001B[0m         \u001B[0mR_j\u001B[0m \u001B[1;33m=\u001B[0m \u001B[0mR\u001B[0m\u001B[1;33m[\u001B[0m\u001B[0mj\u001B[0m\u001B[1;33m]\u001B[0m\u001B[1;33m\u001B[0m\u001B[1;33m\u001B[0m\u001B[0m\n",
      "\u001B[1;31mKeyboardInterrupt\u001B[0m: "
     ]
    }
   ],
   "source": [
    "d = 20\n",
    "r = 3\n",
    "m = 20\n",
    "T_r = 100\n",
    "times = 10\n",
    "d_sigma = 3\n",
    "sigma_type = matrix_type.DIAG\n",
    "s_type = matrix_type.IDENTITY\n",
    "\n",
    "name = f\"optuna_optimization_d={d}_r={r}_sigma={sigma_type}_s={s_type}_m={m}_Tr={T_r}_var={d_sigma}\"\n",
    "study = optuna.create_study(study_name=f'{name}',\n",
    "                            storage=f'sqlite:///./../optuna/{name}.db ',\n",
    "                            direction='minimize', load_if_exists=True)\n",
    "study.optimize(optuna_optimize_algorithm, n_trials=100)"
   ],
   "metadata": {
    "collapsed": false,
    "pycharm": {
     "name": "#%%\n"
    }
   }
  },
  {
   "cell_type": "code",
   "execution_count": null,
   "outputs": [],
   "source": [
    "\n"
   ],
   "metadata": {
    "collapsed": false,
    "pycharm": {
     "name": "#%%\n"
    }
   }
  }
 ],
 "metadata": {
  "kernelspec": {
   "name": "pycharm-4f6c12d3",
   "language": "python",
   "display_name": "PyCharm (paper-optimization-algorithm)"
  },
  "language_info": {
   "codemirror_mode": {
    "name": "ipython",
    "version": 2
   },
   "file_extension": ".py",
   "mimetype": "text/x-python",
   "name": "python",
   "nbconvert_exporter": "python",
   "pygments_lexer": "ipython2",
   "version": "2.7.6"
  }
 },
 "nbformat": 4,
 "nbformat_minor": 0
}