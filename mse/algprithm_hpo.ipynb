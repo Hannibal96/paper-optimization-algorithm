{
 "cells": [
  {
   "cell_type": "code",
   "execution_count": 1,
   "metadata": {
    "collapsed": true
   },
   "outputs": [],
   "source": [
    "import numpy as np\n",
    "\n",
    "from steps import *\n",
    "from tqdm import tqdm\n",
    "from optimal import *\n",
    "import matplotlib.pyplot as plt\n",
    "import optuna\n",
    "import warnings\n",
    "warnings.filterwarnings(\"error\")"
   ]
  },
  {
   "cell_type": "code",
   "execution_count": 2,
   "outputs": [],
   "source": [
    "def optuna_optimize_algorithm(trial):\n",
    "\n",
    "    beta_f = trial.suggest_float('beta_f', 0.5, 0.99)\n",
    "    beta_r = trial.suggest_float('beta_r', 0.5, 0.99)\n",
    "    lr_f = trial.suggest_float('lr_f', 0, 1.0)\n",
    "    lr_r = trial.suggest_float('lr_r', 0, 1.0)\n",
    "    stop_frac = trial.suggest_int('stop_frac_r', 1, 10)\n",
    "    avg_frac = trial.suggest_int('avg_frac_r', stop_frac, 10)\n",
    "\n",
    "    regret_list, regret_mix_list = run_algorithm(d=d, r=r, m=m, sigma_type=sigma_type, s_type=s_type, times=times,\n",
    "                                                 d_sigma=d_sigma, T_r=T_r, beta_f=beta_f, beta_r=beta_r, lr_f=lr_f, lr_r=lr_r,\n",
    "                                                 avg_frac_r=avg_frac, stop_frac_r=stop_frac)\n",
    "\n",
    "    return sum(abs(np.log(regret_list.min(axis=1) / regret_mix_list)))"
   ],
   "metadata": {
    "collapsed": false,
    "pycharm": {
     "name": "#%%\n"
    }
   }
  },
  {
   "cell_type": "code",
   "execution_count": null,
   "outputs": [
    {
     "name": "stderr",
     "output_type": "stream",
     "text": [
      "\u001B[32m[I 2023-05-12 10:26:43,264]\u001B[0m Using an existing study with name 'optuna_optimization_d=20_r=5_sigma=matrix_type.DIAG_s=matrix_type.IDENTITY_m=20_Tr=100_var=1' instead of creating a new one.\u001B[0m\n"
     ]
    },
    {
     "name": "stdout",
     "output_type": "stream",
     "text": [
      "l_star=10 ; regret_mix=0.5349775948343984 ; last_regret=0.6746172503566914\n",
      "l_star=12 ; regret_mix=0.6646525961708842 ; last_regret=0.8273214876692786\n",
      "l_star=11 ; regret_mix=0.29006682867384537 ; last_regret=0.3796294855865638\n",
      "l_star=9 ; regret_mix=0.5277819739209787 ; last_regret=0.6712383036154114\n",
      "l_star=10 ; regret_mix=0.45293724496098126 ; last_regret=0.5720116041658841\n",
      "l_star=12 ; regret_mix=0.6531708488048912 ; last_regret=0.8119023069440903\n",
      "l_star=8 ; regret_mix=0.4198729175564133 ; last_regret=0.5506465294727648\n",
      "l_star=10 ; regret_mix=0.7033530070060997 ; last_regret=0.9190083664254127\n",
      "l_star=12 ; regret_mix=0.6755747819157254 ; last_regret=0.8681933448177104\n",
      "l_star=10 ; regret_mix=0.696946309934115 ; "
     ]
    },
    {
     "name": "stderr",
     "output_type": "stream",
     "text": [
      "\u001B[32m[I 2023-05-12 10:31:16,366]\u001B[0m Trial 6 finished with value: 2.418679009761681 and parameters: {'beta_f': 0.6881592550569285, 'beta_r': 0.7717945809353414, 'lr_f': 0.17222768659447696, 'lr_r': 0.5791846644056778, 'stop_frac_r': 2, 'avg_frac_r': 9}. Best is trial 6 with value: 2.418679009761681.\u001B[0m\n"
     ]
    },
    {
     "name": "stdout",
     "output_type": "stream",
     "text": [
      "last_regret=0.8666521249480038\n",
      "l_star=10 ; regret_mix=0.581852760469934 ; last_regret=0.8238780414918477\n",
      "l_star=12 ; regret_mix=0.6985098022577543 ; last_regret=0.8796148919878505\n",
      "l_star=12 ; regret_mix=0.6662508521407033 ; last_regret=0.875108770374665\n",
      "l_star=11 ; regret_mix=0.7335451579718388 ; last_regret=0.980734481753073\n",
      "l_star=12 ; regret_mix=0.6909885200545579 ; last_regret=0.8615542815496519\n",
      "l_star=10 ; regret_mix=0.6318014027155804 ; last_regret=0.838854290897035\n",
      "l_star=11 ; regret_mix=0.6732254217061682 ; last_regret=0.972448907487572\n",
      "l_star=13 ; regret_mix=0.5845368112143157 ; last_regret=0.7510917264823427\n",
      "l_star=11 ; regret_mix=0.6257478862279294 ; last_regret=0.8638057820327001\n",
      "l_star=10 ; regret_mix=0.5978937064660083 ; "
     ]
    },
    {
     "name": "stderr",
     "output_type": "stream",
     "text": [
      "\u001B[32m[I 2023-05-12 10:35:22,617]\u001B[0m Trial 7 finished with value: 2.9238785369198927 and parameters: {'beta_f': 0.6733526681722681, 'beta_r': 0.6001444455441322, 'lr_f': 0.6999464021888638, 'lr_r': 0.9052966726618631, 'stop_frac_r': 4, 'avg_frac_r': 5}. Best is trial 6 with value: 2.418679009761681.\u001B[0m\n"
     ]
    },
    {
     "name": "stdout",
     "output_type": "stream",
     "text": [
      "last_regret=0.8379298835703184\n",
      "l_star=11 ; regret_mix=0.600326803182475 ; last_regret=0.8161632445666156\n",
      "l_star=12 ; regret_mix=0.579075931284147 ; last_regret=0.7810703315970382\n",
      "l_star=10 ; regret_mix=0.5782530344809691 ; last_regret=0.8625082899605129\n",
      "l_star=8 ; regret_mix=0.4589276348485841 ; last_regret=0.7174154067218367\n",
      "l_star=12 ; regret_mix=0.7022059500441902 ; last_regret=0.9791796428175149\n",
      "l_star=10 ; regret_mix=0.553022438578785 ; last_regret=0.7804708895492123\n",
      "l_star=8 ; regret_mix=0.5647747357784528 ; last_regret=0.8629258680566881\n",
      "l_star=11 ; regret_mix=0.6740497357038594 ; last_regret=0.9228522575514766\n",
      "l_star=10 ; regret_mix=0.5699264659105385 ; last_regret=0.7798702797245171\n",
      "l_star=10 ; regret_mix=0.5393429227181371 ; "
     ]
    },
    {
     "name": "stderr",
     "output_type": "stream",
     "text": [
      "\u001B[32m[I 2023-05-12 10:39:34,740]\u001B[0m Trial 8 finished with value: 3.545683954141429 and parameters: {'beta_f': 0.9894936675957688, 'beta_r': 0.5596751414675389, 'lr_f': 0.2531151675057738, 'lr_r': 0.9887089624152718, 'stop_frac_r': 7, 'avg_frac_r': 7}. Best is trial 6 with value: 2.418679009761681.\u001B[0m\n"
     ]
    },
    {
     "name": "stdout",
     "output_type": "stream",
     "text": [
      "last_regret=0.7761869776250182\n",
      "l_star=12 ; regret_mix=0.7159813588978587 ; last_regret=0.9230146215430037\n",
      "l_star=10 ; regret_mix=0.5953458158279548 ; last_regret=0.8243385183227129\n",
      "l_star=9 ; regret_mix=0.6873526803793464 ; last_regret=0.9157096068296753\n",
      "l_star=8 ; regret_mix=0.42008778089225873 ; last_regret=0.5654166477816217\n",
      "l_star=10 ; regret_mix=0.5510000822603465 ; last_regret=0.6865640986266199\n",
      "l_star=11 ; regret_mix=0.611380160956119 ; last_regret=0.8325755135194376\n",
      "l_star=8 ; regret_mix=0.5493145299845036 ; last_regret=0.7051295881093378\n",
      "l_star=11 ; regret_mix=0.6499080488118867 ; last_regret=0.8012694910854445\n",
      "l_star=11 ; regret_mix=0.6004461280111949 ; last_regret=0.7550904651195977\n",
      "l_star=13 ; regret_mix=0.7369057284601988 ; "
     ]
    },
    {
     "name": "stderr",
     "output_type": "stream",
     "text": [
      "\u001B[32m[I 2023-05-12 10:44:35,940]\u001B[0m Trial 9 finished with value: 2.648620298490796 and parameters: {'beta_f': 0.7141433606011327, 'beta_r': 0.769003332893274, 'lr_f': 0.043335656619735485, 'lr_r': 0.7696941412929457, 'stop_frac_r': 8, 'avg_frac_r': 9}. Best is trial 6 with value: 2.418679009761681.\u001B[0m\n"
     ]
    },
    {
     "name": "stdout",
     "output_type": "stream",
     "text": [
      "last_regret=0.9636117317199551\n",
      "l_star=9 ; regret_mix=0.5141022125506789 ; last_regret=0.72947383531832\n",
      "l_star=12 ; regret_mix=0.6180032109431369 ; last_regret=0.7970380393382492\n",
      "l_star=9 ; regret_mix=0.6858895705278772 ; last_regret=0.9912101721501719\n",
      "l_star=10 ; regret_mix=0.6173908449666505 ; last_regret=0.9078025550763354\n",
      "l_star=13 ; regret_mix=0.6516819536356365 ; last_regret=0.8916014094846664\n",
      "l_star=12 ; regret_mix=0.725527836284748 ; last_regret=0.9733468135218121\n",
      "l_star=9 ; regret_mix=0.596083290878346 ; last_regret=0.8773329187997256\n",
      "l_star=11 ; regret_mix=0.5780964268477182 ; last_regret=0.8461515393388361\n",
      "l_star=9 ; regret_mix=0.6124346516142568 ; last_regret=0.904002199795648\n",
      "l_star=12 ; regret_mix=0.5765907226356196 ; "
     ]
    },
    {
     "name": "stderr",
     "output_type": "stream",
     "text": [
      "\u001B[32m[I 2023-05-12 10:49:13,213]\u001B[0m Trial 10 finished with value: 3.4128715551001374 and parameters: {'beta_f': 0.6168637523654423, 'beta_r': 0.7308300025748404, 'lr_f': 0.560299638939621, 'lr_r': 0.3778744005382443, 'stop_frac_r': 1, 'avg_frac_r': 1}. Best is trial 6 with value: 2.418679009761681.\u001B[0m\n"
     ]
    },
    {
     "name": "stdout",
     "output_type": "stream",
     "text": [
      "last_regret=0.7710880049510581\n",
      "l_star=12 ; regret_mix=0.6975112246225535 ; last_regret=0.8994475422562398\n",
      "l_star=11 ; regret_mix=0.6361082794195413 ; last_regret=0.8347765357440886\n",
      "l_star=9 ; regret_mix=0.5008430832962735 ; last_regret=0.770648185400624\n",
      "l_star=11 ; regret_mix=0.6671689736517273 ; last_regret=0.8523212230587882\n",
      "l_star=8 ; regret_mix=0.58554527840007 ; last_regret=0.8300263191179885\n",
      "l_star=10 ; regret_mix=0.5360423336547782 ; last_regret=0.7729836437360357\n",
      "l_star=10 ; regret_mix=0.41422389168416335 ; last_regret=0.6241282343927084\n",
      "l_star=9 ; regret_mix=0.6054825957190312 ; last_regret=0.8045923004150308\n",
      "l_star=13 ; regret_mix=0.6460640313487092 ; last_regret=0.8556916567296279\n",
      "l_star=11 ; regret_mix=0.5619525415026884 ; "
     ]
    },
    {
     "name": "stderr",
     "output_type": "stream",
     "text": [
      "\u001B[32m[I 2023-05-12 10:53:42,117]\u001B[0m Trial 11 finished with value: 3.243311800674095 and parameters: {'beta_f': 0.7338918947700881, 'beta_r': 0.8747407717245912, 'lr_f': 0.4449926008073257, 'lr_r': 0.5133771907257163, 'stop_frac_r': 1, 'avg_frac_r': 4}. Best is trial 6 with value: 2.418679009761681.\u001B[0m\n"
     ]
    },
    {
     "name": "stdout",
     "output_type": "stream",
     "text": [
      "last_regret=0.7983789362530324\n",
      "l_star=10 ; regret_mix=0.49845271856014123 ; last_regret=0.639104367561828\n",
      "l_star=12 ; regret_mix=0.7107193763429066 ; last_regret=0.9187673153774544\n",
      "l_star=11 ; regret_mix=0.6401475846455914 ; last_regret=0.8850021953338645\n",
      "l_star=10 ; regret_mix=0.5422609859920213 ; last_regret=0.7598670260354673\n",
      "l_star=10 ; regret_mix=0.6855072583469087 ; last_regret=0.934796441483936\n",
      "l_star=11 ; regret_mix=0.6073057466774888 ; last_regret=0.7877574225068001\n",
      "l_star=12 ; regret_mix=0.7173868204122522 ; last_regret=0.9176428544880326\n",
      "l_star=10 ; regret_mix=0.6531750064212957 ; last_regret=0.8466418186765562\n",
      "l_star=9 ; regret_mix=0.5530378426687802 ; last_regret=0.7997476082068093\n",
      "l_star=11 ; regret_mix=0.6782198916493948 ; "
     ]
    },
    {
     "name": "stderr",
     "output_type": "stream",
     "text": [
      "\u001B[32m[I 2023-05-12 10:58:56,897]\u001B[0m Trial 12 finished with value: 2.9307794773450806 and parameters: {'beta_f': 0.7442078395256453, 'beta_r': 0.637932845838973, 'lr_f': 0.03393026823789125, 'lr_r': 0.4050535919292392, 'stop_frac_r': 2, 'avg_frac_r': 5}. Best is trial 6 with value: 2.418679009761681.\u001B[0m\n"
     ]
    },
    {
     "name": "stdout",
     "output_type": "stream",
     "text": [
      "last_regret=0.9333930140181429\n",
      "l_star=11 ; regret_mix=0.6945994228225786 ; last_regret=1.0164575631102135\n",
      "l_star=12 ; regret_mix=0.695047610889417 ; last_regret=0.9342127233953219\n",
      "l_star=13 ; regret_mix=0.5730382846265826 ; last_regret=0.7646512586365459\n",
      "l_star=12 ; regret_mix=0.5674087573779074 ; last_regret=0.7336485371400702\n",
      "l_star=9 ; regret_mix=0.3856232021237097 ; last_regret=0.5031155839827148\n",
      "l_star=9 ; regret_mix=0.42591591748154395 ; last_regret=0.5941151335098793\n",
      "l_star=10 ; regret_mix=0.6601921384727852 ; last_regret=0.8812904359953998\n",
      "l_star=12 ; regret_mix=0.561921503448019 ; last_regret=0.8071232328131355\n",
      "l_star=13 ; regret_mix=0.6684463537875521 ; last_regret=0.884003511754609\n",
      "l_star=11 ; regret_mix=0.7084188391825579 ; "
     ]
    },
    {
     "name": "stderr",
     "output_type": "stream",
     "text": [
      "\u001B[32m[I 2023-05-12 11:03:24,775]\u001B[0m Trial 13 finished with value: 3.1157404910116546 and parameters: {'beta_f': 0.6782150203359609, 'beta_r': 0.7369078907103758, 'lr_f': 0.7616111815118205, 'lr_r': 0.3456717717454564, 'stop_frac_r': 9, 'avg_frac_r': 9}. Best is trial 6 with value: 2.418679009761681.\u001B[0m\n"
     ]
    },
    {
     "name": "stdout",
     "output_type": "stream",
     "text": [
      "last_regret=1.0200687957131005\n",
      "l_star=10 ; regret_mix=0.689373145805213 ; last_regret=0.9100038666979912\n",
      "l_star=10 ; regret_mix=0.5864625474784546 ; last_regret=0.7945525832101434\n",
      "l_star=11 ; regret_mix=0.6500422969783433 ; last_regret=0.9239574022784864\n",
      "l_star=10 ; regret_mix=0.6964992831533766 ; last_regret=0.926779590162374\n",
      "l_star=13 ; regret_mix=0.6560141403340999 ; last_regret=0.8390688140440543\n",
      "l_star=10 ; regret_mix=0.6172099514920704 ; last_regret=0.8702360738810828\n",
      "l_star=11 ; regret_mix=0.5024370459655779 ; last_regret=0.6435045064968825\n",
      "l_star=10 ; regret_mix=0.6266388830940465 ; last_regret=0.9299705288079952\n",
      "l_star=9 ; regret_mix=0.5641078394161811 ; last_regret=0.7626773258805921\n",
      "l_star=13 ; regret_mix=0.6838259471308611 ; "
     ]
    },
    {
     "name": "stderr",
     "output_type": "stream",
     "text": [
      "\u001B[32m[I 2023-05-12 11:08:03,918]\u001B[0m Trial 14 finished with value: 3.0356458225371674 and parameters: {'beta_f': 0.5326227195966616, 'beta_r': 0.81535785028508, 'lr_f': 0.09207777641020787, 'lr_r': 0.7182700748588233, 'stop_frac_r': 1, 'avg_frac_r': 8}. Best is trial 6 with value: 2.418679009761681.\u001B[0m\n"
     ]
    },
    {
     "name": "stdout",
     "output_type": "stream",
     "text": [
      "last_regret=0.9079949243160967\n",
      "l_star=12 ; regret_mix=0.5678624966968147 ; last_regret=0.6559860825288305\n",
      "l_star=10 ; regret_mix=0.4610244418823162 ; last_regret=0.5640398570802148\n",
      "l_star=11 ; regret_mix=0.4820956558759333 ; last_regret=0.6010265038053944\n",
      "l_star=11 ; regret_mix=0.6631605020307263 ; last_regret=0.7724880574470275\n",
      "l_star=11 ; regret_mix=0.6923947691834148 ; last_regret=0.848015346191594\n",
      "l_star=10 ; regret_mix=0.6959172460344626 ; last_regret=0.8249933068724504\n",
      "l_star=12 ; regret_mix=0.6243120145620108 ; last_regret=0.7414561662326355\n",
      "l_star=10 ; regret_mix=0.65515688712642 ; last_regret=0.7927908659865187\n",
      "l_star=9 ; regret_mix=0.6373155147946815 ; last_regret=0.7863458960074979\n",
      "l_star=13 ; regret_mix=0.6308649651754574 ; "
     ]
    },
    {
     "name": "stderr",
     "output_type": "stream",
     "text": [
      "\u001B[32m[I 2023-05-12 11:12:23,105]\u001B[0m Trial 15 finished with value: 1.833268914915652 and parameters: {'beta_f': 0.6565110761164294, 'beta_r': 0.9106201003729022, 'lr_f': 0.718767481931399, 'lr_r': 0.9042853447140299, 'stop_frac_r': 9, 'avg_frac_r': 9}. Best is trial 15 with value: 1.833268914915652.\u001B[0m\n"
     ]
    },
    {
     "name": "stdout",
     "output_type": "stream",
     "text": [
      "last_regret=0.7466983058192328\n",
      "l_star=11 ; regret_mix=0.6155955347557784 ; last_regret=0.9902250356487939\n",
      "l_star=9 ; regret_mix=0.5590654617810769 ; last_regret=0.8094697511027689\n",
      "l_star=11 ; regret_mix=0.5582089026546692 ; last_regret=0.8509208358830952\n",
      "l_star=13 ; regret_mix=0.6330713933520064 ; last_regret=0.944791151279539\n",
      "l_star=11 ; regret_mix=0.6468510082992728 ; last_regret=0.9731606494896579\n",
      "l_star=12 ; regret_mix=0.6629946046248765 ; last_regret=0.9332507293631057\n",
      "l_star=11 ; regret_mix=0.5290898081651316 ; last_regret=0.825143143944561\n",
      "l_star=10 ; regret_mix=0.5062679407783086 ; last_regret=0.8484045132050223\n",
      "l_star=12 ; regret_mix=0.5249634652356628 ; last_regret=0.7565156220810446\n",
      "l_star=10 ; regret_mix=0.6336114297292353 ; "
     ]
    },
    {
     "name": "stderr",
     "output_type": "stream",
     "text": [
      "\u001B[32m[I 2023-05-12 11:18:24,561]\u001B[0m Trial 16 finished with value: 4.165018590887396 and parameters: {'beta_f': 0.8899229799290025, 'beta_r': 0.9854429192115841, 'lr_f': 0.9850503359562491, 'lr_r': 0.10702993173072178, 'stop_frac_r': 10, 'avg_frac_r': 10}. Best is trial 15 with value: 1.833268914915652.\u001B[0m\n"
     ]
    },
    {
     "name": "stdout",
     "output_type": "stream",
     "text": [
      "last_regret=0.9654633148196649\n",
      "l_star=11 ; regret_mix=0.5619035639022516 ; last_regret=0.6596105731503394\n",
      "l_star=11 ; regret_mix=0.6422992265260835 ; last_regret=0.7746595771242757\n",
      "l_star=10 ; regret_mix=0.6401476604264215 ; last_regret=0.767476097342285\n",
      "l_star=10 ; regret_mix=0.5099478447718917 ; last_regret=0.6819905630681494\n",
      "l_star=10 ; regret_mix=0.6231261224924007 ; last_regret=0.7513492975120654\n",
      "l_star=11 ; regret_mix=0.6218981970295484 ; last_regret=0.7562457480491865\n",
      "l_star=11 ; regret_mix=0.6580377239778187 ; last_regret=0.800343121862988\n",
      "l_star=10 ; regret_mix=0.5448978910564929 ; last_regret=0.6892698389441962\n",
      "l_star=10 ; regret_mix=0.701446721944166 ; last_regret=0.877358406096813\n",
      "l_star=11 ; regret_mix=0.6564423230466705 ; "
     ]
    },
    {
     "name": "stderr",
     "output_type": "stream",
     "text": [
      "\u001B[32m[I 2023-05-12 11:22:53,745]\u001B[0m Trial 17 finished with value: 2.0396453071420284 and parameters: {'beta_f': 0.5496407758052337, 'beta_r': 0.931110460596241, 'lr_f': 0.3281619627957061, 'lr_r': 0.6823238918620848, 'stop_frac_r': 5, 'avg_frac_r': 10}. Best is trial 15 with value: 1.833268914915652.\u001B[0m\n"
     ]
    },
    {
     "name": "stdout",
     "output_type": "stream",
     "text": [
      "last_regret=0.7879073614619955\n",
      "l_star=9 ; regret_mix=0.685961209314399 ; last_regret=0.8373550727470337\n",
      "l_star=9 ; regret_mix=0.6186239637217984 ; last_regret=0.7733382335377978\n",
      "l_star=12 ; regret_mix=0.6859548353585697 ; last_regret=0.8429009261789326\n",
      "l_star=11 ; regret_mix=0.6502655891290471 ; last_regret=0.832300379618466\n",
      "l_star=9 ; regret_mix=0.5612085876659778 ; last_regret=0.6870275183546404\n",
      "l_star=11 ; regret_mix=0.5649983835251765 ; last_regret=0.6797814357226307\n",
      "l_star=12 ; regret_mix=0.6828686114341629 ; last_regret=0.8521635877911519\n",
      "l_star=9 ; regret_mix=0.6655465634610178 ; last_regret=0.8353779872809386\n",
      "l_star=11 ; regret_mix=0.6109096647391664 ; last_regret=0.77000399612412\n",
      "l_star=14 ; regret_mix=0.7560340800665758 ; "
     ]
    },
    {
     "name": "stderr",
     "output_type": "stream",
     "text": [
      "\u001B[32m[I 2023-05-12 11:27:19,737]\u001B[0m Trial 18 finished with value: 2.080870618678449 and parameters: {'beta_f': 0.5018481195900706, 'beta_r': 0.9721601949303438, 'lr_f': 0.3681425765475756, 'lr_r': 0.7846100178429746, 'stop_frac_r': 5, 'avg_frac_r': 10}. Best is trial 15 with value: 1.833268914915652.\u001B[0m\n"
     ]
    },
    {
     "name": "stdout",
     "output_type": "stream",
     "text": [
      "last_regret=0.8678616989200789\n",
      "l_star=12 ; regret_mix=0.3268504209063502 ; last_regret=0.40392937358703757\n",
      "l_star=10 ; regret_mix=0.6458611860936093 ; last_regret=0.8148955146083785\n",
      "l_star=10 ; regret_mix=0.700139034499955 ; last_regret=0.8769984933147106\n",
      "l_star=10 ; regret_mix=0.5353589259924874 ; last_regret=0.6516404037167383\n",
      "l_star=12 ; regret_mix=0.3354029722963265 ; last_regret=0.428273964944005\n",
      "l_star=11 ; regret_mix=0.6415931655514207 ; last_regret=0.7706464280701351\n",
      "l_star=12 ; regret_mix=0.5347018199370417 ; last_regret=0.65794492366979\n",
      "l_star=13 ; regret_mix=0.7447200211231669 ; last_regret=0.9211909897167796\n",
      "l_star=8 ; regret_mix=0.6003691206547188 ; last_regret=0.7612671531444017\n",
      "l_star=10 ; regret_mix=0.6897248811564248 ; "
     ]
    },
    {
     "name": "stderr",
     "output_type": "stream",
     "text": [
      "\u001B[32m[I 2023-05-12 11:31:44,457]\u001B[0m Trial 19 finished with value: 2.1515394975296913 and parameters: {'beta_f': 0.5929672705427617, 'beta_r': 0.8942525086309643, 'lr_f': 0.6204923631133783, 'lr_r': 0.6586530815069047, 'stop_frac_r': 6, 'avg_frac_r': 10}. Best is trial 15 with value: 1.833268914915652.\u001B[0m\n"
     ]
    },
    {
     "name": "stdout",
     "output_type": "stream",
     "text": [
      "last_regret=0.8427087449427736\n",
      "l_star=10 ; regret_mix=0.5471894381842738 ; last_regret=0.6513336678980519\n",
      "l_star=10 ; regret_mix=0.5178712916546905 ; last_regret=0.6350478195149486\n",
      "l_star=8 ; regret_mix=0.5017525788452519 ; last_regret=0.6152793977978114\n",
      "l_star=12 ; regret_mix=0.6610854749791093 ; last_regret=0.7898862898248508\n",
      "l_star=14 ; regret_mix=0.6949624616819823 ; last_regret=0.7946298200147779\n",
      "l_star=11 ; regret_mix=0.6303546638700951 ; last_regret=0.7607789725678948\n",
      "l_star=9 ; regret_mix=0.4293899447718877 ; last_regret=0.5309779574706669\n",
      "l_star=14 ; regret_mix=0.6992305061784091 ; last_regret=0.8195357449422036\n",
      "l_star=11 ; regret_mix=0.644346617121696 ; last_regret=0.8201644158282325\n",
      "l_star=10 ; regret_mix=0.6828235636583131 ; "
     ]
    },
    {
     "name": "stderr",
     "output_type": "stream",
     "text": [
      "\u001B[32m[I 2023-05-12 11:36:08,215]\u001B[0m Trial 20 finished with value: 1.8760815108675066 and parameters: {'beta_f': 0.8185196621225749, 'beta_r': 0.9121647118662595, 'lr_f': 0.9145671539276212, 'lr_r': 0.8607341064760288, 'stop_frac_r': 4, 'avg_frac_r': 8}. Best is trial 15 with value: 1.833268914915652.\u001B[0m\n"
     ]
    },
    {
     "name": "stdout",
     "output_type": "stream",
     "text": [
      "last_regret=0.8186714499448579\n",
      "l_star=10 ; regret_mix=0.5882037857002428 ; last_regret=0.7166531389435772\n",
      "l_star=11 ; regret_mix=0.6825688465098549 ; last_regret=0.8259888706069877\n",
      "l_star=11 ; regret_mix=0.37605733112177775 ; last_regret=0.46473537002025583\n",
      "l_star=10 ; regret_mix=0.6664455438368264 ; last_regret=0.8390755747101287\n",
      "l_star=11 ; regret_mix=0.6701919841070193 ; last_regret=0.8208021411376608\n",
      "l_star=11 ; regret_mix=0.6132520182600588 ; last_regret=0.759495947567747\n",
      "l_star=10 ; regret_mix=0.5628867237110545 ; last_regret=0.6849476476073647\n",
      "l_star=10 ; regret_mix=0.6169495534348872 ; last_regret=0.7581922957531319\n",
      "l_star=8 ; regret_mix=0.6435363206781953 ; last_regret=0.8091911563713695\n",
      "l_star=10 ; regret_mix=0.6308287500304683 ; "
     ]
    },
    {
     "name": "stderr",
     "output_type": "stream",
     "text": [
      "\u001B[32m[I 2023-05-12 11:40:26,079]\u001B[0m Trial 21 finished with value: 2.1036824165030454 and parameters: {'beta_f': 0.837324582527231, 'beta_r': 0.8549482632421095, 'lr_f': 0.9336249896504984, 'lr_r': 0.8750430260349917, 'stop_frac_r': 4, 'avg_frac_r': 7}. Best is trial 15 with value: 1.833268914915652.\u001B[0m\n"
     ]
    },
    {
     "name": "stdout",
     "output_type": "stream",
     "text": [
      "last_regret=0.7902459215966398\n",
      "l_star=13 ; regret_mix=0.6837611859553261 ; last_regret=0.8156952698845515\n",
      "l_star=10 ; regret_mix=0.7895672133548126 ; last_regret=0.9412026829157424\n",
      "l_star=12 ; regret_mix=0.6206926331192784 ; last_regret=0.7494213036714458\n",
      "l_star=11 ; regret_mix=0.6732819138224494 ; last_regret=0.7933451715158001\n",
      "l_star=13 ; regret_mix=0.6434216864661779 ; last_regret=0.7654616258470388\n",
      "l_star=10 ; regret_mix=0.6429434336135145 ; last_regret=0.7872791591494848\n",
      "l_star=10 ; regret_mix=0.6658849291592411 ; last_regret=0.815911299070283\n",
      "l_star=12 ; regret_mix=0.6443830198600892 ; last_regret=0.7645275534995963\n",
      "l_star=10 ; regret_mix=0.6407627897372105 ; last_regret=0.7625678574458988\n",
      "l_star=10 ; regret_mix=0.6576888448947571 ; "
     ]
    },
    {
     "name": "stderr",
     "output_type": "stream",
     "text": [
      "\u001B[32m[I 2023-05-12 11:44:46,169]\u001B[0m Trial 22 finished with value: 1.8152414152587473 and parameters: {'beta_f': 0.8291979149771032, 'beta_r': 0.9191354729836192, 'lr_f': 0.8346154154090913, 'lr_r': 0.9456304311424434, 'stop_frac_r': 7, 'avg_frac_r': 8}. Best is trial 22 with value: 1.8152414152587473.\u001B[0m\n"
     ]
    },
    {
     "name": "stdout",
     "output_type": "stream",
     "text": [
      "last_regret=0.7922820759236439\n",
      "l_star=10 ; regret_mix=0.6461598973445746 ; last_regret=0.7924511598003616\n",
      "l_star=12 ; regret_mix=0.5397527938225477 ; last_regret=0.6585592545688884\n",
      "l_star=12 ; regret_mix=0.68359268489421 ; last_regret=0.8749476716660786\n",
      "l_star=11 ; regret_mix=0.7580153439647995 ; last_regret=0.9850361401194929\n",
      "l_star=13 ; regret_mix=0.6269597788023179 ; last_regret=0.7542181639840636\n",
      "l_star=8 ; regret_mix=0.5108573272697782 ; last_regret=0.6597797852503676\n",
      "l_star=10 ; regret_mix=0.6573664349852063 ; last_regret=0.8154330091816197\n",
      "l_star=13 ; regret_mix=0.6446983370519137 ; last_regret=0.7934430437501513\n",
      "l_star=10 ; regret_mix=0.5677276236886581 ; last_regret=0.7288776821206695\n",
      "l_star=9 ; regret_mix=0.5356183271380861 ; "
     ]
    },
    {
     "name": "stderr",
     "output_type": "stream",
     "text": [
      "\u001B[32m[I 2023-05-12 11:48:54,578]\u001B[0m Trial 23 finished with value: 2.2990468513199516 and parameters: {'beta_f': 0.8088240713361196, 'beta_r': 0.8302399746650481, 'lr_f': 0.8465527259920524, 'lr_r': 0.9924445727856264, 'stop_frac_r': 8, 'avg_frac_r': 9}. Best is trial 22 with value: 1.8152414152587473.\u001B[0m\n"
     ]
    },
    {
     "name": "stdout",
     "output_type": "stream",
     "text": [
      "last_regret=0.7042327291308489\n",
      "l_star=11 ; regret_mix=0.6230312846706578 ; last_regret=0.9872954619313556\n",
      "l_star=9 ; regret_mix=0.3961210366176351 ; last_regret=0.6523140172921605\n",
      "l_star=10 ; regret_mix=0.4740864438677947 ; last_regret=0.7766942953868953\n",
      "l_star=10 ; regret_mix=0.7594444114945611 ; last_regret=1.0821117413591022\n",
      "l_star=11 ; regret_mix=0.6261417502829052 ; last_regret=0.9277114138633955\n",
      "l_star=8 ; regret_mix=0.5431555554697436 ; last_regret=0.8179067717600793\n",
      "l_star=11 ; regret_mix=0.6111196367829838 ; last_regret=0.9267628993798338\n",
      "l_star=10 ; regret_mix=0.6964530740423568 ; last_regret=1.0633841972385085\n",
      "l_star=10 ; regret_mix=0.6607782763018191 ; last_regret=1.0387026200484324\n",
      "l_star=12 ; regret_mix=0.7108191448839976 ; "
     ]
    },
    {
     "name": "stderr",
     "output_type": "stream",
     "text": [
      "\u001B[32m[I 2023-05-12 11:54:03,490]\u001B[0m Trial 24 finished with value: 4.206916071240134 and parameters: {'beta_f': 0.9284769520732439, 'beta_r': 0.6660306700743391, 'lr_f': 0.7627833404756879, 'lr_r': 0.10937970186216484, 'stop_frac_r': 10, 'avg_frac_r': 10}. Best is trial 22 with value: 1.8152414152587473.\u001B[0m\n"
     ]
    },
    {
     "name": "stdout",
     "output_type": "stream",
     "text": [
      "last_regret=0.9648698512432897\n",
      "l_star=10 ; regret_mix=0.5531097121689733 ; last_regret=0.9445107768245902\n",
      "l_star=10 ; regret_mix=0.6749914627356626 ; last_regret=1.1017596396900216\n",
      "l_star=10 ; regret_mix=0.6184430846645986 ; last_regret=0.9556044530150614\n",
      "l_star=12 ; regret_mix=0.5160624837674693 ; last_regret=0.7272759575387098\n",
      "l_star=12 ; regret_mix=0.6461490470782453 ; last_regret=0.8915617722038279\n",
      "l_star=12 ; regret_mix=0.6383521532079263 ; last_regret=0.9988286884597979\n",
      "l_star=13 ; regret_mix=0.5218827040493029 ; last_regret=0.8437247506846852\n",
      "l_star=11 ; regret_mix=0.6832267435075126 ; last_regret=1.0480428872186855\n",
      "l_star=10 ; regret_mix=0.6379888438499057 ; last_regret=0.9633608141365005\n",
      "l_star=8 ; regret_mix=0.4320150046975274 ; "
     ]
    },
    {
     "name": "stderr",
     "output_type": "stream",
     "text": [
      "\u001B[32m[I 2023-05-12 11:58:29,269]\u001B[0m Trial 25 finished with value: 4.267977998210781 and parameters: {'beta_f': 0.7857601591939716, 'beta_r': 0.5097706839550231, 'lr_f': 0.6547131878179598, 'lr_r': 0.24770081753121365, 'stop_frac_r': 7, 'avg_frac_r': 8}. Best is trial 22 with value: 1.8152414152587473.\u001B[0m\n"
     ]
    },
    {
     "name": "stdout",
     "output_type": "stream",
     "text": [
      "last_regret=0.6283927369348132\n",
      "l_star=10 ; regret_mix=0.7155244212989451 ; last_regret=0.8605200689091775\n",
      "l_star=10 ; regret_mix=0.475582831364108 ; last_regret=0.599771029888662\n",
      "l_star=10 ; regret_mix=0.7643615929720634 ; last_regret=0.9541474413734593\n",
      "l_star=12 ; regret_mix=0.673246780411588 ; last_regret=0.8251337665647642\n",
      "l_star=12 ; regret_mix=0.5615533907806646 ; last_regret=0.6755295128598395\n",
      "l_star=13 ; regret_mix=0.622116714776326 ; last_regret=0.7468599407795296\n",
      "l_star=12 ; regret_mix=0.5192898118705573 ; last_regret=0.6385562396252199\n",
      "l_star=12 ; regret_mix=0.5758103275644894 ; last_regret=0.6892882297051243\n",
      "l_star=10 ; regret_mix=0.6460972644483899 ; last_regret=0.8453913510539764\n",
      "l_star=10 ; regret_mix=0.5805326886106289 ; "
     ]
    },
    {
     "name": "stderr",
     "output_type": "stream",
     "text": [
      "\u001B[32m[I 2023-05-12 12:02:47,560]\u001B[0m Trial 26 finished with value: 2.0746581695997963 and parameters: {'beta_f': 0.8774135219922198, 'beta_r': 0.9475759682145903, 'lr_f': 0.8269560715394187, 'lr_r': 0.8476753147068703, 'stop_frac_r': 9, 'avg_frac_r': 9}. Best is trial 22 with value: 1.8152414152587473.\u001B[0m\n"
     ]
    },
    {
     "name": "stdout",
     "output_type": "stream",
     "text": [
      "last_regret=0.7161194613093675\n",
      "l_star=11 ; regret_mix=0.5517695907564647 ; last_regret=0.6560945086555079\n",
      "l_star=10 ; regret_mix=0.7358103421475127 ; last_regret=0.9114205043881274\n",
      "l_star=12 ; regret_mix=0.5449884535974997 ; last_regret=0.6429372416800019\n",
      "l_star=8 ; regret_mix=0.5442824011580459 ; last_regret=0.7024861115127367\n",
      "l_star=13 ; regret_mix=0.6424224776517761 ; last_regret=0.757886443359776\n",
      "l_star=9 ; regret_mix=0.7009873966333062 ; last_regret=0.8699823022281005\n",
      "l_star=10 ; regret_mix=0.5053173252200617 ; last_regret=0.6037140641452828\n",
      "l_star=10 ; regret_mix=0.5722697044778049 ; last_regret=0.7083113536019571\n",
      "l_star=9 ; regret_mix=0.6480492520801384 ; last_regret=0.788482193364948\n",
      "l_star=10 ; regret_mix=0.5012989542933581 ; "
     ]
    },
    {
     "name": "stderr",
     "output_type": "stream",
     "text": [
      "\u001B[32m[I 2023-05-12 12:07:03,487]\u001B[0m Trial 27 finished with value: 1.9946057803524688 and parameters: {'beta_f': 0.806503498603589, 'beta_r': 0.9161336598308288, 'lr_f': 0.9060630948871597, 'lr_r': 0.9157496402217534, 'stop_frac_r': 6, 'avg_frac_r': 8}. Best is trial 22 with value: 1.8152414152587473.\u001B[0m\n"
     ]
    },
    {
     "name": "stdout",
     "output_type": "stream",
     "text": [
      "last_regret=0.623632521595354\n",
      "l_star=12 ; regret_mix=0.6224112836940238 ; last_regret=0.7325829140710931\n",
      "l_star=8 ; regret_mix=0.47277848776530634 ; last_regret=0.5723445496463371\n",
      "l_star=10 ; regret_mix=0.6996543254500617 ; last_regret=0.891992758683166\n",
      "l_star=11 ; regret_mix=0.6840946768244168 ; last_regret=0.839163280761159\n",
      "l_star=10 ; regret_mix=0.6074280825195938 ; last_regret=0.7447057231682902\n",
      "l_star=12 ; regret_mix=0.6747743741108966 ; last_regret=0.7908008174889429\n",
      "l_star=10 ; regret_mix=0.5571687551540593 ; last_regret=0.6745471290170668\n",
      "l_star=11 ; regret_mix=0.4213258558103348 ; last_regret=0.5073544373840013\n",
      "l_star=9 ; regret_mix=0.6267978821086301 ; last_regret=0.7734432761238151\n",
      "l_star=12 ; regret_mix=0.6129313140835436 ; "
     ]
    },
    {
     "name": "stderr",
     "output_type": "stream",
     "text": [
      "\u001B[32m[I 2023-05-12 12:11:21,778]\u001B[0m Trial 28 finished with value: 1.9117698110725754 and parameters: {'beta_f': 0.6222276611226809, 'beta_r': 0.9106124316128648, 'lr_f': 0.8428934548293998, 'lr_r': 0.8133771381783168, 'stop_frac_r': 4, 'avg_frac_r': 8}. Best is trial 22 with value: 1.8152414152587473.\u001B[0m\n"
     ]
    },
    {
     "name": "stdout",
     "output_type": "stream",
     "text": [
      "last_regret=0.7199087516165653\n",
      "l_star=13 ; regret_mix=0.5183118728814405 ; last_regret=0.6296961542789908\n",
      "l_star=9 ; regret_mix=0.5963647235247928 ; last_regret=0.8089322722878347\n",
      "l_star=10 ; regret_mix=0.6240595701483336 ; last_regret=0.8090924327649006\n",
      "l_star=10 ; regret_mix=0.6300596286320104 ; last_regret=0.7815719953981246\n",
      "l_star=12 ; regret_mix=0.6499601767748879 ; last_regret=0.8013803691681605\n",
      "l_star=11 ; regret_mix=0.603294974094491 ; last_regret=0.7659505076911234\n",
      "l_star=11 ; regret_mix=0.5398850192437501 ; last_regret=0.6514558958895288\n",
      "l_star=12 ; regret_mix=0.592948254883473 ; last_regret=0.7171720493639683\n",
      "l_star=9 ; regret_mix=0.5151039756531954 ; last_regret=0.6582927044488363\n",
      "l_star=12 ; regret_mix=0.6860594290672146 ; "
     ]
    },
    {
     "name": "stderr",
     "output_type": "stream",
     "text": [
      "\u001B[32m[I 2023-05-12 12:15:33,728]\u001B[0m Trial 29 finished with value: 2.2401990723005074 and parameters: {'beta_f': 0.7764233961492424, 'beta_r': 0.8110850258155323, 'lr_f': 0.7472523233675434, 'lr_r': 0.9934305160075112, 'stop_frac_r': 7, 'avg_frac_r': 8}. Best is trial 22 with value: 1.8152414152587473.\u001B[0m\n"
     ]
    },
    {
     "name": "stdout",
     "output_type": "stream",
     "text": [
      "last_regret=0.8329729720991532\n",
      "l_star=13 ; regret_mix=0.4593693589895564 ; last_regret=0.5703687818669778\n",
      "l_star=12 ; regret_mix=0.672442303958723 ; last_regret=0.804749096383695\n",
      "l_star=10 ; regret_mix=0.40097611489295176 ; last_regret=0.4959628586125958\n",
      "l_star=9 ; regret_mix=0.5075760761504862 ; last_regret=0.6463784961216177\n",
      "l_star=12 ; regret_mix=0.5994099913818153 ; last_regret=0.7125039262119922\n",
      "l_star=9 ; regret_mix=0.6351649880116037 ; last_regret=0.8150976407210957\n",
      "l_star=9 ; regret_mix=0.6793927334827854 ; last_regret=0.9027013600758733\n",
      "l_star=9 ; regret_mix=0.5525098012691394 ; last_regret=0.7436569072404381\n",
      "l_star=11 ; regret_mix=0.6282728221202764 ; last_regret=0.7436243502115364\n",
      "l_star=10 ; regret_mix=0.7094302211187479 ; "
     ]
    },
    {
     "name": "stderr",
     "output_type": "stream",
     "text": [
      "\u001B[32m[I 2023-05-12 12:20:00,951]\u001B[0m Trial 30 finished with value: 2.2792613477972306 and parameters: {'beta_f': 0.86639343325258, 'beta_r': 0.8685161616080836, 'lr_f': 0.5348949432509575, 'lr_r': 0.5890215156969466, 'stop_frac_r': 8, 'avg_frac_r': 8}. Best is trial 22 with value: 1.8152414152587473.\u001B[0m\n"
     ]
    },
    {
     "name": "stdout",
     "output_type": "stream",
     "text": [
      "last_regret=0.9171010343345611\n",
      "l_star=9 ; regret_mix=0.6406152619371815 ; last_regret=0.7979357793906118\n",
      "l_star=11 ; regret_mix=0.4739719391257518 ; last_regret=0.593006904861418\n",
      "l_star=11 ; regret_mix=0.7128988585213486 ; last_regret=0.8757742928897584\n",
      "l_star=12 ; regret_mix=0.5923184473454189 ; last_regret=0.7194670250751172\n",
      "l_star=15 ; regret_mix=0.5708151943336139 ; last_regret=0.6829310165353957\n",
      "l_star=10 ; regret_mix=0.6194463898649295 ; last_regret=0.7553602254511037\n",
      "l_star=9 ; regret_mix=0.5500309802006493 ; last_regret=0.7004433017099361\n",
      "l_star=8 ; regret_mix=0.5479652823017459 ; last_regret=0.7530273020058984\n",
      "l_star=11 ; regret_mix=0.5407962587141852 ; last_regret=0.6485751500049178\n",
      "l_star=13 ; regret_mix=0.7468165879938848 ; "
     ]
    },
    {
     "name": "stderr",
     "output_type": "stream",
     "text": [
      "\u001B[32m[I 2023-05-12 12:24:22,196]\u001B[0m Trial 31 finished with value: 2.1605857727153235 and parameters: {'beta_f': 0.9216662759701575, 'beta_r': 0.9581992122874811, 'lr_f': 0.9877438032777818, 'lr_r': 0.9079818157601118, 'stop_frac_r': 3, 'avg_frac_r': 6}. Best is trial 22 with value: 1.8152414152587473.\u001B[0m\n"
     ]
    },
    {
     "name": "stdout",
     "output_type": "stream",
     "text": [
      "last_regret=0.9100073680213612\n",
      "l_star=9 ; regret_mix=0.4961281699242906 ; last_regret=0.6477523779783079\n",
      "l_star=10 ; regret_mix=0.595160940900634 ; last_regret=0.7609506600894478\n",
      "l_star=13 ; regret_mix=0.7263966895187657 ; last_regret=0.8621144734228301\n",
      "l_star=10 ; regret_mix=0.6351446823324243 ; last_regret=0.8170470377669418\n",
      "l_star=12 ; regret_mix=0.6045303294725676 ; last_regret=0.7138945096132218\n",
      "l_star=10 ; regret_mix=0.6291837772072815 ; last_regret=0.7613095671510816\n",
      "l_star=12 ; regret_mix=0.711622417709367 ; last_regret=0.8699785178376113\n",
      "l_star=12 ; regret_mix=0.6727613524514974 ; last_regret=0.8280974075939186\n",
      "l_star=9 ; regret_mix=0.5713988174155771 ; last_regret=0.792167199146088\n",
      "l_star=9 ; regret_mix=0.6495680058326239 ; "
     ]
    },
    {
     "name": "stderr",
     "output_type": "stream",
     "text": [
      "\u001B[32m[I 2023-05-12 12:28:39,394]\u001B[0m Trial 32 finished with value: 2.3019428413978975 and parameters: {'beta_f': 0.8336797233098129, 'beta_r': 0.8467433017139615, 'lr_f': 0.8950290056064927, 'lr_r': 0.7343880694281145, 'stop_frac_r': 9, 'avg_frac_r': 9}. Best is trial 22 with value: 1.8152414152587473.\u001B[0m\n"
     ]
    },
    {
     "name": "stdout",
     "output_type": "stream",
     "text": [
      "last_regret=0.8544496675129016\n",
      "l_star=10 ; regret_mix=0.595865407984768 ; last_regret=0.8525759536884483\n",
      "l_star=10 ; regret_mix=0.5636544825579066 ; last_regret=0.7397614177971712\n",
      "l_star=11 ; regret_mix=0.692467266755663 ; last_regret=0.9263857364273137\n",
      "l_star=9 ; regret_mix=0.7235649708392059 ; last_regret=1.1294574496269707\n",
      "l_star=13 ; regret_mix=0.5888791786471262 ; last_regret=0.7379526883609506\n",
      "l_star=11 ; regret_mix=0.5361154087162748 ; last_regret=0.6914621213298447\n",
      "l_star=12 ; regret_mix=0.6023599452430656 ; last_regret=0.8121346420793403\n",
      "l_star=10 ; regret_mix=0.37870874345282474 ; last_regret=0.4734902248699298\n",
      "l_star=10 ; regret_mix=0.5645576916386019 ; last_regret=0.8294201635930564\n",
      "l_star=10 ; regret_mix=0.509246902826715 ; "
     ]
    },
    {
     "name": "stderr",
     "output_type": "stream",
     "text": [
      "\u001B[32m[I 2023-05-12 12:32:48,587]\u001B[0m Trial 33 finished with value: 2.990533054286775 and parameters: {'beta_f': 0.7642347247974847, 'beta_r': 0.6959253150055931, 'lr_f': 0.6260718224963712, 'lr_r': 0.8311771402175543, 'stop_frac_r': 6, 'avg_frac_r': 7}. Best is trial 22 with value: 1.8152414152587473.\u001B[0m\n"
     ]
    },
    {
     "name": "stdout",
     "output_type": "stream",
     "text": [
      "last_regret=0.645498904582725\n",
      "l_star=9 ; regret_mix=0.6610360817845722 ; last_regret=0.8808743233897326\n",
      "l_star=10 ; regret_mix=0.5600256236461146 ; last_regret=0.7448103045867482\n",
      "l_star=10 ; regret_mix=0.3778348409507846 ; last_regret=0.4787504866021932\n",
      "l_star=10 ; regret_mix=0.6540562451869253 ; last_regret=0.8410979729278821\n",
      "l_star=11 ; regret_mix=0.68598193826188 ; last_regret=0.8848650604272429\n",
      "l_star=10 ; regret_mix=0.5451776450520942 ; last_regret=0.7507356783878697\n",
      "l_star=11 ; regret_mix=0.6284945891910312 ; last_regret=0.7860171407617634\n",
      "l_star=9 ; regret_mix=0.584790748027803 ; last_regret=0.8225749474351166\n",
      "l_star=12 ; regret_mix=0.5970415617386003 ; last_regret=0.7399756471884299\n",
      "l_star=11 ; regret_mix=0.5553901751496513 ; "
     ]
    },
    {
     "name": "stderr",
     "output_type": "stream",
     "text": [
      "\u001B[32m[I 2023-05-12 12:37:10,512]\u001B[0m Trial 34 finished with value: 2.6864526319246504 and parameters: {'beta_f': 0.9733676548182667, 'beta_r': 0.9887334638800651, 'lr_f': 0.8059887515539784, 'lr_r': 0.6043584285657604, 'stop_frac_r': 5, 'avg_frac_r': 7}. Best is trial 22 with value: 1.8152414152587473.\u001B[0m\n"
     ]
    },
    {
     "name": "stdout",
     "output_type": "stream",
     "text": [
      "last_regret=0.7289752165863859\n",
      "l_star=9 ; regret_mix=0.5519829126215381 ; last_regret=0.6879607744657543\n",
      "l_star=12 ; regret_mix=0.6075951553401671 ; last_regret=0.727022665255618\n",
      "l_star=10 ; regret_mix=0.5959875221551153 ; last_regret=0.735857137616724\n",
      "l_star=13 ; regret_mix=0.6019701975185068 ; last_regret=0.7205857269529559\n",
      "l_star=10 ; regret_mix=0.5756516188958801 ; last_regret=0.7132260100180793\n",
      "l_star=12 ; regret_mix=0.49340537084386843 ; last_regret=0.6046588845871982\n",
      "l_star=12 ; regret_mix=0.6644037263192081 ; last_regret=0.7949495318695382\n",
      "l_star=13 ; regret_mix=0.6640446285437049 ; last_regret=0.7971868734272062\n",
      "l_star=10 ; regret_mix=0.50205072042589 ; last_regret=0.6211391435907128\n",
      "l_star=12 ; regret_mix=0.5777129745004446 ; "
     ]
    },
    {
     "name": "stderr",
     "output_type": "stream",
     "text": [
      "\u001B[32m[I 2023-05-12 12:41:27,012]\u001B[0m Trial 35 finished with value: 1.9691248270472166 and parameters: {'beta_f': 0.7012481722058903, 'beta_r': 0.7888161508529337, 'lr_f': 0.6850198482767968, 'lr_r': 0.9358654669164813, 'stop_frac_r': 3, 'avg_frac_r': 6}. Best is trial 22 with value: 1.8152414152587473.\u001B[0m\n"
     ]
    },
    {
     "name": "stdout",
     "output_type": "stream",
     "text": [
      "last_regret=0.6959335766761479\n",
      "l_star=11 ; regret_mix=0.7572262907673394 ; last_regret=1.2756939050401903\n",
      "l_star=10 ; regret_mix=0.6510366951617605 ; last_regret=1.3089252205474642\n",
      "l_star=10 ; regret_mix=0.5374644496347282 ; last_regret=1.1828931706182997\n",
      "l_star=10 ; regret_mix=0.6342531004132893 ; last_regret=1.286324024646862\n",
      "l_star=8 ; regret_mix=0.60320148127197 ; last_regret=1.288856227317196\n",
      "l_star=12 ; regret_mix=0.6923473532302504 ; last_regret=1.147220860274585\n",
      "l_star=9 ; regret_mix=0.5573195337166373 ; last_regret=1.3378191512156525\n",
      "l_star=12 ; regret_mix=0.5781937867607087 ; last_regret=1.2713861755197646\n",
      "l_star=10 ; regret_mix=0.6678756583991738 ; last_regret=1.2317866571318614\n",
      "l_star=13 ; regret_mix=0.6396079912850551 ; "
     ]
    },
    {
     "name": "stderr",
     "output_type": "stream",
     "text": [
      "\u001B[32m[I 2023-05-12 12:59:42,670]\u001B[0m Trial 36 finished with value: 6.867346977424149 and parameters: {'beta_f': 0.632617496576628, 'beta_r': 0.8896267184110044, 'lr_f': 0.927093801536946, 'lr_r': 0.006092933497039876, 'stop_frac_r': 7, 'avg_frac_r': 8}. Best is trial 22 with value: 1.8152414152587473.\u001B[0m\n"
     ]
    },
    {
     "name": "stdout",
     "output_type": "stream",
     "text": [
      "last_regret=1.178823782961605\n",
      "l_star=12 ; regret_mix=0.6014255010193196 ; last_regret=0.7386208166015171\n",
      "l_star=9 ; regret_mix=0.5550859980655016 ; last_regret=0.7108163609332668\n",
      "l_star=10 ; regret_mix=0.4990004891060564 ; last_regret=0.6189946477762241\n",
      "l_star=11 ; regret_mix=0.5775581837200514 ; last_regret=0.6931134832412003\n",
      "l_star=11 ; regret_mix=0.6420276874603943 ; last_regret=0.7712646923307208\n",
      "l_star=11 ; regret_mix=0.5467997610448317 ; last_regret=0.6478790721488272\n",
      "l_star=8 ; regret_mix=0.5527155228820227 ; last_regret=0.6896547970107985\n",
      "l_star=10 ; regret_mix=0.6833985134346914 ; last_regret=0.8159566089730315\n",
      "l_star=10 ; regret_mix=0.6276993863655552 ; last_regret=0.7671473944195323\n",
      "l_star=10 ; regret_mix=0.6986708143524152 ; "
     ]
    },
    {
     "name": "stderr",
     "output_type": "stream",
     "text": [
      "\u001B[32m[I 2023-05-12 13:03:45,181]\u001B[0m Trial 37 finished with value: 2.015332494460599 and parameters: {'beta_f': 0.6646294283560711, 'beta_r': 0.9137449535512597, 'lr_f': 0.8549424576413669, 'lr_r': 0.829550258785793, 'stop_frac_r': 4, 'avg_frac_r': 9}. Best is trial 22 with value: 1.8152414152587473.\u001B[0m\n"
     ]
    },
    {
     "name": "stdout",
     "output_type": "stream",
     "text": [
      "last_regret=0.8640192832032043\n",
      "l_star=13 ; regret_mix=0.5769017648660889 ; last_regret=0.6862374290089526\n",
      "l_star=12 ; regret_mix=0.7229311286798249 ; last_regret=0.837260062105812\n",
      "l_star=10 ; regret_mix=0.5609302719777106 ; last_regret=0.6989739827156051\n",
      "l_star=9 ; regret_mix=0.4647555031631386 ; last_regret=0.5934414081834265\n",
      "l_star=11 ; regret_mix=0.6802082132909998 ; last_regret=0.7998596322941425\n",
      "l_star=10 ; regret_mix=0.7297804363695377 ; last_regret=0.8575021765770768\n",
      "l_star=11 ; regret_mix=0.599777955819964 ; last_regret=0.7312567022704366\n",
      "l_star=9 ; regret_mix=0.5135100741356843 ; last_regret=0.6245159106599957\n",
      "l_star=12 ; regret_mix=0.6680188906946241 ; last_regret=0.818055656581565\n",
      "l_star=11 ; regret_mix=0.6181855616600751 ; "
     ]
    },
    {
     "name": "stderr",
     "output_type": "stream",
     "text": [
      "\u001B[32m[I 2023-05-12 13:07:49,699]\u001B[0m Trial 38 finished with value: 1.8659110858645398 and parameters: {'beta_f': 0.6026301010118832, 'beta_r': 0.9374272642592624, 'lr_f': 0.7266996645408417, 'lr_r': 0.7936046744526396, 'stop_frac_r': 3, 'avg_frac_r': 8}. Best is trial 22 with value: 1.8152414152587473.\u001B[0m\n"
     ]
    },
    {
     "name": "stdout",
     "output_type": "stream",
     "text": [
      "last_regret=0.7263557762673107\n",
      "l_star=10 ; regret_mix=0.6410469324390006 ; last_regret=0.7602970425713961\n",
      "l_star=9 ; regret_mix=0.5892985151738346 ; last_regret=0.7040193350080679\n",
      "l_star=10 ; regret_mix=0.6599666621832762 ; last_regret=0.7805494854224375\n",
      "l_star=9 ; regret_mix=0.6280441303916914 ; last_regret=0.7325206865890089\n",
      "l_star=12 ; regret_mix=0.7115891303033738 ; last_regret=0.8273848102740048\n",
      "l_star=11 ; regret_mix=0.628879607004873 ; last_regret=0.7882188873700867\n",
      "l_star=11 ; regret_mix=0.6730979363157937 ; last_regret=0.8176164101275908\n",
      "l_star=12 ; regret_mix=0.6724788824965987 ; last_regret=0.7824261875510288\n",
      "l_star=11 ; regret_mix=0.4620667310939304 ; last_regret=0.5653526938699853\n",
      "l_star=11 ; regret_mix=0.6700184391847175 ; "
     ]
    },
    {
     "name": "stderr",
     "output_type": "stream",
     "text": [
      "\u001B[32m[I 2023-05-12 13:11:51,050]\u001B[0m Trial 39 finished with value: 1.7801079815296204 and parameters: {'beta_f': 0.5729156357126524, 'beta_r': 0.9427030693642804, 'lr_f': 0.7314130225342236, 'lr_r': 0.9516548042990106, 'stop_frac_r': 3, 'avg_frac_r': 7}. Best is trial 39 with value: 1.7801079815296204.\u001B[0m\n"
     ]
    },
    {
     "name": "stdout",
     "output_type": "stream",
     "text": [
      "last_regret=0.8067120444082231\n",
      "l_star=13 ; regret_mix=0.7175149471205768 ; last_regret=0.8320251090922645\n",
      "l_star=10 ; regret_mix=0.7628322608070758 ; last_regret=0.8937135475141548\n",
      "l_star=12 ; regret_mix=0.6609032842358459 ; last_regret=0.7877820434612118\n",
      "l_star=10 ; regret_mix=0.4709957327433202 ; last_regret=0.573662411630765\n",
      "l_star=9 ; regret_mix=0.6786752095628167 ; last_regret=0.8296786925227836\n",
      "l_star=9 ; regret_mix=0.572331669838642 ; last_regret=0.6965247328719973\n",
      "l_star=11 ; regret_mix=0.6790507071884629 ; last_regret=0.8419240913257762\n",
      "l_star=10 ; regret_mix=0.6029628524050652 ; last_regret=0.7618353859631914\n",
      "l_star=11 ; regret_mix=0.7051042493004483 ; last_regret=0.8546398886907904\n",
      "l_star=11 ; regret_mix=0.5016646163813929 ; "
     ]
    },
    {
     "name": "stderr",
     "output_type": "stream",
     "text": [
      "\u001B[32m[I 2023-05-12 13:15:53,810]\u001B[0m Trial 40 finished with value: 1.9352027757561598 and parameters: {'beta_f': 0.5664673491125268, 'beta_r': 0.9504507276938582, 'lr_f': 0.5771707910009903, 'lr_r': 0.9384557312156586, 'stop_frac_r': 3, 'avg_frac_r': 6}. Best is trial 39 with value: 1.7801079815296204.\u001B[0m\n"
     ]
    },
    {
     "name": "stdout",
     "output_type": "stream",
     "text": [
      "last_regret=0.6235497943726407\n",
      "l_star=12 ; regret_mix=0.5239691844133815 ; last_regret=0.6298176792536961\n",
      "l_star=10 ; regret_mix=0.6358740564209824 ; last_regret=0.7608591039500721\n",
      "l_star=13 ; regret_mix=0.6402397058378616 ; last_regret=0.7303109990375841\n",
      "l_star=9 ; regret_mix=0.6368171391786567 ; last_regret=0.765582203492087\n",
      "l_star=11 ; regret_mix=0.4834926237473549 ; last_regret=0.5824660580029642\n",
      "l_star=11 ; regret_mix=0.7130209201325722 ; last_regret=0.8552547064468162\n",
      "l_star=13 ; regret_mix=0.7309336347654141 ; last_regret=0.8691256009830791\n",
      "l_star=14 ; regret_mix=0.6162488690578611 ; last_regret=0.7124860444580303\n",
      "l_star=12 ; regret_mix=0.531104292420826 ; last_regret=0.6220140504815979\n",
      "l_star=14 ; regret_mix=0.5584322884417158 ; "
     ]
    },
    {
     "name": "stderr",
     "output_type": "stream",
     "text": [
      "\u001B[32m[I 2023-05-12 13:19:57,196]\u001B[0m Trial 41 finished with value: 1.6653654772101922 and parameters: {'beta_f': 0.6532241756509988, 'beta_r': 0.9403409126700073, 'lr_f': 0.7133053208100909, 'lr_r': 0.9442517904439213, 'stop_frac_r': 8, 'avg_frac_r': 9}. Best is trial 41 with value: 1.6653654772101922.\u001B[0m\n"
     ]
    },
    {
     "name": "stdout",
     "output_type": "stream",
     "text": [
      "last_regret=0.6434663224795828\n",
      "l_star=10 ; regret_mix=0.6449276993625342 ; last_regret=0.7861566317504187\n",
      "l_star=15 ; regret_mix=0.6811684881851177 ; last_regret=0.7936497288593503\n",
      "l_star=10 ; regret_mix=0.453325799363521 ; last_regret=0.5530840230921386\n",
      "l_star=8 ; regret_mix=0.4180808268777928 ; last_regret=0.5096302567016897\n",
      "l_star=11 ; regret_mix=0.3552835447375865 ; last_regret=0.42016586830263514\n",
      "l_star=8 ; regret_mix=0.3613264428135989 ; last_regret=0.45601065160912624\n",
      "l_star=11 ; regret_mix=0.7619281252905062 ; last_regret=0.9142560644198313\n",
      "l_star=10 ; regret_mix=0.49540419670326974 ; last_regret=0.5856174329639461\n",
      "l_star=9 ; regret_mix=0.6615834309817714 ; last_regret=0.8997241390786175\n",
      "l_star=11 ; regret_mix=0.6892881686401344 ; "
     ]
    },
    {
     "name": "stderr",
     "output_type": "stream",
     "text": [
      "\u001B[32m[I 2023-05-12 13:23:59,652]\u001B[0m Trial 42 finished with value: 1.9950872093903254 and parameters: {'beta_f': 0.6561461000211345, 'beta_r': 0.8843668365914101, 'lr_f': 0.5059168787548995, 'lr_r': 0.9369882331781133, 'stop_frac_r': 8, 'avg_frac_r': 9}. Best is trial 41 with value: 1.6653654772101922.\u001B[0m\n"
     ]
    },
    {
     "name": "stdout",
     "output_type": "stream",
     "text": [
      "last_regret=0.8334016451064713\n",
      "l_star=12 ; regret_mix=0.6902361712214256 ; last_regret=0.8000915931424956\n",
      "l_star=11 ; regret_mix=0.6327575080844274 ; last_regret=0.758508844801311\n",
      "l_star=10 ; regret_mix=0.47376370329023687 ; last_regret=0.5518482661435878\n",
      "l_star=9 ; regret_mix=0.37148855160170424 ; last_regret=0.48567505863084676\n",
      "l_star=10 ; regret_mix=0.5828437352860026 ; last_regret=0.7123850709580908\n",
      "l_star=9 ; regret_mix=0.5945948760706197 ; last_regret=0.7001875105001866\n",
      "l_star=11 ; regret_mix=0.5031650036250765 ; last_regret=0.6029622670474555\n",
      "l_star=10 ; regret_mix=0.6230354541850393 ; last_regret=0.7847851965594599\n",
      "l_star=10 ; regret_mix=0.5945166658244383 ; last_regret=0.7340470820196282\n",
      "l_star=10 ; regret_mix=0.5890949524850504 ; "
     ]
    },
    {
     "name": "stderr",
     "output_type": "stream",
     "text": [
      "\u001B[32m[I 2023-05-12 13:28:17,770]\u001B[0m Trial 43 finished with value: 1.9294184197479467 and parameters: {'beta_f': 0.7220854920178413, 'beta_r': 0.9632248947518146, 'lr_f': 0.6808164277481608, 'lr_r': 0.998248304214955, 'stop_frac_r': 9, 'avg_frac_r': 9}. Best is trial 41 with value: 1.6653654772101922.\u001B[0m\n"
     ]
    },
    {
     "name": "stdout",
     "output_type": "stream",
     "text": [
      "last_regret=0.7146015741478285\n",
      "l_star=10 ; regret_mix=0.7190221042459692 ; last_regret=0.9793218971840267\n",
      "l_star=11 ; regret_mix=0.611262360222491 ; last_regret=0.7894454493006142\n",
      "l_star=11 ; regret_mix=0.5471343942185789 ; last_regret=0.75837690331843\n",
      "l_star=11 ; regret_mix=0.584682019871422 ; last_regret=0.813900094150132\n",
      "l_star=11 ; regret_mix=0.6162028852130174 ; last_regret=0.8990879502388355\n",
      "l_star=10 ; regret_mix=0.48554169242458617 ; last_regret=0.6425677536011475\n",
      "l_star=13 ; regret_mix=0.5995595172502608 ; last_regret=0.799740219425206\n",
      "l_star=12 ; regret_mix=0.6551121423189706 ; last_regret=0.8636662940410731\n",
      "l_star=13 ; regret_mix=0.6562081580867815 ; last_regret=0.8872447711873089\n",
      "l_star=13 ; regret_mix=0.5260368454099912 ; "
     ]
    },
    {
     "name": "stderr",
     "output_type": "stream",
     "text": [
      "\u001B[32m[I 2023-05-12 13:32:20,633]\u001B[0m Trial 44 finished with value: 2.9705881752545604 and parameters: {'beta_f': 0.5790221336488165, 'beta_r': 0.7758449897996634, 'lr_f': 0.45873502139538574, 'lr_r': 0.493646474739403, 'stop_frac_r': 8, 'avg_frac_r': 9}. Best is trial 41 with value: 1.6653654772101922.\u001B[0m\n"
     ]
    },
    {
     "name": "stdout",
     "output_type": "stream",
     "text": [
      "last_regret=0.6583948874919319\n",
      "l_star=12 ; regret_mix=0.6505171695872951 ; last_regret=0.8222292657709036\n",
      "l_star=9 ; regret_mix=0.6485053937762351 ; last_regret=0.8233445686153255\n",
      "l_star=10 ; regret_mix=0.4554735668584871 ; last_regret=0.5596409184451182\n",
      "l_star=11 ; regret_mix=0.6092165343059823 ; last_regret=0.7750766104968766\n",
      "l_star=12 ; regret_mix=0.5639422774948947 ; last_regret=0.6885424372405861\n",
      "l_star=10 ; regret_mix=0.5865355358946973 ; last_regret=0.7472237438755107\n",
      "l_star=10 ; regret_mix=0.4120027204072347 ; last_regret=0.5117038625799375\n",
      "l_star=13 ; regret_mix=0.6528736817789241 ; last_regret=0.8007229165570554\n",
      "l_star=10 ; regret_mix=0.6760608994094145 ; last_regret=0.8189433642539024\n",
      "l_star=10 ; regret_mix=0.6818056750940708 ; "
     ]
    },
    {
     "name": "stderr",
     "output_type": "stream",
     "text": [
      "\u001B[32m[I 2023-05-12 13:36:39,493]\u001B[0m Trial 45 finished with value: 2.170376465660107 and parameters: {'beta_f': 0.6444686147836405, 'beta_r': 0.8538757106477936, 'lr_f': 0.7854868464903823, 'lr_r': 0.7338195442134005, 'stop_frac_r': 2, 'avg_frac_r': 3}. Best is trial 41 with value: 1.6653654772101922.\u001B[0m\n"
     ]
    },
    {
     "name": "stdout",
     "output_type": "stream",
     "text": [
      "last_regret=0.8297161680751596\n",
      "l_star=11 ; regret_mix=0.5769864257174226 ; last_regret=0.7812149106692498\n",
      "l_star=9 ; regret_mix=0.5048162460758251 ; last_regret=0.7745080996413302\n",
      "l_star=10 ; regret_mix=0.5835087733863145 ; last_regret=0.7642594547164732\n",
      "l_star=12 ; regret_mix=0.6564987293605116 ; last_regret=0.9010170839976055\n",
      "l_star=10 ; regret_mix=0.6734275059010386 ; last_regret=0.8874920236924341\n",
      "l_star=10 ; regret_mix=0.5718699317439034 ; last_regret=0.8772839532692086\n",
      "l_star=12 ; regret_mix=0.6431623876374425 ; last_regret=0.8220607405484865\n",
      "l_star=9 ; regret_mix=0.5233090303226943 ; last_regret=0.6903446502272156\n",
      "l_star=10 ; regret_mix=0.6715911696435887 ; last_regret=0.9013804744334093\n",
      "l_star=10 ; regret_mix=0.6823866796801958 ; "
     ]
    },
    {
     "name": "stderr",
     "output_type": "stream",
     "text": [
      "\u001B[32m[I 2023-05-12 13:40:31,936]\u001B[0m Trial 46 finished with value: 3.144504383436324 and parameters: {'beta_f': 0.6949556126676267, 'beta_r': 0.571750978070959, 'lr_f': 0.6052080167790759, 'lr_r': 0.8984894726714311, 'stop_frac_r': 10, 'avg_frac_r': 10}. Best is trial 41 with value: 1.6653654772101922.\u001B[0m\n"
     ]
    },
    {
     "name": "stdout",
     "output_type": "stream",
     "text": [
      "last_regret=0.926980514124413\n",
      "l_star=10 ; regret_mix=0.7086116624792868 ; last_regret=0.8571149704895064\n",
      "l_star=11 ; regret_mix=0.6775144029622395 ; last_regret=0.8075174284181201\n",
      "l_star=11 ; regret_mix=0.4388981566459327 ; last_regret=0.5380994609207175\n",
      "l_star=11 ; regret_mix=0.5902230545454878 ; last_regret=0.7025688100584743\n",
      "l_star=11 ; regret_mix=0.7238950829049186 ; last_regret=0.8501966799741745\n",
      "l_star=10 ; regret_mix=0.7358094513087837 ; last_regret=0.902351994775733\n",
      "l_star=9 ; regret_mix=0.6170172039519688 ; last_regret=0.7550501723499217\n",
      "l_star=14 ; regret_mix=0.7149722086908906 ; last_regret=0.8294849515101496\n",
      "l_star=9 ; regret_mix=0.6691270465119701 ; last_regret=0.8607345153121979\n",
      "l_star=10 ; regret_mix=0.5051541247170874 ; "
     ]
    },
    {
     "name": "stderr",
     "output_type": "stream",
     "text": [
      "\u001B[32m[I 2023-05-12 13:44:43,157]\u001B[0m Trial 47 finished with value: 1.9580979184189058 and parameters: {'beta_f': 0.607144051838026, 'beta_r': 0.9301443927755545, 'lr_f': 0.725487970175072, 'lr_r': 0.7806383757199123, 'stop_frac_r': 2, 'avg_frac_r': 7}. Best is trial 41 with value: 1.6653654772101922.\u001B[0m\n"
     ]
    },
    {
     "name": "stdout",
     "output_type": "stream",
     "text": [
      "last_regret=0.6467946962479323\n",
      "l_star=8 ; regret_mix=0.5813082652251597 ; last_regret=0.7548880749499474\n",
      "l_star=12 ; regret_mix=0.67087017021377 ; last_regret=0.8103170872595327\n",
      "l_star=11 ; regret_mix=0.6838807177918371 ; last_regret=0.8222928709268803\n",
      "l_star=12 ; regret_mix=0.679826988166504 ; last_regret=0.7700653742642197\n",
      "l_star=12 ; regret_mix=0.6463189191096217 ; last_regret=0.7726761868727202\n",
      "l_star=10 ; regret_mix=0.5939886217686573 ; last_regret=0.703896053384056\n",
      "l_star=11 ; regret_mix=0.6494369281568709 ; last_regret=0.7748938401262051\n",
      "l_star=11 ; regret_mix=0.6717072923720656 ; last_regret=0.7953539196329457\n",
      "l_star=11 ; regret_mix=0.6439041686061722 ; last_regret=0.7620403022101251\n",
      "l_star=10 ; regret_mix=0.5924594025867939 ; "
     ]
    },
    {
     "name": "stderr",
     "output_type": "stream",
     "text": [
      "\u001B[32m[I 2023-05-12 13:48:42,215]\u001B[0m Trial 48 finished with value: 1.8426303982455876 and parameters: {'beta_f': 0.5149667862268071, 'beta_r': 0.9387293224880756, 'lr_f': 0.7147156378276311, 'lr_r': 0.9580373184816384, 'stop_frac_r': 8, 'avg_frac_r': 9}. Best is trial 41 with value: 1.6653654772101922.\u001B[0m\n"
     ]
    },
    {
     "name": "stdout",
     "output_type": "stream",
     "text": [
      "last_regret=0.7391141368593103\n",
      "l_star=12 ; regret_mix=0.58613614253613 ; last_regret=0.7322142415637642\n",
      "l_star=10 ; regret_mix=0.7000644874481703 ; last_regret=0.8771378010636754\n",
      "l_star=11 ; regret_mix=0.6865697629052916 ; last_regret=0.8249570989183118\n",
      "l_star=10 ; regret_mix=0.6235148024405991 ; last_regret=0.7577034583913436\n",
      "l_star=11 ; regret_mix=0.6438087863451086 ; last_regret=0.7892363315828556\n",
      "l_star=10 ; regret_mix=0.587512692996301 ; last_regret=0.7121232490747057\n",
      "l_star=11 ; regret_mix=0.526643790554799 ; last_regret=0.6579223716664467\n",
      "l_star=9 ; regret_mix=0.5190893956363889 ; last_regret=0.6185374547612591\n",
      "l_star=11 ; regret_mix=0.6581440428819059 ; last_regret=0.7959309345160479\n",
      "l_star=12 ; regret_mix=0.48853000040472333 ; "
     ]
    },
    {
     "name": "stderr",
     "output_type": "stream",
     "text": [
      "\u001B[32m[I 2023-05-12 13:52:43,715]\u001B[0m Trial 49 finished with value: 2.004741182530322 and parameters: {'beta_f': 0.5420217664739457, 'beta_r': 0.9751159526837502, 'lr_f': 0.6866338975180041, 'lr_r': 0.9445252509237856, 'stop_frac_r': 9, 'avg_frac_r': 9}. Best is trial 41 with value: 1.6653654772101922.\u001B[0m\n"
     ]
    },
    {
     "name": "stdout",
     "output_type": "stream",
     "text": [
      "last_regret=0.5932620754927199\n",
      "l_star=9 ; regret_mix=0.6448573323564855 ; last_regret=0.821929814640152\n",
      "l_star=9 ; regret_mix=0.7684981855622697 ; last_regret=0.9998927454687239\n",
      "l_star=9 ; regret_mix=0.6984889829242689 ; last_regret=0.9225004568089865\n",
      "l_star=12 ; regret_mix=0.22869552685325725 ; last_regret=0.3106846998420328\n",
      "l_star=13 ; regret_mix=0.5186996551774259 ; last_regret=0.5997965919981727\n",
      "l_star=11 ; regret_mix=0.63649053602945 ; last_regret=0.7757679988913423\n",
      "l_star=9 ; regret_mix=0.5598759604523472 ; last_regret=0.6821403518613208\n",
      "l_star=10 ; regret_mix=0.4077900901430523 ; last_regret=0.49653362010781843\n",
      "l_star=12 ; regret_mix=0.7542430133912934 ; last_regret=0.9664861403296269\n",
      "l_star=10 ; regret_mix=0.5783985840911761 ; "
     ]
    },
    {
     "name": "stderr",
     "output_type": "stream",
     "text": [
      "\u001B[32m[I 2023-05-12 13:56:51,694]\u001B[0m Trial 50 finished with value: 2.279028630964372 and parameters: {'beta_f': 0.5207882318689137, 'beta_r': 0.8915354328846301, 'lr_f': 0.17345248798526947, 'lr_r': 0.9656511799107724, 'stop_frac_r': 7, 'avg_frac_r': 9}. Best is trial 41 with value: 1.6653654772101922.\u001B[0m\n"
     ]
    },
    {
     "name": "stdout",
     "output_type": "stream",
     "text": [
      "last_regret=0.7086629039238892\n",
      "l_star=9 ; regret_mix=0.7046686437519675 ; last_regret=0.8790193697391508\n",
      "l_star=12 ; regret_mix=0.7246959359551082 ; last_regret=0.8402408147827906\n",
      "l_star=11 ; regret_mix=0.6968086388446763 ; last_regret=0.8540718994993199\n",
      "l_star=10 ; regret_mix=0.605175888108157 ; last_regret=0.7107972290473652\n",
      "l_star=11 ; regret_mix=0.5158671649782809 ; last_regret=0.6503421514662657\n",
      "l_star=10 ; regret_mix=0.6077375719083256 ; last_regret=0.7456354922386919\n",
      "l_star=9 ; regret_mix=0.6092950700195158 ; last_regret=0.7565323547851273\n",
      "l_star=10 ; regret_mix=0.6865861572483817 ; last_regret=0.8247617133781634\n",
      "l_star=12 ; regret_mix=0.6940277596536462 ; last_regret=0.8288333213965514\n",
      "l_star=10 ; regret_mix=0.662947392394465 ; "
     ]
    },
    {
     "name": "stderr",
     "output_type": "stream",
     "text": [
      "\u001B[32m[I 2023-05-12 14:00:48,843]\u001B[0m Trial 51 finished with value: 1.9603610170255952 and parameters: {'beta_f': 0.5612066874192553, 'beta_r': 0.9337302070998147, 'lr_f': 0.8053628385085533, 'lr_r': 0.8801876703000798, 'stop_frac_r': 8, 'avg_frac_r': 9}. Best is trial 41 with value: 1.6653654772101922.\u001B[0m\n"
     ]
    },
    {
     "name": "stdout",
     "output_type": "stream",
     "text": [
      "last_regret=0.820745330398977\n",
      "l_star=11 ; regret_mix=0.6274839348721337 ; last_regret=0.7566128810721907\n",
      "l_star=12 ; regret_mix=0.6349277263271091 ; last_regret=0.7614408283975324\n",
      "l_star=10 ; regret_mix=0.7355783200719659 ; last_regret=0.9557352706794352\n",
      "l_star=12 ; regret_mix=0.4034760246069164 ; last_regret=0.45566770331494405\n",
      "l_star=10 ; regret_mix=0.5927709652259796 ; last_regret=0.7220649754794213\n",
      "l_star=9 ; regret_mix=0.6183996036560196 ; last_regret=0.7495414020132877\n",
      "l_star=12 ; regret_mix=0.5210886054836048 ; last_regret=0.6213123460428831\n",
      "l_star=10 ; regret_mix=0.6377804631232902 ; last_regret=0.8083283838751396\n",
      "l_star=9 ; regret_mix=0.5870110604036023 ; last_regret=0.7321793612899528\n",
      "l_star=10 ; regret_mix=0.6507396918129467 ; "
     ]
    },
    {
     "name": "stderr",
     "output_type": "stream",
     "text": [
      "\u001B[32m[I 2023-05-12 14:04:49,437]\u001B[0m Trial 52 finished with value: 1.9444346885548003 and parameters: {'beta_f': 0.51167592717124, 'beta_r': 0.8680121744271015, 'lr_f': 0.6500991142619219, 'lr_r': 0.876812258714752, 'stop_frac_r': 7, 'avg_frac_r': 9}. Best is trial 41 with value: 1.6653654772101922.\u001B[0m\n"
     ]
    },
    {
     "name": "stdout",
     "output_type": "stream",
     "text": [
      "last_regret=0.7702653376722427\n",
      "l_star=12 ; regret_mix=0.5292208958367705 ; last_regret=0.6209746430250537\n",
      "l_star=9 ; regret_mix=0.4102853378327653 ; last_regret=0.5095573211580855\n",
      "l_star=10 ; regret_mix=0.6289256205612852 ; last_regret=0.7688354932499548\n",
      "l_star=13 ; regret_mix=0.5903967966109324 ; last_regret=0.6771072511916313\n",
      "l_star=10 ; regret_mix=0.5029889275426497 ; last_regret=0.6254929617559946\n",
      "l_star=9 ; regret_mix=0.5866829767920546 ; last_regret=0.7437471711432824\n",
      "l_star=10 ; regret_mix=0.6514715977364705 ; last_regret=0.8210066846209021\n",
      "l_star=11 ; regret_mix=0.5933042038426914 ; last_regret=0.7134412857762977\n",
      "l_star=12 ; regret_mix=0.7128671908166833 ; last_regret=0.8170921864880364\n",
      "l_star=12 ; regret_mix=0.5828515050214307 ; "
     ]
    },
    {
     "name": "stderr",
     "output_type": "stream",
     "text": [
      "\u001B[32m[I 2023-05-12 14:09:20,121]\u001B[0m Trial 53 finished with value: 1.9392077231187694 and parameters: {'beta_f': 0.5322512256942369, 'beta_r': 0.9898492015784338, 'lr_f': 0.54959711155311, 'lr_r': 0.9523056464475677, 'stop_frac_r': 6, 'avg_frac_r': 10}. Best is trial 41 with value: 1.6653654772101922.\u001B[0m\n"
     ]
    },
    {
     "name": "stdout",
     "output_type": "stream",
     "text": [
      "last_regret=0.7243914284850292\n",
      "l_star=10 ; regret_mix=0.6160912446185216 ; last_regret=0.8144931904417212\n",
      "l_star=13 ; regret_mix=0.5656362072219814 ; last_regret=0.6848467172694578\n",
      "l_star=10 ; regret_mix=0.6385749174254094 ; last_regret=0.8005549337072927\n",
      "l_star=10 ; regret_mix=0.5855568073696876 ; last_regret=0.7396498244075063\n",
      "l_star=10 ; regret_mix=0.5558005614263666 ; last_regret=0.6914833598589238\n",
      "l_star=10 ; regret_mix=0.7020897633411042 ; last_regret=0.9445149708775997\n",
      "l_star=11 ; regret_mix=0.6907062527099094 ; last_regret=0.8816948520239842\n",
      "l_star=10 ; regret_mix=0.5665095007307768 ; last_regret=0.7338831635489385\n",
      "l_star=11 ; regret_mix=0.6587563952815835 ; last_regret=0.8724091455634423\n",
      "l_star=11 ; regret_mix=0.7982082560184107 ; "
     ]
    },
    {
     "name": "stderr",
     "output_type": "stream",
     "text": [
      "\u001B[32m[I 2023-05-12 14:13:49,034]\u001B[0m Trial 54 finished with value: 2.4485349105443244 and parameters: {'beta_f': 0.5906975862227581, 'beta_r': 0.8343037595580083, 'lr_f': 0.724563296810029, 'lr_r': 0.48930238508375345, 'stop_frac_r': 8, 'avg_frac_r': 9}. Best is trial 41 with value: 1.6653654772101922.\u001B[0m\n"
     ]
    },
    {
     "name": "stdout",
     "output_type": "stream",
     "text": [
      "last_regret=0.9941397623373929\n",
      "l_star=12 ; regret_mix=0.657060163528419 ; last_regret=0.8947672813702\n",
      "l_star=9 ; regret_mix=0.6393483012688465 ; last_regret=0.7953255316188095\n",
      "l_star=9 ; regret_mix=0.5344690141513736 ; last_regret=0.6575936571826976\n",
      "l_star=9 ; regret_mix=0.5323217580996131 ; last_regret=0.6826604471910498\n",
      "l_star=10 ; regret_mix=0.6281212333163005 ; last_regret=0.766521183693384\n",
      "l_star=10 ; regret_mix=0.5427615642667271 ; last_regret=0.6861232727376487\n",
      "l_star=9 ; regret_mix=0.6138074166454298 ; last_regret=0.8065546573198739\n",
      "l_star=11 ; regret_mix=0.630801621273086 ; last_regret=0.7920020567083039\n",
      "l_star=11 ; regret_mix=0.43570732417796965 ; last_regret=0.5381583577361186\n",
      "l_star=10 ; regret_mix=0.6350147916263712 ; "
     ]
    },
    {
     "name": "stderr",
     "output_type": "stream",
     "text": [
      "\u001B[32m[I 2023-05-12 14:18:12,550]\u001B[0m Trial 55 finished with value: 2.303551267596886 and parameters: {'beta_f': 0.7429255342396797, 'beta_r': 0.9046007524273246, 'lr_f': 0.8747134254984414, 'lr_r': 0.6643498055236305, 'stop_frac_r': 10, 'avg_frac_r': 10}. Best is trial 41 with value: 1.6653654772101922.\u001B[0m\n"
     ]
    },
    {
     "name": "stdout",
     "output_type": "stream",
     "text": [
      "last_regret=0.7564867261680227\n",
      "l_star=10 ; regret_mix=0.7414135529399986 ; last_regret=1.0559855197732846\n",
      "l_star=12 ; regret_mix=0.6227590100639009 ; last_regret=0.7888767071466032\n",
      "l_star=14 ; regret_mix=0.6338468839715391 ; last_regret=0.7965511827215848\n",
      "l_star=10 ; regret_mix=0.6010110446132044 ; last_regret=0.8058947502383186\n",
      "l_star=10 ; regret_mix=0.6404062152294523 ; last_regret=0.8830099450862611\n",
      "l_star=13 ; regret_mix=0.6227959596389268 ; last_regret=0.8172296108816477\n",
      "l_star=10 ; regret_mix=0.5021890322384136 ; last_regret=0.7005213853392758\n",
      "l_star=10 ; regret_mix=0.36923697293134755 ; last_regret=0.4585289755093588\n",
      "l_star=12 ; regret_mix=0.5840108478908359 ; last_regret=0.7956032151273706\n",
      "l_star=14 ; regret_mix=0.7733586065502481 ; "
     ]
    },
    {
     "name": "stderr",
     "output_type": "stream",
     "text": [
      "\u001B[32m[I 2023-05-12 14:22:19,621]\u001B[0m Trial 56 finished with value: 2.817678830448011 and parameters: {'beta_f': 0.6719709987239864, 'beta_r': 0.7196874617106339, 'lr_f': 0.3708441280397896, 'lr_r': 0.7597854741063592, 'stop_frac_r': 9, 'avg_frac_r': 9}. Best is trial 41 with value: 1.6653654772101922.\u001B[0m\n"
     ]
    },
    {
     "name": "stdout",
     "output_type": "stream",
     "text": [
      "last_regret=0.997175907429407\n",
      "l_star=10 ; regret_mix=0.5337740885601346 ; last_regret=0.7266076704303177\n",
      "l_star=8 ; regret_mix=0.5398523572814283 ; last_regret=0.7887573878063221\n",
      "l_star=9 ; regret_mix=0.44591080481363266 ; last_regret=0.622583788993708\n",
      "l_star=10 ; regret_mix=0.6858605789951682 ; last_regret=0.9420441711048767\n",
      "l_star=11 ; regret_mix=0.5516528897663671 ; last_regret=0.7711812887184508\n",
      "l_star=10 ; regret_mix=0.6056449075961835 ; last_regret=0.83817084381317\n",
      "l_star=10 ; regret_mix=0.7471998917120193 ; last_regret=0.9800469793477512\n",
      "l_star=9 ; regret_mix=0.5443524292709314 ; last_regret=0.7433646907792979\n",
      "l_star=11 ; regret_mix=0.5881620931436264 ; last_regret=0.8443926152614007\n",
      "l_star=10 ; regret_mix=0.5633170243891241 ; "
     ]
    },
    {
     "name": "stderr",
     "output_type": "stream",
     "text": [
      "\u001B[32m[I 2023-05-12 14:26:37,344]\u001B[0m Trial 57 finished with value: 3.2427327742699417 and parameters: {'beta_f': 0.6010348866956381, 'beta_r': 0.9331398500437217, 'lr_f': 0.7667572273764673, 'lr_r': 0.8047951181288145, 'stop_frac_r': 1, 'avg_frac_r': 7}. Best is trial 41 with value: 1.6653654772101922.\u001B[0m\n"
     ]
    },
    {
     "name": "stdout",
     "output_type": "stream",
     "text": [
      "last_regret=0.7601045671761575\n",
      "l_star=10 ; regret_mix=0.6171547631302755 ; last_regret=0.7795125846248537\n",
      "l_star=8 ; regret_mix=0.6037595018209577 ; last_regret=0.7639528886302073\n",
      "l_star=11 ; regret_mix=0.6852214693377694 ; last_regret=0.8130684204849926\n",
      "l_star=12 ; regret_mix=0.7307902905562818 ; last_regret=0.8619253048856942\n",
      "l_star=9 ; regret_mix=0.6027829631086994 ; last_regret=0.7272508331723249\n",
      "l_star=13 ; regret_mix=0.42579435722813186 ; last_regret=0.49657588487171817\n",
      "l_star=9 ; regret_mix=0.4785269760402408 ; last_regret=0.5872163860530998\n",
      "l_star=10 ; regret_mix=0.5935654365185992 ; last_regret=0.6983886782796335\n",
      "l_star=12 ; regret_mix=0.7178874923197157 ; last_regret=0.8411616511524016\n",
      "l_star=8 ; regret_mix=0.3986294776025169 ; "
     ]
    },
    {
     "name": "stderr",
     "output_type": "stream",
     "text": [
      "\u001B[32m[I 2023-05-12 14:31:01,106]\u001B[0m Trial 58 finished with value: 1.9617784082014307 and parameters: {'beta_f': 0.5681611835907642, 'beta_r': 0.9403208248734717, 'lr_f': 0.7215875766750961, 'lr_r': 0.8624330646528011, 'stop_frac_r': 3, 'avg_frac_r': 8}. Best is trial 41 with value: 1.6653654772101922.\u001B[0m\n"
     ]
    },
    {
     "name": "stdout",
     "output_type": "stream",
     "text": [
      "last_regret=0.5324783104313701\n",
      "l_star=9 ; regret_mix=0.5834816397245256 ; last_regret=0.7388053295236947\n",
      "l_star=12 ; regret_mix=0.7104366362573086 ; last_regret=0.8341327423263352\n",
      "l_star=12 ; regret_mix=0.7013177748037739 ; last_regret=0.8265826940171453\n",
      "l_star=11 ; regret_mix=0.6015094496877973 ; last_regret=0.718437009087281\n",
      "l_star=11 ; regret_mix=0.6477274416913774 ; last_regret=0.7860346585960134\n",
      "l_star=11 ; regret_mix=0.6912266145225628 ; last_regret=0.8324688888729959\n",
      "l_star=12 ; regret_mix=0.5785665779683927 ; last_regret=0.6683531548382156\n",
      "l_star=9 ; regret_mix=0.6679575975364739 ; last_regret=0.8432233472530011\n",
      "l_star=13 ; regret_mix=0.6582102580386182 ; last_regret=0.7655721620013144\n",
      "l_star=11 ; regret_mix=0.6920255029296408 ; "
     ]
    },
    {
     "name": "stderr",
     "output_type": "stream",
     "text": [
      "\u001B[32m[I 2023-05-12 14:35:24,445]\u001B[0m Trial 59 finished with value: 1.8070604953720415 and parameters: {'beta_f': 0.6467072454298078, 'beta_r': 0.9494898901546875, 'lr_f': 0.6046357811943606, 'lr_r': 0.9688332558372135, 'stop_frac_r': 7, 'avg_frac_r': 8}. Best is trial 41 with value: 1.6653654772101922.\u001B[0m\n"
     ]
    },
    {
     "name": "stdout",
     "output_type": "stream",
     "text": [
      "last_regret=0.8126870093830181\n",
      "l_star=11 ; regret_mix=0.5627390605726255 ; last_regret=0.6723868154745355\n",
      "l_star=10 ; regret_mix=0.6058019888413199 ; last_regret=0.7067164018891443\n",
      "l_star=10 ; regret_mix=0.6223800797713462 ; last_regret=0.7844795734779333\n",
      "l_star=10 ; regret_mix=0.5826222745423931 ; last_regret=0.6835223822062342\n",
      "l_star=10 ; regret_mix=0.6056319717563018 ; last_regret=0.7566913200830895\n",
      "l_star=12 ; regret_mix=0.6883393399386659 ; last_regret=0.8205839953985338\n",
      "l_star=12 ; regret_mix=0.6811188506897335 ; last_regret=0.7991897221798696\n",
      "l_star=10 ; regret_mix=0.7583348472847221 ; last_regret=0.9373909791276002\n",
      "l_star=13 ; regret_mix=0.5816380562876283 ; last_regret=0.6730843190187203\n",
      "l_star=13 ; regret_mix=0.7400715976095547 ; "
     ]
    },
    {
     "name": "stderr",
     "output_type": "stream",
     "text": [
      "\u001B[32m[I 2023-05-12 14:39:52,826]\u001B[0m Trial 60 finished with value: 1.78282539929177 and parameters: {'beta_f': 0.6338314905225021, 'beta_r': 0.9705338067204579, 'lr_f': 0.5951834114026835, 'lr_r': 0.9949259666669101, 'stop_frac_r': 7, 'avg_frac_r': 8}. Best is trial 41 with value: 1.6653654772101922.\u001B[0m\n"
     ]
    },
    {
     "name": "stdout",
     "output_type": "stream",
     "text": [
      "last_regret=0.8540689637262429\n",
      "l_star=11 ; regret_mix=0.723835735486219 ; last_regret=0.8407607001328731\n",
      "l_star=11 ; regret_mix=0.5471740277992314 ; last_regret=0.6489337255661293\n",
      "l_star=12 ; regret_mix=0.6405974454628045 ; last_regret=0.7768459928675137\n",
      "l_star=9 ; regret_mix=0.5867349946830682 ; last_regret=0.7285976628369222\n",
      "l_star=14 ; regret_mix=0.6853080392907553 ; last_regret=0.8036248116670095\n",
      "l_star=10 ; regret_mix=0.7091797417808008 ; last_regret=0.8336368540130522\n",
      "l_star=13 ; regret_mix=0.6473401626352914 ; last_regret=0.7528907599510863\n",
      "l_star=10 ; regret_mix=0.6560836966295587 ; last_regret=0.79039637149938\n",
      "l_star=12 ; regret_mix=0.7523476539207654 ; last_regret=0.9007666550668818\n",
      "l_star=12 ; regret_mix=0.628228318300956 ; "
     ]
    },
    {
     "name": "stderr",
     "output_type": "stream",
     "text": [
      "\u001B[32m[I 2023-05-12 14:44:13,583]\u001B[0m Trial 61 finished with value: 1.7238679909560815 and parameters: {'beta_f': 0.6395257557857569, 'beta_r': 0.9697258631477227, 'lr_f': 0.5885353070322108, 'lr_r': 0.9107780374693147, 'stop_frac_r': 7, 'avg_frac_r': 8}. Best is trial 41 with value: 1.6653654772101922.\u001B[0m\n"
     ]
    },
    {
     "name": "stdout",
     "output_type": "stream",
     "text": [
      "last_regret=0.7341996452699859\n",
      "l_star=11 ; regret_mix=0.5386047542959354 ; last_regret=0.6575139233171362\n",
      "l_star=11 ; regret_mix=0.4598731991502566 ; last_regret=0.5480270248584196\n",
      "l_star=12 ; regret_mix=0.45525344871421825 ; last_regret=0.5451901143778383\n",
      "l_star=9 ; regret_mix=0.5001368097418963 ; last_regret=0.6107022395445374\n",
      "l_star=10 ; regret_mix=0.5346387029597578 ; last_regret=0.6447446004680887\n",
      "l_star=10 ; regret_mix=0.6691552983167017 ; last_regret=0.825927147563261\n",
      "l_star=12 ; regret_mix=0.6793219435032326 ; last_regret=0.7961406220784354\n",
      "l_star=10 ; regret_mix=0.5861875330023585 ; last_regret=0.7037372908410524\n",
      "l_star=9 ; regret_mix=0.46970993001237976 ; last_regret=0.5670479806618274\n",
      "l_star=12 ; regret_mix=0.7938262054558473 ; "
     ]
    },
    {
     "name": "stderr",
     "output_type": "stream",
     "text": [
      "\u001B[32m[I 2023-05-12 14:48:30,327]\u001B[0m Trial 62 finished with value: 1.8308671190836225 and parameters: {'beta_f': 0.6277863123464138, 'beta_r': 0.9705631590771093, 'lr_f': 0.47177161176385796, 'lr_r': 0.9920791570460217, 'stop_frac_r': 6, 'avg_frac_r': 8}. Best is trial 41 with value: 1.6653654772101922.\u001B[0m\n"
     ]
    },
    {
     "name": "stdout",
     "output_type": "stream",
     "text": [
      "last_regret=0.9208873716494755\n",
      "l_star=12 ; regret_mix=0.6204974910146789 ; last_regret=0.7283409705512541\n",
      "l_star=11 ; regret_mix=0.6694859438265461 ; last_regret=0.7792656548614134\n",
      "l_star=11 ; regret_mix=0.5665303551842774 ; last_regret=0.6793235772185472\n",
      "l_star=11 ; regret_mix=0.7034037061151502 ; last_regret=0.8533578351247263\n",
      "l_star=12 ; regret_mix=0.7213782207659439 ; last_regret=0.8464642322765529\n",
      "l_star=11 ; regret_mix=0.446982117127868 ; last_regret=0.5463944394337639\n",
      "l_star=9 ; regret_mix=0.6822309732752262 ; last_regret=0.8188240533313274\n",
      "l_star=12 ; regret_mix=0.38300458886749833 ; last_regret=0.4677220526942475\n",
      "l_star=11 ; regret_mix=0.5491910030576854 ; last_regret=0.6505563218392071\n",
      "l_star=11 ; regret_mix=0.5884952431267549 ; "
     ]
    },
    {
     "name": "stderr",
     "output_type": "stream",
     "text": [
      "\u001B[32m[I 2023-05-12 14:52:44,412]\u001B[0m Trial 63 finished with value: 1.7718546734710579 and parameters: {'beta_f': 0.6847702056626789, 'beta_r': 0.9620040477518201, 'lr_f': 0.5928882347943291, 'lr_r': 0.9116648352776405, 'stop_frac_r': 7, 'avg_frac_r': 8}. Best is trial 41 with value: 1.6653654772101922.\u001B[0m\n"
     ]
    },
    {
     "name": "stdout",
     "output_type": "stream",
     "text": [
      "last_regret=0.6993017663654535\n",
      "l_star=9 ; regret_mix=0.5389783437418528 ; last_regret=0.6708673174250638\n",
      "l_star=10 ; regret_mix=0.539454074452843 ; last_regret=0.6799358250685463\n",
      "l_star=11 ; regret_mix=0.6323223252964584 ; last_regret=0.7908386381539226\n",
      "l_star=11 ; regret_mix=0.7112158472459909 ; last_regret=0.8749477684620575\n",
      "l_star=10 ; regret_mix=0.4736149665103034 ; last_regret=0.572099101094345\n",
      "l_star=11 ; regret_mix=0.579695658405239 ; last_regret=0.7021991085923298\n",
      "l_star=12 ; regret_mix=0.6317218383614156 ; last_regret=0.7652035671799927\n",
      "l_star=12 ; regret_mix=0.5119629627452081 ; last_regret=0.624292086196218\n",
      "l_star=11 ; regret_mix=0.6286286719762213 ; last_regret=0.7545515173884496\n",
      "l_star=12 ; regret_mix=0.7434971026276875 ; "
     ]
    },
    {
     "name": "stderr",
     "output_type": "stream",
     "text": [
      "\u001B[32m[I 2023-05-12 14:56:58,808]\u001B[0m Trial 64 finished with value: 2.0228770609521978 and parameters: {'beta_f': 0.683670186589904, 'beta_r': 0.9652498973045602, 'lr_f': 0.5991973143247968, 'lr_r': 0.8488294617932286, 'stop_frac_r': 7, 'avg_frac_r': 8}. Best is trial 41 with value: 1.6653654772101922.\u001B[0m\n"
     ]
    },
    {
     "name": "stdout",
     "output_type": "stream",
     "text": [
      "last_regret=0.8976222857202195\n",
      "l_star=11 ; regret_mix=0.40607743628102205 ; last_regret=0.4897700267961316\n",
      "l_star=11 ; regret_mix=0.7096748908453111 ; last_regret=0.8515568664703749\n",
      "l_star=10 ; regret_mix=0.6897953674877786 ; last_regret=0.8107440557571431\n",
      "l_star=13 ; regret_mix=0.6482331322919558 ; last_regret=0.7541522475574244\n",
      "l_star=10 ; regret_mix=0.6526103953988084 ; last_regret=0.7625496116243831\n",
      "l_star=11 ; regret_mix=0.5502027179518553 ; last_regret=0.6431743564741971\n",
      "l_star=10 ; regret_mix=0.5454893703805757 ; last_regret=0.6748410846230603\n",
      "l_star=11 ; regret_mix=0.3914450363215036 ; last_regret=0.4834373148241117\n",
      "l_star=10 ; regret_mix=0.7155087769909657 ; last_regret=0.8698046151575263\n",
      "l_star=8 ; regret_mix=0.5389980903134652 ; "
     ]
    },
    {
     "name": "stderr",
     "output_type": "stream",
     "text": [
      "\u001B[32m[I 2023-05-12 15:01:14,207]\u001B[0m Trial 65 finished with value: 1.821829690750374 and parameters: {'beta_f': 0.6442658817225296, 'beta_r': 0.9723592573958577, 'lr_f': 0.411327350392955, 'lr_r': 0.9087555971129404, 'stop_frac_r': 6, 'avg_frac_r': 7}. Best is trial 41 with value: 1.6653654772101922.\u001B[0m\n"
     ]
    },
    {
     "name": "stdout",
     "output_type": "stream",
     "text": [
      "last_regret=0.6638309451167109\n",
      "l_star=11 ; regret_mix=0.5584499460458022 ; last_regret=0.6883127542005466\n",
      "l_star=11 ; regret_mix=0.5421060017596266 ; last_regret=0.6741391814421258\n",
      "l_star=10 ; regret_mix=0.6825402935103413 ; last_regret=0.885395983098387\n",
      "l_star=12 ; regret_mix=0.4797769061684379 ; last_regret=0.6290673533514322\n",
      "l_star=9 ; regret_mix=0.3772548750372345 ; last_regret=0.5457821575146452\n",
      "l_star=13 ; regret_mix=0.7310677667315303 ; last_regret=0.8879124070508326\n",
      "l_star=10 ; regret_mix=0.6534594673957627 ; last_regret=0.8183515550251953\n",
      "l_star=13 ; regret_mix=0.7568771335735844 ; last_regret=0.9144638655489978\n",
      "l_star=9 ; regret_mix=0.6274330144072356 ; last_regret=0.8084824519996051\n",
      "l_star=10 ; regret_mix=0.5836745328676761 ; "
     ]
    },
    {
     "name": "stderr",
     "output_type": "stream",
     "text": [
      "\u001B[32m[I 2023-05-12 15:05:56,751]\u001B[0m Trial 66 finished with value: 2.409699240247532 and parameters: {'beta_f': 0.7215238853072994, 'beta_r': 0.9530146456190353, 'lr_f': 0.5211199529927446, 'lr_r': 0.4211102718893509, 'stop_frac_r': 5, 'avg_frac_r': 7}. Best is trial 41 with value: 1.6653654772101922.\u001B[0m\n"
     ]
    },
    {
     "name": "stdout",
     "output_type": "stream",
     "text": [
      "last_regret=0.7274333949566397\n",
      "l_star=10 ; regret_mix=0.6175098045017833 ; last_regret=0.7620674624648213\n",
      "l_star=11 ; regret_mix=0.6166001488584215 ; last_regret=0.7124510117282498\n",
      "l_star=12 ; regret_mix=0.5993670714907224 ; last_regret=0.703865784884193\n",
      "l_star=10 ; regret_mix=0.6314801675349365 ; last_regret=0.7955860898489213\n",
      "l_star=10 ; regret_mix=0.6056216571023211 ; last_regret=0.797440751000454\n",
      "l_star=13 ; regret_mix=0.7076725643505525 ; last_regret=0.8225542794975347\n",
      "l_star=11 ; regret_mix=0.5443504023762199 ; last_regret=0.6637811835986216\n",
      "l_star=10 ; regret_mix=0.6236121542182782 ; last_regret=0.7543047818112598\n",
      "l_star=10 ; regret_mix=0.7091548441132565 ; last_regret=0.8543578878890927\n",
      "l_star=11 ; regret_mix=0.6709656504550786 ; "
     ]
    },
    {
     "name": "stderr",
     "output_type": "stream",
     "text": [
      "\u001B[32m[I 2023-05-12 15:10:13,502]\u001B[0m Trial 67 finished with value: 1.9540970246709883 and parameters: {'beta_f': 0.7084577668182475, 'beta_r': 0.9893575011465189, 'lr_f': 0.5805700163853426, 'lr_r': 0.968177552865613, 'stop_frac_r': 7, 'avg_frac_r': 8}. Best is trial 41 with value: 1.6653654772101922.\u001B[0m\n"
     ]
    },
    {
     "name": "stdout",
     "output_type": "stream",
     "text": [
      "last_regret=0.8253188869821719\n",
      "l_star=10 ; regret_mix=0.5187105155307041 ; last_regret=0.6201995489024513\n",
      "l_star=9 ; regret_mix=0.456692211145185 ; last_regret=0.5477049423011073\n",
      "l_star=11 ; regret_mix=0.6684437587870683 ; last_regret=0.7968768361966412\n",
      "l_star=12 ; regret_mix=0.5223109201412597 ; last_regret=0.6015659880780568\n",
      "l_star=9 ; regret_mix=0.6662406940219692 ; last_regret=0.8477026095989555\n",
      "l_star=9 ; regret_mix=0.6475654223803384 ; last_regret=0.8482707307666976\n",
      "l_star=11 ; regret_mix=0.57036519261276 ; last_regret=0.6771126195740076\n",
      "l_star=10 ; regret_mix=0.5951024246198235 ; last_regret=0.7182264629734044\n",
      "l_star=13 ; regret_mix=0.5285406403456143 ; last_regret=0.6267329568111647\n",
      "l_star=13 ; regret_mix=0.7176876863769741 ; "
     ]
    },
    {
     "name": "stderr",
     "output_type": "stream",
     "text": [
      "\u001B[32m[I 2023-05-12 15:14:15,412]\u001B[0m Trial 68 finished with value: 1.8843544889985977 and parameters: {'beta_f': 0.6429024566183495, 'beta_r': 0.924467135572387, 'lr_f': 0.6380145829228402, 'lr_r': 0.9026646684736053, 'stop_frac_r': 7, 'avg_frac_r': 8}. Best is trial 41 with value: 1.6653654772101922.\u001B[0m\n"
     ]
    },
    {
     "name": "stdout",
     "output_type": "stream",
     "text": [
      "last_regret=0.8473159592787897\n",
      "l_star=12 ; regret_mix=0.6642052072988812 ; last_regret=0.7644499547094317\n",
      "l_star=11 ; regret_mix=0.6235708321667253 ; last_regret=0.7585505545704561\n",
      "l_star=13 ; regret_mix=0.6898065929750942 ; last_regret=0.8485795500446429\n",
      "l_star=10 ; regret_mix=0.5245984798772896 ; last_regret=0.6234112338679859\n",
      "l_star=12 ; regret_mix=0.7282650445904152 ; last_regret=0.8501895230965069\n",
      "l_star=10 ; regret_mix=0.5955543401636906 ; last_regret=0.7236105521543684\n",
      "l_star=12 ; regret_mix=0.6708507081199545 ; last_regret=0.809325422054938\n",
      "l_star=15 ; regret_mix=0.5687872096480978 ; last_regret=0.6487914737449023\n",
      "l_star=11 ; regret_mix=0.722758436149043 ; last_regret=0.8356974666840491\n",
      "l_star=12 ; regret_mix=0.7285793892510295 ; "
     ]
    },
    {
     "name": "stderr",
     "output_type": "stream",
     "text": [
      "\u001B[32m[I 2023-05-12 15:18:21,998]\u001B[0m Trial 69 finished with value: 1.7407426807969164 and parameters: {'beta_f': 0.6187580746162877, 'beta_r': 0.9559680254091016, 'lr_f': 0.6703011915981475, 'lr_r': 0.9230039913677801, 'stop_frac_r': 6, 'avg_frac_r': 8}. Best is trial 41 with value: 1.6653654772101922.\u001B[0m\n"
     ]
    },
    {
     "name": "stdout",
     "output_type": "stream",
     "text": [
      "last_regret=0.8992804980894704\n",
      "l_star=11 ; regret_mix=0.6505712931219799 ; last_regret=0.7644211669205491\n",
      "l_star=8 ; regret_mix=0.6567317319937717 ; last_regret=0.8340494220566055\n",
      "l_star=10 ; regret_mix=0.6264248082680496 ; last_regret=0.745191407887061\n",
      "l_star=11 ; regret_mix=0.607634570626366 ; last_regret=0.7516900681948767\n",
      "l_star=11 ; regret_mix=0.5208403722681185 ; last_regret=0.6485513585698577\n",
      "l_star=12 ; regret_mix=0.5129851180997538 ; last_regret=0.6191599228766531\n",
      "l_star=10 ; regret_mix=0.4998801392910894 ; last_regret=0.6146859999615292\n",
      "l_star=11 ; regret_mix=0.6449945685263373 ; last_regret=0.7651765042299652\n",
      "l_star=12 ; regret_mix=0.7004121966704675 ; last_regret=0.8460041822350785\n",
      "l_star=9 ; regret_mix=0.4623340826287132 ; "
     ]
    },
    {
     "name": "stderr",
     "output_type": "stream",
     "text": [
      "\u001B[32m[I 2023-05-12 15:22:26,496]\u001B[0m Trial 70 finished with value: 1.9305833483249382 and parameters: {'beta_f': 0.6117492437418438, 'beta_r': 0.9554379405427013, 'lr_f': 0.5615620970939668, 'lr_r': 0.8824733192818749, 'stop_frac_r': 6, 'avg_frac_r': 8}. Best is trial 41 with value: 1.6653654772101922.\u001B[0m\n"
     ]
    },
    {
     "name": "stdout",
     "output_type": "stream",
     "text": [
      "last_regret=0.5480386180329406\n",
      "l_star=11 ; regret_mix=0.5079579225158176 ; last_regret=0.6974958041881164\n",
      "l_star=10 ; regret_mix=0.4765907189959457 ; last_regret=0.6412871294608494\n",
      "l_star=10 ; regret_mix=0.4350725341095837 ; last_regret=0.5784582225585686\n",
      "l_star=10 ; regret_mix=0.47377531558246827 ; last_regret=0.6785932414824768\n",
      "l_star=9 ; regret_mix=0.5050689365505274 ; last_regret=0.71040928443174\n",
      "l_star=12 ; regret_mix=0.7628536864695896 ; last_regret=1.0265667604714384\n",
      "l_star=11 ; regret_mix=0.6579661902007873 ; last_regret=0.8817762409615347\n",
      "l_star=11 ; regret_mix=0.44809191523758196 ; last_regret=0.6388750462625857\n",
      "l_star=11 ; regret_mix=0.5554951565628604 ; last_regret=0.7731202520509418\n",
      "l_star=10 ; regret_mix=0.5956739747813456 ; "
     ]
    },
    {
     "name": "stderr",
     "output_type": "stream",
     "text": [
      "\u001B[32m[I 2023-05-12 15:26:16,460]\u001B[0m Trial 71 finished with value: 3.224659650341345 and parameters: {'beta_f': 0.6833922717194381, 'beta_r': 0.621908415973637, 'lr_f': 0.6173328745557565, 'lr_r': 0.9726072926379278, 'stop_frac_r': 5, 'avg_frac_r': 7}. Best is trial 41 with value: 1.6653654772101922.\u001B[0m\n"
     ]
    },
    {
     "name": "stdout",
     "output_type": "stream",
     "text": [
      "last_regret=0.845703169489769\n",
      "l_star=9 ; regret_mix=0.6205663150099803 ; last_regret=0.8855669088814453\n",
      "l_star=11 ; regret_mix=0.6256141727376315 ; last_regret=0.832640671126852\n",
      "l_star=14 ; regret_mix=0.7089622843532362 ; last_regret=0.8892602677534722\n",
      "l_star=10 ; regret_mix=0.7258315424571875 ; last_regret=0.945669455244206\n",
      "l_star=11 ; regret_mix=0.6536235071050999 ; last_regret=0.8936373809639669\n",
      "l_star=11 ; regret_mix=0.6808719227868605 ; last_regret=0.8605521069886268\n",
      "l_star=10 ; regret_mix=0.4380772446343535 ; last_regret=0.6166447007373277\n",
      "l_star=10 ; regret_mix=0.5372788307343936 ; last_regret=0.7365602673588864\n",
      "l_star=10 ; regret_mix=0.50673879745233 ; last_regret=0.7134872509685206\n",
      "l_star=10 ; regret_mix=0.6534048398868039 ; "
     ]
    },
    {
     "name": "stderr",
     "output_type": "stream",
     "text": [
      "\u001B[32m[I 2023-05-12 15:31:10,087]\u001B[0m Trial 72 finished with value: 2.926168034271263 and parameters: {'beta_f': 0.5819284731045722, 'beta_r': 0.9044750545977328, 'lr_f': 0.484193685878396, 'lr_r': 0.2543718813861654, 'stop_frac_r': 7, 'avg_frac_r': 8}. Best is trial 41 with value: 1.6653654772101922.\u001B[0m\n"
     ]
    },
    {
     "name": "stdout",
     "output_type": "stream",
     "text": [
      "last_regret=0.8365022894978599\n",
      "l_star=10 ; regret_mix=0.6125155827307543 ; last_regret=0.7111835371835672\n",
      "l_star=10 ; regret_mix=0.46318781804144193 ; last_regret=0.5923533080525887\n",
      "l_star=12 ; regret_mix=0.4257923865075988 ; last_regret=0.5069195858909724\n",
      "l_star=11 ; regret_mix=0.625752512039369 ; last_regret=0.7258205034253278\n",
      "l_star=12 ; regret_mix=0.7442593585765243 ; last_regret=0.8645400765265555\n",
      "l_star=12 ; regret_mix=0.6834288952672879 ; last_regret=0.8008835331224701\n",
      "l_star=12 ; regret_mix=0.7209073461885006 ; last_regret=0.8624854266608684\n",
      "l_star=10 ; regret_mix=0.6598466945059767 ; last_regret=0.8162935160478925\n",
      "l_star=11 ; regret_mix=0.5791605629078757 ; last_regret=0.7021593945148876\n",
      "l_star=10 ; regret_mix=0.4097628111260961 ; "
     ]
    },
    {
     "name": "stderr",
     "output_type": "stream",
     "text": [
      "\u001B[32m[I 2023-05-12 15:35:18,212]\u001B[0m Trial 73 finished with value: 1.7777026591221312 and parameters: {'beta_f': 0.6223693070943971, 'beta_r': 0.9529370768660783, 'lr_f': 0.6623796100147252, 'lr_r': 0.9280468938517661, 'stop_frac_r': 6, 'avg_frac_r': 8}. Best is trial 41 with value: 1.6653654772101922.\u001B[0m\n"
     ]
    },
    {
     "name": "stdout",
     "output_type": "stream",
     "text": [
      "last_regret=0.48403163259761284\n",
      "l_star=12 ; regret_mix=0.737227705934422 ; last_regret=0.9828480209384827\n",
      "l_star=13 ; regret_mix=0.6995015660038723 ; last_regret=0.8635578600893551\n",
      "l_star=10 ; regret_mix=0.6355426295311514 ; last_regret=0.7979898163252475\n",
      "l_star=14 ; regret_mix=0.683217851087233 ; last_regret=0.8152866693333346\n",
      "l_star=12 ; regret_mix=0.6999105446384078 ; last_regret=0.8223574310748335\n",
      "l_star=9 ; regret_mix=0.48154232387294515 ; last_regret=0.6205594654282368\n",
      "l_star=11 ; regret_mix=0.6323965825047249 ; last_regret=0.7788695449443578\n",
      "l_star=13 ; regret_mix=0.6388029490999578 ; last_regret=0.7404943050617646\n",
      "l_star=11 ; regret_mix=0.6119259637170915 ; last_regret=0.699045319597167\n",
      "l_star=11 ; regret_mix=0.4430867183046084 ; "
     ]
    },
    {
     "name": "stderr",
     "output_type": "stream",
     "text": [
      "\u001B[32m[I 2023-05-12 15:39:22,833]\u001B[0m Trial 74 finished with value: 1.970301436198674 and parameters: {'beta_f': 0.6220402039012057, 'beta_r': 0.8767061142696682, 'lr_f': 0.6628773951715771, 'lr_r': 0.9237686723198055, 'stop_frac_r': 6, 'avg_frac_r': 8}. Best is trial 41 with value: 1.6653654772101922.\u001B[0m\n"
     ]
    },
    {
     "name": "stdout",
     "output_type": "stream",
     "text": [
      "last_regret=0.5218972517490466\n",
      "l_star=11 ; regret_mix=0.6271178448752325 ; last_regret=0.7334685982219927\n",
      "l_star=11 ; regret_mix=0.5144850495364204 ; last_regret=0.6339471362193506\n",
      "l_star=10 ; regret_mix=0.7071381577052389 ; last_regret=0.8640497987545963\n",
      "l_star=12 ; regret_mix=0.6750446803417736 ; last_regret=0.8041627824539312\n",
      "l_star=10 ; regret_mix=0.34712118616994925 ; last_regret=0.46186671721629674\n",
      "l_star=11 ; regret_mix=0.6407968042147331 ; last_regret=0.7839464100413873\n",
      "l_star=12 ; regret_mix=0.5847039568509628 ; last_regret=0.7296402574300683\n",
      "l_star=11 ; regret_mix=0.6432519735256695 ; last_regret=0.7660154312477737\n",
      "l_star=8 ; regret_mix=0.5748684388530043 ; last_regret=0.7557220716187585\n",
      "l_star=10 ; regret_mix=0.6220701814297559 ; "
     ]
    },
    {
     "name": "stderr",
     "output_type": "stream",
     "text": [
      "\u001B[32m[I 2023-05-12 15:43:36,407]\u001B[0m Trial 75 finished with value: 2.1296539363684843 and parameters: {'beta_f': 0.6680754298730759, 'beta_r': 0.9752448823410895, 'lr_f': 0.42683919862885766, 'lr_r': 0.8292249987217177, 'stop_frac_r': 5, 'avg_frac_r': 7}. Best is trial 41 with value: 1.6653654772101922.\u001B[0m\n"
     ]
    },
    {
     "name": "stdout",
     "output_type": "stream",
     "text": [
      "last_regret=0.7844284978061148\n",
      "l_star=11 ; regret_mix=0.7250284792029383 ; last_regret=0.9352454726170186\n",
      "l_star=10 ; regret_mix=0.7260320615326146 ; last_regret=0.915676473364642\n",
      "l_star=10 ; regret_mix=0.42732493985501835 ; last_regret=0.509262807816409\n",
      "l_star=9 ; regret_mix=0.38892033033284634 ; last_regret=0.48464271167160644\n",
      "l_star=11 ; regret_mix=0.5136937440272711 ; last_regret=0.6670144665560735\n",
      "l_star=12 ; regret_mix=0.6285550061314105 ; last_regret=0.7278657960839608\n",
      "l_star=12 ; regret_mix=0.6537235169958869 ; last_regret=0.7702577790194319\n",
      "l_star=9 ; regret_mix=0.6074462312491303 ; last_regret=0.7911350089837308\n",
      "l_star=11 ; regret_mix=0.7146565696615151 ; last_regret=0.854917667443369\n",
      "l_star=12 ; regret_mix=0.6646435639647517 ; "
     ]
    },
    {
     "name": "stderr",
     "output_type": "stream",
     "text": [
      "\u001B[32m[I 2023-05-12 15:47:48,537]\u001B[0m Trial 76 finished with value: 2.1185186444087662 and parameters: {'beta_f': 0.6342623921849131, 'beta_r': 0.9201215594597997, 'lr_f': 0.5389544591275072, 'lr_r': 0.6886813457339717, 'stop_frac_r': 6, 'avg_frac_r': 8}. Best is trial 41 with value: 1.6653654772101922.\u001B[0m\n"
     ]
    },
    {
     "name": "stdout",
     "output_type": "stream",
     "text": [
      "last_regret=0.8290821215770717\n",
      "l_star=9 ; regret_mix=0.5830422683654896 ; last_regret=0.7022958045757419\n",
      "l_star=11 ; regret_mix=0.5607100830108348 ; last_regret=0.6558360283551424\n",
      "l_star=11 ; regret_mix=0.7328618459115599 ; last_regret=0.8719829718802199\n",
      "l_star=10 ; regret_mix=0.489084788609727 ; last_regret=0.6182168181918983\n",
      "l_star=11 ; regret_mix=0.5007325935330663 ; last_regret=0.6265399184411816\n",
      "l_star=12 ; regret_mix=0.6827411034422057 ; last_regret=0.8223206525122134\n",
      "l_star=13 ; regret_mix=0.6166912517695474 ; last_regret=0.7298600988407637\n",
      "l_star=12 ; regret_mix=0.6813588627758363 ; last_regret=0.7983576282360345\n",
      "l_star=11 ; regret_mix=0.5754814094453071 ; last_regret=0.6999547229471845\n",
      "l_star=12 ; regret_mix=0.6176146731981634 ; "
     ]
    },
    {
     "name": "stderr",
     "output_type": "stream",
     "text": [
      "\u001B[32m[I 2023-05-12 15:51:56,326]\u001B[0m Trial 77 finished with value: 1.8455900258440008 and parameters: {'beta_f': 0.6152900382041653, 'beta_r': 0.9540783038318277, 'lr_f': 0.6608125166923734, 'lr_r': 0.9219360405399978, 'stop_frac_r': 7, 'avg_frac_r': 8}. Best is trial 41 with value: 1.6653654772101922.\u001B[0m\n"
     ]
    },
    {
     "name": "stdout",
     "output_type": "stream",
     "text": [
      "last_regret=0.7260517770946278\n",
      "l_star=12 ; regret_mix=0.5400754973509604 ; last_regret=0.6576358386669062\n",
      "l_star=10 ; regret_mix=0.6556106141498732 ; last_regret=0.8044569493286376\n",
      "l_star=9 ; regret_mix=0.6672681921698148 ; last_regret=0.8217458663056885\n",
      "l_star=12 ; regret_mix=0.6454220240074651 ; last_regret=0.7362065596228382\n",
      "l_star=11 ; regret_mix=0.6611096833866236 ; last_regret=0.817031777782341\n",
      "l_star=9 ; regret_mix=0.6334724947780761 ; last_regret=0.7555984229392579\n",
      "l_star=11 ; regret_mix=0.546749640516549 ; last_regret=0.6477644081699667\n",
      "l_star=11 ; regret_mix=0.5399916485418311 ; last_regret=0.6378752312499867\n",
      "l_star=14 ; regret_mix=0.6537790293999309 ; last_regret=0.7441475833720006\n",
      "l_star=11 ; regret_mix=0.6564900389878513 ; "
     ]
    },
    {
     "name": "stderr",
     "output_type": "stream",
     "text": [
      "\u001B[32m[I 2023-05-12 15:56:03,099]\u001B[0m Trial 78 finished with value: 1.742589015614674 and parameters: {'beta_f': 0.6561511411310867, 'beta_r': 0.9472438464224697, 'lr_f': 0.5788481264123799, 'lr_r': 0.99886860393691, 'stop_frac_r': 8, 'avg_frac_r': 8}. Best is trial 41 with value: 1.6653654772101922.\u001B[0m\n"
     ]
    },
    {
     "name": "stdout",
     "output_type": "stream",
     "text": [
      "last_regret=0.7608692395171033\n",
      "l_star=12 ; regret_mix=0.5883980733327304 ; last_regret=0.6888817491634125\n",
      "l_star=12 ; regret_mix=0.6855224517565087 ; last_regret=0.8095515320836422\n",
      "l_star=11 ; regret_mix=0.654144850211401 ; last_regret=0.8149586618965756\n",
      "l_star=11 ; regret_mix=0.6008839779806425 ; last_regret=0.7131307651188907\n",
      "l_star=12 ; regret_mix=0.5570003057370088 ; last_regret=0.668331970750244\n",
      "l_star=12 ; regret_mix=0.6342508370453455 ; last_regret=0.7392884707893702\n",
      "l_star=14 ; regret_mix=0.6055907547275977 ; last_regret=0.695357318769465\n",
      "l_star=8 ; regret_mix=0.5199605495397529 ; last_regret=0.6483769617576449\n",
      "l_star=12 ; regret_mix=0.6691347412897175 ; last_regret=0.783992492341512\n",
      "l_star=11 ; regret_mix=0.5420943820019652 ; "
     ]
    },
    {
     "name": "stderr",
     "output_type": "stream",
     "text": [
      "\u001B[32m[I 2023-05-12 16:00:12,317]\u001B[0m Trial 79 finished with value: 1.7344146710416801 and parameters: {'beta_f': 0.6659206635694052, 'beta_r': 0.9765343570546456, 'lr_f': 0.6974146826504747, 'lr_r': 0.9988641236253831, 'stop_frac_r': 8, 'avg_frac_r': 8}. Best is trial 41 with value: 1.6653654772101922.\u001B[0m\n"
     ]
    },
    {
     "name": "stdout",
     "output_type": "stream",
     "text": [
      "last_regret=0.6403408165126238\n",
      "l_star=12 ; regret_mix=0.6999187686753167 ; last_regret=0.8341031662979969\n",
      "l_star=9 ; regret_mix=0.5843468069588245 ; last_regret=0.7102378933941742\n",
      "l_star=11 ; regret_mix=0.35452770992018706 ; last_regret=0.44542432586147634\n",
      "l_star=8 ; regret_mix=0.6109688204008746 ; last_regret=0.7608492795241294\n",
      "l_star=12 ; regret_mix=0.6295703616075479 ; last_regret=0.7769729875317574\n",
      "l_star=9 ; regret_mix=0.5840547915906854 ; last_regret=0.7264520584553472\n",
      "l_star=10 ; regret_mix=0.6813524164626362 ; last_regret=0.8178340043384021\n",
      "l_star=11 ; regret_mix=0.35154470540530347 ; last_regret=0.44541652539908727\n",
      "l_star=11 ; regret_mix=0.5474245366474626 ; last_regret=0.7040807199112391\n",
      "l_star=11 ; regret_mix=0.6124646916710472 ; "
     ]
    },
    {
     "name": "stderr",
     "output_type": "stream",
     "text": [
      "\u001B[32m[I 2023-05-12 16:04:33,455]\u001B[0m Trial 80 finished with value: 2.0601640179501213 and parameters: {'beta_f': 0.6621407696694093, 'beta_r': 0.9615978690689638, 'lr_f': 0.7529185032906427, 'lr_r': 0.8527338459685361, 'stop_frac_r': 8, 'avg_frac_r': 8}. Best is trial 41 with value: 1.6653654772101922.\u001B[0m\n"
     ]
    },
    {
     "name": "stdout",
     "output_type": "stream",
     "text": [
      "last_regret=0.7063142384988009\n",
      "l_star=10 ; regret_mix=0.5004576378450968 ; last_regret=0.6024723500668052\n",
      "l_star=13 ; regret_mix=0.6439754710724555 ; last_regret=0.776744742568095\n",
      "l_star=9 ; regret_mix=0.5312608045271955 ; last_regret=0.6583459019159695\n",
      "l_star=11 ; regret_mix=0.5839342952664214 ; last_regret=0.6838906435244417\n",
      "l_star=9 ; regret_mix=0.4752128639728593 ; last_regret=0.5800689883027051\n",
      "l_star=11 ; regret_mix=0.5690089734080785 ; last_regret=0.6855091210649787\n",
      "l_star=9 ; regret_mix=0.5008314586057747 ; last_regret=0.6198050123611325\n",
      "l_star=10 ; regret_mix=0.565371446927596 ; last_regret=0.6868997638608706\n",
      "l_star=9 ; regret_mix=0.35597368751992187 ; last_regret=0.4416303286240752\n",
      "l_star=11 ; regret_mix=0.5270797051323313 ; "
     ]
    },
    {
     "name": "stderr",
     "output_type": "stream",
     "text": [
      "\u001B[32m[I 2023-05-12 16:08:40,474]\u001B[0m Trial 81 finished with value: 1.9113443787399245 and parameters: {'beta_f': 0.6919802526327041, 'beta_r': 0.9000516325390577, 'lr_f': 0.6937543648970583, 'lr_r': 0.898163111911085, 'stop_frac_r': 8, 'avg_frac_r': 8}. Best is trial 41 with value: 1.6653654772101922.\u001B[0m\n"
     ]
    },
    {
     "name": "stdout",
     "output_type": "stream",
     "text": [
      "last_regret=0.6165456262083421\n",
      "l_star=11 ; regret_mix=0.7243370431504361 ; last_regret=0.8798429942896381\n",
      "l_star=11 ; regret_mix=0.7176142760022476 ; last_regret=0.8266382759588021\n",
      "l_star=8 ; regret_mix=0.6025929076907831 ; last_regret=0.7654747021466096\n",
      "l_star=10 ; regret_mix=0.4578317042333203 ; last_regret=0.5831397524568122\n",
      "l_star=10 ; regret_mix=0.558125632375438 ; last_regret=0.6775796583515998\n",
      "l_star=13 ; regret_mix=0.6991367849205854 ; last_regret=0.8066898204011405\n",
      "l_star=11 ; regret_mix=0.7589485185414796 ; last_regret=0.8987201298244747\n",
      "l_star=12 ; regret_mix=0.4859623578483922 ; last_regret=0.6007132741116771\n",
      "l_star=12 ; regret_mix=0.6000686057217233 ; last_regret=0.7198667972682403\n",
      "l_star=12 ; regret_mix=0.5927368875579332 ; "
     ]
    },
    {
     "name": "stderr",
     "output_type": "stream",
     "text": [
      "\u001B[32m[I 2023-05-12 16:12:51,687]\u001B[0m Trial 82 finished with value: 1.861205084290797 and parameters: {'beta_f': 0.653225730062208, 'beta_r': 0.9805524307743684, 'lr_f': 0.644309542279431, 'lr_r': 0.9290015532351268, 'stop_frac_r': 9, 'avg_frac_r': 9}. Best is trial 41 with value: 1.6653654772101922.\u001B[0m\n"
     ]
    },
    {
     "name": "stdout",
     "output_type": "stream",
     "text": [
      "last_regret=0.6845571569876746\n",
      "l_star=10 ; regret_mix=0.7393855022091472 ; last_regret=0.9141810317786663\n",
      "l_star=12 ; regret_mix=0.6138024768476509 ; last_regret=0.7163114124686408\n",
      "l_star=9 ; regret_mix=0.7082636607023212 ; last_regret=0.8743278442684841\n",
      "l_star=11 ; regret_mix=0.6824856315468694 ; last_regret=0.8264623176878363\n",
      "l_star=14 ; regret_mix=0.7439878654678422 ; last_regret=0.8814914346517515\n",
      "l_star=10 ; regret_mix=0.6597508111345289 ; last_regret=0.8087822545646078\n",
      "l_star=11 ; regret_mix=0.6054856156625811 ; last_regret=0.7294260453708673\n",
      "l_star=10 ; regret_mix=0.6803478584388964 ; last_regret=0.821047540769117\n",
      "l_star=10 ; regret_mix=0.629467054325529 ; last_regret=0.7812690337933286\n",
      "l_star=12 ; regret_mix=0.5686911635594329 ; "
     ]
    },
    {
     "name": "stderr",
     "output_type": "stream",
     "text": [
      "\u001B[32m[I 2023-05-12 16:17:15,883]\u001B[0m Trial 83 finished with value: 1.8734817795007275 and parameters: {'beta_f': 0.5874927956278183, 'beta_r': 0.9211018247925062, 'lr_f': 0.6829227959972842, 'lr_r': 0.9707948832255535, 'stop_frac_r': 8, 'avg_frac_r': 8}. Best is trial 41 with value: 1.6653654772101922.\u001B[0m\n"
     ]
    },
    {
     "name": "stdout",
     "output_type": "stream",
     "text": [
      "last_regret=0.6549823922435812\n",
      "l_star=10 ; regret_mix=0.7431871496233472 ; last_regret=0.919762340559986\n",
      "l_star=9 ; regret_mix=0.6628011541713233 ; last_regret=0.8162540385794409\n",
      "l_star=12 ; regret_mix=0.62464240079783 ; last_regret=0.7883454146896426\n",
      "l_star=10 ; regret_mix=0.6381560489564856 ; last_regret=0.7933240953694105\n",
      "l_star=10 ; regret_mix=0.6150118614650715 ; last_regret=0.7669298161348848\n",
      "l_star=10 ; regret_mix=0.6914800049332156 ; last_regret=0.8284378639559054\n",
      "l_star=10 ; regret_mix=0.5869880746897027 ; last_regret=0.7316537488264125\n",
      "l_star=10 ; regret_mix=0.5377422500190935 ; last_regret=0.6796323616683304\n",
      "l_star=10 ; regret_mix=0.5889961361174588 ; last_regret=0.729413592312882\n",
      "l_star=11 ; regret_mix=0.602532430278436 ; "
     ]
    },
    {
     "name": "stderr",
     "output_type": "stream",
     "text": [
      "\u001B[32m[I 2023-05-12 16:21:43,105]\u001B[0m Trial 84 finished with value: 2.1934310607693015 and parameters: {'beta_f': 0.6724465576546275, 'beta_r': 0.9438158702946634, 'lr_f': 0.7897869071356839, 'lr_r': 0.7644910251392663, 'stop_frac_r': 6, 'avg_frac_r': 8}. Best is trial 41 with value: 1.6653654772101922.\u001B[0m\n"
     ]
    },
    {
     "name": "stdout",
     "output_type": "stream",
     "text": [
      "last_regret=0.7750987021135514\n",
      "l_star=12 ; regret_mix=0.5856219226599898 ; last_regret=0.6887952408693984\n",
      "l_star=9 ; regret_mix=0.5865034435855817 ; last_regret=0.7426028208640167\n",
      "l_star=12 ; regret_mix=0.651532446312064 ; last_regret=0.7656348988954437\n",
      "l_star=10 ; regret_mix=0.5074126522131541 ; last_regret=0.5898115575723498\n",
      "l_star=11 ; regret_mix=0.47638759621333193 ; last_regret=0.5627111893403541\n",
      "l_star=11 ; regret_mix=0.6218971937490979 ; last_regret=0.745023329984813\n",
      "l_star=10 ; regret_mix=0.4796141245793384 ; last_regret=0.5930205707836431\n",
      "l_star=12 ; regret_mix=0.6201591424210381 ; last_regret=0.7737881762114314\n",
      "l_star=11 ; regret_mix=0.592736341554455 ; last_regret=0.7117314411811045\n",
      "l_star=9 ; regret_mix=0.5610905506932564 ; "
     ]
    },
    {
     "name": "stderr",
     "output_type": "stream",
     "text": [
      "\u001B[32m[I 2023-05-12 16:25:51,667]\u001B[0m Trial 85 finished with value: 1.8769980734768623 and parameters: {'beta_f': 0.5994458437378131, 'beta_r': 0.9440750215814556, 'lr_f': 0.5648862603152148, 'lr_r': 0.8182114624120569, 'stop_frac_r': 8, 'avg_frac_r': 8}. Best is trial 41 with value: 1.6653654772101922.\u001B[0m\n"
     ]
    },
    {
     "name": "stdout",
     "output_type": "stream",
     "text": [
      "last_regret=0.6875094173224092\n",
      "l_star=10 ; regret_mix=0.6265343601550932 ; last_regret=0.8363985716617823\n",
      "l_star=9 ; regret_mix=0.5566468075821487 ; last_regret=0.8148356690046169\n",
      "l_star=9 ; regret_mix=0.6526584066710756 ; last_regret=0.9480563488638662\n",
      "l_star=9 ; regret_mix=0.6771803728297057 ; last_regret=0.9189100596691442\n",
      "l_star=10 ; regret_mix=0.6938584497114707 ; last_regret=0.9327283469668164\n",
      "l_star=13 ; regret_mix=0.663980278139181 ; last_regret=0.8843363578951605\n",
      "l_star=13 ; regret_mix=0.6831151136216881 ; last_regret=0.922494747998008\n",
      "l_star=11 ; regret_mix=0.6866804737780003 ; last_regret=0.9556463634540494\n",
      "l_star=9 ; regret_mix=0.6582447572360052 ; last_regret=0.8833512734250718\n",
      "l_star=12 ; regret_mix=0.6925434703994271 ; "
     ]
    },
    {
     "name": "stderr",
     "output_type": "stream",
     "text": [
      "\u001B[32m[I 2023-05-12 16:29:49,723]\u001B[0m Trial 86 finished with value: 3.12042589573085 and parameters: {'beta_f': 0.5522373884024482, 'beta_r': 0.5120411438391078, 'lr_f': 0.5014967056173232, 'lr_r': 0.8697621420136878, 'stop_frac_r': 7, 'avg_frac_r': 8}. Best is trial 41 with value: 1.6653654772101922.\u001B[0m\n"
     ]
    },
    {
     "name": "stdout",
     "output_type": "stream",
     "text": [
      "last_regret=0.9020904449073706\n",
      "l_star=10 ; regret_mix=0.5368764491390646 ; last_regret=0.6503414149352232\n",
      "l_star=10 ; regret_mix=0.5128721995404187 ; last_regret=0.5915873392786372\n",
      "l_star=9 ; regret_mix=0.36303696583206996 ; last_regret=0.4639542387646869\n",
      "l_star=13 ; regret_mix=0.4283414833981457 ; last_regret=0.513163465324532\n",
      "l_star=9 ; regret_mix=0.7138424506907737 ; last_regret=0.8466008225403511\n",
      "l_star=12 ; regret_mix=0.7025817898080495 ; last_regret=0.8618456855445226\n",
      "l_star=10 ; regret_mix=0.4890182112844061 ; last_regret=0.5841459373432052\n",
      "l_star=12 ; regret_mix=0.6600671864704901 ; last_regret=0.7816441862801886\n",
      "l_star=10 ; regret_mix=0.625392635116508 ; last_regret=0.7837826974416582\n",
      "l_star=14 ; regret_mix=0.6388640877586633 ; "
     ]
    },
    {
     "name": "stderr",
     "output_type": "stream",
     "text": [
      "\u001B[32m[I 2023-05-12 16:34:02,536]\u001B[0m Trial 87 finished with value: 1.8622565801157427 and parameters: {'beta_f': 0.6328128288750104, 'beta_r': 0.9783859984140166, 'lr_f': 0.6280741486393281, 'lr_r': 0.9466920975540386, 'stop_frac_r': 7, 'avg_frac_r': 8}. Best is trial 41 with value: 1.6653654772101922.\u001B[0m\n"
     ]
    },
    {
     "name": "stdout",
     "output_type": "stream",
     "text": [
      "last_regret=0.745487623240109\n",
      "l_star=10 ; regret_mix=0.5199309231588132 ; last_regret=0.6184012428379532\n",
      "l_star=9 ; regret_mix=0.495424712253477 ; last_regret=0.6081667935443019\n",
      "l_star=11 ; regret_mix=0.5927261884947223 ; last_regret=0.6848677334059262\n",
      "l_star=11 ; regret_mix=0.7065904754242485 ; last_regret=0.8101497360073866\n",
      "l_star=11 ; regret_mix=0.6682269381190874 ; last_regret=0.8185957932692918\n",
      "l_star=11 ; regret_mix=0.600747265762873 ; last_regret=0.7400019001310758\n",
      "l_star=9 ; regret_mix=0.5753909626635494 ; last_regret=0.7092031158577423\n",
      "l_star=12 ; regret_mix=0.6505011646706875 ; last_regret=0.7901914712361836\n",
      "l_star=11 ; regret_mix=0.6356941853118312 ; last_regret=0.7590926831654938\n",
      "l_star=12 ; regret_mix=0.6988363530300695 ; "
     ]
    },
    {
     "name": "stderr",
     "output_type": "stream",
     "text": [
      "\u001B[32m[I 2023-05-12 16:38:18,090]\u001B[0m Trial 88 finished with value: 1.7966704870137045 and parameters: {'beta_f': 0.6169357673591709, 'beta_r': 0.9650571658359676, 'lr_f': 0.5852900243830917, 'lr_r': 0.9984859289657289, 'stop_frac_r': 8, 'avg_frac_r': 8}. Best is trial 41 with value: 1.6653654772101922.\u001B[0m\n"
     ]
    },
    {
     "name": "stdout",
     "output_type": "stream",
     "text": [
      "last_regret=0.8074483152347154\n",
      "l_star=10 ; regret_mix=0.46201666334957253 ; last_regret=0.571460136659739\n",
      "l_star=12 ; regret_mix=0.6150495458463229 ; last_regret=0.7127749942123724\n",
      "l_star=13 ; regret_mix=0.7060816662499472 ; last_regret=0.8275560842848195\n",
      "l_star=10 ; regret_mix=0.5814704133515542 ; last_regret=0.7134873220681782\n",
      "l_star=9 ; regret_mix=0.5682388422334596 ; last_regret=0.7014853263568596\n",
      "l_star=13 ; regret_mix=0.7243333750896775 ; last_regret=0.8498240927838004\n",
      "l_star=11 ; regret_mix=0.7378344115386409 ; last_regret=0.8818323850989168\n",
      "l_star=11 ; regret_mix=0.7572492330168131 ; last_regret=0.922700147066903\n",
      "l_star=9 ; regret_mix=0.5125038175271436 ; last_regret=0.6237754397580791\n",
      "l_star=10 ; regret_mix=0.5329641187008226 ; "
     ]
    },
    {
     "name": "stderr",
     "output_type": "stream",
     "text": [
      "\u001B[32m[I 2023-05-12 16:42:32,087]\u001B[0m Trial 89 finished with value: 1.8440113908566598 and parameters: {'beta_f': 0.6544698478597015, 'beta_r': 0.9289015667808648, 'lr_f': 0.6681494691862764, 'lr_r': 0.9938955899600614, 'stop_frac_r': 7, 'avg_frac_r': 8}. Best is trial 41 with value: 1.6653654772101922.\u001B[0m\n"
     ]
    },
    {
     "name": "stdout",
     "output_type": "stream",
     "text": [
      "last_regret=0.6366663258234481\n",
      "l_star=12 ; regret_mix=0.7234902445190156 ; last_regret=0.8508667325303713\n",
      "l_star=11 ; regret_mix=0.46445117605967223 ; last_regret=0.5422276044586928\n",
      "l_star=13 ; regret_mix=0.7764901933284026 ; last_regret=0.9088998149798768\n",
      "l_star=12 ; regret_mix=0.6780882611958368 ; last_regret=0.8073406405870228\n",
      "l_star=12 ; regret_mix=0.62827117589802 ; last_regret=0.7298642939636948\n",
      "l_star=11 ; regret_mix=0.5729014825511247 ; last_regret=0.696433434280061\n",
      "l_star=10 ; regret_mix=0.7002171371248394 ; last_regret=0.865184786999192\n",
      "l_star=11 ; regret_mix=0.47380514920415645 ; last_regret=0.571232768004327\n",
      "l_star=11 ; regret_mix=0.5176979591929225 ; last_regret=0.6159853530090401\n",
      "l_star=10 ; regret_mix=0.5855379745700087 ; "
     ]
    },
    {
     "name": "stderr",
     "output_type": "stream",
     "text": [
      "\u001B[32m[I 2023-05-12 16:46:46,084]\u001B[0m Trial 90 finished with value: 1.7527112465488237 and parameters: {'beta_f': 0.7098821548734577, 'beta_r': 0.9608499402078949, 'lr_f': 0.7073558327267393, 'lr_r': 0.8922734380640821, 'stop_frac_r': 6, 'avg_frac_r': 8}. Best is trial 41 with value: 1.6653654772101922.\u001B[0m\n"
     ]
    },
    {
     "name": "stdout",
     "output_type": "stream",
     "text": [
      "last_regret=0.7054216478372058\n",
      "l_star=9 ; regret_mix=0.5868068760873795 ; last_regret=0.7041269925942604\n",
      "l_star=11 ; regret_mix=0.5269133329041339 ; last_regret=0.6141838175888727\n",
      "l_star=10 ; regret_mix=0.5869410909720791 ; last_regret=0.6956601196508531\n",
      "l_star=10 ; regret_mix=0.6548177838312645 ; last_regret=0.775023224479828\n",
      "l_star=11 ; regret_mix=0.6513888006329902 ; last_regret=0.8047956528813653\n",
      "l_star=10 ; regret_mix=0.5062748931844417 ; last_regret=0.6303170040401052\n",
      "l_star=10 ; regret_mix=0.5323788003056629 ; last_regret=0.6599671792332898\n",
      "l_star=11 ; regret_mix=0.576023818764677 ; last_regret=0.6764549759682433\n",
      "l_star=10 ; regret_mix=0.6007617446454312 ; last_regret=0.7362652625131945\n",
      "l_star=11 ; regret_mix=0.6053077944995897 ; "
     ]
    },
    {
     "name": "stderr",
     "output_type": "stream",
     "text": [
      "\u001B[32m[I 2023-05-12 16:50:59,508]\u001B[0m Trial 91 finished with value: 1.8667278540176917 and parameters: {'beta_f': 0.7032216275044452, 'beta_r': 0.9584630914756705, 'lr_f': 0.698892453068279, 'lr_r': 0.9013537893802241, 'stop_frac_r': 6, 'avg_frac_r': 8}. Best is trial 41 with value: 1.6653654772101922.\u001B[0m\n"
     ]
    },
    {
     "name": "stdout",
     "output_type": "stream",
     "text": [
      "last_regret=0.7269825761195393\n",
      "l_star=12 ; regret_mix=0.43001459564156785 ; last_regret=0.508482616684578\n",
      "l_star=10 ; regret_mix=0.5935607471036113 ; last_regret=0.708183764186563\n",
      "l_star=9 ; regret_mix=0.6130287849655219 ; last_regret=0.7445883957451487\n",
      "l_star=11 ; regret_mix=0.5747251693710762 ; last_regret=0.6459167558220813\n",
      "l_star=8 ; regret_mix=0.6761411121474747 ; last_regret=0.8383825955006997\n",
      "l_star=12 ; regret_mix=0.5967432189325356 ; last_regret=0.7398368898698157\n",
      "l_star=10 ; regret_mix=0.6230980902809522 ; last_regret=0.7738852119843898\n",
      "l_star=10 ; regret_mix=0.43939072796414674 ; last_regret=0.5207247027345547\n",
      "l_star=10 ; regret_mix=0.6921249033028527 ; last_regret=0.8263856644385197\n",
      "l_star=13 ; regret_mix=0.6644610291456651 ; "
     ]
    },
    {
     "name": "stderr",
     "output_type": "stream",
     "text": [
      "\u001B[32m[I 2023-05-12 16:55:03,147]\u001B[0m Trial 92 finished with value: 1.8491395864534983 and parameters: {'beta_f': 0.7591048104078049, 'beta_r': 0.9126914290602351, 'lr_f': 0.7479478766380327, 'lr_r': 0.9296890449876993, 'stop_frac_r': 5, 'avg_frac_r': 7}. Best is trial 41 with value: 1.6653654772101922.\u001B[0m\n"
     ]
    },
    {
     "name": "stdout",
     "output_type": "stream",
     "text": [
      "last_regret=0.8114954277274156\n",
      "l_star=11 ; regret_mix=0.5526464799363546 ; last_regret=0.6856451452978578\n",
      "l_star=9 ; regret_mix=0.6454737922884 ; last_regret=0.8175183275176439\n",
      "l_star=12 ; regret_mix=0.48892185798761034 ; last_regret=0.6074121732061083\n",
      "l_star=12 ; regret_mix=0.6323212034220532 ; last_regret=0.741700138430189\n",
      "l_star=11 ; regret_mix=0.6143206176849717 ; last_regret=0.7398962001229962\n",
      "l_star=12 ; regret_mix=0.6200862821670848 ; last_regret=0.7186334288406645\n",
      "l_star=9 ; regret_mix=0.47735993849907227 ; last_regret=0.6095765515527196\n",
      "l_star=9 ; regret_mix=0.6079954326021891 ; last_regret=0.7378156645364715\n",
      "l_star=12 ; regret_mix=0.7330705822577481 ; last_regret=0.879542564457646\n",
      "l_star=12 ; regret_mix=0.6916874089125453 ; "
     ]
    },
    {
     "name": "stderr",
     "output_type": "stream",
     "text": [
      "\u001B[32m[I 2023-05-12 16:59:08,605]\u001B[0m Trial 93 finished with value: 1.9666393971926663 and parameters: {'beta_f': 0.73566878624731, 'beta_r': 0.9411659774242447, 'lr_f': 0.7023271681003476, 'lr_r': 0.882334791986206, 'stop_frac_r': 5, 'avg_frac_r': 7}. Best is trial 41 with value: 1.6653654772101922.\u001B[0m\n"
     ]
    },
    {
     "name": "stdout",
     "output_type": "stream",
     "text": [
      "last_regret=0.8318271064530343\n",
      "l_star=14 ; regret_mix=0.5922010258430724 ; last_regret=0.7163297969914649\n",
      "l_star=11 ; regret_mix=0.4986321045148418 ; last_regret=0.6113621397335941\n",
      "l_star=10 ; regret_mix=0.6861537796021573 ; last_regret=0.8792907237015717\n",
      "l_star=10 ; regret_mix=0.5504637085929109 ; last_regret=0.6766920297858662\n",
      "l_star=11 ; regret_mix=0.6718160047819858 ; last_regret=0.8033023943492521\n",
      "l_star=10 ; regret_mix=0.6280953763208353 ; last_regret=0.8023305005732533\n",
      "l_star=12 ; regret_mix=0.7380665308949689 ; last_regret=0.8558758843153446\n",
      "l_star=10 ; regret_mix=0.6529688239975195 ; last_regret=0.7877868418615379\n",
      "l_star=8 ; regret_mix=0.47400233163609307 ; last_regret=0.615009641457907\n",
      "l_star=10 ; regret_mix=0.5937197912395351 ; "
     ]
    },
    {
     "name": "stderr",
     "output_type": "stream",
     "text": [
      "\u001B[32m[I 2023-05-12 17:03:18,194]\u001B[0m Trial 94 finished with value: 2.028337295246529 and parameters: {'beta_f': 0.7177185223225749, 'beta_r': 0.9860698899459958, 'lr_f': 0.7667235161150755, 'lr_r': 0.8440345915316677, 'stop_frac_r': 9, 'avg_frac_r': 9}. Best is trial 41 with value: 1.6653654772101922.\u001B[0m\n"
     ]
    },
    {
     "name": "stdout",
     "output_type": "stream",
     "text": [
      "last_regret=0.696710303870007\n",
      "l_star=10 ; regret_mix=0.6440747686042111 ; last_regret=0.7483464863765542\n",
      "l_star=10 ; regret_mix=0.5982572109973964 ; last_regret=0.770339721812485\n",
      "l_star=15 ; regret_mix=0.5614988309751792 ; last_regret=0.6417519934814834\n",
      "l_star=10 ; regret_mix=0.6732465755180662 ; last_regret=0.7981802961655635\n",
      "l_star=10 ; regret_mix=0.7382879549804852 ; last_regret=0.8973837331082769\n",
      "l_star=10 ; regret_mix=0.6279204561289384 ; last_regret=0.8075214453709121\n",
      "l_star=11 ; regret_mix=0.6236513810518336 ; last_regret=0.7612055054641478\n",
      "l_star=10 ; regret_mix=0.5923856374805228 ; last_regret=0.674145763667872\n",
      "l_star=8 ; regret_mix=0.6665237735367104 ; last_regret=0.8737398884853323\n",
      "l_star=11 ; regret_mix=0.6374462833340897 ; "
     ]
    },
    {
     "name": "stderr",
     "output_type": "stream",
     "text": [
      "\u001B[32m[I 2023-05-12 17:10:42,058]\u001B[0m Trial 95 finished with value: 1.9417222736069788 and parameters: {'beta_f': 0.6785627795261917, 'beta_r': 0.8903854214185769, 'lr_f': 0.012004475649459168, 'lr_r': 0.9694677502888398, 'stop_frac_r': 6, 'avg_frac_r': 8}. Best is trial 41 with value: 1.6653654772101922.\u001B[0m\n"
     ]
    },
    {
     "name": "stdout",
     "output_type": "stream",
     "text": [
      "last_regret=0.7700858995702305\n",
      "l_star=10 ; regret_mix=0.7003733635577454 ; last_regret=0.8629156298643976\n",
      "l_star=11 ; regret_mix=0.5798822807076706 ; last_regret=0.6751846199669758\n",
      "l_star=13 ; regret_mix=0.5633359739699735 ; last_regret=0.6629520337482351\n",
      "l_star=11 ; regret_mix=0.6113301755953495 ; last_regret=0.7251572439493044\n",
      "l_star=13 ; regret_mix=0.6901203327212138 ; last_regret=0.8032504870867331\n",
      "l_star=12 ; regret_mix=0.5022246613569272 ; last_regret=0.5788464737860064\n",
      "l_star=10 ; regret_mix=0.5595762708538492 ; last_regret=0.6691053236684906\n",
      "l_star=10 ; regret_mix=0.7491112448508397 ; last_regret=0.9046070667618431\n",
      "l_star=14 ; regret_mix=0.6655440101739087 ; last_regret=0.7630174320658137\n",
      "l_star=12 ; regret_mix=0.44028071782277783 ; "
     ]
    },
    {
     "name": "stderr",
     "output_type": "stream",
     "text": [
      "\u001B[32m[I 2023-05-12 17:15:05,424]\u001B[0m Trial 96 finished with value: 1.7029544053155659 and parameters: {'beta_f': 0.6954672798710251, 'beta_r': 0.9308412716466838, 'lr_f': 0.6307184807281696, 'lr_r': 0.9488220132862178, 'stop_frac_r': 8, 'avg_frac_r': 8}. Best is trial 41 with value: 1.6653654772101922.\u001B[0m\n"
     ]
    },
    {
     "name": "stdout",
     "output_type": "stream",
     "text": [
      "last_regret=0.5435292287035708\n",
      "l_star=11 ; regret_mix=0.6409489016124787 ; last_regret=0.7641931557598399\n",
      "l_star=10 ; regret_mix=0.6103097773445555 ; last_regret=0.7112389669854977\n",
      "l_star=12 ; regret_mix=0.5701947389017963 ; last_regret=0.6558856958955116\n",
      "l_star=10 ; regret_mix=0.5672197550534285 ; last_regret=0.6730586329521282\n",
      "l_star=11 ; regret_mix=0.5318967958861215 ; last_regret=0.6471068139054269\n",
      "l_star=11 ; regret_mix=0.6702863305237619 ; last_regret=0.7924134337068615\n",
      "l_star=12 ; regret_mix=0.5943071582765486 ; last_regret=0.7018048969612095\n",
      "l_star=11 ; regret_mix=0.6435432989848683 ; last_regret=0.7737441694538756\n",
      "l_star=10 ; regret_mix=0.5577935414539418 ; last_regret=0.6742415989010974\n",
      "l_star=11 ; regret_mix=0.5197123915236807 ; "
     ]
    },
    {
     "name": "stderr",
     "output_type": "stream",
     "text": [
      "\u001B[32m[I 2023-05-12 17:19:22,206]\u001B[0m Trial 97 finished with value: 1.6905011759308346 and parameters: {'beta_f': 0.6914832413892202, 'beta_r': 0.9494936246976315, 'lr_f': 0.6294125756534995, 'lr_r': 0.9549110280437941, 'stop_frac_r': 8, 'avg_frac_r': 8}. Best is trial 41 with value: 1.6653654772101922.\u001B[0m\n"
     ]
    },
    {
     "name": "stdout",
     "output_type": "stream",
     "text": [
      "last_regret=0.6019768227770953\n",
      "l_star=9 ; regret_mix=0.5680618345188552 ; last_regret=0.7116262105386211\n",
      "l_star=13 ; regret_mix=0.7104759031657017 ; last_regret=0.8359226576354334\n",
      "l_star=13 ; regret_mix=0.6508363259701566 ; last_regret=0.7533351827926141\n",
      "l_star=8 ; regret_mix=0.41354725777753426 ; last_regret=0.5465206059240212\n",
      "l_star=11 ; regret_mix=0.6617394809636624 ; last_regret=0.8184634937094858\n",
      "l_star=10 ; regret_mix=0.6534890879377538 ; last_regret=0.8029953120251051\n",
      "l_star=10 ; regret_mix=0.4815011883160431 ; last_regret=0.6177028824054149\n",
      "l_star=11 ; regret_mix=0.7328548255531213 ; last_regret=0.8707941479616137\n",
      "l_star=15 ; regret_mix=0.6678864046711412 ; last_regret=0.7712608885548741\n",
      "l_star=10 ; regret_mix=0.5229611838337497 ; "
     ]
    },
    {
     "name": "stderr",
     "output_type": "stream",
     "text": [
      "\u001B[32m[I 2023-05-12 17:23:26,068]\u001B[0m Trial 98 finished with value: 2.0043043784753563 and parameters: {'beta_f': 0.6968065637561458, 'beta_r': 0.9285972337579573, 'lr_f': 0.62121614536476, 'lr_r': 0.9470156301665716, 'stop_frac_r': 8, 'avg_frac_r': 8}. Best is trial 41 with value: 1.6653654772101922.\u001B[0m\n"
     ]
    },
    {
     "name": "stdout",
     "output_type": "stream",
     "text": [
      "last_regret=0.6434153254274443\n",
      "l_star=13 ; regret_mix=0.6388684309335485 ; last_regret=0.7645606648999461\n",
      "l_star=11 ; regret_mix=0.6538029228486167 ; last_regret=0.7843102501044308\n",
      "l_star=11 ; regret_mix=0.7142366921225675 ; last_regret=0.8606323534236517\n",
      "l_star=12 ; regret_mix=0.7208304503752087 ; last_regret=0.8672190444284923\n",
      "l_star=10 ; regret_mix=0.40862493864707944 ; last_regret=0.4941420804549583\n",
      "l_star=11 ; regret_mix=0.7421168758833273 ; last_regret=0.8797255129365781\n",
      "l_star=11 ; regret_mix=0.5548887241034887 ; last_regret=0.6669373467446775\n",
      "l_star=13 ; regret_mix=0.36682730709042044 ; last_regret=0.4502890049222857\n",
      "l_star=11 ; regret_mix=0.5765759070850699 ; last_regret=0.7214153000406189\n",
      "l_star=10 ; regret_mix=0.6106035887970606 ; "
     ]
    },
    {
     "name": "stderr",
     "output_type": "stream",
     "text": [
      "\u001B[32m[I 2023-05-12 17:27:35,858]\u001B[0m Trial 99 finished with value: 1.8835704485685594 and parameters: {'beta_f': 0.7086073172761799, 'beta_r': 0.9613615574883073, 'lr_f': 0.6387809088487145, 'lr_r': 0.9179320287893104, 'stop_frac_r': 8, 'avg_frac_r': 8}. Best is trial 41 with value: 1.6653654772101922.\u001B[0m\n"
     ]
    },
    {
     "name": "stdout",
     "output_type": "stream",
     "text": [
      "last_regret=0.7291742523219618\n",
      "l_star=13 ; regret_mix=0.5917643899945669 ; last_regret=0.8206475441214519\n",
      "l_star=8 ; regret_mix=0.5869909813805548 ; last_regret=0.8611745228860644\n",
      "l_star=11 ; regret_mix=0.6850575843558147 ; last_regret=0.9185025246358504\n",
      "l_star=9 ; regret_mix=0.3160345689289607 ; last_regret=0.44971021960590907\n",
      "l_star=13 ; regret_mix=0.6744495237045953 ; last_regret=0.8635399992850948\n",
      "l_star=11 ; regret_mix=0.7237212093329957 ; last_regret=0.9269403096614233\n",
      "l_star=9 ; regret_mix=0.39873239745590916 ; last_regret=0.5412067784744788\n",
      "l_star=11 ; regret_mix=0.5979555516003339 ; last_regret=0.8003255194006264\n",
      "l_star=11 ; regret_mix=0.5707780908137376 ; last_regret=0.8039709706689644\n",
      "l_star=12 ; regret_mix=0.6588000444737192 ; "
     ]
    },
    {
     "name": "stderr",
     "output_type": "stream",
     "text": [
      "\u001B[32m[I 2023-05-12 17:31:36,593]\u001B[0m Trial 100 finished with value: 3.139433393492533 and parameters: {'beta_f': 0.6865967712207296, 'beta_r': 0.6726167949789679, 'lr_f': 0.5272799372207917, 'lr_r': 0.6234264875353397, 'stop_frac_r': 9, 'avg_frac_r': 9}. Best is trial 41 with value: 1.6653654772101922.\u001B[0m\n"
     ]
    },
    {
     "name": "stdout",
     "output_type": "stream",
     "text": [
      "last_regret=0.9339146125400405\n",
      "l_star=10 ; regret_mix=0.6541312814526856 ; last_regret=0.8739119930921073\n",
      "l_star=12 ; regret_mix=0.5650161888171398 ; last_regret=0.7084815763347055\n",
      "l_star=11 ; regret_mix=0.7099558269023998 ; last_regret=0.9109047753450742\n",
      "l_star=11 ; regret_mix=0.7040683578668362 ; last_regret=0.9293880607578602\n",
      "l_star=13 ; regret_mix=0.6711291508493383 ; last_regret=0.8546712419947855\n",
      "l_star=11 ; regret_mix=0.678950882184878 ; last_regret=0.9312500624285698\n",
      "l_star=10 ; regret_mix=0.6006322748719395 ; last_regret=0.8004177227849999\n",
      "l_star=13 ; regret_mix=0.6989633946249196 ; last_regret=0.8779399315847954\n",
      "l_star=11 ; regret_mix=0.6415715476216166 ; last_regret=0.8588137606202673\n",
      "l_star=10 ; regret_mix=0.6444761146911521 ; "
     ]
    },
    {
     "name": "stderr",
     "output_type": "stream",
     "text": [
      "\u001B[32m[I 2023-05-12 17:35:41,435]\u001B[0m Trial 101 finished with value: 2.7193651874755367 and parameters: {'beta_f': 0.6577457222886232, 'beta_r': 0.7542237606659863, 'lr_f': 0.570013733161159, 'lr_r': 0.5251404344688008, 'stop_frac_r': 8, 'avg_frac_r': 8}. Best is trial 41 with value: 1.6653654772101922.\u001B[0m\n"
     ]
    },
    {
     "name": "stdout",
     "output_type": "stream",
     "text": [
      "last_regret=0.8804901684408584\n",
      "l_star=12 ; regret_mix=0.6093773618307258 ; last_regret=0.7145229798873632\n",
      "l_star=13 ; regret_mix=0.5675691866241829 ; last_regret=0.6695012882322514\n",
      "l_star=10 ; regret_mix=0.6743960930838074 ; last_regret=0.84411142666775\n",
      "l_star=10 ; regret_mix=0.5444665874012702 ; last_regret=0.6629979069849357\n",
      "l_star=9 ; regret_mix=0.45929062192996845 ; last_regret=0.5672204025070107\n",
      "l_star=13 ; regret_mix=0.6788843467236404 ; last_regret=0.7905820374136228\n",
      "l_star=10 ; regret_mix=0.742651631266457 ; last_regret=0.8879935133960546\n",
      "l_star=10 ; regret_mix=0.7824135175177411 ; last_regret=0.9280275408218175\n",
      "l_star=12 ; regret_mix=0.6726400992562954 ; last_regret=0.8280604883597809\n",
      "l_star=12 ; regret_mix=0.7275582353210329 ; "
     ]
    },
    {
     "name": "stderr",
     "output_type": "stream",
     "text": [
      "\u001B[32m[I 2023-05-12 17:39:51,836]\u001B[0m Trial 102 finished with value: 1.8474911892277883 and parameters: {'beta_f': 0.7347652029355222, 'beta_r': 0.9794967919799038, 'lr_f': 0.6606549706467575, 'lr_r': 0.8866413917365286, 'stop_frac_r': 9, 'avg_frac_r': 9}. Best is trial 41 with value: 1.6653654772101922.\u001B[0m\n"
     ]
    },
    {
     "name": "stdout",
     "output_type": "stream",
     "text": [
      "last_regret=0.871948720077168\n",
      "l_star=13 ; regret_mix=0.2820067556587514 ; last_regret=0.3409244803575229\n",
      "l_star=10 ; regret_mix=0.6023651602758685 ; last_regret=0.7125394737061868\n",
      "l_star=12 ; regret_mix=0.7077299477934342 ; last_regret=0.8465481028296575\n",
      "l_star=13 ; regret_mix=0.7029163502207679 ; last_regret=0.8351293564397697\n",
      "l_star=11 ; regret_mix=0.6771132095279966 ; last_regret=0.8441519774934263\n",
      "l_star=8 ; regret_mix=0.47383827301708614 ; last_regret=0.5882790047644958\n",
      "l_star=13 ; regret_mix=0.6038741172131552 ; last_regret=0.7073599995432954\n",
      "l_star=13 ; regret_mix=0.5420264118772479 ; last_regret=0.6472807568950357\n",
      "l_star=12 ; regret_mix=0.7093896446170055 ; last_regret=0.83633690505755\n",
      "l_star=12 ; regret_mix=0.6602768476783243 ; "
     ]
    },
    {
     "name": "stderr",
     "output_type": "stream",
     "text": [
      "\u001B[32m[I 2023-05-12 17:44:02,054]\u001B[0m Trial 103 finished with value: 1.8246738648269016 and parameters: {'beta_f': 0.7532922744028937, 'beta_r': 0.9527780475573686, 'lr_f': 0.6017840112643236, 'lr_r': 0.9710098418133379, 'stop_frac_r': 8, 'avg_frac_r': 8}. Best is trial 41 with value: 1.6653654772101922.\u001B[0m\n"
     ]
    },
    {
     "name": "stdout",
     "output_type": "stream",
     "text": [
      "last_regret=0.7892500460248439\n",
      "l_star=9 ; regret_mix=0.5361225562867191 ; last_regret=0.653665385438177\n",
      "l_star=10 ; regret_mix=0.6575523476357621 ; last_regret=0.8090724302587027\n",
      "l_star=10 ; regret_mix=0.5920742174669893 ; last_regret=0.7298226587192883\n",
      "l_star=12 ; regret_mix=0.6166807587860111 ; last_regret=0.7795389984840534\n",
      "l_star=12 ; regret_mix=0.6156427815918328 ; last_regret=0.7153850794139557\n",
      "l_star=12 ; regret_mix=0.5491234613633527 ; last_regret=0.6474167126783802\n",
      "l_star=12 ; regret_mix=0.605735046474211 ; last_regret=0.7053851387743636\n",
      "l_star=10 ; regret_mix=0.6551034953783567 ; last_regret=0.7662449133218948\n",
      "l_star=10 ; regret_mix=0.616754175348866 ; last_regret=0.7186047519796751\n",
      "l_star=10 ; regret_mix=0.7072059724122167 ; "
     ]
    },
    {
     "name": "stderr",
     "output_type": "stream",
     "text": [
      "\u001B[32m[I 2023-05-12 17:48:11,596]\u001B[0m Trial 104 finished with value: 1.804741650835602 and parameters: {'beta_f': 0.7260345148325227, 'beta_r': 0.9665538387183744, 'lr_f': 0.5473212445814499, 'lr_r': 0.9342468497358596, 'stop_frac_r': 8, 'avg_frac_r': 8}. Best is trial 41 with value: 1.6653654772101922.\u001B[0m\n"
     ]
    },
    {
     "name": "stdout",
     "output_type": "stream",
     "text": [
      "last_regret=0.8457925763054227\n",
      "l_star=12 ; regret_mix=0.715884252759623 ; last_regret=0.848239745097315\n",
      "l_star=9 ; regret_mix=0.5224051791286856 ; last_regret=0.6573095843144616\n",
      "l_star=14 ; regret_mix=0.6654686499926228 ; last_regret=0.7739746602218809\n",
      "l_star=9 ; regret_mix=0.705661508278667 ; last_regret=0.8877696315658926\n",
      "l_star=11 ; regret_mix=0.542555112741944 ; last_regret=0.6584302176234211\n",
      "l_star=10 ; regret_mix=0.6141194604896087 ; last_regret=0.7230729857070527\n",
      "l_star=12 ; regret_mix=0.6810188634855053 ; last_regret=0.7938878743129651\n",
      "l_star=8 ; regret_mix=0.4617784774627335 ; last_regret=0.5747018880729066\n",
      "l_star=12 ; regret_mix=0.626423051434094 ; last_regret=0.7539499002894173\n",
      "l_star=12 ; regret_mix=0.5451864313049176 ; "
     ]
    },
    {
     "name": "stderr",
     "output_type": "stream",
     "text": [
      "\u001B[32m[I 2023-05-12 17:52:20,134]\u001B[0m Trial 105 finished with value: 1.8644126125159919 and parameters: {'beta_f': 0.6661724615908835, 'beta_r': 0.9354257827627598, 'lr_f': 0.6753170015421486, 'lr_r': 0.861346604346396, 'stop_frac_r': 7, 'avg_frac_r': 8}. Best is trial 41 with value: 1.6653654772101922.\u001B[0m\n",
      "\u001B[32m[I 2023-05-12 17:52:20,167]\u001B[0m Using an existing study with name 'optuna_optimization_d=20_r=5_sigma=matrix_type.DIAG_s=matrix_type.IDENTITY_m=20_Tr=100_var=3' instead of creating a new one.\u001B[0m\n"
     ]
    },
    {
     "name": "stdout",
     "output_type": "stream",
     "text": [
      "last_regret=0.6462922676081928\n",
      "l_star=9 ; regret_mix=0.5050412083881823 ; last_regret=0.6245589785257547\n",
      "l_star=9 ; regret_mix=0.5437440550743585 ; last_regret=0.6698601648105154\n",
      "l_star=7 ; regret_mix=0.5646848757698508 ; last_regret=0.8185500625174459\n",
      "l_star=7 ; regret_mix=0.29958940132780426 ; last_regret=0.3513576063536658\n",
      "l_star=7 ; regret_mix=0.08990404619178254 ; last_regret=0.11415048893359767\n",
      "l_star=8 ; regret_mix=0.035639114707591145 ; last_regret=0.05361654931608134\n",
      "l_star=8 ; regret_mix=0.19808807812760598 ; last_regret=0.25090872879985326\n",
      "l_star=10 ; regret_mix=0.18391226085083814 ; last_regret=0.21225967074482344\n",
      "l_star=8 ; regret_mix=0.04247230796268355 ; last_regret=0.05354744484261622\n",
      "l_star=8 ; regret_mix=0.12084295629482152 ; "
     ]
    },
    {
     "name": "stderr",
     "output_type": "stream",
     "text": [
      "\u001B[32m[I 2023-05-12 17:58:04,766]\u001B[0m Trial 4 finished with value: 2.54234450840382 and parameters: {'beta_f': 0.8149942516221897, 'beta_r': 0.7815386075024984, 'lr_f': 0.025893354975894955, 'lr_r': 0.9995613845546413, 'stop_frac_r': 6, 'avg_frac_r': 7}. Best is trial 4 with value: 2.54234450840382.\u001B[0m\n"
     ]
    },
    {
     "name": "stdout",
     "output_type": "stream",
     "text": [
      "last_regret=0.16843472842251042\n",
      "l_star=10 ; regret_mix=0.12809290868430223 ; last_regret=0.21370909102905672\n",
      "l_star=8 ; regret_mix=0.03733417034616577 ; last_regret=0.0806302761247127\n",
      "l_star=8 ; regret_mix=0.10669337301370048 ; last_regret=0.21449285000201251\n",
      "l_star=8 ; regret_mix=0.3169370303580281 ; last_regret=0.44784202571127224\n",
      "l_star=7 ; regret_mix=0.08185920390208727 ; last_regret=0.15231729742125028\n",
      "l_star=7 ; regret_mix=0.2714334652521411 ; last_regret=0.38039523580251516\n",
      "l_star=7 ; regret_mix=0.15960967496408598 ; last_regret=0.264257584335143\n",
      "l_star=6 ; regret_mix=0.36739769614704426 ; last_regret=0.6120166511012485\n",
      "l_star=6 ; regret_mix=0.04018209671567639 ; last_regret=0.12336304526711414\n",
      "l_star=7 ; regret_mix=0.038744459923202766 ; "
     ]
    },
    {
     "name": "stderr",
     "output_type": "stream",
     "text": [
      "\u001B[32m[I 2023-05-12 18:05:10,078]\u001B[0m Trial 5 finished with value: 6.294481995338695 and parameters: {'beta_f': 0.6837861049423157, 'beta_r': 0.815532161175959, 'lr_f': 0.7681732393271579, 'lr_r': 0.0954005642212783, 'stop_frac_r': 2, 'avg_frac_r': 2}. Best is trial 4 with value: 2.54234450840382.\u001B[0m\n"
     ]
    },
    {
     "name": "stdout",
     "output_type": "stream",
     "text": [
      "last_regret=0.09284332601756431\n",
      "l_star=8 ; regret_mix=0.023494990980168783 ; last_regret=0.03974587461436532\n",
      "l_star=9 ; regret_mix=0.5366516043154618 ; last_regret=0.6322699680705129\n",
      "l_star=6 ; regret_mix=0.03936257441658253 ; last_regret=0.04581476521240063\n",
      "l_star=10 ; regret_mix=0.13357699952880933 ; last_regret=0.18490079100279322\n",
      "l_star=7 ; regret_mix=0.10957278104703914 ; last_regret=0.13448073115990508\n",
      "l_star=8 ; regret_mix=0.1453280607200128 ; last_regret=0.20470421268519925\n",
      "l_star=8 ; regret_mix=0.09414277141544045 ; last_regret=0.1221511511716246\n",
      "l_star=8 ; regret_mix=0.06023214870505213 ; last_regret=0.09236496306552805\n",
      "l_star=7 ; regret_mix=0.2377291894600509 ; last_regret=0.3304670898968984\n",
      "l_star=8 ; regret_mix=0.6370004231688263 ; "
     ]
    },
    {
     "name": "stderr",
     "output_type": "stream",
     "text": [
      "\u001B[32m[I 2023-05-12 18:09:44,077]\u001B[0m Trial 6 finished with value: 2.8994644030261676 and parameters: {'beta_f': 0.7702576302032165, 'beta_r': 0.8539646324002965, 'lr_f': 0.877872282221439, 'lr_r': 0.5094244534391665, 'stop_frac_r': 6, 'avg_frac_r': 7}. Best is trial 4 with value: 2.54234450840382.\u001B[0m\n"
     ]
    },
    {
     "name": "stdout",
     "output_type": "stream",
     "text": [
      "last_regret=0.7535902714412179\n",
      "l_star=9 ; regret_mix=0.16184418992652053 ; last_regret=0.20466905203196156\n",
      "l_star=9 ; regret_mix=0.127007980031218 ; last_regret=0.17647894323038243\n",
      "l_star=10 ; regret_mix=0.26510413911271713 ; last_regret=0.37503153789386345\n",
      "l_star=6 ; regret_mix=0.2536604850629448 ; last_regret=0.4062510184984708\n",
      "l_star=8 ; regret_mix=0.5546571260226346 ; last_regret=0.766673624077967\n",
      "l_star=6 ; regret_mix=0.2052338777365013 ; last_regret=0.34643085440002375\n",
      "l_star=7 ; regret_mix=0.17782873912794436 ; last_regret=0.22864965884674726\n",
      "l_star=8 ; regret_mix=0.3550574232393166 ; last_regret=0.5183858412687755\n",
      "l_star=7 ; regret_mix=0.1546063247265156 ; last_regret=0.24351623740498818\n",
      "l_star=6 ; regret_mix=0.13821639657324192 ; "
     ]
    },
    {
     "name": "stderr",
     "output_type": "stream",
     "text": [
      "\u001B[32m[I 2023-05-12 18:15:56,883]\u001B[0m Trial 7 finished with value: 3.6463740504527036 and parameters: {'beta_f': 0.5822732694645965, 'beta_r': 0.5641271715631686, 'lr_f': 0.017586960249433403, 'lr_r': 0.23061072172369057, 'stop_frac_r': 10, 'avg_frac_r': 10}. Best is trial 4 with value: 2.54234450840382.\u001B[0m\n"
     ]
    },
    {
     "name": "stdout",
     "output_type": "stream",
     "text": [
      "last_regret=0.19291791866572194\n",
      "l_star=7 ; regret_mix=0.07795820386948858 ; last_regret=0.1147147329118126\n",
      "l_star=7 ; regret_mix=0.006552356803883109 ; last_regret=0.01778398672666272\n",
      "l_star=6 ; regret_mix=0.16264310408913948 ; last_regret=0.23081549256690542\n",
      "l_star=6 ; regret_mix=0.08125763027120575 ; last_regret=0.14590433988653162\n",
      "l_star=9 ; regret_mix=0.00210032226102573 ; last_regret=0.0051628411760540225\n",
      "l_star=7 ; regret_mix=0.24251050754983872 ; last_regret=0.2975354593220732\n",
      "l_star=9 ; regret_mix=0.6520978454842793 ; last_regret=0.8682813745636662\n",
      "l_star=9 ; regret_mix=0.44034863026682824 ; last_regret=0.6058841900371781\n",
      "l_star=7 ; regret_mix=0.015020049565553719 ; last_regret=0.04295442554544025\n",
      "l_star=8 ; regret_mix=0.3236280000092153 ; "
     ]
    },
    {
     "name": "stderr",
     "output_type": "stream",
     "text": [
      "\u001B[32m[I 2023-05-12 18:22:03,330]\u001B[0m Trial 8 finished with value: 5.336838110385066 and parameters: {'beta_f': 0.9324247030604658, 'beta_r': 0.8553359355604166, 'lr_f': 0.7136977032958453, 'lr_r': 0.16687627325422805, 'stop_frac_r': 8, 'avg_frac_r': 9}. Best is trial 4 with value: 2.54234450840382.\u001B[0m\n"
     ]
    },
    {
     "name": "stdout",
     "output_type": "stream",
     "text": [
      "last_regret=0.4183067497350917\n",
      "l_star=9 ; regret_mix=0.4902278294719352 ; last_regret=0.8907683138309658\n",
      "l_star=7 ; regret_mix=0.26691327918374474 ; last_regret=0.5331388695104528\n",
      "l_star=8 ; regret_mix=0.5444466563609758 ; last_regret=0.9293514789124766\n",
      "l_star=7 ; regret_mix=0.09525170903383856 ; last_regret=0.3133973212712429\n",
      "l_star=8 ; regret_mix=0.11709282172877436 ; last_regret=0.23158816157283918\n",
      "l_star=8 ; regret_mix=0.020857358436839717 ; last_regret=0.055118906281571\n",
      "l_star=7 ; regret_mix=0.22756293254389642 ; last_regret=0.5543154600950561\n",
      "l_star=7 ; regret_mix=0.05546542588787599 ; last_regret=0.10018373381806801\n",
      "l_star=7 ; regret_mix=0.07202089194734859 ; last_regret=0.21444291796117676\n",
      "l_star=7 ; regret_mix=0.06911481913523715 ; "
     ]
    },
    {
     "name": "stderr",
     "output_type": "stream",
     "text": [
      "\u001B[32m[I 2023-05-12 18:48:03,394]\u001B[0m Trial 9 finished with value: 8.179713640608263 and parameters: {'beta_f': 0.5537189252820114, 'beta_r': 0.5890102872923861, 'lr_f': 0.012004102606745448, 'lr_r': 0.009858454465227928, 'stop_frac_r': 7, 'avg_frac_r': 10}. Best is trial 4 with value: 2.54234450840382.\u001B[0m\n"
     ]
    },
    {
     "name": "stdout",
     "output_type": "stream",
     "text": [
      "last_regret=0.17667725083931887\n",
      "l_star=6 ; regret_mix=0.19179302215287367 ; last_regret=0.24159834640825606\n",
      "l_star=7 ; regret_mix=0.11299883843943227 ; last_regret=0.1342910447494077\n",
      "l_star=8 ; regret_mix=0.004869188523595773 ; last_regret=0.01390710096129568\n",
      "l_star=8 ; regret_mix=0.12257792889270701 ; last_regret=0.16004866507935417\n",
      "l_star=7 ; regret_mix=0.3939408287657921 ; last_regret=0.519413118781062\n",
      "l_star=7 ; regret_mix=0.1673012685974125 ; last_regret=0.2428514476713334\n",
      "l_star=7 ; regret_mix=0.11788156375024512 ; last_regret=0.14661939864519155\n",
      "l_star=7 ; regret_mix=0.01925655836646665 ; last_regret=0.03530113478428737\n",
      "l_star=7 ; regret_mix=0.048236978250664655 ; last_regret=0.06742373263772787\n",
      "l_star=8 ; regret_mix=0.21212443976002265 ; "
     ]
    },
    {
     "name": "stderr",
     "output_type": "stream",
     "text": [
      "\u001B[32m[I 2023-05-12 18:54:13,342]\u001B[0m Trial 10 finished with value: 3.8735114218120246 and parameters: {'beta_f': 0.6230637706325146, 'beta_r': 0.609817722943045, 'lr_f': 0.027466320282543255, 'lr_r': 0.47059847209306793, 'stop_frac_r': 9, 'avg_frac_r': 10}. Best is trial 4 with value: 2.54234450840382.\u001B[0m\n"
     ]
    },
    {
     "name": "stdout",
     "output_type": "stream",
     "text": [
      "last_regret=0.2996882386528251\n",
      "l_star=8 ; regret_mix=0.09100162138440954 ; last_regret=0.113812894418197\n",
      "l_star=7 ; regret_mix=0.453324472312698 ; last_regret=0.5512941620746575\n",
      "l_star=7 ; regret_mix=0.2708876521774284 ; last_regret=0.35235980065323785\n",
      "l_star=8 ; regret_mix=0.05854630626524185 ; last_regret=0.07483202056086552\n",
      "l_star=6 ; regret_mix=0.32053434476760967 ; last_regret=0.3846618170449509\n",
      "l_star=6 ; regret_mix=0.15891911225574595 ; last_regret=0.2093215538210354\n",
      "l_star=9 ; regret_mix=0.021520963738395307 ; last_regret=0.03101666148526701\n",
      "l_star=8 ; regret_mix=0.33366279508231783 ; last_regret=0.3885711608745701\n",
      "l_star=7 ; regret_mix=0.254009280511989 ; last_regret=0.33787696265036615\n",
      "l_star=7 ; regret_mix=0.22445800412965636 ; "
     ]
    },
    {
     "name": "stderr",
     "output_type": "stream",
     "text": [
      "\u001B[32m[I 2023-05-12 18:58:21,053]\u001B[0m Trial 11 finished with value: 2.4175029930363605 and parameters: {'beta_f': 0.8709870339830423, 'beta_r': 0.9178112438442385, 'lr_f': 0.9670885466982522, 'lr_r': 0.9308030481354431, 'stop_frac_r': 4, 'avg_frac_r': 9}. Best is trial 11 with value: 2.4175029930363605.\u001B[0m\n"
     ]
    },
    {
     "name": "stdout",
     "output_type": "stream",
     "text": [
      "last_regret=0.2821591777261145\n",
      "l_star=7 ; regret_mix=0.10810462817076134 ; last_regret=0.16063633277524197\n",
      "l_star=9 ; regret_mix=0.09569315264771101 ; last_regret=0.16377848275983872\n",
      "l_star=7 ; regret_mix=0.5157275616788606 ; last_regret=0.7897892388652868\n",
      "l_star=9 ; regret_mix=0.09213724293712772 ; last_regret=0.14183596887387806\n",
      "l_star=8 ; regret_mix=0.1345150840425915 ; last_regret=0.19670534039286156\n",
      "l_star=8 ; regret_mix=0.01589852658600055 ; last_regret=0.04492318990136876\n",
      "l_star=8 ; regret_mix=0.12359624014131874 ; last_regret=0.18464747009029986\n",
      "l_star=9 ; regret_mix=0.5721550153807267 ; last_regret=0.9112127303764956\n",
      "l_star=6 ; regret_mix=0.04591347501116515 ; last_regret=0.08158588153467772\n",
      "l_star=8 ; regret_mix=0.005875489497286355 ; "
     ]
    },
    {
     "name": "stderr",
     "output_type": "stream",
     "text": [
      "\u001B[32m[I 2023-05-12 19:05:50,157]\u001B[0m Trial 12 finished with value: 5.656015525777656 and parameters: {'beta_f': 0.630685783930807, 'beta_r': 0.7376577595559635, 'lr_f': 0.7268927864296238, 'lr_r': 0.0915453469066001, 'stop_frac_r': 4, 'avg_frac_r': 7}. Best is trial 11 with value: 2.4175029930363605.\u001B[0m\n"
     ]
    },
    {
     "name": "stdout",
     "output_type": "stream",
     "text": [
      "last_regret=0.016044455536913808\n",
      "l_star=7 ; regret_mix=0.06764112007820716 ; last_regret=0.10379172405701113\n",
      "l_star=8 ; regret_mix=0.2964988208588213 ; last_regret=0.35983070154450675\n",
      "l_star=8 ; regret_mix=0.3912809434513359 ; last_regret=0.5187025175086243\n",
      "l_star=9 ; regret_mix=0.2284419614195024 ; last_regret=0.27895821069110077\n",
      "l_star=7 ; regret_mix=0.08197718544565771 ; last_regret=0.11328779975809611\n",
      "l_star=7 ; regret_mix=0.16455721107001686 ; last_regret=0.2023760983893957\n",
      "l_star=7 ; regret_mix=0.09273439205678091 ; last_regret=0.12431556622534483\n",
      "l_star=9 ; regret_mix=0.45300585661296483 ; last_regret=0.5819317095035149\n",
      "l_star=9 ; regret_mix=0.273246573247869 ; last_regret=0.35122885852986263\n",
      "l_star=7 ; regret_mix=0.016132036726848018 ; "
     ]
    },
    {
     "name": "stderr",
     "output_type": "stream",
     "text": [
      "\u001B[32m[I 2023-05-12 19:10:35,521]\u001B[0m Trial 13 finished with value: 2.9973976024101328 and parameters: {'beta_f': 0.6999958950455443, 'beta_r': 0.5856896300151037, 'lr_f': 0.5202510807963792, 'lr_r': 0.30117686146209655, 'stop_frac_r': 6, 'avg_frac_r': 10}. Best is trial 11 with value: 2.4175029930363605.\u001B[0m\n"
     ]
    },
    {
     "name": "stdout",
     "output_type": "stream",
     "text": [
      "last_regret=0.02849715711901954\n",
      "l_star=9 ; regret_mix=0.03454520002791795 ; last_regret=0.07961362120010522\n",
      "l_star=6 ; regret_mix=0.032775897251807164 ; last_regret=0.09766462062572256\n",
      "l_star=8 ; regret_mix=0.07432357238619515 ; last_regret=0.1780516866323178\n",
      "l_star=8 ; regret_mix=0.5197383582817746 ; last_regret=0.817401383371421\n",
      "l_star=7 ; regret_mix=0.45026912392670126 ; last_regret=0.6344139903132706\n",
      "l_star=9 ; regret_mix=0.4172688639705807 ; last_regret=0.5493902623704258\n",
      "l_star=7 ; regret_mix=0.17314508724222938 ; last_regret=0.23682386763676017\n",
      "l_star=8 ; regret_mix=0.34128184588947375 ; last_regret=0.5059818119280517\n",
      "l_star=7 ; regret_mix=0.034154711635502884 ; last_regret=0.17756157697083638\n",
      "l_star=8 ; regret_mix=0.017220884573529632 ; "
     ]
    },
    {
     "name": "stderr",
     "output_type": "stream",
     "text": [
      "\u001B[32m[I 2023-05-12 19:14:34,970]\u001B[0m Trial 14 finished with value: 6.731314313059168 and parameters: {'beta_f': 0.9648599366687842, 'beta_r': 0.9721466777733481, 'lr_f': 0.9765960940303744, 'lr_r': 0.9712449825427236, 'stop_frac_r': 1, 'avg_frac_r': 4}. Best is trial 11 with value: 2.4175029930363605.\u001B[0m\n"
     ]
    },
    {
     "name": "stdout",
     "output_type": "stream",
     "text": [
      "last_regret=0.02852822242993938\n",
      "l_star=8 ; regret_mix=0.3558127169225883 ; last_regret=0.4761184394794816\n",
      "l_star=8 ; regret_mix=0.10228779928309098 ; last_regret=0.12129263266129897\n",
      "l_star=7 ; regret_mix=0.08743402526468427 ; last_regret=0.13514946605239123\n",
      "l_star=8 ; regret_mix=0.15243386030882392 ; last_regret=0.19278021416823513\n",
      "l_star=9 ; regret_mix=0.08023916479519252 ; last_regret=0.1103223659836356\n",
      "l_star=7 ; regret_mix=0.23874155423095272 ; last_regret=0.3193048702656191\n",
      "l_star=8 ; regret_mix=0.35273360235416334 ; last_regret=0.4473082356529702\n",
      "l_star=6 ; regret_mix=0.3290530831209435 ; last_regret=0.4365554104274094\n",
      "l_star=6 ; regret_mix=0.17932285633339742 ; last_regret=0.26956318662497275\n",
      "l_star=7 ; regret_mix=0.32460316351290314 ; "
     ]
    },
    {
     "name": "stderr",
     "output_type": "stream",
     "text": [
      "\u001B[32m[I 2023-05-12 19:18:43,846]\u001B[0m Trial 15 finished with value: 3.00584827473406 and parameters: {'beta_f': 0.8329854773732052, 'beta_r': 0.9887986315292795, 'lr_f': 0.28286195514294016, 'lr_r': 0.9946779870671385, 'stop_frac_r': 4, 'avg_frac_r': 8}. Best is trial 11 with value: 2.4175029930363605.\u001B[0m\n"
     ]
    },
    {
     "name": "stdout",
     "output_type": "stream",
     "text": [
      "last_regret=0.45461522228513307\n",
      "l_star=6 ; regret_mix=0.31817545394462293 ; last_regret=0.44986013838610506\n",
      "l_star=8 ; regret_mix=0.2109011561565436 ; last_regret=0.2367019716463151\n",
      "l_star=6 ; regret_mix=0.08223265440920377 ; last_regret=0.1078988739223059\n",
      "l_star=7 ; regret_mix=0.04461380665003306 ; last_regret=0.06621131021932299\n",
      "l_star=6 ; regret_mix=0.20605665172096022 ; last_regret=0.2726234176350773\n",
      "l_star=7 ; regret_mix=0.10243854673379325 ; last_regret=0.1550476820963325\n",
      "l_star=9 ; regret_mix=0.20253223432707793 ; last_regret=0.23236486177090027\n",
      "l_star=6 ; regret_mix=0.16954492188185338 ; last_regret=0.2124441054323976\n",
      "l_star=6 ; regret_mix=0.4173688004825099 ; last_regret=0.7178896207206176\n",
      "l_star=8 ; regret_mix=0.11135931898685647 ; "
     ]
    },
    {
     "name": "stderr",
     "output_type": "stream",
     "text": [
      "\u001B[32m[I 2023-05-12 19:22:54,760]\u001B[0m Trial 16 finished with value: 3.0065147809588093 and parameters: {'beta_f': 0.8540434216426007, 'beta_r': 0.72408505878279, 'lr_f': 0.2866170528833101, 'lr_r': 0.8169711121988588, 'stop_frac_r': 4, 'avg_frac_r': 6}. Best is trial 11 with value: 2.4175029930363605.\u001B[0m\n"
     ]
    },
    {
     "name": "stdout",
     "output_type": "stream",
     "text": [
      "last_regret=0.14713561355649063\n",
      "l_star=7 ; regret_mix=0.05121184626617332 ; last_regret=0.06289489477540848\n",
      "l_star=7 ; regret_mix=0.13785864521595098 ; last_regret=0.1597200151878694\n",
      "l_star=6 ; regret_mix=0.36864348612852593 ; last_regret=0.48335502723292323\n",
      "l_star=7 ; regret_mix=0.16369916289715566 ; last_regret=0.21921548070511132\n",
      "l_star=8 ; regret_mix=0.5717148342304924 ; last_regret=0.6701540288236969\n",
      "l_star=7 ; regret_mix=0.03600769420431388 ; last_regret=0.04451695427731008\n",
      "l_star=8 ; regret_mix=0.3427322293712554 ; last_regret=0.41152657755496375\n",
      "l_star=6 ; regret_mix=0.014254328775709878 ; last_regret=0.02441616843409352\n",
      "l_star=9 ; regret_mix=0.43794854342514167 ; last_regret=0.5243019164282385\n",
      "l_star=8 ; regret_mix=0.2256431549509153 ; "
     ]
    },
    {
     "name": "stderr",
     "output_type": "stream",
     "text": [
      "\u001B[32m[I 2023-05-12 19:27:10,455]\u001B[0m Trial 17 finished with value: 2.3830161323780295 and parameters: {'beta_f': 0.8769195111634409, 'beta_r': 0.9241315076528954, 'lr_f': 0.46515517292766295, 'lr_r': 0.776141360526973, 'stop_frac_r': 3, 'avg_frac_r': 5}. Best is trial 17 with value: 2.3830161323780295.\u001B[0m\n"
     ]
    },
    {
     "name": "stdout",
     "output_type": "stream",
     "text": [
      "last_regret=0.2743094938210023\n",
      "l_star=8 ; regret_mix=0.09653336290451968 ; last_regret=0.11923767767883409\n",
      "l_star=9 ; regret_mix=0.5062401434128239 ; last_regret=0.5837569682465386\n",
      "l_star=9 ; regret_mix=0.004269513549000335 ; last_regret=0.010323905068748807\n",
      "l_star=6 ; regret_mix=0.1823698771506649 ; last_regret=0.23142394612151174\n",
      "l_star=7 ; regret_mix=0.20267686565732965 ; last_regret=0.24542209523656852\n",
      "l_star=7 ; regret_mix=0.2866358320925956 ; last_regret=0.3572853295804642\n",
      "l_star=6 ; regret_mix=0.04928224871179262 ; last_regret=0.07090148234291033\n",
      "l_star=8 ; regret_mix=0.282492738540547 ; last_regret=0.3466918566814617\n",
      "l_star=7 ; regret_mix=0.10716088489091644 ; last_regret=0.13621303333072365\n",
      "l_star=8 ; regret_mix=0.17537852638896936 ; "
     ]
    },
    {
     "name": "stderr",
     "output_type": "stream",
     "text": [
      "\u001B[32m[I 2023-05-12 19:31:27,882]\u001B[0m Trial 18 finished with value: 3.0770554520204287 and parameters: {'beta_f': 0.8903397902829733, 'beta_r': 0.9195160173224312, 'lr_f': 0.4888097162255069, 'lr_r': 0.7427726007357653, 'stop_frac_r': 3, 'avg_frac_r': 5}. Best is trial 17 with value: 2.3830161323780295.\u001B[0m\n"
     ]
    },
    {
     "name": "stdout",
     "output_type": "stream",
     "text": [
      "last_regret=0.2569890068804032\n",
      "l_star=7 ; regret_mix=0.06722273294673228 ; last_regret=0.17112090463655097\n",
      "l_star=7 ; regret_mix=0.06736446981987416 ; last_regret=0.2638056868290206\n",
      "l_star=7 ; regret_mix=0.25469587774562 ; last_regret=0.39052246148461245\n",
      "l_star=7 ; regret_mix=0.15573491962014338 ; last_regret=0.27999623373329163\n",
      "l_star=7 ; regret_mix=0.06701927584600113 ; last_regret=0.11509017908961339\n",
      "l_star=7 ; regret_mix=0.12292754077159551 ; last_regret=0.21048996965603287\n",
      "l_star=7 ; regret_mix=0.11697349524628828 ; last_regret=0.17571557277408226\n",
      "l_star=8 ; regret_mix=0.16163957062918433 ; last_regret=0.32068914650270897\n",
      "l_star=9 ; regret_mix=0.172973382227869 ; last_regret=0.23553623754396294\n",
      "l_star=8 ; regret_mix=0.3575990940426941 ; "
     ]
    },
    {
     "name": "stderr",
     "output_type": "stream",
     "text": [
      "\u001B[32m[I 2023-05-12 19:35:29,257]\u001B[0m Trial 19 finished with value: 6.102161812324605 and parameters: {'beta_f': 0.8993739436794641, 'beta_r': 0.9233857529918519, 'lr_f': 0.5325778400181709, 'lr_r': 0.7517466520429972, 'stop_frac_r': 1, 'avg_frac_r': 3}. Best is trial 17 with value: 2.3830161323780295.\u001B[0m\n"
     ]
    },
    {
     "name": "stdout",
     "output_type": "stream",
     "text": [
      "last_regret=0.4872396269973055\n",
      "l_star=8 ; regret_mix=0.021462209378200196 ; last_regret=0.03686202436414437\n",
      "l_star=7 ; regret_mix=0.03595474929026276 ; last_regret=0.05404305461010004\n",
      "l_star=7 ; regret_mix=0.24975021439401437 ; last_regret=0.3543268494938306\n",
      "l_star=7 ; regret_mix=0.09508949983257607 ; last_regret=0.1164572166598953\n",
      "l_star=9 ; regret_mix=0.3149406566231652 ; last_regret=0.408267716495028\n",
      "l_star=8 ; regret_mix=0.09034875336986653 ; last_regret=0.12172131480829894\n",
      "l_star=7 ; regret_mix=0.22425125544200689 ; last_regret=0.30789540912894153\n",
      "l_star=9 ; regret_mix=0.3405538579343313 ; last_regret=0.45856756210324773\n",
      "l_star=8 ; regret_mix=0.2815938340968927 ; last_regret=0.3448131193168139\n",
      "l_star=7 ; regret_mix=0.18904694566623692 ; "
     ]
    },
    {
     "name": "stderr",
     "output_type": "stream",
     "text": [
      "\u001B[32m[I 2023-05-12 19:40:07,654]\u001B[0m Trial 20 finished with value: 3.069981422793861 and parameters: {'beta_f': 0.9801827310371888, 'beta_r': 0.6813862562792483, 'lr_f': 0.3806644284625479, 'lr_r': 0.6107481195146378, 'stop_frac_r': 3, 'avg_frac_r': 5}. Best is trial 17 with value: 2.3830161323780295.\u001B[0m\n"
     ]
    },
    {
     "name": "stdout",
     "output_type": "stream",
     "text": [
      "last_regret=0.2296243629559522\n",
      "l_star=7 ; regret_mix=0.05643807121160012 ; last_regret=0.06478086462005521\n",
      "l_star=8 ; regret_mix=0.18751354888033586 ; last_regret=0.22658721710676819\n",
      "l_star=7 ; regret_mix=0.019886405842951378 ; last_regret=0.03106095167616856\n",
      "l_star=7 ; regret_mix=0.4262956091075222 ; last_regret=0.5053957678663202\n",
      "l_star=8 ; regret_mix=0.20728836584483024 ; last_regret=0.2714071426752744\n",
      "l_star=6 ; regret_mix=0.26569532329129486 ; last_regret=0.33308318111950824\n",
      "l_star=8 ; regret_mix=0.12883865775815573 ; last_regret=0.15960461681347987\n",
      "l_star=6 ; regret_mix=0.20555452775698796 ; last_regret=0.2615450851742045\n",
      "l_star=9 ; regret_mix=0.11831859757385431 ; last_regret=0.1456147312192344\n",
      "l_star=8 ; regret_mix=0.16886558670386823 ; "
     ]
    },
    {
     "name": "stderr",
     "output_type": "stream",
     "text": [
      "\u001B[32m[I 2023-05-12 19:44:29,154]\u001B[0m Trial 21 finished with value: 2.346650618700328 and parameters: {'beta_f': 0.7761015350022762, 'beta_r': 0.8969792192221924, 'lr_f': 0.6287463434905591, 'lr_r': 0.8507281369690287, 'stop_frac_r': 5, 'avg_frac_r': 8}. Best is trial 21 with value: 2.346650618700328.\u001B[0m\n"
     ]
    },
    {
     "name": "stdout",
     "output_type": "stream",
     "text": [
      "last_regret=0.2157922410132328\n",
      "l_star=7 ; regret_mix=0.03755919801247938 ; last_regret=0.050719034402043554\n",
      "l_star=8 ; regret_mix=0.7014083442831297 ; last_regret=1.0236094630269015\n",
      "l_star=7 ; regret_mix=0.6136983224551705 ; last_regret=1.0545133498442232\n",
      "l_star=9 ; regret_mix=0.19135031405126665 ; last_regret=0.2481286287244294\n",
      "l_star=8 ; regret_mix=0.10813283741430448 ; last_regret=0.14834074133747005\n",
      "l_star=8 ; regret_mix=0.0827950273993807 ; last_regret=0.10405739052969176\n",
      "l_star=7 ; regret_mix=0.01809520401776146 ; last_regret=0.03052239770984384\n",
      "l_star=8 ; regret_mix=0.00948101868709692 ; last_regret=0.024542044690653818\n",
      "l_star=6 ; regret_mix=0.214480403831915 ; last_regret=0.2692757203629587\n",
      "l_star=9 ; regret_mix=0.34843304801908465 ; "
     ]
    },
    {
     "name": "stderr",
     "output_type": "stream",
     "text": [
      "\u001B[32m[I 2023-05-12 19:48:56,838]\u001B[0m Trial 22 finished with value: 3.979875090381861 and parameters: {'beta_f': 0.7808212535821013, 'beta_r': 0.5038087699984491, 'lr_f': 0.6254791419636777, 'lr_r': 0.6364950560983197, 'stop_frac_r': 2, 'avg_frac_r': 5}. Best is trial 21 with value: 2.346650618700328.\u001B[0m\n"
     ]
    },
    {
     "name": "stdout",
     "output_type": "stream",
     "text": [
      "last_regret=0.4492646569887195\n",
      "l_star=7 ; regret_mix=0.4955622550004741 ; last_regret=0.6238777178104655\n",
      "l_star=8 ; regret_mix=0.24260953830652682 ; last_regret=0.2909621721308603\n",
      "l_star=7 ; regret_mix=0.1810443030072214 ; last_regret=0.22505264670123723\n",
      "l_star=7 ; regret_mix=0.02169897670288363 ; last_regret=0.03614888734579964\n",
      "l_star=7 ; regret_mix=0.30341974435142416 ; last_regret=0.37928658396653026\n",
      "l_star=10 ; regret_mix=0.056432966607382486 ; last_regret=0.07687922903201118\n",
      "l_star=9 ; regret_mix=0.19586430376163477 ; last_regret=0.23125799886170878\n",
      "l_star=7 ; regret_mix=0.3440044550850752 ; last_regret=0.41997050943841385\n",
      "l_star=9 ; regret_mix=0.38481542760131854 ; last_regret=0.447464070763664\n",
      "l_star=8 ; regret_mix=0.30579861747943 ; "
     ]
    },
    {
     "name": "stderr",
     "output_type": "stream",
     "text": [
      "\u001B[32m[I 2023-05-12 19:53:24,097]\u001B[0m Trial 23 finished with value: 2.366379799216438 and parameters: {'beta_f': 0.7368512604683342, 'beta_r': 0.866708560213533, 'lr_f': 0.38566151736699367, 'lr_r': 0.8502277190995946, 'stop_frac_r': 5, 'avg_frac_r': 8}. Best is trial 21 with value: 2.346650618700328.\u001B[0m\n"
     ]
    },
    {
     "name": "stdout",
     "output_type": "stream",
     "text": [
      "last_regret=0.36522010508967234\n",
      "l_star=8 ; regret_mix=0.26354358475239675 ; last_regret=0.3046815622426489\n",
      "l_star=6 ; regret_mix=0.14475993370149098 ; last_regret=0.2087797132583114\n",
      "l_star=9 ; regret_mix=0.46307058971008064 ; last_regret=0.5253815123568425\n",
      "l_star=6 ; regret_mix=0.03951731849972163 ; last_regret=0.06162575329981615\n",
      "l_star=8 ; regret_mix=0.11669505845623517 ; last_regret=0.14287145988428313\n",
      "l_star=7 ; regret_mix=0.010549968139983396 ; last_regret=0.022508110421883595\n",
      "l_star=7 ; regret_mix=0.3089203359287243 ; last_regret=0.36023718859410864\n",
      "l_star=7 ; regret_mix=0.066302441808163 ; last_regret=0.07896798858744307\n",
      "l_star=7 ; regret_mix=0.2945815669677326 ; last_regret=0.3517522313617977\n",
      "l_star=8 ; regret_mix=0.3971428810292687 ; "
     ]
    },
    {
     "name": "stderr",
     "output_type": "stream",
     "text": [
      "\u001B[32m[I 2023-05-12 19:57:49,403]\u001B[0m Trial 24 finished with value: 2.6963261402982996 and parameters: {'beta_f': 0.7172545444165, 'beta_r': 0.838521187909134, 'lr_f': 0.19805048886109194, 'lr_r': 0.857925481354393, 'stop_frac_r': 5, 'avg_frac_r': 8}. Best is trial 21 with value: 2.346650618700328.\u001B[0m\n"
     ]
    },
    {
     "name": "stdout",
     "output_type": "stream",
     "text": [
      "last_regret=0.4607173222371859\n",
      "l_star=9 ; regret_mix=0.29952324786548357 ; last_regret=0.35182772999508694\n",
      "l_star=6 ; regret_mix=0.31434071970532057 ; last_regret=0.4405842482894287\n",
      "l_star=7 ; regret_mix=0.35541813542091183 ; last_regret=0.4220187799957714\n",
      "l_star=6 ; regret_mix=0.024179972510212856 ; last_regret=0.034038752876638864\n",
      "l_star=8 ; regret_mix=0.11544354150987024 ; last_regret=0.14283821288225299\n",
      "l_star=8 ; regret_mix=0.19383384073804014 ; last_regret=0.2466950073546372\n",
      "l_star=7 ; regret_mix=0.3105855674701559 ; last_regret=0.4055525827572743\n",
      "l_star=11 ; regret_mix=0.7353950035802277 ; last_regret=0.8608829171165505\n",
      "l_star=6 ; regret_mix=0.09887675057468494 ; last_regret=0.14951799067222968\n",
      "l_star=9 ; regret_mix=0.4216121071097498 ; "
     ]
    },
    {
     "name": "stderr",
     "output_type": "stream",
     "text": [
      "\u001B[32m[I 2023-05-12 20:02:11,151]\u001B[0m Trial 25 finished with value: 2.4456857789742883 and parameters: {'beta_f': 0.7935643049473297, 'beta_r': 0.8838363034168338, 'lr_f': 0.4144580305153438, 'lr_r': 0.6842185660524388, 'stop_frac_r': 5, 'avg_frac_r': 8}. Best is trial 21 with value: 2.346650618700328.\u001B[0m\n"
     ]
    },
    {
     "name": "stdout",
     "output_type": "stream",
     "text": [
      "last_regret=0.48565618091507207\n",
      "l_star=6 ; regret_mix=0.03180740563363753 ; last_regret=0.0474716558305485\n",
      "l_star=8 ; regret_mix=0.540032807285352 ; last_regret=0.746321757511542\n",
      "l_star=7 ; regret_mix=0.26638779437969823 ; last_regret=0.3382645085121925\n",
      "l_star=7 ; regret_mix=0.15020297692874918 ; last_regret=0.1932186392708545\n",
      "l_star=7 ; regret_mix=0.014829914042279456 ; last_regret=0.02711299042117575\n",
      "l_star=6 ; regret_mix=0.048949017825857144 ; last_regret=0.06835803621239232\n",
      "l_star=8 ; regret_mix=0.14813654141153978 ; last_regret=0.18771832999528473\n",
      "l_star=8 ; regret_mix=0.06716541605835605 ; last_regret=0.09249439051387898\n",
      "l_star=7 ; regret_mix=0.18729050728478916 ; last_regret=0.22324752102052325\n",
      "l_star=7 ; regret_mix=0.14836728952958403 ; "
     ]
    },
    {
     "name": "stderr",
     "output_type": "stream",
     "text": [
      "\u001B[32m[I 2023-05-12 20:06:24,909]\u001B[0m Trial 26 finished with value: 3.2121554691226284 and parameters: {'beta_f': 0.741281245518124, 'beta_r': 0.7956582088571524, 'lr_f': 0.606906775154938, 'lr_r': 0.8453233187961539, 'stop_frac_r': 7, 'avg_frac_r': 9}. Best is trial 21 with value: 2.346650618700328.\u001B[0m\n"
     ]
    },
    {
     "name": "stdout",
     "output_type": "stream",
     "text": [
      "last_regret=0.205904314969988\n",
      "l_star=7 ; regret_mix=0.20710997069691078 ; last_regret=0.27806745021630624\n",
      "l_star=7 ; regret_mix=0.14649494707730404 ; last_regret=0.18210364604512425\n",
      "l_star=7 ; regret_mix=0.21618573214837647 ; last_regret=0.2798582363428281\n",
      "l_star=8 ; regret_mix=0.2562472085735747 ; last_regret=0.32214117449766133\n",
      "l_star=6 ; regret_mix=0.17943758510272928 ; last_regret=0.22773805589695748\n",
      "l_star=8 ; regret_mix=0.04652736434719901 ; last_regret=0.069259138990022\n",
      "l_star=6 ; regret_mix=0.0702882897942448 ; last_regret=0.11544346365174493\n",
      "l_star=8 ; regret_mix=0.2681834654521305 ; last_regret=0.36083512339895396\n",
      "l_star=6 ; regret_mix=0.03356007287028408 ; last_regret=0.06263326417097997\n",
      "l_star=7 ; regret_mix=0.273161671199479 ; "
     ]
    },
    {
     "name": "stderr",
     "output_type": "stream",
     "text": [
      "\u001B[32m[I 2023-05-12 20:11:02,736]\u001B[0m Trial 27 finished with value: 3.2665239500398613 and parameters: {'beta_f': 0.6655921486171781, 'beta_r': 0.9403743770264822, 'lr_f': 0.40595214905241994, 'lr_r': 0.5175145869749472, 'stop_frac_r': 3, 'avg_frac_r': 6}. Best is trial 21 with value: 2.346650618700328.\u001B[0m\n"
     ]
    },
    {
     "name": "stdout",
     "output_type": "stream",
     "text": [
      "last_regret=0.3384337185987975\n",
      "l_star=8 ; regret_mix=0.09682899118073966 ; last_regret=0.13140033145815605\n",
      "l_star=8 ; regret_mix=0.07261052283415226 ; last_regret=0.08878979393714213\n",
      "l_star=8 ; regret_mix=0.06820063129482962 ; last_regret=0.09027596643727358\n",
      "l_star=7 ; regret_mix=0.07427696750407695 ; last_regret=0.08890790975131667\n",
      "l_star=8 ; regret_mix=0.5624872935687575 ; last_regret=0.6869098937407053\n",
      "l_star=8 ; regret_mix=0.06785050323893019 ; last_regret=0.08585783432320912\n",
      "l_star=7 ; regret_mix=0.0492148735911317 ; last_regret=0.06499215360668872\n",
      "l_star=7 ; regret_mix=0.1537325935334997 ; last_regret=0.19652662284448488\n",
      "l_star=8 ; regret_mix=0.0196540846553146 ; last_regret=0.024182988915136542\n",
      "l_star=7 ; regret_mix=0.056045366659733004 ; "
     ]
    },
    {
     "name": "stderr",
     "output_type": "stream",
     "text": [
      "\u001B[32m[I 2023-05-12 20:15:42,032]\u001B[0m Trial 28 finished with value: 2.3057513612276703 and parameters: {'beta_f': 0.7395921620154137, 'beta_r': 0.875324935902381, 'lr_f': 0.5949466844991912, 'lr_r': 0.8903204672348356, 'stop_frac_r': 5, 'avg_frac_r': 8}. Best is trial 28 with value: 2.3057513612276703.\u001B[0m\n"
     ]
    },
    {
     "name": "stdout",
     "output_type": "stream",
     "text": [
      "last_regret=0.06661917111937465\n",
      "l_star=7 ; regret_mix=0.16058817305751544 ; last_regret=0.20062046449519122\n",
      "l_star=7 ; regret_mix=0.06905222964145005 ; last_regret=0.09193644234293058\n",
      "l_star=10 ; regret_mix=0.41905929798926433 ; last_regret=0.47094849577117126\n",
      "l_star=8 ; regret_mix=0.20725924614446245 ; last_regret=0.25715802482515865\n",
      "l_star=6 ; regret_mix=0.0793240511495121 ; last_regret=0.11394886182420837\n",
      "l_star=6 ; regret_mix=0.12892583389861112 ; last_regret=0.17458516101190802\n",
      "l_star=7 ; regret_mix=0.4676783870636003 ; last_regret=0.5950787927501585\n",
      "l_star=6 ; regret_mix=0.11945106934434462 ; last_regret=0.1421943388792694\n",
      "l_star=7 ; regret_mix=0.12332938452034453 ; last_regret=0.1751138782957063\n",
      "l_star=7 ; regret_mix=0.5036674001979742 ; "
     ]
    },
    {
     "name": "stderr",
     "output_type": "stream",
     "text": [
      "\u001B[32m[I 2023-05-12 20:20:11,948]\u001B[0m Trial 29 finished with value: 2.505287422383465 and parameters: {'beta_f': 0.7382958985770633, 'beta_r': 0.8811502762152035, 'lr_f': 0.6023599344866898, 'lr_r': 0.8660177541242242, 'stop_frac_r': 7, 'avg_frac_r': 8}. Best is trial 28 with value: 2.3057513612276703.\u001B[0m\n"
     ]
    },
    {
     "name": "stdout",
     "output_type": "stream",
     "text": [
      "last_regret=0.6357328583954188\n",
      "l_star=7 ; regret_mix=0.011862297026842689 ; last_regret=0.017870974839940195\n",
      "l_star=6 ; regret_mix=0.21825606825640192 ; last_regret=0.30741125753892506\n",
      "l_star=8 ; regret_mix=0.1162070806087265 ; last_regret=0.13704261410434704\n",
      "l_star=7 ; regret_mix=0.3786687680569283 ; last_regret=0.5206626368902416\n",
      "l_star=7 ; regret_mix=0.24468893985004633 ; last_regret=0.3036345289965728\n",
      "l_star=7 ; regret_mix=0.19120715946182903 ; last_regret=0.23197569875213528\n",
      "l_star=7 ; regret_mix=0.19670700208640804 ; last_regret=0.24702438529009021\n",
      "l_star=7 ; regret_mix=0.5605068172914512 ; last_regret=0.7640060713724246\n",
      "l_star=8 ; regret_mix=0.24088200214096556 ; last_regret=0.28003212803555233\n",
      "l_star=7 ; regret_mix=0.25862604563128383 ; "
     ]
    },
    {
     "name": "stderr",
     "output_type": "stream",
     "text": [
      "\u001B[32m[I 2023-05-12 20:24:32,124]\u001B[0m Trial 30 finished with value: 2.5336293308476967 and parameters: {'beta_f': 0.5039707328565988, 'beta_r': 0.7644887452666962, 'lr_f': 0.6778703818006125, 'lr_r': 0.8918464545718352, 'stop_frac_r': 5, 'avg_frac_r': 9}. Best is trial 28 with value: 2.3057513612276703.\u001B[0m\n"
     ]
    },
    {
     "name": "stdout",
     "output_type": "stream",
     "text": [
      "last_regret=0.31611568920460814\n",
      "l_star=7 ; regret_mix=0.13668944357504345 ; last_regret=0.16735840557842066\n",
      "l_star=8 ; regret_mix=0.10252067910055783 ; last_regret=0.12288759159637092\n",
      "l_star=11 ; regret_mix=0.09769718244125362 ; last_regret=0.1404973337337903\n",
      "l_star=8 ; regret_mix=0.20135248348791263 ; last_regret=0.24567683241007612\n",
      "l_star=6 ; regret_mix=0.11049986374160568 ; last_regret=0.14912029921038408\n",
      "l_star=7 ; regret_mix=0.09656732714666866 ; last_regret=0.11689773607653503\n",
      "l_star=7 ; regret_mix=0.08813929939272126 ; last_regret=0.1038439794476631\n",
      "l_star=7 ; regret_mix=0.020207565054976867 ; last_regret=0.024928540710507735\n",
      "l_star=6 ; regret_mix=0.14847867360810943 ; last_regret=0.22041224264917686\n",
      "l_star=8 ; regret_mix=0.3018069461655287 ; "
     ]
    },
    {
     "name": "stderr",
     "output_type": "stream",
     "text": [
      "\u001B[32m[I 2023-05-12 20:29:17,315]\u001B[0m Trial 31 finished with value: 2.398921523785363 and parameters: {'beta_f': 0.6447011330164444, 'beta_r': 0.691997900618807, 'lr_f': 0.3223397037651583, 'lr_r': 0.6712330257211055, 'stop_frac_r': 5, 'avg_frac_r': 8}. Best is trial 28 with value: 2.3057513612276703.\u001B[0m\n"
     ]
    },
    {
     "name": "stdout",
     "output_type": "stream",
     "text": [
      "last_regret=0.36614077378546345\n",
      "l_star=7 ; regret_mix=0.23862554965100088 ; last_regret=0.29204406819038486\n",
      "l_star=7 ; regret_mix=0.3754302684842988 ; last_regret=0.4540246863746026\n",
      "l_star=6 ; regret_mix=0.2290193664137935 ; last_regret=0.30085707260401473\n",
      "l_star=7 ; regret_mix=0.37980401228522037 ; last_regret=0.48707040703399\n",
      "l_star=6 ; regret_mix=0.2658550948678269 ; last_regret=0.34433863334933523\n",
      "l_star=7 ; regret_mix=0.34464858038572715 ; last_regret=0.4202317123680414\n",
      "l_star=7 ; regret_mix=0.41559833775201793 ; last_regret=0.5220076324692347\n",
      "l_star=6 ; regret_mix=0.2452989745020191 ; last_regret=0.34322012284565595\n",
      "l_star=7 ; regret_mix=0.09689068746250758 ; last_regret=0.13015978950673468\n",
      "l_star=8 ; regret_mix=0.4928188460353859 ; "
     ]
    },
    {
     "name": "stderr",
     "output_type": "stream",
     "text": [
      "\u001B[32m[I 2023-05-12 20:33:39,048]\u001B[0m Trial 32 finished with value: 2.423540155026393 and parameters: {'beta_f': 0.760591497304267, 'beta_r': 0.8856217521116702, 'lr_f': 0.8103547016703492, 'lr_r': 0.5884102602488137, 'stop_frac_r': 8, 'avg_frac_r': 9}. Best is trial 28 with value: 2.3057513612276703.\u001B[0m\n"
     ]
    },
    {
     "name": "stdout",
     "output_type": "stream",
     "text": [
      "last_regret=0.5982567762080889\n",
      "l_star=8 ; regret_mix=0.1780411632959059 ; last_regret=0.23546157280134106\n",
      "l_star=8 ; regret_mix=0.4546916873267858 ; last_regret=0.5345063065967944\n",
      "l_star=9 ; regret_mix=0.4266944247625725 ; last_regret=0.5263696335565549\n",
      "l_star=8 ; regret_mix=0.2886042013558269 ; last_regret=0.4017214972111443\n",
      "l_star=7 ; regret_mix=0.48292396659344433 ; last_regret=0.6745968203768256\n",
      "l_star=8 ; regret_mix=0.14805590777286584 ; last_regret=0.1717865177663906\n",
      "l_star=8 ; regret_mix=0.32842285055736187 ; last_regret=0.392804629896429\n",
      "l_star=9 ; regret_mix=0.019825168878195878 ; last_regret=0.03529043322773284\n",
      "l_star=6 ; regret_mix=0.04903286820837738 ; last_regret=0.07850031485028548\n",
      "l_star=7 ; regret_mix=0.24981320219509404 ; "
     ]
    },
    {
     "name": "stderr",
     "output_type": "stream",
     "text": [
      "\u001B[32m[I 2023-05-12 20:38:46,426]\u001B[0m Trial 33 finished with value: 2.9487257463657497 and parameters: {'beta_f': 0.8184622505966562, 'beta_r': 0.8240438760061594, 'lr_f': 0.12145070165635607, 'lr_r': 0.3899789587356841, 'stop_frac_r': 6, 'avg_frac_r': 7}. Best is trial 28 with value: 2.3057513612276703.\u001B[0m\n"
     ]
    },
    {
     "name": "stdout",
     "output_type": "stream",
     "text": [
      "last_regret=0.3232233267789441\n",
      "l_star=8 ; regret_mix=0.38709761321913466 ; last_regret=0.4635240304468131\n",
      "l_star=7 ; regret_mix=0.07847907904305527 ; last_regret=0.11750652823967306\n",
      "l_star=6 ; regret_mix=0.15476392069063732 ; last_regret=0.19587684411700873\n",
      "l_star=7 ; regret_mix=0.04750938376796305 ; last_regret=0.06252612376028602\n",
      "l_star=8 ; regret_mix=0.5129040518836268 ; last_regret=0.6864319643985787\n",
      "l_star=7 ; regret_mix=0.1729153033145093 ; last_regret=0.20082708577127178\n",
      "l_star=6 ; regret_mix=0.13585850179074868 ; last_regret=0.19544684759194986\n",
      "l_star=8 ; regret_mix=0.5378322221915147 ; last_regret=0.6982407658515689\n",
      "l_star=8 ; regret_mix=0.16582405084843527 ; last_regret=0.19564305620443542\n",
      "l_star=7 ; regret_mix=0.34557270009664537 ; "
     ]
    },
    {
     "name": "stderr",
     "output_type": "stream",
     "text": [
      "\u001B[32m[I 2023-05-12 20:43:09,449]\u001B[0m Trial 34 finished with value: 2.483091900282148 and parameters: {'beta_f': 0.8031455252034486, 'beta_r': 0.7892804200276302, 'lr_f': 0.563262431637539, 'lr_r': 0.7356850178371979, 'stop_frac_r': 7, 'avg_frac_r': 8}. Best is trial 28 with value: 2.3057513612276703.\u001B[0m\n"
     ]
    },
    {
     "name": "stdout",
     "output_type": "stream",
     "text": [
      "last_regret=0.4046782104908548\n",
      "l_star=7 ; regret_mix=0.04447621521844698 ; last_regret=0.06529050605426753\n",
      "l_star=8 ; regret_mix=0.3115394656650456 ; last_regret=0.3797536117481889\n",
      "l_star=8 ; regret_mix=0.4058558385501457 ; last_regret=0.49642536345952226\n",
      "l_star=6 ; regret_mix=0.2752223233094433 ; last_regret=0.35009019846839173\n",
      "l_star=7 ; regret_mix=0.07118678842840628 ; last_regret=0.10696376268138114\n",
      "l_star=7 ; regret_mix=0.03364131446667515 ; last_regret=0.05186154967078173\n",
      "l_star=7 ; regret_mix=0.007506940752240744 ; last_regret=0.021243855375274755\n",
      "l_star=6 ; regret_mix=0.14986222113090744 ; last_regret=0.19679672165183926\n",
      "l_star=8 ; regret_mix=0.22434707708603452 ; last_regret=0.2693158190816361\n",
      "l_star=9 ; regret_mix=0.18705864093039182 ; "
     ]
    },
    {
     "name": "stderr",
     "output_type": "stream",
     "text": [
      "\u001B[32m[I 2023-05-12 20:47:38,358]\u001B[0m Trial 35 finished with value: 3.583501992447945 and parameters: {'beta_f': 0.732027627921844, 'beta_r': 0.9537647061501716, 'lr_f': 0.4561409873854041, 'lr_r': 0.7922260120778105, 'stop_frac_r': 4, 'avg_frac_r': 6}. Best is trial 28 with value: 2.3057513612276703.\u001B[0m\n"
     ]
    },
    {
     "name": "stdout",
     "output_type": "stream",
     "text": [
      "last_regret=0.23406480017620657\n",
      "l_star=7 ; regret_mix=0.25677240104991783 ; last_regret=0.2919870132798149\n",
      "l_star=8 ; regret_mix=0.1998884107292207 ; last_regret=0.2558568890850954\n",
      "l_star=7 ; regret_mix=0.6405812547442465 ; last_regret=0.7720844742234905\n",
      "l_star=7 ; regret_mix=0.2773826597513828 ; last_regret=0.322313561494094\n",
      "l_star=8 ; regret_mix=0.5052760706385296 ; last_regret=0.5950020607916704\n",
      "l_star=10 ; regret_mix=0.11946651100571064 ; "
     ]
    }
   ],
   "source": [
    "for d_sigma in [1, 3, 5]:\n",
    "    d = 20\n",
    "    r = 5\n",
    "    m = 20\n",
    "    T_r = 100\n",
    "    times = 10\n",
    "    sigma_type = matrix_type.DIAG\n",
    "    s_type = matrix_type.IDENTITY\n",
    "\n",
    "    name = f\"optuna_optimization_d={d}_r={r}_sigma={sigma_type}_s={s_type}_m={m}_Tr={T_r}_var={d_sigma}\"\n",
    "    study = optuna.create_study(study_name=f'{name}',\n",
    "                                storage=f'sqlite:///./../optuna/{name}.db ',\n",
    "                                direction='minimize', load_if_exists=True)\n",
    "    study.optimize(optuna_optimize_algorithm, n_trials=100)"
   ],
   "metadata": {
    "collapsed": false,
    "pycharm": {
     "name": "#%%\n",
     "is_executing": true
    }
   }
  },
  {
   "cell_type": "code",
   "execution_count": null,
   "outputs": [],
   "source": [
    "\n"
   ],
   "metadata": {
    "collapsed": false,
    "pycharm": {
     "name": "#%%\n",
     "is_executing": true
    }
   }
  }
 ],
 "metadata": {
  "kernelspec": {
   "name": "pycharm-4f6c12d3",
   "language": "python",
   "display_name": "PyCharm (paper-optimization-algorithm)"
  },
  "language_info": {
   "codemirror_mode": {
    "name": "ipython",
    "version": 2
   },
   "file_extension": ".py",
   "mimetype": "text/x-python",
   "name": "python",
   "nbconvert_exporter": "python",
   "pygments_lexer": "ipython2",
   "version": "2.7.6"
  }
 },
 "nbformat": 4,
 "nbformat_minor": 0
}