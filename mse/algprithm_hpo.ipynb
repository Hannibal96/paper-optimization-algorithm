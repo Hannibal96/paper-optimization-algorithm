{
 "cells": [
  {
   "cell_type": "code",
   "execution_count": 1,
   "metadata": {
    "collapsed": true
   },
   "outputs": [],
   "source": [
    "import numpy as np\n",
    "\n",
    "from steps import *\n",
    "from tqdm import tqdm\n",
    "from optimal import *\n",
    "import matplotlib.pyplot as plt\n",
    "import optuna\n",
    "import warnings\n",
    "warnings.filterwarnings(\"error\")"
   ]
  },
  {
   "cell_type": "code",
   "execution_count": 2,
   "outputs": [],
   "source": [
    "def optuna_optimize_algorithm(trial):\n",
    "\n",
    "    beta_f = trial.suggest_float('beta_f', 0.5, 0.99)\n",
    "    beta_r = trial.suggest_float('beta_r', 0.5, 0.99)\n",
    "    lr_f = trial.suggest_float('lr_f', 0, 1.0)\n",
    "    lr_r = trial.suggest_float('lr_r', 0, 1.0)\n",
    "    stop_frac = trial.suggest_int('stop_frac_r', 1, 10)\n",
    "    avg_frac = trial.suggest_int('avg_frac_r', stop_frac, 10)\n",
    "\n",
    "    regret_list, regret_mix_list = run_algorithm(d=d, r=r, m=m, sigma_type=sigma_type, s_type=s_type, times=times,\n",
    "                                                 d_sigma=d_sigma, T_r=T_r, beta_f=beta_f, beta_r=beta_r, lr_f=lr_f, lr_r=lr_r,\n",
    "                                                 avg_frac_r=avg_frac, stop_frac_r=stop_frac)\n",
    "\n",
    "    return sum(abs(np.log(regret_list.min(axis=1) / regret_mix_list)))"
   ],
   "metadata": {
    "collapsed": false,
    "pycharm": {
     "name": "#%%\n"
    }
   }
  },
  {
   "cell_type": "code",
   "execution_count": 3,
   "outputs": [
    {
     "name": "stderr",
     "output_type": "stream",
     "text": [
      "\u001B[32m[I 2023-05-20 08:46:31,573]\u001B[0m Using an existing study with name 'optuna_optimization_d=20_r=5_sigma=matrix_type.DIAG_s=matrix_type.IDENTITY_m=20_Tr=250_var=1' instead of creating a new one.\u001B[0m\n"
     ]
    },
    {
     "name": "stdout",
     "output_type": "stream",
     "text": [
      "l_star=8 ; regret_mix=0.7190560910610282 ; last_regret=0.9489254602354387\n",
      "l_star=10 ; regret_mix=0.42890829638901473 ; last_regret=0.5503819655988206\n",
      "l_star=10 ; regret_mix=0.5040229691717241 ; last_regret=0.6565421777987762\n",
      "l_star=14 ; regret_mix=0.6442656521179135 ; last_regret=0.7986258407911867\n",
      "l_star=13 ; regret_mix=0.7045377187319882 ; last_regret=0.926644496783775\n",
      "l_star=10 ; regret_mix=0.6148493910222819 ; last_regret=0.8489374096367869\n",
      "l_star=12 ; regret_mix=0.6700376921748781 ; last_regret=0.896971414685598\n",
      "l_star=14 ; regret_mix=0.4511645821721597 ; last_regret=0.5451770349576959\n",
      "l_star=9 ; regret_mix=0.5199501943130833 ; last_regret=0.6328903522311708\n",
      "l_star=10 ; regret_mix=0.48957217826609933 ; "
     ]
    },
    {
     "name": "stderr",
     "output_type": "stream",
     "text": [
      "\u001B[32m[I 2023-05-20 08:52:20,992]\u001B[0m Trial 41 finished with value: 2.498629098363226 and parameters: {'beta_f': 0.6134650760715492, 'beta_r': 0.9036210039576544, 'lr_f': 0.43443356269050004, 'lr_r': 0.9238743853068038, 'stop_frac_r': 6, 'avg_frac_r': 9}. Best is trial 29 with value: 1.39414518947483.\u001B[0m\n"
     ]
    },
    {
     "name": "stdout",
     "output_type": "stream",
     "text": [
      "last_regret=0.6091627213150935\n",
      "l_star=10 ; regret_mix=0.6712610658780461 ; last_regret=0.7891489828742763\n",
      "l_star=12 ; regret_mix=0.6840023481855388 ; last_regret=0.7687089890180049\n",
      "l_star=12 ; regret_mix=0.6699039674387626 ; last_regret=0.7547301701922042\n",
      "l_star=11 ; regret_mix=0.530439117574538 ; last_regret=0.6361409822352131\n",
      "l_star=9 ; regret_mix=0.4941124528700406 ; last_regret=0.5832586165226358\n",
      "l_star=9 ; regret_mix=0.6255048740183002 ; last_regret=0.7508692373667605\n",
      "l_star=13 ; regret_mix=0.5846636584228072 ; last_regret=0.6658899685416353\n",
      "l_star=9 ; regret_mix=0.49390229766161586 ; last_regret=0.5950538953805836\n",
      "l_star=11 ; regret_mix=0.5865801255984662 ; last_regret=0.6709935614827778\n",
      "l_star=12 ; regret_mix=0.670369367281957 ; "
     ]
    },
    {
     "name": "stderr",
     "output_type": "stream",
     "text": [
      "\u001B[32m[I 2023-05-20 08:58:25,991]\u001B[0m Trial 42 finished with value: 1.4981372190037692 and parameters: {'beta_f': 0.5373192735708797, 'beta_r': 0.9427587946714056, 'lr_f': 0.6269331071681448, 'lr_r': 0.7098817699036974, 'stop_frac_r': 2, 'avg_frac_r': 3}. Best is trial 29 with value: 1.39414518947483.\u001B[0m\n"
     ]
    },
    {
     "name": "stdout",
     "output_type": "stream",
     "text": [
      "last_regret=0.7552771931385557\n",
      "l_star=11 ; regret_mix=0.629872365699353 ; last_regret=0.7409854677561197\n",
      "l_star=11 ; regret_mix=0.559655640283758 ; last_regret=0.6504861984769414\n",
      "l_star=11 ; regret_mix=0.7033992903022417 ; last_regret=0.8240308667556588\n",
      "l_star=9 ; regret_mix=0.685266016736371 ; last_regret=0.8097311417833027\n",
      "l_star=11 ; regret_mix=0.44426879520655266 ; last_regret=0.5359657039609326\n",
      "l_star=9 ; regret_mix=0.6479801454820618 ; last_regret=0.7525837193333049\n",
      "l_star=11 ; regret_mix=0.6492898751423714 ; last_regret=0.7778448079765097\n",
      "l_star=11 ; regret_mix=0.6792594455024561 ; last_regret=0.8049938343130154\n",
      "l_star=8 ; regret_mix=0.5808227756448926 ; last_regret=0.6938950807210726\n",
      "l_star=11 ; regret_mix=0.6212355495268694 ; "
     ]
    },
    {
     "name": "stderr",
     "output_type": "stream",
     "text": [
      "\u001B[32m[I 2023-05-20 09:04:30,081]\u001B[0m Trial 43 finished with value: 1.6840219053629324 and parameters: {'beta_f': 0.5377703060105841, 'beta_r': 0.926044773150811, 'lr_f': 0.6991655027485728, 'lr_r': 0.6547798398563632, 'stop_frac_r': 2, 'avg_frac_r': 3}. Best is trial 29 with value: 1.39414518947483.\u001B[0m\n"
     ]
    },
    {
     "name": "stdout",
     "output_type": "stream",
     "text": [
      "last_regret=0.7440026921056684\n",
      "l_star=11 ; regret_mix=0.6892960134800393 ; last_regret=0.8126767701424057\n",
      "l_star=9 ; regret_mix=0.5985694142654311 ; last_regret=0.7169545638796451\n",
      "l_star=9 ; regret_mix=0.6767037421390742 ; last_regret=0.8435025737152982\n",
      "l_star=10 ; regret_mix=0.5350004493391673 ; last_regret=0.6398262950301534\n",
      "l_star=9 ; regret_mix=0.5754025262572858 ; last_regret=0.6860872179442542\n",
      "l_star=11 ; regret_mix=0.7308870898238737 ; last_regret=0.8391679643646679\n",
      "l_star=11 ; regret_mix=0.7050276324743523 ; last_regret=0.823101725656586\n",
      "l_star=11 ; regret_mix=0.6852080002644764 ; last_regret=0.8264996786661597\n",
      "l_star=9 ; regret_mix=0.5526530884646675 ; last_regret=0.6895346388764123\n",
      "l_star=10 ; regret_mix=0.6785702210248458 ; "
     ]
    },
    {
     "name": "stderr",
     "output_type": "stream",
     "text": [
      "\u001B[32m[I 2023-05-20 09:10:30,068]\u001B[0m Trial 44 finished with value: 1.8076398116843029 and parameters: {'beta_f': 0.590310179617135, 'beta_r': 0.9671935344986736, 'lr_f': 0.5884843318562119, 'lr_r': 0.7296259244653978, 'stop_frac_r': 3, 'avg_frac_r': 4}. Best is trial 29 with value: 1.39414518947483.\u001B[0m\n"
     ]
    },
    {
     "name": "stdout",
     "output_type": "stream",
     "text": [
      "last_regret=0.8169218948286177\n",
      "l_star=12 ; regret_mix=0.6669279905675748 ; last_regret=0.879774624571976\n",
      "l_star=11 ; regret_mix=0.7394912050462299 ; last_regret=0.993847446586942\n",
      "l_star=12 ; regret_mix=0.5894158047205986 ; last_regret=0.7414669521864607\n",
      "l_star=11 ; regret_mix=0.6392584597187891 ; last_regret=0.8541658146679372\n",
      "l_star=12 ; regret_mix=0.6909326969508213 ; last_regret=0.8752322883826532\n",
      "l_star=11 ; regret_mix=0.5305625006215421 ; last_regret=0.6678693240464454\n",
      "l_star=8 ; regret_mix=0.47742487392381283 ; last_regret=0.7017345874252395\n",
      "l_star=13 ; regret_mix=0.47636743601888165 ; last_regret=0.5694888553666781\n",
      "l_star=10 ; regret_mix=0.6567458909886953 ; last_regret=0.8742883033663909\n",
      "l_star=11 ; regret_mix=0.587760221200992 ; "
     ]
    },
    {
     "name": "stderr",
     "output_type": "stream",
     "text": [
      "\u001B[32m[I 2023-05-20 09:16:29,657]\u001B[0m Trial 45 finished with value: 2.6504914796468704 and parameters: {'beta_f': 0.5014515587849796, 'beta_r': 0.9416030173782917, 'lr_f': 0.6158013970114732, 'lr_r': 0.8223095960889701, 'stop_frac_r': 1, 'avg_frac_r': 2}. Best is trial 29 with value: 1.39414518947483.\u001B[0m\n"
     ]
    },
    {
     "name": "stdout",
     "output_type": "stream",
     "text": [
      "last_regret=0.7488041654490659\n",
      "l_star=11 ; regret_mix=0.680637478669019 ; last_regret=0.9179794788444843\n",
      "l_star=10 ; regret_mix=0.6505020610020512 ; last_regret=0.9039247880963073\n",
      "l_star=12 ; regret_mix=0.6951159552358279 ; last_regret=0.8785562818353362\n",
      "l_star=11 ; regret_mix=0.4466455478835057 ; last_regret=0.5664546342224797\n",
      "l_star=11 ; regret_mix=0.6701439980013039 ; last_regret=0.8223154257064011\n",
      "l_star=10 ; regret_mix=0.6089380243222546 ; last_regret=0.8176392852215814\n",
      "l_star=9 ; regret_mix=0.4448497974097973 ; last_regret=0.5727655738012813\n",
      "l_star=12 ; regret_mix=0.5723109645058639 ; last_regret=0.7570879994191254\n",
      "l_star=10 ; regret_mix=0.45843659485439686 ; last_regret=0.5887323182164313\n",
      "l_star=9 ; regret_mix=0.6304857290942395 ; "
     ]
    },
    {
     "name": "stderr",
     "output_type": "stream",
     "text": [
      "\u001B[32m[I 2023-05-20 09:22:26,723]\u001B[0m Trial 46 finished with value: 2.57689477460201 and parameters: {'beta_f': 0.5669026651173446, 'beta_r': 0.9428887367679601, 'lr_f': 0.3497971977861982, 'lr_r': 0.7745135033446401, 'stop_frac_r': 9, 'avg_frac_r': 10}. Best is trial 29 with value: 1.39414518947483.\u001B[0m\n"
     ]
    },
    {
     "name": "stdout",
     "output_type": "stream",
     "text": [
      "last_regret=0.766153672995997\n",
      "l_star=11 ; regret_mix=0.5398898782930488 ; last_regret=0.6126004399861898\n",
      "l_star=12 ; regret_mix=0.5875033021152235 ; last_regret=0.6950381841838228\n",
      "l_star=9 ; regret_mix=0.5833606014252587 ; last_regret=0.7098871607955496\n",
      "l_star=9 ; regret_mix=0.6111957987068508 ; last_regret=0.7337707177142685\n",
      "l_star=12 ; regret_mix=0.6722218927217816 ; last_regret=0.7722617400413615\n",
      "l_star=10 ; regret_mix=0.42628192531086845 ; last_regret=0.5102866089823791\n",
      "l_star=10 ; regret_mix=0.658865740764372 ; last_regret=0.7893845716400267\n",
      "l_star=11 ; regret_mix=0.5428206867876666 ; last_regret=0.6154650266861174\n",
      "l_star=10 ; regret_mix=0.643661524981424 ; last_regret=0.7785284338841165\n",
      "l_star=11 ; regret_mix=0.6166962384810889 ; "
     ]
    },
    {
     "name": "stderr",
     "output_type": "stream",
     "text": [
      "\u001B[32m[I 2023-05-20 09:28:34,696]\u001B[0m Trial 47 finished with value: 1.6279990487293374 and parameters: {'beta_f': 0.531855476637745, 'beta_r': 0.9862969805488483, 'lr_f': 0.5407036516775631, 'lr_r': 0.6798611532182935, 'stop_frac_r': 2, 'avg_frac_r': 3}. Best is trial 29 with value: 1.39414518947483.\u001B[0m\n"
     ]
    },
    {
     "name": "stdout",
     "output_type": "stream",
     "text": [
      "last_regret=0.7088834580680675\n",
      "l_star=11 ; regret_mix=0.6470093924144774 ; last_regret=0.7562594570413548\n",
      "l_star=9 ; regret_mix=0.6442209652436489 ; last_regret=0.7943980804450722\n",
      "l_star=11 ; regret_mix=0.48925039709668644 ; last_regret=0.5574691160774821\n",
      "l_star=12 ; regret_mix=0.4565519601330847 ; last_regret=0.5318611092785338\n",
      "l_star=11 ; regret_mix=0.7073996159899864 ; last_regret=0.857960912681686\n",
      "l_star=8 ; regret_mix=0.517732161784886 ; last_regret=0.6723826669536249\n",
      "l_star=9 ; regret_mix=0.459282370041836 ; last_regret=0.5460346169660752\n",
      "l_star=12 ; regret_mix=0.5618980235094817 ; last_regret=0.6417072155987\n",
      "l_star=10 ; regret_mix=0.641239047007004 ; last_regret=0.7645692138833367\n",
      "l_star=10 ; regret_mix=0.7118442810674203 ; "
     ]
    },
    {
     "name": "stderr",
     "output_type": "stream",
     "text": [
      "\u001B[32m[I 2023-05-20 09:34:37,404]\u001B[0m Trial 48 finished with value: 1.7746014377545272 and parameters: {'beta_f': 0.6323645258917445, 'beta_r': 0.9666428465304755, 'lr_f': 0.7378481988026098, 'lr_r': 0.6226587356564671, 'stop_frac_r': 3, 'avg_frac_r': 4}. Best is trial 29 with value: 1.39414518947483.\u001B[0m\n"
     ]
    },
    {
     "name": "stdout",
     "output_type": "stream",
     "text": [
      "last_regret=0.8605828435179578\n",
      "l_star=13 ; regret_mix=0.6523164208271873 ; last_regret=0.7677019891519354\n",
      "l_star=11 ; regret_mix=0.6440757694652725 ; last_regret=0.7445253693294417\n",
      "l_star=10 ; regret_mix=0.6566420027478995 ; last_regret=0.7756009170732334\n",
      "l_star=10 ; regret_mix=0.6441886699321532 ; last_regret=0.7390566508218606\n",
      "l_star=11 ; regret_mix=0.683431129568813 ; last_regret=0.8080530132544215\n",
      "l_star=10 ; regret_mix=0.5519933790000651 ; last_regret=0.6624032923261993\n",
      "l_star=9 ; regret_mix=0.6221585275914051 ; last_regret=0.7634360873882545\n",
      "l_star=13 ; regret_mix=0.741623933746286 ; last_regret=0.8596872311250428\n",
      "l_star=12 ; regret_mix=0.506574379473542 ; last_regret=0.5659812329117313\n",
      "l_star=11 ; regret_mix=0.6498461767265572 ; "
     ]
    },
    {
     "name": "stderr",
     "output_type": "stream",
     "text": [
      "\u001B[32m[I 2023-05-20 09:40:39,632]\u001B[0m Trial 49 finished with value: 1.5783549618576243 and parameters: {'beta_f': 0.5572199363261224, 'beta_r': 0.8746894229955439, 'lr_f': 0.49492088815190605, 'lr_r': 0.7433453486993549, 'stop_frac_r': 2, 'avg_frac_r': 3}. Best is trial 29 with value: 1.39414518947483.\u001B[0m\n"
     ]
    },
    {
     "name": "stdout",
     "output_type": "stream",
     "text": [
      "last_regret=0.7577210194024853\n",
      "l_star=11 ; regret_mix=0.6592223732451833 ; last_regret=0.7919615503425662\n",
      "l_star=11 ; regret_mix=0.5820244778947018 ; last_regret=0.6780217544603581\n",
      "l_star=13 ; regret_mix=0.568308022231388 ; last_regret=0.644719985879846\n",
      "l_star=10 ; regret_mix=0.6256154152102626 ; last_regret=0.8416389035627365\n",
      "l_star=10 ; regret_mix=0.7511546612851137 ; last_regret=1.012628621715816\n",
      "l_star=11 ; regret_mix=0.5295254427993187 ; last_regret=0.6307576885700329\n",
      "l_star=10 ; regret_mix=0.6588917496866857 ; last_regret=0.7768448296353933\n",
      "l_star=10 ; regret_mix=0.6909537833266522 ; last_regret=0.824836250249859\n",
      "l_star=9 ; regret_mix=0.6675762262635431 ; last_regret=0.9550460954803611\n",
      "l_star=12 ; regret_mix=0.6923934783163546 ; "
     ]
    },
    {
     "name": "stderr",
     "output_type": "stream",
     "text": [
      "\u001B[32m[I 2023-05-20 09:46:34,858]\u001B[0m Trial 50 finished with value: 2.1554812844408264 and parameters: {'beta_f': 0.6859323134633969, 'beta_r': 0.9114293884764512, 'lr_f': 0.6518604074574413, 'lr_r': 0.5839332816877341, 'stop_frac_r': 3, 'avg_frac_r': 4}. Best is trial 29 with value: 1.39414518947483.\u001B[0m\n"
     ]
    },
    {
     "name": "stdout",
     "output_type": "stream",
     "text": [
      "last_regret=0.8654208963420156\n",
      "l_star=9 ; regret_mix=0.6909119588033242 ; last_regret=0.8824172784923113\n",
      "l_star=9 ; regret_mix=0.6108085723085693 ; last_regret=0.8578167306859283\n",
      "l_star=13 ; regret_mix=0.7614115266994195 ; last_regret=0.9952944671646818\n",
      "l_star=12 ; regret_mix=0.7042418729987561 ; last_regret=0.852263718279377\n",
      "l_star=14 ; regret_mix=0.6264127471690071 ; last_regret=0.7646536994568209\n",
      "l_star=11 ; regret_mix=0.515645105354904 ; last_regret=0.6436806594324889\n",
      "l_star=9 ; regret_mix=0.5409408446794273 ; last_regret=0.7356877654595639\n",
      "l_star=9 ; regret_mix=0.43075283930470115 ; last_regret=0.5397037098108148\n",
      "l_star=11 ; regret_mix=0.6386222582580844 ; last_regret=0.8000934726955722\n",
      "l_star=11 ; regret_mix=0.61810848811616 ; "
     ]
    },
    {
     "name": "stderr",
     "output_type": "stream",
     "text": [
      "\u001B[32m[I 2023-05-20 09:52:16,173]\u001B[0m Trial 51 finished with value: 2.4940494139263527 and parameters: {'beta_f': 0.5896744688690444, 'beta_r': 0.9368407325612773, 'lr_f': 0.8263972668762242, 'lr_r': 0.6784038866180248, 'stop_frac_r': 7, 'avg_frac_r': 8}. Best is trial 29 with value: 1.39414518947483.\u001B[0m\n"
     ]
    },
    {
     "name": "stdout",
     "output_type": "stream",
     "text": [
      "last_regret=0.8109613687654726\n",
      "l_star=11 ; regret_mix=0.694301738363881 ; last_regret=0.8126963090356365\n",
      "l_star=12 ; regret_mix=0.6212715948310376 ; last_regret=0.7118893156247263\n",
      "l_star=9 ; regret_mix=0.4942083322361583 ; last_regret=0.6097619937363644\n",
      "l_star=11 ; regret_mix=0.6351361787594949 ; last_regret=0.7297058605815485\n",
      "l_star=11 ; regret_mix=0.5133161721321504 ; last_regret=0.6037190574562958\n",
      "l_star=9 ; regret_mix=0.6515099413448657 ; last_regret=0.7707432699966502\n",
      "l_star=9 ; regret_mix=0.6359506434454435 ; last_regret=0.7505827360025528\n",
      "l_star=9 ; regret_mix=0.49816456750477367 ; last_regret=0.572731653346109\n",
      "l_star=11 ; regret_mix=0.688330965223733 ; last_regret=0.7959902454229525\n",
      "l_star=11 ; regret_mix=0.48797117994604633 ; "
     ]
    },
    {
     "name": "stderr",
     "output_type": "stream",
     "text": [
      "\u001B[32m[I 2023-05-20 09:58:03,964]\u001B[0m Trial 52 finished with value: 1.560135775659188 and parameters: {'beta_f': 0.5320206076847135, 'beta_r': 0.9718696818802147, 'lr_f': 0.6020991505878966, 'lr_r': 0.7122617949865817, 'stop_frac_r': 2, 'avg_frac_r': 3}. Best is trial 29 with value: 1.39414518947483.\u001B[0m\n"
     ]
    },
    {
     "name": "stdout",
     "output_type": "stream",
     "text": [
      "last_regret=0.5595097593176324\n",
      "l_star=10 ; regret_mix=0.617616365541672 ; last_regret=0.7484362103088572\n",
      "l_star=11 ; regret_mix=0.6237922088576492 ; last_regret=0.7224106427274503\n",
      "l_star=12 ; regret_mix=0.7161798129523492 ; last_regret=0.840851926350258\n",
      "l_star=11 ; regret_mix=0.5638944892788038 ; last_regret=0.6540173639084227\n",
      "l_star=14 ; regret_mix=0.6072549711115591 ; last_regret=0.7122468568755169\n",
      "l_star=13 ; regret_mix=0.6405056695673118 ; last_regret=0.7578463573368266\n",
      "l_star=13 ; regret_mix=0.6125645743839789 ; last_regret=0.7133846538770762\n",
      "l_star=11 ; regret_mix=0.4351519858963486 ; last_regret=0.5202630858812198\n",
      "l_star=10 ; regret_mix=0.6695306978246266 ; last_regret=0.7986649257160254\n",
      "l_star=10 ; regret_mix=0.5660961913765975 ; "
     ]
    },
    {
     "name": "stderr",
     "output_type": "stream",
     "text": [
      "\u001B[32m[I 2023-05-20 10:03:51,327]\u001B[0m Trial 53 finished with value: 1.6359371787365558 and parameters: {'beta_f': 0.5329774236454222, 'beta_r': 0.9713255530254558, 'lr_f': 0.6384789754887924, 'lr_r': 0.6419008407493056, 'stop_frac_r': 2, 'avg_frac_r': 3}. Best is trial 29 with value: 1.39414518947483.\u001B[0m\n"
     ]
    },
    {
     "name": "stdout",
     "output_type": "stream",
     "text": [
      "last_regret=0.6598328947581348\n",
      "l_star=11 ; regret_mix=0.6045745403864501 ; last_regret=0.857041217288658\n",
      "l_star=10 ; regret_mix=0.6687008436266334 ; last_regret=0.9518026913961087\n",
      "l_star=12 ; regret_mix=0.5851634124834192 ; last_regret=0.7394251291671882\n",
      "l_star=11 ; regret_mix=0.660339112787848 ; last_regret=0.8890971890255502\n",
      "l_star=10 ; regret_mix=0.6514721348139281 ; last_regret=0.8825737066623942\n",
      "l_star=10 ; regret_mix=0.4122112509687588 ; last_regret=0.5352362093148095\n",
      "l_star=11 ; regret_mix=0.721394552732757 ; last_regret=0.9474837854666628\n",
      "l_star=10 ; regret_mix=0.5438485002581809 ; last_regret=0.7312760727278705\n",
      "l_star=10 ; regret_mix=0.5450110636077936 ; last_regret=0.7219083444008522\n",
      "l_star=9 ; regret_mix=0.6584931535976978 ; "
     ]
    },
    {
     "name": "stderr",
     "output_type": "stream",
     "text": [
      "\u001B[32m[I 2023-05-20 10:09:41,542]\u001B[0m Trial 54 finished with value: 2.9488918390442524 and parameters: {'beta_f': 0.5504453319702931, 'beta_r': 0.9416538454005153, 'lr_f': 0.7057011870803187, 'lr_r': 0.7156041758709548, 'stop_frac_r': 1, 'avg_frac_r': 2}. Best is trial 29 with value: 1.39414518947483.\u001B[0m\n"
     ]
    },
    {
     "name": "stdout",
     "output_type": "stream",
     "text": [
      "last_regret=0.8896366445859585\n",
      "l_star=11 ; regret_mix=0.4971162932125372 ; last_regret=0.5783159075712417\n",
      "l_star=11 ; regret_mix=0.7151474470202552 ; last_regret=0.8395031557966685\n",
      "l_star=9 ; regret_mix=0.6781775904380324 ; last_regret=0.8784852705253793\n",
      "l_star=13 ; regret_mix=0.6219773088167043 ; last_regret=0.7530486298338652\n",
      "l_star=15 ; regret_mix=0.5677411049277881 ; last_regret=0.6422407648425292\n",
      "l_star=10 ; regret_mix=0.512618655450523 ; last_regret=0.6245613421829332\n",
      "l_star=12 ; regret_mix=0.7085891198079681 ; last_regret=0.9717647634400861\n",
      "l_star=11 ; regret_mix=0.5795017025616452 ; last_regret=0.708689916743782\n",
      "l_star=10 ; regret_mix=0.5702540752272892 ; last_regret=0.6781654081421757\n",
      "l_star=12 ; regret_mix=0.7020168065205836 ; "
     ]
    },
    {
     "name": "stderr",
     "output_type": "stream",
     "text": [
      "\u001B[32m[I 2023-05-20 10:15:42,127]\u001B[0m Trial 55 finished with value: 2.011405817623385 and parameters: {'beta_f': 0.5779508447612979, 'beta_r': 0.9500472270756024, 'lr_f': 0.5759778409274522, 'lr_r': 0.7860900994985403, 'stop_frac_r': 3, 'avg_frac_r': 4}. Best is trial 29 with value: 1.39414518947483.\u001B[0m\n"
     ]
    },
    {
     "name": "stdout",
     "output_type": "stream",
     "text": [
      "last_regret=0.8911542479724663\n",
      "l_star=11 ; regret_mix=0.5651781802599631 ; last_regret=0.6576047747465005\n",
      "l_star=10 ; regret_mix=0.6317982168908919 ; last_regret=0.757932011350255\n",
      "l_star=9 ; regret_mix=0.6515105361278583 ; last_regret=0.7916778419803182\n",
      "l_star=9 ; regret_mix=0.4378872298950448 ; last_regret=0.5406693387371572\n",
      "l_star=12 ; regret_mix=0.6703776999214465 ; last_regret=0.777920574912437\n",
      "l_star=13 ; regret_mix=0.6746588384621646 ; last_regret=0.7810589009763507\n",
      "l_star=11 ; regret_mix=0.4119492139137688 ; last_regret=0.4743658107541349\n",
      "l_star=9 ; regret_mix=0.5114436723149669 ; last_regret=0.6179476556459522\n",
      "l_star=11 ; regret_mix=0.6449327979893119 ; last_regret=0.7367223097349256\n",
      "l_star=9 ; regret_mix=0.5533075965894011 ; "
     ]
    },
    {
     "name": "stderr",
     "output_type": "stream",
     "text": [
      "\u001B[32m[I 2023-05-20 10:21:46,677]\u001B[0m Trial 56 finished with value: 1.6825901524856604 and parameters: {'beta_f': 0.6096204445988618, 'beta_r': 0.9886079581841644, 'lr_f': 0.762999153922978, 'lr_r': 0.6741019098002761, 'stop_frac_r': 2, 'avg_frac_r': 5}. Best is trial 29 with value: 1.39414518947483.\u001B[0m\n"
     ]
    },
    {
     "name": "stdout",
     "output_type": "stream",
     "text": [
      "last_regret=0.6656563949130563\n",
      "l_star=13 ; regret_mix=0.6974405927649701 ; last_regret=0.8764692201668445\n",
      "l_star=10 ; regret_mix=0.6073623661413029 ; last_regret=0.7563416005724531\n",
      "l_star=9 ; regret_mix=0.5104823708863653 ; last_regret=0.6159084204360225\n",
      "l_star=11 ; regret_mix=0.6997198096885285 ; last_regret=0.8552631883277416\n",
      "l_star=11 ; regret_mix=0.6403541781984141 ; last_regret=0.8259839032817528\n",
      "l_star=11 ; regret_mix=0.6559135761196779 ; last_regret=0.8121789750459943\n",
      "l_star=15 ; regret_mix=0.7028097896467023 ; last_regret=0.9088319924396021\n",
      "l_star=11 ; regret_mix=0.6229986368494786 ; last_regret=0.8218884349704877\n",
      "l_star=10 ; regret_mix=0.5950204073026949 ; last_regret=0.7532083405255591\n",
      "l_star=9 ; regret_mix=0.7022882211239767 ; "
     ]
    },
    {
     "name": "stderr",
     "output_type": "stream",
     "text": [
      "\u001B[32m[I 2023-05-20 10:27:37,373]\u001B[0m Trial 57 finished with value: 2.527178007874538 and parameters: {'beta_f': 0.5222339984585402, 'beta_r': 0.8947560087643134, 'lr_f': 0.6421089703040813, 'lr_r': 0.8044197220354297, 'stop_frac_r': 4, 'avg_frac_r': 6}. Best is trial 29 with value: 1.39414518947483.\u001B[0m\n"
     ]
    },
    {
     "name": "stdout",
     "output_type": "stream",
     "text": [
      "last_regret=1.1044167647535537\n",
      "l_star=11 ; regret_mix=0.6830613302294875 ; last_regret=0.8943741493355396\n",
      "l_star=12 ; regret_mix=0.6713858183193584 ; last_regret=0.8776901774555056\n",
      "l_star=14 ; regret_mix=0.6325264845848357 ; last_regret=0.8518804225801154\n",
      "l_star=10 ; regret_mix=0.8002242496451736 ; last_regret=1.0727251251919698\n",
      "l_star=10 ; regret_mix=0.5536841253868038 ; last_regret=0.7086420673908146\n",
      "l_star=13 ; regret_mix=0.5109997277994072 ; last_regret=0.6397013285430062\n",
      "l_star=10 ; regret_mix=0.5002188957492534 ; last_regret=0.643052208882741\n",
      "l_star=11 ; regret_mix=0.5804556192233661 ; last_regret=0.7707906758556551\n",
      "l_star=10 ; regret_mix=0.649265224646346 ; last_regret=0.9092349567002165\n",
      "l_star=12 ; regret_mix=0.5917778897495747 ; "
     ]
    },
    {
     "name": "stderr",
     "output_type": "stream",
     "text": [
      "\u001B[32m[I 2023-05-20 10:33:35,052]\u001B[0m Trial 58 finished with value: 2.7699283666797387 and parameters: {'beta_f': 0.5538149886522552, 'beta_r': 0.917414601249017, 'lr_f': 0.7034765999624364, 'lr_r': 0.76206438529088, 'stop_frac_r': 1, 'avg_frac_r': 2}. Best is trial 29 with value: 1.39414518947483.\u001B[0m\n"
     ]
    },
    {
     "name": "stdout",
     "output_type": "stream",
     "text": [
      "last_regret=0.797790868544168\n",
      "l_star=10 ; regret_mix=0.6862348775791602 ; last_regret=0.8451814901413476\n",
      "l_star=13 ; regret_mix=0.7208411663619951 ; last_regret=0.8581547637275145\n",
      "l_star=10 ; regret_mix=0.637705575255131 ; last_regret=0.7683146900694612\n",
      "l_star=10 ; regret_mix=0.7063394901530949 ; last_regret=0.9016353758946748\n",
      "l_star=11 ; regret_mix=0.5981826982322409 ; last_regret=0.681677960139186\n",
      "l_star=10 ; regret_mix=0.6695867472214484 ; last_regret=0.814726377006316\n",
      "l_star=10 ; regret_mix=0.4072343513886877 ; last_regret=0.48587961618862324\n",
      "l_star=9 ; regret_mix=0.6033333180383996 ; last_regret=0.7070490479191334\n",
      "l_star=9 ; regret_mix=0.42968311852536384 ; last_regret=0.5090588813799933\n",
      "l_star=10 ; regret_mix=0.6650628820336123 ; "
     ]
    },
    {
     "name": "stderr",
     "output_type": "stream",
     "text": [
      "\u001B[32m[I 2023-05-20 10:39:37,593]\u001B[0m Trial 59 finished with value: 1.7884444889301805 and parameters: {'beta_f': 0.5842333353217759, 'beta_r': 0.9667084932210439, 'lr_f': 0.5548472189557908, 'lr_r': 0.8420430441040277, 'stop_frac_r': 3, 'avg_frac_r': 4}. Best is trial 29 with value: 1.39414518947483.\u001B[0m\n"
     ]
    },
    {
     "name": "stdout",
     "output_type": "stream",
     "text": [
      "last_regret=0.7678707227180772\n",
      "l_star=12 ; regret_mix=0.6144828479055517 ; last_regret=0.7158230427909952\n",
      "l_star=11 ; regret_mix=0.5959574044543167 ; last_regret=0.6818732793039556\n",
      "l_star=9 ; regret_mix=0.5765954894259918 ; last_regret=0.6775086971545393\n",
      "l_star=10 ; regret_mix=0.6523383431578745 ; last_regret=0.7490653373167889\n",
      "l_star=9 ; regret_mix=0.5630941907618295 ; last_regret=0.6702742916538454\n",
      "l_star=12 ; regret_mix=0.6329055166475022 ; last_regret=0.7216439195609091\n",
      "l_star=12 ; regret_mix=0.5956470271973614 ; last_regret=0.6817645703495322\n",
      "l_star=12 ; regret_mix=0.6908366125364828 ; last_regret=0.8267753342722882\n",
      "l_star=12 ; regret_mix=0.6538457413669101 ; last_regret=0.7541786650244026\n",
      "l_star=9 ; regret_mix=0.6668156453077985 ; "
     ]
    },
    {
     "name": "stderr",
     "output_type": "stream",
     "text": [
      "\u001B[32m[I 2023-05-20 10:45:47,012]\u001B[0m Trial 60 finished with value: 1.5124115695606448 and parameters: {'beta_f': 0.5000860774545781, 'beta_r': 0.9292059928864241, 'lr_f': 0.6722060084180528, 'lr_r': 0.7016341833077607, 'stop_frac_r': 2, 'avg_frac_r': 3}. Best is trial 29 with value: 1.39414518947483.\u001B[0m\n"
     ]
    },
    {
     "name": "stdout",
     "output_type": "stream",
     "text": [
      "last_regret=0.7846045834082126\n",
      "l_star=9 ; regret_mix=0.5564468485106212 ; last_regret=0.6716193586290663\n",
      "l_star=12 ; regret_mix=0.7486858039361531 ; last_regret=0.93830935226566\n",
      "l_star=10 ; regret_mix=0.5394746105612811 ; last_regret=0.7085404910402533\n",
      "l_star=11 ; regret_mix=0.7063792418899404 ; last_regret=0.8979741367692222\n",
      "l_star=11 ; regret_mix=0.5815860409701197 ; last_regret=0.7620491678823973\n",
      "l_star=11 ; regret_mix=0.6520775112268574 ; last_regret=0.8058007808829224\n",
      "l_star=10 ; regret_mix=0.37514615430213066 ; last_regret=0.4628293097520821\n",
      "l_star=11 ; regret_mix=0.6381475121128727 ; last_regret=0.8341105116499717\n",
      "l_star=10 ; regret_mix=0.7195913323878789 ; last_regret=0.9601752405286581\n",
      "l_star=12 ; regret_mix=0.6660139682081915 ; "
     ]
    },
    {
     "name": "stderr",
     "output_type": "stream",
     "text": [
      "\u001B[32m[I 2023-05-20 10:51:45,291]\u001B[0m Trial 61 finished with value: 2.381541048205661 and parameters: {'beta_f': 0.5452364520810398, 'beta_r': 0.928781498110162, 'lr_f': 0.669009062513717, 'lr_r': 0.5957351464723735, 'stop_frac_r': 5, 'avg_frac_r': 6}. Best is trial 29 with value: 1.39414518947483.\u001B[0m\n"
     ]
    },
    {
     "name": "stdout",
     "output_type": "stream",
     "text": [
      "last_regret=0.8190737648378937\n",
      "l_star=11 ; regret_mix=0.6178886158703454 ; last_regret=0.7182994819732478\n",
      "l_star=11 ; regret_mix=0.5186578000686276 ; last_regret=0.5999265423673169\n",
      "l_star=12 ; regret_mix=0.6711767632365002 ; last_regret=0.7903526678066253\n",
      "l_star=11 ; regret_mix=0.6294510178132493 ; last_regret=0.7358846496125993\n",
      "l_star=13 ; regret_mix=0.5624647247327444 ; last_regret=0.6373930189444486\n",
      "l_star=10 ; regret_mix=0.6118854853132528 ; last_regret=0.7114203285057542\n",
      "l_star=14 ; regret_mix=0.6790636019550929 ; last_regret=0.7658761781697471\n",
      "l_star=10 ; regret_mix=0.7272001111314608 ; last_regret=0.8266423824297097\n",
      "l_star=10 ; regret_mix=0.5355995175388644 ; last_regret=0.6279565541355338\n",
      "l_star=12 ; regret_mix=0.6784826844198149 ; "
     ]
    },
    {
     "name": "stderr",
     "output_type": "stream",
     "text": [
      "\u001B[32m[I 2023-05-20 10:57:43,543]\u001B[0m Trial 62 finished with value: 1.4279889462056918 and parameters: {'beta_f': 0.510439517379579, 'beta_r': 0.9496662803792022, 'lr_f': 0.6111660694902238, 'lr_r': 0.748081105907977, 'stop_frac_r': 2, 'avg_frac_r': 3}. Best is trial 29 with value: 1.39414518947483.\u001B[0m\n"
     ]
    },
    {
     "name": "stdout",
     "output_type": "stream",
     "text": [
      "last_regret=0.7717786469707836\n",
      "l_star=10 ; regret_mix=0.6013011610162985 ; last_regret=0.7220654175380299\n",
      "l_star=12 ; regret_mix=0.6962370955122578 ; last_regret=0.7949935451876495\n",
      "l_star=9 ; regret_mix=0.6471919889205845 ; last_regret=0.7422458115386216\n",
      "l_star=9 ; regret_mix=0.5686151075453988 ; last_regret=0.7084805320216465\n",
      "l_star=10 ; regret_mix=0.45818610771087437 ; last_regret=0.5372400354650391\n",
      "l_star=11 ; regret_mix=0.4584724195805702 ; last_regret=0.5271497914919965\n",
      "l_star=11 ; regret_mix=0.695036654814 ; last_regret=0.8015945255428494\n",
      "l_star=10 ; regret_mix=0.6448033644914923 ; last_regret=0.7623326790461562\n",
      "l_star=12 ; regret_mix=0.6144054763875944 ; last_regret=0.6936989910050037\n",
      "l_star=11 ; regret_mix=0.6568571557139752 ; "
     ]
    },
    {
     "name": "stderr",
     "output_type": "stream",
     "text": [
      "\u001B[32m[I 2023-05-20 11:03:33,842]\u001B[0m Trial 63 finished with value: 1.5788666780239904 and parameters: {'beta_f': 0.5020232044003288, 'beta_r': 0.9762653975621254, 'lr_f': 0.6024969804799921, 'lr_r': 0.7430568606083987, 'stop_frac_r': 2, 'avg_frac_r': 3}. Best is trial 29 with value: 1.39414518947483.\u001B[0m\n"
     ]
    },
    {
     "name": "stdout",
     "output_type": "stream",
     "text": [
      "last_regret=0.7832878470815786\n",
      "l_star=11 ; regret_mix=0.6726291193274909 ; last_regret=0.8455791250431048\n",
      "l_star=10 ; regret_mix=0.6093332666873501 ; last_regret=0.8086360699870803\n",
      "l_star=10 ; regret_mix=0.5674927687906882 ; last_regret=0.7340562457668162\n",
      "l_star=10 ; regret_mix=0.5021875307797292 ; last_regret=0.6552980474251471\n",
      "l_star=9 ; regret_mix=0.4875859037763902 ; last_regret=0.6532341144847441\n",
      "l_star=9 ; regret_mix=0.5807100229164265 ; last_regret=0.8093980807821695\n",
      "l_star=10 ; regret_mix=0.6511526785728882 ; last_regret=0.86495465051626\n",
      "l_star=8 ; regret_mix=0.5836300205830733 ; last_regret=0.8327389051902271\n",
      "l_star=9 ; regret_mix=0.6557289951307661 ; last_regret=0.9277272618687136\n",
      "l_star=10 ; regret_mix=0.674288200298066 ; "
     ]
    },
    {
     "name": "stderr",
     "output_type": "stream",
     "text": [
      "\u001B[32m[I 2023-05-20 11:09:30,918]\u001B[0m Trial 64 finished with value: 2.9784827838842403 and parameters: {'beta_f': 0.5191258808052331, 'beta_r': 0.9321858679364712, 'lr_f': 0.7675047162750089, 'lr_r': 0.6924344120572669, 'stop_frac_r': 1, 'avg_frac_r': 2}. Best is trial 29 with value: 1.39414518947483.\u001B[0m\n"
     ]
    },
    {
     "name": "stdout",
     "output_type": "stream",
     "text": [
      "last_regret=0.9400851657055211\n",
      "l_star=13 ; regret_mix=0.5737308553029721 ; last_regret=0.699570252779441\n",
      "l_star=11 ; regret_mix=0.5754991679645554 ; last_regret=0.7234403285373958\n",
      "l_star=12 ; regret_mix=0.5676907785165813 ; last_regret=0.696627129552941\n",
      "l_star=9 ; regret_mix=0.5784235542048456 ; last_regret=0.7524619988920049\n",
      "l_star=9 ; regret_mix=0.6230744821514107 ; last_regret=0.7169101480049076\n",
      "l_star=13 ; regret_mix=0.4672199333096927 ; last_regret=0.560886009954268\n",
      "l_star=11 ; regret_mix=0.6357547640284925 ; last_regret=0.7636916760675436\n",
      "l_star=12 ; regret_mix=0.5845719489409136 ; last_regret=0.7557294862475292\n",
      "l_star=12 ; regret_mix=0.6046815672726318 ; last_regret=0.7482480077597797\n",
      "l_star=11 ; regret_mix=0.7011165818018269 ; "
     ]
    },
    {
     "name": "stderr",
     "output_type": "stream",
     "text": [
      "\u001B[32m[I 2023-05-20 11:15:25,874]\u001B[0m Trial 65 finished with value: 2.0741111343492706 and parameters: {'beta_f': 0.5158758286092493, 'beta_r': 0.9093267070613716, 'lr_f': 0.6676483667771915, 'lr_r': 0.801170675383472, 'stop_frac_r': 3, 'avg_frac_r': 4}. Best is trial 29 with value: 1.39414518947483.\u001B[0m\n"
     ]
    },
    {
     "name": "stdout",
     "output_type": "stream",
     "text": [
      "last_regret=0.8590200383590011\n",
      "l_star=10 ; regret_mix=0.6364265681553011 ; last_regret=0.822404885549494\n",
      "l_star=9 ; regret_mix=0.4256875660506603 ; last_regret=0.5602224785190318\n",
      "l_star=13 ; regret_mix=0.08517333584207396 ; last_regret=0.1117622066356578\n",
      "l_star=12 ; regret_mix=0.5902791769511875 ; last_regret=0.6910443648095677\n",
      "l_star=11 ; regret_mix=0.4384054094224617 ; last_regret=0.4984503775564399\n",
      "l_star=10 ; regret_mix=0.5901074729753614 ; last_regret=0.7286368579799573\n",
      "l_star=12 ; regret_mix=0.49929916322208934 ; last_regret=0.6110319457839267\n",
      "l_star=9 ; regret_mix=0.5830482368613755 ; last_regret=0.75129978533112\n",
      "l_star=11 ; regret_mix=0.6625368840305654 ; last_regret=0.8343762695270531\n",
      "l_star=9 ; regret_mix=0.6128572262377501 ; "
     ]
    },
    {
     "name": "stderr",
     "output_type": "stream",
     "text": [
      "\u001B[32m[I 2023-05-20 11:21:25,038]\u001B[0m Trial 66 finished with value: 2.1611223525422627 and parameters: {'beta_f': 0.5631323521346344, 'beta_r': 0.8895385454542625, 'lr_f': 0.5184266721636384, 'lr_r': 0.7475155441265419, 'stop_frac_r': 2, 'avg_frac_r': 5}. Best is trial 29 with value: 1.39414518947483.\u001B[0m\n"
     ]
    },
    {
     "name": "stdout",
     "output_type": "stream",
     "text": [
      "last_regret=0.7304429699088881\n",
      "l_star=11 ; regret_mix=0.6939987316243097 ; last_regret=0.7952183599548684\n",
      "l_star=13 ; regret_mix=0.6951158778732867 ; last_regret=0.789736044336321\n",
      "l_star=11 ; regret_mix=0.5677891413483303 ; last_regret=0.6434990324015797\n",
      "l_star=9 ; regret_mix=0.6226734882155754 ; last_regret=0.7446201913376173\n",
      "l_star=14 ; regret_mix=0.6509337877227599 ; last_regret=0.7638619217272993\n",
      "l_star=9 ; regret_mix=0.5629667273536972 ; last_regret=0.7022572618090691\n",
      "l_star=11 ; regret_mix=0.7487977804287952 ; last_regret=0.8647259962470302\n",
      "l_star=10 ; regret_mix=0.6440320109246322 ; last_regret=0.7341203335913695\n",
      "l_star=10 ; regret_mix=0.7000525369113249 ; last_regret=0.8212435195104286\n",
      "l_star=9 ; regret_mix=0.6473802290623675 ; "
     ]
    },
    {
     "name": "stderr",
     "output_type": "stream",
     "text": [
      "\u001B[32m[I 2023-05-20 11:27:17,986]\u001B[0m Trial 67 finished with value: 1.5722320735667548 and parameters: {'beta_f': 0.5421768599112061, 'beta_r': 0.9499611935819021, 'lr_f': 0.7245392496637654, 'lr_r': 0.65138897528106, 'stop_frac_r': 2, 'avg_frac_r': 3}. Best is trial 29 with value: 1.39414518947483.\u001B[0m\n"
     ]
    },
    {
     "name": "stdout",
     "output_type": "stream",
     "text": [
      "last_regret=0.7819460288997795\n",
      "l_star=13 ; regret_mix=0.5156765795783261 ; last_regret=0.6121026475889314\n",
      "l_star=12 ; regret_mix=0.4998845522595805 ; last_regret=0.5756828928262043\n",
      "l_star=12 ; regret_mix=0.6292112019928198 ; last_regret=0.7168942712073162\n",
      "l_star=11 ; regret_mix=0.7171639279542997 ; last_regret=0.8572895019246651\n",
      "l_star=11 ; regret_mix=0.7170643038949032 ; last_regret=0.8619707038366925\n",
      "l_star=10 ; regret_mix=0.5147982244890791 ; last_regret=0.6036647853884517\n",
      "l_star=9 ; regret_mix=0.6989798921535118 ; last_regret=0.8835301201200316\n",
      "l_star=13 ; regret_mix=0.5491238217887631 ; last_regret=0.6325105132389532\n",
      "l_star=11 ; regret_mix=0.6110812332300227 ; last_regret=0.7051041898422565\n",
      "l_star=9 ; regret_mix=0.4999376420830615 ; "
     ]
    },
    {
     "name": "stderr",
     "output_type": "stream",
     "text": [
      "\u001B[32m[I 2023-05-20 11:33:08,091]\u001B[0m Trial 68 finished with value: 1.6768701946508653 and parameters: {'beta_f': 0.5996088724538025, 'beta_r': 0.9885751321735345, 'lr_f': 0.5456233294573943, 'lr_r': 0.7953562175038672, 'stop_frac_r': 3, 'avg_frac_r': 4}. Best is trial 29 with value: 1.39414518947483.\u001B[0m\n"
     ]
    },
    {
     "name": "stdout",
     "output_type": "stream",
     "text": [
      "last_regret=0.6065148314390834\n",
      "l_star=10 ; regret_mix=0.5649600394936536 ; last_regret=0.71708761341363\n",
      "l_star=10 ; regret_mix=0.6377668136260102 ; last_regret=0.8378068073297161\n",
      "l_star=10 ; regret_mix=0.5635565187187382 ; last_regret=0.7120421715231284\n",
      "l_star=12 ; regret_mix=0.7452758600636716 ; last_regret=1.0059124034100955\n",
      "l_star=11 ; regret_mix=0.5398893817510434 ; last_regret=0.7336830709085067\n",
      "l_star=10 ; regret_mix=0.31122080230406884 ; last_regret=0.43934857912304015\n",
      "l_star=10 ; regret_mix=0.6770172775033352 ; last_regret=0.9212268110670728\n",
      "l_star=11 ; regret_mix=0.5992129939746937 ; last_regret=0.7809762333565814\n",
      "l_star=13 ; regret_mix=0.5260625217328129 ; last_regret=0.7191718726110536\n",
      "l_star=12 ; regret_mix=0.6370948669990242 ; "
     ]
    },
    {
     "name": "stderr",
     "output_type": "stream",
     "text": [
      "\u001B[32m[I 2023-05-20 11:38:54,059]\u001B[0m Trial 69 finished with value: 2.843848377051204 and parameters: {'beta_f': 0.5018935763847894, 'beta_r': 0.9640491613603295, 'lr_f': 0.6284174418576127, 'lr_r': 0.8432151922108115, 'stop_frac_r': 1, 'avg_frac_r': 2}. Best is trial 29 with value: 1.39414518947483.\u001B[0m\n"
     ]
    },
    {
     "name": "stdout",
     "output_type": "stream",
     "text": [
      "last_regret=0.8276770149192697\n",
      "l_star=9 ; regret_mix=0.4921455803354089 ; last_regret=0.6280894699808184\n",
      "l_star=10 ; regret_mix=0.6467827640371149 ; last_regret=0.7876155796461803\n",
      "l_star=8 ; regret_mix=0.5112836922377799 ; last_regret=0.6604886894633779\n",
      "l_star=8 ; regret_mix=0.5510772004617351 ; last_regret=0.6964131546550405\n",
      "l_star=8 ; regret_mix=0.7022160446530539 ; last_regret=0.9376672076816235\n",
      "l_star=12 ; regret_mix=0.7006962537397379 ; last_regret=0.8696855710027211\n",
      "l_star=10 ; regret_mix=0.6852992927315958 ; last_regret=0.8902091197721115\n",
      "l_star=13 ; regret_mix=0.6478140044593578 ; last_regret=0.8379350962681891\n",
      "l_star=11 ; regret_mix=0.5197360118523463 ; last_regret=0.6470882724596567\n",
      "l_star=10 ; regret_mix=0.6363115233595972 ; "
     ]
    },
    {
     "name": "stderr",
     "output_type": "stream",
     "text": [
      "\u001B[32m[I 2023-05-20 11:44:39,521]\u001B[0m Trial 70 finished with value: 2.398882652707762 and parameters: {'beta_f': 0.5725859797191171, 'beta_r': 0.8584322843713259, 'lr_f': 0.672777431621204, 'lr_r': 0.6295402985614633, 'stop_frac_r': 4, 'avg_frac_r': 5}. Best is trial 29 with value: 1.39414518947483.\u001B[0m\n"
     ]
    },
    {
     "name": "stdout",
     "output_type": "stream",
     "text": [
      "last_regret=0.7965014388404991\n",
      "l_star=11 ; regret_mix=0.6444873331652956 ; last_regret=0.840551200109937\n",
      "l_star=12 ; regret_mix=0.6437877469639821 ; last_regret=0.9259342049171256\n",
      "l_star=11 ; regret_mix=0.6236385695607537 ; last_regret=0.8694865650823862\n",
      "l_star=13 ; regret_mix=0.6058874789518358 ; last_regret=0.8222141530035632\n",
      "l_star=12 ; regret_mix=0.5693269052490502 ; last_regret=0.749597115362807\n",
      "l_star=11 ; regret_mix=0.6704178089036684 ; last_regret=0.9596733206250607\n",
      "l_star=13 ; regret_mix=0.7033889361552025 ; last_regret=0.8422246942018339\n",
      "l_star=9 ; regret_mix=0.5184739216113424 ; last_regret=0.675435490986464\n",
      "l_star=10 ; regret_mix=0.6900647672027371 ; last_regret=0.9488097398339653\n",
      "l_star=13 ; regret_mix=0.7254276135519018 ; "
     ]
    },
    {
     "name": "stderr",
     "output_type": "stream",
     "text": [
      "\u001B[32m[I 2023-05-20 11:50:28,796]\u001B[0m Trial 71 finished with value: 2.880940832571319 and parameters: {'beta_f': 0.5551703236620881, 'beta_r': 0.9419816427476811, 'lr_f': 0.5857926194217377, 'lr_r': 0.703631722707485, 'stop_frac_r': 1, 'avg_frac_r': 1}. Best is trial 29 with value: 1.39414518947483.\u001B[0m\n"
     ]
    },
    {
     "name": "stdout",
     "output_type": "stream",
     "text": [
      "last_regret=0.9016499158753519\n",
      "l_star=11 ; regret_mix=0.6872487500001766 ; last_regret=0.800808798403582\n",
      "l_star=12 ; regret_mix=0.4870306090272948 ; last_regret=0.5512103391618158\n",
      "l_star=11 ; regret_mix=0.6585154750209009 ; last_regret=0.7647088455921\n",
      "l_star=10 ; regret_mix=0.49238835483386795 ; last_regret=0.5554770793103063\n",
      "l_star=9 ; regret_mix=0.5816363307333546 ; last_regret=0.710607316461074\n",
      "l_star=10 ; regret_mix=0.6612239156798604 ; last_regret=0.762197438447255\n",
      "l_star=12 ; regret_mix=0.6156431417392157 ; last_regret=0.6860739606708947\n",
      "l_star=9 ; regret_mix=0.6119124109009046 ; last_regret=0.7248846992388239\n",
      "l_star=9 ; regret_mix=0.5610680850828031 ; last_regret=0.653311616066029\n",
      "l_star=12 ; regret_mix=0.6910421136854371 ; "
     ]
    },
    {
     "name": "stderr",
     "output_type": "stream",
     "text": [
      "\u001B[32m[I 2023-05-20 11:56:16,079]\u001B[0m Trial 72 finished with value: 1.44525383595437 and parameters: {'beta_f': 0.5306732743809054, 'beta_r': 0.9540517638803059, 'lr_f': 0.6163799401260308, 'lr_r': 0.7249247734659816, 'stop_frac_r': 2, 'avg_frac_r': 3}. Best is trial 29 with value: 1.39414518947483.\u001B[0m\n"
     ]
    },
    {
     "name": "stdout",
     "output_type": "stream",
     "text": [
      "last_regret=0.7839391429890348\n",
      "l_star=10 ; regret_mix=0.47338032836408106 ; last_regret=0.5663881490976236\n",
      "l_star=11 ; regret_mix=0.6028003584625061 ; last_regret=0.6814413169233555\n",
      "l_star=12 ; regret_mix=0.6337949358282358 ; last_regret=0.7255762359241434\n",
      "l_star=12 ; regret_mix=0.5653131673734748 ; last_regret=0.6607728168028203\n",
      "l_star=10 ; regret_mix=0.6671940277808116 ; last_regret=0.791174163316787\n",
      "l_star=11 ; regret_mix=0.6013016946002477 ; last_regret=0.6843675042617918\n",
      "l_star=11 ; regret_mix=0.6935723058902249 ; last_regret=0.7866989798353468\n",
      "l_star=9 ; regret_mix=0.5945363599535193 ; last_regret=0.7208518813050401\n",
      "l_star=11 ; regret_mix=0.6889101179163454 ; last_regret=0.7878686599067317\n",
      "l_star=10 ; regret_mix=0.5308717136559103 ; "
     ]
    },
    {
     "name": "stderr",
     "output_type": "stream",
     "text": [
      "\u001B[32m[I 2023-05-20 12:02:01,722]\u001B[0m Trial 73 finished with value: 1.5124285784097649 and parameters: {'beta_f': 0.5177795450339814, 'beta_r': 0.9570808300979293, 'lr_f': 0.5677294133412709, 'lr_r': 0.7497652125461514, 'stop_frac_r': 2, 'avg_frac_r': 3}. Best is trial 29 with value: 1.39414518947483.\u001B[0m\n"
     ]
    },
    {
     "name": "stdout",
     "output_type": "stream",
     "text": [
      "last_regret=0.6270181136358377\n",
      "l_star=12 ; regret_mix=0.681956612887548 ; last_regret=0.7789154316602964\n",
      "l_star=11 ; regret_mix=0.6795265232973483 ; last_regret=0.8437376321859423\n",
      "l_star=11 ; regret_mix=0.7242636546441749 ; last_regret=0.8329156780324667\n",
      "l_star=11 ; regret_mix=0.6828066002329016 ; last_regret=0.7809419948536515\n",
      "l_star=10 ; regret_mix=0.6158695669624712 ; last_regret=0.7319662327741272\n",
      "l_star=8 ; regret_mix=0.4468203236085125 ; last_regret=0.551095487316377\n",
      "l_star=10 ; regret_mix=0.5867605295310939 ; last_regret=0.693479224195169\n",
      "l_star=11 ; regret_mix=0.6111936561739656 ; last_regret=0.7151016814760291\n",
      "l_star=10 ; regret_mix=0.6038476610836895 ; last_regret=0.7092909687261978\n",
      "l_star=11 ; regret_mix=0.6289378831849767 ; "
     ]
    },
    {
     "name": "stderr",
     "output_type": "stream",
     "text": [
      "\u001B[32m[I 2023-05-20 12:07:49,141]\u001B[0m Trial 74 finished with value: 1.667663433770635 and parameters: {'beta_f': 0.518346107198117, 'beta_r': 0.9251356094060852, 'lr_f': 0.5590193000566246, 'lr_r': 0.6634926779503205, 'stop_frac_r': 2, 'avg_frac_r': 3}. Best is trial 29 with value: 1.39414518947483.\u001B[0m\n"
     ]
    },
    {
     "name": "stdout",
     "output_type": "stream",
     "text": [
      "last_regret=0.7504987877947836\n",
      "l_star=10 ; regret_mix=0.5056305563036387 ; last_regret=0.580175619248974\n",
      "l_star=11 ; regret_mix=0.5957095135023552 ; last_regret=0.6865060125197922\n",
      "l_star=10 ; regret_mix=0.6086904578205184 ; last_regret=0.7114905089445352\n",
      "l_star=11 ; regret_mix=0.5435972344509434 ; last_regret=0.6389474648292857\n",
      "l_star=12 ; regret_mix=0.6883870224686932 ; last_regret=0.779405542562806\n",
      "l_star=12 ; regret_mix=0.5423078954061488 ; last_regret=0.6083037395008926\n",
      "l_star=11 ; regret_mix=0.709917196816306 ; last_regret=0.8028005852636341\n",
      "l_star=12 ; regret_mix=0.6953212327766333 ; last_regret=0.792397965495151\n",
      "l_star=12 ; regret_mix=0.636911454256289 ; last_regret=0.7278527671542625\n",
      "l_star=14 ; regret_mix=0.7415888582998813 ; "
     ]
    },
    {
     "name": "stderr",
     "output_type": "stream",
     "text": [
      "\u001B[32m[I 2023-05-20 12:13:35,276]\u001B[0m Trial 75 finished with value: 1.3549502526742248 and parameters: {'beta_f': 0.5291698648657394, 'beta_r': 0.9589750940053313, 'lr_f': 0.6157986283228649, 'lr_r': 0.7549883585001104, 'stop_frac_r': 2, 'avg_frac_r': 3}. Best is trial 75 with value: 1.3549502526742248.\u001B[0m\n"
     ]
    },
    {
     "name": "stdout",
     "output_type": "stream",
     "text": [
      "last_regret=0.846031269267041\n",
      "l_star=10 ; regret_mix=0.7497785097029873 ; last_regret=0.9783837118932925\n",
      "l_star=12 ; regret_mix=0.649388816288617 ; last_regret=0.7857049159841992\n",
      "l_star=10 ; regret_mix=0.6159677759252571 ; last_regret=0.7306567766068275\n",
      "l_star=11 ; regret_mix=0.5200407961876425 ; last_regret=0.6124863969182571\n",
      "l_star=11 ; regret_mix=0.633772930381353 ; last_regret=0.7879073603451962\n",
      "l_star=10 ; regret_mix=0.654707990310029 ; last_regret=0.7845427066424039\n",
      "l_star=12 ; regret_mix=0.7307199207371008 ; last_regret=1.0233413929421902\n",
      "l_star=9 ; regret_mix=0.7201973212608603 ; last_regret=0.9229085065308051\n",
      "l_star=11 ; regret_mix=0.686805308546343 ; last_regret=0.9176546996254883\n",
      "l_star=8 ; regret_mix=0.5078502204835462 ; "
     ]
    },
    {
     "name": "stderr",
     "output_type": "stream",
     "text": [
      "\u001B[32m[I 2023-05-20 12:19:17,898]\u001B[0m Trial 76 finished with value: 2.3726960278577587 and parameters: {'beta_f': 0.5361275222201896, 'beta_r': 0.9133722343606652, 'lr_f': 0.6176602927885426, 'lr_r': 0.7095743904946086, 'stop_frac_r': 3, 'avg_frac_r': 4}. Best is trial 75 with value: 1.3549502526742248.\u001B[0m\n"
     ]
    },
    {
     "name": "stdout",
     "output_type": "stream",
     "text": [
      "last_regret=0.6913632309891179\n",
      "l_star=11 ; regret_mix=0.6505850328174848 ; last_regret=0.8457984066175714\n",
      "l_star=10 ; regret_mix=0.4822258659332432 ; last_regret=0.6231120554309992\n",
      "l_star=11 ; regret_mix=0.362787418153724 ; last_regret=0.47130469759047233\n",
      "l_star=10 ; regret_mix=0.5606956911268639 ; last_regret=0.8192557173410451\n",
      "l_star=13 ; regret_mix=0.6445068152779674 ; last_regret=0.8174424797705805\n",
      "l_star=11 ; regret_mix=0.568545241136618 ; last_regret=0.7231722064798914\n",
      "l_star=11 ; regret_mix=0.5772428830865832 ; last_regret=0.7872468901510487\n",
      "l_star=11 ; regret_mix=0.616753869913361 ; last_regret=0.8112845498236634\n",
      "l_star=10 ; regret_mix=0.5596429014611753 ; last_regret=0.803397279769557\n",
      "l_star=10 ; regret_mix=0.6493535167640615 ; "
     ]
    },
    {
     "name": "stderr",
     "output_type": "stream",
     "text": [
      "\u001B[32m[I 2023-05-20 12:25:03,796]\u001B[0m Trial 77 finished with value: 2.9070340280073763 and parameters: {'beta_f': 0.5006534641560784, 'beta_r': 0.9739907435714709, 'lr_f': 0.6478526144908185, 'lr_r': 0.7731209512215048, 'stop_frac_r': 1, 'avg_frac_r': 2}. Best is trial 75 with value: 1.3549502526742248.\u001B[0m\n"
     ]
    },
    {
     "name": "stdout",
     "output_type": "stream",
     "text": [
      "last_regret=0.8970782775782943\n",
      "l_star=11 ; regret_mix=0.6556176137838461 ; last_regret=0.8004641920146474\n",
      "l_star=12 ; regret_mix=0.6746008277256393 ; last_regret=0.7671962395933404\n",
      "l_star=11 ; regret_mix=0.6654661232132636 ; last_regret=0.7775720796504124\n",
      "l_star=9 ; regret_mix=0.612339926726266 ; last_regret=0.7420272542955029\n",
      "l_star=11 ; regret_mix=0.5480898011986259 ; last_regret=0.648805024490014\n",
      "l_star=12 ; regret_mix=0.6743523252489309 ; last_regret=0.7721699778112131\n",
      "l_star=11 ; regret_mix=0.7027173177160367 ; last_regret=0.7947673592817908\n",
      "l_star=11 ; regret_mix=0.5338951886354932 ; last_regret=0.6241133261483948\n",
      "l_star=13 ; regret_mix=0.6582321714081111 ; last_regret=0.7311363749723478\n",
      "l_star=8 ; regret_mix=0.46206658337130097 ; "
     ]
    },
    {
     "name": "stderr",
     "output_type": "stream",
     "text": [
      "\u001B[32m[I 2023-05-20 12:30:49,940]\u001B[0m Trial 78 finished with value: 1.5524173821407206 and parameters: {'beta_f': 0.5782705832240351, 'beta_r': 0.9282406976452475, 'lr_f': 0.5972462835311637, 'lr_r': 0.6834634212313967, 'stop_frac_r': 2, 'avg_frac_r': 3}. Best is trial 75 with value: 1.3549502526742248.\u001B[0m\n"
     ]
    },
    {
     "name": "stdout",
     "output_type": "stream",
     "text": [
      "last_regret=0.5576264292949034\n",
      "l_star=10 ; regret_mix=0.6685273540527129 ; last_regret=0.7736651463986493\n",
      "l_star=11 ; regret_mix=0.6078281594957524 ; last_regret=0.7057577604047046\n",
      "l_star=10 ; regret_mix=0.44110077772042017 ; last_regret=0.5021691394133904\n",
      "l_star=12 ; regret_mix=0.5343260803175299 ; last_regret=0.5986659275403933\n",
      "l_star=12 ; regret_mix=0.6134705683709878 ; last_regret=0.6930815786559645\n",
      "l_star=11 ; regret_mix=0.5634123324125581 ; last_regret=0.6434774211519622\n",
      "l_star=11 ; regret_mix=0.5919153136206358 ; last_regret=0.6818128193120782\n",
      "l_star=13 ; regret_mix=0.6025457334150449 ; last_regret=0.6702583451380526\n",
      "l_star=11 ; regret_mix=0.6671355562635883 ; last_regret=0.7631364345610089\n",
      "l_star=11 ; regret_mix=0.6359586057190252 ; "
     ]
    },
    {
     "name": "stderr",
     "output_type": "stream",
     "text": [
      "\u001B[32m[I 2023-05-20 12:36:34,768]\u001B[0m Trial 79 finished with value: 1.320090047988622 and parameters: {'beta_f': 0.5304160460501078, 'beta_r': 0.9502282698379835, 'lr_f': 0.6997540081469851, 'lr_r': 0.890701911653171, 'stop_frac_r': 2, 'avg_frac_r': 3}. Best is trial 79 with value: 1.320090047988622.\u001B[0m\n"
     ]
    },
    {
     "name": "stdout",
     "output_type": "stream",
     "text": [
      "last_regret=0.7345039249975897\n",
      "l_star=12 ; regret_mix=0.6717795947629035 ; last_regret=0.8208921236388644\n",
      "l_star=11 ; regret_mix=0.7060853759586233 ; last_regret=1.0196274589583014\n",
      "l_star=11 ; regret_mix=0.7505031868798487 ; last_regret=0.8952379865383235\n",
      "l_star=10 ; regret_mix=0.6214317238406237 ; last_regret=0.811562303812803\n",
      "l_star=12 ; regret_mix=0.43220526280229027 ; last_regret=0.5030550147818451\n",
      "l_star=14 ; regret_mix=0.5962779277387666 ; last_regret=0.7317342627457698\n",
      "l_star=11 ; regret_mix=0.57107639884185 ; last_regret=0.6954392429155479\n",
      "l_star=11 ; regret_mix=0.6066821379087443 ; last_regret=0.7618693917480066\n",
      "l_star=13 ; regret_mix=0.6262670821302356 ; last_regret=0.7272193838445741\n",
      "l_star=10 ; regret_mix=0.6502848213960097 ; "
     ]
    },
    {
     "name": "stderr",
     "output_type": "stream",
     "text": [
      "\u001B[32m[I 2023-05-20 12:42:15,512]\u001B[0m Trial 80 finished with value: 2.2180226170815627 and parameters: {'beta_f': 0.5568296767817141, 'beta_r': 0.945868641857362, 'lr_f': 0.697127992047615, 'lr_r': 0.8934351276086582, 'stop_frac_r': 3, 'avg_frac_r': 4}. Best is trial 79 with value: 1.320090047988622.\u001B[0m\n"
     ]
    },
    {
     "name": "stdout",
     "output_type": "stream",
     "text": [
      "last_regret=0.8570385488675845\n",
      "l_star=10 ; regret_mix=0.5392597003923288 ; last_regret=0.7469681774966422\n",
      "l_star=10 ; regret_mix=0.49512578866400386 ; last_regret=0.6464747884346794\n",
      "l_star=14 ; regret_mix=0.46545862283294576 ; last_regret=0.5564411093598841\n",
      "l_star=10 ; regret_mix=0.6563908751801888 ; last_regret=0.886453466551513\n",
      "l_star=12 ; regret_mix=0.6553545935821169 ; last_regret=0.8148704805528497\n",
      "l_star=12 ; regret_mix=0.6988124093457945 ; last_regret=0.897348449441149\n",
      "l_star=15 ; regret_mix=0.689763165026335 ; last_regret=0.8542003902560367\n",
      "l_star=10 ; regret_mix=0.5484435742966736 ; last_regret=0.7305818833338719\n",
      "l_star=12 ; regret_mix=0.515707802507237 ; last_regret=0.6461353119059645\n",
      "l_star=11 ; regret_mix=0.5966970684365741 ; "
     ]
    },
    {
     "name": "stderr",
     "output_type": "stream",
     "text": [
      "\u001B[32m[I 2023-05-20 12:48:04,897]\u001B[0m Trial 81 finished with value: 2.5336743846733847 and parameters: {'beta_f': 0.6198508905782332, 'beta_r': 0.9030716352619769, 'lr_f': 0.5162579060940806, 'lr_r': 0.8244256155419377, 'stop_frac_r': 1, 'avg_frac_r': 2}. Best is trial 79 with value: 1.320090047988622.\u001B[0m\n"
     ]
    },
    {
     "name": "stdout",
     "output_type": "stream",
     "text": [
      "last_regret=0.7802140386018799\n",
      "l_star=10 ; regret_mix=0.4083012928006729 ; last_regret=0.4903940771930652\n",
      "l_star=14 ; regret_mix=0.7490784977808967 ; last_regret=0.8365139111984217\n",
      "l_star=11 ; regret_mix=0.6998369021610676 ; last_regret=0.8217124418099256\n",
      "l_star=11 ; regret_mix=0.7892021872972651 ; last_regret=0.917395496829188\n",
      "l_star=11 ; regret_mix=0.40367346988821595 ; last_regret=0.47901791159538604\n",
      "l_star=9 ; regret_mix=0.6353494212589015 ; last_regret=0.7609820752203074\n",
      "l_star=12 ; regret_mix=0.6175507299268326 ; last_regret=0.6959545461064359\n",
      "l_star=10 ; regret_mix=0.66797812709639 ; last_regret=0.7654922623718836\n",
      "l_star=12 ; regret_mix=0.5408049913256104 ; last_regret=0.6063758005826198\n",
      "l_star=10 ; regret_mix=0.6767872562984885 ; "
     ]
    },
    {
     "name": "stderr",
     "output_type": "stream",
     "text": [
      "\u001B[32m[I 2023-05-20 12:53:54,796]\u001B[0m Trial 82 finished with value: 1.4739549677306054 and parameters: {'beta_f': 0.5296987392946535, 'beta_r': 0.9610883379315203, 'lr_f': 0.6812474179808384, 'lr_r': 0.7234534879731509, 'stop_frac_r': 2, 'avg_frac_r': 3}. Best is trial 79 with value: 1.320090047988622.\u001B[0m\n"
     ]
    },
    {
     "name": "stdout",
     "output_type": "stream",
     "text": [
      "last_regret=0.7843496953727299\n",
      "l_star=11 ; regret_mix=0.6746894337556784 ; last_regret=0.7672828841595277\n",
      "l_star=8 ; regret_mix=0.40231862375997196 ; last_regret=0.46905566448912317\n",
      "l_star=10 ; regret_mix=0.5916413484065675 ; last_regret=0.6752533710568352\n",
      "l_star=12 ; regret_mix=0.6538260639664909 ; last_regret=0.7338461272647809\n",
      "l_star=12 ; regret_mix=0.6678142821782568 ; last_regret=0.7745821693176274\n",
      "l_star=12 ; regret_mix=0.7362605406455891 ; last_regret=0.834362901286797\n",
      "l_star=9 ; regret_mix=0.5008653674314864 ; last_regret=0.58203242917827\n",
      "l_star=10 ; regret_mix=0.6771260366316725 ; last_regret=0.7777730795492497\n",
      "l_star=13 ; regret_mix=0.7333950604883831 ; last_regret=0.8404128925156004\n",
      "l_star=9 ; regret_mix=0.6996101987567899 ; "
     ]
    },
    {
     "name": "stderr",
     "output_type": "stream",
     "text": [
      "\u001B[32m[I 2023-05-20 12:59:43,244]\u001B[0m Trial 83 finished with value: 1.3832716000426835 and parameters: {'beta_f': 0.5278993556314225, 'beta_r': 0.9611146251437254, 'lr_f': 0.634044638896005, 'lr_r': 0.7951297772568247, 'stop_frac_r': 2, 'avg_frac_r': 3}. Best is trial 79 with value: 1.320090047988622.\u001B[0m\n"
     ]
    },
    {
     "name": "stdout",
     "output_type": "stream",
     "text": [
      "last_regret=0.8170467992631134\n",
      "l_star=11 ; regret_mix=0.4903750746634048 ; last_regret=0.5605107997051569\n",
      "l_star=11 ; regret_mix=0.5214442950496595 ; last_regret=0.6031949240555214\n",
      "l_star=9 ; regret_mix=0.5226708706622755 ; last_regret=0.6126643249833161\n",
      "l_star=9 ; regret_mix=0.568995582503074 ; last_regret=0.6795843202875325\n",
      "l_star=10 ; regret_mix=0.5867504059733163 ; last_regret=0.6699191924809808\n",
      "l_star=10 ; regret_mix=0.5984121765190861 ; last_regret=0.7227629974704141\n",
      "l_star=13 ; regret_mix=0.6118087654357954 ; last_regret=0.6908320740558982\n",
      "l_star=12 ; regret_mix=0.6432903903221724 ; last_regret=0.7292580183459586\n",
      "l_star=9 ; regret_mix=0.5320622816383674 ; last_regret=0.6446385997203967\n",
      "l_star=11 ; regret_mix=0.5735086809480036 ; "
     ]
    },
    {
     "name": "stderr",
     "output_type": "stream",
     "text": [
      "\u001B[32m[I 2023-05-20 13:05:30,848]\u001B[0m Trial 84 finished with value: 1.500071887994124 and parameters: {'beta_f': 0.5262085937125747, 'beta_r': 0.9582361997940958, 'lr_f': 0.5983690002683134, 'lr_r': 0.8519719957177281, 'stop_frac_r': 2, 'avg_frac_r': 3}. Best is trial 79 with value: 1.320090047988622.\u001B[0m\n"
     ]
    },
    {
     "name": "stdout",
     "output_type": "stream",
     "text": [
      "last_regret=0.6492762873810922\n",
      "l_star=8 ; regret_mix=0.48425426329398286 ; last_regret=0.56695716287606\n",
      "l_star=12 ; regret_mix=0.6836837028459317 ; last_regret=0.7773906664754469\n",
      "l_star=10 ; regret_mix=0.3829441900427609 ; last_regret=0.4577429550425953\n",
      "l_star=11 ; regret_mix=0.6363973047335533 ; last_regret=0.726008419731861\n",
      "l_star=12 ; regret_mix=0.6293697126243317 ; last_regret=0.718757585783524\n",
      "l_star=11 ; regret_mix=0.5742132216994078 ; last_regret=0.6597666376161515\n",
      "l_star=12 ; regret_mix=0.7164895601294985 ; last_regret=0.8054844393317081\n",
      "l_star=13 ; regret_mix=0.7619747546153179 ; last_regret=0.8636311170526549\n",
      "l_star=13 ; regret_mix=0.6097530386456129 ; last_regret=0.6972379349686424\n",
      "l_star=12 ; regret_mix=0.6658172438897757 ; "
     ]
    },
    {
     "name": "stderr",
     "output_type": "stream",
     "text": [
      "\u001B[32m[I 2023-05-20 13:11:20,157]\u001B[0m Trial 85 finished with value: 1.3823991146884427 and parameters: {'beta_f': 0.5424461130333745, 'beta_r': 0.9729399502817787, 'lr_f': 0.7167766095684212, 'lr_r': 0.8845253495068309, 'stop_frac_r': 2, 'avg_frac_r': 3}. Best is trial 79 with value: 1.320090047988622.\u001B[0m\n"
     ]
    },
    {
     "name": "stdout",
     "output_type": "stream",
     "text": [
      "last_regret=0.7643762096124617\n",
      "l_star=11 ; regret_mix=0.5285115594468748 ; last_regret=0.6132831351805381\n",
      "l_star=13 ; regret_mix=0.6867957201892333 ; last_regret=0.8092735097452016\n",
      "l_star=11 ; regret_mix=0.5602105110477291 ; last_regret=0.6572236879414124\n",
      "l_star=11 ; regret_mix=0.4349384803805351 ; last_regret=0.48721840688250856\n",
      "l_star=11 ; regret_mix=0.4751294960762371 ; last_regret=0.5599240443440812\n",
      "l_star=11 ; regret_mix=0.6497887404847708 ; last_regret=0.789525943501282\n",
      "l_star=11 ; regret_mix=0.4197011810817842 ; last_regret=0.492175128866283\n",
      "l_star=9 ; regret_mix=0.7036317615892044 ; last_regret=0.8345651252526274\n",
      "l_star=11 ; regret_mix=0.4571058876332568 ; last_regret=0.531567163674268\n",
      "l_star=9 ; regret_mix=0.6190563389705557 ; "
     ]
    },
    {
     "name": "stderr",
     "output_type": "stream",
     "text": [
      "\u001B[32m[I 2023-05-20 13:17:04,545]\u001B[0m Trial 86 finished with value: 1.6161782398276727 and parameters: {'beta_f': 0.5695960448973472, 'beta_r': 0.9794231065170169, 'lr_f': 0.7350622494943173, 'lr_r': 0.8939469643045223, 'stop_frac_r': 3, 'avg_frac_r': 7}. Best is trial 79 with value: 1.320090047988622.\u001B[0m\n"
     ]
    },
    {
     "name": "stdout",
     "output_type": "stream",
     "text": [
      "last_regret=0.748769992906929\n",
      "l_star=10 ; regret_mix=0.7101721759646129 ; last_regret=0.9290726842992154\n",
      "l_star=11 ; regret_mix=0.7228408957513647 ; last_regret=0.9072140260552158\n",
      "l_star=8 ; regret_mix=0.6436035390906617 ; last_regret=0.9649502829775948\n",
      "l_star=11 ; regret_mix=0.5555925732798481 ; last_regret=0.7702810526681835\n",
      "l_star=10 ; regret_mix=0.6042698104590313 ; last_regret=0.7847629602052052\n",
      "l_star=12 ; regret_mix=0.6028472184069376 ; last_regret=0.7645719125637105\n",
      "l_star=11 ; regret_mix=0.6652575675567008 ; last_regret=0.8786335503852654\n",
      "l_star=11 ; regret_mix=0.6161817568403465 ; last_regret=0.8229771779889479\n",
      "l_star=11 ; regret_mix=0.5873719875550734 ; last_regret=0.7995681321692014\n",
      "l_star=10 ; regret_mix=0.6406227192563256 ; "
     ]
    },
    {
     "name": "stderr",
     "output_type": "stream",
     "text": [
      "\u001B[32m[I 2023-05-20 13:22:50,436]\u001B[0m Trial 87 finished with value: 2.8758225045988772 and parameters: {'beta_f': 0.5445872853131137, 'beta_r': 0.9777862396862385, 'lr_f': 0.6407252047011132, 'lr_r': 0.8647320192472823, 'stop_frac_r': 1, 'avg_frac_r': 2}. Best is trial 79 with value: 1.320090047988622.\u001B[0m\n"
     ]
    },
    {
     "name": "stdout",
     "output_type": "stream",
     "text": [
      "last_regret=0.8419105774472635\n",
      "l_star=10 ; regret_mix=0.6116506375036903 ; last_regret=0.6936987980839061\n",
      "l_star=11 ; regret_mix=0.6835628211767751 ; last_regret=0.7890174837658012\n",
      "l_star=10 ; regret_mix=0.5916959371723548 ; last_regret=0.6819091133424247\n",
      "l_star=10 ; regret_mix=0.690647836517522 ; last_regret=0.7890654522762737\n",
      "l_star=11 ; regret_mix=0.6359671744748879 ; last_regret=0.7129954490216996\n",
      "l_star=11 ; regret_mix=0.49545954577846113 ; last_regret=0.5685019650380255\n",
      "l_star=10 ; regret_mix=0.7308845302089922 ; last_regret=0.8641721336079935\n",
      "l_star=11 ; regret_mix=0.649714173373896 ; last_regret=0.7675578817652965\n",
      "l_star=11 ; regret_mix=0.5158475235689417 ; last_regret=0.5674770184391077\n",
      "l_star=11 ; regret_mix=0.5983084869254189 ; "
     ]
    },
    {
     "name": "stderr",
     "output_type": "stream",
     "text": [
      "\u001B[32m[I 2023-05-20 13:28:36,915]\u001B[0m Trial 88 finished with value: 1.3539420421236428 and parameters: {'beta_f': 0.5444044052431448, 'beta_r': 0.9476201078544989, 'lr_f': 0.6152529929563807, 'lr_r': 0.8273456001508585, 'stop_frac_r': 2, 'avg_frac_r': 3}. Best is trial 79 with value: 1.320090047988622.\u001B[0m\n"
     ]
    },
    {
     "name": "stdout",
     "output_type": "stream",
     "text": [
      "last_regret=0.6800356786030378\n",
      "l_star=9 ; regret_mix=0.4594505919801855 ; last_regret=0.5203654419353537\n",
      "l_star=12 ; regret_mix=0.7922070914435885 ; last_regret=0.895569077993649\n",
      "l_star=7 ; regret_mix=0.4855468862262605 ; last_regret=0.6087481469779793\n",
      "l_star=10 ; regret_mix=0.6151344701058913 ; last_regret=0.7198453623011974\n",
      "l_star=9 ; regret_mix=0.5667068822312447 ; last_regret=0.6572676375407541\n",
      "l_star=12 ; regret_mix=0.6651213398894126 ; last_regret=0.7661847449605528\n",
      "l_star=11 ; regret_mix=0.6091638611892586 ; last_regret=0.6910337135743494\n",
      "l_star=10 ; regret_mix=0.44471522206012065 ; last_regret=0.5343646365342454\n",
      "l_star=10 ; regret_mix=0.5825499833381367 ; last_regret=0.6938464131122561\n",
      "l_star=12 ; regret_mix=0.6793090995695369 ; "
     ]
    },
    {
     "name": "stderr",
     "output_type": "stream",
     "text": [
      "\u001B[32m[I 2023-05-20 13:34:22,612]\u001B[0m Trial 89 finished with value: 1.515573309557818 and parameters: {'beta_f': 0.513064746451382, 'beta_r': 0.9499083352717733, 'lr_f': 0.6550776517989215, 'lr_r': 0.8228673766909235, 'stop_frac_r': 2, 'avg_frac_r': 3}. Best is trial 79 with value: 1.320090047988622.\u001B[0m\n"
     ]
    },
    {
     "name": "stdout",
     "output_type": "stream",
     "text": [
      "last_regret=0.7589262633451613\n",
      "l_star=9 ; regret_mix=0.5127503858346498 ; last_regret=0.6035310094254122\n",
      "l_star=12 ; regret_mix=0.6797340459508903 ; last_regret=0.7773503420711849\n",
      "l_star=8 ; regret_mix=0.6191303076409254 ; last_regret=0.7625293303059052\n",
      "l_star=14 ; regret_mix=0.607352556868166 ; last_regret=0.6931096689570945\n",
      "l_star=11 ; regret_mix=0.5440920896874244 ; last_regret=0.6308645440852505\n",
      "l_star=10 ; regret_mix=0.6383684277763443 ; last_regret=0.741556402263075\n",
      "l_star=9 ; regret_mix=0.649053224090505 ; last_regret=0.7653309232316222\n",
      "l_star=9 ; regret_mix=0.4307797271958215 ; last_regret=0.5303968476593273\n",
      "l_star=11 ; regret_mix=0.7075564499983199 ; last_regret=0.8252007208467891\n",
      "l_star=11 ; regret_mix=0.5857466632304964 ; "
     ]
    },
    {
     "name": "stderr",
     "output_type": "stream",
     "text": [
      "\u001B[32m[I 2023-05-20 13:40:08,546]\u001B[0m Trial 90 finished with value: 1.5723810501690283 and parameters: {'beta_f': 0.5438475591206282, 'beta_r': 0.9661590283864218, 'lr_f': 0.7143325241003782, 'lr_r': 0.9243569818562667, 'stop_frac_r': 2, 'avg_frac_r': 3}. Best is trial 79 with value: 1.320090047988622.\u001B[0m\n"
     ]
    },
    {
     "name": "stdout",
     "output_type": "stream",
     "text": [
      "last_regret=0.6540781806373118\n",
      "l_star=12 ; regret_mix=0.6790404118929756 ; last_regret=0.9113408569978371\n",
      "l_star=11 ; regret_mix=0.6326988960006048 ; last_regret=0.8260681845428415\n",
      "l_star=10 ; regret_mix=0.6379874602178454 ; last_regret=0.8283940304006118\n",
      "l_star=11 ; regret_mix=0.45453988250424404 ; last_regret=0.5189618260588129\n",
      "l_star=10 ; regret_mix=0.5605350079940387 ; last_regret=0.7001999003322026\n",
      "l_star=12 ; regret_mix=0.513476322430983 ; last_regret=0.6314520148010946\n",
      "l_star=9 ; regret_mix=0.5462900256320428 ; last_regret=0.8151536839108446\n",
      "l_star=11 ; regret_mix=0.6667872752224576 ; last_regret=0.8395644347384337\n",
      "l_star=11 ; regret_mix=0.541461512584227 ; last_regret=0.7255563319332601\n",
      "l_star=11 ; regret_mix=0.6011409345360345 ; "
     ]
    },
    {
     "name": "stderr",
     "output_type": "stream",
     "text": [
      "\u001B[32m[I 2023-05-20 13:45:49,626]\u001B[0m Trial 91 finished with value: 2.53520884383564 and parameters: {'beta_f': 0.5964157274346376, 'beta_r': 0.9217726581490274, 'lr_f': 0.7512524355692619, 'lr_r': 0.9640451631755746, 'stop_frac_r': 9, 'avg_frac_r': 10}. Best is trial 79 with value: 1.320090047988622.\u001B[0m\n"
     ]
    },
    {
     "name": "stdout",
     "output_type": "stream",
     "text": [
      "last_regret=0.7550670280156193\n",
      "l_star=13 ; regret_mix=0.5215338987005448 ; last_regret=0.596058092361951\n",
      "l_star=9 ; regret_mix=0.7282164451520841 ; last_regret=0.8827001625316813\n",
      "l_star=10 ; regret_mix=0.5978245326160514 ; last_regret=0.7108372473742256\n",
      "l_star=9 ; regret_mix=0.5012297506268406 ; last_regret=0.6005483278012083\n",
      "l_star=11 ; regret_mix=0.5921703584871447 ; last_regret=0.7036921714580644\n",
      "l_star=10 ; regret_mix=0.5949764855802543 ; last_regret=0.7026001236693795\n",
      "l_star=13 ; regret_mix=0.6721658615858839 ; last_regret=0.7637421396415416\n",
      "l_star=12 ; regret_mix=0.6572820233560609 ; last_regret=0.7536175295291699\n",
      "l_star=9 ; regret_mix=0.4703488196407856 ; last_regret=0.5770945818645775\n",
      "l_star=8 ; regret_mix=0.6788167856681007 ; "
     ]
    },
    {
     "name": "stderr",
     "output_type": "stream",
     "text": [
      "\u001B[32m[I 2023-05-20 13:51:38,825]\u001B[0m Trial 92 finished with value: 1.722482106594914 and parameters: {'beta_f': 0.5600586418618895, 'beta_r': 0.9898204656844093, 'lr_f': 0.6071148534334281, 'lr_r': 0.7918282631420389, 'stop_frac_r': 2, 'avg_frac_r': 3}. Best is trial 79 with value: 1.320090047988622.\u001B[0m\n"
     ]
    },
    {
     "name": "stdout",
     "output_type": "stream",
     "text": [
      "last_regret=0.858439630403017\n",
      "l_star=10 ; regret_mix=0.4992635296819621 ; last_regret=0.6187819672283149\n",
      "l_star=10 ; regret_mix=0.4188290365446856 ; last_regret=0.5070915856966288\n",
      "l_star=11 ; regret_mix=0.7003513176434715 ; last_regret=0.9737231352038787\n",
      "l_star=10 ; regret_mix=0.5450925351889175 ; last_regret=0.6551992170250599\n",
      "l_star=10 ; regret_mix=0.6426758011781327 ; last_regret=0.8400060821917845\n",
      "l_star=11 ; regret_mix=0.6240560379455768 ; last_regret=0.8016922871890222\n",
      "l_star=14 ; regret_mix=0.6142040934064057 ; last_regret=0.7314281223813647\n",
      "l_star=11 ; regret_mix=0.659444682696754 ; last_regret=0.8198568258556613\n",
      "l_star=13 ; regret_mix=0.6017378020891861 ; last_regret=0.7353042281584982\n",
      "l_star=9 ; regret_mix=0.6352287989938669 ; "
     ]
    },
    {
     "name": "stderr",
     "output_type": "stream",
     "text": [
      "\u001B[32m[I 2023-05-20 13:57:21,683]\u001B[0m Trial 93 finished with value: 2.3587482257156713 and parameters: {'beta_f': 0.5824724879838249, 'beta_r': 0.936523134655025, 'lr_f': 0.5727777859341778, 'lr_r': 0.8160458410228244, 'stop_frac_r': 3, 'avg_frac_r': 4}. Best is trial 79 with value: 1.320090047988622.\u001B[0m\n"
     ]
    },
    {
     "name": "stdout",
     "output_type": "stream",
     "text": [
      "last_regret=0.8820403557375703\n",
      "l_star=10 ; regret_mix=0.6853192250838575 ; last_regret=0.7902126964814968\n",
      "l_star=12 ; regret_mix=0.5892200044410019 ; last_regret=0.6763220766284668\n",
      "l_star=11 ; regret_mix=0.7408996911042456 ; last_regret=0.8348326197374879\n",
      "l_star=11 ; regret_mix=0.6148355254300465 ; last_regret=0.7238234529757946\n",
      "l_star=11 ; regret_mix=0.5536000043230629 ; last_regret=0.6289857341643447\n",
      "l_star=11 ; regret_mix=0.7511172084911403 ; last_regret=0.8550200797945927\n",
      "l_star=10 ; regret_mix=0.5957128992974761 ; last_regret=0.6939220648347477\n",
      "l_star=11 ; regret_mix=0.6471126849799472 ; last_regret=0.7395057409504624\n",
      "l_star=12 ; regret_mix=0.673073868410948 ; last_regret=0.7637592324294771\n",
      "l_star=12 ; regret_mix=0.6033464424597611 ; "
     ]
    },
    {
     "name": "stderr",
     "output_type": "stream",
     "text": [
      "\u001B[32m[I 2023-05-20 14:03:07,053]\u001B[0m Trial 94 finished with value: 1.3699995269873861 and parameters: {'beta_f': 0.5119150305979044, 'beta_r': 0.9528146777458265, 'lr_f': 0.6235924598472887, 'lr_r': 0.8912220382264336, 'stop_frac_r': 2, 'avg_frac_r': 3}. Best is trial 79 with value: 1.320090047988622.\u001B[0m\n"
     ]
    },
    {
     "name": "stdout",
     "output_type": "stream",
     "text": [
      "last_regret=0.6922560220548784\n",
      "l_star=9 ; regret_mix=0.45519330916487755 ; last_regret=0.653239180697783\n",
      "l_star=9 ; regret_mix=0.512567084519735 ; last_regret=0.6811263499756866\n",
      "l_star=12 ; regret_mix=0.4510141922135157 ; last_regret=0.5500389339429813\n",
      "l_star=11 ; regret_mix=0.5565058303475374 ; last_regret=0.7054642121834933\n",
      "l_star=9 ; regret_mix=0.5118226685821886 ; last_regret=0.701707161130867\n",
      "l_star=11 ; regret_mix=0.6318777362984364 ; last_regret=0.839423265587254\n",
      "l_star=11 ; regret_mix=0.6195106870853188 ; last_regret=0.7992954053395854\n",
      "l_star=13 ; regret_mix=0.6356239184693354 ; last_regret=0.8557498441441883\n",
      "l_star=10 ; regret_mix=0.4576074031443604 ; last_regret=0.6166903397123622\n",
      "l_star=14 ; regret_mix=0.6116111567245619 ; "
     ]
    },
    {
     "name": "stderr",
     "output_type": "stream",
     "text": [
      "\u001B[32m[I 2023-05-20 14:08:50,666]\u001B[0m Trial 95 finished with value: 2.767347159152293 and parameters: {'beta_f': 0.5129868801298129, 'beta_r': 0.976975154385104, 'lr_f': 0.6946544093296495, 'lr_r': 0.8930759832574922, 'stop_frac_r': 1, 'avg_frac_r': 2}. Best is trial 79 with value: 1.320090047988622.\u001B[0m\n"
     ]
    },
    {
     "name": "stdout",
     "output_type": "stream",
     "text": [
      "last_regret=0.7744504371319444\n",
      "l_star=14 ; regret_mix=0.7017828299934049 ; last_regret=0.7848998387545708\n",
      "l_star=11 ; regret_mix=0.7369320949278213 ; last_regret=0.8495157867873316\n",
      "l_star=12 ; regret_mix=0.716579277658449 ; last_regret=0.8109974985348564\n",
      "l_star=11 ; regret_mix=0.595935427297954 ; last_regret=0.6866718364715676\n",
      "l_star=11 ; regret_mix=0.6655881932033881 ; last_regret=0.743851584843757\n",
      "l_star=11 ; regret_mix=0.5692176180027998 ; last_regret=0.6710151978109673\n",
      "l_star=13 ; regret_mix=0.6084979092948263 ; last_regret=0.6918730611223708\n",
      "l_star=9 ; regret_mix=0.5712089183766998 ; last_regret=0.6708762791924151\n",
      "l_star=9 ; regret_mix=0.6859779863238429 ; last_regret=0.8082204129305484\n",
      "l_star=10 ; regret_mix=0.5101393210400261 ; "
     ]
    },
    {
     "name": "stderr",
     "output_type": "stream",
     "text": [
      "\u001B[32m[I 2023-05-20 14:14:37,785]\u001B[0m Trial 96 finished with value: 1.3888142879457086 and parameters: {'beta_f': 0.5284072670974196, 'beta_r': 0.953518535409142, 'lr_f': 0.6344990313683376, 'lr_r': 0.8778292220963086, 'stop_frac_r': 2, 'avg_frac_r': 3}. Best is trial 79 with value: 1.320090047988622.\u001B[0m\n"
     ]
    },
    {
     "name": "stdout",
     "output_type": "stream",
     "text": [
      "last_regret=0.5869664341360862\n",
      "l_star=11 ; regret_mix=0.5846292833583208 ; last_regret=0.6598038294209161\n",
      "l_star=11 ; regret_mix=0.5474283021490535 ; last_regret=0.6298345473946252\n",
      "l_star=8 ; regret_mix=0.5430475567508557 ; last_regret=0.6437901101535249\n",
      "l_star=12 ; regret_mix=0.6136014494822964 ; last_regret=0.7135126875864525\n",
      "l_star=13 ; regret_mix=0.5583897654441805 ; last_regret=0.6325460695934396\n",
      "l_star=9 ; regret_mix=0.5197069863209379 ; last_regret=0.6267030472553528\n",
      "l_star=13 ; regret_mix=0.593275055250363 ; last_regret=0.6787869514964511\n",
      "l_star=12 ; regret_mix=0.6604310497944685 ; last_regret=0.7527650759860153\n",
      "l_star=8 ; regret_mix=0.5478120562144477 ; last_regret=0.6699548327822022\n",
      "l_star=10 ; regret_mix=0.6400339916808547 ; "
     ]
    },
    {
     "name": "stderr",
     "output_type": "stream",
     "text": [
      "\u001B[32m[I 2023-05-20 14:20:27,727]\u001B[0m Trial 97 finished with value: 1.5311657984791003 and parameters: {'beta_f': 0.5252170858328457, 'beta_r': 0.937346141530664, 'lr_f': 0.5384336148784021, 'lr_r': 0.875754414152177, 'stop_frac_r': 2, 'avg_frac_r': 3}. Best is trial 79 with value: 1.320090047988622.\u001B[0m\n"
     ]
    },
    {
     "name": "stdout",
     "output_type": "stream",
     "text": [
      "last_regret=0.7588280229244301\n",
      "l_star=10 ; regret_mix=0.5161355409196169 ; last_regret=0.6078769988887943\n",
      "l_star=10 ; regret_mix=0.7381952661805129 ; last_regret=0.9053850831163918\n",
      "l_star=9 ; regret_mix=0.5643414242043109 ; last_regret=0.6786305761160746\n",
      "l_star=11 ; regret_mix=0.664013678917269 ; last_regret=0.8046305156285694\n",
      "l_star=11 ; regret_mix=0.5828530264383369 ; last_regret=0.714580269581359\n",
      "l_star=10 ; regret_mix=0.53100501988292 ; last_regret=0.633092982490767\n",
      "l_star=10 ; regret_mix=0.7128535293783723 ; last_regret=0.8882110590449664\n",
      "l_star=13 ; regret_mix=0.6156262121356267 ; last_regret=0.6999554937996559\n",
      "l_star=13 ; regret_mix=0.5974002969929102 ; last_regret=0.6987739679638768\n",
      "l_star=10 ; regret_mix=0.6485152390089888 ; "
     ]
    },
    {
     "name": "stderr",
     "output_type": "stream",
     "text": [
      "\u001B[32m[I 2023-05-20 14:26:16,394]\u001B[0m Trial 98 finished with value: 1.8163601352934964 and parameters: {'beta_f': 0.5482391945637288, 'beta_r': 0.9678166894039175, 'lr_f': 0.6413102647078821, 'lr_r': 0.9485213656896153, 'stop_frac_r': 3, 'avg_frac_r': 4}. Best is trial 79 with value: 1.320090047988622.\u001B[0m\n"
     ]
    },
    {
     "name": "stdout",
     "output_type": "stream",
     "text": [
      "last_regret=0.7822202637510068\n",
      "l_star=12 ; regret_mix=0.6879264523251665 ; last_regret=0.9369856551897203\n",
      "l_star=10 ; regret_mix=0.6578363976083442 ; last_regret=0.8529778666140916\n",
      "l_star=13 ; regret_mix=0.6714044741464138 ; last_regret=0.842014689051479\n",
      "l_star=11 ; regret_mix=0.6673153560724773 ; last_regret=0.8387319976215806\n",
      "l_star=12 ; regret_mix=0.7313177602218293 ; last_regret=0.9404720758081022\n",
      "l_star=12 ; regret_mix=0.5911770868710378 ; last_regret=0.7274209976359434\n",
      "l_star=11 ; regret_mix=0.6718879533277673 ; last_regret=0.8557002321515104\n",
      "l_star=12 ; regret_mix=0.44689845398282174 ; last_regret=0.51507394685031\n",
      "l_star=11 ; regret_mix=0.6533216029861799 ; last_regret=0.9084270874501456\n",
      "l_star=8 ; regret_mix=0.6247551315527883 ; "
     ]
    },
    {
     "name": "stderr",
     "output_type": "stream",
     "text": [
      "\u001B[32m[I 2023-05-20 14:32:16,148]\u001B[0m Trial 99 finished with value: 2.5025708730182594 and parameters: {'beta_f': 0.5120100632972339, 'beta_r': 0.9488009549442917, 'lr_f': 0.7176118102631348, 'lr_r': 0.9103036082498064, 'stop_frac_r': 7, 'avg_frac_r': 9}. Best is trial 79 with value: 1.320090047988622.\u001B[0m\n"
     ]
    },
    {
     "name": "stdout",
     "output_type": "stream",
     "text": [
      "last_regret=0.8487262207359458\n",
      "l_star=10 ; regret_mix=0.38265763891509835 ; last_regret=0.44865019396890604\n",
      "l_star=8 ; regret_mix=0.6182993054088437 ; last_regret=0.7419469553401165\n",
      "l_star=11 ; regret_mix=0.5930223111288535 ; last_regret=0.6805549415240209\n",
      "l_star=9 ; regret_mix=0.5223419067093376 ; last_regret=0.617962302329029\n",
      "l_star=10 ; regret_mix=0.407216164634781 ; last_regret=0.4908917904955031\n",
      "l_star=11 ; regret_mix=0.6379135092943021 ; last_regret=0.7296969145431059\n",
      "l_star=10 ; regret_mix=0.5527445802317256 ; last_regret=0.6855483409394467\n",
      "l_star=11 ; regret_mix=0.6998408588041456 ; last_regret=0.8049644535053398\n",
      "l_star=12 ; regret_mix=0.4935235431706576 ; last_regret=0.568233900981517\n",
      "l_star=11 ; regret_mix=0.5837952829338974 ; "
     ]
    },
    {
     "name": "stderr",
     "output_type": "stream",
     "text": [
      "\u001B[32m[I 2023-05-20 14:38:12,350]\u001B[0m Trial 100 finished with value: 1.6046605058608958 and parameters: {'beta_f': 0.5398641636277557, 'beta_r': 0.9165172446590067, 'lr_f': 0.5799603880063192, 'lr_r': 0.8651430912902375, 'stop_frac_r': 2, 'avg_frac_r': 3}. Best is trial 79 with value: 1.320090047988622.\u001B[0m\n"
     ]
    },
    {
     "name": "stdout",
     "output_type": "stream",
     "text": [
      "last_regret=0.671480194274616\n",
      "l_star=10 ; regret_mix=0.688278938556779 ; last_regret=0.954694697080532\n",
      "l_star=11 ; regret_mix=0.6753946282728998 ; last_regret=0.9085342389809499\n",
      "l_star=9 ; regret_mix=0.6099678070775716 ; last_regret=0.867210782155037\n",
      "l_star=11 ; regret_mix=0.7065651287970024 ; last_regret=0.8870459365688443\n",
      "l_star=9 ; regret_mix=0.575029137378723 ; last_regret=0.7590648035409352\n",
      "l_star=11 ; regret_mix=0.71365220629796 ; last_regret=0.9333603228074191\n",
      "l_star=10 ; regret_mix=0.6059672083980513 ; last_regret=0.7738177056672304\n",
      "l_star=11 ; regret_mix=0.7336110599104536 ; last_regret=0.9877016627269097\n",
      "l_star=10 ; regret_mix=0.461838139269106 ; last_regret=0.6361234804803406\n",
      "l_star=12 ; regret_mix=0.5927127137125154 ; "
     ]
    },
    {
     "name": "stderr",
     "output_type": "stream",
     "text": [
      "\u001B[32m[I 2023-05-20 14:44:01,542]\u001B[0m Trial 101 finished with value: 2.814633541008258 and parameters: {'beta_f': 0.5106414533699345, 'beta_r': 0.9043694347942923, 'lr_f': 0.6805485023025277, 'lr_r': 0.844278805286514, 'stop_frac_r': 1, 'avg_frac_r': 2}. Best is trial 79 with value: 1.320090047988622.\u001B[0m\n"
     ]
    },
    {
     "name": "stdout",
     "output_type": "stream",
     "text": [
      "last_regret=0.7264000330318271\n",
      "l_star=11 ; regret_mix=0.6754843122851077 ; last_regret=0.7775792509383147\n",
      "l_star=12 ; regret_mix=0.7156684067713679 ; last_regret=0.8258684508513715\n",
      "l_star=10 ; regret_mix=0.5897693764968632 ; last_regret=0.6844938660985056\n",
      "l_star=11 ; regret_mix=0.5877066533295602 ; last_regret=0.6764984765479366\n",
      "l_star=11 ; regret_mix=0.6115073620554847 ; last_regret=0.7222110282719227\n",
      "l_star=9 ; regret_mix=0.2905560893896291 ; last_regret=0.3403572516764274\n",
      "l_star=12 ; regret_mix=0.6233436359110834 ; last_regret=0.7235762972209164\n",
      "l_star=11 ; regret_mix=0.4236726441975239 ; last_regret=0.4786186975847681\n",
      "l_star=13 ; regret_mix=0.6330455018214397 ; last_regret=0.7257934964321792\n",
      "l_star=12 ; regret_mix=0.7196443635418929 ; "
     ]
    },
    {
     "name": "stderr",
     "output_type": "stream",
     "text": [
      "\u001B[32m[I 2023-05-20 14:49:52,510]\u001B[0m Trial 102 finished with value: 1.4420748699591504 and parameters: {'beta_f': 0.528182365950975, 'beta_r': 0.9592539992986959, 'lr_f': 0.6135163216270679, 'lr_r': 0.7801166942190587, 'stop_frac_r': 2, 'avg_frac_r': 3}. Best is trial 79 with value: 1.320090047988622.\u001B[0m\n"
     ]
    },
    {
     "name": "stdout",
     "output_type": "stream",
     "text": [
      "last_regret=0.8245546887502805\n",
      "l_star=13 ; regret_mix=0.731109213080362 ; last_regret=0.8247518969496387\n",
      "l_star=14 ; regret_mix=0.7311154251848815 ; last_regret=0.8233721984326594\n",
      "l_star=8 ; regret_mix=0.48735428033237427 ; last_regret=0.5905942912850606\n",
      "l_star=10 ; regret_mix=0.4951599389750345 ; last_regret=0.582464541677433\n",
      "l_star=10 ; regret_mix=0.5796545027836622 ; last_regret=0.681663857188709\n",
      "l_star=10 ; regret_mix=0.6149689131128198 ; last_regret=0.7298050066068595\n",
      "l_star=11 ; regret_mix=0.661655506874454 ; last_regret=0.7568200677808019\n",
      "l_star=9 ; regret_mix=0.6630692786797185 ; last_regret=0.7847948586287463\n",
      "l_star=12 ; regret_mix=0.6236427076110106 ; last_regret=0.6954651095000961\n",
      "l_star=9 ; regret_mix=0.6354541778804546 ; "
     ]
    },
    {
     "name": "stderr",
     "output_type": "stream",
     "text": [
      "\u001B[32m[I 2023-05-20 14:55:44,583]\u001B[0m Trial 103 finished with value: 1.4889516199641561 and parameters: {'beta_f': 0.5595200475155756, 'beta_r': 0.9614539668382273, 'lr_f': 0.6210956181441796, 'lr_r': 0.792338195145491, 'stop_frac_r': 2, 'avg_frac_r': 3}. Best is trial 79 with value: 1.320090047988622.\u001B[0m\n"
     ]
    },
    {
     "name": "stdout",
     "output_type": "stream",
     "text": [
      "last_regret=0.7381689331262087\n",
      "l_star=11 ; regret_mix=0.7225972088730696 ; last_regret=0.8440980254798203\n",
      "l_star=12 ; regret_mix=0.6601032908652068 ; last_regret=0.7745614408848882\n",
      "l_star=10 ; regret_mix=0.6386201537404398 ; last_regret=0.7413702247139765\n",
      "l_star=11 ; regret_mix=0.6055391861301692 ; last_regret=0.700138002352882\n",
      "l_star=14 ; regret_mix=0.6002114105352501 ; last_regret=0.6859310806932122\n",
      "l_star=11 ; regret_mix=0.4259616936308332 ; last_regret=0.502696405500079\n",
      "l_star=11 ; regret_mix=0.6562260765868171 ; last_regret=0.7364369896333764\n",
      "l_star=11 ; regret_mix=0.7056032198557808 ; last_regret=0.8306791445557061\n",
      "l_star=13 ; regret_mix=0.5196051974542415 ; last_regret=0.5885785329221986\n",
      "l_star=12 ; regret_mix=0.5565736231477241 ; "
     ]
    },
    {
     "name": "stderr",
     "output_type": "stream",
     "text": [
      "\u001B[32m[I 2023-05-20 15:01:34,169]\u001B[0m Trial 104 finished with value: 1.4657175636402846 and parameters: {'beta_f': 0.5243289599589225, 'beta_r': 0.9803165704508685, 'lr_f': 0.6533009175049392, 'lr_r': 0.8338916803880841, 'stop_frac_r': 2, 'avg_frac_r': 3}. Best is trial 79 with value: 1.320090047988622.\u001B[0m\n"
     ]
    },
    {
     "name": "stdout",
     "output_type": "stream",
     "text": [
      "last_regret=0.6490884910734743\n",
      "l_star=11 ; regret_mix=0.6057532971166237 ; last_regret=0.6907194108489282\n",
      "l_star=12 ; regret_mix=0.6276096131291503 ; last_regret=0.7133154572443335\n",
      "l_star=10 ; regret_mix=0.5350608134690182 ; last_regret=0.6396925451633517\n",
      "l_star=9 ; regret_mix=0.6661797087090532 ; last_regret=0.826823603636525\n",
      "l_star=12 ; regret_mix=0.7123524777345039 ; last_regret=0.8080183067330692\n",
      "l_star=10 ; regret_mix=0.6663503521693609 ; last_regret=0.7807655751521178\n",
      "l_star=12 ; regret_mix=0.6877429990951158 ; last_regret=0.7733429927606925\n",
      "l_star=12 ; regret_mix=0.423721327938487 ; last_regret=0.5007836337484302\n",
      "l_star=10 ; regret_mix=0.3718449896513352 ; last_regret=0.4474442733243752\n",
      "l_star=13 ; regret_mix=0.6658228723002654 ; "
     ]
    },
    {
     "name": "stderr",
     "output_type": "stream",
     "text": [
      "\u001B[32m[I 2023-05-20 15:07:22,969]\u001B[0m Trial 105 finished with value: 1.5643667282937221 and parameters: {'beta_f': 0.5360616033846768, 'beta_r': 0.9377493506081976, 'lr_f': 0.5553575702813129, 'lr_r': 0.7676616928661919, 'stop_frac_r': 2, 'avg_frac_r': 3}. Best is trial 79 with value: 1.320090047988622.\u001B[0m\n"
     ]
    },
    {
     "name": "stdout",
     "output_type": "stream",
     "text": [
      "last_regret=0.7786278443870562\n",
      "l_star=13 ; regret_mix=0.69940906752686 ; last_regret=0.8603381409728661\n",
      "l_star=9 ; regret_mix=0.5185846240430373 ; last_regret=0.6486919148362474\n",
      "l_star=10 ; regret_mix=0.6796705392554144 ; last_regret=0.9129911693461129\n",
      "l_star=10 ; regret_mix=0.5681262894647263 ; last_regret=0.6836079314213789\n",
      "l_star=9 ; regret_mix=0.4700934369006102 ; last_regret=0.5658518815105316\n",
      "l_star=10 ; regret_mix=0.6885018484812591 ; last_regret=0.9044127075325228\n",
      "l_star=12 ; regret_mix=0.6676450788250217 ; last_regret=0.8787685437424105\n",
      "l_star=12 ; regret_mix=0.5010637778870171 ; last_regret=0.5850871762743217\n",
      "l_star=10 ; regret_mix=0.7259064126501467 ; last_regret=0.9627851676168312\n",
      "l_star=11 ; regret_mix=0.6437529575830174 ; "
     ]
    },
    {
     "name": "stderr",
     "output_type": "stream",
     "text": [
      "\u001B[32m[I 2023-05-20 15:13:07,450]\u001B[0m Trial 106 finished with value: 2.3461743536058317 and parameters: {'beta_f': 0.5507221535534788, 'beta_r': 0.9485479079097203, 'lr_f': 0.633496950147866, 'lr_r': 0.8076500014723706, 'stop_frac_r': 3, 'avg_frac_r': 4}. Best is trial 79 with value: 1.320090047988622.\u001B[0m\n"
     ]
    },
    {
     "name": "stdout",
     "output_type": "stream",
     "text": [
      "last_regret=0.8388366675055543\n",
      "l_star=10 ; regret_mix=0.5724106036029722 ; last_regret=0.7378086457993938\n",
      "l_star=12 ; regret_mix=0.39494091753669486 ; last_regret=0.48166202295142513\n",
      "l_star=11 ; regret_mix=0.7440142016203675 ; last_regret=0.9856027693561467\n",
      "l_star=10 ; regret_mix=0.5497648558181528 ; last_regret=0.7935976389632957\n",
      "l_star=11 ; regret_mix=0.6472262619924812 ; last_regret=0.8553770480289519\n",
      "l_star=11 ; regret_mix=0.4986815727950939 ; last_regret=0.6770075636665844\n",
      "l_star=10 ; regret_mix=0.583018300034202 ; last_regret=0.7783130749039775\n",
      "l_star=10 ; regret_mix=0.5492615868952184 ; last_regret=0.7433545012991185\n",
      "l_star=8 ; regret_mix=0.4307437012162428 ; last_regret=0.578164808460866\n",
      "l_star=11 ; regret_mix=0.5786829927540694 ; "
     ]
    },
    {
     "name": "stderr",
     "output_type": "stream",
     "text": [
      "\u001B[32m[I 2023-05-20 15:18:55,300]\u001B[0m Trial 107 finished with value: 2.891797635619864 and parameters: {'beta_f': 0.5243425137101898, 'beta_r': 0.9702430181664544, 'lr_f': 0.5941087310146301, 'lr_r': 0.9122906928183521, 'stop_frac_r': 1, 'avg_frac_r': 2}. Best is trial 79 with value: 1.320090047988622.\u001B[0m\n"
     ]
    },
    {
     "name": "stdout",
     "output_type": "stream",
     "text": [
      "last_regret=0.7975332151651998\n",
      "l_star=12 ; regret_mix=0.6882798195131133 ; last_regret=0.8039761000636075\n",
      "l_star=12 ; regret_mix=0.6266215669202619 ; last_regret=0.7526915019048461\n",
      "l_star=9 ; regret_mix=0.6277625205901003 ; last_regret=0.7563810484732878\n",
      "l_star=12 ; regret_mix=0.6502153505083901 ; last_regret=0.7654203647401647\n",
      "l_star=10 ; regret_mix=0.4588541658662443 ; last_regret=0.5356458779402399\n",
      "l_star=11 ; regret_mix=0.4751080336419714 ; last_regret=0.5399853613293913\n",
      "l_star=10 ; regret_mix=0.6513431260300179 ; last_regret=0.7627240316876313\n",
      "l_star=12 ; regret_mix=0.5958461143795954 ; last_regret=0.6976971980011147\n",
      "l_star=10 ; regret_mix=0.5734942696057812 ; last_regret=0.6553551491641719\n",
      "l_star=11 ; regret_mix=0.7273193211696928 ; "
     ]
    },
    {
     "name": "stderr",
     "output_type": "stream",
     "text": [
      "\u001B[32m[I 2023-05-20 15:24:46,488]\u001B[0m Trial 108 finished with value: 1.5744636974092054 and parameters: {'beta_f': 0.5406354470989327, 'beta_r': 0.9338082969739054, 'lr_f': 0.6617103253757188, 'lr_r': 0.8523705240466511, 'stop_frac_r': 2, 'avg_frac_r': 3}. Best is trial 79 with value: 1.320090047988622.\u001B[0m\n"
     ]
    },
    {
     "name": "stdout",
     "output_type": "stream",
     "text": [
      "last_regret=0.8487844139735509\n",
      "l_star=13 ; regret_mix=0.6449161163431777 ; last_regret=0.7677132150335906\n",
      "l_star=12 ; regret_mix=0.5931025178365406 ; last_regret=0.6899194219259829\n",
      "l_star=10 ; regret_mix=0.5964970819816098 ; last_regret=0.7302297260778554\n",
      "l_star=14 ; regret_mix=0.6715629687270198 ; last_regret=0.8131447228905037\n",
      "l_star=11 ; regret_mix=0.7016848981273268 ; last_regret=0.8874258938799275\n",
      "l_star=10 ; regret_mix=0.5117640343281861 ; last_regret=0.5837488343083389\n",
      "l_star=14 ; regret_mix=0.6769651806246959 ; last_regret=0.8139037131486129\n",
      "l_star=11 ; regret_mix=0.6701370995036093 ; last_regret=0.784709306927147\n",
      "l_star=10 ; regret_mix=0.6087370633726386 ; last_regret=0.7665439235984234\n",
      "l_star=12 ; regret_mix=0.6290717947629796 ; "
     ]
    },
    {
     "name": "stderr",
     "output_type": "stream",
     "text": [
      "\u001B[32m[I 2023-05-20 15:30:48,373]\u001B[0m Trial 109 finished with value: 1.8089892299391448 and parameters: {'beta_f': 0.5100683221251454, 'beta_r': 0.9610603222138177, 'lr_f': 0.6918116490468099, 'lr_r': 0.8761989553946985, 'stop_frac_r': 3, 'avg_frac_r': 4}. Best is trial 79 with value: 1.320090047988622.\u001B[0m\n"
     ]
    },
    {
     "name": "stdout",
     "output_type": "stream",
     "text": [
      "last_regret=0.7315300977556588\n",
      "l_star=11 ; regret_mix=0.6754283528284227 ; last_regret=0.8862181093704423\n",
      "l_star=13 ; regret_mix=0.605283118618682 ; last_regret=0.7960853752430107\n",
      "l_star=13 ; regret_mix=0.5376582740826507 ; last_regret=0.670323969834038\n",
      "l_star=9 ; regret_mix=0.5241464129045305 ; last_regret=0.6861869832371096\n",
      "l_star=13 ; regret_mix=0.6097775150552653 ; last_regret=0.7723152443646295\n",
      "l_star=11 ; regret_mix=0.6330383561536156 ; last_regret=0.8531207326710578\n",
      "l_star=9 ; regret_mix=0.5433224529389071 ; last_regret=0.7066426675180111\n",
      "l_star=10 ; regret_mix=0.5244349430015848 ; last_regret=0.6819589082051125\n",
      "l_star=8 ; regret_mix=0.4986005059821061 ; last_regret=0.7360501841998145\n",
      "l_star=12 ; regret_mix=0.6945070711414908 ; "
     ]
    },
    {
     "name": "stderr",
     "output_type": "stream",
     "text": [
      "\u001B[32m[I 2023-05-20 15:36:37,559]\u001B[0m Trial 110 finished with value: 2.7806224007925264 and parameters: {'beta_f': 0.5684265484760167, 'beta_r': 0.9812680689471629, 'lr_f': 0.6266755183798867, 'lr_r': 0.7545692146180658, 'stop_frac_r': 1, 'avg_frac_r': 1}. Best is trial 79 with value: 1.320090047988622.\u001B[0m\n"
     ]
    },
    {
     "name": "stdout",
     "output_type": "stream",
     "text": [
      "last_regret=0.933228026884569\n",
      "l_star=9 ; regret_mix=0.5134997921175275 ; last_regret=0.5951457373144503\n",
      "l_star=11 ; regret_mix=0.6092647636404778 ; last_regret=0.6910338301473351\n",
      "l_star=9 ; regret_mix=0.573419677030651 ; last_regret=0.6706297159397233\n",
      "l_star=11 ; regret_mix=0.5672656313417754 ; last_regret=0.648133208120612\n",
      "l_star=10 ; regret_mix=0.6633447410844958 ; last_regret=0.7917857919166196\n",
      "l_star=11 ; regret_mix=0.5914918529981608 ; last_regret=0.6961962573719658\n",
      "l_star=12 ; regret_mix=0.5814641336168405 ; last_regret=0.6414980880595227\n",
      "l_star=11 ; regret_mix=0.6043056973465792 ; last_regret=0.6958303429181808\n",
      "l_star=9 ; regret_mix=0.6063643515998889 ; last_regret=0.7229243779345597\n",
      "l_star=10 ; regret_mix=0.5285698068992447 ; "
     ]
    },
    {
     "name": "stderr",
     "output_type": "stream",
     "text": [
      "\u001B[32m[I 2023-05-20 15:42:24,197]\u001B[0m Trial 111 finished with value: 1.4661293074417185 and parameters: {'beta_f': 0.5498450915974346, 'beta_r': 0.9222389349326868, 'lr_f': 0.5729804727814473, 'lr_r': 0.7820734876241281, 'stop_frac_r': 2, 'avg_frac_r': 3}. Best is trial 79 with value: 1.320090047988622.\u001B[0m\n"
     ]
    },
    {
     "name": "stdout",
     "output_type": "stream",
     "text": [
      "last_regret=0.6126892557294094\n",
      "l_star=8 ; regret_mix=0.5322112681279094 ; last_regret=0.6386609910233509\n",
      "l_star=10 ; regret_mix=0.6821593055321623 ; last_regret=0.8004725099743675\n",
      "l_star=10 ; regret_mix=0.5472888791803564 ; last_regret=0.663490125810851\n",
      "l_star=15 ; regret_mix=0.6940313645066616 ; last_regret=0.7820227176687313\n",
      "l_star=12 ; regret_mix=0.5242688338104513 ; last_regret=0.6043086462380238\n",
      "l_star=10 ; regret_mix=0.47440716126101 ; last_regret=0.5369757763604511\n",
      "l_star=10 ; regret_mix=0.7547791851400033 ; last_regret=0.8689483203215204\n",
      "l_star=10 ; regret_mix=0.7723390925604531 ; last_regret=0.8989534971927607\n",
      "l_star=11 ; regret_mix=0.5228007942331327 ; last_regret=0.5970622323972932\n",
      "l_star=14 ; regret_mix=0.5602765610775843 ; "
     ]
    },
    {
     "name": "stderr",
     "output_type": "stream",
     "text": [
      "\u001B[32m[I 2023-05-20 15:48:14,665]\u001B[0m Trial 112 finished with value: 1.4789308413282924 and parameters: {'beta_f': 0.5298589742142162, 'beta_r': 0.9527534871981949, 'lr_f': 0.6119581644863313, 'lr_r': 0.7299419537949158, 'stop_frac_r': 2, 'avg_frac_r': 3}. Best is trial 79 with value: 1.320090047988622.\u001B[0m\n"
     ]
    },
    {
     "name": "stdout",
     "output_type": "stream",
     "text": [
      "last_regret=0.6401681704263579\n",
      "l_star=13 ; regret_mix=0.7674672905752937 ; last_regret=0.8746630895455834\n",
      "l_star=10 ; regret_mix=0.635651282616751 ; last_regret=0.7363745016571154\n",
      "l_star=8 ; regret_mix=0.5865829063459115 ; last_regret=0.7121652429110739\n",
      "l_star=11 ; regret_mix=0.4518041243124453 ; last_regret=0.5132692716633572\n",
      "l_star=10 ; regret_mix=0.6315613537216402 ; last_regret=0.7338330839247804\n",
      "l_star=12 ; regret_mix=0.6545824377926261 ; last_regret=0.7355320782325613\n",
      "l_star=11 ; regret_mix=0.595297772611955 ; last_regret=0.7310437468448154\n",
      "l_star=12 ; regret_mix=0.6639000076166086 ; last_regret=0.7908948896774411\n",
      "l_star=12 ; regret_mix=0.7387236985495808 ; last_regret=0.8411487814722749\n",
      "l_star=11 ; regret_mix=0.7344124239546025 ; "
     ]
    },
    {
     "name": "stderr",
     "output_type": "stream",
     "text": [
      "\u001B[32m[I 2023-05-20 15:54:02,326]\u001B[0m Trial 113 finished with value: 1.518626647115068 and parameters: {'beta_f': 0.5321630789513916, 'beta_r': 0.9438863561270351, 'lr_f': 0.6620260825060982, 'lr_r': 0.8353275230981472, 'stop_frac_r': 2, 'avg_frac_r': 3}. Best is trial 79 with value: 1.320090047988622.\u001B[0m\n"
     ]
    },
    {
     "name": "stdout",
     "output_type": "stream",
     "text": [
      "last_regret=0.8466989113649467\n",
      "l_star=9 ; regret_mix=0.5073994444175336 ; last_regret=0.6216662131241117\n",
      "l_star=10 ; regret_mix=0.695309661241167 ; last_regret=0.8224264076095632\n",
      "l_star=11 ; regret_mix=0.6756805643200542 ; last_regret=0.7714354551087003\n",
      "l_star=11 ; regret_mix=0.6970736665397488 ; last_regret=0.8175951064703384\n",
      "l_star=12 ; regret_mix=0.6945337780206959 ; last_regret=0.7977839692065363\n",
      "l_star=9 ; regret_mix=0.6192152299645874 ; last_regret=0.7237813804776898\n",
      "l_star=11 ; regret_mix=0.541405140423182 ; last_regret=0.6182888139716384\n",
      "l_star=10 ; regret_mix=0.5728300624896372 ; last_regret=0.6936094569550887\n",
      "l_star=11 ; regret_mix=0.5930921251358221 ; last_regret=0.6961877245227656\n",
      "l_star=12 ; regret_mix=0.704223855434566 ; "
     ]
    },
    {
     "name": "stderr",
     "output_type": "stream",
     "text": [
      "\u001B[32m[I 2023-05-20 15:59:52,772]\u001B[0m Trial 114 finished with value: 1.5692641137789118 and parameters: {'beta_f': 0.5101941306515176, 'beta_r': 0.9567610105029509, 'lr_f': 0.5938379495961696, 'lr_r': 0.8093411424580038, 'stop_frac_r': 2, 'avg_frac_r': 3}. Best is trial 79 with value: 1.320090047988622.\u001B[0m\n"
     ]
    },
    {
     "name": "stdout",
     "output_type": "stream",
     "text": [
      "last_regret=0.7997781046929769\n",
      "l_star=10 ; regret_mix=0.6991475874618639 ; last_regret=0.8280379377468531\n",
      "l_star=12 ; regret_mix=0.5706821049228034 ; last_regret=0.6790642385620161\n",
      "l_star=13 ; regret_mix=0.6309998369770425 ; last_regret=0.7190391624550796\n",
      "l_star=10 ; regret_mix=0.7276968810077681 ; last_regret=0.8482284965202362\n",
      "l_star=11 ; regret_mix=0.7556779063722318 ; last_regret=0.8744931836861444\n",
      "l_star=11 ; regret_mix=0.4979670475865885 ; last_regret=0.5829372243642821\n",
      "l_star=8 ; regret_mix=0.6025487729298651 ; last_regret=0.7329779325581447\n",
      "l_star=12 ; regret_mix=0.6120304486554595 ; last_regret=0.7001592562034783\n",
      "l_star=10 ; regret_mix=0.6335805911527125 ; last_regret=0.7452379587564614\n",
      "l_star=10 ; regret_mix=0.6574604429682154 ; "
     ]
    },
    {
     "name": "stderr",
     "output_type": "stream",
     "text": [
      "\u001B[32m[I 2023-05-20 16:05:42,394]\u001B[0m Trial 115 finished with value: 1.569359289761123 and parameters: {'beta_f': 0.5220465262348415, 'beta_r': 0.9729065380553614, 'lr_f': 0.7133028082185354, 'lr_r': 0.7691729753783835, 'stop_frac_r': 2, 'avg_frac_r': 3}. Best is trial 79 with value: 1.320090047988622.\u001B[0m\n"
     ]
    },
    {
     "name": "stdout",
     "output_type": "stream",
     "text": [
      "last_regret=0.7608404574411656\n",
      "l_star=11 ; regret_mix=0.49126945006894923 ; last_regret=0.579290486703109\n",
      "l_star=11 ; regret_mix=0.6943193335374478 ; last_regret=0.8056808119550097\n",
      "l_star=12 ; regret_mix=0.6437091799365019 ; last_regret=0.7316207048134673\n",
      "l_star=9 ; regret_mix=0.6057403086218437 ; last_regret=0.6955481623079189\n",
      "l_star=10 ; regret_mix=0.6616402326825379 ; last_regret=0.7511103789857668\n",
      "l_star=14 ; regret_mix=0.6638892774074278 ; last_regret=0.7409197764899526\n",
      "l_star=9 ; regret_mix=0.5883201190038884 ; last_regret=0.7231102586035721\n",
      "l_star=10 ; regret_mix=0.6821544875764018 ; last_regret=0.7825364292853576\n",
      "l_star=12 ; regret_mix=0.7595675232418236 ; last_regret=0.8749532902619029\n",
      "l_star=9 ; regret_mix=0.4819783638501404 ; "
     ]
    },
    {
     "name": "stderr",
     "output_type": "stream",
     "text": [
      "\u001B[32m[I 2023-05-20 16:11:30,129]\u001B[0m Trial 116 finished with value: 1.440112122479893 and parameters: {'beta_f': 0.5755213810306488, 'beta_r': 0.9302984323579588, 'lr_f': 0.6163481396402154, 'lr_r': 0.9454417592619139, 'stop_frac_r': 2, 'avg_frac_r': 3}. Best is trial 79 with value: 1.320090047988622.\u001B[0m\n"
     ]
    },
    {
     "name": "stdout",
     "output_type": "stream",
     "text": [
      "last_regret=0.5536742870288638\n",
      "l_star=12 ; regret_mix=0.652602318562958 ; last_regret=0.8182361078835042\n",
      "l_star=9 ; regret_mix=0.5021388265815342 ; last_regret=0.6292662422558808\n",
      "l_star=11 ; regret_mix=0.7259904680430888 ; last_regret=0.920192452792585\n",
      "l_star=11 ; regret_mix=0.39332784988470426 ; last_regret=0.46148566816967274\n",
      "l_star=10 ; regret_mix=0.5292790737303488 ; last_regret=0.6696979101691888\n",
      "l_star=11 ; regret_mix=0.7145519203739077 ; last_regret=1.0319939145128931\n",
      "l_star=10 ; regret_mix=0.5212794762686845 ; last_regret=0.6938231608376694\n",
      "l_star=11 ; regret_mix=0.5456710860589166 ; last_regret=0.7027339753895258\n",
      "l_star=10 ; regret_mix=0.6242596599901062 ; last_regret=0.7850311979323444\n",
      "l_star=10 ; regret_mix=0.732191148807533 ; "
     ]
    },
    {
     "name": "stderr",
     "output_type": "stream",
     "text": [
      "\u001B[32m[I 2023-05-20 16:17:15,393]\u001B[0m Trial 117 finished with value: 2.4310615095952617 and parameters: {'beta_f': 0.5758806219660146, 'beta_r': 0.9258124561904321, 'lr_f': 0.6813626983497135, 'lr_r': 0.9510713871253715, 'stop_frac_r': 3, 'avg_frac_r': 4}. Best is trial 79 with value: 1.320090047988622.\u001B[0m\n"
     ]
    },
    {
     "name": "stdout",
     "output_type": "stream",
     "text": [
      "last_regret=0.9045482951509248\n",
      "l_star=12 ; regret_mix=0.618681458275572 ; last_regret=0.7113361281136009\n",
      "l_star=11 ; regret_mix=0.6775546997979218 ; last_regret=0.7840725471254478\n",
      "l_star=13 ; regret_mix=0.5309728737738321 ; last_regret=0.5910191925024283\n",
      "l_star=13 ; regret_mix=0.667660975099679 ; last_regret=0.7565451799504274\n",
      "l_star=11 ; regret_mix=0.6372635027127426 ; last_regret=0.7233452271103453\n",
      "l_star=12 ; regret_mix=0.7174108530045272 ; last_regret=0.8160658446299851\n",
      "l_star=13 ; regret_mix=0.5314633615764109 ; last_regret=0.5920231583777008\n",
      "l_star=12 ; regret_mix=0.734531802747363 ; last_regret=0.8377709638314939\n",
      "l_star=12 ; regret_mix=0.6147940027846611 ; last_regret=0.6950189290134724\n",
      "l_star=9 ; regret_mix=0.4037633859134928 ; "
     ]
    },
    {
     "name": "stderr",
     "output_type": "stream",
     "text": [
      "\u001B[32m[I 2023-05-20 16:23:05,729]\u001B[0m Trial 118 finished with value: 1.2680356016156 and parameters: {'beta_f': 0.5622834296890139, 'beta_r': 0.9648255351828297, 'lr_f': 0.6385919737481387, 'lr_r': 0.9659899530563747, 'stop_frac_r': 2, 'avg_frac_r': 3}. Best is trial 118 with value: 1.2680356016156.\u001B[0m\n"
     ]
    },
    {
     "name": "stdout",
     "output_type": "stream",
     "text": [
      "last_regret=0.46107238452585253\n",
      "l_star=12 ; regret_mix=0.678531402127769 ; last_regret=0.8767710558849062\n",
      "l_star=9 ; regret_mix=0.5922413330809904 ; last_regret=0.7919731583550119\n",
      "l_star=10 ; regret_mix=0.5677927502567286 ; last_regret=0.7431823176471176\n",
      "l_star=9 ; regret_mix=0.6353613043992072 ; last_regret=0.9584702093462061\n",
      "l_star=13 ; regret_mix=0.6017477809651531 ; last_regret=0.7447061343916741\n",
      "l_star=11 ; regret_mix=0.6665565448838294 ; last_regret=0.8566795551689309\n",
      "l_star=15 ; regret_mix=0.7204274824688356 ; last_regret=0.9125190659570654\n",
      "l_star=10 ; regret_mix=0.6539947807009167 ; last_regret=0.8680619460714196\n",
      "l_star=11 ; regret_mix=0.6712304424900111 ; last_regret=0.8672545993091487\n",
      "l_star=13 ; regret_mix=0.6194984200668621 ; "
     ]
    },
    {
     "name": "stderr",
     "output_type": "stream",
     "text": [
      "\u001B[32m[I 2023-05-20 16:28:54,741]\u001B[0m Trial 119 finished with value: 2.6805916362782805 and parameters: {'beta_f': 0.5877806767881881, 'beta_r': 0.9430328374670472, 'lr_f': 0.6456493649382657, 'lr_r': 0.9958986004413927, 'stop_frac_r': 1, 'avg_frac_r': 2}. Best is trial 118 with value: 1.2680356016156.\u001B[0m\n"
     ]
    },
    {
     "name": "stdout",
     "output_type": "stream",
     "text": [
      "last_regret=0.7669376480960869\n",
      "l_star=11 ; regret_mix=0.7217882500368269 ; last_regret=0.8374330217382322\n",
      "l_star=9 ; regret_mix=0.5348478766799606 ; last_regret=0.6659821373752398\n",
      "l_star=10 ; regret_mix=0.5344175325322396 ; last_regret=0.6453754446871587\n",
      "l_star=9 ; regret_mix=0.6113023339382783 ; last_regret=0.7839891108123821\n",
      "l_star=11 ; regret_mix=0.6884486284471574 ; last_regret=0.8140721129427984\n",
      "l_star=12 ; regret_mix=0.7530914181835275 ; last_regret=0.9112148473693262\n",
      "l_star=9 ; regret_mix=0.5383605046700123 ; last_regret=0.6704376113622512\n",
      "l_star=8 ; regret_mix=0.5657344561082112 ; last_regret=0.6727612226880847\n",
      "l_star=10 ; regret_mix=0.6790288581177554 ; last_regret=0.8278863890526088\n",
      "l_star=14 ; regret_mix=0.7553600271196343 ; "
     ]
    },
    {
     "name": "stderr",
     "output_type": "stream",
     "text": [
      "\u001B[32m[I 2023-05-20 16:34:39,898]\u001B[0m Trial 120 finished with value: 1.9046898227926894 and parameters: {'beta_f': 0.5602392719167114, 'beta_r': 0.9117188809702498, 'lr_f': 0.7494621721870602, 'lr_r': 0.978015714331233, 'stop_frac_r': 2, 'avg_frac_r': 3}. Best is trial 118 with value: 1.2680356016156.\u001B[0m\n"
     ]
    },
    {
     "name": "stdout",
     "output_type": "stream",
     "text": [
      "last_regret=0.8778322766780285\n",
      "l_star=10 ; regret_mix=0.6272399105216312 ; last_regret=0.7843850244934829\n",
      "l_star=9 ; regret_mix=0.5139287509534488 ; last_regret=0.6690486686688439\n",
      "l_star=10 ; regret_mix=0.6145208955643624 ; last_regret=0.7645933860425593\n",
      "l_star=9 ; regret_mix=0.635430513765852 ; last_regret=0.8656387149340754\n",
      "l_star=10 ; regret_mix=0.638404339637987 ; last_regret=0.8528276125170138\n",
      "l_star=10 ; regret_mix=0.6647795521151274 ; last_regret=0.8911865940228969\n",
      "l_star=11 ; regret_mix=0.6661759339586061 ; last_regret=0.9039312443718508\n",
      "l_star=9 ; regret_mix=0.5416311144227967 ; last_regret=0.7015426075096375\n",
      "l_star=10 ; regret_mix=0.6453824780075276 ; last_regret=0.872678580422168\n",
      "l_star=13 ; regret_mix=0.6161399447466253 ; "
     ]
    },
    {
     "name": "stderr",
     "output_type": "stream",
     "text": [
      "\u001B[32m[I 2023-05-20 16:40:22,497]\u001B[0m Trial 121 finished with value: 2.651909798411249 and parameters: {'beta_f': 0.5793066743808792, 'beta_r': 0.9316142089963448, 'lr_f': 0.5374756303398309, 'lr_r': 0.9349170761095211, 'stop_frac_r': 3, 'avg_frac_r': 4}. Best is trial 118 with value: 1.2680356016156.\u001B[0m\n"
     ]
    },
    {
     "name": "stdout",
     "output_type": "stream",
     "text": [
      "last_regret=0.7440220317631576\n",
      "l_star=11 ; regret_mix=0.6622672911651459 ; last_regret=0.7523544090305562\n",
      "l_star=13 ; regret_mix=0.6054771771569645 ; last_regret=0.6838057376167055\n",
      "l_star=12 ; regret_mix=0.5120701554910928 ; last_regret=0.5759706528600972\n",
      "l_star=11 ; regret_mix=0.4951852171009707 ; last_regret=0.55842597051843\n",
      "l_star=9 ; regret_mix=0.6588243166406256 ; last_regret=0.7729518152520172\n",
      "l_star=11 ; regret_mix=0.6684749340445997 ; last_regret=0.7754358812406356\n",
      "l_star=10 ; regret_mix=0.338702013098988 ; last_regret=0.4080483231542281\n",
      "l_star=12 ; regret_mix=0.6326394825259343 ; last_regret=0.7163634617196648\n",
      "l_star=9 ; regret_mix=0.6233612121415277 ; last_regret=0.7431454833372617\n",
      "l_star=15 ; regret_mix=0.6812319628026102 ; "
     ]
    },
    {
     "name": "stderr",
     "output_type": "stream",
     "text": [
      "\u001B[32m[I 2023-05-20 16:46:10,541]\u001B[0m Trial 122 finished with value: 1.3953168596458148 and parameters: {'beta_f': 0.6033196822588931, 'beta_r': 0.965916706055521, 'lr_f': 0.6310813594257877, 'lr_r': 0.9703148752415772, 'stop_frac_r': 2, 'avg_frac_r': 3}. Best is trial 118 with value: 1.2680356016156.\u001B[0m\n"
     ]
    },
    {
     "name": "stdout",
     "output_type": "stream",
     "text": [
      "last_regret=0.7633643722115152\n",
      "l_star=9 ; regret_mix=0.4509023472109389 ; last_regret=0.5104727868363113\n",
      "l_star=9 ; regret_mix=0.6272825090671524 ; last_regret=0.720513801045083\n",
      "l_star=10 ; regret_mix=0.5748756200738359 ; last_regret=0.6801042869550686\n",
      "l_star=9 ; regret_mix=0.5519085115534084 ; last_regret=0.6433549353726985\n",
      "l_star=11 ; regret_mix=0.6251013905850119 ; last_regret=0.7200138878632971\n",
      "l_star=9 ; regret_mix=0.5857670694797331 ; last_regret=0.7062101815968715\n",
      "l_star=10 ; regret_mix=0.6325307811932365 ; last_regret=0.7488659955004223\n",
      "l_star=9 ; regret_mix=0.5709357568457852 ; last_regret=0.6640511864220375\n",
      "l_star=9 ; regret_mix=0.6005364952132743 ; last_regret=0.7097923639881922\n",
      "l_star=11 ; regret_mix=0.6607911040528087 ; "
     ]
    },
    {
     "name": "stderr",
     "output_type": "stream",
     "text": [
      "\u001B[32m[I 2023-05-20 16:52:00,031]\u001B[0m Trial 123 finished with value: 1.5301648746823198 and parameters: {'beta_f': 0.594556897034717, 'beta_r': 0.9727736258820887, 'lr_f': 0.5857392975291567, 'lr_r': 0.9751265097110913, 'stop_frac_r': 2, 'avg_frac_r': 3}. Best is trial 118 with value: 1.2680356016156.\u001B[0m\n"
     ]
    },
    {
     "name": "stdout",
     "output_type": "stream",
     "text": [
      "last_regret=0.7530500649970163\n",
      "l_star=12 ; regret_mix=0.6381187696226145 ; last_regret=0.739449616796267\n",
      "l_star=12 ; regret_mix=0.739631953081352 ; last_regret=0.8485477391178378\n",
      "l_star=11 ; regret_mix=0.7246425495355417 ; last_regret=0.8269661115753492\n",
      "l_star=11 ; regret_mix=0.6770662228559963 ; last_regret=0.7863811505201582\n",
      "l_star=12 ; regret_mix=0.7110396795225523 ; last_regret=0.8222137401279465\n",
      "l_star=12 ; regret_mix=0.676210452100422 ; last_regret=0.7676187296024197\n",
      "l_star=11 ; regret_mix=0.7172359588100218 ; last_regret=0.8277383358266623\n",
      "l_star=11 ; regret_mix=0.6364629949830388 ; last_regret=0.7264236183073007\n",
      "l_star=11 ; regret_mix=0.6305982507919148 ; last_regret=0.7239618923232186\n",
      "l_star=9 ; regret_mix=0.6636908125725416 ; "
     ]
    },
    {
     "name": "stderr",
     "output_type": "stream",
     "text": [
      "\u001B[32m[I 2023-05-20 16:57:51,358]\u001B[0m Trial 124 finished with value: 1.4270133830638414 and parameters: {'beta_f': 0.6041835963782198, 'beta_r': 0.9896756564120585, 'lr_f': 0.6344311659164158, 'lr_r': 0.9414344646953261, 'stop_frac_r': 2, 'avg_frac_r': 3}. Best is trial 118 with value: 1.2680356016156.\u001B[0m\n"
     ]
    },
    {
     "name": "stdout",
     "output_type": "stream",
     "text": [
      "last_regret=0.7905166055908837\n",
      "l_star=9 ; regret_mix=0.5099036862048595 ; last_regret=0.6184121689738564\n",
      "l_star=9 ; regret_mix=0.5273153614546953 ; last_regret=0.6260986644904913\n",
      "l_star=10 ; regret_mix=0.742094966038301 ; last_regret=0.8636010599214639\n",
      "l_star=11 ; regret_mix=0.521850657878105 ; last_regret=0.6214539474629717\n",
      "l_star=12 ; regret_mix=0.6362747155143742 ; last_regret=0.734757795720315\n",
      "l_star=9 ; regret_mix=0.6426671151510994 ; last_regret=0.7943163805136254\n",
      "l_star=11 ; regret_mix=0.5895255317797857 ; last_regret=0.6852817389902617\n",
      "l_star=9 ; regret_mix=0.7041683108099808 ; last_regret=0.851041837109528\n",
      "l_star=9 ; regret_mix=0.6087972923178211 ; last_regret=0.7024109300299582\n",
      "l_star=10 ; regret_mix=0.7123745377702935 ; "
     ]
    },
    {
     "name": "stderr",
     "output_type": "stream",
     "text": [
      "\u001B[32m[I 2023-05-20 17:03:38,763]\u001B[0m Trial 125 finished with value: 1.7140336798004494 and parameters: {'beta_f': 0.6118546506686171, 'beta_r': 0.9874173551029065, 'lr_f': 0.6618925653325302, 'lr_r': 0.9057077503688912, 'stop_frac_r': 6, 'avg_frac_r': 6}. Best is trial 118 with value: 1.2680356016156.\u001B[0m\n"
     ]
    },
    {
     "name": "stdout",
     "output_type": "stream",
     "text": [
      "last_regret=0.8565616575755094\n",
      "l_star=12 ; regret_mix=0.3780941720621092 ; last_regret=0.43658163362063257\n",
      "l_star=12 ; regret_mix=0.6005337795783116 ; last_regret=0.7018917307542684\n",
      "l_star=9 ; regret_mix=0.548840133549783 ; last_regret=0.6518303007829827\n",
      "l_star=12 ; regret_mix=0.5828880993524223 ; last_regret=0.6605392759905508\n",
      "l_star=12 ; regret_mix=0.44742745847097465 ; last_regret=0.5259813808472088\n",
      "l_star=11 ; regret_mix=0.7086523728302153 ; last_regret=0.8228833042772389\n",
      "l_star=11 ; regret_mix=0.7434759007114615 ; last_regret=0.8548822045463811\n",
      "l_star=9 ; regret_mix=0.4393057407596461 ; last_regret=0.5084880477328786\n",
      "l_star=10 ; regret_mix=0.6273459325248287 ; last_regret=0.7303360898522085\n",
      "l_star=10 ; regret_mix=0.6986562417360287 ; "
     ]
    },
    {
     "name": "stderr",
     "output_type": "stream",
     "text": [
      "\u001B[32m[I 2023-05-20 17:09:32,340]\u001B[0m Trial 126 finished with value: 1.4842829500751842 and parameters: {'beta_f': 0.6051036755804757, 'beta_r': 0.9833540698218217, 'lr_f': 0.6377448744444205, 'lr_r': 0.922930427106405, 'stop_frac_r': 2, 'avg_frac_r': 3}. Best is trial 118 with value: 1.2680356016156.\u001B[0m\n"
     ]
    },
    {
     "name": "stdout",
     "output_type": "stream",
     "text": [
      "last_regret=0.8023381887319937\n",
      "l_star=12 ; regret_mix=0.613148674947155 ; last_regret=0.6879707884739864\n",
      "l_star=13 ; regret_mix=0.6914594973694533 ; last_regret=0.7683594453259585\n",
      "l_star=10 ; regret_mix=0.4081039148683986 ; last_regret=0.45956664741210157\n",
      "l_star=9 ; regret_mix=0.5042641129260986 ; last_regret=0.5859309384662382\n",
      "l_star=11 ; regret_mix=0.7153645927457501 ; last_regret=0.7981780545770993\n",
      "l_star=13 ; regret_mix=0.6807504231066999 ; last_regret=0.7720263975801818\n",
      "l_star=12 ; regret_mix=0.5558979232496891 ; last_regret=0.6425526124905304\n",
      "l_star=9 ; regret_mix=0.4719851566113203 ; last_regret=0.5513268654171867\n",
      "l_star=12 ; regret_mix=0.5787957819314781 ; last_regret=0.6625368029474848\n",
      "l_star=10 ; regret_mix=0.4606271609518073 ; "
     ]
    },
    {
     "name": "stderr",
     "output_type": "stream",
     "text": [
      "\u001B[32m[I 2023-05-20 17:15:18,627]\u001B[0m Trial 127 finished with value: 1.2685331937416529 and parameters: {'beta_f': 0.6482972639602436, 'beta_r': 0.9634642009166483, 'lr_f': 0.6905331540447228, 'lr_r': 0.9976915298556762, 'stop_frac_r': 2, 'avg_frac_r': 3}. Best is trial 118 with value: 1.2680356016156.\u001B[0m\n"
     ]
    },
    {
     "name": "stdout",
     "output_type": "stream",
     "text": [
      "last_regret=0.5133373051114596\n",
      "l_star=10 ; regret_mix=0.5402429783122885 ; last_regret=0.7266513347459025\n",
      "l_star=8 ; regret_mix=0.6495653681365278 ; last_regret=0.9090668863685312\n",
      "l_star=11 ; regret_mix=0.7253270900510672 ; last_regret=0.9593855614003002\n",
      "l_star=12 ; regret_mix=0.6428621687651973 ; last_regret=0.8282114403223995\n",
      "l_star=11 ; regret_mix=0.592004605681589 ; last_regret=0.7851775944353269\n",
      "l_star=10 ; regret_mix=0.591228416387491 ; last_regret=0.7698322769673427\n",
      "l_star=9 ; regret_mix=0.43698032571913276 ; last_regret=0.6394183483429616\n",
      "l_star=9 ; regret_mix=0.5980269898033779 ; last_regret=0.8129175072479943\n",
      "l_star=11 ; regret_mix=0.6542425379516651 ; last_regret=0.8903121489067355\n",
      "l_star=13 ; regret_mix=0.648673927253353 ; "
     ]
    },
    {
     "name": "stderr",
     "output_type": "stream",
     "text": [
      "\u001B[32m[I 2023-05-20 17:21:03,820]\u001B[0m Trial 128 finished with value: 2.9642268794310267 and parameters: {'beta_f': 0.6272718755826836, 'beta_r': 0.9680787679026424, 'lr_f': 0.7293314192761166, 'lr_r': 0.9856846897661218, 'stop_frac_r': 1, 'avg_frac_r': 2}. Best is trial 118 with value: 1.2680356016156.\u001B[0m\n"
     ]
    },
    {
     "name": "stdout",
     "output_type": "stream",
     "text": [
      "last_regret=0.8383882999188659\n",
      "l_star=11 ; regret_mix=0.5078671500895274 ; last_regret=0.5931175245753811\n",
      "l_star=11 ; regret_mix=0.6884963388711822 ; last_regret=0.7936757955184846\n",
      "l_star=11 ; regret_mix=0.649030475237779 ; last_regret=0.7512678675112523\n",
      "l_star=12 ; regret_mix=0.650299279414109 ; last_regret=0.7303455808328959\n",
      "l_star=10 ; regret_mix=0.6552674585051397 ; last_regret=0.7363871261763525\n",
      "l_star=11 ; regret_mix=0.3716090861882288 ; last_regret=0.42719223288867086\n",
      "l_star=12 ; regret_mix=0.6942593968700013 ; last_regret=0.7828412613046997\n",
      "l_star=9 ; regret_mix=0.5836195623280158 ; last_regret=0.6917466584081589\n",
      "l_star=12 ; regret_mix=0.602585794115038 ; last_regret=0.6747917008061524\n",
      "l_star=9 ; regret_mix=0.5801480550694796 ; "
     ]
    },
    {
     "name": "stderr",
     "output_type": "stream",
     "text": [
      "\u001B[32m[I 2023-05-20 17:26:55,173]\u001B[0m Trial 129 finished with value: 1.3871129013384424 and parameters: {'beta_f': 0.6195254326452816, 'beta_r': 0.9678685002650532, 'lr_f': 0.6903142285188043, 'lr_r': 0.9531173307250469, 'stop_frac_r': 2, 'avg_frac_r': 3}. Best is trial 118 with value: 1.2680356016156.\u001B[0m\n"
     ]
    },
    {
     "name": "stdout",
     "output_type": "stream",
     "text": [
      "last_regret=0.6863295588610818\n",
      "l_star=10 ; regret_mix=0.4309810026120311 ; last_regret=0.5094801468636146\n",
      "l_star=10 ; regret_mix=0.6208802539255619 ; last_regret=0.7543988317245114\n",
      "l_star=10 ; regret_mix=0.6494013148068853 ; last_regret=0.815213825522179\n",
      "l_star=10 ; regret_mix=0.5464869100163661 ; last_regret=0.6527084310989675\n",
      "l_star=10 ; regret_mix=0.6755684166045378 ; last_regret=0.8364993726575501\n",
      "l_star=9 ; regret_mix=0.6561282982390042 ; last_regret=0.8747067337330341\n",
      "l_star=10 ; regret_mix=0.6431475842680952 ; last_regret=0.7863326675078595\n",
      "l_star=9 ; regret_mix=0.574750993495241 ; last_regret=0.6940335932943529\n",
      "l_star=11 ; regret_mix=0.6535749631597393 ; last_regret=0.7522015103645288\n",
      "l_star=11 ; regret_mix=0.5619865803786864 ; "
     ]
    },
    {
     "name": "stderr",
     "output_type": "stream",
     "text": [
      "\u001B[32m[I 2023-05-20 17:32:37,118]\u001B[0m Trial 130 finished with value: 1.969504741203276 and parameters: {'beta_f': 0.5885786954492289, 'beta_r': 0.9638401820428523, 'lr_f': 0.7041206781976067, 'lr_r': 0.8923440538523403, 'stop_frac_r': 3, 'avg_frac_r': 4}. Best is trial 118 with value: 1.2680356016156.\u001B[0m\n"
     ]
    },
    {
     "name": "stdout",
     "output_type": "stream",
     "text": [
      "last_regret=0.6668154341079103\n",
      "l_star=10 ; regret_mix=0.7067912973047656 ; last_regret=0.8026970383270137\n",
      "l_star=13 ; regret_mix=0.6970238918006836 ; last_regret=0.7846124050167598\n",
      "l_star=11 ; regret_mix=0.6253438902242143 ; last_regret=0.7243346618559894\n",
      "l_star=11 ; regret_mix=0.6324838750490094 ; last_regret=0.7341837926084813\n",
      "l_star=12 ; regret_mix=0.6073305314896152 ; last_regret=0.6760210633051982\n",
      "l_star=10 ; regret_mix=0.5707022711673917 ; last_regret=0.6619635984225009\n",
      "l_star=13 ; regret_mix=0.5579387113312413 ; last_regret=0.648094146391196\n",
      "l_star=9 ; regret_mix=0.7167993937031086 ; last_regret=0.8202572565551349\n",
      "l_star=12 ; regret_mix=0.6247364014980344 ; last_regret=0.7114906912766931\n",
      "l_star=12 ; regret_mix=0.6326056675294276 ; "
     ]
    },
    {
     "name": "stderr",
     "output_type": "stream",
     "text": [
      "\u001B[32m[I 2023-05-20 17:38:34,144]\u001B[0m Trial 131 finished with value: 1.3389623182387027 and parameters: {'beta_f': 0.6398137155318196, 'beta_r': 0.975961112091964, 'lr_f': 0.6852312601431385, 'lr_r': 0.9615735438431072, 'stop_frac_r': 2, 'avg_frac_r': 3}. Best is trial 118 with value: 1.2680356016156.\u001B[0m\n"
     ]
    },
    {
     "name": "stdout",
     "output_type": "stream",
     "text": [
      "last_regret=0.718385027928706\n",
      "l_star=10 ; regret_mix=0.6468889599949378 ; last_regret=0.7392629032249822\n",
      "l_star=11 ; regret_mix=0.7302779957244165 ; last_regret=0.8363074583750019\n",
      "l_star=11 ; regret_mix=0.6935669646912863 ; last_regret=0.7969488889673041\n",
      "l_star=12 ; regret_mix=0.5257099336999485 ; last_regret=0.6049869072356874\n",
      "l_star=10 ; regret_mix=0.6351478870231853 ; last_regret=0.7365909587737135\n",
      "l_star=9 ; regret_mix=0.5614734309841424 ; last_regret=0.6505508209027492\n",
      "l_star=10 ; regret_mix=0.6752641065473238 ; last_regret=0.7843112187542677\n",
      "l_star=12 ; regret_mix=0.508712950988635 ; last_regret=0.585834880371779\n",
      "l_star=10 ; regret_mix=0.6938709073501456 ; last_regret=0.8255620493537005\n",
      "l_star=12 ; regret_mix=0.5229689369765355 ; "
     ]
    },
    {
     "name": "stderr",
     "output_type": "stream",
     "text": [
      "\u001B[32m[I 2023-05-20 17:44:20,673]\u001B[0m Trial 132 finished with value: 1.4651950574920662 and parameters: {'beta_f': 0.6460399601600767, 'beta_r': 0.9726738619584692, 'lr_f': 0.676175979748169, 'lr_r': 0.9994050252638473, 'stop_frac_r': 2, 'avg_frac_r': 3}. Best is trial 118 with value: 1.2680356016156.\u001B[0m\n"
     ]
    },
    {
     "name": "stdout",
     "output_type": "stream",
     "text": [
      "last_regret=0.6116760127228407\n",
      "l_star=11 ; regret_mix=0.6965448072756406 ; last_regret=0.7852772305618648\n",
      "l_star=12 ; regret_mix=0.6529732633763852 ; last_regret=0.7289564595886383\n",
      "l_star=9 ; regret_mix=0.5842267905252787 ; last_regret=0.6808707764036507\n",
      "l_star=11 ; regret_mix=0.7057623312270497 ; last_regret=0.816461202094163\n",
      "l_star=12 ; regret_mix=0.6178291208289636 ; last_regret=0.6950432563061605\n",
      "l_star=9 ; regret_mix=0.5177911700762757 ; last_regret=0.6134380956876059\n",
      "l_star=10 ; regret_mix=0.6649581707239646 ; last_regret=0.7561702808803045\n",
      "l_star=11 ; regret_mix=0.699480319676437 ; last_regret=0.8036957528220652\n",
      "l_star=9 ; regret_mix=0.5193058078212428 ; last_regret=0.610532084331731\n",
      "l_star=12 ; regret_mix=0.5770133592870186 ; "
     ]
    },
    {
     "name": "stderr",
     "output_type": "stream",
     "text": [
      "\u001B[32m[I 2023-05-20 17:50:05,098]\u001B[0m Trial 133 finished with value: 1.3528725195504316 and parameters: {'beta_f': 0.6221687424877181, 'beta_r': 0.9521967700040432, 'lr_f': 0.7788556961533497, 'lr_r': 0.966945633217445, 'stop_frac_r': 2, 'avg_frac_r': 3}. Best is trial 118 with value: 1.2680356016156.\u001B[0m\n"
     ]
    },
    {
     "name": "stdout",
     "output_type": "stream",
     "text": [
      "last_regret=0.6425459250250055\n",
      "l_star=9 ; regret_mix=0.5905937441410595 ; last_regret=0.6895464420055172\n",
      "l_star=11 ; regret_mix=0.728292740038477 ; last_regret=0.8438200757329423\n",
      "l_star=12 ; regret_mix=0.4850977154787632 ; last_regret=0.5325960912302519\n",
      "l_star=12 ; regret_mix=0.5931293323200993 ; last_regret=0.6858114645619713\n",
      "l_star=11 ; regret_mix=0.7182962555711379 ; last_regret=0.8167975130617661\n",
      "l_star=10 ; regret_mix=0.6519805628302088 ; last_regret=0.7445410828123192\n",
      "l_star=9 ; regret_mix=0.6383817879171163 ; last_regret=0.7605831762027092\n",
      "l_star=9 ; regret_mix=0.5190001851914774 ; last_regret=0.6175031057341732\n",
      "l_star=11 ; regret_mix=0.6234183685687086 ; last_regret=0.7068711867602415\n",
      "l_star=11 ; regret_mix=0.6253104822097679 ; "
     ]
    },
    {
     "name": "stderr",
     "output_type": "stream",
     "text": [
      "\u001B[32m[I 2023-05-20 17:55:54,028]\u001B[0m Trial 134 finished with value: 1.390932235934622 and parameters: {'beta_f': 0.6400740015193457, 'beta_r': 0.9516727505001921, 'lr_f': 0.7611851965716157, 'lr_r': 0.9672605530802415, 'stop_frac_r': 2, 'avg_frac_r': 3}. Best is trial 118 with value: 1.2680356016156.\u001B[0m\n"
     ]
    },
    {
     "name": "stdout",
     "output_type": "stream",
     "text": [
      "last_regret=0.701074062665373\n",
      "l_star=12 ; regret_mix=0.5847472572098383 ; last_regret=0.654386918979725\n",
      "l_star=10 ; regret_mix=0.6347709343887624 ; last_regret=0.7451996311452693\n",
      "l_star=11 ; regret_mix=0.6892947850697796 ; last_regret=0.7908989336545501\n",
      "l_star=11 ; regret_mix=0.6857466821408095 ; last_regret=0.7714799038281368\n",
      "l_star=11 ; regret_mix=0.5307433100196706 ; last_regret=0.5895423358706376\n",
      "l_star=11 ; regret_mix=0.6280927607643383 ; last_regret=0.7272885828765757\n",
      "l_star=11 ; regret_mix=0.6518154445402098 ; last_regret=0.7308280781100496\n",
      "l_star=10 ; regret_mix=0.6747942095596868 ; last_regret=0.7656634631728905\n",
      "l_star=10 ; regret_mix=0.7039755210804196 ; last_regret=0.8254649587069556\n",
      "l_star=10 ; regret_mix=0.6265558888804738 ; "
     ]
    },
    {
     "name": "stderr",
     "output_type": "stream",
     "text": [
      "\u001B[32m[I 2023-05-20 18:01:51,158]\u001B[0m Trial 135 finished with value: 1.3362874997787841 and parameters: {'beta_f': 0.6448129741346923, 'beta_r': 0.9450890082042567, 'lr_f': 0.7908091457799297, 'lr_r': 0.959293031983852, 'stop_frac_r': 2, 'avg_frac_r': 3}. Best is trial 118 with value: 1.2680356016156.\u001B[0m\n"
     ]
    },
    {
     "name": "stdout",
     "output_type": "stream",
     "text": [
      "last_regret=0.7326414738031587\n",
      "l_star=12 ; regret_mix=0.6831135551757171 ; last_regret=0.7781807342583439\n",
      "l_star=11 ; regret_mix=0.5181154770143644 ; last_regret=0.6020933312041344\n",
      "l_star=10 ; regret_mix=0.45807511183381544 ; last_regret=0.5143751784454847\n",
      "l_star=10 ; regret_mix=0.6978989232781743 ; last_regret=0.7923281018919888\n",
      "l_star=11 ; regret_mix=0.6559414820831904 ; last_regret=0.7631425598122087\n",
      "l_star=11 ; regret_mix=0.6062419546412252 ; last_regret=0.700625436894726\n",
      "l_star=10 ; regret_mix=0.6340447422147871 ; last_regret=0.7304897827756617\n",
      "l_star=11 ; regret_mix=0.7083835134938067 ; last_regret=0.7846203830285393\n",
      "l_star=13 ; regret_mix=0.6550851188656908 ; last_regret=0.7416131953909672\n",
      "l_star=12 ; regret_mix=0.685075951573248 ; "
     ]
    },
    {
     "name": "stderr",
     "output_type": "stream",
     "text": [
      "\u001B[32m[I 2023-05-20 18:07:50,792]\u001B[0m Trial 136 finished with value: 1.3074061177987748 and parameters: {'beta_f': 0.6630090775188265, 'beta_r': 0.9503412933558126, 'lr_f': 0.8061448227018123, 'lr_r': 0.952280308178171, 'stop_frac_r': 2, 'avg_frac_r': 3}. Best is trial 118 with value: 1.2680356016156.\u001B[0m\n"
     ]
    },
    {
     "name": "stdout",
     "output_type": "stream",
     "text": [
      "last_regret=0.7725235687121643\n",
      "l_star=9 ; regret_mix=0.49028562081440036 ; last_regret=0.5730727879747904\n",
      "l_star=10 ; regret_mix=0.5402641203464102 ; last_regret=0.6156260108442191\n",
      "l_star=11 ; regret_mix=0.5457894040134645 ; last_regret=0.6246352086712056\n",
      "l_star=11 ; regret_mix=0.6783802820910068 ; last_regret=0.7850721088654351\n",
      "l_star=10 ; regret_mix=0.41674235011709093 ; last_regret=0.5029467937636499\n",
      "l_star=9 ; regret_mix=0.6177672025958902 ; last_regret=0.7093792196275326\n",
      "l_star=10 ; regret_mix=0.5825273355340591 ; last_regret=0.7052359145145741\n",
      "l_star=13 ; regret_mix=0.6048515625951476 ; last_regret=0.6789816737747493\n",
      "l_star=9 ; regret_mix=0.5638544774834725 ; last_regret=0.6557090269647969\n",
      "l_star=10 ; regret_mix=0.5906931822192623 ; "
     ]
    },
    {
     "name": "stderr",
     "output_type": "stream",
     "text": [
      "\u001B[32m[I 2023-05-20 18:13:45,785]\u001B[0m Trial 137 finished with value: 1.4950480702640008 and parameters: {'beta_f': 0.6566868045293923, 'beta_r': 0.9456919074034132, 'lr_f': 0.7788337059899663, 'lr_r': 0.956231854358907, 'stop_frac_r': 2, 'avg_frac_r': 3}. Best is trial 118 with value: 1.2680356016156.\u001B[0m\n"
     ]
    },
    {
     "name": "stdout",
     "output_type": "stream",
     "text": [
      "last_regret=0.6818116539610998\n",
      "l_star=14 ; regret_mix=0.716161283714673 ; last_regret=0.8246744005564863\n",
      "l_star=9 ; regret_mix=0.6611522977115041 ; last_regret=0.7719215828782089\n",
      "l_star=10 ; regret_mix=0.5448770662462511 ; last_regret=0.6292590411167419\n",
      "l_star=11 ; regret_mix=0.6349174075827965 ; last_regret=0.7435321418095033\n",
      "l_star=11 ; regret_mix=0.7136491801210421 ; last_regret=0.8100584295355477\n",
      "l_star=10 ; regret_mix=0.6250231481963181 ; last_regret=0.731922781858186\n",
      "l_star=12 ; regret_mix=0.7251486824068474 ; last_regret=0.8348223903422163\n",
      "l_star=13 ; regret_mix=0.5504181833151487 ; last_regret=0.6462995306617842\n",
      "l_star=11 ; regret_mix=0.6828805164923036 ; last_regret=0.7688580209647334\n",
      "l_star=9 ; regret_mix=0.6069116955621869 ; "
     ]
    },
    {
     "name": "stderr",
     "output_type": "stream",
     "text": [
      "\u001B[32m[I 2023-05-20 18:19:38,058]\u001B[0m Trial 138 finished with value: 1.4604953884744118 and parameters: {'beta_f': 0.6234429227284364, 'beta_r': 0.9789181838555406, 'lr_f': 0.8232418679034654, 'lr_r': 0.9326350396817714, 'stop_frac_r': 2, 'avg_frac_r': 3}. Best is trial 118 with value: 1.2680356016156.\u001B[0m\n"
     ]
    },
    {
     "name": "stdout",
     "output_type": "stream",
     "text": [
      "last_regret=0.7107936516846511\n",
      "l_star=11 ; regret_mix=0.6262937803707308 ; last_regret=0.8451745175513963\n",
      "l_star=12 ; regret_mix=0.6306085710734797 ; last_regret=0.8493558534355894\n",
      "l_star=10 ; regret_mix=0.573663614145007 ; last_regret=0.7443329303454309\n",
      "l_star=8 ; regret_mix=0.5984398522954008 ; last_regret=0.8209010034062858\n",
      "l_star=11 ; regret_mix=0.6494360766413122 ; last_regret=0.8467668780211457\n",
      "l_star=11 ; regret_mix=0.3935271773689219 ; last_regret=0.5107564725877435\n",
      "l_star=10 ; regret_mix=0.5701756960295405 ; last_regret=0.7716221828353016\n",
      "l_star=10 ; regret_mix=0.6065647029453315 ; last_regret=0.7984471873992876\n",
      "l_star=12 ; regret_mix=0.5564421923530237 ; last_regret=0.7101362461281827\n",
      "l_star=10 ; regret_mix=0.39254572069537835 ; "
     ]
    },
    {
     "name": "stderr",
     "output_type": "stream",
     "text": [
      "\u001B[32m[I 2023-05-20 18:25:31,315]\u001B[0m Trial 139 finished with value: 2.7135601613799927 and parameters: {'beta_f': 0.6711533984297136, 'beta_r': 0.9376784246198088, 'lr_f': 0.7438073337455537, 'lr_r': 0.9630263501358931, 'stop_frac_r': 1, 'avg_frac_r': 2}. Best is trial 118 with value: 1.2680356016156.\u001B[0m\n"
     ]
    },
    {
     "name": "stdout",
     "output_type": "stream",
     "text": [
      "last_regret=0.475710614874872\n",
      "l_star=12 ; regret_mix=0.674001614208182 ; last_regret=0.7590357009811348\n",
      "l_star=10 ; regret_mix=0.6813025370844464 ; last_regret=0.7944890213018461\n",
      "l_star=12 ; regret_mix=0.7009189514892635 ; last_regret=0.7967516921938863\n",
      "l_star=11 ; regret_mix=0.5812032367624588 ; last_regret=0.6390627351610781\n",
      "l_star=13 ; regret_mix=0.6974276601495063 ; last_regret=0.7907140083452169\n",
      "l_star=10 ; regret_mix=0.5898495732320026 ; last_regret=0.6699516777273348\n",
      "l_star=11 ; regret_mix=0.6611890838496004 ; last_regret=0.791548583875628\n",
      "l_star=11 ; regret_mix=0.5636376085977438 ; last_regret=0.6547058914281161\n",
      "l_star=12 ; regret_mix=0.5477205391374869 ; last_regret=0.6384997143280999\n",
      "l_star=11 ; regret_mix=0.6660659317728346 ; "
     ]
    },
    {
     "name": "stderr",
     "output_type": "stream",
     "text": [
      "\u001B[32m[I 2023-05-20 18:31:29,108]\u001B[0m Trial 140 finished with value: 1.3488575480302527 and parameters: {'beta_f': 0.6447446957428032, 'beta_r': 0.9597942983498017, 'lr_f': 0.7722716718187154, 'lr_r': 0.9180839722199133, 'stop_frac_r': 2, 'avg_frac_r': 3}. Best is trial 118 with value: 1.2680356016156.\u001B[0m\n"
     ]
    },
    {
     "name": "stdout",
     "output_type": "stream",
     "text": [
      "last_regret=0.7489907369960034\n"
     ]
    }
   ],
   "source": [
    "d = 20\n",
    "r = 5\n",
    "m = 20\n",
    "T_r = 250\n",
    "times = 10\n",
    "d_sigma = 1\n",
    "sigma_type = matrix_type.DIAG\n",
    "s_type = matrix_type.IDENTITY\n",
    "\n",
    "name = f\"optuna_optimization_d={d}_r={r}_sigma={sigma_type}_s={s_type}_m={m}_Tr={T_r}_var={d_sigma}\"\n",
    "study = optuna.create_study(study_name=f'{name}',\n",
    "                            storage=f'sqlite:///./../optuna/{name}.db ',\n",
    "                            direction='minimize', load_if_exists=True)\n",
    "\n",
    "study.optimize(optuna_optimize_algorithm, n_trials=100)"
   ],
   "metadata": {
    "collapsed": false,
    "pycharm": {
     "name": "#%%\n"
    }
   }
  },
  {
   "cell_type": "code",
   "execution_count": 3,
   "outputs": [],
   "source": [],
   "metadata": {
    "collapsed": false,
    "pycharm": {
     "name": "#%%\n"
    }
   }
  },
  {
   "cell_type": "code",
   "execution_count": null,
   "outputs": [],
   "source": [],
   "metadata": {
    "collapsed": false,
    "pycharm": {
     "name": "#%%\n"
    }
   }
  }
 ],
 "metadata": {
  "kernelspec": {
   "name": "pycharm-4f6c12d3",
   "language": "python",
   "display_name": "PyCharm (paper-optimization-algorithm)"
  },
  "language_info": {
   "codemirror_mode": {
    "name": "ipython",
    "version": 2
   },
   "file_extension": ".py",
   "mimetype": "text/x-python",
   "name": "python",
   "nbconvert_exporter": "python",
   "pygments_lexer": "ipython2",
   "version": "2.7.6"
  }
 },
 "nbformat": 4,
 "nbformat_minor": 0
}