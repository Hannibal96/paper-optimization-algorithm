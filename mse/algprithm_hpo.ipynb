{
 "cells": [
  {
   "cell_type": "code",
   "execution_count": 1,
   "metadata": {
    "collapsed": true
   },
   "outputs": [],
   "source": [
    "import numpy as np\n",
    "\n",
    "from steps import *\n",
    "from tqdm import tqdm\n",
    "from optimal import *\n",
    "import matplotlib.pyplot as plt\n",
    "import optuna\n",
    "import warnings\n",
    "warnings.filterwarnings(\"error\")"
   ]
  },
  {
   "cell_type": "code",
   "execution_count": 2,
   "outputs": [],
   "source": [
    "def optuna_optimize_algorithm(trial):\n",
    "\n",
    "    beta_f = trial.suggest_float('beta_f', 0.5, 0.99)\n",
    "    beta_r = trial.suggest_float('beta_r', 0.5, 0.99)\n",
    "    lr_f = trial.suggest_float('lr_f', 0, 1.0)\n",
    "    lr_r = trial.suggest_float('lr_r', 0, 1.0)\n",
    "    stop_frac = trial.suggest_int('stop_frac_r', 1, 10)\n",
    "    avg_frac = trial.suggest_int('avg_frac_r', stop_frac, 10)\n",
    "\n",
    "    regret_list, regret_mix_list = run_algorithm(d=d, r=r, m=m, sigma_type=sigma_type, s_type=s_type, times=times,\n",
    "                                                 d_sigma=d_sigma, T_r=T_r, beta_f=beta_f, beta_r=beta_r, lr_f=lr_f, lr_r=lr_r,\n",
    "                                                 avg_frac_r=avg_frac, stop_frac_r=stop_frac)\n",
    "\n",
    "    return sum(abs(np.log(regret_list.min(axis=1) / regret_mix_list)))"
   ],
   "metadata": {
    "collapsed": false,
    "pycharm": {
     "name": "#%%\n"
    }
   }
  },
  {
   "cell_type": "code",
   "execution_count": 3,
   "outputs": [
    {
     "name": "stderr",
     "output_type": "stream",
     "text": [
      "\u001B[32m[I 2023-05-13 19:56:11,592]\u001B[0m Using an existing study with name 'optuna_optimization_d=20_r=5_sigma=matrix_type.DIAG_s=matrix_type.IDENTITY_m=20_Tr=100_var=1' instead of creating a new one.\u001B[0m\n"
     ]
    },
    {
     "name": "stdout",
     "output_type": "stream",
     "text": [
      "l_star=10 ; regret_mix=0.598176039260559 ; last_regret=0.723883818962331\n",
      "l_star=13 ; regret_mix=0.7466997202070361 ; last_regret=0.865724210776846\n",
      "l_star=13 ; regret_mix=0.641256073929129 ; last_regret=0.7331009174563489\n",
      "l_star=13 ; regret_mix=0.6746865866395494 ; last_regret=0.7756632476868643\n",
      "l_star=11 ; regret_mix=0.516597870294576 ; last_regret=0.5944683244690336\n",
      "l_star=10 ; regret_mix=0.5727864357701082 ; last_regret=0.6968933187182691\n",
      "l_star=11 ; regret_mix=0.7150900108236941 ; last_regret=0.8394694624102694\n",
      "l_star=11 ; regret_mix=0.6016247861730686 ; last_regret=0.7207929279507992\n",
      "l_star=10 ; regret_mix=0.704932784095562 ; last_regret=0.8743761051642646\n",
      "l_star=8 ; regret_mix=0.4080053392880736 ; "
     ]
    },
    {
     "name": "stderr",
     "output_type": "stream",
     "text": [
      "\u001B[32m[I 2023-05-13 20:00:54,923]\u001B[0m Trial 106 finished with value: 1.763522077099619 and parameters: {'beta_f': 0.6413573033472402, 'beta_r': 0.9175780988396957, 'lr_f': 0.2563679313040834, 'lr_r': 0.981296908491018, 'stop_frac_r': 6, 'avg_frac_r': 8}. Best is trial 41 with value: 1.6653654772101922.\u001B[0m\n"
     ]
    },
    {
     "name": "stdout",
     "output_type": "stream",
     "text": [
      "last_regret=0.5283815811891164\n",
      "l_star=9 ; regret_mix=0.5092712963473482 ; last_regret=0.6373848109016004\n",
      "l_star=11 ; regret_mix=0.519542631913008 ; last_regret=0.6453684898812845\n",
      "l_star=10 ; regret_mix=0.6633349208201937 ; last_regret=0.8223233943635418\n",
      "l_star=11 ; regret_mix=0.7003196070595775 ; last_regret=0.849665973358506\n",
      "l_star=10 ; regret_mix=0.7188468681644543 ; last_regret=0.8748478917744908\n",
      "l_star=9 ; regret_mix=0.4954877009331321 ; last_regret=0.5842360620514098\n",
      "l_star=12 ; regret_mix=0.6759191765103053 ; last_regret=0.7893111580125469\n",
      "l_star=13 ; regret_mix=0.7439971712833676 ; last_regret=0.8758985242897264\n",
      "l_star=10 ; regret_mix=0.6355135446366086 ; last_regret=0.7975469558375167\n",
      "l_star=10 ; regret_mix=0.5552987786306967 ; "
     ]
    },
    {
     "name": "stderr",
     "output_type": "stream",
     "text": [
      "\u001B[32m[I 2023-05-13 20:05:32,999]\u001B[0m Trial 107 finished with value: 1.9364037052221659 and parameters: {'beta_f': 0.6487594725767384, 'beta_r': 0.9061226885358391, 'lr_f': 0.1469733445697184, 'lr_r': 0.9794944548747696, 'stop_frac_r': 6, 'avg_frac_r': 8}. Best is trial 41 with value: 1.6653654772101922.\u001B[0m\n"
     ]
    },
    {
     "name": "stdout",
     "output_type": "stream",
     "text": [
      "last_regret=0.6650836591665882\n",
      "l_star=9 ; regret_mix=0.5821137603573928 ; last_regret=0.7123888728796319\n",
      "l_star=12 ; regret_mix=0.7178985684861714 ; last_regret=0.8344433013278177\n",
      "l_star=10 ; regret_mix=0.6377393576184391 ; last_regret=0.7486104927606376\n",
      "l_star=14 ; regret_mix=0.676612497995078 ; last_regret=0.7933145088111633\n",
      "l_star=11 ; regret_mix=0.7375778229990811 ; last_regret=0.8881852457049784\n",
      "l_star=11 ; regret_mix=0.7465333014179513 ; last_regret=0.9018647917591789\n",
      "l_star=11 ; regret_mix=0.6025595135528764 ; last_regret=0.7227591193071323\n",
      "l_star=11 ; regret_mix=0.7185238949027763 ; last_regret=0.8335141452258816\n",
      "l_star=9 ; regret_mix=0.4941182210346015 ; last_regret=0.6344629434437694\n",
      "l_star=10 ; regret_mix=0.6594154570448483 ; "
     ]
    },
    {
     "name": "stderr",
     "output_type": "stream",
     "text": [
      "\u001B[32m[I 2023-05-13 20:10:13,046]\u001B[0m Trial 108 finished with value: 1.7979761288131382 and parameters: {'beta_f': 0.680202220174321, 'beta_r': 0.945956759510327, 'lr_f': 0.296361147981559, 'lr_r': 0.9541044113634944, 'stop_frac_r': 6, 'avg_frac_r': 8}. Best is trial 41 with value: 1.6653654772101922.\u001B[0m\n"
     ]
    },
    {
     "name": "stdout",
     "output_type": "stream",
     "text": [
      "last_regret=0.7823848283972568\n",
      "l_star=12 ; regret_mix=0.6669245757765544 ; last_regret=0.7652610786329612\n",
      "l_star=11 ; regret_mix=0.6314497061250509 ; last_regret=0.7425383902946701\n",
      "l_star=11 ; regret_mix=0.6693250055672114 ; last_regret=0.8182847481366422\n",
      "l_star=10 ; regret_mix=0.5813357393773456 ; last_regret=0.6927174838539801\n",
      "l_star=11 ; regret_mix=0.5294926818677358 ; last_regret=0.6224920524140533\n",
      "l_star=10 ; regret_mix=0.6096430203612103 ; last_regret=0.7572144919486686\n",
      "l_star=9 ; regret_mix=0.738113748181644 ; last_regret=0.9454811492746321\n",
      "l_star=11 ; regret_mix=0.6111227247934604 ; last_regret=0.7114341339849514\n",
      "l_star=10 ; regret_mix=0.5903151592509939 ; last_regret=0.7330970382975805\n",
      "l_star=11 ; regret_mix=0.6261125976155932 ; "
     ]
    },
    {
     "name": "stderr",
     "output_type": "stream",
     "text": [
      "\u001B[32m[I 2023-05-13 20:14:42,910]\u001B[0m Trial 109 finished with value: 1.867918291859752 and parameters: {'beta_f': 0.6374554416538377, 'beta_r': 0.9193296366379241, 'lr_f': 0.7088852297605612, 'lr_r': 0.9114561404506928, 'stop_frac_r': 7, 'avg_frac_r': 8}. Best is trial 41 with value: 1.6653654772101922.\u001B[0m\n"
     ]
    },
    {
     "name": "stdout",
     "output_type": "stream",
     "text": [
      "last_regret=0.7626739835382247\n",
      "l_star=9 ; regret_mix=0.6585378638834947 ; last_regret=0.8776348612880296\n",
      "l_star=11 ; regret_mix=0.7033789987638221 ; last_regret=0.9681012595608568\n",
      "l_star=11 ; regret_mix=0.6548489945127163 ; last_regret=0.8183557910282888\n",
      "l_star=9 ; regret_mix=0.4850514469226368 ; last_regret=0.604810686901269\n",
      "l_star=12 ; regret_mix=0.5498662254498706 ; last_regret=0.659804485220094\n",
      "l_star=11 ; regret_mix=0.682710227745205 ; last_regret=0.8463990528266393\n",
      "l_star=11 ; regret_mix=0.5592027321115571 ; last_regret=0.6814359059404573\n",
      "l_star=9 ; regret_mix=0.44636514202171723 ; last_regret=0.5597176454026235\n",
      "l_star=13 ; regret_mix=0.6147613782886072 ; last_regret=0.7571197662962642\n",
      "l_star=9 ; regret_mix=0.6169252476872297 ; "
     ]
    },
    {
     "name": "stderr",
     "output_type": "stream",
     "text": [
      "\u001B[32m[I 2023-05-13 20:19:29,512]\u001B[0m Trial 110 finished with value: 2.3724334895149686 and parameters: {'beta_f': 0.6925408702234553, 'beta_r': 0.803045488532796, 'lr_f': 0.10399433731215846, 'lr_r': 0.9455601786424224, 'stop_frac_r': 6, 'avg_frac_r': 8}. Best is trial 41 with value: 1.6653654772101922.\u001B[0m\n"
     ]
    },
    {
     "name": "stdout",
     "output_type": "stream",
     "text": [
      "last_regret=0.8267624131835132\n",
      "l_star=11 ; regret_mix=0.6547088051915239 ; last_regret=0.766127809147122\n",
      "l_star=12 ; regret_mix=0.6380487244656227 ; last_regret=0.765486855677046\n",
      "l_star=11 ; regret_mix=0.605629897239914 ; last_regret=0.6992395571640542\n",
      "l_star=10 ; regret_mix=0.6597183168172805 ; last_regret=0.8273221648217659\n",
      "l_star=13 ; regret_mix=0.6251445879703164 ; last_regret=0.7476822721854937\n",
      "l_star=10 ; regret_mix=0.7357648490295208 ; last_regret=0.8893883768938365\n",
      "l_star=12 ; regret_mix=0.6236761423024133 ; last_regret=0.7233678986222591\n",
      "l_star=10 ; regret_mix=0.6261519322789361 ; last_regret=0.7412696650577016\n",
      "l_star=11 ; regret_mix=0.40425668045512075 ; last_regret=0.5007984552012159\n",
      "l_star=13 ; regret_mix=0.610357913626646 ; "
     ]
    },
    {
     "name": "stderr",
     "output_type": "stream",
     "text": [
      "\u001B[32m[I 2023-05-13 20:24:06,541]\u001B[0m Trial 111 finished with value: 1.7904467222015468 and parameters: {'beta_f': 0.6712876292063835, 'beta_r': 0.9896876977054018, 'lr_f': 0.2565137978967801, 'lr_r': 0.9852451876854701, 'stop_frac_r': 8, 'avg_frac_r': 8}. Best is trial 41 with value: 1.6653654772101922.\u001B[0m\n"
     ]
    },
    {
     "name": "stdout",
     "output_type": "stream",
     "text": [
      "last_regret=0.7316486457037106\n",
      "l_star=11 ; regret_mix=0.6476625028753359 ; last_regret=0.7855275380605082\n",
      "l_star=10 ; regret_mix=0.5403412500987814 ; last_regret=0.6588925952880581\n",
      "l_star=9 ; regret_mix=0.6103572548128433 ; last_regret=0.7865736082008444\n",
      "l_star=11 ; regret_mix=0.7262402057800234 ; last_regret=0.8542755215602923\n",
      "l_star=11 ; regret_mix=0.65777558769119 ; last_regret=0.8428623095042843\n",
      "l_star=10 ; regret_mix=0.5626837930064719 ; last_regret=0.6814831415491929\n",
      "l_star=13 ; regret_mix=0.7091236373666536 ; last_regret=0.8265689880352906\n",
      "l_star=11 ; regret_mix=0.6068934150914409 ; last_regret=0.714982374919788\n",
      "l_star=12 ; regret_mix=0.5607430911992816 ; last_regret=0.6717483441446482\n",
      "l_star=12 ; regret_mix=0.6701032446299368 ; "
     ]
    },
    {
     "name": "stderr",
     "output_type": "stream",
     "text": [
      "\u001B[32m[I 2023-05-13 20:28:40,489]\u001B[0m Trial 112 finished with value: 1.9315237468633026 and parameters: {'beta_f': 0.6218965475269367, 'beta_r': 0.971828197262595, 'lr_f': 0.6147889540114077, 'lr_r': 0.9003534130182868, 'stop_frac_r': 7, 'avg_frac_r': 8}. Best is trial 41 with value: 1.6653654772101922.\u001B[0m\n"
     ]
    },
    {
     "name": "stdout",
     "output_type": "stream",
     "text": [
      "last_regret=0.8078066167386829\n",
      "l_star=11 ; regret_mix=0.6995886689161439 ; last_regret=0.8116640647276381\n",
      "l_star=11 ; regret_mix=0.5116430131105357 ; last_regret=0.6173465555450725\n",
      "l_star=10 ; regret_mix=0.7143916710576599 ; last_regret=0.884201864107894\n",
      "l_star=10 ; regret_mix=0.6047880899276207 ; last_regret=0.7019387333105185\n",
      "l_star=9 ; regret_mix=0.3812253774641323 ; last_regret=0.4848358967104492\n",
      "l_star=12 ; regret_mix=0.5800937934445337 ; last_regret=0.6843160750594564\n",
      "l_star=11 ; regret_mix=0.7048568348110326 ; last_regret=0.8230672914984101\n",
      "l_star=11 ; regret_mix=0.6300365033078001 ; last_regret=0.7750381020124878\n",
      "l_star=13 ; regret_mix=0.24716707845176292 ; last_regret=0.33067317115091593\n",
      "l_star=10 ; regret_mix=0.6289422302297666 ; "
     ]
    },
    {
     "name": "stderr",
     "output_type": "stream",
     "text": [
      "\u001B[32m[I 2023-05-13 20:33:15,975]\u001B[0m Trial 113 finished with value: 1.9268108969799094 and parameters: {'beta_f': 0.7108299700841922, 'beta_r': 0.9320719524106416, 'lr_f': 0.6379723366121866, 'lr_r': 0.9236499105227971, 'stop_frac_r': 6, 'avg_frac_r': 8}. Best is trial 41 with value: 1.6653654772101922.\u001B[0m\n"
     ]
    },
    {
     "name": "stdout",
     "output_type": "stream",
     "text": [
      "last_regret=0.7449651382792682\n",
      "l_star=11 ; regret_mix=0.6100383027104744 ; "
     ]
    },
    {
     "name": "stderr",
     "output_type": "stream",
     "text": [
      "\u001B[33m[W 2023-05-13 20:33:22,690]\u001B[0m Trial 114 failed because of the following error: KeyboardInterrupt()\u001B[0m\n",
      "Traceback (most recent call last):\n",
      "  File \"C:\\Users\\neria\\PycharmProjects\\AOFBot\\lib\\site-packages\\optuna\\study\\_optimize.py\", line 196, in _run_trial\n",
      "    value_or_values = func(trial)\n",
      "  File \"<ipython-input-2-f2b6b0ead7c7>\", line 12, in optuna_optimize_algorithm\n",
      "    avg_frac_r=avg_frac, stop_frac_r=stop_frac)\n",
      "  File \"C:\\Users\\neria\\Desktop\\masters\\thesis material\\paper-optimization-algorithm\\mse\\steps.py\", line 182, in run_algorithm\n",
      "    avg_frac_r=avg_frac_r, stop_frac_r=stop_frac_r)\n",
      "  File \"C:\\Users\\neria\\Desktop\\masters\\thesis material\\paper-optimization-algorithm\\mse\\steps.py\", line 141, in algorithm\n",
      "    new_f, p, regret = find_final_f(sigma=sigma, S=S, R=R, p=p, lr=lr_r)\n",
      "  File \"C:\\Users\\neria\\Desktop\\masters\\thesis material\\paper-optimization-algorithm\\mse\\steps.py\", line 22, in find_final_f\n",
      "    f_new = project_f(f=f_new, S=S)\n",
      "  File \"C:\\Users\\neria\\Desktop\\masters\\thesis material\\paper-optimization-algorithm\\mse\\steps.py\", line 9, in project_f\n",
      "    return f / np.linalg.norm(matrix_power(A=S, p=-0.5) @ f)\n",
      "  File \"C:\\Users\\neria\\Desktop\\masters\\thesis material\\paper-optimization-algorithm\\mse\\utils.py\", line 102, in matrix_power\n",
      "    D, U = np.linalg.eig(A)\n",
      "  File \"<__array_function__ internals>\", line 6, in eig\n",
      "  File \"C:\\Users\\neria\\PycharmProjects\\AOFBot\\lib\\site-packages\\numpy\\linalg\\linalg.py\", line 1324, in eig\n",
      "    w, vt = _umath_linalg.eig(a, signature=signature, extobj=extobj)\n",
      "KeyboardInterrupt\n"
     ]
    },
    {
     "ename": "KeyboardInterrupt",
     "evalue": "",
     "output_type": "error",
     "traceback": [
      "\u001B[1;31m---------------------------------------------------------------------------\u001B[0m",
      "\u001B[1;31mKeyboardInterrupt\u001B[0m                         Traceback (most recent call last)",
      "\u001B[1;32m<ipython-input-3-2982cd921d0e>\u001B[0m in \u001B[0;36m<module>\u001B[1;34m\u001B[0m\n\u001B[0;32m     12\u001B[0m                                 \u001B[0mstorage\u001B[0m\u001B[1;33m=\u001B[0m\u001B[1;34mf'sqlite:///./../optuna/{name}.db '\u001B[0m\u001B[1;33m,\u001B[0m\u001B[1;33m\u001B[0m\u001B[1;33m\u001B[0m\u001B[0m\n\u001B[0;32m     13\u001B[0m                                 direction='minimize', load_if_exists=True)\n\u001B[1;32m---> 14\u001B[1;33m     \u001B[0mstudy\u001B[0m\u001B[1;33m.\u001B[0m\u001B[0moptimize\u001B[0m\u001B[1;33m(\u001B[0m\u001B[0moptuna_optimize_algorithm\u001B[0m\u001B[1;33m,\u001B[0m \u001B[0mn_trials\u001B[0m\u001B[1;33m=\u001B[0m\u001B[1;36m100\u001B[0m\u001B[1;33m)\u001B[0m\u001B[1;33m\u001B[0m\u001B[1;33m\u001B[0m\u001B[0m\n\u001B[0m\u001B[0;32m     15\u001B[0m \u001B[1;33m\u001B[0m\u001B[0m\n",
      "\u001B[1;32m~\\PycharmProjects\\AOFBot\\lib\\site-packages\\optuna\\study\\study.py\u001B[0m in \u001B[0;36moptimize\u001B[1;34m(self, func, n_trials, timeout, n_jobs, catch, callbacks, gc_after_trial, show_progress_bar)\u001B[0m\n\u001B[0;32m    426\u001B[0m             \u001B[0mcallbacks\u001B[0m\u001B[1;33m=\u001B[0m\u001B[0mcallbacks\u001B[0m\u001B[1;33m,\u001B[0m\u001B[1;33m\u001B[0m\u001B[1;33m\u001B[0m\u001B[0m\n\u001B[0;32m    427\u001B[0m             \u001B[0mgc_after_trial\u001B[0m\u001B[1;33m=\u001B[0m\u001B[0mgc_after_trial\u001B[0m\u001B[1;33m,\u001B[0m\u001B[1;33m\u001B[0m\u001B[1;33m\u001B[0m\u001B[0m\n\u001B[1;32m--> 428\u001B[1;33m             \u001B[0mshow_progress_bar\u001B[0m\u001B[1;33m=\u001B[0m\u001B[0mshow_progress_bar\u001B[0m\u001B[1;33m,\u001B[0m\u001B[1;33m\u001B[0m\u001B[1;33m\u001B[0m\u001B[0m\n\u001B[0m\u001B[0;32m    429\u001B[0m         )\n\u001B[0;32m    430\u001B[0m \u001B[1;33m\u001B[0m\u001B[0m\n",
      "\u001B[1;32m~\\PycharmProjects\\AOFBot\\lib\\site-packages\\optuna\\study\\_optimize.py\u001B[0m in \u001B[0;36m_optimize\u001B[1;34m(study, func, n_trials, timeout, n_jobs, catch, callbacks, gc_after_trial, show_progress_bar)\u001B[0m\n\u001B[0;32m     74\u001B[0m                 \u001B[0mreseed_sampler_rng\u001B[0m\u001B[1;33m=\u001B[0m\u001B[1;32mFalse\u001B[0m\u001B[1;33m,\u001B[0m\u001B[1;33m\u001B[0m\u001B[1;33m\u001B[0m\u001B[0m\n\u001B[0;32m     75\u001B[0m                 \u001B[0mtime_start\u001B[0m\u001B[1;33m=\u001B[0m\u001B[1;32mNone\u001B[0m\u001B[1;33m,\u001B[0m\u001B[1;33m\u001B[0m\u001B[1;33m\u001B[0m\u001B[0m\n\u001B[1;32m---> 76\u001B[1;33m                 \u001B[0mprogress_bar\u001B[0m\u001B[1;33m=\u001B[0m\u001B[0mprogress_bar\u001B[0m\u001B[1;33m,\u001B[0m\u001B[1;33m\u001B[0m\u001B[1;33m\u001B[0m\u001B[0m\n\u001B[0m\u001B[0;32m     77\u001B[0m             )\n\u001B[0;32m     78\u001B[0m         \u001B[1;32melse\u001B[0m\u001B[1;33m:\u001B[0m\u001B[1;33m\u001B[0m\u001B[1;33m\u001B[0m\u001B[0m\n",
      "\u001B[1;32m~\\PycharmProjects\\AOFBot\\lib\\site-packages\\optuna\\study\\_optimize.py\u001B[0m in \u001B[0;36m_optimize_sequential\u001B[1;34m(study, func, n_trials, timeout, catch, callbacks, gc_after_trial, reseed_sampler_rng, time_start, progress_bar)\u001B[0m\n\u001B[0;32m    158\u001B[0m \u001B[1;33m\u001B[0m\u001B[0m\n\u001B[0;32m    159\u001B[0m         \u001B[1;32mtry\u001B[0m\u001B[1;33m:\u001B[0m\u001B[1;33m\u001B[0m\u001B[1;33m\u001B[0m\u001B[0m\n\u001B[1;32m--> 160\u001B[1;33m             \u001B[0mfrozen_trial\u001B[0m \u001B[1;33m=\u001B[0m \u001B[0m_run_trial\u001B[0m\u001B[1;33m(\u001B[0m\u001B[0mstudy\u001B[0m\u001B[1;33m,\u001B[0m \u001B[0mfunc\u001B[0m\u001B[1;33m,\u001B[0m \u001B[0mcatch\u001B[0m\u001B[1;33m)\u001B[0m\u001B[1;33m\u001B[0m\u001B[1;33m\u001B[0m\u001B[0m\n\u001B[0m\u001B[0;32m    161\u001B[0m         \u001B[1;32mfinally\u001B[0m\u001B[1;33m:\u001B[0m\u001B[1;33m\u001B[0m\u001B[1;33m\u001B[0m\u001B[0m\n\u001B[0;32m    162\u001B[0m             \u001B[1;31m# The following line mitigates memory problems that can be occurred in some\u001B[0m\u001B[1;33m\u001B[0m\u001B[1;33m\u001B[0m\u001B[1;33m\u001B[0m\u001B[0m\n",
      "\u001B[1;32m~\\PycharmProjects\\AOFBot\\lib\\site-packages\\optuna\\study\\_optimize.py\u001B[0m in \u001B[0;36m_run_trial\u001B[1;34m(study, func, catch)\u001B[0m\n\u001B[0;32m    232\u001B[0m         \u001B[1;32mand\u001B[0m \u001B[1;32mnot\u001B[0m \u001B[0misinstance\u001B[0m\u001B[1;33m(\u001B[0m\u001B[0mfunc_err\u001B[0m\u001B[1;33m,\u001B[0m \u001B[0mcatch\u001B[0m\u001B[1;33m)\u001B[0m\u001B[1;33m\u001B[0m\u001B[1;33m\u001B[0m\u001B[0m\n\u001B[0;32m    233\u001B[0m     ):\n\u001B[1;32m--> 234\u001B[1;33m         \u001B[1;32mraise\u001B[0m \u001B[0mfunc_err\u001B[0m\u001B[1;33m\u001B[0m\u001B[1;33m\u001B[0m\u001B[0m\n\u001B[0m\u001B[0;32m    235\u001B[0m     \u001B[1;32mreturn\u001B[0m \u001B[0mfrozen_trial\u001B[0m\u001B[1;33m\u001B[0m\u001B[1;33m\u001B[0m\u001B[0m\n\u001B[0;32m    236\u001B[0m \u001B[1;33m\u001B[0m\u001B[0m\n",
      "\u001B[1;32m~\\PycharmProjects\\AOFBot\\lib\\site-packages\\optuna\\study\\_optimize.py\u001B[0m in \u001B[0;36m_run_trial\u001B[1;34m(study, func, catch)\u001B[0m\n\u001B[0;32m    194\u001B[0m     \u001B[1;32mwith\u001B[0m \u001B[0mget_heartbeat_thread\u001B[0m\u001B[1;33m(\u001B[0m\u001B[0mtrial\u001B[0m\u001B[1;33m.\u001B[0m\u001B[0m_trial_id\u001B[0m\u001B[1;33m,\u001B[0m \u001B[0mstudy\u001B[0m\u001B[1;33m.\u001B[0m\u001B[0m_storage\u001B[0m\u001B[1;33m)\u001B[0m\u001B[1;33m:\u001B[0m\u001B[1;33m\u001B[0m\u001B[1;33m\u001B[0m\u001B[0m\n\u001B[0;32m    195\u001B[0m         \u001B[1;32mtry\u001B[0m\u001B[1;33m:\u001B[0m\u001B[1;33m\u001B[0m\u001B[1;33m\u001B[0m\u001B[0m\n\u001B[1;32m--> 196\u001B[1;33m             \u001B[0mvalue_or_values\u001B[0m \u001B[1;33m=\u001B[0m \u001B[0mfunc\u001B[0m\u001B[1;33m(\u001B[0m\u001B[0mtrial\u001B[0m\u001B[1;33m)\u001B[0m\u001B[1;33m\u001B[0m\u001B[1;33m\u001B[0m\u001B[0m\n\u001B[0m\u001B[0;32m    197\u001B[0m         \u001B[1;32mexcept\u001B[0m \u001B[0mexceptions\u001B[0m\u001B[1;33m.\u001B[0m\u001B[0mTrialPruned\u001B[0m \u001B[1;32mas\u001B[0m \u001B[0me\u001B[0m\u001B[1;33m:\u001B[0m\u001B[1;33m\u001B[0m\u001B[1;33m\u001B[0m\u001B[0m\n\u001B[0;32m    198\u001B[0m             \u001B[1;31m# TODO(mamu): Handle multi-objective cases.\u001B[0m\u001B[1;33m\u001B[0m\u001B[1;33m\u001B[0m\u001B[1;33m\u001B[0m\u001B[0m\n",
      "\u001B[1;32m<ipython-input-2-f2b6b0ead7c7>\u001B[0m in \u001B[0;36moptuna_optimize_algorithm\u001B[1;34m(trial)\u001B[0m\n\u001B[0;32m     10\u001B[0m     regret_list, regret_mix_list = run_algorithm(d=d, r=r, m=m, sigma_type=sigma_type, s_type=s_type, times=times,\n\u001B[0;32m     11\u001B[0m                                                  \u001B[0md_sigma\u001B[0m\u001B[1;33m=\u001B[0m\u001B[0md_sigma\u001B[0m\u001B[1;33m,\u001B[0m \u001B[0mT_r\u001B[0m\u001B[1;33m=\u001B[0m\u001B[0mT_r\u001B[0m\u001B[1;33m,\u001B[0m \u001B[0mbeta_f\u001B[0m\u001B[1;33m=\u001B[0m\u001B[0mbeta_f\u001B[0m\u001B[1;33m,\u001B[0m \u001B[0mbeta_r\u001B[0m\u001B[1;33m=\u001B[0m\u001B[0mbeta_r\u001B[0m\u001B[1;33m,\u001B[0m \u001B[0mlr_f\u001B[0m\u001B[1;33m=\u001B[0m\u001B[0mlr_f\u001B[0m\u001B[1;33m,\u001B[0m \u001B[0mlr_r\u001B[0m\u001B[1;33m=\u001B[0m\u001B[0mlr_r\u001B[0m\u001B[1;33m,\u001B[0m\u001B[1;33m\u001B[0m\u001B[1;33m\u001B[0m\u001B[0m\n\u001B[1;32m---> 12\u001B[1;33m                                                  avg_frac_r=avg_frac, stop_frac_r=stop_frac)\n\u001B[0m\u001B[0;32m     13\u001B[0m \u001B[1;33m\u001B[0m\u001B[0m\n\u001B[0;32m     14\u001B[0m     \u001B[1;32mreturn\u001B[0m \u001B[0msum\u001B[0m\u001B[1;33m(\u001B[0m\u001B[0mabs\u001B[0m\u001B[1;33m(\u001B[0m\u001B[0mnp\u001B[0m\u001B[1;33m.\u001B[0m\u001B[0mlog\u001B[0m\u001B[1;33m(\u001B[0m\u001B[0mregret_list\u001B[0m\u001B[1;33m.\u001B[0m\u001B[0mmin\u001B[0m\u001B[1;33m(\u001B[0m\u001B[0maxis\u001B[0m\u001B[1;33m=\u001B[0m\u001B[1;36m1\u001B[0m\u001B[1;33m)\u001B[0m \u001B[1;33m/\u001B[0m \u001B[0mregret_mix_list\u001B[0m\u001B[1;33m)\u001B[0m\u001B[1;33m)\u001B[0m\u001B[1;33m)\u001B[0m\u001B[1;33m\u001B[0m\u001B[1;33m\u001B[0m\u001B[0m\n",
      "\u001B[1;32m~\\Desktop\\masters\\thesis material\\paper-optimization-algorithm\\mse\\steps.py\u001B[0m in \u001B[0;36mrun_algorithm\u001B[1;34m(d, r, m, sigma_type, s_type, times, d_sigma, T_r, beta_f, beta_r, lr_f, lr_r, avg_frac_r, stop_frac_r)\u001B[0m\n\u001B[0;32m    180\u001B[0m         R, f, regrets = algorithm(sigma=sigma, S=get_pdm(d=d, type=matrix_type.IDENTITY), m=m, r=r, T_r=T_r,\n\u001B[0;32m    181\u001B[0m                                   \u001B[0mbeta_f\u001B[0m\u001B[1;33m=\u001B[0m\u001B[0mbeta_f\u001B[0m\u001B[1;33m,\u001B[0m \u001B[0mbeta_r\u001B[0m\u001B[1;33m=\u001B[0m\u001B[0mbeta_r\u001B[0m\u001B[1;33m,\u001B[0m \u001B[0mlr_f\u001B[0m\u001B[1;33m=\u001B[0m\u001B[0mlr_f\u001B[0m\u001B[1;33m,\u001B[0m \u001B[0mlr_r\u001B[0m\u001B[1;33m=\u001B[0m\u001B[0mlr_r\u001B[0m\u001B[1;33m,\u001B[0m\u001B[1;33m\u001B[0m\u001B[1;33m\u001B[0m\u001B[0m\n\u001B[1;32m--> 182\u001B[1;33m                                   avg_frac_r=avg_frac_r, stop_frac_r=stop_frac_r)\n\u001B[0m\u001B[0;32m    183\u001B[0m \u001B[1;33m\u001B[0m\u001B[0m\n\u001B[0;32m    184\u001B[0m         \u001B[0mregret_list\u001B[0m\u001B[1;33m[\u001B[0m\u001B[0mi\u001B[0m\u001B[1;33m,\u001B[0m \u001B[1;33m:\u001B[0m\u001B[1;33m]\u001B[0m \u001B[1;33m=\u001B[0m \u001B[0mnp\u001B[0m\u001B[1;33m.\u001B[0m\u001B[0marray\u001B[0m\u001B[1;33m(\u001B[0m\u001B[0mregrets\u001B[0m\u001B[1;33m)\u001B[0m\u001B[1;33m\u001B[0m\u001B[1;33m\u001B[0m\u001B[0m\n",
      "\u001B[1;32m~\\Desktop\\masters\\thesis material\\paper-optimization-algorithm\\mse\\steps.py\u001B[0m in \u001B[0;36malgorithm\u001B[1;34m(sigma, S, m, r, beta_f, beta_r, T_r, lr_f, lr_r, avg_frac_r, stop_frac_r)\u001B[0m\n\u001B[0;32m    139\u001B[0m \u001B[1;33m\u001B[0m\u001B[0m\n\u001B[0;32m    140\u001B[0m     \u001B[1;32mfor\u001B[0m \u001B[0mi\u001B[0m \u001B[1;32min\u001B[0m \u001B[0mrange\u001B[0m\u001B[1;33m(\u001B[0m\u001B[0mm\u001B[0m\u001B[1;33m)\u001B[0m\u001B[1;33m:\u001B[0m\u001B[1;33m\u001B[0m\u001B[1;33m\u001B[0m\u001B[0m\n\u001B[1;32m--> 141\u001B[1;33m         \u001B[0mnew_f\u001B[0m\u001B[1;33m,\u001B[0m \u001B[0mp\u001B[0m\u001B[1;33m,\u001B[0m \u001B[0mregret\u001B[0m \u001B[1;33m=\u001B[0m \u001B[0mfind_final_f\u001B[0m\u001B[1;33m(\u001B[0m\u001B[0msigma\u001B[0m\u001B[1;33m=\u001B[0m\u001B[0msigma\u001B[0m\u001B[1;33m,\u001B[0m \u001B[0mS\u001B[0m\u001B[1;33m=\u001B[0m\u001B[0mS\u001B[0m\u001B[1;33m,\u001B[0m \u001B[0mR\u001B[0m\u001B[1;33m=\u001B[0m\u001B[0mR\u001B[0m\u001B[1;33m,\u001B[0m \u001B[0mp\u001B[0m\u001B[1;33m=\u001B[0m\u001B[0mp\u001B[0m\u001B[1;33m,\u001B[0m \u001B[0mlr\u001B[0m\u001B[1;33m=\u001B[0m\u001B[0mlr_r\u001B[0m\u001B[1;33m)\u001B[0m\u001B[1;33m\u001B[0m\u001B[1;33m\u001B[0m\u001B[0m\n\u001B[0m\u001B[0;32m    142\u001B[0m \u001B[1;33m\u001B[0m\u001B[0m\n\u001B[0;32m    143\u001B[0m         \u001B[0mregrets\u001B[0m\u001B[1;33m[\u001B[0m\u001B[0mi\u001B[0m\u001B[1;33m+\u001B[0m\u001B[1;36m1\u001B[0m\u001B[1;33m]\u001B[0m \u001B[1;33m=\u001B[0m \u001B[0mregret\u001B[0m\u001B[1;33m\u001B[0m\u001B[1;33m\u001B[0m\u001B[0m\n",
      "\u001B[1;32m~\\Desktop\\masters\\thesis material\\paper-optimization-algorithm\\mse\\steps.py\u001B[0m in \u001B[0;36mfind_final_f\u001B[1;34m(sigma, S, R, p, lr, tol)\u001B[0m\n\u001B[0;32m     20\u001B[0m         \u001B[0mpg_f\u001B[0m \u001B[1;33m=\u001B[0m \u001B[0mpartial_grad_f\u001B[0m\u001B[1;33m(\u001B[0m\u001B[0msigma\u001B[0m\u001B[1;33m=\u001B[0m\u001B[0msigma\u001B[0m\u001B[1;33m,\u001B[0m \u001B[0mf_i\u001B[0m\u001B[1;33m=\u001B[0m\u001B[0mf_new\u001B[0m\u001B[1;33m,\u001B[0m \u001B[0mR\u001B[0m\u001B[1;33m=\u001B[0m\u001B[0mR\u001B[0m\u001B[1;33m,\u001B[0m \u001B[0mp\u001B[0m\u001B[1;33m=\u001B[0m\u001B[0mp\u001B[0m\u001B[1;33m,\u001B[0m \u001B[0mQ_i\u001B[0m\u001B[1;33m=\u001B[0m\u001B[0mQ\u001B[0m\u001B[1;33m[\u001B[0m\u001B[1;33m:\u001B[0m\u001B[1;33m,\u001B[0m \u001B[1;36m0\u001B[0m\u001B[1;33m]\u001B[0m\u001B[1;33m)\u001B[0m\u001B[1;33m\u001B[0m\u001B[1;33m\u001B[0m\u001B[0m\n\u001B[0;32m     21\u001B[0m         \u001B[0mf_new\u001B[0m \u001B[1;33m=\u001B[0m \u001B[0mf_new\u001B[0m \u001B[1;33m+\u001B[0m \u001B[0mlr\u001B[0m \u001B[1;33m*\u001B[0m \u001B[0mpg_f\u001B[0m\u001B[1;33m\u001B[0m\u001B[1;33m\u001B[0m\u001B[0m\n\u001B[1;32m---> 22\u001B[1;33m         \u001B[0mf_new\u001B[0m \u001B[1;33m=\u001B[0m \u001B[0mproject_f\u001B[0m\u001B[1;33m(\u001B[0m\u001B[0mf\u001B[0m\u001B[1;33m=\u001B[0m\u001B[0mf_new\u001B[0m\u001B[1;33m,\u001B[0m \u001B[0mS\u001B[0m\u001B[1;33m=\u001B[0m\u001B[0mS\u001B[0m\u001B[1;33m)\u001B[0m\u001B[1;33m\u001B[0m\u001B[1;33m\u001B[0m\u001B[0m\n\u001B[0m\u001B[0;32m     23\u001B[0m         \u001B[1;32mif\u001B[0m \u001B[0mnp\u001B[0m\u001B[1;33m.\u001B[0m\u001B[0mlinalg\u001B[0m\u001B[1;33m.\u001B[0m\u001B[0mnorm\u001B[0m\u001B[1;33m(\u001B[0m\u001B[1;33m(\u001B[0m\u001B[0mf_new\u001B[0m \u001B[1;33m-\u001B[0m \u001B[0mf_prev\u001B[0m\u001B[1;33m)\u001B[0m \u001B[1;33m/\u001B[0m \u001B[0mlr\u001B[0m\u001B[1;33m)\u001B[0m \u001B[1;33m<\u001B[0m \u001B[0mtol\u001B[0m\u001B[1;33m:\u001B[0m\u001B[1;33m\u001B[0m\u001B[1;33m\u001B[0m\u001B[0m\n\u001B[0;32m     24\u001B[0m             \u001B[1;32mbreak\u001B[0m\u001B[1;33m\u001B[0m\u001B[1;33m\u001B[0m\u001B[0m\n",
      "\u001B[1;32m~\\Desktop\\masters\\thesis material\\paper-optimization-algorithm\\mse\\steps.py\u001B[0m in \u001B[0;36mproject_f\u001B[1;34m(f, S)\u001B[0m\n\u001B[0;32m      7\u001B[0m \u001B[1;33m\u001B[0m\u001B[0m\n\u001B[0;32m      8\u001B[0m \u001B[1;32mdef\u001B[0m \u001B[0mproject_f\u001B[0m\u001B[1;33m(\u001B[0m\u001B[0mf\u001B[0m\u001B[1;33m,\u001B[0m \u001B[0mS\u001B[0m\u001B[1;33m)\u001B[0m\u001B[1;33m:\u001B[0m\u001B[1;33m\u001B[0m\u001B[1;33m\u001B[0m\u001B[0m\n\u001B[1;32m----> 9\u001B[1;33m     \u001B[1;32mreturn\u001B[0m \u001B[0mf\u001B[0m \u001B[1;33m/\u001B[0m \u001B[0mnp\u001B[0m\u001B[1;33m.\u001B[0m\u001B[0mlinalg\u001B[0m\u001B[1;33m.\u001B[0m\u001B[0mnorm\u001B[0m\u001B[1;33m(\u001B[0m\u001B[0mmatrix_power\u001B[0m\u001B[1;33m(\u001B[0m\u001B[0mA\u001B[0m\u001B[1;33m=\u001B[0m\u001B[0mS\u001B[0m\u001B[1;33m,\u001B[0m \u001B[0mp\u001B[0m\u001B[1;33m=\u001B[0m\u001B[1;33m-\u001B[0m\u001B[1;36m0.5\u001B[0m\u001B[1;33m)\u001B[0m \u001B[1;33m@\u001B[0m \u001B[0mf\u001B[0m\u001B[1;33m)\u001B[0m\u001B[1;33m\u001B[0m\u001B[1;33m\u001B[0m\u001B[0m\n\u001B[0m\u001B[0;32m     10\u001B[0m \u001B[1;33m\u001B[0m\u001B[0m\n\u001B[0;32m     11\u001B[0m \u001B[1;33m\u001B[0m\u001B[0m\n",
      "\u001B[1;32m~\\Desktop\\masters\\thesis material\\paper-optimization-algorithm\\mse\\utils.py\u001B[0m in \u001B[0;36mmatrix_power\u001B[1;34m(A, p)\u001B[0m\n\u001B[0;32m    100\u001B[0m \u001B[1;33m\u001B[0m\u001B[0m\n\u001B[0;32m    101\u001B[0m \u001B[1;32mdef\u001B[0m \u001B[0mmatrix_power\u001B[0m\u001B[1;33m(\u001B[0m\u001B[0mA\u001B[0m\u001B[1;33m,\u001B[0m \u001B[0mp\u001B[0m\u001B[1;33m)\u001B[0m\u001B[1;33m:\u001B[0m\u001B[1;33m\u001B[0m\u001B[1;33m\u001B[0m\u001B[0m\n\u001B[1;32m--> 102\u001B[1;33m     \u001B[0mD\u001B[0m\u001B[1;33m,\u001B[0m \u001B[0mU\u001B[0m \u001B[1;33m=\u001B[0m \u001B[0mnp\u001B[0m\u001B[1;33m.\u001B[0m\u001B[0mlinalg\u001B[0m\u001B[1;33m.\u001B[0m\u001B[0meig\u001B[0m\u001B[1;33m(\u001B[0m\u001B[0mA\u001B[0m\u001B[1;33m)\u001B[0m\u001B[1;33m\u001B[0m\u001B[1;33m\u001B[0m\u001B[0m\n\u001B[0m\u001B[0;32m    103\u001B[0m     \u001B[1;32mreturn\u001B[0m \u001B[0mU\u001B[0m \u001B[1;33m@\u001B[0m \u001B[1;33m(\u001B[0m\u001B[0mnp\u001B[0m\u001B[1;33m.\u001B[0m\u001B[0mdiag\u001B[0m\u001B[1;33m(\u001B[0m\u001B[0mD\u001B[0m\u001B[1;33m**\u001B[0m\u001B[0mp\u001B[0m\u001B[1;33m)\u001B[0m\u001B[1;33m)\u001B[0m \u001B[1;33m@\u001B[0m \u001B[0mU\u001B[0m\u001B[1;33m.\u001B[0m\u001B[0mT\u001B[0m\u001B[1;33m\u001B[0m\u001B[1;33m\u001B[0m\u001B[0m\n\u001B[0;32m    104\u001B[0m \u001B[1;33m\u001B[0m\u001B[0m\n",
      "\u001B[1;32m<__array_function__ internals>\u001B[0m in \u001B[0;36meig\u001B[1;34m(*args, **kwargs)\u001B[0m\n",
      "\u001B[1;32m~\\PycharmProjects\\AOFBot\\lib\\site-packages\\numpy\\linalg\\linalg.py\u001B[0m in \u001B[0;36meig\u001B[1;34m(a)\u001B[0m\n\u001B[0;32m   1322\u001B[0m         _raise_linalgerror_eigenvalues_nonconvergence)\n\u001B[0;32m   1323\u001B[0m     \u001B[0msignature\u001B[0m \u001B[1;33m=\u001B[0m \u001B[1;34m'D->DD'\u001B[0m \u001B[1;32mif\u001B[0m \u001B[0misComplexType\u001B[0m\u001B[1;33m(\u001B[0m\u001B[0mt\u001B[0m\u001B[1;33m)\u001B[0m \u001B[1;32melse\u001B[0m \u001B[1;34m'd->DD'\u001B[0m\u001B[1;33m\u001B[0m\u001B[1;33m\u001B[0m\u001B[0m\n\u001B[1;32m-> 1324\u001B[1;33m     \u001B[0mw\u001B[0m\u001B[1;33m,\u001B[0m \u001B[0mvt\u001B[0m \u001B[1;33m=\u001B[0m \u001B[0m_umath_linalg\u001B[0m\u001B[1;33m.\u001B[0m\u001B[0meig\u001B[0m\u001B[1;33m(\u001B[0m\u001B[0ma\u001B[0m\u001B[1;33m,\u001B[0m \u001B[0msignature\u001B[0m\u001B[1;33m=\u001B[0m\u001B[0msignature\u001B[0m\u001B[1;33m,\u001B[0m \u001B[0mextobj\u001B[0m\u001B[1;33m=\u001B[0m\u001B[0mextobj\u001B[0m\u001B[1;33m)\u001B[0m\u001B[1;33m\u001B[0m\u001B[1;33m\u001B[0m\u001B[0m\n\u001B[0m\u001B[0;32m   1325\u001B[0m \u001B[1;33m\u001B[0m\u001B[0m\n\u001B[0;32m   1326\u001B[0m     \u001B[1;32mif\u001B[0m \u001B[1;32mnot\u001B[0m \u001B[0misComplexType\u001B[0m\u001B[1;33m(\u001B[0m\u001B[0mt\u001B[0m\u001B[1;33m)\u001B[0m \u001B[1;32mand\u001B[0m \u001B[0mall\u001B[0m\u001B[1;33m(\u001B[0m\u001B[0mw\u001B[0m\u001B[1;33m.\u001B[0m\u001B[0mimag\u001B[0m \u001B[1;33m==\u001B[0m \u001B[1;36m0.0\u001B[0m\u001B[1;33m)\u001B[0m\u001B[1;33m:\u001B[0m\u001B[1;33m\u001B[0m\u001B[1;33m\u001B[0m\u001B[0m\n",
      "\u001B[1;31mKeyboardInterrupt\u001B[0m: "
     ]
    }
   ],
   "source": [
    "for d_sigma in [1, 3, 5]:\n",
    "    d = 20\n",
    "    r = 5\n",
    "    m = 20\n",
    "    T_r = 100\n",
    "    times = 10\n",
    "    sigma_type = matrix_type.DIAG\n",
    "    s_type = matrix_type.IDENTITY\n",
    "\n",
    "    name = f\"optuna_optimization_d={d}_r={r}_sigma={sigma_type}_s={s_type}_m={m}_Tr={T_r}_var={d_sigma}\"\n",
    "    study = optuna.create_study(study_name=f'{name}',\n",
    "                                storage=f'sqlite:///./../optuna/{name}.db ',\n",
    "                                direction='minimize', load_if_exists=True)\n",
    "    study.optimize(optuna_optimize_algorithm, n_trials=100)"
   ],
   "metadata": {
    "collapsed": false,
    "pycharm": {
     "name": "#%%\n"
    }
   }
  },
  {
   "cell_type": "code",
   "execution_count": 4,
   "outputs": [
    {
     "name": "stderr",
     "output_type": "stream",
     "text": [
      "\u001B[32m[I 2023-05-13 20:33:27,227]\u001B[0m Using an existing study with name 'optuna_optimization_d=20_r=3_sigma=matrix_type.DIAG_s=matrix_type.IDENTITY_m=20_Tr=100_var=5' instead of creating a new one.\u001B[0m\n"
     ]
    },
    {
     "name": "stdout",
     "output_type": "stream",
     "text": [
      "l_star=5 ; regret_mix=0.055997836152805104 ; last_regret=0.06190696528380587\n",
      "l_star=4 ; regret_mix=1.0914386822557756 ; last_regret=1.8837225177280021\n",
      "l_star=4 ; regret_mix=3.658981790823728e-05 ; last_regret=6.84285263566533e-06\n",
      "l_star=5 ; regret_mix=0.6830676499779978 ; last_regret=0.7905394535108733\n",
      "l_star=4 ; regret_mix=0.13594276038488737 ; last_regret=0.15144744525533982\n",
      "l_star=4 ; regret_mix=0.0035380029031646726 ; last_regret=0.00045802395181301746\n",
      "l_star=4 ; regret_mix=0.032791389742566256 ; last_regret=0.035433432406527306\n",
      "l_star=4 ; regret_mix=0.13319015599283576 ; last_regret=0.155105098545039\n",
      "l_star=4 ; regret_mix=0.2686377731360862 ; last_regret=0.2990548318656801\n",
      "l_star=4 ; regret_mix=0.051700812267333376 ; "
     ]
    },
    {
     "name": "stderr",
     "output_type": "stream",
     "text": [
      "\u001B[32m[I 2023-05-13 20:37:19,187]\u001B[0m Trial 22 finished with value: 5.104691981165147 and parameters: {'beta_f': 0.9674598699387198, 'beta_r': 0.5729922172104027, 'lr_f': 0.13188760682508427, 'lr_r': 0.4559793118533434, 'stop_frac_r': 4, 'avg_frac_r': 4}. Best is trial 7 with value: 1.4486528202962867.\u001B[0m\n"
     ]
    },
    {
     "name": "stdout",
     "output_type": "stream",
     "text": [
      "last_regret=0.059855108256874005\n",
      "l_star=4 ; regret_mix=0.5345845075458996 ; last_regret=0.7704651288728616\n",
      "l_star=4 ; regret_mix=0.0002471795070162756 ; last_regret=2.0349695781276227e-05\n",
      "l_star=5 ; regret_mix=0.0333788441654029 ; last_regret=0.0434587978549274\n",
      "l_star=5 ; regret_mix=0.4837793565628541 ; last_regret=0.6164039492183676\n",
      "l_star=4 ; regret_mix=0.7814107159999648 ; last_regret=1.1218098184101175\n",
      "l_star=7 ; regret_mix=0.013645488971095082 ; last_regret=0.020749230320783206\n",
      "l_star=4 ; regret_mix=0.6901074909864452 ; last_regret=1.028858289259614\n",
      "l_star=5 ; regret_mix=0.15816403532819379 ; last_regret=0.17403962531026582\n",
      "l_star=6 ; regret_mix=1.2488503239054607 ; last_regret=1.5927302602017759\n",
      "l_star=5 ; regret_mix=0.7811226147438145 ; "
     ]
    },
    {
     "name": "stderr",
     "output_type": "stream",
     "text": [
      "\u001B[32m[I 2023-05-13 20:40:57,337]\u001B[0m Trial 23 finished with value: 5.140811895627937 and parameters: {'beta_f': 0.7472290095676263, 'beta_r': 0.6075077548654307, 'lr_f': 0.07088121820130927, 'lr_r': 0.6741937188046608, 'stop_frac_r': 9, 'avg_frac_r': 10}. Best is trial 7 with value: 1.4486528202962867.\u001B[0m\n"
     ]
    },
    {
     "name": "stdout",
     "output_type": "stream",
     "text": [
      "last_regret=1.006157504290817\n",
      "l_star=5 ; regret_mix=0.01012370194852718 ; last_regret=0.012603643153757168\n",
      "l_star=5 ; regret_mix=0.6456408386043484 ; last_regret=0.8307557181690585\n",
      "l_star=4 ; regret_mix=0.006630366914862419 ; last_regret=0.007814896225458574\n",
      "l_star=4 ; regret_mix=0.056622467023048136 ; last_regret=0.07179878042093649\n",
      "l_star=4 ; regret_mix=0.34203900166853984 ; last_regret=0.4041980067951624\n",
      "l_star=4 ; regret_mix=0.006813228646052332 ; last_regret=0.011857063005123875\n",
      "l_star=4 ; regret_mix=0.20217527615187741 ; last_regret=0.22246091764496065\n",
      "l_star=5 ; regret_mix=0.30002175421767674 ; last_regret=0.36814232502442845\n",
      "l_star=4 ; regret_mix=0.006435442072525971 ; last_regret=0.009474529173221374\n",
      "l_star=5 ; regret_mix=0.9397601966456693 ; "
     ]
    },
    {
     "name": "stderr",
     "output_type": "stream",
     "text": [
      "\u001B[32m[I 2023-05-13 20:44:50,038]\u001B[0m Trial 24 finished with value: 2.515572423857728 and parameters: {'beta_f': 0.6571548955134168, 'beta_r': 0.7026549415531175, 'lr_f': 0.25080520825156066, 'lr_r': 0.6210697196717949, 'stop_frac_r': 7, 'avg_frac_r': 8}. Best is trial 7 with value: 1.4486528202962867.\u001B[0m\n"
     ]
    },
    {
     "name": "stdout",
     "output_type": "stream",
     "text": [
      "last_regret=1.188098929836498\n",
      "l_star=6 ; regret_mix=0.007988779733781346 ; last_regret=0.012961801426633451\n",
      "l_star=4 ; regret_mix=0.23914870524900758 ; last_regret=0.2956038016983489\n",
      "l_star=4 ; regret_mix=0.003012236650108631 ; last_regret=0.0005669875269135831\n",
      "l_star=4 ; regret_mix=0.9492531789318881 ; last_regret=1.1990025116757859\n",
      "l_star=5 ; regret_mix=1.2866719283489387 ; last_regret=1.5353681012644773\n",
      "l_star=5 ; regret_mix=0.0007663355275052872 ; last_regret=7.01424094108441e-05\n",
      "l_star=4 ; regret_mix=0.009584202771045207 ; last_regret=0.013558470366848225\n",
      "l_star=4 ; regret_mix=0.7175732519868517 ; last_regret=0.8887540056064756\n",
      "l_star=4 ; regret_mix=0.10740297776726229 ; last_regret=0.12476884081786789\n",
      "l_star=8 ; regret_mix=0.9428317608855677 ; "
     ]
    },
    {
     "name": "stderr",
     "output_type": "stream",
     "text": [
      "\u001B[32m[I 2023-05-13 20:48:22,822]\u001B[0m Trial 25 finished with value: 6.088195298836508 and parameters: {'beta_f': 0.5994983898727069, 'beta_r': 0.7039202283879543, 'lr_f': 0.23357602491174628, 'lr_r': 0.8491493856834829, 'stop_frac_r': 6, 'avg_frac_r': 7}. Best is trial 7 with value: 1.4486528202962867.\u001B[0m\n"
     ]
    },
    {
     "name": "stdout",
     "output_type": "stream",
     "text": [
      "last_regret=1.1632699126621386\n",
      "l_star=4 ; regret_mix=0.008590598930741324 ; last_regret=0.010191523500276311\n",
      "l_star=5 ; regret_mix=0.02759149526263792 ; last_regret=0.039445349582685744\n",
      "l_star=6 ; regret_mix=0.6486794360034132 ; last_regret=0.8612605369866932\n",
      "l_star=4 ; regret_mix=0.0235065977573684 ; last_regret=0.027999730203824805\n",
      "l_star=5 ; regret_mix=0.003906325115839812 ; last_regret=0.00760207363577006\n",
      "l_star=4 ; regret_mix=0.03603545753039526 ; last_regret=0.0353135760192195\n",
      "l_star=4 ; regret_mix=0.38823313599003456 ; last_regret=0.4820086592500988\n",
      "l_star=4 ; regret_mix=6.711530634293852e-07 ; last_regret=5.737489453782605e-08\n",
      "l_star=5 ; regret_mix=0.036801740644120305 ; last_regret=0.03921225184107108\n",
      "l_star=4 ; regret_mix=0.32919190926144715 ; "
     ]
    },
    {
     "name": "stderr",
     "output_type": "stream",
     "text": [
      "\u001B[32m[I 2023-05-13 20:52:43,909]\u001B[0m Trial 26 finished with value: 4.6952936679220585 and parameters: {'beta_f': 0.6992616913707697, 'beta_r': 0.5015550995708549, 'lr_f': 0.09335557480291842, 'lr_r': 0.5286421022398176, 'stop_frac_r': 8, 'avg_frac_r': 8}. Best is trial 7 with value: 1.4486528202962867.\u001B[0m\n"
     ]
    },
    {
     "name": "stdout",
     "output_type": "stream",
     "text": [
      "last_regret=0.43703597511701986\n",
      "l_star=5 ; regret_mix=0.9174403214851934 ; last_regret=1.1661276770465514\n",
      "l_star=5 ; regret_mix=0.0296911474447993 ; last_regret=0.03956708815656632\n",
      "l_star=4 ; regret_mix=0.02679197598497866 ; last_regret=0.029159261092023776\n",
      "l_star=4 ; regret_mix=0.5823529100724529 ; last_regret=0.7353431091257681\n",
      "l_star=4 ; regret_mix=0.012884656806389104 ; last_regret=0.013604857856179044\n",
      "l_star=5 ; regret_mix=0.28786256954262246 ; last_regret=0.3132766605421088\n",
      "l_star=4 ; regret_mix=0.25206839427171607 ; last_regret=0.2808454420629816\n",
      "l_star=5 ; regret_mix=0.3578456472896461 ; last_regret=0.4126047978490404\n",
      "l_star=4 ; regret_mix=0.005966471562732801 ; last_regret=0.00034851654350192553\n",
      "l_star=5 ; regret_mix=0.47353533650212687 ; "
     ]
    },
    {
     "name": "stderr",
     "output_type": "stream",
     "text": [
      "\u001B[32m[I 2023-05-13 21:26:27,904]\u001B[0m Trial 27 finished with value: 4.189465942032684 and parameters: {'beta_f': 0.5839077509359016, 'beta_r': 0.6418959790558819, 'lr_f': 0.0010545417543247997, 'lr_r': 0.6668832062438739, 'stop_frac_r': 7, 'avg_frac_r': 8}. Best is trial 7 with value: 1.4486528202962867.\u001B[0m\n"
     ]
    },
    {
     "name": "stdout",
     "output_type": "stream",
     "text": [
      "last_regret=0.5311506356897006\n",
      "l_star=6 ; regret_mix=0.8894242981194305 ; last_regret=0.9904335786847046\n",
      "l_star=4 ; regret_mix=0.13418197838208692 ; last_regret=0.14751632630820505\n",
      "l_star=5 ; regret_mix=0.00268146262830548 ; last_regret=0.00012039893477056362\n",
      "l_star=4 ; regret_mix=0.07554329157864208 ; last_regret=0.08236368924960974\n",
      "l_star=5 ; regret_mix=0.6049820909285649 ; last_regret=0.744583450333871\n",
      "l_star=4 ; regret_mix=0.06464327912270645 ; last_regret=0.06864590619269484\n",
      "l_star=4 ; regret_mix=0.8871946599872861 ; last_regret=1.1397525900338006\n",
      "l_star=5 ; regret_mix=0.30412828032959494 ; last_regret=0.3274838760957122\n",
      "l_star=5 ; regret_mix=0.27298122130568675 ; last_regret=0.28553844578978593\n",
      "l_star=5 ; regret_mix=0.08087239302233071 ; "
     ]
    },
    {
     "name": "stderr",
     "output_type": "stream",
     "text": [
      "\u001B[32m[I 2023-05-13 21:30:22,348]\u001B[0m Trial 28 finished with value: 4.100226212250909 and parameters: {'beta_f': 0.6721761555865919, 'beta_r': 0.755968586462115, 'lr_f': 0.3259832364092269, 'lr_r': 0.8818987790804298, 'stop_frac_r': 8, 'avg_frac_r': 9}. Best is trial 7 with value: 1.4486528202962867.\u001B[0m\n"
     ]
    },
    {
     "name": "stdout",
     "output_type": "stream",
     "text": [
      "last_regret=0.08682322830581378\n",
      "l_star=5 ; regret_mix=0.21352158666662818 ; last_regret=0.2393106599762741\n",
      "l_star=4 ; regret_mix=0.18267690951476845 ; last_regret=0.21528150661414902\n",
      "l_star=5 ; regret_mix=0.1600696009877825 ; last_regret=0.17706321389806376\n",
      "l_star=4 ; regret_mix=0.11566370620875009 ; last_regret=0.12772817422398786\n",
      "l_star=4 ; regret_mix=0.11942648219778741 ; last_regret=0.13646620900252354\n",
      "l_star=4 ; regret_mix=0.41053703279996917 ; last_regret=0.5158427534123367\n",
      "l_star=7 ; regret_mix=0.0016486892309265557 ; last_regret=0.0002956889698174789\n",
      "l_star=5 ; regret_mix=0.014074326731667178 ; last_regret=0.015134763722764023\n",
      "l_star=5 ; regret_mix=0.22567952539189134 ; last_regret=0.25787841216476043\n",
      "l_star=5 ; regret_mix=0.7507933083143731 ; "
     ]
    },
    {
     "name": "stderr",
     "output_type": "stream",
     "text": [
      "\u001B[32m[I 2023-05-13 21:34:15,252]\u001B[0m Trial 29 finished with value: 2.9576407406249854 and parameters: {'beta_f': 0.5056353754989154, 'beta_r': 0.5666379860879123, 'lr_f': 0.18847733949955187, 'lr_r': 0.7405042211868252, 'stop_frac_r': 6, 'avg_frac_r': 7}. Best is trial 7 with value: 1.4486528202962867.\u001B[0m\n"
     ]
    },
    {
     "name": "stdout",
     "output_type": "stream",
     "text": [
      "last_regret=0.9107329253860763\n",
      "l_star=5 ; regret_mix=0.045927912558238415 ; last_regret=0.053369001340647065\n",
      "l_star=4 ; regret_mix=1.0759878752300898 ; last_regret=1.2756453745865761\n",
      "l_star=4 ; regret_mix=0.02864101492466544 ; last_regret=0.03338342993072738\n",
      "l_star=5 ; regret_mix=0.1667497868308986 ; last_regret=0.1890853783177751\n",
      "l_star=4 ; regret_mix=0.3101930240641277 ; last_regret=0.35232660730267196\n",
      "l_star=4 ; regret_mix=0.027890917002931098 ; last_regret=0.027860654074079567\n",
      "l_star=5 ; regret_mix=0.8407070609739579 ; last_regret=1.0063281401022266\n",
      "l_star=6 ; regret_mix=0.22014920949648806 ; last_regret=0.2371917063116543\n",
      "l_star=4 ; regret_mix=0.026422179632247033 ; last_regret=0.027646153186759847\n",
      "l_star=5 ; regret_mix=0.1931218334389612 ; "
     ]
    },
    {
     "name": "stderr",
     "output_type": "stream",
     "text": [
      "\u001B[32m[I 2023-05-13 21:38:19,213]\u001B[0m Trial 30 finished with value: 1.1080005159325517 and parameters: {'beta_f': 0.8023350549815066, 'beta_r': 0.6961406222689833, 'lr_f': 0.9981061496692042, 'lr_r': 0.5814493794034031, 'stop_frac_r': 9, 'avg_frac_r': 10}. Best is trial 30 with value: 1.1080005159325517.\u001B[0m\n"
     ]
    },
    {
     "name": "stdout",
     "output_type": "stream",
     "text": [
      "last_regret=0.20932999508922137\n",
      "l_star=4 ; regret_mix=0.10810680723711459 ; last_regret=0.12551629814631973\n",
      "l_star=5 ; regret_mix=0.021236626231001313 ; last_regret=0.022192630710928148\n",
      "l_star=5 ; regret_mix=0.22174346723942162 ; last_regret=0.242466859098199\n",
      "l_star=4 ; regret_mix=0.34901190787091096 ; last_regret=0.40535999964309144\n",
      "l_star=5 ; regret_mix=0.0002381942421599833 ; last_regret=1.623532939775308e-05\n",
      "l_star=5 ; regret_mix=0.4419072759516725 ; last_regret=0.47679409021750985\n",
      "l_star=4 ; regret_mix=0.12945411365790216 ; last_regret=0.15968566712779045\n",
      "l_star=4 ; regret_mix=0.1887629854230406 ; last_regret=0.20798633393458635\n",
      "l_star=5 ; regret_mix=0.08816903325976326 ; last_regret=0.09863059372339927\n",
      "l_star=5 ; regret_mix=0.006414708572581323 ; "
     ]
    },
    {
     "name": "stderr",
     "output_type": "stream",
     "text": [
      "\u001B[32m[I 2023-05-13 21:42:24,714]\u001B[0m Trial 31 finished with value: 3.907001427985217 and parameters: {'beta_f': 0.8499587499284778, 'beta_r': 0.6778665145982088, 'lr_f': 0.5264288650812707, 'lr_r': 0.435098824811749, 'stop_frac_r': 10, 'avg_frac_r': 10}. Best is trial 30 with value: 1.1080005159325517.\u001B[0m\n"
     ]
    },
    {
     "name": "stdout",
     "output_type": "stream",
     "text": [
      "last_regret=0.00860518220333712\n",
      "l_star=4 ; regret_mix=0.7280750365816481 ; last_regret=0.866250351344261\n",
      "l_star=4 ; regret_mix=0.18432747156155332 ; last_regret=0.2042154565236217\n",
      "l_star=4 ; regret_mix=0.4475846664607098 ; last_regret=0.4961497765714063\n",
      "l_star=4 ; regret_mix=0.3409635510453033 ; last_regret=0.4078352685446412\n",
      "l_star=4 ; regret_mix=0.0057095631836727315 ; last_regret=0.008822410961701964\n",
      "l_star=6 ; regret_mix=0.17492914007130284 ; last_regret=0.19658007987264375\n",
      "l_star=4 ; regret_mix=0.36682848209836344 ; last_regret=0.4175561847246104\n",
      "l_star=5 ; regret_mix=0.0006603908607417295 ; last_regret=0.00010169586275910532\n",
      "l_star=4 ; regret_mix=0.03259879778181016 ; last_regret=0.04067078426087288\n",
      "l_star=5 ; regret_mix=0.00011250210840083128 ; "
     ]
    },
    {
     "name": "stderr",
     "output_type": "stream",
     "text": [
      "\u001B[32m[I 2023-05-13 21:46:12,733]\u001B[0m Trial 32 finished with value: 5.503009357799064 and parameters: {'beta_f': 0.8018972041307949, 'beta_r': 0.9802331460348732, 'lr_f': 0.8451846410835173, 'lr_r': 0.5621448760303178, 'stop_frac_r': 9, 'avg_frac_r': 10}. Best is trial 30 with value: 1.1080005159325517.\u001B[0m\n"
     ]
    },
    {
     "name": "stdout",
     "output_type": "stream",
     "text": [
      "last_regret=1.2829409454609834e-05\n",
      "l_star=4 ; regret_mix=0.13485780223344856 ; last_regret=0.14809440309366245\n",
      "l_star=4 ; regret_mix=0.03791010470062352 ; last_regret=0.046195359267789324\n",
      "l_star=6 ; regret_mix=0.3899831411128392 ; last_regret=0.42955388907988024\n",
      "l_star=5 ; regret_mix=0.1871999511088925 ; last_regret=0.2072862286299921\n",
      "l_star=5 ; regret_mix=0.017743536480256707 ; last_regret=0.018781199504626117\n",
      "l_star=4 ; regret_mix=0.03047901780443057 ; last_regret=0.032806017162868205\n",
      "l_star=4 ; regret_mix=0.009597537749942842 ; last_regret=0.011335906596817918\n",
      "l_star=4 ; regret_mix=0.04705298608143855 ; last_regret=0.053197826683871845\n",
      "l_star=4 ; regret_mix=0.008296404670442122 ; last_regret=0.010357784924995794\n",
      "l_star=4 ; regret_mix=0.007346366547841493 ; "
     ]
    },
    {
     "name": "stderr",
     "output_type": "stream",
     "text": [
      "\u001B[32m[I 2023-05-13 21:50:21,080]\u001B[0m Trial 33 finished with value: 1.4047651302392241 and parameters: {'beta_f': 0.7646930365956579, 'beta_r': 0.6204699411517988, 'lr_f': 0.8105066803664406, 'lr_r': 0.7790181638236848, 'stop_frac_r': 9, 'avg_frac_r': 10}. Best is trial 30 with value: 1.1080005159325517.\u001B[0m\n"
     ]
    },
    {
     "name": "stdout",
     "output_type": "stream",
     "text": [
      "last_regret=0.009655974039922773\n",
      "l_star=4 ; regret_mix=0.7749761163118626 ; last_regret=1.0526801464356383\n",
      "l_star=4 ; regret_mix=0.12684295824040204 ; last_regret=0.14510999251046133\n",
      "l_star=4 ; regret_mix=0.0043206709862377655 ; last_regret=0.00015092657345272542\n",
      "l_star=4 ; regret_mix=0.1884931388841886 ; last_regret=0.20242834802326737\n",
      "l_star=5 ; regret_mix=0.3753218188562568 ; last_regret=0.4536342193787468\n",
      "l_star=4 ; regret_mix=0.012958975884569983 ; last_regret=0.013188027656550876\n",
      "l_star=4 ; regret_mix=0.004433357605295897 ; last_regret=8.106505702511187e-05\n",
      "l_star=4 ; regret_mix=0.17981496335812844 ; last_regret=0.1956027957421844\n",
      "l_star=4 ; regret_mix=0.007551058580757787 ; last_regret=0.008634604831762987\n",
      "l_star=4 ; regret_mix=0.28802451648590516 ; "
     ]
    },
    {
     "name": "stderr",
     "output_type": "stream",
     "text": [
      "\u001B[32m[I 2023-05-13 21:54:01,772]\u001B[0m Trial 34 finished with value: 8.47507980644109 and parameters: {'beta_f': 0.7693289622072482, 'beta_r': 0.618630354181833, 'lr_f': 0.8312203696337497, 'lr_r': 0.9055056297760037, 'stop_frac_r': 9, 'avg_frac_r': 10}. Best is trial 30 with value: 1.1080005159325517.\u001B[0m\n"
     ]
    },
    {
     "name": "stdout",
     "output_type": "stream",
     "text": [
      "last_regret=0.3453945013493886\n",
      "l_star=4 ; regret_mix=0.288711413996925 ; last_regret=0.39194146450590234\n",
      "l_star=4 ; regret_mix=0.2628339728775829 ; last_regret=0.31173347154261793\n",
      "l_star=5 ; regret_mix=0.07614423901009391 ; last_regret=0.08280000799828907\n",
      "l_star=4 ; regret_mix=0.02291836629714764 ; last_regret=0.024573871795401346\n",
      "l_star=5 ; regret_mix=1.0914659184759874 ; last_regret=1.4035588423726788\n",
      "l_star=5 ; regret_mix=0.16554861319104455 ; last_regret=0.1815981321804341\n",
      "l_star=4 ; regret_mix=0.27701761100201955 ; last_regret=0.3556954788567948\n",
      "l_star=4 ; regret_mix=0.08079570481390101 ; last_regret=0.08727573415965226\n",
      "l_star=4 ; regret_mix=0.5493109094006037 ; last_regret=0.7166502559385814\n",
      "l_star=4 ; regret_mix=0.029913191004675408 ; "
     ]
    },
    {
     "name": "stderr",
     "output_type": "stream",
     "text": [
      "\u001B[32m[I 2023-05-13 21:57:22,997]\u001B[0m Trial 35 finished with value: 1.595899183505773 and parameters: {'beta_f': 0.8412327890490391, 'beta_r': 0.5855672686123438, 'lr_f': 0.9491995037070908, 'lr_r': 0.995377047749504, 'stop_frac_r': 10, 'avg_frac_r': 10}. Best is trial 30 with value: 1.1080005159325517.\u001B[0m\n"
     ]
    },
    {
     "name": "stdout",
     "output_type": "stream",
     "text": [
      "last_regret=0.030792077104356785\n",
      "l_star=4 ; regret_mix=0.0964661730484578 ; last_regret=0.10833398646794776\n",
      "l_star=4 ; regret_mix=0.016161984511861342 ; last_regret=0.017388429079889522\n",
      "l_star=4 ; regret_mix=0.049547814859843775 ; last_regret=0.053738208242426505\n",
      "l_star=4 ; regret_mix=0.047196167365876805 ; last_regret=0.05011286574346002\n",
      "l_star=4 ; regret_mix=0.25536480952533663 ; last_regret=0.3052823201826293\n",
      "l_star=4 ; regret_mix=0.6601243582497938 ; last_regret=0.9223315027670133\n",
      "l_star=4 ; regret_mix=0.22500138624560434 ; last_regret=0.25219833893755783\n",
      "l_star=4 ; regret_mix=0.044537044574731 ; last_regret=0.038810281583073765\n",
      "l_star=5 ; regret_mix=0.1931538010467791 ; last_regret=0.20624678334235144\n",
      "l_star=4 ; regret_mix=0.008382006695965189 ; "
     ]
    },
    {
     "name": "stderr",
     "output_type": "stream",
     "text": [
      "\u001B[32m[I 2023-05-13 22:00:57,932]\u001B[0m Trial 36 finished with value: 1.2118652502821532 and parameters: {'beta_f': 0.7248135362745362, 'beta_r': 0.6791467481056139, 'lr_f': 0.9814716708883858, 'lr_r': 0.7911199074642679, 'stop_frac_r': 8, 'avg_frac_r': 10}. Best is trial 30 with value: 1.1080005159325517.\u001B[0m\n"
     ]
    },
    {
     "name": "stdout",
     "output_type": "stream",
     "text": [
      "last_regret=0.007963712514754794\n",
      "l_star=5 ; regret_mix=0.09822005567935975 ; last_regret=0.11517057078454301\n",
      "l_star=4 ; regret_mix=0.018201367441150494 ; last_regret=0.023703902742672662\n",
      "l_star=4 ; regret_mix=0.16821515288217442 ; last_regret=0.1730713276903349\n",
      "l_star=4 ; regret_mix=0.0004527977791955313 ; last_regret=5.933757273970265e-05\n",
      "l_star=6 ; regret_mix=0.05054266551211479 ; last_regret=0.05472012558867211\n",
      "l_star=4 ; regret_mix=0.49383411500096785 ; last_regret=0.5951869967719674\n",
      "l_star=5 ; regret_mix=0.011956698328001855 ; last_regret=0.014588683589541565\n",
      "l_star=4 ; regret_mix=0.7149972525458645 ; last_regret=0.8990025842144117\n",
      "l_star=4 ; regret_mix=0.11294721198509458 ; last_regret=0.11248112916833977\n",
      "l_star=6 ; regret_mix=0.002792159523277618 ; "
     ]
    },
    {
     "name": "stderr",
     "output_type": "stream",
     "text": [
      "\u001B[32m[I 2023-05-13 22:04:38,847]\u001B[0m Trial 37 finished with value: 3.9782670579134534 and parameters: {'beta_f': 0.7252512701036848, 'beta_r': 0.7435997395954169, 'lr_f': 0.9877019678210406, 'lr_r': 0.7946869245528269, 'stop_frac_r': 8, 'avg_frac_r': 10}. Best is trial 30 with value: 1.1080005159325517.\u001B[0m\n"
     ]
    },
    {
     "name": "stdout",
     "output_type": "stream",
     "text": [
      "last_regret=0.0012595373139477465\n",
      "l_star=6 ; regret_mix=0.9109362678631375 ; last_regret=1.1208029554816696\n",
      "l_star=4 ; regret_mix=0.36274114680676317 ; last_regret=0.41017114752926476\n",
      "l_star=5 ; regret_mix=0.012942461563387124 ; last_regret=0.015732944116063616\n",
      "l_star=5 ; regret_mix=0.0013062530189123303 ; last_regret=6.449512049035546e-05\n",
      "l_star=4 ; regret_mix=0.3119850641823422 ; last_regret=0.41032773591487093\n",
      "l_star=4 ; regret_mix=0.002307536617207797 ; last_regret=0.00022576797526474107\n",
      "l_star=4 ; regret_mix=0.00755910454039291 ; last_regret=0.008760681269551046\n",
      "l_star=5 ; regret_mix=1.085805874866109 ; last_regret=1.5336060239920735\n",
      "l_star=4 ; regret_mix=0.30948318562589544 ; last_regret=0.3503006788737683\n",
      "l_star=5 ; regret_mix=0.004962208288241614 ; "
     ]
    },
    {
     "name": "stderr",
     "output_type": "stream",
     "text": [
      "\u001B[32m[I 2023-05-13 22:08:14,701]\u001B[0m Trial 38 finished with value: 7.322853025097524 and parameters: {'beta_f': 0.7611056134957654, 'beta_r': 0.6829375899186939, 'lr_f': 0.9283230455737357, 'lr_r': 0.9158489797059035, 'stop_frac_r': 9, 'avg_frac_r': 10}. Best is trial 30 with value: 1.1080005159325517.\u001B[0m\n"
     ]
    },
    {
     "name": "stdout",
     "output_type": "stream",
     "text": [
      "last_regret=0.008809071274124378\n",
      "l_star=4 ; regret_mix=0.23852936398416022 ; last_regret=0.26366582108501174\n",
      "l_star=4 ; regret_mix=1.032590684758825 ; last_regret=1.1678411184159578\n",
      "l_star=5 ; regret_mix=0.18328849458665614 ; last_regret=0.1950160486166093\n",
      "l_star=5 ; regret_mix=0.003499930442262529 ; last_regret=0.0003756878259088751\n",
      "l_star=4 ; regret_mix=0.03530128653903213 ; last_regret=0.04299667286557856\n",
      "l_star=4 ; regret_mix=0.43791903015691325 ; last_regret=0.5711080373452272\n",
      "l_star=5 ; regret_mix=0.16506249197885775 ; last_regret=0.1828581107454582\n",
      "l_star=4 ; regret_mix=0.0015613027649538508 ; last_regret=0.00031611654571534696\n",
      "l_star=4 ; regret_mix=0.008201737793281079 ; last_regret=0.016119605408336443\n",
      "l_star=4 ; regret_mix=0.43651577032007177 ; "
     ]
    },
    {
     "name": "stderr",
     "output_type": "stream",
     "text": [
      "\u001B[32m[I 2023-05-13 22:12:02,779]\u001B[0m Trial 39 finished with value: 5.531516312367028 and parameters: {'beta_f': 0.7971949613389073, 'beta_r': 0.7620557754314092, 'lr_f': 0.7695407025508467, 'lr_r': 0.7157966217407831, 'stop_frac_r': 9, 'avg_frac_r': 10}. Best is trial 30 with value: 1.1080005159325517.\u001B[0m\n"
     ]
    },
    {
     "name": "stdout",
     "output_type": "stream",
     "text": [
      "last_regret=0.5207735708519808\n",
      "l_star=4 ; regret_mix=0.4715949451010198 ; last_regret=0.5698680219139908\n",
      "l_star=4 ; regret_mix=0.2726183860310359 ; last_regret=0.30950408371216637\n",
      "l_star=5 ; regret_mix=0.26028861788981383 ; last_regret=0.293422670082308\n",
      "l_star=4 ; regret_mix=0.04851175567580295 ; last_regret=0.05111457158972047\n",
      "l_star=5 ; regret_mix=0.9452714622212203 ; last_regret=1.141625533399559\n",
      "l_star=4 ; regret_mix=0.16712714645487295 ; last_regret=0.18393771998693167\n",
      "l_star=4 ; regret_mix=0.18853283323963252 ; last_regret=0.20369980394230638\n",
      "l_star=5 ; regret_mix=0.7755573895935877 ; last_regret=0.9838509963597876\n",
      "l_star=4 ; regret_mix=0.016979522211765196 ; last_regret=0.017480920878463344\n",
      "l_star=6 ; regret_mix=0.8324255990934795 ; "
     ]
    },
    {
     "name": "stderr",
     "output_type": "stream",
     "text": [
      "\u001B[32m[I 2023-05-13 22:15:29,903]\u001B[0m Trial 40 finished with value: 1.300189023244574 and parameters: {'beta_f': 0.7172417771966847, 'beta_r': 0.8642045429837689, 'lr_f': 0.9966571632660758, 'lr_r': 0.7933854658896803, 'stop_frac_r': 10, 'avg_frac_r': 10}. Best is trial 30 with value: 1.1080005159325517.\u001B[0m\n"
     ]
    },
    {
     "name": "stdout",
     "output_type": "stream",
     "text": [
      "last_regret=0.9995602161976939\n",
      "l_star=5 ; regret_mix=1.324650449327971 ; last_regret=1.7262031766838153\n",
      "l_star=5 ; regret_mix=0.00935652429600216 ; last_regret=0.013055246518712043\n",
      "l_star=4 ; regret_mix=1.0564940715279032 ; last_regret=1.1959657500664538\n",
      "l_star=4 ; regret_mix=0.24187119632833393 ; last_regret=0.30345569780137005\n",
      "l_star=4 ; regret_mix=0.00023634919100798464 ; last_regret=3.425919512261822e-05\n",
      "l_star=5 ; regret_mix=0.5378010834785488 ; last_regret=0.6461128065865817\n",
      "l_star=4 ; regret_mix=0.1985077415852562 ; last_regret=0.22231848215778147\n",
      "l_star=4 ; regret_mix=0.5154707502512025 ; last_regret=0.6229633990000522\n",
      "l_star=4 ; regret_mix=0.41666724240936875 ; last_regret=0.469217325052882\n",
      "l_star=4 ; regret_mix=7.460754818321978e-05 ; "
     ]
    },
    {
     "name": "stderr",
     "output_type": "stream",
     "text": [
      "\u001B[32m[I 2023-05-13 22:19:10,419]\u001B[0m Trial 41 finished with value: 5.470585032883921 and parameters: {'beta_f': 0.7064745846497009, 'beta_r': 0.8452067151645638, 'lr_f': 0.9915611495604467, 'lr_r': 0.23425215271704558, 'stop_frac_r': 10, 'avg_frac_r': 10}. Best is trial 30 with value: 1.1080005159325517.\u001B[0m\n"
     ]
    },
    {
     "name": "stdout",
     "output_type": "stream",
     "text": [
      "last_regret=1.0243934470263317e-05\n",
      "l_star=5 ; regret_mix=0.044006851894220406 ; last_regret=0.05601409416889093\n",
      "l_star=5 ; regret_mix=0.7404390678674687 ; last_regret=0.9848041394914653\n",
      "l_star=5 ; regret_mix=0.05224572097743496 ; last_regret=0.06704130283615169\n",
      "l_star=5 ; regret_mix=0.3851695168403291 ; last_regret=0.4232412032248833\n",
      "l_star=5 ; regret_mix=1.14161288896247 ; last_regret=1.5082302658659879\n",
      "l_star=5 ; regret_mix=0.1369295747070027 ; last_regret=0.1495003172101027\n",
      "l_star=4 ; regret_mix=0.17435527337143744 ; last_regret=0.2003733361597073\n",
      "l_star=6 ; regret_mix=1.3181408592098418 ; last_regret=1.5824018802978768\n",
      "l_star=4 ; regret_mix=0.11636846258013961 ; last_regret=0.12465410894729857\n",
      "l_star=4 ; regret_mix=0.5975731531210803 ; "
     ]
    },
    {
     "name": "stderr",
     "output_type": "stream",
     "text": [
      "\u001B[32m[I 2023-05-13 22:22:37,727]\u001B[0m Trial 42 finished with value: 1.8957164259690518 and parameters: {'beta_f': 0.829638364987942, 'beta_r': 0.8423676455340747, 'lr_f': 0.6133684635384633, 'lr_r': 0.8702805825757105, 'stop_frac_r': 10, 'avg_frac_r': 10}. Best is trial 30 with value: 1.1080005159325517.\u001B[0m\n"
     ]
    },
    {
     "name": "stdout",
     "output_type": "stream",
     "text": [
      "last_regret=0.781808161812918\n",
      "l_star=4 ; regret_mix=0.03770635186519771 ; last_regret=0.04049485418883381\n",
      "l_star=4 ; regret_mix=0.012897577324191657 ; last_regret=0.016626738474426857\n",
      "l_star=4 ; regret_mix=0.4671322717146512 ; last_regret=0.5188625248565457\n",
      "l_star=4 ; regret_mix=0.000806211691577618 ; last_regret=9.735119586588588e-05\n",
      "l_star=5 ; regret_mix=0.08423727422731468 ; last_regret=0.09687691899410975\n",
      "l_star=4 ; regret_mix=0.695564436793886 ; last_regret=0.8410713571844285\n",
      "l_star=4 ; regret_mix=0.024049591161447555 ; last_regret=0.028681950029089937\n",
      "l_star=5 ; regret_mix=0.43983314836940096 ; last_regret=0.4773333054186099\n",
      "l_star=4 ; regret_mix=0.024962318046429212 ; last_regret=0.026081740955219646\n",
      "l_star=4 ; regret_mix=0.1637181400718437 ; "
     ]
    },
    {
     "name": "stderr",
     "output_type": "stream",
     "text": [
      "\u001B[32m[I 2023-05-13 22:26:18,670]\u001B[0m Trial 43 finished with value: 3.2722171258495556 and parameters: {'beta_f': 0.9048792288329134, 'beta_r': 0.9222257678002637, 'lr_f': 0.9016598655479889, 'lr_r': 0.7895124312482229, 'stop_frac_r': 3, 'avg_frac_r': 5}. Best is trial 30 with value: 1.1080005159325517.\u001B[0m\n"
     ]
    },
    {
     "name": "stdout",
     "output_type": "stream",
     "text": [
      "last_regret=0.18026036676184504\n",
      "l_star=5 ; regret_mix=0.07565851133606076 ; last_regret=0.08714929814538125\n",
      "l_star=4 ; regret_mix=0.4590889457015727 ; last_regret=0.585113524218801\n",
      "l_star=4 ; regret_mix=0.06818390931525066 ; last_regret=0.0731206229829801\n",
      "l_star=5 ; regret_mix=0.07536906390026746 ; last_regret=0.08425888101731402\n",
      "l_star=5 ; regret_mix=0.07429017721687221 ; last_regret=0.08071716964809059\n",
      "l_star=4 ; regret_mix=1.0826641728891324 ; last_regret=1.3375935409038346\n",
      "l_star=4 ; regret_mix=0.12454026538051856 ; last_regret=0.1349607232858417\n",
      "l_star=4 ; regret_mix=0.1808034782062924 ; last_regret=0.20028132280147184\n",
      "l_star=6 ; regret_mix=0.07379286486009777 ; last_regret=0.09059283877660552\n",
      "l_star=4 ; regret_mix=0.040527195805833485 ; "
     ]
    },
    {
     "name": "stderr",
     "output_type": "stream",
     "text": [
      "\u001B[32m[I 2023-05-13 22:29:55,453]\u001B[0m Trial 44 finished with value: 1.3014869062823766 and parameters: {'beta_f': 0.6955459318331542, 'beta_r': 0.638192575868874, 'lr_f': 0.8116397609815219, 'lr_r': 0.8337271657033016, 'stop_frac_r': 9, 'avg_frac_r': 10}. Best is trial 30 with value: 1.1080005159325517.\u001B[0m\n"
     ]
    },
    {
     "name": "stdout",
     "output_type": "stream",
     "text": [
      "last_regret=0.042772976831971204\n",
      "l_star=5 ; regret_mix=0.5827894158380623 ; last_regret=0.640159592392675\n",
      "l_star=4 ; regret_mix=0.12348024011638051 ; last_regret=0.13399107589702763\n",
      "l_star=5 ; regret_mix=0.2020916891447454 ; last_regret=0.22015662405548014\n",
      "l_star=4 ; regret_mix=0.14192378720998985 ; last_regret=0.15532535731113242\n",
      "l_star=4 ; regret_mix=1.0155518168415936 ; last_regret=1.3089812556437095\n",
      "l_star=4 ; regret_mix=0.16207936296461628 ; last_regret=0.17401378792401298\n",
      "l_star=5 ; regret_mix=0.1085921260310374 ; last_regret=0.11688623984429013\n",
      "l_star=4 ; regret_mix=0.566089903857005 ; last_regret=0.6981861939733405\n",
      "l_star=5 ; regret_mix=0.7159314576086254 ; last_regret=0.824467847530658\n",
      "l_star=4 ; regret_mix=0.0009825768982841354 ; "
     ]
    },
    {
     "name": "stderr",
     "output_type": "stream",
     "text": [
      "\u001B[32m[I 2023-05-13 22:33:13,731]\u001B[0m Trial 45 finished with value: 3.6513905307026797 and parameters: {'beta_f': 0.7111337855165618, 'beta_r': 0.9089406005625589, 'lr_f': 0.7882977034616079, 'lr_r': 0.9416943651383722, 'stop_frac_r': 8, 'avg_frac_r': 10}. Best is trial 30 with value: 1.1080005159325517.\u001B[0m\n"
     ]
    },
    {
     "name": "stdout",
     "output_type": "stream",
     "text": [
      "last_regret=7.667499057978904e-05\n",
      "l_star=5 ; regret_mix=0.11451361819917323 ; last_regret=0.12436197101253811\n",
      "l_star=4 ; regret_mix=0.09871409031871498 ; last_regret=0.10647580024163764\n",
      "l_star=4 ; regret_mix=0.9760180799157576 ; last_regret=1.3178170059591672\n",
      "l_star=4 ; regret_mix=0.19857713016501077 ; last_regret=0.22163437080117754\n",
      "l_star=4 ; regret_mix=0.004222269183203019 ; last_regret=0.004292811605180252\n",
      "l_star=5 ; regret_mix=0.39079017538813515 ; last_regret=0.43864453112649304\n",
      "l_star=6 ; regret_mix=0.024634627609386648 ; last_regret=0.03846713869199967\n",
      "l_star=5 ; regret_mix=0.12714007381680903 ; last_regret=0.1391258545638844\n",
      "l_star=4 ; regret_mix=0.007284139705919127 ; last_regret=0.0062107277282673085\n",
      "l_star=5 ; regret_mix=1.0822968710199257 ; "
     ]
    },
    {
     "name": "stderr",
     "output_type": "stream",
     "text": [
      "\u001B[32m[I 2023-05-13 22:36:54,761]\u001B[0m Trial 46 finished with value: 1.6153041874686775 and parameters: {'beta_f': 0.6890776407307876, 'beta_r': 0.6715525922068438, 'lr_f': 0.6914827739878968, 'lr_r': 0.7578043897251748, 'stop_frac_r': 9, 'avg_frac_r': 10}. Best is trial 30 with value: 1.1080005159325517.\u001B[0m\n"
     ]
    },
    {
     "name": "stdout",
     "output_type": "stream",
     "text": [
      "last_regret=1.348300543751387\n",
      "l_star=4 ; regret_mix=0.2682908438152328 ; last_regret=0.3127790235949563\n",
      "l_star=4 ; regret_mix=0.09186644367633176 ; last_regret=0.10520109784388962\n",
      "l_star=4 ; regret_mix=0.03143413579582395 ; last_regret=0.03491190040624206\n",
      "l_star=4 ; regret_mix=0.24446325439356106 ; last_regret=0.27397979947311685\n",
      "l_star=4 ; regret_mix=0.14967111084310594 ; last_regret=0.16898550090493714\n",
      "l_star=7 ; regret_mix=0.09618082164814501 ; last_regret=0.11543792442622948\n",
      "l_star=4 ; regret_mix=0.8529083737467142 ; last_regret=1.0899126763275544\n",
      "l_star=4 ; regret_mix=0.01953065385420389 ; last_regret=0.021859330337560986\n",
      "l_star=4 ; regret_mix=0.2134599330068032 ; last_regret=0.24490799700145532\n",
      "l_star=4 ; regret_mix=0.17656828564284802 ; "
     ]
    },
    {
     "name": "stderr",
     "output_type": "stream",
     "text": [
      "\u001B[32m[I 2023-05-13 22:40:25,214]\u001B[0m Trial 47 finished with value: 1.4126268952662058 and parameters: {'beta_f': 0.7495515630556052, 'beta_r': 0.7863318475275884, 'lr_f': 0.8793639194404719, 'lr_r': 0.8389127532900534, 'stop_frac_r': 10, 'avg_frac_r': 10}. Best is trial 30 with value: 1.1080005159325517.\u001B[0m\n"
     ]
    },
    {
     "name": "stdout",
     "output_type": "stream",
     "text": [
      "last_regret=0.19623172844860984\n",
      "l_star=4 ; regret_mix=0.4627569479925881 ; last_regret=0.6965601219276603\n",
      "l_star=5 ; regret_mix=0.1869333410008653 ; last_regret=0.21296777658548943\n",
      "l_star=4 ; regret_mix=0.34292327970543296 ; last_regret=0.4081527155895004\n",
      "l_star=5 ; regret_mix=0.6704540640392294 ; last_regret=0.8602314539354677\n",
      "l_star=4 ; regret_mix=0.10678560849743879 ; last_regret=0.11594289580984475\n",
      "l_star=4 ; regret_mix=0.15899757915129933 ; last_regret=0.17092758358491777\n",
      "l_star=6 ; regret_mix=0.014739701565201152 ; last_regret=0.019760169578790863\n",
      "l_star=5 ; regret_mix=0.36737859117002514 ; last_regret=0.4234233818554608\n",
      "l_star=5 ; regret_mix=0.31460393286791755 ; last_regret=0.34281002605627253\n",
      "l_star=6 ; regret_mix=1.0418393856144168 ; "
     ]
    },
    {
     "name": "stderr",
     "output_type": "stream",
     "text": [
      "\u001B[32m[I 2023-05-13 22:43:47,562]\u001B[0m Trial 48 finished with value: 1.9704138668571136 and parameters: {'beta_f': 0.778061878587973, 'beta_r': 0.6471044213760496, 'lr_f': 0.9529252099103016, 'lr_r': 0.7297467125684858, 'stop_frac_r': 9, 'avg_frac_r': 10}. Best is trial 30 with value: 1.1080005159325517.\u001B[0m\n"
     ]
    },
    {
     "name": "stdout",
     "output_type": "stream",
     "text": [
      "last_regret=1.452213421522733\n",
      "l_star=6 ; regret_mix=0.6483243682198553 ; last_regret=0.7247922066088072\n",
      "l_star=4 ; regret_mix=0.09347382350217541 ; last_regret=0.0989827434477298\n",
      "l_star=5 ; regret_mix=0.008616533953822836 ; last_regret=0.012337329129697164\n",
      "l_star=4 ; regret_mix=0.11253520212514606 ; last_regret=0.12413881611972831\n",
      "l_star=4 ; regret_mix=0.11614382298430932 ; last_regret=0.11987510407086305\n",
      "l_star=4 ; regret_mix=0.13531906053158285 ; last_regret=0.14998654293020647\n",
      "l_star=4 ; regret_mix=0.038088029378173106 ; last_regret=0.04285715078859975\n",
      "l_star=4 ; regret_mix=0.05162414604444178 ; last_regret=0.05264261394239003\n",
      "l_star=5 ; regret_mix=0.2576240512782227 ; last_regret=0.2739368784927711\n",
      "l_star=4 ; regret_mix=0.14071512285027152 ; "
     ]
    },
    {
     "name": "stderr",
     "output_type": "stream",
     "text": [
      "\u001B[32m[I 2023-05-13 22:47:22,637]\u001B[0m Trial 49 finished with value: 1.040995817638336 and parameters: {'beta_f': 0.8169718689485367, 'beta_r': 0.7232113812943043, 'lr_f': 0.7153109744286683, 'lr_r': 0.6693353946149517, 'stop_frac_r': 8, 'avg_frac_r': 10}. Best is trial 49 with value: 1.040995817638336.\u001B[0m\n"
     ]
    },
    {
     "name": "stdout",
     "output_type": "stream",
     "text": [
      "last_regret=0.15269733546439515\n",
      "l_star=4 ; regret_mix=0.3828648012046973 ; last_regret=0.4270422479399425\n",
      "l_star=4 ; regret_mix=0.06990121157406713 ; last_regret=0.08082457711415098\n",
      "l_star=4 ; regret_mix=0.10187530132333543 ; last_regret=0.11770536616042941\n",
      "l_star=4 ; regret_mix=0.6241163854200468 ; last_regret=0.7206472331887069\n",
      "l_star=6 ; regret_mix=0.46728360449947115 ; last_regret=0.5005769906593741\n",
      "l_star=4 ; regret_mix=0.03801090251280687 ; last_regret=0.04875749633536588\n",
      "l_star=5 ; regret_mix=0.003601170133301899 ; last_regret=0.007138939489623169\n",
      "l_star=4 ; regret_mix=0.5238647584185894 ; last_regret=0.6524660948051233\n",
      "l_star=6 ; regret_mix=0.7439931346189833 ; last_regret=0.8980142889738704\n",
      "l_star=5 ; regret_mix=0.4363443499151254 ; "
     ]
    },
    {
     "name": "stderr",
     "output_type": "stream",
     "text": [
      "\u001B[32m[I 2023-05-13 22:50:50,473]\u001B[0m Trial 50 finished with value: 2.195096168351123 and parameters: {'beta_f': 0.8141786801281271, 'beta_r': 0.7295289783935597, 'lr_f': 0.7190486992897298, 'lr_r': 0.688586530847339, 'stop_frac_r': 8, 'avg_frac_r': 10}. Best is trial 49 with value: 1.040995817638336.\u001B[0m\n"
     ]
    },
    {
     "name": "stdout",
     "output_type": "stream",
     "text": [
      "last_regret=0.5561759109442078\n",
      "l_star=4 ; regret_mix=0.12394412240508594 ; last_regret=0.14042966403125093\n",
      "l_star=4 ; regret_mix=0.09586723553754731 ; last_regret=0.10850633689183553\n",
      "l_star=4 ; regret_mix=0.03010419408696788 ; last_regret=0.03127572563073945\n",
      "l_star=5 ; regret_mix=0.05007627438319283 ; last_regret=0.05882233957032881\n",
      "l_star=5 ; regret_mix=0.18754506670971147 ; last_regret=0.20730451924359058\n",
      "l_star=5 ; regret_mix=0.19211996021919306 ; last_regret=0.19912366507182833\n",
      "l_star=4 ; regret_mix=0.0265212515200906 ; last_regret=0.028803431554171473\n",
      "l_star=4 ; regret_mix=0.005916467370192168 ; last_regret=0.008105554544749477\n",
      "l_star=4 ; regret_mix=0.054835782936874536 ; last_regret=0.05946482846200797\n",
      "l_star=4 ; regret_mix=0.15106622039017426 ; "
     ]
    },
    {
     "name": "stderr",
     "output_type": "stream",
     "text": [
      "\u001B[32m[I 2023-05-13 22:54:37,229]\u001B[0m Trial 51 finished with value: 1.1744526767262646 and parameters: {'beta_f': 0.6464220334569168, 'beta_r': 0.7303660952243199, 'lr_f': 0.921022021794946, 'lr_r': 0.5733508136943534, 'stop_frac_r': 8, 'avg_frac_r': 10}. Best is trial 49 with value: 1.040995817638336.\u001B[0m\n"
     ]
    },
    {
     "name": "stdout",
     "output_type": "stream",
     "text": [
      "last_regret=0.16900403634573644\n",
      "l_star=4 ; regret_mix=0.3678196605941735 ; last_regret=0.4317425048789191\n",
      "l_star=4 ; regret_mix=0.0003099258029644916 ; last_regret=1.1356415923273264e-05\n",
      "l_star=6 ; regret_mix=0.08377775941549517 ; last_regret=0.09929633438799013\n",
      "l_star=4 ; regret_mix=0.489819690925994 ; last_regret=0.6178282768146858\n",
      "l_star=4 ; regret_mix=0.022436023872379706 ; last_regret=0.023785544468016718\n",
      "l_star=4 ; regret_mix=0.5251517696357586 ; last_regret=0.7537076918632695\n",
      "l_star=5 ; regret_mix=0.2551029118917719 ; last_regret=0.2727813195104078\n",
      "l_star=4 ; regret_mix=0.12253042205314257 ; last_regret=0.13185519159895825\n",
      "l_star=4 ; regret_mix=0.0009939123391103347 ; last_regret=9.183461192386923e-05\n",
      "l_star=4 ; regret_mix=0.0016966601415185911 ; "
     ]
    },
    {
     "name": "stderr",
     "output_type": "stream",
     "text": [
      "\u001B[32m[I 2023-05-13 22:58:13,122]\u001B[0m Trial 52 finished with value: 8.529137810768606 and parameters: {'beta_f': 0.6323237685789519, 'beta_r': 0.7806745977689027, 'lr_f': 0.9201159724629974, 'lr_r': 0.5139029491361699, 'stop_frac_r': 8, 'avg_frac_r': 9}. Best is trial 49 with value: 1.040995817638336.\u001B[0m\n"
     ]
    },
    {
     "name": "stdout",
     "output_type": "stream",
     "text": [
      "last_regret=0.0003042700596434795\n",
      "l_star=4 ; regret_mix=0.4310790448282719 ; last_regret=0.49903814065239466\n",
      "l_star=4 ; regret_mix=0.009799049409897665 ; last_regret=0.01490223304777679\n",
      "l_star=6 ; regret_mix=0.3914663519003124 ; last_regret=0.4092776443752697\n",
      "l_star=4 ; regret_mix=0.459821216895344 ; last_regret=0.5743043295437593\n",
      "l_star=5 ; regret_mix=0.0464116954966714 ; last_regret=0.04780936167480729\n",
      "l_star=4 ; regret_mix=0.06197084390970293 ; last_regret=0.06406409354258345\n",
      "l_star=5 ; regret_mix=3.815630057676131e-05 ; last_regret=2.0451027884504924e-06\n",
      "l_star=5 ; regret_mix=0.30899389307601083 ; last_regret=0.3454370904471625\n",
      "l_star=4 ; regret_mix=0.6191796252733751 ; last_regret=0.8524110277214602\n",
      "l_star=5 ; regret_mix=0.5782225388034985 ; "
     ]
    },
    {
     "name": "stderr",
     "output_type": "stream",
     "text": [
      "\u001B[32m[I 2023-05-13 23:01:39,004]\u001B[0m Trial 53 finished with value: 4.418913518943935 and parameters: {'beta_f': 0.8792882624716106, 'beta_r': 0.7310940663192476, 'lr_f': 0.8707824437852324, 'lr_r': 0.5789298780609159, 'stop_frac_r': 7, 'avg_frac_r': 9}. Best is trial 49 with value: 1.040995817638336.\u001B[0m\n"
     ]
    },
    {
     "name": "stdout",
     "output_type": "stream",
     "text": [
      "last_regret=0.6827606673731423\n",
      "l_star=4 ; regret_mix=0.24961164170278835 ; last_regret=0.2774912479031436\n",
      "l_star=5 ; regret_mix=1.0564663190524806 ; last_regret=1.5523319071138473\n",
      "l_star=5 ; regret_mix=0.015881023334305248 ; last_regret=0.02128388405844805\n",
      "l_star=4 ; regret_mix=0.008510032164602149 ; last_regret=0.012675891626900066\n",
      "l_star=4 ; regret_mix=0.5492494090439294 ; last_regret=0.6544989467035991\n",
      "l_star=5 ; regret_mix=0.9892011634896409 ; last_regret=1.2273365425956753\n",
      "l_star=4 ; regret_mix=0.20503388565362718 ; last_regret=0.22484099864883494\n",
      "l_star=4 ; regret_mix=0.0030505580453405938 ; last_regret=0.0003638946546211045\n",
      "l_star=4 ; regret_mix=0.00843507844226218 ; last_regret=0.010632276712923994\n",
      "l_star=4 ; regret_mix=0.03212798308907659 ; "
     ]
    },
    {
     "name": "stderr",
     "output_type": "stream",
     "text": [
      "\u001B[32m[I 2023-05-13 23:05:20,698]\u001B[0m Trial 54 finished with value: 4.1281182942204495 and parameters: {'beta_f': 0.7256024299020553, 'beta_r': 0.8818143265975193, 'lr_f': 0.9983974036396365, 'lr_r': 0.651518694511592, 'stop_frac_r': 8, 'avg_frac_r': 10}. Best is trial 49 with value: 1.040995817638336.\u001B[0m\n"
     ]
    },
    {
     "name": "stdout",
     "output_type": "stream",
     "text": [
      "last_regret=0.03569113298279263\n",
      "l_star=4 ; regret_mix=0.01184181872249602 ; last_regret=0.01391082885242942\n",
      "l_star=4 ; regret_mix=0.8714552574730804 ; last_regret=1.0230004906415648\n",
      "l_star=5 ; regret_mix=0.0008256680939131561 ; last_regret=6.964853456571253e-05\n",
      "l_star=4 ; regret_mix=0.08042515293895129 ; last_regret=0.08528509680885282\n",
      "l_star=4 ; regret_mix=0.07374691631433182 ; last_regret=0.0873947645390983\n",
      "l_star=4 ; regret_mix=0.02637638122805244 ; last_regret=0.04388178915111766\n",
      "l_star=5 ; regret_mix=0.009628963308052145 ; last_regret=0.016378123751767146\n",
      "l_star=5 ; regret_mix=0.07843393079201488 ; last_regret=0.08290760434277417\n",
      "l_star=5 ; regret_mix=0.026257155518938268 ; last_regret=0.032722774458790266\n",
      "l_star=5 ; regret_mix=0.12497302717832766 ; "
     ]
    },
    {
     "name": "stderr",
     "output_type": "stream",
     "text": [
      "\u001B[32m[I 2023-05-13 23:09:19,017]\u001B[0m Trial 55 finished with value: 4.516720820881407 and parameters: {'beta_f': 0.6435963279184321, 'beta_r': 0.8169514786499151, 'lr_f': 0.9567655883416247, 'lr_r': 0.4828065065828659, 'stop_frac_r': 10, 'avg_frac_r': 10}. Best is trial 49 with value: 1.040995817638336.\u001B[0m\n"
     ]
    },
    {
     "name": "stdout",
     "output_type": "stream",
     "text": [
      "last_regret=0.14937399284753086\n",
      "l_star=4 ; regret_mix=0.17048743453019685 ; last_regret=0.1936935609828041\n",
      "l_star=4 ; regret_mix=0.13845881438303145 ; last_regret=0.15757105615166161\n",
      "l_star=4 ; regret_mix=0.05959639073237081 ; last_regret=0.06775248732831285\n",
      "l_star=4 ; regret_mix=0.01845397148319591 ; last_regret=0.01819184197091821\n",
      "l_star=5 ; regret_mix=0.2369166797683739 ; last_regret=0.282003676143215\n",
      "l_star=4 ; regret_mix=0.00843125247876653 ; last_regret=0.014206805172490171\n",
      "l_star=5 ; regret_mix=1.2608193763691002 ; last_regret=1.6300402388646735\n",
      "l_star=4 ; regret_mix=0.00039202814085966724 ; last_regret=1.4995513078123998e-05\n",
      "l_star=5 ; regret_mix=1.0319816510063224 ; last_regret=1.3684044033219895\n",
      "l_star=5 ; regret_mix=0.18543266244502454 ; "
     ]
    },
    {
     "name": "stderr",
     "output_type": "stream",
     "text": [
      "\u001B[32m[I 2023-05-13 23:13:09,020]\u001B[0m Trial 56 finished with value: 5.016746281294841 and parameters: {'beta_f': 0.6171626627296244, 'beta_r': 0.6887237483811071, 'lr_f': 0.738780420339959, 'lr_r': 0.390437818638251, 'stop_frac_r': 9, 'avg_frac_r': 10}. Best is trial 49 with value: 1.040995817638336.\u001B[0m\n"
     ]
    },
    {
     "name": "stdout",
     "output_type": "stream",
     "text": [
      "last_regret=0.20879834241919526\n",
      "l_star=4 ; regret_mix=0.058610012508303874 ; last_regret=0.07025640780641142\n",
      "l_star=6 ; regret_mix=0.003480442803681915 ; last_regret=0.005016596431954665\n",
      "l_star=5 ; regret_mix=0.7706026081539719 ; last_regret=0.9186348301181178\n",
      "l_star=4 ; regret_mix=0.1684902198833098 ; last_regret=0.17903379583520618\n",
      "l_star=4 ; regret_mix=0.03901553272378464 ; last_regret=0.04260157483740482\n",
      "l_star=4 ; regret_mix=0.011813846767674711 ; last_regret=0.011621743365545107\n",
      "l_star=4 ; regret_mix=0.07701747279944138 ; last_regret=0.09240390174209404\n",
      "l_star=4 ; regret_mix=0.26714865870616067 ; last_regret=0.3395310070909182\n",
      "l_star=4 ; regret_mix=0.23359585775446265 ; last_regret=0.29659917728859164\n",
      "l_star=6 ; regret_mix=0.14638082961956167 ; "
     ]
    },
    {
     "name": "stderr",
     "output_type": "stream",
     "text": [
      "\u001B[32m[I 2023-05-13 23:16:43,534]\u001B[0m Trial 57 finished with value: 1.7441382848875806 and parameters: {'beta_f': 0.682139250064523, 'beta_r': 0.6624885987012773, 'lr_f': 0.8577029573319783, 'lr_r': 0.7014319149486362, 'stop_frac_r': 9, 'avg_frac_r': 10}. Best is trial 49 with value: 1.040995817638336.\u001B[0m\n"
     ]
    },
    {
     "name": "stdout",
     "output_type": "stream",
     "text": [
      "last_regret=0.178054039865172\n",
      "l_star=5 ; regret_mix=0.1401491842081639 ; last_regret=0.15405835788166658\n",
      "l_star=5 ; regret_mix=0.019084063684381786 ; last_regret=0.019884065252120373\n",
      "l_star=4 ; regret_mix=0.00428204274776128 ; last_regret=0.010807835148127547\n",
      "l_star=5 ; regret_mix=0.6998815101984082 ; last_regret=0.8281117281484179\n",
      "l_star=4 ; regret_mix=0.18288032951263095 ; last_regret=0.207735810084354\n",
      "l_star=5 ; regret_mix=0.2948986423193635 ; last_regret=0.3231976588311149\n",
      "l_star=5 ; regret_mix=0.05657221543788698 ; last_regret=0.07203146709299924\n",
      "l_star=4 ; regret_mix=0.024184626214327674 ; last_regret=0.026004846400745896\n",
      "l_star=5 ; regret_mix=0.7254776718488837 ; last_regret=0.8903884101773244\n",
      "l_star=4 ; regret_mix=0.008903113176712588 ; "
     ]
    },
    {
     "name": "stderr",
     "output_type": "stream",
     "text": [
      "\u001B[32m[I 2023-05-13 23:20:40,869]\u001B[0m Trial 58 finished with value: 2.387588154220534 and parameters: {'beta_f': 0.811404515166063, 'beta_r': 0.7678669124135717, 'lr_f': 0.9044151307929411, 'lr_r': 0.5752307412077796, 'stop_frac_r': 8, 'avg_frac_r': 10}. Best is trial 49 with value: 1.040995817638336.\u001B[0m\n"
     ]
    },
    {
     "name": "stdout",
     "output_type": "stream",
     "text": [
      "last_regret=0.01354714793323008\n",
      "l_star=5 ; regret_mix=0.05056100600687983 ; last_regret=0.05448131334072627\n",
      "l_star=4 ; regret_mix=0.07549343500801269 ; last_regret=0.08119168467384617\n",
      "l_star=5 ; regret_mix=1.0963876442480924 ; last_regret=1.3255525846759009\n",
      "l_star=4 ; regret_mix=0.01305096973305276 ; last_regret=0.012756495384568795\n",
      "l_star=6 ; regret_mix=0.6614304051480668 ; last_regret=0.8847748626823547\n",
      "l_star=4 ; regret_mix=0.1107865920638837 ; last_regret=0.10108295246064816\n",
      "l_star=5 ; regret_mix=0.4376376883279045 ; last_regret=0.5162982254003489\n",
      "l_star=5 ; regret_mix=0.44039075664784283 ; last_regret=0.5401319906367161\n",
      "l_star=4 ; regret_mix=0.035883663217254974 ; last_regret=0.04158619219660894\n",
      "l_star=5 ; regret_mix=0.0026768230698311674 ; "
     ]
    },
    {
     "name": "stderr",
     "output_type": "stream",
     "text": [
      "\u001B[32m[I 2023-05-13 23:24:32,472]\u001B[0m Trial 59 finished with value: 4.482345882562653 and parameters: {'beta_f': 0.6584721607026516, 'beta_r': 0.7343727305606877, 'lr_f': 0.8109774831316878, 'lr_r': 0.611624369330968, 'stop_frac_r': 10, 'avg_frac_r': 10}. Best is trial 49 with value: 1.040995817638336.\u001B[0m\n"
     ]
    },
    {
     "name": "stdout",
     "output_type": "stream",
     "text": [
      "last_regret=0.00010665911060867066\n",
      "l_star=4 ; regret_mix=0.12375427232818287 ; last_regret=0.13148824640226486\n",
      "l_star=5 ; regret_mix=0.0019638319922908685 ; last_regret=0.0002856733748358793\n",
      "l_star=4 ; regret_mix=0.031508162168485704 ; last_regret=0.031938138956689247\n",
      "l_star=4 ; regret_mix=0.6658762667028317 ; last_regret=0.8777049716775867\n",
      "l_star=4 ; regret_mix=0.4590597604508495 ; last_regret=0.5297132592009548\n",
      "l_star=5 ; regret_mix=0.2751907586413076 ; last_regret=0.30578968618112545\n",
      "l_star=4 ; regret_mix=0.0967005052209514 ; last_regret=0.11161557081372733\n",
      "l_star=4 ; regret_mix=0.16323484549633346 ; last_regret=0.1797781245176894\n",
      "l_star=6 ; regret_mix=0.3111040406373917 ; last_regret=0.33871250237535894\n",
      "l_star=4 ; regret_mix=0.11366608961835169 ; "
     ]
    },
    {
     "name": "stderr",
     "output_type": "stream",
     "text": [
      "\u001B[32m[I 2023-05-13 23:28:06,507]\u001B[0m Trial 60 finished with value: 2.9313177291579056 and parameters: {'beta_f': 0.7380000820723794, 'beta_r': 0.6967001172945013, 'lr_f': 0.9550753978960811, 'lr_r': 0.6509181425304863, 'stop_frac_r': 7, 'avg_frac_r': 9}. Best is trial 49 with value: 1.040995817638336.\u001B[0m\n"
     ]
    },
    {
     "name": "stdout",
     "output_type": "stream",
     "text": [
      "last_regret=0.12307702320485397\n",
      "l_star=4 ; regret_mix=0.001090850567958459 ; last_regret=5.25612624295417e-05\n",
      "l_star=6 ; regret_mix=0.18117846600946436 ; last_regret=0.20628366311658897\n",
      "l_star=4 ; regret_mix=0.04000390999291697 ; last_regret=0.042639199876750064\n",
      "l_star=4 ; regret_mix=0.08222062970088737 ; last_regret=0.0879243523309423\n",
      "l_star=5 ; regret_mix=0.4816522721870827 ; last_regret=0.5516218397977137\n",
      "l_star=4 ; regret_mix=0.21347265529760118 ; last_regret=0.23442195788556996\n",
      "l_star=4 ; regret_mix=0.2835873773132141 ; last_regret=0.3164816051363875\n",
      "l_star=4 ; regret_mix=0.6149571674344937 ; last_regret=0.9920301302285192\n",
      "l_star=4 ; regret_mix=0.017770327680732063 ; last_regret=0.018816496945032644\n",
      "l_star=5 ; regret_mix=0.16453072223268667 ; "
     ]
    },
    {
     "name": "stderr",
     "output_type": "stream",
     "text": [
      "\u001B[32m[I 2023-05-13 23:31:32,225]\u001B[0m Trial 61 finished with value: 4.249378911739214 and parameters: {'beta_f': 0.7883515004369654, 'beta_r': 0.7229676831506133, 'lr_f': 0.6370405046215857, 'lr_r': 0.8098219555821209, 'stop_frac_r': 6, 'avg_frac_r': 9}. Best is trial 49 with value: 1.040995817638336.\u001B[0m\n"
     ]
    },
    {
     "name": "stdout",
     "output_type": "stream",
     "text": [
      "last_regret=0.17852018000761766\n",
      "l_star=4 ; regret_mix=0.0077963333116764415 ; last_regret=0.00746210755780406\n",
      "l_star=4 ; regret_mix=0.9792479413561259 ; last_regret=1.2352043338686562\n",
      "l_star=5 ; regret_mix=0.052396288079244985 ; last_regret=0.060168900217895116\n",
      "l_star=5 ; regret_mix=0.35303098118275766 ; last_regret=0.39259779188697835\n",
      "l_star=4 ; regret_mix=0.6599580572427298 ; last_regret=0.8140341571995624\n",
      "l_star=4 ; regret_mix=0.1623375011481163 ; last_regret=0.1801386728622322\n",
      "l_star=4 ; regret_mix=0.263368609061778 ; last_regret=0.29044089267575035\n",
      "l_star=4 ; regret_mix=0.020362121011001325 ; last_regret=0.022155138346922065\n",
      "l_star=4 ; regret_mix=0.2515892872819338 ; last_regret=0.27506628007718004\n",
      "l_star=4 ; regret_mix=0.14645277147156346 ; "
     ]
    },
    {
     "name": "stderr",
     "output_type": "stream",
     "text": [
      "\u001B[32m[I 2023-05-13 23:35:05,790]\u001B[0m Trial 62 finished with value: 1.1974446413736306 and parameters: {'beta_f': 0.6928687183604979, 'beta_r': 0.811120249428851, 'lr_f': 0.6781432257387539, 'lr_r': 0.866792362386586, 'stop_frac_r': 8, 'avg_frac_r': 10}. Best is trial 49 with value: 1.040995817638336.\u001B[0m\n"
     ]
    },
    {
     "name": "stdout",
     "output_type": "stream",
     "text": [
      "last_regret=0.16049250926780526\n",
      "l_star=6 ; regret_mix=0.058538660184227514 ; last_regret=0.06588619235641215\n",
      "l_star=4 ; regret_mix=0.07860086256090804 ; last_regret=0.07639965995741395\n",
      "l_star=5 ; regret_mix=0.0009732632706709283 ; last_regret=6.208619847059119e-05\n",
      "l_star=5 ; regret_mix=0.07317038646048038 ; last_regret=0.08306195756757112\n",
      "l_star=5 ; regret_mix=0.1384180430778032 ; last_regret=0.14854794059880483\n",
      "l_star=6 ; regret_mix=1.4618898264347828 ; last_regret=1.6559966889058324\n",
      "l_star=4 ; regret_mix=0.48233210740078825 ; last_regret=0.5767171689438074\n",
      "l_star=4 ; regret_mix=0.07056824497300437 ; last_regret=0.08461013503043993\n",
      "l_star=4 ; regret_mix=0.007037031376587297 ; last_regret=0.008299281581948792\n",
      "l_star=4 ; regret_mix=0.6333231917244161 ; "
     ]
    },
    {
     "name": "stderr",
     "output_type": "stream",
     "text": [
      "\u001B[32m[I 2023-05-13 23:38:45,465]\u001B[0m Trial 63 finished with value: 4.005686460156667 and parameters: {'beta_f': 0.8744010564867538, 'beta_r': 0.814150988802903, 'lr_f': 0.4395306573874255, 'lr_r': 0.9714805250371449, 'stop_frac_r': 8, 'avg_frac_r': 10}. Best is trial 49 with value: 1.040995817638336.\u001B[0m\n"
     ]
    },
    {
     "name": "stdout",
     "output_type": "stream",
     "text": [
      "last_regret=0.8210767952934709\n",
      "l_star=6 ; regret_mix=0.2095210243019903 ; last_regret=0.22873203895455696\n",
      "l_star=4 ; regret_mix=0.8400717648118756 ; last_regret=1.040300760829694\n",
      "l_star=4 ; regret_mix=0.02537623872748673 ; last_regret=0.029859011107251383\n",
      "l_star=5 ; regret_mix=0.4115287000859558 ; last_regret=0.5200058353073437\n",
      "l_star=4 ; regret_mix=0.18168729099562664 ; last_regret=0.19947633957387198\n",
      "l_star=5 ; regret_mix=0.20479432351751992 ; last_regret=0.2251244087258482\n",
      "l_star=5 ; regret_mix=0.5659231256093028 ; last_regret=0.6396526187074641\n",
      "l_star=4 ; regret_mix=0.03532163503373474 ; last_regret=0.03958218541738606\n",
      "l_star=5 ; regret_mix=0.02161864918993714 ; last_regret=0.03106862202542643\n",
      "l_star=4 ; regret_mix=0.2103314154993239 ; "
     ]
    },
    {
     "name": "stderr",
     "output_type": "stream",
     "text": [
      "\u001B[32m[I 2023-05-13 23:42:12,304]\u001B[0m Trial 64 finished with value: 1.5915221293576174 and parameters: {'beta_f': 0.6931862190838152, 'beta_r': 0.8025024752731551, 'lr_f': 0.5752373530515441, 'lr_r': 0.846458155905801, 'stop_frac_r': 7, 'avg_frac_r': 10}. Best is trial 49 with value: 1.040995817638336.\u001B[0m\n"
     ]
    },
    {
     "name": "stdout",
     "output_type": "stream",
     "text": [
      "last_regret=0.2339292803940755\n",
      "l_star=5 ; regret_mix=0.0010411700406900983 ; last_regret=4.034433072977334e-05\n",
      "l_star=4 ; regret_mix=0.1887017010818521 ; last_regret=0.2021249367807229\n",
      "l_star=4 ; regret_mix=0.07416820787765302 ; last_regret=0.07918459367905671\n",
      "l_star=4 ; regret_mix=0.041123573716452144 ; last_regret=0.04415591509119859\n",
      "l_star=6 ; regret_mix=0.22860884531405068 ; "
     ]
    },
    {
     "name": "stderr",
     "output_type": "stream",
     "text": [
      "\u001B[33m[W 2023-05-13 23:43:36,243]\u001B[0m Trial 65 failed because of the following error: KeyboardInterrupt()\u001B[0m\n",
      "Traceback (most recent call last):\n",
      "  File \"C:\\Users\\neria\\PycharmProjects\\AOFBot\\lib\\site-packages\\optuna\\study\\_optimize.py\", line 196, in _run_trial\n",
      "    value_or_values = func(trial)\n",
      "  File \"<ipython-input-2-f2b6b0ead7c7>\", line 12, in optuna_optimize_algorithm\n",
      "    avg_frac_r=avg_frac, stop_frac_r=stop_frac)\n",
      "  File \"C:\\Users\\neria\\Desktop\\masters\\thesis material\\paper-optimization-algorithm\\mse\\steps.py\", line 182, in run_algorithm\n",
      "    avg_frac_r=avg_frac_r, stop_frac_r=stop_frac_r)\n",
      "  File \"C:\\Users\\neria\\Desktop\\masters\\thesis material\\paper-optimization-algorithm\\mse\\steps.py\", line 149, in algorithm\n",
      "    stop_frac=stop_frac_r, avg_frac=avg_frac_r)\n",
      "  File \"C:\\Users\\neria\\Desktop\\masters\\thesis material\\paper-optimization-algorithm\\mse\\steps.py\", line 90, in find_new_R\n",
      "    L = calc_loss_matrix(sigma=sigma, R=R_pool, Q=Q, f=f)\n",
      "  File \"C:\\Users\\neria\\Desktop\\masters\\thesis material\\paper-optimization-algorithm\\mse\\utils.py\", line 55, in calc_loss_matrix\n",
      "    losses_matrix = np.zeros([len(R), len(f)])\n",
      "KeyboardInterrupt\n"
     ]
    },
    {
     "ename": "KeyboardInterrupt",
     "evalue": "",
     "output_type": "error",
     "traceback": [
      "\u001B[1;31m---------------------------------------------------------------------------\u001B[0m",
      "\u001B[1;31mKeyboardInterrupt\u001B[0m                         Traceback (most recent call last)",
      "\u001B[1;32m<ipython-input-4-5b90064efa5e>\u001B[0m in \u001B[0;36m<module>\u001B[1;34m\u001B[0m\n\u001B[0;32m     12\u001B[0m                                 \u001B[0mstorage\u001B[0m\u001B[1;33m=\u001B[0m\u001B[1;34mf'sqlite:///./../optuna/{name}.db '\u001B[0m\u001B[1;33m,\u001B[0m\u001B[1;33m\u001B[0m\u001B[1;33m\u001B[0m\u001B[0m\n\u001B[0;32m     13\u001B[0m                                 direction='minimize', load_if_exists=True)\n\u001B[1;32m---> 14\u001B[1;33m     \u001B[0mstudy\u001B[0m\u001B[1;33m.\u001B[0m\u001B[0moptimize\u001B[0m\u001B[1;33m(\u001B[0m\u001B[0moptuna_optimize_algorithm\u001B[0m\u001B[1;33m,\u001B[0m \u001B[0mn_trials\u001B[0m\u001B[1;33m=\u001B[0m\u001B[1;36m100\u001B[0m\u001B[1;33m)\u001B[0m\u001B[1;33m\u001B[0m\u001B[1;33m\u001B[0m\u001B[0m\n\u001B[0m\u001B[0;32m     15\u001B[0m \u001B[1;33m\u001B[0m\u001B[0m\n",
      "\u001B[1;32m~\\PycharmProjects\\AOFBot\\lib\\site-packages\\optuna\\study\\study.py\u001B[0m in \u001B[0;36moptimize\u001B[1;34m(self, func, n_trials, timeout, n_jobs, catch, callbacks, gc_after_trial, show_progress_bar)\u001B[0m\n\u001B[0;32m    426\u001B[0m             \u001B[0mcallbacks\u001B[0m\u001B[1;33m=\u001B[0m\u001B[0mcallbacks\u001B[0m\u001B[1;33m,\u001B[0m\u001B[1;33m\u001B[0m\u001B[1;33m\u001B[0m\u001B[0m\n\u001B[0;32m    427\u001B[0m             \u001B[0mgc_after_trial\u001B[0m\u001B[1;33m=\u001B[0m\u001B[0mgc_after_trial\u001B[0m\u001B[1;33m,\u001B[0m\u001B[1;33m\u001B[0m\u001B[1;33m\u001B[0m\u001B[0m\n\u001B[1;32m--> 428\u001B[1;33m             \u001B[0mshow_progress_bar\u001B[0m\u001B[1;33m=\u001B[0m\u001B[0mshow_progress_bar\u001B[0m\u001B[1;33m,\u001B[0m\u001B[1;33m\u001B[0m\u001B[1;33m\u001B[0m\u001B[0m\n\u001B[0m\u001B[0;32m    429\u001B[0m         )\n\u001B[0;32m    430\u001B[0m \u001B[1;33m\u001B[0m\u001B[0m\n",
      "\u001B[1;32m~\\PycharmProjects\\AOFBot\\lib\\site-packages\\optuna\\study\\_optimize.py\u001B[0m in \u001B[0;36m_optimize\u001B[1;34m(study, func, n_trials, timeout, n_jobs, catch, callbacks, gc_after_trial, show_progress_bar)\u001B[0m\n\u001B[0;32m     74\u001B[0m                 \u001B[0mreseed_sampler_rng\u001B[0m\u001B[1;33m=\u001B[0m\u001B[1;32mFalse\u001B[0m\u001B[1;33m,\u001B[0m\u001B[1;33m\u001B[0m\u001B[1;33m\u001B[0m\u001B[0m\n\u001B[0;32m     75\u001B[0m                 \u001B[0mtime_start\u001B[0m\u001B[1;33m=\u001B[0m\u001B[1;32mNone\u001B[0m\u001B[1;33m,\u001B[0m\u001B[1;33m\u001B[0m\u001B[1;33m\u001B[0m\u001B[0m\n\u001B[1;32m---> 76\u001B[1;33m                 \u001B[0mprogress_bar\u001B[0m\u001B[1;33m=\u001B[0m\u001B[0mprogress_bar\u001B[0m\u001B[1;33m,\u001B[0m\u001B[1;33m\u001B[0m\u001B[1;33m\u001B[0m\u001B[0m\n\u001B[0m\u001B[0;32m     77\u001B[0m             )\n\u001B[0;32m     78\u001B[0m         \u001B[1;32melse\u001B[0m\u001B[1;33m:\u001B[0m\u001B[1;33m\u001B[0m\u001B[1;33m\u001B[0m\u001B[0m\n",
      "\u001B[1;32m~\\PycharmProjects\\AOFBot\\lib\\site-packages\\optuna\\study\\_optimize.py\u001B[0m in \u001B[0;36m_optimize_sequential\u001B[1;34m(study, func, n_trials, timeout, catch, callbacks, gc_after_trial, reseed_sampler_rng, time_start, progress_bar)\u001B[0m\n\u001B[0;32m    158\u001B[0m \u001B[1;33m\u001B[0m\u001B[0m\n\u001B[0;32m    159\u001B[0m         \u001B[1;32mtry\u001B[0m\u001B[1;33m:\u001B[0m\u001B[1;33m\u001B[0m\u001B[1;33m\u001B[0m\u001B[0m\n\u001B[1;32m--> 160\u001B[1;33m             \u001B[0mfrozen_trial\u001B[0m \u001B[1;33m=\u001B[0m \u001B[0m_run_trial\u001B[0m\u001B[1;33m(\u001B[0m\u001B[0mstudy\u001B[0m\u001B[1;33m,\u001B[0m \u001B[0mfunc\u001B[0m\u001B[1;33m,\u001B[0m \u001B[0mcatch\u001B[0m\u001B[1;33m)\u001B[0m\u001B[1;33m\u001B[0m\u001B[1;33m\u001B[0m\u001B[0m\n\u001B[0m\u001B[0;32m    161\u001B[0m         \u001B[1;32mfinally\u001B[0m\u001B[1;33m:\u001B[0m\u001B[1;33m\u001B[0m\u001B[1;33m\u001B[0m\u001B[0m\n\u001B[0;32m    162\u001B[0m             \u001B[1;31m# The following line mitigates memory problems that can be occurred in some\u001B[0m\u001B[1;33m\u001B[0m\u001B[1;33m\u001B[0m\u001B[1;33m\u001B[0m\u001B[0m\n",
      "\u001B[1;32m~\\PycharmProjects\\AOFBot\\lib\\site-packages\\optuna\\study\\_optimize.py\u001B[0m in \u001B[0;36m_run_trial\u001B[1;34m(study, func, catch)\u001B[0m\n\u001B[0;32m    232\u001B[0m         \u001B[1;32mand\u001B[0m \u001B[1;32mnot\u001B[0m \u001B[0misinstance\u001B[0m\u001B[1;33m(\u001B[0m\u001B[0mfunc_err\u001B[0m\u001B[1;33m,\u001B[0m \u001B[0mcatch\u001B[0m\u001B[1;33m)\u001B[0m\u001B[1;33m\u001B[0m\u001B[1;33m\u001B[0m\u001B[0m\n\u001B[0;32m    233\u001B[0m     ):\n\u001B[1;32m--> 234\u001B[1;33m         \u001B[1;32mraise\u001B[0m \u001B[0mfunc_err\u001B[0m\u001B[1;33m\u001B[0m\u001B[1;33m\u001B[0m\u001B[0m\n\u001B[0m\u001B[0;32m    235\u001B[0m     \u001B[1;32mreturn\u001B[0m \u001B[0mfrozen_trial\u001B[0m\u001B[1;33m\u001B[0m\u001B[1;33m\u001B[0m\u001B[0m\n\u001B[0;32m    236\u001B[0m \u001B[1;33m\u001B[0m\u001B[0m\n",
      "\u001B[1;32m~\\PycharmProjects\\AOFBot\\lib\\site-packages\\optuna\\study\\_optimize.py\u001B[0m in \u001B[0;36m_run_trial\u001B[1;34m(study, func, catch)\u001B[0m\n\u001B[0;32m    194\u001B[0m     \u001B[1;32mwith\u001B[0m \u001B[0mget_heartbeat_thread\u001B[0m\u001B[1;33m(\u001B[0m\u001B[0mtrial\u001B[0m\u001B[1;33m.\u001B[0m\u001B[0m_trial_id\u001B[0m\u001B[1;33m,\u001B[0m \u001B[0mstudy\u001B[0m\u001B[1;33m.\u001B[0m\u001B[0m_storage\u001B[0m\u001B[1;33m)\u001B[0m\u001B[1;33m:\u001B[0m\u001B[1;33m\u001B[0m\u001B[1;33m\u001B[0m\u001B[0m\n\u001B[0;32m    195\u001B[0m         \u001B[1;32mtry\u001B[0m\u001B[1;33m:\u001B[0m\u001B[1;33m\u001B[0m\u001B[1;33m\u001B[0m\u001B[0m\n\u001B[1;32m--> 196\u001B[1;33m             \u001B[0mvalue_or_values\u001B[0m \u001B[1;33m=\u001B[0m \u001B[0mfunc\u001B[0m\u001B[1;33m(\u001B[0m\u001B[0mtrial\u001B[0m\u001B[1;33m)\u001B[0m\u001B[1;33m\u001B[0m\u001B[1;33m\u001B[0m\u001B[0m\n\u001B[0m\u001B[0;32m    197\u001B[0m         \u001B[1;32mexcept\u001B[0m \u001B[0mexceptions\u001B[0m\u001B[1;33m.\u001B[0m\u001B[0mTrialPruned\u001B[0m \u001B[1;32mas\u001B[0m \u001B[0me\u001B[0m\u001B[1;33m:\u001B[0m\u001B[1;33m\u001B[0m\u001B[1;33m\u001B[0m\u001B[0m\n\u001B[0;32m    198\u001B[0m             \u001B[1;31m# TODO(mamu): Handle multi-objective cases.\u001B[0m\u001B[1;33m\u001B[0m\u001B[1;33m\u001B[0m\u001B[1;33m\u001B[0m\u001B[0m\n",
      "\u001B[1;32m<ipython-input-2-f2b6b0ead7c7>\u001B[0m in \u001B[0;36moptuna_optimize_algorithm\u001B[1;34m(trial)\u001B[0m\n\u001B[0;32m     10\u001B[0m     regret_list, regret_mix_list = run_algorithm(d=d, r=r, m=m, sigma_type=sigma_type, s_type=s_type, times=times,\n\u001B[0;32m     11\u001B[0m                                                  \u001B[0md_sigma\u001B[0m\u001B[1;33m=\u001B[0m\u001B[0md_sigma\u001B[0m\u001B[1;33m,\u001B[0m \u001B[0mT_r\u001B[0m\u001B[1;33m=\u001B[0m\u001B[0mT_r\u001B[0m\u001B[1;33m,\u001B[0m \u001B[0mbeta_f\u001B[0m\u001B[1;33m=\u001B[0m\u001B[0mbeta_f\u001B[0m\u001B[1;33m,\u001B[0m \u001B[0mbeta_r\u001B[0m\u001B[1;33m=\u001B[0m\u001B[0mbeta_r\u001B[0m\u001B[1;33m,\u001B[0m \u001B[0mlr_f\u001B[0m\u001B[1;33m=\u001B[0m\u001B[0mlr_f\u001B[0m\u001B[1;33m,\u001B[0m \u001B[0mlr_r\u001B[0m\u001B[1;33m=\u001B[0m\u001B[0mlr_r\u001B[0m\u001B[1;33m,\u001B[0m\u001B[1;33m\u001B[0m\u001B[1;33m\u001B[0m\u001B[0m\n\u001B[1;32m---> 12\u001B[1;33m                                                  avg_frac_r=avg_frac, stop_frac_r=stop_frac)\n\u001B[0m\u001B[0;32m     13\u001B[0m \u001B[1;33m\u001B[0m\u001B[0m\n\u001B[0;32m     14\u001B[0m     \u001B[1;32mreturn\u001B[0m \u001B[0msum\u001B[0m\u001B[1;33m(\u001B[0m\u001B[0mabs\u001B[0m\u001B[1;33m(\u001B[0m\u001B[0mnp\u001B[0m\u001B[1;33m.\u001B[0m\u001B[0mlog\u001B[0m\u001B[1;33m(\u001B[0m\u001B[0mregret_list\u001B[0m\u001B[1;33m.\u001B[0m\u001B[0mmin\u001B[0m\u001B[1;33m(\u001B[0m\u001B[0maxis\u001B[0m\u001B[1;33m=\u001B[0m\u001B[1;36m1\u001B[0m\u001B[1;33m)\u001B[0m \u001B[1;33m/\u001B[0m \u001B[0mregret_mix_list\u001B[0m\u001B[1;33m)\u001B[0m\u001B[1;33m)\u001B[0m\u001B[1;33m)\u001B[0m\u001B[1;33m\u001B[0m\u001B[1;33m\u001B[0m\u001B[0m\n",
      "\u001B[1;32m~\\Desktop\\masters\\thesis material\\paper-optimization-algorithm\\mse\\steps.py\u001B[0m in \u001B[0;36mrun_algorithm\u001B[1;34m(d, r, m, sigma_type, s_type, times, d_sigma, T_r, beta_f, beta_r, lr_f, lr_r, avg_frac_r, stop_frac_r)\u001B[0m\n\u001B[0;32m    180\u001B[0m         R, f, regrets = algorithm(sigma=sigma, S=get_pdm(d=d, type=matrix_type.IDENTITY), m=m, r=r, T_r=T_r,\n\u001B[0;32m    181\u001B[0m                                   \u001B[0mbeta_f\u001B[0m\u001B[1;33m=\u001B[0m\u001B[0mbeta_f\u001B[0m\u001B[1;33m,\u001B[0m \u001B[0mbeta_r\u001B[0m\u001B[1;33m=\u001B[0m\u001B[0mbeta_r\u001B[0m\u001B[1;33m,\u001B[0m \u001B[0mlr_f\u001B[0m\u001B[1;33m=\u001B[0m\u001B[0mlr_f\u001B[0m\u001B[1;33m,\u001B[0m \u001B[0mlr_r\u001B[0m\u001B[1;33m=\u001B[0m\u001B[0mlr_r\u001B[0m\u001B[1;33m,\u001B[0m\u001B[1;33m\u001B[0m\u001B[1;33m\u001B[0m\u001B[0m\n\u001B[1;32m--> 182\u001B[1;33m                                   avg_frac_r=avg_frac_r, stop_frac_r=stop_frac_r)\n\u001B[0m\u001B[0;32m    183\u001B[0m \u001B[1;33m\u001B[0m\u001B[0m\n\u001B[0;32m    184\u001B[0m         \u001B[0mregret_list\u001B[0m\u001B[1;33m[\u001B[0m\u001B[0mi\u001B[0m\u001B[1;33m,\u001B[0m \u001B[1;33m:\u001B[0m\u001B[1;33m]\u001B[0m \u001B[1;33m=\u001B[0m \u001B[0mnp\u001B[0m\u001B[1;33m.\u001B[0m\u001B[0marray\u001B[0m\u001B[1;33m(\u001B[0m\u001B[0mregrets\u001B[0m\u001B[1;33m)\u001B[0m\u001B[1;33m\u001B[0m\u001B[1;33m\u001B[0m\u001B[0m\n",
      "\u001B[1;32m~\\Desktop\\masters\\thesis material\\paper-optimization-algorithm\\mse\\steps.py\u001B[0m in \u001B[0;36malgorithm\u001B[1;34m(sigma, S, m, r, beta_f, beta_r, T_r, lr_f, lr_r, avg_frac_r, stop_frac_r)\u001B[0m\n\u001B[0;32m    147\u001B[0m         new_R, p, o = find_new_R(sigma=sigma, R=R, f=f, T=T_r,\n\u001B[0;32m    148\u001B[0m                                  \u001B[0mlr\u001B[0m\u001B[1;33m=\u001B[0m\u001B[0mlr_r\u001B[0m\u001B[1;33m,\u001B[0m \u001B[0mbeta_r\u001B[0m\u001B[1;33m=\u001B[0m\u001B[0mbeta_r\u001B[0m\u001B[1;33m,\u001B[0m \u001B[0mbeta_f\u001B[0m\u001B[1;33m=\u001B[0m\u001B[0mbeta_f\u001B[0m\u001B[1;33m,\u001B[0m\u001B[1;33m\u001B[0m\u001B[1;33m\u001B[0m\u001B[0m\n\u001B[1;32m--> 149\u001B[1;33m                                  stop_frac=stop_frac_r, avg_frac=avg_frac_r)\n\u001B[0m\u001B[0;32m    150\u001B[0m         \u001B[0mnew_R\u001B[0m \u001B[1;33m=\u001B[0m \u001B[0mnp\u001B[0m\u001B[1;33m.\u001B[0m\u001B[0mreal\u001B[0m\u001B[1;33m(\u001B[0m\u001B[0mnew_R\u001B[0m\u001B[1;33m)\u001B[0m\u001B[1;33m\u001B[0m\u001B[1;33m\u001B[0m\u001B[0m\n\u001B[0;32m    151\u001B[0m         \u001B[0mR\u001B[0m\u001B[1;33m.\u001B[0m\u001B[0mappend\u001B[0m\u001B[1;33m(\u001B[0m\u001B[0mnew_R\u001B[0m\u001B[1;33m)\u001B[0m\u001B[1;33m\u001B[0m\u001B[1;33m\u001B[0m\u001B[0m\n",
      "\u001B[1;32m~\\Desktop\\masters\\thesis material\\paper-optimization-algorithm\\mse\\steps.py\u001B[0m in \u001B[0;36mfind_new_R\u001B[1;34m(sigma, R, f, T, beta_f, beta_r, avg_frac, stop_frac, lr)\u001B[0m\n\u001B[0;32m     88\u001B[0m \u001B[1;33m\u001B[0m\u001B[0m\n\u001B[0;32m     89\u001B[0m         \u001B[0mQ\u001B[0m \u001B[1;33m=\u001B[0m \u001B[0moptimal_Q\u001B[0m\u001B[1;33m(\u001B[0m\u001B[0msigma\u001B[0m\u001B[1;33m=\u001B[0m\u001B[0msigma\u001B[0m\u001B[1;33m,\u001B[0m \u001B[0mR\u001B[0m\u001B[1;33m=\u001B[0m\u001B[0mR_pool\u001B[0m\u001B[1;33m,\u001B[0m \u001B[0mf\u001B[0m\u001B[1;33m=\u001B[0m\u001B[0mf\u001B[0m\u001B[1;33m)\u001B[0m\u001B[1;33m\u001B[0m\u001B[1;33m\u001B[0m\u001B[0m\n\u001B[1;32m---> 90\u001B[1;33m         \u001B[0mL\u001B[0m \u001B[1;33m=\u001B[0m \u001B[0mcalc_loss_matrix\u001B[0m\u001B[1;33m(\u001B[0m\u001B[0msigma\u001B[0m\u001B[1;33m=\u001B[0m\u001B[0msigma\u001B[0m\u001B[1;33m,\u001B[0m \u001B[0mR\u001B[0m\u001B[1;33m=\u001B[0m\u001B[0mR_pool\u001B[0m\u001B[1;33m,\u001B[0m \u001B[0mQ\u001B[0m\u001B[1;33m=\u001B[0m\u001B[0mQ\u001B[0m\u001B[1;33m,\u001B[0m \u001B[0mf\u001B[0m\u001B[1;33m=\u001B[0m\u001B[0mf\u001B[0m\u001B[1;33m)\u001B[0m\u001B[1;33m\u001B[0m\u001B[1;33m\u001B[0m\u001B[0m\n\u001B[0m\u001B[0;32m     91\u001B[0m \u001B[1;33m\u001B[0m\u001B[0m\n\u001B[0;32m     92\u001B[0m         \u001B[1;32mif\u001B[0m \u001B[0mt\u001B[0m \u001B[1;33m<\u001B[0m \u001B[0mT_stop\u001B[0m\u001B[1;33m:\u001B[0m\u001B[1;33m\u001B[0m\u001B[1;33m\u001B[0m\u001B[0m\n",
      "\u001B[1;32m~\\Desktop\\masters\\thesis material\\paper-optimization-algorithm\\mse\\utils.py\u001B[0m in \u001B[0;36mcalc_loss_matrix\u001B[1;34m(sigma, R, Q, f)\u001B[0m\n\u001B[0;32m     53\u001B[0m \u001B[1;33m\u001B[0m\u001B[0m\n\u001B[0;32m     54\u001B[0m \u001B[1;32mdef\u001B[0m \u001B[0mcalc_loss_matrix\u001B[0m\u001B[1;33m(\u001B[0m\u001B[0msigma\u001B[0m\u001B[1;33m,\u001B[0m \u001B[0mR\u001B[0m\u001B[1;33m,\u001B[0m \u001B[0mQ\u001B[0m\u001B[1;33m,\u001B[0m \u001B[0mf\u001B[0m\u001B[1;33m)\u001B[0m\u001B[1;33m:\u001B[0m\u001B[1;33m\u001B[0m\u001B[1;33m\u001B[0m\u001B[0m\n\u001B[1;32m---> 55\u001B[1;33m     \u001B[0mlosses_matrix\u001B[0m \u001B[1;33m=\u001B[0m \u001B[0mnp\u001B[0m\u001B[1;33m.\u001B[0m\u001B[0mzeros\u001B[0m\u001B[1;33m(\u001B[0m\u001B[1;33m[\u001B[0m\u001B[0mlen\u001B[0m\u001B[1;33m(\u001B[0m\u001B[0mR\u001B[0m\u001B[1;33m)\u001B[0m\u001B[1;33m,\u001B[0m \u001B[0mlen\u001B[0m\u001B[1;33m(\u001B[0m\u001B[0mf\u001B[0m\u001B[1;33m)\u001B[0m\u001B[1;33m]\u001B[0m\u001B[1;33m)\u001B[0m\u001B[1;33m\u001B[0m\u001B[1;33m\u001B[0m\u001B[0m\n\u001B[0m\u001B[0;32m     56\u001B[0m     \u001B[1;32mfor\u001B[0m \u001B[0mj\u001B[0m \u001B[1;32min\u001B[0m \u001B[0mrange\u001B[0m\u001B[1;33m(\u001B[0m\u001B[0mlen\u001B[0m\u001B[1;33m(\u001B[0m\u001B[0mR\u001B[0m\u001B[1;33m)\u001B[0m\u001B[1;33m)\u001B[0m\u001B[1;33m:\u001B[0m\u001B[1;33m\u001B[0m\u001B[1;33m\u001B[0m\u001B[0m\n\u001B[0;32m     57\u001B[0m         \u001B[0mR_j\u001B[0m \u001B[1;33m=\u001B[0m \u001B[0mR\u001B[0m\u001B[1;33m[\u001B[0m\u001B[0mj\u001B[0m\u001B[1;33m]\u001B[0m\u001B[1;33m\u001B[0m\u001B[1;33m\u001B[0m\u001B[0m\n",
      "\u001B[1;31mKeyboardInterrupt\u001B[0m: "
     ]
    }
   ],
   "source": [
    "for d_sigma in [5]:\n",
    "    d = 20\n",
    "    r = 3\n",
    "    m = 20\n",
    "    T_r = 100\n",
    "    times = 10\n",
    "    sigma_type = matrix_type.DIAG\n",
    "    s_type = matrix_type.IDENTITY\n",
    "\n",
    "    name = f\"optuna_optimization_d={d}_r={r}_sigma={sigma_type}_s={s_type}_m={m}_Tr={T_r}_var={d_sigma}\"\n",
    "    study = optuna.create_study(study_name=f'{name}',\n",
    "                                storage=f'sqlite:///./../optuna/{name}.db ',\n",
    "                                direction='minimize', load_if_exists=True)\n",
    "    study.optimize(optuna_optimize_algorithm, n_trials=100)"
   ],
   "metadata": {
    "collapsed": false,
    "pycharm": {
     "name": "#%%\n"
    }
   }
  },
  {
   "cell_type": "code",
   "execution_count": null,
   "outputs": [],
   "source": [],
   "metadata": {
    "collapsed": false,
    "pycharm": {
     "name": "#%%\n"
    }
   }
  }
 ],
 "metadata": {
  "kernelspec": {
   "name": "pycharm-4f6c12d3",
   "language": "python",
   "display_name": "PyCharm (paper-optimization-algorithm)"
  },
  "language_info": {
   "codemirror_mode": {
    "name": "ipython",
    "version": 2
   },
   "file_extension": ".py",
   "mimetype": "text/x-python",
   "name": "python",
   "nbconvert_exporter": "python",
   "pygments_lexer": "ipython2",
   "version": "2.7.6"
  }
 },
 "nbformat": 4,
 "nbformat_minor": 0
}