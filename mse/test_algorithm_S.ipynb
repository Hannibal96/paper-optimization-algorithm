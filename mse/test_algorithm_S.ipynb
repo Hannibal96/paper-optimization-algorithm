{
 "cells": [
  {
   "cell_type": "code",
   "execution_count": 1,
   "metadata": {
    "collapsed": true
   },
   "outputs": [],
   "source": [
    "import numpy as np\n",
    "from steps import *\n",
    "from tqdm import tqdm\n",
    "from optimal import *\n",
    "import matplotlib.pyplot as plt\n",
    "import optuna\n",
    "import pickle"
   ]
  },
  {
   "cell_type": "code",
   "execution_count": 2,
   "outputs": [
    {
     "name": "stderr",
     "output_type": "stream",
     "text": [
      "\u001B[32m[I 2023-05-17 18:24:57,605]\u001B[0m Using an existing study with name 'optuna_optimization_d=20_r=5_sigma=matrix_type.DIAG_s=matrix_type.IDENTITY_m=20_Tr=100_var=3' instead of creating a new one.\u001B[0m\n"
     ]
    }
   ],
   "source": [
    "d = 20\n",
    "opt_r = 5\n",
    "m = 20\n",
    "T_r = 100\n",
    "times = 10\n",
    "opt_sigma = 3\n",
    "sigma_type = matrix_type.DIAG\n",
    "s_type = matrix_type.IDENTITY\n",
    "\n",
    "name = f\"optuna_optimization_d={d}_r={opt_r}_sigma={sigma_type}_s={s_type}_m={m}_Tr={T_r}_var={opt_sigma}\"\n",
    "study = optuna.create_study(study_name=f'{name}',\n",
    "                            storage=f'sqlite:///./../optuna/{name}.db ',\n",
    "                            direction='minimize', load_if_exists=True)"
   ],
   "metadata": {
    "collapsed": false,
    "pycharm": {
     "name": "#%%\n"
    }
   }
  },
  {
   "cell_type": "code",
   "execution_count": 3,
   "outputs": [
    {
     "name": "stdout",
     "output_type": "stream",
     "text": [
      "*** 0.0 ***\n",
      "S regret = 0.15558600399351336 ; basic regret = 0.16043493479735182\n",
      "S regret = 0.19431455629567118 ; basic regret = 0.2124819704658281\n",
      "S regret = 0.33809947112211236 ; basic regret = 0.3436769422958251\n",
      "S regret = 0.0469907552462368 ; basic regret = 0.05066326826911868\n",
      "S regret = 0.09558717721626898 ; basic regret = 0.09401100844134333\n",
      "S regret = 0.3493184297768727 ; basic regret = 0.3531782848854095\n",
      "S regret = 0.4592695122698631 ; basic regret = 0.45765713359493054\n",
      "S regret = 0.4788338874435661 ; basic regret = 0.4651783626491871\n",
      "S regret = 0.1294755710101225 ; basic regret = 0.1422006551438598\n",
      "S regret = 0.2557790911667975 ; basic regret = 0.27061869468045785\n",
      "*** 0.5 ***\n",
      "S regret = 0.12703909468013358 ; basic regret = 0.15861922470239326\n",
      "S regret = 0.2066061416971697 ; basic regret = 0.2669209548739254\n",
      "S regret = 0.34663622119592324 ; basic regret = 0.483736056370266\n",
      "S regret = 0.06572414063309892 ; basic regret = 0.08317711795330959\n",
      "S regret = 0.05313204769812976 ; basic regret = 0.06323215030864836\n",
      "S regret = 0.015288182067159263 ; basic regret = 0.02834165069894723\n",
      "S regret = 0.04451041915852538 ; basic regret = 0.06558621706221551\n",
      "S regret = 0.061418039584428555 ; basic regret = 0.052395903897207566\n",
      "S regret = 0.050513661022982825 ; basic regret = 0.07678452987031269\n",
      "S regret = 0.3277808531063998 ; basic regret = 0.5095119209368975\n",
      "*** 1.0 ***\n",
      "S regret = 0.02934773090328503 ; basic regret = 0.010737390820704663\n",
      "S regret = 0.09866172378301603 ; basic regret = 0.2062037545779433\n",
      "S regret = 0.13803297994733232 ; basic regret = 0.473319129218757\n",
      "S regret = 0.09021981365775776 ; basic regret = 0.3970313282392212\n",
      "S regret = 0.3029838073449416 ; basic regret = 0.4634596442077279\n",
      "S regret = 0.00790649337678426 ; basic regret = 0.010096029968477825\n",
      "S regret = 0.09014318663455198 ; basic regret = 0.09436246764464536\n",
      "S regret = 0.13021572544739174 ; basic regret = 0.3103643564117302\n",
      "S regret = 0.02499590007068911 ; basic regret = 0.05108849382425264\n",
      "S regret = 0.1431401399523933 ; basic regret = 0.28131437198482145\n",
      "*** 1.5 ***\n",
      "S regret = 0.1046426646238174 ; basic regret = 0.41211454437784206\n",
      "S regret = 0.12326704820341713 ; basic regret = 0.465245499975248\n",
      "S regret = 0.0817253818670604 ; basic regret = 0.0521620197058449\n",
      "S regret = 0.01564654327780888 ; basic regret = 0.013126445836489746\n",
      "S regret = 0.03297217737171058 ; basic regret = 0.08167603568149574\n",
      "S regret = 0.10437172845815368 ; basic regret = 0.12092443818202163\n",
      "S regret = 0.0505309364743789 ; basic regret = 0.05208331781155867\n",
      "S regret = 0.004882924341468642 ; basic regret = 0.006960749435189938\n",
      "S regret = 0.15251672636217306 ; basic regret = 0.5912240491474783\n",
      "S regret = 0.10361760455041824 ; basic regret = 0.31543941627839994\n",
      "*** 2.0 ***\n",
      "S regret = 0.0820030096152988 ; basic regret = 0.08089752585422111\n",
      "S regret = 0.015617294895298606 ; basic regret = 0.027040181506417852\n",
      "S regret = 0.168298282927622 ; basic regret = 0.8982105087983234\n",
      "S regret = 0.002094442809183146 ; basic regret = 0.007682699589655316\n",
      "S regret = 0.032134288125396475 ; basic regret = 0.09224790462711355\n",
      "S regret = 0.1473899313806888 ; basic regret = 0.3199425483835058\n",
      "S regret = 0.022796100957190545 ; basic regret = 0.2307378973415465\n",
      "S regret = 0.3355243863217925 ; basic regret = 0.32588058198305103\n",
      "S regret = 0.0285823227951939 ; basic regret = 0.016509085334353444\n",
      "S regret = 0.014072157136179543 ; basic regret = 0.009577873593352843\n",
      "*** 2.5 ***\n",
      "S regret = 5.24658368426694e-06 ; basic regret = 3.539459284568562e-05\n",
      "S regret = 3.38737782004106e-05 ; basic regret = 0.0004114132516295871\n",
      "S regret = 2.8611479865354275e-05 ; basic regret = 0.19356357076320976\n",
      "S regret = 0.00022220144202971833 ; basic regret = 0.00026850954276086013\n",
      "S regret = 0.007221267455718692 ; basic regret = 0.0006407199320141309\n",
      "S regret = 0.023600034115468477 ; basic regret = 0.1842483281276474\n",
      "S regret = 0.0005163226552583127 ; basic regret = 0.0011055944085656434\n",
      "S regret = 0.02312775116156088 ; basic regret = 0.028838567534385615\n",
      "S regret = 0.04812404945246468 ; basic regret = 0.09356771890349834\n",
      "S regret = 0.03385394936354934 ; basic regret = 0.13363035511191895\n",
      "*** 3.0 ***\n",
      "S regret = 0.043945237509222246 ; basic regret = 0.14559552478983354\n",
      "S regret = 0.013505264146518963 ; basic regret = 0.01209973528743508\n",
      "S regret = 0.0009505029589374405 ; basic regret = 0.0035155877867085517\n",
      "S regret = 0.008514283293211496 ; basic regret = 0.06756613186735677\n",
      "S regret = 0.0003772972655417704 ; basic regret = 0.00024341526362090923\n",
      "S regret = 0.0028908405362033504 ; basic regret = 0.0309815586608938\n",
      "S regret = 0.00038221448997526725 ; basic regret = 0.0002209768377383296\n",
      "S regret = 6.936726186200298e-05 ; basic regret = 0.29454820529641224\n",
      "S regret = 0.008439942331206594 ; basic regret = 0.01799249374424627\n",
      "S regret = 0.009412377867730453 ; basic regret = 0.2030472847637077\n"
     ]
    }
   ],
   "source": [
    "s_skew_list = np.linspace(0, 3, 3*2+1)\n",
    "res_s = np.zeros([len(s_skew_list), times])\n",
    "res_basic = np.zeros([len(s_skew_list), times])\n",
    "\n",
    "for t, s_skew in enumerate(s_skew_list):\n",
    "    print(f\"*** {s_skew} ***\")\n",
    "    if s_skew == 0:\n",
    "        s_skew = 1e-10\n",
    "    basic_regrets, s_regrets = run_algorithm_S(d=d, r=opt_r, m=m, s_skew=s_skew,\n",
    "                                               sigma_type=matrix_type.DIAG, s_type=matrix_type.DIAG,\n",
    "                                               times=times, d_sigma=opt_sigma, T_r=T_r, **study.best_params)\n",
    "    res_basic[t] = basic_regrets\n",
    "    res_s[t] = s_regrets"
   ],
   "metadata": {
    "collapsed": false,
    "pycharm": {
     "name": "#%%\n"
    }
   }
  },
  {
   "cell_type": "code",
   "execution_count": 23,
   "outputs": [
    {
     "data": {
      "text/plain": "<Figure size 640x480 with 1 Axes>",
      "image/png": "[encoded data removed]"
     },
     "metadata": {},
     "output_type": "display_data"
    }
   ],
   "source": [
    "p = np.log(res_basic / res_s)\n",
    "plt.boxplot(p.T, positions=s_skew_list)\n",
    "plt.grid()\n",
    "plt.xlabel('s_skew')\n",
    "plt.ylabel(r'$\\log\\frac{basic-regret}{S-regret}$')\n",
    "plt.show()"
   ],
   "metadata": {
    "collapsed": false,
    "pycharm": {
     "name": "#%%\n"
    }
   }
  },
  {
   "cell_type": "code",
   "execution_count": 3,
   "outputs": [],
   "source": [],
   "metadata": {
    "collapsed": false,
    "pycharm": {
     "name": "#%%\n"
    }
   }
  }
 ],
 "metadata": {
  "kernelspec": {
   "name": "pycharm-4f6c12d3",
   "language": "python",
   "display_name": "PyCharm (paper-optimization-algorithm)"
  },
  "language_info": {
   "codemirror_mode": {
    "name": "ipython",
    "version": 2
   },
   "file_extension": ".py",
   "mimetype": "text/x-python",
   "name": "python",
   "nbconvert_exporter": "python",
   "pygments_lexer": "ipython2",
   "version": "2.7.6"
  }
 },
 "nbformat": 4,
 "nbformat_minor": 0
}